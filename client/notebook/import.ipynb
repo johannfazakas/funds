{
 "cells": [
  {
   "cell_type": "code",
   "metadata": {
    "collapsed": true,
    "ExecuteTime": {
     "end_time": "2024-10-01T07:15:35.736743Z",
     "start_time": "2024-10-01T07:15:33.484692Z"
    }
   },
   "source": [
    "@file:DependsOn(\"io.ktor:ktor-client-core:2.0.0\")\n",
    "@file:DependsOn(\"io.ktor:ktor-client-cio:2.0.0\")\n",
    "@file:DependsOn(\"io.ktor:ktor-client-content-negotiation:2.0.0\")\n",
    "@file:DependsOn(\"io.ktor:ktor-serialization-kotlinx-json:2.0.0\")\n",
    "@file:DependsOn(\"ro.jf.funds:import-sdk:1.0.0\")\n",
    "@file:DependsOn(\"ro.jf.funds:import-api:1.0.0\")\n",
    "\n",
    "import io.ktor.client.*\n",
    "import io.ktor.client.engine.cio.*\n",
    "import io.ktor.client.plugins.contentnegotiation.*\n",
    "import io.ktor.client.request.*\n",
    "import io.ktor.client.request.forms.*\n",
    "import io.ktor.serialization.kotlinx.json.*\n",
    "import kotlinx.serialization.Serializable\n",
    "import kotlinx.serialization.json.Json\n",
    "import ro.jf.funds.importer.sdk.ImportSdk\n",
    "\n",
    "val httpClient = HttpClient(CIO) {\n",
    "    install(ContentNegotiation) {\n",
    "        json(Json {\n",
    "            prettyPrint = true\n",
    "            isLenient = true\n",
    "        })\n",
    "    }\n",
    "}\n",
    "\n",
    "val importService = ImportSdk(httpClient)"
   ],
   "outputs": [],
   "execution_count": 1
  },
  {
   "metadata": {
    "ExecuteTime": {
     "end_time": "2024-10-01T07:17:11.370781Z",
     "start_time": "2024-10-01T07:17:10.885006Z"
    }
   },
   "cell_type": "code",
   "source": [
    "import kotlinx.coroutines.runBlocking\n",
    "import ro.jf.funds.importer.api.model.*\n",
    "import java.io.File\n",
    "import java.util.*\n",
    "import java.util.UUID.randomUUID\n",
    "\n",
    "val userId = randomUUID()\n",
    "val csvFile = File(\"../../data/playground/csv-v2.csv\")\n",
    "val importConfiguration = ImportConfigurationTO(\n",
    "    keys = KeysTO(\n",
    "        accountName = \"cont\",\n",
    "        currency = \"valuta\",\n",
    "        amount = \"suma\",\n",
    "        date = \"data\"\n",
    "    ),\n",
    "    formatting = FormattingTO(\n",
    "        csvDelimiter = \";\",\n",
    "        dateTimeFormat = \"yyyy-MM-dd'T'HH:mm\",\n",
    "        locale = Locale.FRENCH\n",
    "    ),\n",
    "    transactionIdentification = TransactionIdentificationTO(\n",
    "        conditions = listOf(\n",
    "            TransactionConditionTO.ColumnEquality(\"tranzactie\"),\n",
    "            TransactionConditionTO.ColumnConstant(\"tip\", \"TRANSFER\"),\n",
    "            TransactionConditionTO.NumericalAbsoluteEquality(\"suma\")\n",
    "        )\n",
    "    )\n",
    ")\n",
    "val response = runBlocking { importService.import(userId, csvFile, importConfiguration) }\n",
    "response"
   ],
   "outputs": [
    {
     "data": {
      "text/plain": [
       "ImportResponse(response=Imported in service)"
      ]
     },
     "execution_count": 3,
     "metadata": {},
     "output_type": "execute_result"
    }
   ],
   "execution_count": 3
  },
  {
   "metadata": {},
   "cell_type": "markdown",
   "source": ""
  }
 ],
 "metadata": {
  "kernelspec": {
   "display_name": "Kotlin",
   "language": "kotlin",
   "name": "kotlin"
  },
  "language_info": {
   "name": "kotlin",
   "version": "1.9.23",
   "mimetype": "text/x-kotlin",
   "file_extension": ".kt",
   "pygments_lexer": "kotlin",
   "codemirror_mode": "text/x-kotlin",
   "nbconvert_exporter": ""
  }
 },
 "nbformat": 4,
 "nbformat_minor": 0
}
