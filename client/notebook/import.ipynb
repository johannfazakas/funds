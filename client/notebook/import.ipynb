{
 "cells": [
  {
   "cell_type": "code",
   "metadata": {
    "collapsed": true,
    "ExecuteTime": {
     "end_time": "2024-09-26T13:40:48.629390Z",
     "start_time": "2024-09-26T13:40:47.174943Z"
    }
   },
   "source": [
    "@file:DependsOn(\"io.ktor:ktor-client-core:2.0.0\")\n",
    "@file:DependsOn(\"io.ktor:ktor-client-cio:2.0.0\")\n",
    "@file:DependsOn(\"io.ktor:ktor-client-content-negotiation:2.0.0\")\n",
    "@file:DependsOn(\"io.ktor:ktor-serialization-kotlinx-json:2.0.0\")\n",
    "@file:DependsOn(\"ro.jf.funds:import-sdk:1.0.0\")\n",
    "@file:DependsOn(\"ro.jf.funds:import-api:1.0.0\")\n",
    "\n",
    "import io.ktor.client.*\n",
    "import io.ktor.client.engine.cio.*\n",
    "import io.ktor.client.plugins.contentnegotiation.*\n",
    "import io.ktor.client.request.*\n",
    "import io.ktor.client.request.forms.*\n",
    "import io.ktor.serialization.kotlinx.json.*\n",
    "import kotlinx.serialization.Serializable\n",
    "import kotlinx.serialization.json.Json\n",
    "import ro.jf.funds.importer.sdk.ImportSdk\n",
    "\n",
    "val httpClient = HttpClient(CIO) {\n",
    "    install(ContentNegotiation) {\n",
    "        json(Json {\n",
    "            prettyPrint = true\n",
    "            isLenient = true\n",
    "        })\n",
    "    }\n",
    "}\n",
    "\n",
    "val importService = ImportSdk(httpClient)"
   ],
   "outputs": [],
   "execution_count": 1
  },
  {
   "metadata": {
    "ExecuteTime": {
     "end_time": "2024-09-26T13:41:06.934463Z",
     "start_time": "2024-09-26T13:40:51.511698Z"
    }
   },
   "cell_type": "code",
   "source": [
    "import io.ktor.client.call.*\n",
    "import io.ktor.client.request.forms.*\n",
    "import io.ktor.http.*\n",
    "import java.util.UUID.randomUUID\n",
    "import java.io.File\n",
    "import kotlinx.coroutines.runBlocking\n",
    "import ro.jf.funds.importer.api.model.CsvFormattingTO\n",
    "\n",
    "val userId = randomUUID()\n",
    "val csvFile = File(\"../../data/playground/some-csv.csv\")\n",
    "val csvFormatting = CsvFormattingTO(delimiter = \";\")\n",
    "val response = runBlocking { importService.import(userId, csvFile, csvFormatting) }\n",
    "response"
   ],
   "outputs": [
    {
     "ename": "io.ktor.client.plugins.HttpRequestTimeoutException",
     "evalue": "Request timeout has expired [url=http://localhost:5207/bk-api/import/v1/imports, request_timeout=unknown ms]",
     "output_type": "error",
     "traceback": [
      "io.ktor.client.plugins.HttpRequestTimeoutException: Request timeout has expired [url=http://localhost:5207/bk-api/import/v1/imports, request_timeout=unknown ms]",
      "\tat io.ktor.client.engine.cio.EndpointKt$setupTimeout$timeoutJob$1.invokeSuspend(Endpoint.kt:307)",
      "\tat kotlin.coroutines.jvm.internal.BaseContinuationImpl.resumeWith(ContinuationImpl.kt:33)",
      "\tat kotlinx.coroutines.DispatchedTask.run(DispatchedTask.kt:106)",
      "\tat kotlinx.coroutines.scheduling.CoroutineScheduler.runSafely(CoroutineScheduler.kt:570)",
      "\tat kotlinx.coroutines.scheduling.CoroutineScheduler$Worker.executeTask(CoroutineScheduler.kt:750)",
      "\tat kotlinx.coroutines.scheduling.CoroutineScheduler$Worker.runWorker(CoroutineScheduler.kt:677)",
      "\tat kotlinx.coroutines.scheduling.CoroutineScheduler$Worker.run(CoroutineScheduler.kt:664)",
      "",
      "io.ktor.client.plugins.HttpRequestTimeoutException: Request timeout has expired [url=http://localhost:5207/bk-api/import/v1/imports, request_timeout=unknown ms]",
      ""
     ]
    }
   ],
   "execution_count": 2
  },
  {
   "metadata": {},
   "cell_type": "markdown",
   "source": ""
  }
 ],
 "metadata": {
  "kernelspec": {
   "display_name": "Kotlin",
   "language": "kotlin",
   "name": "kotlin"
  },
  "language_info": {
   "name": "kotlin",
   "version": "1.9.23",
   "mimetype": "text/x-kotlin",
   "file_extension": ".kt",
   "pygments_lexer": "kotlin",
   "codemirror_mode": "text/x-kotlin",
   "nbconvert_exporter": ""
  }
 },
 "nbformat": 4,
 "nbformat_minor": 0
}
