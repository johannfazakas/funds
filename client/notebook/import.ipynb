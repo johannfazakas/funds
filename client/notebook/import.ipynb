{
 "cells": [
  {
   "cell_type": "code",
   "metadata": {
    "collapsed": true,
    "ExecuteTime": {
     "end_time": "2024-09-25T06:57:39.682771Z",
     "start_time": "2024-09-25T06:57:38.152439Z"
    }
   },
   "source": [
    "@file:DependsOn(\"io.ktor:ktor-client-core:2.0.0\")\n",
    "@file:DependsOn(\"io.ktor:ktor-client-cio:2.0.0\")\n",
    "@file:DependsOn(\"io.ktor:ktor-client-content-negotiation:2.0.0\")\n",
    "@file:DependsOn(\"io.ktor:ktor-serialization-kotlinx-json:2.0.0\")\n",
    "@file:DependsOn(\"ro.jf.funds:import-sdk:1.0.0\")\n",
    "@file:DependsOn(\"ro.jf.funds:import-api:1.0.0\")\n",
    "\n",
    "import io.ktor.client.*\n",
    "import io.ktor.client.engine.cio.*\n",
    "import io.ktor.client.plugins.contentnegotiation.*\n",
    "import io.ktor.client.request.*\n",
    "import io.ktor.client.request.forms.*\n",
    "import io.ktor.serialization.kotlinx.json.*\n",
    "import kotlinx.serialization.Serializable\n",
    "import kotlinx.serialization.json.Json\n",
    "import ro.jf.funds.importer.sdk.ImportSdk\n",
    "\n",
    "val httpClient = HttpClient(CIO) {\n",
    "    install(ContentNegotiation) {\n",
    "        json(Json {\n",
    "            prettyPrint = true\n",
    "            isLenient = true\n",
    "        })\n",
    "    }\n",
    "}\n",
    "\n",
    "val importService = ImportSdk(httpClient)"
   ],
   "outputs": [],
   "execution_count": 1
  },
  {
   "metadata": {
    "ExecuteTime": {
     "end_time": "2024-09-25T06:57:54.814399Z",
     "start_time": "2024-09-25T06:57:39.690907Z"
    }
   },
   "cell_type": "code",
   "source": [
    "import io.ktor.client.call.*\n",
    "import io.ktor.client.request.forms.*\n",
    "import io.ktor.http.*\n",
    "import java.util.UUID.randomUUID\n",
    "import java.io.File\n",
    "import kotlinx.coroutines.runBlocking\n",
    "\n",
    "val userId = randomUUID()\n",
    "val csvFile = File(\"../../data/playground/some-csv.csv\")\n",
    "val response = runBlocking { importService.import(userId, csvFile) }\n",
    "response"
   ],
   "outputs": [
    {
     "data": {
      "text/plain": [
       "ImportResponse(response=Imported in service)"
      ]
     },
     "execution_count": 2,
     "metadata": {},
     "output_type": "execute_result"
    }
   ],
   "execution_count": 2
  },
  {
   "metadata": {},
   "cell_type": "markdown",
   "source": ""
  }
 ],
 "metadata": {
  "kernelspec": {
   "display_name": "Kotlin",
   "language": "kotlin",
   "name": "kotlin"
  },
  "language_info": {
   "name": "kotlin",
   "version": "1.9.23",
   "mimetype": "text/x-kotlin",
   "file_extension": ".kt",
   "pygments_lexer": "kotlin",
   "codemirror_mode": "text/x-kotlin",
   "nbconvert_exporter": ""
  }
 },
 "nbformat": 4,
 "nbformat_minor": 0
}
