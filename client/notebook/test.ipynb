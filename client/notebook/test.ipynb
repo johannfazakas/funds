{
 "cells": [
  {
   "cell_type": "code",
   "metadata": {
    "collapsed": true,
    "ExecuteTime": {
     "end_time": "2025-05-16T04:39:30.713648Z",
     "start_time": "2025-05-16T04:39:29.008392Z"
    }
   },
   "source": [
    "@file:DependsOn(\"ro.jf.funds:account-sdk:1.0.0\")\n",
    "//%use serialization(1.5.1)\n",
    "//%classpath add maven org.jetbrains.kotlinx:kotlinx-serialization-json:1.5.1\n",
    "@file:DependsOn(\"org.jetbrains.kotlinx:kotlinx-serialization-json:1.8.1\")\n",
    "\n",
    "import kotlinx.serialization.json.Json\n",
    "import ro.jf.funds.account.api.model.AccountName\n",
    "import ro.jf.funds.account.api.model.CreateAccountTO\n",
    "import ro.jf.funds.commons.model.Currency\n",
    "\n",
    "Json.encodeToString(CreateAccountTO.serializer(), CreateAccountTO(AccountName(\"asdf\"), Currency.RON))"
   ],
   "outputs": [
    {
     "data": {
      "text/plain": [
       "{\"name\":\"asdf\",\"unit\":{\"type\":\"currency\",\"value\":\"RON\"}}"
      ]
     },
     "execution_count": 1,
     "metadata": {},
     "output_type": "execute_result"
    }
   ],
   "execution_count": 1
  }
 ],
 "metadata": {
  "kernelspec": {
   "display_name": "Kotlin",
   "language": "kotlin",
   "name": "kotlin"
  },
  "language_info": {
   "name": "kotlin",
   "version": "1.9.23",
   "mimetype": "text/x-kotlin",
   "file_extension": ".kt",
   "pygments_lexer": "kotlin",
   "codemirror_mode": "text/x-kotlin",
   "nbconvert_exporter": ""
  }
 },
 "nbformat": 4,
 "nbformat_minor": 0
}
