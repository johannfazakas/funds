{
 "cells": [
  {
   "cell_type": "code",
   "metadata": {
    "collapsed": true
   },
   "source": [
    "@file:DependsOn(\"ro.jf.funds:funds-notebook-client:1.0.0\")\n",
    "%use dataframe\n",
    "%use kandy\n",
    "\n",
    "import ro.jf.funds.client.notebook.*\n",
    "import ro.jf.funds.reporting.api.model.*\n",
    "\n",
    "val username = \"Johann-28.0\"\n",
    "\n",
    "val monthlyReportFrom = YearMonthTO(2019, 1)\n",
    "val monthlyReportTo = YearMonthTO(2021, 4)\n",
    "val monthlyReportForecastUntil = YearMonthTO(2021, 10)\n",
    "\n",
    "val yearlyReportFrom = 2019\n",
    "val yearlyReportTo = 2020\n",
    "val yearlyReportForecastUntil = 2022\n",
    "\n",
    "val fundName = \"Work Income\"\n",
    "val reportViewName = \"Work income report\"\n",
    "\n",
    "val REPORT_DATA_CONFIGURATION_YAML_FILE = \"../../data/provision/work-report-data-configuration.yaml\"\n",
    "\n",
    "val client = FundsClient()"
   ],
   "outputs": [],
   "execution_count": null
  },
  {
   "metadata": {},
   "cell_type": "code",
   "source": [
    "val user = client.ensureUserExists(username)\n",
    "user"
   ],
   "outputs": [],
   "execution_count": null
  },
  {
   "metadata": {},
   "cell_type": "code",
   "source": [
    "val reportView = client.createReportView(user, reportViewName, fundName, client.fromYaml(File(REPORT_DATA_CONFIGURATION_YAML_FILE), \"dataConfiguration\"))\n",
    "reportView"
   ],
   "outputs": [],
   "execution_count": null
  },
  {
   "metadata": {},
   "cell_type": "code",
   "source": "val monthlyReportData = client.getMonthlyReportViewData(user, reportViewName, monthlyReportFrom, monthlyReportTo, monthlyReportForecastUntil)\n",
   "outputs": [],
   "execution_count": null
  },
  {
   "metadata": {},
   "cell_type": "code",
   "source": "val yearlyReportData = client.getYearlyReportViewData(user, reportViewName, yearlyReportFrom, yearlyReportTo, yearlyReportForecastUntil)\n",
   "outputs": [],
   "execution_count": null
  },
  {
   "metadata": {},
   "cell_type": "code",
   "source": [
    "import kotlinx.datetime.DateTimeUnit\n",
    "import kotlinx.datetime.TimeZone\n",
    "import kotlinx.datetime.atStartOfDayIn\n",
    "import kotlinx.datetime.minus\n",
    "import org.jetbrains.kotlinx.kandy.ir.Plot\n",
    "import java.math.BigDecimal\n",
    "\n",
    "fun plotGroupedNetData(reportData: ReportDataTO, plotTitle: String, incomeGroupName: String, taxesGroup: String): Plot {\n",
    "    val dataFrame = dataFrameOf(\n",
    "        \"bucket\" to reportData.data.map<ReportDataItemTO, LocalDate> { it.timeBucket.from },\n",
    "        \"income\" to reportData.data.map { bucket ->\n",
    "            bucket.groupedNet!!.firstOrNull { it.group == incomeGroupName }?.net ?: BigDecimal.ZERO\n",
    "        },\n",
    "        \"taxes\" to reportData.data.map { bucket ->\n",
    "            bucket.groupedNet!!.firstOrNull { it.group == taxesGroup }?.net ?: BigDecimal.ZERO\n",
    "        },\n",
    "        \"net\" to reportData.data.map { bucket ->\n",
    "            bucket.groupedNet!!.mapNotNull { it.net }.fold(BigDecimal.ZERO) { acc, value -> acc + value }\n",
    "        }\n",
    "    )\n",
    "\n",
    "    return dataFrame\n",
    "        .plot {\n",
    "            line {\n",
    "                val values = dataFrame.get(\"net\").values.map { it as BigDecimal }\n",
    "                val forecastBorderMin = minOf(BigDecimal.ZERO, values.minOrNull() ?: BigDecimal.ZERO)\n",
    "                val forecastBorderMax = values.maxOrNull() ?: BigDecimal.ZERO\n",
    "                val forecastBorderX = when (reportData.interval.granularity) {\n",
    "                    TimeGranularityTO.YEARLY -> reportData.interval.toDate.minus(183, DateTimeUnit.DAY)\n",
    "                    TimeGranularityTO.MONTHLY -> reportData.interval.toDate.minus(15, DateTimeUnit.DAY)\n",
    "                    TimeGranularityTO.DAILY -> reportData.interval.toDate.minus(1, DateTimeUnit.DAY)\n",
    "                }\n",
    "\n",
    "                y(listOf(forecastBorderMin, forecastBorderMax))\n",
    "                x.constant(forecastBorderX.atStartOfDayIn(TimeZone.UTC).toEpochMilliseconds())\n",
    "            }\n",
    "            x(\"bucket\") {\n",
    "                val format = when (reportData.interval.granularity) {\n",
    "                    TimeGranularityTO.YEARLY -> \"%Y\"\n",
    "                    TimeGranularityTO.MONTHLY -> \"%b %Y\"\n",
    "                    TimeGranularityTO.DAILY -> \"%d %b %Y\"\n",
    "                }\n",
    "                axis.breaks(reportData.data.map { it.timeBucket.from.atStartOfDayIn(TimeZone.UTC).toEpochMilliseconds() }, format)\n",
    "            }\n",
    "            line {\n",
    "                y.constant(0)\n",
    "            }\n",
    "            line {\n",
    "                y(\"net\")\n",
    "                color = Color.YELLOW\n",
    "            }\n",
    "            line {\n",
    "                y(\"taxes\")\n",
    "                color = Color.RED\n",
    "            }\n",
    "            line {\n",
    "                y(\"income\")\n",
    "                color = Color.GREEN\n",
    "            }\n",
    "            layout {\n",
    "                title = plotTitle\n",
    "                size = 2400 to 1200\n",
    "            }\n",
    "        }\n",
    "\n",
    "}"
   ],
   "outputs": [],
   "execution_count": null
  },
  {
   "metadata": {},
   "cell_type": "code",
   "source": "plotGroupedNetData(yearlyReportData, \"Net income per year\", \"income\", \"taxes\")",
   "outputs": [],
   "execution_count": null
  },
  {
   "metadata": {},
   "cell_type": "code",
   "source": "plotGroupedNetData(monthlyReportData, \"Income per month\", \"income\", \"taxes\")",
   "outputs": [],
   "execution_count": null
  }
 ],
 "metadata": {
  "kernelspec": {
   "display_name": "Kotlin",
   "language": "kotlin",
   "name": "kotlin"
  },
  "language_info": {
   "name": "kotlin",
   "version": "1.9.23",
   "mimetype": "text/x-kotlin",
   "file_extension": ".kt",
   "pygments_lexer": "kotlin",
   "codemirror_mode": "text/x-kotlin",
   "nbconvert_exporter": ""
  }
 },
 "nbformat": 4,
 "nbformat_minor": 0
}
