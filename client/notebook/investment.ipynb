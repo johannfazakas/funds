{
 "cells": [
  {
   "cell_type": "code",
   "execution_count": null,
   "metadata": {
    "collapsed": true
   },
   "outputs": [],
   "source": [
    "@file:DependsOn(\"ro.jf.funds:funds-notebook-client:1.0.0\")\n",
    "%use dataframe\n",
    "%use kandy\n",
    "\n",
    "import ro.jf.funds.client.notebook.*\n",
    "import ro.jf.funds.reporting.api.model.*\n",
    "\n",
    "val username = \"Johann-42.1\"\n",
    "\n",
    "val monthlyReportFrom = YearMonthTO(2022, 3)\n",
    "val monthlyReportTo = YearMonthTO(2022, 6)\n",
    "val monthlyReportForecastUntil = YearMonthTO(2022, 12)\n",
    "\n",
    "val yearlyReportFrom = 2022\n",
    "val yearlyReportTo = 2022\n",
    "val yearlyReportForecastUntil = 2023\n",
    "\n",
    "val fundName = \"Investment\"\n",
    "val reportViewName = \"Investment report\"\n",
    "val REPORT_DATA_CONFIGURATION_YAML_FILE = \"../../data/provision/investment-report-data-configuration.yaml\"\n",
    "\n",
    "val client = FundsClient()"
   ]
  },
  {
   "metadata": {},
   "cell_type": "code",
   "outputs": [],
   "execution_count": null,
   "source": [
    "val user = client.ensureUserExists(username)\n",
    "user"
   ]
  },
  {
   "metadata": {},
   "cell_type": "code",
   "outputs": [],
   "execution_count": null,
   "source": [
    "val reportView = client.createReportView(user, reportViewName, fundName, client.fromYaml(File(REPORT_DATA_CONFIGURATION_YAML_FILE), \"dataConfiguration\"))\n",
    "reportView"
   ]
  },
  {
   "metadata": {},
   "cell_type": "code",
   "outputs": [],
   "execution_count": null,
   "source": "val monthlyReportData = client.getMonthlyReportViewData(user, reportViewName, monthlyReportFrom, monthlyReportTo, monthlyReportForecastUntil)"
  },
  {
   "metadata": {},
   "cell_type": "code",
   "outputs": [],
   "execution_count": null,
   "source": "monthlyReportData"
  }
 ],
 "metadata": {
  "kernelspec": {
   "display_name": "Kotlin",
   "language": "kotlin",
   "name": "kotlin"
  },
  "language_info": {
   "name": "kotlin",
   "version": "2.2.20-dev-4982",
   "mimetype": "text/x-kotlin",
   "file_extension": ".kt",
   "pygments_lexer": "kotlin",
   "codemirror_mode": "text/x-kotlin",
   "nbconvert_exporter": ""
  }
 },
 "nbformat": 4,
 "nbformat_minor": 0
}
