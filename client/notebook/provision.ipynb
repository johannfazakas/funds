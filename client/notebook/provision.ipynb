{
 "cells": [
  {
   "metadata": {
    "ExecuteTime": {
     "end_time": "2025-08-13T03:57:34.708783Z",
     "start_time": "2025-08-13T03:57:29.029717Z"
    }
   },
   "cell_type": "code",
   "source": [
    "@file:DependsOn(\"ro.jf.funds:funds-notebook-client:1.0.0\")\n",
    "%use dataframe\n",
    "\n",
    "import ro.jf.funds.client.notebook.*\n",
    "\n",
    "val username = \"Johann-46.15\"\n",
    "\n",
    "val client = FundsClient()\n"
   ],
   "outputs": [],
   "execution_count": 1
  },
  {
   "metadata": {
    "ExecuteTime": {
     "end_time": "2025-08-13T03:57:35.188232Z",
     "start_time": "2025-08-13T03:57:34.728238Z"
    }
   },
   "cell_type": "code",
   "source": [
    "val user = client.ensureUserExists(username)\n",
    "user"
   ],
   "outputs": [
    {
     "data": {
      "text/plain": [
       "UserTO(id=e2479bc4-6222-4e3e-a284-fa1d7625fe29, username=Johann-46.15)"
      ]
     },
     "execution_count": 2,
     "metadata": {},
     "output_type": "execute_result"
    }
   ],
   "execution_count": 2
  },
  {
   "metadata": {
    "collapsed": true,
    "ExecuteTime": {
     "end_time": "2025-08-13T03:57:35.345109Z",
     "start_time": "2025-08-13T03:57:35.303678Z"
    }
   },
   "cell_type": "code",
   "source": [
    "val ACCOUNTS_YAML_FILE = \"../../data/provision/accounts.yaml\"\n",
    "val FUNDS_YAML_FILE = \"../../data/provision/funds.yaml\"\n",
    "val INITIAL_BALANCE_YAML_FILE = \"../../data/provision/initial-balance.yaml\"\n",
    "val IMPORT_CONFIGURATION_JSON_FILE = \"../../data/provision/import-configuration.json\"\n",
    "val WALLET_IMPORT_CONFIGURATION_YAML_FILE = \"../../data/provision/wallet-import-configuration.yaml\"\n",
    "val INVESTMENT_IMPORT_CONFIGURATION_YAML_FILE = \"../../data/provision/investment-import-configuration.yaml\""
   ],
   "outputs": [],
   "execution_count": 3
  },
  {
   "metadata": {
    "ExecuteTime": {
     "end_time": "2025-08-13T03:57:37.353534Z",
     "start_time": "2025-08-13T03:57:35.552214Z"
    }
   },
   "cell_type": "code",
   "source": [
    "import ro.jf.funds.account.api.model.*\n",
    "\n",
    "val accounts = client.provisionAccounts(user, client.fromYaml(File(ACCOUNTS_YAML_FILE)))\n",
    "accounts.map { it.toString() }.joinToString(separator = \"\\n\")"
   ],
   "outputs": [
    {
     "data": {
      "text/plain": [
       "AccountTO(id=51349aeb-33d1-4b33-955d-408de2bade6e, name=Cash RON, unit=Currency(value=RON))\n",
       "AccountTO(id=40f93c72-f8eb-40fe-8618-c34a7ef1c16b, name=Cash EUR, unit=Currency(value=EUR))\n",
       "AccountTO(id=f42bb8cf-838a-4184-86fe-49b5db8fcc7d, name=Cash EUR-RON, unit=Currency(value=RON))\n",
       "AccountTO(id=777040ec-464a-43da-898d-6391e778b6ef, name=ING RON, unit=Currency(value=RON))\n",
       "AccountTO(id=6bf5b236-0966-4ec8-bd34-1612c80fb858, name=ING Economy, unit=Currency(value=RON))\n",
       "AccountTO(id=014bf3b5-005b-4e17-9872-d7c926ea77aa, name=Food Coupons, unit=Currency(value=RON))\n",
       "AccountTO(id=4aaa4f19-add8-456b-844b-0ea010973d89, name=Revolut RON, unit=Currency(value=RON))\n",
       "AccountTO(id=00529578-2fa4-4629-b803-1b5a7831c84e, name=Revolut EUR-RON, unit=Currency(value=RON))\n",
       "AccountTO(id=a36294a9-607d-4341-8154-5553e4d51f53, name=Other, unit=Currency(value=RON))\n",
       "AccountTO(id=8a988bb5-9985-4817-bec8-63f477bc30d2, name=BT RON, unit=Currency(value=RON))\n",
       "AccountTO(id=684f2b51-fea5-4d06-9729-ec4df4474aa8, name=BT EUR-RON, unit=Currency(value=RON))\n",
       "AccountTO(id=b466905d-2e9b-48b2-ad2f-0b346d03ff02, name=BT Economy RON, unit=Currency(value=RON))\n",
       "AccountTO(id=11450b34-461f-43bc-b3b1-6fb1e21642aa, name=BT Depozit RON, unit=Currency(value=RON))\n",
       "AccountTO(id=7eb35041-13b7-467d-a0f0-659e7108d098, name=BT Philocode RON, unit=Currency(value=RON))\n",
       "AccountTO(id=e6af4ef8-5e23-4703-b4ba-96665feb6108, name=XTB EUR, unit=Currency(value=EUR))\n",
       "AccountTO(id=c11cabff-170d-406a-b30c-ab21c05f026b, name=XTB EUNL, unit=Symbol(value=EUNL))\n",
       "AccountTO(id=c11d8dcf-276e-418d-a390-b59d1d88ad6f, name=XTB QDVE, unit=Symbol(value=QDVE))\n",
       "AccountTO(id=7617ee93-3759-441c-b0e3-f5ef088ab393, name=XTB IMAE, unit=Symbol(value=IMAE))\n",
       "AccountTO(id=b3ced90c-6ab8-4fb4-87d0-3f255cbb8858, name=XTB IS3N, unit=Symbol(value=IS3N))\n",
       "AccountTO(id=8fe2dcc1-a964-4610-9d71-07dea2ebfc85, name=XTB SXR8, unit=Symbol(value=SXR8))\n",
       "AccountTO(id=0c6b189c-be3a-444e-8f94-e2347069f542, name=XTB SUSW, unit=Symbol(value=SUSW))"
      ]
     },
     "execution_count": 4,
     "metadata": {},
     "output_type": "execute_result"
    }
   ],
   "execution_count": 4
  },
  {
   "metadata": {
    "ExecuteTime": {
     "end_time": "2025-08-13T03:57:38.467913Z",
     "start_time": "2025-08-13T03:57:37.379274Z"
    }
   },
   "cell_type": "code",
   "source": [
    "import ro.jf.funds.fund.api.model.*\n",
    "\n",
    "val funds = client.provisionFunds(user, client.fromYaml(File(FUNDS_YAML_FILE)))\n",
    "funds.map { it.toString() }.joinToString(separator = \"\\n\")"
   ],
   "outputs": [
    {
     "data": {
      "text/plain": [
       "FundTO(id=a8dd9d26-f9c8-4ec0-ab27-d8b1053145ab, name=Expenses)\n",
       "FundTO(id=61d1de39-9696-4bbc-a6df-dc12f482a323, name=Work Income)\n",
       "FundTO(id=5ae20143-140f-4208-afb1-3ed6be8cb6c4, name=Other Income)\n",
       "FundTO(id=dd89d0c4-cd89-4f8e-a6b5-9dc4080c0640, name=Savings)\n",
       "FundTO(id=90c02fa4-41c8-4a98-8ad4-e4369f27a6d0, name=Investments)"
      ]
     },
     "execution_count": 5,
     "metadata": {},
     "output_type": "execute_result"
    }
   ],
   "execution_count": 5
  },
  {
   "metadata": {
    "ExecuteTime": {
     "end_time": "2025-08-13T03:57:40.187241Z",
     "start_time": "2025-08-13T03:57:38.693139Z"
    }
   },
   "cell_type": "code",
   "source": [
    "import ro.jf.funds.fund.api.model.*\n",
    "\n",
    "val initialBalancesTransactions = client.provisionInitialBalances(user, accounts, funds, client.fromYaml(File(INITIAL_BALANCE_YAML_FILE)))\n",
    "initialBalancesTransactions.map { it.toString() }.joinToString(separator = \"\\n\")"
   ],
   "outputs": [
    {
     "data": {
      "text/plain": [
       "FundTransactionTO(id=14325830-bb77-49f3-a8f5-ef8e262daf8f, userId=e2479bc4-6222-4e3e-a284-fa1d7625fe29, dateTime=2018-12-31T00:00, records=[FundRecordTO(id=4d5d524a-58b1-49a7-8f07-b00310f6192f, fundId=a8dd9d26-f9c8-4ec0-ab27-d8b1053145ab, accountId=51349aeb-33d1-4b33-955d-408de2bade6e, amount=553.5, unit=Currency(value=RON), labels=[])])\n",
       "FundTransactionTO(id=d39f8184-61bc-41b0-a0b5-c1c43be60126, userId=e2479bc4-6222-4e3e-a284-fa1d7625fe29, dateTime=2018-12-31T00:00, records=[FundRecordTO(id=3d162401-7d8e-4377-a1e5-e25b610ef6a3, fundId=a8dd9d26-f9c8-4ec0-ab27-d8b1053145ab, accountId=014bf3b5-005b-4e17-9872-d7c926ea77aa, amount=45.96, unit=Currency(value=RON), labels=[])])\n",
       "FundTransactionTO(id=1ca55932-13ac-405b-b64c-e2760c575fd0, userId=e2479bc4-6222-4e3e-a284-fa1d7625fe29, dateTime=2018-12-31T00:00, records=[FundRecordTO(id=305fe195-9efd-4947-8fd4-30fd2862884b, fundId=a8dd9d26-f9c8-4ec0-ab27-d8b1053145ab, accountId=a36294a9-607d-4341-8154-5553e4d51f53, amount=3051.9, unit=Currency(value=RON), labels=[])])\n",
       "FundTransactionTO(id=79847f23-285c-4d7a-86a1-ba598e48a668, userId=e2479bc4-6222-4e3e-a284-fa1d7625fe29, dateTime=2018-12-31T00:00, records=[FundRecordTO(id=ca73f2c3-b675-44be-89b9-0f6a0fde7fb2, fundId=a8dd9d26-f9c8-4ec0-ab27-d8b1053145ab, accountId=8a988bb5-9985-4817-bec8-63f477bc30d2, amount=7708.46, unit=Currency(value=RON), labels=[])])\n",
       "FundTransactionTO(id=70818aa6-e828-44c5-91a7-df0f9b6cb0ab, userId=e2479bc4-6222-4e3e-a284-fa1d7625fe29, dateTime=2018-12-31T00:00, records=[FundRecordTO(id=cf13cf7e-a944-4e3e-a96e-f9999c1a2b61, fundId=a8dd9d26-f9c8-4ec0-ab27-d8b1053145ab, accountId=777040ec-464a-43da-898d-6391e778b6ef, amount=-3037.15, unit=Currency(value=RON), labels=[])])"
      ]
     },
     "execution_count": 6,
     "metadata": {},
     "output_type": "execute_result"
    }
   ],
   "execution_count": 6
  },
  {
   "metadata": {
    "ExecuteTime": {
     "end_time": "2025-08-13T03:57:44.753275Z",
     "start_time": "2025-08-13T03:57:40.294248Z"
    }
   },
   "cell_type": "code",
   "source": [
    "\n",
    "val investmentCsvFiles =\n",
    "    listOf(File(\"../../data/investment/2022\"))\n",
    "        .flatMap { it.listFiles()?.toList() ?: error(\"no files found\") }\n",
    "val importTask = client.importTransactions(user, client.fromYaml(File(INVESTMENT_IMPORT_CONFIGURATION_YAML_FILE)), investmentCsvFiles)\n",
    "importTask"
   ],
   "outputs": [
    {
     "data": {
      "text/plain": [
       "ImportTaskTO(taskId=1babf1f6-6e75-4695-a184-ff043931d84c, status=COMPLETED, reason=null)"
      ]
     },
     "execution_count": 7,
     "metadata": {},
     "output_type": "execute_result"
    }
   ],
   "execution_count": 7
  },
  {
   "metadata": {
    "ExecuteTime": {
     "end_time": "2025-08-13T03:57:56.926895Z",
     "start_time": "2025-08-13T03:57:44.869706Z"
    }
   },
   "cell_type": "code",
   "source": [
    "import ro.jf.funds.importer.api.model.*\n",
    "\n",
    "val csvFiles =\n",
    "    listOf(File(\"../../data/wallet/2019\"), File(\"../../data/wallet/2020\"), File(\"../../data/wallet/2021\"), File(\"../../data/wallet/2022\"))\n",
    "        .flatMap { it.listFiles()?.toList() ?: error(\"no files found\") }\n",
    "val importTask = client.importTransactions(user, client.fromYaml(File(WALLET_IMPORT_CONFIGURATION_YAML_FILE)), csvFiles)\n",
    "importTask"
   ],
   "outputs": [
    {
     "data": {
      "text/plain": [
       "ImportTaskTO(taskId=32a502f5-1ad9-4022-8860-f47d4d40dbd5, status=COMPLETED, reason=null)"
      ]
     },
     "execution_count": 8,
     "metadata": {},
     "output_type": "execute_result"
    }
   ],
   "execution_count": 8
  }
 ],
 "metadata": {
  "kernelspec": {
   "display_name": "Kotlin",
   "language": "kotlin",
   "name": "kotlin"
  },
  "language_info": {
   "name": "kotlin",
   "version": "1.9.23",
   "mimetype": "text/x-kotlin",
   "file_extension": ".kt",
   "pygments_lexer": "kotlin",
   "codemirror_mode": "text/x-kotlin",
   "nbconvert_exporter": ""
  },
  "ktnbPluginMetadata": {
   "projectDependencies": [
    "funds.commons-api"
   ]
  }
 },
 "nbformat": 4,
 "nbformat_minor": 0
}
