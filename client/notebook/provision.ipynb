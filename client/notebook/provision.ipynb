{
 "cells": [
  {
   "metadata": {
    "ExecuteTime": {
     "end_time": "2025-06-27T05:57:06.886119Z",
     "start_time": "2025-06-27T05:57:02.086853Z"
    }
   },
   "cell_type": "code",
   "source": [
    "@file:DependsOn(\"ro.jf.funds:funds-notebook-client:1.0.0\")\n",
    "%use dataframe\n",
    "\n",
    "import ro.jf.funds.client.notebook.*\n",
    "import kotlinx.coroutines.runBlocking\n",
    "\n",
    "val username = \"Johann-20.6\"\n",
    "\n",
    "val client = FundsClient()\n"
   ],
   "outputs": [],
   "execution_count": 1
  },
  {
   "metadata": {
    "ExecuteTime": {
     "end_time": "2025-06-27T05:57:11.023238Z",
     "start_time": "2025-06-27T05:57:06.907912Z"
    }
   },
   "cell_type": "code",
   "source": [
    "val user = runBlocking { client.ensureUserExists(username) }\n",
    "user"
   ],
   "outputs": [
    {
     "data": {
      "text/plain": [
       "UserTO(id=6c3aa5d6-7297-4415-89d4-bb2d9aca057e, username=Johann-20.6)"
      ]
     },
     "execution_count": 2,
     "metadata": {},
     "output_type": "execute_result"
    }
   ],
   "execution_count": 2
  },
  {
   "metadata": {
    "collapsed": true,
    "ExecuteTime": {
     "end_time": "2025-06-27T05:57:11.124260Z",
     "start_time": "2025-06-27T05:57:11.035084Z"
    }
   },
   "cell_type": "code",
   "source": [
    "val ACCOUNTS_YAML_FILE = \"../../data/provision/accounts.yaml\"\n",
    "val FUNDS_YAML_FILE = \"../../data/provision/funds.yaml\"\n",
    "val INITIAL_BALANCE_YAML_FILE = \"../../data/provision/initial-balance.yaml\"\n",
    "val IMPORT_CONFIGURATION_JSON_FILE = \"../../data/provision/import-configuration.json\"\n",
    "val IMPORT_CONFIGURATION_YAML_FILE = \"../../data/provision/import-configuration.yaml\"\n"
   ],
   "outputs": [],
   "execution_count": 3
  },
  {
   "metadata": {
    "ExecuteTime": {
     "end_time": "2025-06-27T05:57:16.983376Z",
     "start_time": "2025-06-27T05:57:11.129934Z"
    }
   },
   "cell_type": "code",
   "source": [
    "import ro.jf.funds.account.api.model.*\n",
    "\n",
    "val accounts = runBlocking { client.provisionAccounts(user, File(ACCOUNTS_YAML_FILE)) }\n",
    "accounts.map { it.toString() }.joinToString(separator = \"\\n\")"
   ],
   "outputs": [
    {
     "data": {
      "text/plain": [
       "AccountTO(id=d587ca0a-30b8-48c2-ae35-bc78e96e712f, name=Cash RON, unit=Currency(value=RON))\n",
       "AccountTO(id=6bac06ee-e6fe-4788-bd5b-2ebd647fb4fc, name=Cash EUR, unit=Currency(value=EUR))\n",
       "AccountTO(id=260eca8d-4b14-49fc-a844-72996b42ed07, name=ING RON, unit=Currency(value=RON))\n",
       "AccountTO(id=4aa33cd8-4e3b-4bda-8e6b-9fc068361756, name=ING Economy, unit=Currency(value=RON))\n",
       "AccountTO(id=69a63796-0e51-468f-b463-f302f0d52987, name=Food Coupons, unit=Currency(value=RON))\n",
       "AccountTO(id=0017b8a4-355b-4457-925f-f2153a5f5e6b, name=Revolut RON, unit=Currency(value=RON))\n",
       "AccountTO(id=33699089-fb6e-4c6c-adae-919702ba7500, name=Other, unit=Currency(value=RON))\n",
       "AccountTO(id=d5494054-86e8-4965-8f17-fb99460f519f, name=BT RON, unit=Currency(value=RON))\n",
       "AccountTO(id=ee3cf7c6-bfe5-4e18-9398-d7d95ea65482, name=BT Economy RON, unit=Currency(value=RON))"
      ]
     },
     "execution_count": 4,
     "metadata": {},
     "output_type": "execute_result"
    }
   ],
   "execution_count": 4
  },
  {
   "metadata": {
    "ExecuteTime": {
     "end_time": "2025-06-27T05:57:20.647706Z",
     "start_time": "2025-06-27T05:57:17.010583Z"
    }
   },
   "cell_type": "code",
   "source": [
    "import ro.jf.funds.fund.api.model.*\n",
    "\n",
    "val funds = runBlocking { client.provisionFunds(user, File(FUNDS_YAML_FILE)) }\n",
    "funds.map { it.toString() }.joinToString(separator = \"\\n\")"
   ],
   "outputs": [
    {
     "data": {
      "text/plain": [
       "FundTO(id=9d1d2cc4-db9f-4bf7-89c6-007764eb33a6, name=Expenses)\n",
       "FundTO(id=c1f38498-4e8b-4b26-b9c3-a0131f4e3d5b, name=Work Income)\n",
       "FundTO(id=95f6ab54-4161-4939-a22e-66e0f265b7b2, name=Savings)\n",
       "FundTO(id=416d6e9b-b150-46c3-919c-2002fca08a7c, name=Gifts)"
      ]
     },
     "execution_count": 5,
     "metadata": {},
     "output_type": "execute_result"
    }
   ],
   "execution_count": 5
  },
  {
   "metadata": {
    "ExecuteTime": {
     "end_time": "2025-06-27T05:57:24.695901Z",
     "start_time": "2025-06-27T05:57:20.707319Z"
    }
   },
   "cell_type": "code",
   "source": [
    "import ro.jf.funds.fund.api.model.*\n",
    "\n",
    "val initialBalancesTransactions = runBlocking {\n",
    "    client.provisionInitialBalances(user, accounts, funds, File(INITIAL_BALANCE_YAML_FILE))\n",
    "}\n",
    "initialBalancesTransactions.map { it.toString() }.joinToString(separator = \"\\n\")"
   ],
   "outputs": [
    {
     "data": {
      "text/plain": [
       "[FundTransactionTO(id=8ef7a7a6-fe9c-4f8a-84df-22346612fdd0, userId=6c3aa5d6-7297-4415-89d4-bb2d9aca057e, dateTime=2018-12-31T00:00, records=[FundRecordTO(id=effc3bda-7cba-4ed8-a9ee-cb5548139442, fundId=9d1d2cc4-db9f-4bf7-89c6-007764eb33a6, accountId=d587ca0a-30b8-48c2-ae35-bc78e96e712f, amount=474.5, unit=Currency(value=RON), labels=[])]), FundTransactionTO(id=44d997cb-0c47-4446-b808-2e4544b1b94c, userId=6c3aa5d6-7297-4415-89d4-bb2d9aca057e, dateTime=2018-12-31T00:00, records=[FundRecordTO(id=ccae8566-afe5-45ed-b426-38352e241247, fundId=9d1d2cc4-db9f-4bf7-89c6-007764eb33a6, accountId=69a63796-0e51-468f-b463-f302f0d52987, amount=45.96, unit=Currency(value=RON), labels=[])]), FundTransactionTO(id=442bee8a-b700-4909-8520-43f4630597ae, userId=6c3aa5d6-7297-4415-89d4-bb2d9aca057e, dateTime=2018-12-31T00:00, records=[FundRecordTO(id=a834d829-644f-4eec-a86e-d4cb6926ff9a, fundId=9d1d2cc4-db9f-4bf7-89c6-007764eb33a6, accountId=33699089-fb6e-4c6c-adae-919702ba7500, amount=3051.9, unit=Currency(value=RON), labels=[])]), FundTransactionTO(id=162cb9c7-f8ac-4a44-94b6-2f48a843c868, userId=6c3aa5d6-7297-4415-89d4-bb2d9aca057e, dateTime=2018-12-31T00:00, records=[FundRecordTO(id=b45e31f5-9a68-4d01-92f4-a1ab3f5fae28, fundId=9d1d2cc4-db9f-4bf7-89c6-007764eb33a6, accountId=d5494054-86e8-4965-8f17-fb99460f519f, amount=2194.13, unit=Currency(value=RON), labels=[])])]"
      ]
     },
     "execution_count": 6,
     "metadata": {},
     "output_type": "execute_result"
    }
   ],
   "execution_count": 6
  },
  {
   "metadata": {
    "ExecuteTime": {
     "end_time": "2025-06-27T05:58:00.733356Z",
     "start_time": "2025-06-27T05:57:24.706317Z"
    }
   },
   "cell_type": "code",
   "source": [
    "import ro.jf.funds.importer.api.model.*\n",
    "\n",
    "val importTask = runBlocking {\n",
    "    val csvFiles =\n",
    "        listOf(File(\"../../data/wallet/2019\"), File(\"../../data/wallet/2020\"))\n",
    "            .flatMap { it.listFiles()?.toList() ?: error(\"no files found\") }\n",
    "    client.importTransactions(user, File(IMPORT_CONFIGURATION_YAML_FILE), csvFiles)\n",
    "}\n",
    "importTask\n"
   ],
   "outputs": [
    {
     "data": {
      "text/plain": [
       "ImportTaskTO(taskId=d09302e2-dd8d-49cd-b350-2308fe8ef0c4, status=COMPLETED, reason=null)"
      ]
     },
     "execution_count": 7,
     "metadata": {},
     "output_type": "execute_result"
    }
   ],
   "execution_count": 7
  }
 ],
 "metadata": {
  "kernelspec": {
   "display_name": "Kotlin",
   "language": "kotlin",
   "name": "kotlin"
  },
  "language_info": {
   "name": "kotlin",
   "version": "1.9.23",
   "mimetype": "text/x-kotlin",
   "file_extension": ".kt",
   "pygments_lexer": "kotlin",
   "codemirror_mode": "text/x-kotlin",
   "nbconvert_exporter": ""
  },
  "ktnbPluginMetadata": {
   "projectDependencies": [
    "funds.commons-api"
   ]
  }
 },
 "nbformat": 4,
 "nbformat_minor": 0
}
