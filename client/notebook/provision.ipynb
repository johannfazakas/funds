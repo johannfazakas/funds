{
 "cells": [
  {
   "metadata": {
    "ExecuteTime": {
     "end_time": "2025-06-27T07:20:22.262344Z",
     "start_time": "2025-06-27T07:20:17.982839Z"
    }
   },
   "cell_type": "code",
   "source": [
    "@file:DependsOn(\"ro.jf.funds:funds-notebook-client:1.0.0\")\n",
    "%use dataframe\n",
    "\n",
    "import ro.jf.funds.client.notebook.*\n",
    "import kotlinx.coroutines.runBlocking\n",
    "\n",
    "val username = \"Johann-22.0\"\n",
    "\n",
    "val client = FundsClient()\n"
   ],
   "outputs": [],
   "execution_count": 1
  },
  {
   "metadata": {
    "ExecuteTime": {
     "end_time": "2025-06-27T07:20:23.216446Z",
     "start_time": "2025-06-27T07:20:22.273263Z"
    }
   },
   "cell_type": "code",
   "source": [
    "val user = runBlocking { client.ensureUserExists(username) }\n",
    "user"
   ],
   "outputs": [
    {
     "data": {
      "text/plain": [
       "UserTO(id=79b6742e-8a11-4d32-b1e9-e3527fc286a9, username=Johann-22.0)"
      ]
     },
     "execution_count": 2,
     "metadata": {},
     "output_type": "execute_result"
    }
   ],
   "execution_count": 2
  },
  {
   "metadata": {
    "collapsed": true,
    "ExecuteTime": {
     "end_time": "2025-06-27T07:20:23.258659Z",
     "start_time": "2025-06-27T07:20:23.223929Z"
    }
   },
   "cell_type": "code",
   "source": [
    "val ACCOUNTS_YAML_FILE = \"../../data/provision/accounts.yaml\"\n",
    "val FUNDS_YAML_FILE = \"../../data/provision/funds.yaml\"\n",
    "val INITIAL_BALANCE_YAML_FILE = \"../../data/provision/initial-balance.yaml\"\n",
    "val IMPORT_CONFIGURATION_JSON_FILE = \"../../data/provision/import-configuration.json\"\n",
    "val IMPORT_CONFIGURATION_YAML_FILE = \"../../data/provision/import-configuration.yaml\"\n"
   ],
   "outputs": [],
   "execution_count": 3
  },
  {
   "metadata": {
    "ExecuteTime": {
     "end_time": "2025-06-27T07:20:25.604533Z",
     "start_time": "2025-06-27T07:20:23.268533Z"
    }
   },
   "cell_type": "code",
   "source": [
    "import ro.jf.funds.account.api.model.*\n",
    "\n",
    "val accounts = runBlocking { client.provisionAccounts(user, File(ACCOUNTS_YAML_FILE)) }\n",
    "accounts.map { it.toString() }.joinToString(separator = \"\\n\")"
   ],
   "outputs": [
    {
     "data": {
      "text/plain": [
       "AccountTO(id=a7afa254-2c9a-47c9-8024-c8baee0e0c17, name=Cash RON, unit=Currency(value=RON))\n",
       "AccountTO(id=fa58a80a-8ef5-4b13-91eb-8fdc04ae74d0, name=Cash EUR, unit=Currency(value=EUR))\n",
       "AccountTO(id=50f9c261-0183-4c77-9042-c54fde938c65, name=ING RON, unit=Currency(value=RON))\n",
       "AccountTO(id=62c04db8-4cd1-4cd1-a8bd-8095808f982e, name=ING Economy, unit=Currency(value=RON))\n",
       "AccountTO(id=faf3dfbb-d0c7-403a-9d0b-9aec8e4d06b9, name=Food Coupons, unit=Currency(value=RON))\n",
       "AccountTO(id=8daeb672-3c7e-4d53-8417-62f88150a223, name=Revolut RON, unit=Currency(value=RON))\n",
       "AccountTO(id=818b5f7d-308a-43ef-a5ea-06e1b28cc928, name=Other, unit=Currency(value=RON))\n",
       "AccountTO(id=f23bc0e4-a56e-427b-8074-a9c210215e3e, name=BT RON, unit=Currency(value=RON))\n",
       "AccountTO(id=c90d28aa-d54b-496f-8cbc-da7cf86beb9e, name=BT Economy RON, unit=Currency(value=RON))"
      ]
     },
     "execution_count": 4,
     "metadata": {},
     "output_type": "execute_result"
    }
   ],
   "execution_count": 4
  },
  {
   "metadata": {
    "ExecuteTime": {
     "end_time": "2025-06-27T07:20:26.740774Z",
     "start_time": "2025-06-27T07:20:25.626836Z"
    }
   },
   "cell_type": "code",
   "source": [
    "import ro.jf.funds.fund.api.model.*\n",
    "\n",
    "val funds = runBlocking { client.provisionFunds(user, File(FUNDS_YAML_FILE)) }\n",
    "funds.map { it.toString() }.joinToString(separator = \"\\n\")"
   ],
   "outputs": [
    {
     "data": {
      "text/plain": [
       "FundTO(id=dc1feafb-b0e1-4de9-a2bf-f0eb2658a3f8, name=Expenses)\n",
       "FundTO(id=b2a932dd-c65c-43ef-b3a2-1d3f320a87f3, name=Work Income)\n",
       "FundTO(id=473bdafa-9513-43fc-b005-332a857a2d15, name=Savings)\n",
       "FundTO(id=e176b5f7-56b5-4cd1-898a-eb7d9b6e7198, name=Gifts)"
      ]
     },
     "execution_count": 5,
     "metadata": {},
     "output_type": "execute_result"
    }
   ],
   "execution_count": 5
  },
  {
   "metadata": {
    "ExecuteTime": {
     "end_time": "2025-06-27T07:20:34.867435Z",
     "start_time": "2025-06-27T07:20:31.430029Z"
    }
   },
   "cell_type": "code",
   "source": [
    "import ro.jf.funds.fund.api.model.*\n",
    "\n",
    "val initialBalancesTransactions = runBlocking {\n",
    "    client.provisionInitialBalances(user, accounts, funds, File(INITIAL_BALANCE_YAML_FILE))\n",
    "}\n",
    "initialBalancesTransactions.map { it.toString() }.joinToString(separator = \"\\n\")"
   ],
   "outputs": [
    {
     "data": {
      "text/plain": [
       "FundTransactionTO(id=4eeec449-aedb-4752-888c-309165709363, userId=79b6742e-8a11-4d32-b1e9-e3527fc286a9, dateTime=2018-12-31T00:00, records=[FundRecordTO(id=62f6beec-55c1-4fef-b407-fd5e8839b45d, fundId=dc1feafb-b0e1-4de9-a2bf-f0eb2658a3f8, accountId=a7afa254-2c9a-47c9-8024-c8baee0e0c17, amount=474.5, unit=Currency(value=RON), labels=[])])\n",
       "FundTransactionTO(id=9300337a-c5be-4364-8e00-81a12b6fdb20, userId=79b6742e-8a11-4d32-b1e9-e3527fc286a9, dateTime=2018-12-31T00:00, records=[FundRecordTO(id=af22feb6-fb70-4632-99c5-0be81e377330, fundId=dc1feafb-b0e1-4de9-a2bf-f0eb2658a3f8, accountId=faf3dfbb-d0c7-403a-9d0b-9aec8e4d06b9, amount=45.96, unit=Currency(value=RON), labels=[])])\n",
       "FundTransactionTO(id=89a09b5d-89c0-41c0-89cf-96a6698f946b, userId=79b6742e-8a11-4d32-b1e9-e3527fc286a9, dateTime=2018-12-31T00:00, records=[FundRecordTO(id=380e3c9c-bbdf-4231-9fed-c9e1532ac81a, fundId=dc1feafb-b0e1-4de9-a2bf-f0eb2658a3f8, accountId=818b5f7d-308a-43ef-a5ea-06e1b28cc928, amount=3051.9, unit=Currency(value=RON), labels=[])])\n",
       "FundTransactionTO(id=ca0694ed-466f-4dfe-9b73-76f87d216a19, userId=79b6742e-8a11-4d32-b1e9-e3527fc286a9, dateTime=2018-12-31T00:00, records=[FundRecordTO(id=a5103ba9-a04b-4eaa-aa4e-9b5a426b876b, fundId=dc1feafb-b0e1-4de9-a2bf-f0eb2658a3f8, accountId=f23bc0e4-a56e-427b-8074-a9c210215e3e, amount=2194.13, unit=Currency(value=RON), labels=[])])"
      ]
     },
     "execution_count": 6,
     "metadata": {},
     "output_type": "execute_result"
    }
   ],
   "execution_count": 6
  },
  {
   "metadata": {
    "ExecuteTime": {
     "end_time": "2025-06-27T07:20:55.009120Z",
     "start_time": "2025-06-27T07:20:35.266215Z"
    }
   },
   "cell_type": "code",
   "source": [
    "import ro.jf.funds.importer.api.model.*\n",
    "\n",
    "val importTask = runBlocking {\n",
    "    val csvFiles =\n",
    "        listOf(File(\"../../data/wallet/2019\"), File(\"../../data/wallet/2020\"))\n",
    "            .flatMap { it.listFiles()?.toList() ?: error(\"no files found\") }\n",
    "    client.importTransactions(user, File(IMPORT_CONFIGURATION_YAML_FILE), csvFiles)\n",
    "}\n",
    "importTask\n"
   ],
   "outputs": [
    {
     "data": {
      "text/plain": [
       "ImportTaskTO(taskId=0c491bd6-910d-4bd7-80f3-62056b9cd8f8, status=COMPLETED, reason=null)"
      ]
     },
     "execution_count": 7,
     "metadata": {},
     "output_type": "execute_result"
    }
   ],
   "execution_count": 7
  }
 ],
 "metadata": {
  "kernelspec": {
   "display_name": "Kotlin",
   "language": "kotlin",
   "name": "kotlin"
  },
  "language_info": {
   "name": "kotlin",
   "version": "1.9.23",
   "mimetype": "text/x-kotlin",
   "file_extension": ".kt",
   "pygments_lexer": "kotlin",
   "codemirror_mode": "text/x-kotlin",
   "nbconvert_exporter": ""
  },
  "ktnbPluginMetadata": {
   "projectDependencies": [
    "funds.commons-api"
   ]
  }
 },
 "nbformat": 4,
 "nbformat_minor": 0
}
