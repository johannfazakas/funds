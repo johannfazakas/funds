{
 "cells": [
  {
   "metadata": {},
   "cell_type": "code",
   "source": [
    "@file:DependsOn(\"ro.jf.funds:funds-notebook-client:1.0.0\")\n",
    "%use dataframe\n",
    "\n",
    "import ro.jf.funds.client.notebook.*\n",
    "import kotlinx.coroutines.runBlocking\n",
    "\n",
    "val username = \"Johann-25.1\"\n",
    "\n",
    "val client = FundsClient()\n"
   ],
   "outputs": [],
   "execution_count": null
  },
  {
   "metadata": {},
   "cell_type": "code",
   "source": [
    "val user = runBlocking { client.ensureUserExists(username) }\n",
    "user"
   ],
   "outputs": [],
   "execution_count": null
  },
  {
   "metadata": {
    "collapsed": true
   },
   "cell_type": "code",
   "source": [
    "val ACCOUNTS_YAML_FILE = \"../../data/provision/accounts.yaml\"\n",
    "val FUNDS_YAML_FILE = \"../../data/provision/funds.yaml\"\n",
    "val INITIAL_BALANCE_YAML_FILE = \"../../data/provision/initial-balance.yaml\"\n",
    "val IMPORT_CONFIGURATION_JSON_FILE = \"../../data/provision/import-configuration.json\"\n",
    "val IMPORT_CONFIGURATION_YAML_FILE = \"../../data/provision/import-configuration.yaml\"\n"
   ],
   "outputs": [],
   "execution_count": null
  },
  {
   "metadata": {},
   "cell_type": "code",
   "source": [
    "import ro.jf.funds.account.api.model.*\n",
    "\n",
    "val accounts = runBlocking { client.provisionAccounts(user, File(ACCOUNTS_YAML_FILE)) }\n",
    "accounts.map { it.toString() }.joinToString(separator = \"\\n\")"
   ],
   "outputs": [],
   "execution_count": null
  },
  {
   "metadata": {},
   "cell_type": "code",
   "source": [
    "import ro.jf.funds.fund.api.model.*\n",
    "\n",
    "val funds = runBlocking { client.provisionFunds(user, File(FUNDS_YAML_FILE)) }\n",
    "funds.map { it.toString() }.joinToString(separator = \"\\n\")"
   ],
   "outputs": [],
   "execution_count": null
  },
  {
   "metadata": {},
   "cell_type": "code",
   "source": [
    "import ro.jf.funds.fund.api.model.*\n",
    "\n",
    "val initialBalancesTransactions = runBlocking {\n",
    "    client.provisionInitialBalances(user, accounts, funds, File(INITIAL_BALANCE_YAML_FILE))\n",
    "}\n",
    "initialBalancesTransactions.map { it.toString() }.joinToString(separator = \"\\n\")"
   ],
   "outputs": [],
   "execution_count": null
  },
  {
   "metadata": {},
   "cell_type": "code",
   "source": [
    "import ro.jf.funds.importer.api.model.*\n",
    "\n",
    "val importTask = runBlocking {\n",
    "    val csvFiles =\n",
    "        listOf(File(\"../../data/wallet/2019\"), File(\"../../data/wallet/2020\"), File(\"../../data/wallet/2021\"))\n",
    "            .flatMap { it.listFiles()?.toList() ?: error(\"no files found\") }\n",
    "    client.importTransactions(user, File(IMPORT_CONFIGURATION_YAML_FILE), csvFiles)\n",
    "}\n",
    "importTask\n"
   ],
   "outputs": [],
   "execution_count": null
  }
 ],
 "metadata": {
  "kernelspec": {
   "display_name": "Kotlin",
   "language": "kotlin",
   "name": "kotlin"
  },
  "language_info": {
   "name": "kotlin",
   "version": "1.9.23",
   "mimetype": "text/x-kotlin",
   "file_extension": ".kt",
   "pygments_lexer": "kotlin",
   "codemirror_mode": "text/x-kotlin",
   "nbconvert_exporter": ""
  },
  "ktnbPluginMetadata": {
   "projectDependencies": [
    "funds.commons-api"
   ]
  }
 },
 "nbformat": 4,
 "nbformat_minor": 0
}
