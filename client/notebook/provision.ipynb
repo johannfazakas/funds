{
 "cells": [
  {
   "metadata": {
    "ExecuteTime": {
     "end_time": "2025-03-13T15:50:43.087053Z",
     "start_time": "2025-03-13T15:50:38.987043Z"
    }
   },
   "cell_type": "code",
   "source": [
    "@file:DependsOn(\"io.ktor:ktor-client-core:2.3.12\")\n",
    "@file:DependsOn(\"io.ktor:ktor-client-cio:2.3.12\")\n",
    "@file:DependsOn(\"io.ktor:ktor-client-content-negotiation:2.3.12\")\n",
    "@file:DependsOn(\"io.ktor:ktor-serialization-kotlinx-json:2.3.12\")\n",
    "@file:DependsOn(\"ro.jf.funds:user-sdk:1.0.0\")\n",
    "@file:DependsOn(\"ro.jf.funds:import-sdk:1.0.0\")\n",
    "@file:DependsOn(\"ro.jf.funds:fund-sdk:1.0.0\")\n",
    "@file:DependsOn(\"ro.jf.funds:account-sdk:1.0.0\")\n",
    "%use dataframe\n"
   ],
   "outputs": [],
   "execution_count": 9
  },
  {
   "metadata": {
    "collapsed": true,
    "ExecuteTime": {
     "end_time": "2025-03-13T15:50:48.423519Z",
     "start_time": "2025-03-13T15:50:43.161261Z"
    }
   },
   "cell_type": "code",
   "source": [
    "import ro.jf.funds.account.sdk.AccountSdk\n",
    "import ro.jf.funds.fund.sdk.FundSdk\n",
    "import ro.jf.funds.importer.sdk.ImportSdk\n",
    "import ro.jf.funds.user.sdk.UserSdk\n",
    "import kotlinx.coroutines.runBlocking\n",
    "\n",
    "// TODO(Johann) could these be moved to json configuration files?\n",
    "val ACCOUNTS_CSV_FILE = \"../../data/provision/accounts.csv\"\n",
    "val FUNDS_CSV_FILE = \"../../data/provision/funds.csv\"\n",
    "val IMPORT_CONFIGURATION_FILE = \"../../data/provision/import-configuration.json\"\n",
    "\n",
    "val userSdk = UserSdk()\n",
    "val accountSdk = AccountSdk()\n",
    "val fundSdk = FundSdk()\n",
    "val importSdk = ImportSdk()\n",
    "\n",
    "val username = \"Johann-13.1\"\n",
    "val user = runBlocking {\n",
    "    userSdk.findUserByUsername(username)\n",
    "        ?: userSdk.createUser(username)\n",
    "}\n",
    "user"
   ],
   "outputs": [
    {
     "data": {
      "text/plain": [
       "UserTO(id=51c46d61-4fd6-4a20-b54c-03c5e6f122bc, username=Johann-13.1)"
      ]
     },
     "execution_count": 10,
     "metadata": {},
     "output_type": "execute_result"
    }
   ],
   "execution_count": 10
  },
  {
   "metadata": {
    "ExecuteTime": {
     "end_time": "2025-03-13T15:50:52.170946Z",
     "start_time": "2025-03-13T15:50:48.459037Z"
    }
   },
   "cell_type": "code",
   "source": [
    "import ro.jf.funds.account.api.model.*\n",
    "import ro.jf.funds.account.api.model.*\n",
    "import ro.jf.funds.commons.model.*\n",
    "import kotlinx.coroutines.runBlocking\n",
    "\n",
    "val accounts = runBlocking {\n",
    "    val existingAccounts = accountSdk.listAccounts(user.id).items\n",
    "    val existingAccountNames = existingAccounts.map { it.name }.toSet()\n",
    "    val newAccounts = DataFrame.readCSV(ACCOUNTS_CSV_FILE, delimiter = ';')\n",
    "        .map { row -> CreateAccountTO(AccountName(row.getValue<String>(\"account\")), Currency(row.getValue<String>(\"currency\"))) }\n",
    "        .filter { it.name !in existingAccountNames }\n",
    "        .map { accountSdk.createAccount(user.id, it) }\n",
    "    existingAccounts + newAccounts\n",
    "}\n",
    "accounts.map { it.toString() }.joinToString(separator = \"\\n\")"
   ],
   "outputs": [
    {
     "data": {
      "text/plain": [
       "AccountTO(id=68ab5805-98c9-4b07-9d20-bf6b560875e5, name=Cash RON, unit=Currency(value=RON))\n",
       "AccountTO(id=192cf94f-1e7e-4840-8514-24309cee7371, name=Cash EUR, unit=Currency(value=EUR))\n",
       "AccountTO(id=a1b4b536-34a3-468f-96d8-63c1800a7f53, name=ING RON, unit=Currency(value=RON))\n",
       "AccountTO(id=e8c7469d-01aa-4509-8dc6-81755504ae06, name=ING Economy, unit=Currency(value=RON))\n",
       "AccountTO(id=d985d5ec-1868-4de3-908a-0e119bdcc686, name=Food Coupons, unit=Currency(value=RON))\n",
       "AccountTO(id=712df92e-3b5d-4bc7-83a1-8cbf04a8a492, name=Revolut RON, unit=Currency(value=RON))\n",
       "AccountTO(id=6b906673-edd7-41be-ab10-09f3184cbf8e, name=Other, unit=Currency(value=RON))\n",
       "AccountTO(id=12888425-808e-444f-acb1-eab574a03733, name=BT RON, unit=Currency(value=RON))\n",
       "AccountTO(id=bff642a8-7731-49a4-bdf5-64b1dab78d29, name=BT Economy RON, unit=Currency(value=RON))"
      ]
     },
     "execution_count": 11,
     "metadata": {},
     "output_type": "execute_result"
    }
   ],
   "execution_count": 11
  },
  {
   "metadata": {
    "ExecuteTime": {
     "end_time": "2025-03-13T15:50:57.061944Z",
     "start_time": "2025-03-13T15:50:52.196736Z"
    }
   },
   "cell_type": "code",
   "source": [
    "import ro.jf.funds.fund.api.model.*\n",
    "import kotlinx.coroutines.runBlocking\n",
    "\n",
    "val funds = runBlocking {\n",
    "    val existingFunds = fundSdk.listFunds(user.id).items\n",
    "    val existingFundNames = existingFunds.map { it.name }.toSet()\n",
    "    val newFunds = DataFrame.readCSV(FUNDS_CSV_FILE, delimiter = ';')\n",
    "        .map { row -> CreateFundTO(FundName(row.getValue<String>(\"fund\"))) }\n",
    "        .filter { it.name !in existingFundNames }\n",
    "        .map { fundSdk.createFund(user.id, it) }\n",
    "    existingFunds + newFunds\n",
    "}\n",
    "funds.map { it.toString() }.joinToString(separator = \"\\n\")"
   ],
   "outputs": [
    {
     "data": {
      "text/plain": [
       "FundTO(id=3ce10b59-0db6-4c89-a0d5-58ddae7fe1ed, name=Expenses)\n",
       "FundTO(id=574202a3-5d26-4e79-bb7b-b2c683d25604, name=Work Income)\n",
       "FundTO(id=b6799394-d991-4ff7-a98b-228da979b6ec, name=Savings)\n",
       "FundTO(id=1f280e72-21a2-44da-91de-6995fd4a0f66, name=Gifts)"
      ]
     },
     "execution_count": 12,
     "metadata": {},
     "output_type": "execute_result"
    }
   ],
   "execution_count": 12
  },
  {
   "metadata": {
    "ExecuteTime": {
     "end_time": "2025-03-13T15:50:57.223513Z",
     "start_time": "2025-03-13T15:50:57.094649Z"
    }
   },
   "cell_type": "code",
   "source": [
    "import ro.jf.funds.importer.api.model.*\n",
    "import kotlinx.serialization.json.Json\n",
    "\n",
    "val dataConfigurationRawJson: String = File(IMPORT_CONFIGURATION_FILE).readText()\n",
    "val jsonFormat = Json { ignoreUnknownKeys = true }\n",
    "val importConfiguration = jsonFormat.decodeFromString<ImportConfigurationTO>(dataConfigurationRawJson)"
   ],
   "outputs": [],
   "execution_count": 13
  },
  {
   "metadata": {},
   "cell_type": "markdown",
   "source": ""
  },
  {
   "metadata": {
    "ExecuteTime": {
     "end_time": "2025-03-13T15:51:29.688825Z",
     "start_time": "2025-03-13T15:50:57.247746Z"
    }
   },
   "cell_type": "code",
   "source": [
    "import kotlinx.coroutines.delay\n",
    "import kotlinx.coroutines.runBlocking\n",
    "import kotlinx.datetime.Clock\n",
    "import ro.jf.funds.importer.api.model.*\n",
    "import java.io.File\n",
    "import java.util.*\n",
    "import kotlin.time.Duration\n",
    "\n",
    "val csvFiles =\n",
    "    listOf(File(\"../../data/wallet/2019\"), File(\"../../data/wallet/2020\"))\n",
    "        .flatMap { it.listFiles()?.toList() ?: error(\"no files found\") }\n",
    "runBlocking {\n",
    "    var importTask = importSdk.import(user.id, importConfiguration, csvFiles)\n",
    "    val now: Instant = Clock.System.now()\n",
    "    val timeout = 60.seconds\n",
    "    while (importTask.status == ImportTaskTO.Status.IN_PROGRESS && Clock.System.now() - now < timeout) {\n",
    "        delay(500)\n",
    "        importTask = importSdk.getImportTask(user.id, importTask.taskId)\n",
    "    }\n",
    "    importTask\n",
    "}\n"
   ],
   "outputs": [
    {
     "data": {
      "text/plain": [
       "ImportTaskTO(taskId=6a91e5f0-187c-4993-aaf0-15445e5ba289, status=COMPLETED, reason=null)"
      ]
     },
     "execution_count": 14,
     "metadata": {},
     "output_type": "execute_result"
    }
   ],
   "execution_count": 14
  }
 ],
 "metadata": {
  "kernelspec": {
   "display_name": "Kotlin",
   "language": "kotlin",
   "name": "kotlin"
  },
  "language_info": {
   "name": "kotlin",
   "version": "1.9.23",
   "mimetype": "text/x-kotlin",
   "file_extension": ".kt",
   "pygments_lexer": "kotlin",
   "codemirror_mode": "text/x-kotlin",
   "nbconvert_exporter": ""
  },
  "ktnbPluginMetadata": {
   "projectDependencies": [
    "funds.commons-api"
   ]
  }
 },
 "nbformat": 4,
 "nbformat_minor": 0
}
