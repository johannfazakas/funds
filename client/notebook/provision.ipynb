{
 "cells": [
  {
   "metadata": {
    "ExecuteTime": {
     "end_time": "2025-06-27T07:08:35.164470Z",
     "start_time": "2025-06-27T07:08:30.578839Z"
    }
   },
   "cell_type": "code",
   "source": [
    "@file:DependsOn(\"ro.jf.funds:funds-notebook-client:1.0.0\")\n",
    "%use dataframe\n",
    "\n",
    "import ro.jf.funds.client.notebook.*\n",
    "import kotlinx.coroutines.runBlocking\n",
    "\n",
    "val username = \"Johann-21.1\"\n",
    "\n",
    "val client = FundsClient()\n"
   ],
   "outputs": [],
   "execution_count": 1
  },
  {
   "metadata": {
    "ExecuteTime": {
     "end_time": "2025-06-27T07:08:36.895710Z",
     "start_time": "2025-06-27T07:08:35.185386Z"
    }
   },
   "cell_type": "code",
   "source": [
    "val user = runBlocking { client.ensureUserExists(username) }\n",
    "user"
   ],
   "outputs": [
    {
     "data": {
      "text/plain": [
       "UserTO(id=0d4d8b60-13d9-4bee-9490-487af2b0ad83, username=Johann-21.1)"
      ]
     },
     "execution_count": 2,
     "metadata": {},
     "output_type": "execute_result"
    }
   ],
   "execution_count": 2
  },
  {
   "metadata": {
    "collapsed": true,
    "ExecuteTime": {
     "end_time": "2025-06-27T07:08:37.028175Z",
     "start_time": "2025-06-27T07:08:36.983750Z"
    }
   },
   "cell_type": "code",
   "source": [
    "val ACCOUNTS_YAML_FILE = \"../../data/provision/accounts.yaml\"\n",
    "val FUNDS_YAML_FILE = \"../../data/provision/funds.yaml\"\n",
    "val INITIAL_BALANCE_YAML_FILE = \"../../data/provision/initial-balance.yaml\"\n",
    "val IMPORT_CONFIGURATION_JSON_FILE = \"../../data/provision/import-configuration.json\"\n",
    "val IMPORT_CONFIGURATION_YAML_FILE = \"../../data/provision/import-configuration.yaml\"\n"
   ],
   "outputs": [],
   "execution_count": 3
  },
  {
   "metadata": {
    "ExecuteTime": {
     "end_time": "2025-06-27T07:08:40.409594Z",
     "start_time": "2025-06-27T07:08:37.041454Z"
    }
   },
   "cell_type": "code",
   "source": [
    "import ro.jf.funds.account.api.model.*\n",
    "\n",
    "val accounts = runBlocking { client.provisionAccounts(user, File(ACCOUNTS_YAML_FILE)) }\n",
    "accounts.map { it.toString() }.joinToString(separator = \"\\n\")"
   ],
   "outputs": [
    {
     "data": {
      "text/plain": [
       "AccountTO(id=2300e63e-0972-49f1-84ed-a63299ce824e, name=Cash RON, unit=Currency(value=RON))\n",
       "AccountTO(id=244e3f55-bccb-4d14-ae93-939cdaeef51f, name=Cash EUR, unit=Currency(value=EUR))\n",
       "AccountTO(id=e48c145f-53f3-4bdd-a1ca-63e1e2cd7bab, name=ING RON, unit=Currency(value=RON))\n",
       "AccountTO(id=2615f5e7-e3ee-4812-9cf3-2c511e3fd11e, name=ING Economy, unit=Currency(value=RON))\n",
       "AccountTO(id=79813bf4-ed2d-495b-8e1c-b15d7004c9ea, name=Food Coupons, unit=Currency(value=RON))\n",
       "AccountTO(id=61f87644-5604-402b-b850-46b01008187c, name=Revolut RON, unit=Currency(value=RON))\n",
       "AccountTO(id=df1292db-31c2-484c-9b70-af3b67c37082, name=Other, unit=Currency(value=RON))\n",
       "AccountTO(id=7f86b68d-3c93-47fc-9e15-9ccc922a4083, name=BT RON, unit=Currency(value=RON))\n",
       "AccountTO(id=b4e664cd-a410-4681-99a1-27726a8baa0a, name=BT Economy RON, unit=Currency(value=RON))"
      ]
     },
     "execution_count": 4,
     "metadata": {},
     "output_type": "execute_result"
    }
   ],
   "execution_count": 4
  },
  {
   "metadata": {
    "ExecuteTime": {
     "end_time": "2025-06-27T07:08:44.712394Z",
     "start_time": "2025-06-27T07:08:42.191347Z"
    }
   },
   "cell_type": "code",
   "source": [
    "import ro.jf.funds.fund.api.model.*\n",
    "\n",
    "val funds = runBlocking { client.provisionFunds(user, File(FUNDS_YAML_FILE)) }\n",
    "funds.map { it.toString() }.joinToString(separator = \"\\n\")"
   ],
   "outputs": [
    {
     "data": {
      "text/plain": [
       "FundTO(id=b0bab9f5-6cc7-45b9-8016-045948995304, name=Expenses)\n",
       "FundTO(id=dae3d719-e1a8-4961-8417-a30f6212aa85, name=Work Income)\n",
       "FundTO(id=654a8e9b-3792-49f5-9848-2fd534460ac3, name=Savings)\n",
       "FundTO(id=4c650090-ee13-4ea7-b0a2-c6231c16e504, name=Gifts)"
      ]
     },
     "execution_count": 5,
     "metadata": {},
     "output_type": "execute_result"
    }
   ],
   "execution_count": 5
  },
  {
   "metadata": {
    "ExecuteTime": {
     "end_time": "2025-06-27T07:08:47.679779Z",
     "start_time": "2025-06-27T07:08:44.879058Z"
    }
   },
   "cell_type": "code",
   "source": [
    "import ro.jf.funds.fund.api.model.*\n",
    "\n",
    "val initialBalancesTransactions = runBlocking {\n",
    "    client.provisionInitialBalances(user, accounts, funds, File(INITIAL_BALANCE_YAML_FILE))\n",
    "}\n",
    "initialBalancesTransactions.map { it.toString() }.joinToString(separator = \"\\n\")"
   ],
   "outputs": [
    {
     "data": {
      "text/plain": [
       "FundTransactionTO(id=7d1210d9-5aa1-4f56-b5ec-aa8ac7936ae5, userId=0d4d8b60-13d9-4bee-9490-487af2b0ad83, dateTime=2018-12-31T00:00, records=[FundRecordTO(id=29739d42-e67d-40c5-a695-8f8dc5e194e5, fundId=b0bab9f5-6cc7-45b9-8016-045948995304, accountId=2300e63e-0972-49f1-84ed-a63299ce824e, amount=474.5, unit=Currency(value=RON), labels=[])])\n",
       "FundTransactionTO(id=57d74ff5-ee55-4fcb-a9ef-6200f456bbb6, userId=0d4d8b60-13d9-4bee-9490-487af2b0ad83, dateTime=2018-12-31T00:00, records=[FundRecordTO(id=2e1cbbcb-e6a0-4272-a287-5cac5cb4ee06, fundId=b0bab9f5-6cc7-45b9-8016-045948995304, accountId=79813bf4-ed2d-495b-8e1c-b15d7004c9ea, amount=45.96, unit=Currency(value=RON), labels=[])])\n",
       "FundTransactionTO(id=46d48ee8-9ed7-4136-a6e0-cd4f94f91b0a, userId=0d4d8b60-13d9-4bee-9490-487af2b0ad83, dateTime=2018-12-31T00:00, records=[FundRecordTO(id=3c8ee2ea-27f7-4ea3-8538-ea68f6ef4386, fundId=b0bab9f5-6cc7-45b9-8016-045948995304, accountId=df1292db-31c2-484c-9b70-af3b67c37082, amount=3051.9, unit=Currency(value=RON), labels=[])])\n",
       "FundTransactionTO(id=35ff9785-d2c8-49cf-b18a-8cc095dfd1b7, userId=0d4d8b60-13d9-4bee-9490-487af2b0ad83, dateTime=2018-12-31T00:00, records=[FundRecordTO(id=a1ebc35a-a726-4a74-96e6-fc6e1b65dddd, fundId=b0bab9f5-6cc7-45b9-8016-045948995304, accountId=7f86b68d-3c93-47fc-9e15-9ccc922a4083, amount=2194.13, unit=Currency(value=RON), labels=[])])"
      ]
     },
     "execution_count": 6,
     "metadata": {},
     "output_type": "execute_result"
    }
   ],
   "execution_count": 6
  },
  {
   "metadata": {
    "ExecuteTime": {
     "end_time": "2025-06-27T07:09:13.424192Z",
     "start_time": "2025-06-27T07:08:48.978736Z"
    }
   },
   "cell_type": "code",
   "source": [
    "import ro.jf.funds.importer.api.model.*\n",
    "\n",
    "val importTask = runBlocking {\n",
    "    val csvFiles =\n",
    "        listOf(File(\"../../data/wallet/2019\"), File(\"../../data/wallet/2020\"))\n",
    "            .flatMap { it.listFiles()?.toList() ?: error(\"no files found\") }\n",
    "    client.importTransactions(user, File(IMPORT_CONFIGURATION_YAML_FILE), csvFiles)\n",
    "}\n",
    "importTask\n"
   ],
   "outputs": [
    {
     "data": {
      "text/plain": [
       "ImportTaskTO(taskId=364428f6-b77a-4439-9d33-8d0455d290c7, status=COMPLETED, reason=null)"
      ]
     },
     "execution_count": 7,
     "metadata": {},
     "output_type": "execute_result"
    }
   ],
   "execution_count": 7
  }
 ],
 "metadata": {
  "kernelspec": {
   "display_name": "Kotlin",
   "language": "kotlin",
   "name": "kotlin"
  },
  "language_info": {
   "name": "kotlin",
   "version": "1.9.23",
   "mimetype": "text/x-kotlin",
   "file_extension": ".kt",
   "pygments_lexer": "kotlin",
   "codemirror_mode": "text/x-kotlin",
   "nbconvert_exporter": ""
  },
  "ktnbPluginMetadata": {
   "projectDependencies": [
    "funds.commons-api"
   ]
  }
 },
 "nbformat": 4,
 "nbformat_minor": 0
}
