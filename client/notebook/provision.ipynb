{
 "cells": [
  {
   "metadata": {
    "ExecuteTime": {
     "end_time": "2025-08-20T06:11:10.198776Z",
     "start_time": "2025-08-20T06:11:04.934214Z"
    }
   },
   "cell_type": "code",
   "source": [
    "@file:DependsOn(\"ro.jf.funds:funds-notebook-client:1.0.0\")\n",
    "%use dataframe\n",
    "\n",
    "import ro.jf.funds.client.notebook.*\n",
    "\n",
    "val username = \"Johann-47.2\"\n",
    "\n",
    "val client = FundsClient()\n"
   ],
   "outputs": [],
   "execution_count": 1
  },
  {
   "metadata": {
    "ExecuteTime": {
     "end_time": "2025-08-20T06:11:13.838987Z",
     "start_time": "2025-08-20T06:11:10.217490Z"
    }
   },
   "cell_type": "code",
   "source": [
    "val user = client.ensureUserExists(username)\n",
    "user"
   ],
   "outputs": [
    {
     "data": {
      "text/plain": [
       "UserTO(id=4a5dd5d8-22e7-4bb0-a08e-edaabdc97faa, username=Johann-47.2)"
      ]
     },
     "execution_count": 2,
     "metadata": {},
     "output_type": "execute_result"
    }
   ],
   "execution_count": 2
  },
  {
   "metadata": {
    "collapsed": true,
    "ExecuteTime": {
     "end_time": "2025-08-20T06:11:14.000899Z",
     "start_time": "2025-08-20T06:11:13.936117Z"
    }
   },
   "cell_type": "code",
   "source": [
    "val ACCOUNTS_YAML_FILE = \"../../data/provision/accounts.yaml\"\n",
    "val FUNDS_YAML_FILE = \"../../data/provision/funds.yaml\"\n",
    "val INITIAL_BALANCE_YAML_FILE = \"../../data/provision/initial-balance.yaml\"\n",
    "val IMPORT_CONFIGURATION_JSON_FILE = \"../../data/provision/import-configuration.json\"\n",
    "val WALLET_IMPORT_CONFIGURATION_YAML_FILE = \"../../data/provision/wallet-import-configuration.yaml\"\n",
    "val INVESTMENT_IMPORT_CONFIGURATION_YAML_FILE = \"../../data/provision/investment-import-configuration.yaml\""
   ],
   "outputs": [],
   "execution_count": 3
  },
  {
   "metadata": {
    "ExecuteTime": {
     "end_time": "2025-08-20T06:11:19.195471Z",
     "start_time": "2025-08-20T06:11:14.008374Z"
    }
   },
   "cell_type": "code",
   "source": [
    "import ro.jf.funds.account.api.model.*\n",
    "\n",
    "val accounts = client.provisionAccounts(user, client.fromYaml(File(ACCOUNTS_YAML_FILE)))\n",
    "accounts.map { it.toString() }.joinToString(separator = \"\\n\")"
   ],
   "outputs": [
    {
     "data": {
      "text/plain": [
       "AccountTO(id=5e6a7323-9440-4292-9299-b3c9b5e1d590, name=Cash RON, unit=Currency(value=RON))\n",
       "AccountTO(id=875e0b77-86fd-4741-b5c8-776f6bd32d8f, name=Cash EUR, unit=Currency(value=EUR))\n",
       "AccountTO(id=8ec01bf6-0420-4218-9c4b-89d537b58d66, name=Cash EUR-RON, unit=Currency(value=RON))\n",
       "AccountTO(id=4f966e38-5108-4558-b312-ce5a0632abc6, name=ING RON, unit=Currency(value=RON))\n",
       "AccountTO(id=3812252c-1fda-418a-bebb-39ed0458cb07, name=ING Economy, unit=Currency(value=RON))\n",
       "AccountTO(id=dedd3ad7-db7f-42c5-bcd7-bc85e613489b, name=Food Coupons, unit=Currency(value=RON))\n",
       "AccountTO(id=9cd57f94-8e45-47e8-ae6c-9f47e5ff0fa1, name=Revolut RON, unit=Currency(value=RON))\n",
       "AccountTO(id=f940fb1d-1ab2-43ea-a92b-98a2d8210470, name=Revolut EUR-RON, unit=Currency(value=RON))\n",
       "AccountTO(id=08f213b4-2032-49d4-af71-d930e29f7639, name=Other, unit=Currency(value=RON))\n",
       "AccountTO(id=55f9af3a-3f3a-4670-a88b-69503c321ac7, name=BT RON, unit=Currency(value=RON))\n",
       "AccountTO(id=2a8a3686-c9ac-4b57-97c6-be972a13b991, name=BT CC, unit=Currency(value=RON))\n",
       "AccountTO(id=3ef063a4-b4fe-4a47-b302-664a4e61f5dc, name=BT EUR-RON, unit=Currency(value=RON))\n",
       "AccountTO(id=05bddb34-865c-41b5-961d-97606acd6015, name=BT Economy RON, unit=Currency(value=RON))\n",
       "AccountTO(id=fed84da0-7e5c-45a6-84e3-1fe46c8d6bac, name=BT Depozit RON, unit=Currency(value=RON))\n",
       "AccountTO(id=7c69e1f4-d684-4bfc-809f-9a6fcacbf0c0, name=BT Philocode RON, unit=Currency(value=RON))\n",
       "AccountTO(id=8dd00e74-78fa-40ce-854a-d2e0853df416, name=XTB EUR, unit=Currency(value=EUR))\n",
       "AccountTO(id=33c0b96d-c958-4684-a103-da45de882948, name=XTB EUNL, unit=Symbol(value=EUNL))\n",
       "AccountTO(id=9fe74810-3deb-4b3a-8c56-fc9a3b723823, name=XTB QDVE, unit=Symbol(value=QDVE))\n",
       "AccountTO(id=cab32b28-0c9b-4790-bccd-b74c07b37ed4, name=XTB IMAE, unit=Symbol(value=IMAE))\n",
       "AccountTO(id=5df8cc25-a008-45ae-82d8-b4f554ee2a0a, name=XTB IS3N, unit=Symbol(value=IS3N))\n",
       "AccountTO(id=f514b5eb-34e9-4504-88ba-04dde61ae151, name=XTB SXR8, unit=Symbol(value=SXR8))\n",
       "AccountTO(id=4840a0c2-5aa2-4216-bbed-6c66f6f59c05, name=XTB SUSW, unit=Symbol(value=SUSW))"
      ]
     },
     "execution_count": 4,
     "metadata": {},
     "output_type": "execute_result"
    }
   ],
   "execution_count": 4
  },
  {
   "metadata": {
    "ExecuteTime": {
     "end_time": "2025-08-20T06:11:23.769273Z",
     "start_time": "2025-08-20T06:11:19.206495Z"
    }
   },
   "cell_type": "code",
   "source": [
    "import ro.jf.funds.fund.api.model.*\n",
    "\n",
    "val funds = client.provisionFunds(user, client.fromYaml(File(FUNDS_YAML_FILE)))\n",
    "funds.map { it.toString() }.joinToString(separator = \"\\n\")"
   ],
   "outputs": [
    {
     "data": {
      "text/plain": [
       "FundTO(id=ca6e250c-345b-47c6-9860-a18b2b4a6bcc, name=Expenses)\n",
       "FundTO(id=5403480a-8c33-4833-b1b0-81404df2eab2, name=Work Income)\n",
       "FundTO(id=c594930f-7f9c-403e-a82e-0c3592a6883a, name=Other Income)\n",
       "FundTO(id=6a99ef86-7f64-47fe-a1cf-2245999b6881, name=Savings)\n",
       "FundTO(id=7607e548-0255-4f9e-ba58-3d085f6f96ea, name=Investments)"
      ]
     },
     "execution_count": 5,
     "metadata": {},
     "output_type": "execute_result"
    }
   ],
   "execution_count": 5
  },
  {
   "metadata": {
    "ExecuteTime": {
     "end_time": "2025-08-20T06:11:27.161655Z",
     "start_time": "2025-08-20T06:11:23.778925Z"
    }
   },
   "cell_type": "code",
   "source": [
    "import ro.jf.funds.fund.api.model.*\n",
    "\n",
    "val initialBalancesTransactions = client.provisionInitialBalances(user, accounts, funds, client.fromYaml(File(INITIAL_BALANCE_YAML_FILE)))\n",
    "initialBalancesTransactions.map { it.toString() }.joinToString(separator = \"\\n\")"
   ],
   "outputs": [
    {
     "data": {
      "text/plain": [
       "FundTransactionTO(id=56b9ed9f-2293-48cd-a1a5-3033ec1a3b57, userId=4a5dd5d8-22e7-4bb0-a08e-edaabdc97faa, dateTime=2018-12-31T00:00, records=[FundRecordTO(id=a4dca877-94ed-4bb2-a030-4e3ca178e08b, fundId=ca6e250c-345b-47c6-9860-a18b2b4a6bcc, accountId=5e6a7323-9440-4292-9299-b3c9b5e1d590, amount=553.5, unit=Currency(value=RON), labels=[])])\n",
       "FundTransactionTO(id=ca24846e-5f2c-4f18-b639-918214290c6d, userId=4a5dd5d8-22e7-4bb0-a08e-edaabdc97faa, dateTime=2018-12-31T00:00, records=[FundRecordTO(id=22db18ef-6e35-477f-9586-99550a1425d5, fundId=ca6e250c-345b-47c6-9860-a18b2b4a6bcc, accountId=dedd3ad7-db7f-42c5-bcd7-bc85e613489b, amount=45.96, unit=Currency(value=RON), labels=[])])\n",
       "FundTransactionTO(id=8fa530aa-bb52-48a4-86d1-a51fa59e61ac, userId=4a5dd5d8-22e7-4bb0-a08e-edaabdc97faa, dateTime=2018-12-31T00:00, records=[FundRecordTO(id=4d0f20ab-52c5-4570-a719-9791eef2e30c, fundId=ca6e250c-345b-47c6-9860-a18b2b4a6bcc, accountId=08f213b4-2032-49d4-af71-d930e29f7639, amount=3051.9, unit=Currency(value=RON), labels=[])])\n",
       "FundTransactionTO(id=295173eb-490b-4145-a531-31810621462f, userId=4a5dd5d8-22e7-4bb0-a08e-edaabdc97faa, dateTime=2018-12-31T00:00, records=[FundRecordTO(id=2a3a241c-0748-4a73-8f1c-aa6245827167, fundId=ca6e250c-345b-47c6-9860-a18b2b4a6bcc, accountId=55f9af3a-3f3a-4670-a88b-69503c321ac7, amount=7708.46, unit=Currency(value=RON), labels=[])])\n",
       "FundTransactionTO(id=25be7c2f-4252-40e9-92ac-0128abd0ee41, userId=4a5dd5d8-22e7-4bb0-a08e-edaabdc97faa, dateTime=2018-12-31T00:00, records=[FundRecordTO(id=f0753738-d6fc-47eb-9cc6-51437ba24a12, fundId=ca6e250c-345b-47c6-9860-a18b2b4a6bcc, accountId=4f966e38-5108-4558-b312-ce5a0632abc6, amount=-3037.15, unit=Currency(value=RON), labels=[])])"
      ]
     },
     "execution_count": 6,
     "metadata": {},
     "output_type": "execute_result"
    }
   ],
   "execution_count": 6
  },
  {
   "metadata": {
    "ExecuteTime": {
     "end_time": "2025-08-20T06:11:38.436538Z",
     "start_time": "2025-08-20T06:11:27.182576Z"
    }
   },
   "cell_type": "code",
   "source": [
    "\n",
    "val investmentCsvFiles =\n",
    "    listOf(File(\"../../data/investment/2022\"))\n",
    "        .flatMap { it.listFiles()?.toList() ?: error(\"no files found\") }\n",
    "val importTask = client.importTransactions(user, client.fromYaml(File(INVESTMENT_IMPORT_CONFIGURATION_YAML_FILE)), investmentCsvFiles)\n",
    "importTask"
   ],
   "outputs": [
    {
     "data": {
      "text/plain": [
       "ImportTaskTO(taskId=74040c53-c8cc-4ea7-919d-20dba06fe8da, status=COMPLETED, reason=null)"
      ]
     },
     "execution_count": 7,
     "metadata": {},
     "output_type": "execute_result"
    }
   ],
   "execution_count": 7
  },
  {
   "metadata": {
    "ExecuteTime": {
     "end_time": "2025-08-20T06:11:57.864506Z",
     "start_time": "2025-08-20T06:11:38.501281Z"
    }
   },
   "cell_type": "code",
   "source": [
    "import ro.jf.funds.importer.api.model.*\n",
    "\n",
    "val csvFiles =\n",
    "    listOf(File(\"../../data/wallet/2019\"), File(\"../../data/wallet/2020\"), File(\"../../data/wallet/2021\"), File(\"../../data/wallet/2022\"))\n",
    "        .flatMap { it.listFiles()?.toList() ?: error(\"no files found\") }\n",
    "val importTask = client.importTransactions(user, client.fromYaml(File(WALLET_IMPORT_CONFIGURATION_YAML_FILE)), csvFiles)\n",
    "importTask"
   ],
   "outputs": [
    {
     "data": {
      "text/plain": [
       "ImportTaskTO(taskId=79cef5b4-4c6d-4a03-bfea-5b01c5027919, status=COMPLETED, reason=null)"
      ]
     },
     "execution_count": 8,
     "metadata": {},
     "output_type": "execute_result"
    }
   ],
   "execution_count": 8
  }
 ],
 "metadata": {
  "kernelspec": {
   "display_name": "Kotlin",
   "language": "kotlin",
   "name": "kotlin"
  },
  "language_info": {
   "name": "kotlin",
   "version": "1.9.23",
   "mimetype": "text/x-kotlin",
   "file_extension": ".kt",
   "pygments_lexer": "kotlin",
   "codemirror_mode": "text/x-kotlin",
   "nbconvert_exporter": ""
  },
  "ktnbPluginMetadata": {
   "projectDependencies": [
    "funds.commons-api"
   ]
  }
 },
 "nbformat": 4,
 "nbformat_minor": 0
}
