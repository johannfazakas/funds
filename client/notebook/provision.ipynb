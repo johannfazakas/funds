{
 "cells": [
  {
   "metadata": {
    "collapsed": true,
    "ExecuteTime": {
     "end_time": "2024-10-09T13:15:05.450466Z",
     "start_time": "2024-10-09T13:15:03.296161Z"
    }
   },
   "cell_type": "code",
   "source": [
    "@file:DependsOn(\"io.ktor:ktor-client-core:2.0.0\")\n",
    "@file:DependsOn(\"io.ktor:ktor-client-cio:2.0.0\")\n",
    "@file:DependsOn(\"io.ktor:ktor-client-content-negotiation:2.0.0\")\n",
    "@file:DependsOn(\"io.ktor:ktor-serialization-kotlinx-json:2.0.0\")\n",
    "@file:DependsOn(\"ro.jf.funds:import-sdk:1.0.0\")\n",
    "@file:DependsOn(\"ro.jf.funds:fund-sdk:1.0.0\")\n",
    "@file:DependsOn(\"ro.jf.funds:account-sdk:1.0.0\")\n",
    "%use dataframe\n",
    "\n",
    "import ro.jf.bk.account.sdk.AccountSdk\n",
    "import ro.jf.bk.fund.sdk.FundSdk\n",
    "import ro.jf.funds.importer.sdk.ImportSdk\n",
    "import java.util.UUID.randomUUID\n",
    "\n",
    "val ACCOUNTS_CSV_FILE = \"../../data/provision/accounts.csv\"\n",
    "val FUNDS_CSV_FILE = \"../../data/provision/funds.csv\"\n",
    "val ACCOUNT_MATCHERS_CSV_FILE = \"../../data/provision/account-matchers.csv\"\n",
    "val FUND_MATCHERS_CSV_FILE = \"../../data/provision/fund-matchers.csv\"\n",
    "\n",
    "// TODO(Johann) create a user\n",
    "val userId = randomUUID()\n",
    "\n",
    "val accountSdk = AccountSdk()\n",
    "val fundSdk = FundSdk()\n",
    "val importSdk = ImportSdk()"
   ],
   "outputs": [],
   "execution_count": 11
  },
  {
   "metadata": {
    "ExecuteTime": {
     "end_time": "2024-10-09T13:12:11.512086Z",
     "start_time": "2024-10-09T13:12:09.319406Z"
    }
   },
   "cell_type": "code",
   "source": [
    "import ro.jf.bk.account.api.model.*\n",
    "import kotlinx.coroutines.runBlocking\n",
    "\n",
    "val accounts = runBlocking {\n",
    "    val existingAccounts = accountSdk.listAccounts(userId)\n",
    "    val existingAccountNames = existingAccounts.map { it.name }.toSet()\n",
    "    val newAccounts = DataFrame.readCSV(ACCOUNTS_CSV_FILE, delimiter = ';')\n",
    "        .map { row -> CreateCurrencyAccountTO(row.getValue<String>(\"account\"), row.getValue<String>(\"currency\")) }\n",
    "        .filter { it.name !in existingAccountNames }\n",
    "        .map { accountSdk.createAccount(userId, it) }\n",
    "    existingAccounts + newAccounts\n",
    "}\n",
    "accounts.map { it.toString() }.joinToString(separator = \"\\n\")"
   ],
   "outputs": [
    {
     "data": {
      "text/plain": [
       "Currency(id=c779fb38-d63e-40c2-a420-925d122667e4, name=Cash RON, currency=Cash RON)\n",
       "Currency(id=1974cd52-38dd-42ed-8ad1-2f2e2b731dcc, name=ING RON, currency=RON)\n",
       "Currency(id=7337e0cd-e0b3-42ad-9489-bee268a96acc, name=ING Economy, currency=RON)\n",
       "Currency(id=ce37cdce-8003-42fc-b893-491fb84ba279, name=Food Coupons, currency=RON)"
      ]
     },
     "execution_count": 3,
     "metadata": {},
     "output_type": "execute_result"
    }
   ],
   "execution_count": 3
  },
  {
   "metadata": {
    "ExecuteTime": {
     "end_time": "2024-10-09T13:12:55.498646Z",
     "start_time": "2024-10-09T13:12:52.574174Z"
    }
   },
   "cell_type": "code",
   "source": [
    "import ro.jf.bk.fund.api.model.*\n",
    "\n",
    "val funds = runBlocking {\n",
    "    // TODO(Johann) fix npe on get existing funds without accounts\n",
    "    val existingFunds = fundSdk.listFunds(userId)\n",
    "    val existingFundNames = existingFunds.map { it.name }.toSet()\n",
    "    val newFunds = DataFrame.readCSV(FUNDS_CSV_FILE, delimiter = ';')\n",
    "        .map { row -> CreateFundTO(row.getValue<String>(\"fund\"), emptyList()) }\n",
    "        .filter { it.name !in existingFundNames }\n",
    "        .map { fundSdk.createFund(userId, it) }\n",
    "    existingFunds + newFunds\n",
    "}\n",
    "funds.map { it.toString() }.joinToString(separator = \"\\n\")"
   ],
   "outputs": [
    {
     "data": {
      "text/plain": [
       "FundTO(id=09e168cf-9eb9-4b51-952f-698d97e70495, name=Expenses, accounts=[])\n",
       "FundTO(id=0c9e790f-b648-4623-92d6-bd0dbf9f0684, name=Programming, accounts=[])\n",
       "FundTO(id=cba87cb6-505d-4b4b-b45f-3ebe4228dbf6, name=Savings, accounts=[])"
      ]
     },
     "execution_count": 5,
     "metadata": {},
     "output_type": "execute_result"
    }
   ],
   "execution_count": 5
  },
  {
   "metadata": {
    "ExecuteTime": {
     "end_time": "2024-10-09T13:13:11.157314Z",
     "start_time": "2024-10-09T13:13:10.948635Z"
    }
   },
   "cell_type": "code",
   "source": [
    "import ro.jf.funds.importer.api.model.AccountMatcherTO\n",
    "\n",
    "val accountMatchers = runBlocking {\n",
    "    DataFrame.readCSV(ACCOUNT_MATCHERS_CSV_FILE, delimiter = ';')\n",
    "        .map { row -> AccountMatcherTO(row.getValue<String>(\"import_account_name\"),row.getValue<String>(\"account_name\")) }\n",
    "}\n",
    "accountMatchers.map { it.toString() }.joinToString(separator = \"\\n\")"
   ],
   "outputs": [
    {
     "data": {
      "text/plain": [
       "AccountMatcherTO(importAccountName=ING old, accountName=ING RON)\n",
       "AccountMatcherTO(importAccountName=ING Economy old, accountName=ING Economy)\n",
       "AccountMatcherTO(importAccountName=Cash RON, accountName=Cash RON)\n",
       "AccountMatcherTO(importAccountName=Food Coupons, accountName=Food Coupons)"
      ]
     },
     "execution_count": 6,
     "metadata": {},
     "output_type": "execute_result"
    }
   ],
   "execution_count": 6
  },
  {
   "metadata": {
    "ExecuteTime": {
     "end_time": "2024-10-09T13:18:57.284696Z",
     "start_time": "2024-10-09T13:18:56.930683Z"
    }
   },
   "cell_type": "code",
   "source": [
    "import ro.jf.funds.importer.api.model.*\n",
    "\n",
    "val fundMatchers = runBlocking {\n",
    "    DataFrame.readCSV(FUND_MATCHERS_CSV_FILE, delimiter = ';')\n",
    "        .map { row ->\n",
    "            when (row.getValue<String>(\"type\")) {\n",
    "                \"by_label\" -> FundMatcherTO.ByLabel(\n",
    "                    importLabel = row.getValue<String>(\"import_label\"),\n",
    "                    fundName = row.getValue<String>(\"fund_name\")\n",
    "                )\n",
    "\n",
    "                \"by_account_label\" -> FundMatcherTO.ByAccountLabel(\n",
    "                    importAccountName = row.getValue<String>(\"import_account_name\"),\n",
    "                    importLabel = row.getValue<String>(\"import_label\"),\n",
    "                    fundName = row.getValue<String>(\"fund_name\")\n",
    "                )\n",
    "\n",
    "                \"by_account_label_with_transfer\" -> FundMatcherTO.ByAccountLabelWithTransfer(\n",
    "                    importAccountName = row.getValue<String>(\"import_account_name\"),\n",
    "                    importLabel = row.getValue<String>(\"import_label\"),\n",
    "                    initialFundName = row.getValue<String>(\"initial_fund_name\"),\n",
    "                    fundName = row.getValue<String>(\"fund_name\")\n",
    "                )\n",
    "\n",
    "                else -> error(\"fund matcher type not recognized ${row.getValue<String>(\"type\")}\")\n",
    "            }\n",
    "        }\n",
    "}\n",
    "fundMatchers.map { it.toString() }.joinToString(separator = \"\\n\")"
   ],
   "outputs": [
    {
     "data": {
      "text/plain": [
       "ByLabel(importLabel=Basic - Food, fundName=Expenses)\n",
       "ByLabel(importLabel=C&T - Gas & Parking, fundName=Expenses)\n",
       "ByLabel(importLabel=Development - Education, fundName=Expenses)\n",
       "ByLabel(importLabel=F&V - Fun, fundName=Expenses)\n",
       "ByLabel(importLabel=S&S - Objects, fundName=Expenses)\n",
       "ByLabel(importLabel=Home - House, fundName=Expenses)\n",
       "ByLabel(importLabel=Gifts, fundName=Expenses)\n",
       "ByAccountLabelWithTransfer(importAccountName=ING Economy Old, importLabel=Invest Profit Acc, initialFundName=Savings, fundName=Expenses)\n",
       "ByAccountLabelWithTransfer(importAccountName=Food Coupons, importLabel=Work Income, initialFundName=Programming, fundName=Expenses)"
      ]
     },
     "execution_count": 15,
     "metadata": {},
     "output_type": "execute_result"
    }
   ],
   "execution_count": 15
  },
  {
   "metadata": {
    "ExecuteTime": {
     "end_time": "2024-10-09T13:19:32.159995Z",
     "start_time": "2024-10-09T13:19:31.631831Z"
    }
   },
   "cell_type": "code",
   "source": [
    "import kotlinx.coroutines.runBlocking\n",
    "import ro.jf.funds.importer.api.model.*\n",
    "import java.io.File\n",
    "import java.util.*\n",
    "\n",
    "val csvFile = File(\"../../data/wallet/2019/wallet_export_2019_01.csv\")\n",
    "val importConfiguration = ImportConfigurationTO(\n",
    "    fileType = ImportFileTypeTO.WALLET_CSV,\n",
    "    accountMatchers = accountMatchers,\n",
    "    fundMatchers = fundMatchers\n",
    ")\n",
    "// TODO(Johann) fix npe on import\n",
    "val response = runBlocking { importSdk.import(userId, csvFile, importConfiguration) }\n",
    "response"
   ],
   "outputs": [
    {
     "data": {
      "text/plain": [
       "ImportResponse(response=Imported in service)"
      ]
     },
     "execution_count": 17,
     "metadata": {},
     "output_type": "execute_result"
    }
   ],
   "execution_count": 17
  },
  {
   "metadata": {},
   "cell_type": "markdown",
   "source": ""
  }
 ],
 "metadata": {
  "kernelspec": {
   "display_name": "Kotlin",
   "language": "kotlin",
   "name": "kotlin"
  },
  "language_info": {
   "name": "kotlin",
   "version": "1.9.23",
   "mimetype": "text/x-kotlin",
   "file_extension": ".kt",
   "pygments_lexer": "kotlin",
   "codemirror_mode": "text/x-kotlin",
   "nbconvert_exporter": ""
  }
 },
 "nbformat": 4,
 "nbformat_minor": 0
}
