{
 "cells": [
  {
   "metadata": {
    "ExecuteTime": {
     "end_time": "2025-07-10T11:10:17.409935Z",
     "start_time": "2025-07-10T11:10:09.298500Z"
    }
   },
   "cell_type": "code",
   "source": [
    "@file:DependsOn(\"ro.jf.funds:funds-notebook-client:1.0.0\")\n",
    "%use dataframe\n",
    "\n",
    "import ro.jf.funds.client.notebook.*\n",
    "\n",
    "val username = \"Johann-33.15\"\n",
    "\n",
    "val client = FundsClient()\n"
   ],
   "outputs": [],
   "execution_count": 1
  },
  {
   "metadata": {
    "ExecuteTime": {
     "end_time": "2025-07-10T11:10:27.231224Z",
     "start_time": "2025-07-10T11:10:17.530061Z"
    }
   },
   "cell_type": "code",
   "source": [
    "val user = client.ensureUserExists(username)\n",
    "user"
   ],
   "outputs": [
    {
     "data": {
      "text/plain": [
       "UserTO(id=19a1bbb2-91e4-44a9-967d-bb263edfdb4b, username=Johann-33.15)"
      ]
     },
     "execution_count": 2,
     "metadata": {},
     "output_type": "execute_result"
    }
   ],
   "execution_count": 2
  },
  {
   "metadata": {
    "collapsed": true,
    "ExecuteTime": {
     "end_time": "2025-07-10T11:10:27.742284Z",
     "start_time": "2025-07-10T11:10:27.383553Z"
    }
   },
   "cell_type": "code",
   "source": [
    "val ACCOUNTS_YAML_FILE = \"../../data/provision/accounts.yaml\"\n",
    "val FUNDS_YAML_FILE = \"../../data/provision/funds.yaml\"\n",
    "val INITIAL_BALANCE_YAML_FILE = \"../../data/provision/initial-balance.yaml\"\n",
    "val IMPORT_CONFIGURATION_JSON_FILE = \"../../data/provision/import-configuration.json\"\n",
    "val IMPORT_CONFIGURATION_YAML_FILE = \"../../data/provision/import-configuration.yaml\"\n"
   ],
   "outputs": [],
   "execution_count": 3
  },
  {
   "metadata": {
    "ExecuteTime": {
     "end_time": "2025-07-10T11:10:35.061477Z",
     "start_time": "2025-07-10T11:10:27.890580Z"
    }
   },
   "cell_type": "code",
   "source": [
    "import ro.jf.funds.account.api.model.*\n",
    "\n",
    "val accounts = client.provisionAccounts(user, client.fromYaml(File(ACCOUNTS_YAML_FILE)))\n",
    "accounts.map { it.toString() }.joinToString(separator = \"\\n\")"
   ],
   "outputs": [
    {
     "data": {
      "text/plain": [
       "AccountTO(id=80df3a01-9674-4798-96d0-c4f39fc27620, name=Cash RON, unit=Currency(value=RON))\n",
       "AccountTO(id=9a3fae46-4d6d-4e55-a194-098b2865472e, name=Cash EUR, unit=Currency(value=EUR))\n",
       "AccountTO(id=2b4b0fd5-b009-4925-8626-15328aa2e227, name=Cash EUR-RON, unit=Currency(value=RON))\n",
       "AccountTO(id=254f0fda-a718-431a-ba02-8e71cea96fd0, name=ING RON, unit=Currency(value=RON))\n",
       "AccountTO(id=da047fa8-5e0c-4bbe-89db-bf228d7621e3, name=ING Economy, unit=Currency(value=RON))\n",
       "AccountTO(id=f51d39bb-8d7a-4e3d-84b3-b1560d956225, name=Food Coupons, unit=Currency(value=RON))\n",
       "AccountTO(id=d98aef2a-7487-4025-8787-682db96c72e5, name=Revolut RON, unit=Currency(value=RON))\n",
       "AccountTO(id=a820527f-9f4e-46a0-b038-a8de56248355, name=Other, unit=Currency(value=RON))\n",
       "AccountTO(id=f49235ea-91d0-49e0-8fe7-27907913dd8c, name=BT RON, unit=Currency(value=RON))\n",
       "AccountTO(id=e0f54e2a-971a-431b-968a-b355e1c33ecc, name=BT Economy RON, unit=Currency(value=RON))\n",
       "AccountTO(id=b62d8ff1-34ae-411b-bc29-6b00cb09ff0c, name=BT Philocode RON, unit=Currency(value=RON))"
      ]
     },
     "execution_count": 4,
     "metadata": {},
     "output_type": "execute_result"
    }
   ],
   "execution_count": 4
  },
  {
   "metadata": {
    "ExecuteTime": {
     "end_time": "2025-07-10T11:10:41.753149Z",
     "start_time": "2025-07-10T11:10:35.450603Z"
    }
   },
   "cell_type": "code",
   "source": [
    "import ro.jf.funds.fund.api.model.*\n",
    "\n",
    "val funds = client.provisionFunds(user, client.fromYaml(File(FUNDS_YAML_FILE)))\n",
    "funds.map { it.toString() }.joinToString(separator = \"\\n\")"
   ],
   "outputs": [
    {
     "data": {
      "text/plain": [
       "FundTO(id=f68605ea-4669-45a1-96ff-1ddd9a01794d, name=Expenses)\n",
       "FundTO(id=3521b534-bebf-4c5c-aaf6-feb6483520a8, name=Work Income)\n",
       "FundTO(id=bf9f7254-398c-4c89-ada1-6b23d375dec2, name=Other Income)\n",
       "FundTO(id=d35bfcec-f19c-41a8-ad9a-413bd93227bd, name=Savings)"
      ]
     },
     "execution_count": 5,
     "metadata": {},
     "output_type": "execute_result"
    }
   ],
   "execution_count": 5
  },
  {
   "metadata": {
    "ExecuteTime": {
     "end_time": "2025-07-10T11:10:47.360024Z",
     "start_time": "2025-07-10T11:10:41.859332Z"
    }
   },
   "cell_type": "code",
   "source": [
    "import ro.jf.funds.fund.api.model.*\n",
    "\n",
    "val initialBalancesTransactions = client.provisionInitialBalances(user, accounts, funds, client.fromYaml(File(INITIAL_BALANCE_YAML_FILE)))\n",
    "initialBalancesTransactions.map { it.toString() }.joinToString(separator = \"\\n\")"
   ],
   "outputs": [
    {
     "data": {
      "text/plain": [
       "FundTransactionTO(id=4085c83e-216b-4021-8aa5-2931d185d8db, userId=19a1bbb2-91e4-44a9-967d-bb263edfdb4b, dateTime=2018-12-31T00:00, records=[FundRecordTO(id=0742e3ad-1c10-4d98-9b30-97fda83d0dad, fundId=f68605ea-4669-45a1-96ff-1ddd9a01794d, accountId=80df3a01-9674-4798-96d0-c4f39fc27620, amount=474.5, unit=Currency(value=RON), labels=[])])\n",
       "FundTransactionTO(id=71d2975c-79d9-445b-bc55-4917001cbbbf, userId=19a1bbb2-91e4-44a9-967d-bb263edfdb4b, dateTime=2018-12-31T00:00, records=[FundRecordTO(id=71b404d5-f53b-4eb2-96d2-1a830b6ec25a, fundId=f68605ea-4669-45a1-96ff-1ddd9a01794d, accountId=f51d39bb-8d7a-4e3d-84b3-b1560d956225, amount=45.96, unit=Currency(value=RON), labels=[])])\n",
       "FundTransactionTO(id=708464e8-7703-4514-8ae9-278a57891e96, userId=19a1bbb2-91e4-44a9-967d-bb263edfdb4b, dateTime=2018-12-31T00:00, records=[FundRecordTO(id=6163930b-c48f-4424-ba9c-5149215b0040, fundId=f68605ea-4669-45a1-96ff-1ddd9a01794d, accountId=a820527f-9f4e-46a0-b038-a8de56248355, amount=3051.9, unit=Currency(value=RON), labels=[])])\n",
       "FundTransactionTO(id=2b9eaa6a-15fb-446d-9de2-5f68143a3a67, userId=19a1bbb2-91e4-44a9-967d-bb263edfdb4b, dateTime=2018-12-31T00:00, records=[FundRecordTO(id=24b037a9-d345-48b9-9016-8dc09f6a9b0c, fundId=f68605ea-4669-45a1-96ff-1ddd9a01794d, accountId=f49235ea-91d0-49e0-8fe7-27907913dd8c, amount=2194.13, unit=Currency(value=RON), labels=[])])"
      ]
     },
     "execution_count": 6,
     "metadata": {},
     "output_type": "execute_result"
    }
   ],
   "execution_count": 6
  },
  {
   "metadata": {
    "ExecuteTime": {
     "end_time": "2025-07-10T11:11:23.287757Z",
     "start_time": "2025-07-10T11:10:47.380508Z"
    }
   },
   "cell_type": "code",
   "source": [
    "import ro.jf.funds.importer.api.model.*\n",
    "\n",
    "val csvFiles =\n",
    "    listOf(File(\"../../data/wallet/2019\"), File(\"../../data/wallet/2020\"), File(\"../../data/wallet/2021\"))\n",
    "        .flatMap { it.listFiles()?.toList() ?: error(\"no files found\") }\n",
    "val importTask = client.importTransactions(user, client.fromYaml(File(IMPORT_CONFIGURATION_YAML_FILE)), csvFiles)\n",
    "importTask"
   ],
   "outputs": [
    {
     "data": {
      "text/plain": [
       "ImportTaskTO(taskId=9a6694ed-1f4d-4156-a88b-e8687d001254, status=COMPLETED, reason=null)"
      ]
     },
     "execution_count": 7,
     "metadata": {},
     "output_type": "execute_result"
    }
   ],
   "execution_count": 7
  }
 ],
 "metadata": {
  "kernelspec": {
   "display_name": "Kotlin",
   "language": "kotlin",
   "name": "kotlin"
  },
  "language_info": {
   "name": "kotlin",
   "version": "1.9.23",
   "mimetype": "text/x-kotlin",
   "file_extension": ".kt",
   "pygments_lexer": "kotlin",
   "codemirror_mode": "text/x-kotlin",
   "nbconvert_exporter": ""
  },
  "ktnbPluginMetadata": {
   "projectDependencies": [
    "funds.commons-api"
   ]
  }
 },
 "nbformat": 4,
 "nbformat_minor": 0
}
