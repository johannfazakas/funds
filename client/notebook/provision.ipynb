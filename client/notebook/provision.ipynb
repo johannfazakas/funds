{
 "cells": [
  {
   "metadata": {
    "ExecuteTime": {
     "end_time": "2025-02-07T04:47:51.463972Z",
     "start_time": "2025-02-07T04:47:47.444863Z"
    }
   },
   "cell_type": "code",
   "source": [
    "@file:DependsOn(\"io.ktor:ktor-client-core:2.0.0\")\n",
    "@file:DependsOn(\"io.ktor:ktor-client-cio:2.0.0\")\n",
    "@file:DependsOn(\"io.ktor:ktor-client-content-negotiation:2.0.0\")\n",
    "@file:DependsOn(\"io.ktor:ktor-serialization-kotlinx-json:2.0.0\")\n",
    "@file:DependsOn(\"ro.jf.funds:user-sdk:1.0.0\")\n",
    "@file:DependsOn(\"ro.jf.funds:import-sdk:1.0.0\")\n",
    "@file:DependsOn(\"ro.jf.funds:fund-sdk:1.0.0\")\n",
    "@file:DependsOn(\"ro.jf.funds:account-sdk:1.0.0\")\n",
    "%use dataframe\n"
   ],
   "outputs": [],
   "execution_count": 1
  },
  {
   "metadata": {
    "collapsed": true,
    "ExecuteTime": {
     "end_time": "2025-02-07T04:47:52.822425Z",
     "start_time": "2025-02-07T04:47:51.509930Z"
    }
   },
   "cell_type": "code",
   "source": [
    "import ro.jf.funds.account.sdk.AccountSdk\n",
    "import ro.jf.funds.fund.sdk.FundSdk\n",
    "import ro.jf.funds.importer.sdk.ImportSdk\n",
    "import ro.jf.funds.user.sdk.UserSdk\n",
    "import kotlinx.coroutines.runBlocking\n",
    "\n",
    "val ACCOUNTS_CSV_FILE = \"../../data/provision/accounts.csv\"\n",
    "val FUNDS_CSV_FILE = \"../../data/provision/funds.csv\"\n",
    "val ACCOUNT_MATCHERS_CSV_FILE = \"../../data/provision/account-matchers.csv\"\n",
    "val FUND_MATCHERS_CSV_FILE = \"../../data/provision/fund-matchers.csv\"\n",
    "val EXCHANGE_MATCHERS_CSV_FILE = \"../../data/provision/exchange-matchers.csv\"\n",
    "val LABEL_MATCHERS_CSV_FILE = \"../../data/provision/label-matchers.csv\"\n",
    "\n",
    "val userSdk = UserSdk()\n",
    "val accountSdk = AccountSdk()\n",
    "val fundSdk = FundSdk()\n",
    "val importSdk = ImportSdk()\n",
    "\n",
    "val username = \"Johann-8.1\"\n",
    "val user = runBlocking {\n",
    "    userSdk.findUserByUsername(username)\n",
    "        ?: userSdk.createUser(username)\n",
    "}\n",
    "user"
   ],
   "outputs": [
    {
     "data": {
      "text/plain": [
       "UserTO(id=190e8ce7-83b6-43fa-b1ee-303ab2147b42, username=Johann-8.1)"
      ]
     },
     "execution_count": 2,
     "metadata": {},
     "output_type": "execute_result"
    }
   ],
   "execution_count": 2
  },
  {
   "metadata": {
    "ExecuteTime": {
     "end_time": "2025-02-07T04:47:56.722609Z",
     "start_time": "2025-02-07T04:47:52.906404Z"
    }
   },
   "cell_type": "code",
   "source": [
    "import ro.jf.funds.account.api.model.*\n",
    "import ro.jf.funds.account.api.model.*\n",
    "import ro.jf.funds.commons.model.*\n",
    "import kotlinx.coroutines.runBlocking\n",
    "\n",
    "val accounts = runBlocking {\n",
    "    val existingAccounts = accountSdk.listAccounts(user.id).items\n",
    "    val existingAccountNames = existingAccounts.map { it.name }.toSet()\n",
    "    val newAccounts = DataFrame.readCSV(ACCOUNTS_CSV_FILE, delimiter = ';')\n",
    "        .map { row -> CreateAccountTO(AccountName(row.getValue<String>(\"account\")), Currency(row.getValue<String>(\"currency\"))) }\n",
    "        .filter { it.name !in existingAccountNames }\n",
    "        .map { accountSdk.createAccount(user.id, it) }\n",
    "    existingAccounts + newAccounts\n",
    "}\n",
    "accounts.map { it.toString() }.joinToString(separator = \"\\n\")"
   ],
   "outputs": [
    {
     "data": {
      "text/plain": [
       "AccountTO(id=0c5ecc71-4235-47bc-87d0-e2295f481f3f, name=Cash RON, unit=Currency(value=RON))\n",
       "AccountTO(id=2a1fe8a0-7b49-48f3-a541-7dd317a98285, name=Cash EUR, unit=Currency(value=EUR))\n",
       "AccountTO(id=ded743c2-f9f1-4485-98cf-968c83a441da, name=ING RON, unit=Currency(value=RON))\n",
       "AccountTO(id=d24a1784-4c03-4b9e-a3d8-77c771cb5ca3, name=ING Economy, unit=Currency(value=RON))\n",
       "AccountTO(id=fce4566d-347a-48fe-bc63-33be71839430, name=Food Coupons, unit=Currency(value=RON))\n",
       "AccountTO(id=28652aa3-0a8e-4a9f-93de-b00b36902858, name=Revolut RON, unit=Currency(value=RON))\n",
       "AccountTO(id=e474f016-729b-4231-b150-7d890730c8fb, name=Other, unit=Currency(value=RON))\n",
       "AccountTO(id=4d021c2b-1bc9-49aa-ae8f-d216d0267d6b, name=BT RON, unit=Currency(value=RON))\n",
       "AccountTO(id=0dfecf11-1b2e-44be-a384-e71e343a8468, name=BT Economy RON, unit=Currency(value=RON))"
      ]
     },
     "execution_count": 3,
     "metadata": {},
     "output_type": "execute_result"
    }
   ],
   "execution_count": 3
  },
  {
   "metadata": {
    "ExecuteTime": {
     "end_time": "2025-02-07T04:47:58.422484Z",
     "start_time": "2025-02-07T04:47:56.763206Z"
    }
   },
   "cell_type": "code",
   "source": [
    "import ro.jf.funds.fund.api.model.*\n",
    "import kotlinx.coroutines.runBlocking\n",
    "\n",
    "val funds = runBlocking {\n",
    "    val existingFunds = fundSdk.listFunds(user.id).items\n",
    "    val existingFundNames = existingFunds.map { it.name }.toSet()\n",
    "    val newFunds = DataFrame.readCSV(FUNDS_CSV_FILE, delimiter = ';')\n",
    "        .map { row -> CreateFundTO(FundName(row.getValue<String>(\"fund\"))) }\n",
    "        .filter { it.name !in existingFundNames }\n",
    "        .map { fundSdk.createFund(user.id, it) }\n",
    "    existingFunds + newFunds\n",
    "}\n",
    "funds.map { it.toString() }.joinToString(separator = \"\\n\")"
   ],
   "outputs": [
    {
     "data": {
      "text/plain": [
       "FundTO(id=7bc9ded0-f031-44c7-9b4e-41b7f697e18c, name=Expenses)\n",
       "FundTO(id=ac957e50-b47c-4d59-a48d-884d46ed3341, name=Work Income)\n",
       "FundTO(id=d1a899ba-db41-4903-97e1-e12648488cee, name=Savings)\n",
       "FundTO(id=cc3d86a4-fd00-4692-a2e4-125dc483d754, name=Gifts)"
      ]
     },
     "execution_count": 4,
     "metadata": {},
     "output_type": "execute_result"
    }
   ],
   "execution_count": 4
  },
  {
   "metadata": {
    "ExecuteTime": {
     "end_time": "2025-02-07T04:47:58.558800Z",
     "start_time": "2025-02-07T04:47:58.444742Z"
    }
   },
   "cell_type": "code",
   "source": [
    "import ro.jf.funds.importer.api.model.AccountMatcherTO\n",
    "\n",
    "val accountMatchers = runBlocking {\n",
    "    DataFrame.readCSV(ACCOUNT_MATCHERS_CSV_FILE, delimiter = ';')\n",
    "        .map { row -> AccountMatcherTO(row.getValue<String>(\"import_account_name\"), AccountName(row.getValue<String>(\"account_name\"))) }\n",
    "}\n",
    "accountMatchers.map { it.toString() }.joinToString(separator = \"\\n\")"
   ],
   "outputs": [
    {
     "data": {
      "text/plain": [
       "AccountMatcherTO(importAccountName=ING old, accountName=ING RON)\n",
       "AccountMatcherTO(importAccountName=ING Economy old, accountName=ING Economy)\n",
       "AccountMatcherTO(importAccountName=Cash RON, accountName=Cash RON)\n",
       "AccountMatcherTO(importAccountName=Euro, accountName=Cash EUR)\n",
       "AccountMatcherTO(importAccountName=Food Coupons, accountName=Food Coupons)\n",
       "AccountMatcherTO(importAccountName=Revolut - Manual, accountName=Revolut RON)\n",
       "AccountMatcherTO(importAccountName=Other, accountName=Other)\n",
       "AccountMatcherTO(importAccountName=BT RON, accountName=BT RON)\n",
       "AccountMatcherTO(importAccountName=BT Economy RON, accountName=BT Economy RON)"
      ]
     },
     "execution_count": 5,
     "metadata": {},
     "output_type": "execute_result"
    }
   ],
   "execution_count": 5
  },
  {
   "metadata": {
    "ExecuteTime": {
     "end_time": "2025-02-07T04:47:58.814119Z",
     "start_time": "2025-02-07T04:47:58.565777Z"
    }
   },
   "cell_type": "code",
   "source": [
    "import ro.jf.funds.importer.api.model.*\n",
    "\n",
    "val fundMatchers = runBlocking {\n",
    "    DataFrame.readCSV(FUND_MATCHERS_CSV_FILE, delimiter = ';')\n",
    "        .map { row ->\n",
    "            when (row.getValue<String>(\"type\")) {\n",
    "                \"by_account\" -> FundMatcherTO.ByAccount(\n",
    "                    importAccountName = row.getValue<String>(\"import_account_name\"),\n",
    "                    fundName = FundName(row.getValue<String>(\"fund_name\"))\n",
    "                )\n",
    "                \n",
    "                \"by_label\" -> FundMatcherTO.ByLabel(\n",
    "                    importLabel = row.getValue<String>(\"import_label\"),\n",
    "                    fundName = FundName(row.getValue<String>(\"fund_name\"))\n",
    "                )\n",
    "\n",
    "                \"by_account_label\" -> FundMatcherTO.ByAccountLabel(\n",
    "                    importAccountName = row.getValue<String>(\"import_account_name\"),\n",
    "                    importLabel = row.getValue<String>(\"import_label\"),\n",
    "                    fundName = FundName(row.getValue<String>(\"fund_name\"))\n",
    "                )\n",
    "\n",
    "                \"by_label_with_transfer\" -> FundMatcherTO.ByLabelWithTransfer(\n",
    "                    importLabel = row.getValue<String>(\"import_label\"),\n",
    "                    initialFundName = FundName(row.getValue<String>(\"initial_fund_name\")),\n",
    "                    fundName = FundName(row.getValue<String>(\"fund_name\"))\n",
    "                )\n",
    "\n",
    "                \"by_account_label_with_transfer\" -> FundMatcherTO.ByAccountLabelWithTransfer(\n",
    "                    importAccountName = row.getValue<String>(\"import_account_name\"),\n",
    "                    importLabel = row.getValue<String>(\"import_label\"),\n",
    "                    initialFundName = FundName(row.getValue<String>(\"initial_fund_name\")),\n",
    "                    fundName = FundName(row.getValue<String>(\"fund_name\"))\n",
    "                )\n",
    "\n",
    "                else -> error(\"fund matcher type not recognized ${row.getValue<String>(\"type\")}\")\n",
    "            }\n",
    "        }\n",
    "}\n",
    "fundMatchers.map { it.toString() }.joinToString(separator = \"\\n\")"
   ],
   "outputs": [
    {
     "data": {
      "text/plain": [
       "ByAccountLabelWithTransfer(importAccountName=ING Economy old, importLabel=Invest Profit Dist, initialFundName=Savings, fundName=Expenses)\n",
       "ByAccountLabelWithTransfer(importAccountName=ING old, importLabel=Work Income, initialFundName=Work Income, fundName=Expenses)\n",
       "ByAccountLabelWithTransfer(importAccountName=Food Coupons, importLabel=Work Income, initialFundName=Work Income, fundName=Expenses)\n",
       "ByAccountLabelWithTransfer(importAccountName=BT RON, importLabel=Work Income, initialFundName=Work Income, fundName=Expenses)\n",
       "ByAccountLabelWithTransfer(importAccountName=BT Economy RON, importLabel=Invest Profit Dist, initialFundName=Savings, fundName=Expenses)\n",
       "ByLabelWithTransfer(importLabel=Gift Income, initialFundName=Gifts, fundName=Expenses)\n",
       "ByLabel(importLabel=Basic - Food, fundName=Expenses)\n",
       "ByLabel(importLabel=C&T - Gas & Parking, fundName=Expenses)\n",
       "ByLabel(importLabel=Development - Education, fundName=Expenses)\n",
       "ByLabel(importLabel=F&V - Fun, fundName=Expenses)\n",
       "ByLabel(importLabel=S&S - Objects, fundName=Expenses)\n",
       "ByLabel(importLabel=Home - House, fundName=Expenses)\n",
       "ByLabel(importLabel=Gifts, fundName=Expenses)\n",
       "ByAccount(importAccountName=ING old, fundName=Expenses)\n",
       "ByAccount(importAccountName=ING Economy old, fundName=Expenses)\n",
       "ByAccount(importAccountName=Cash RON, fundName=Expenses)\n",
       "ByAccount(importAccountName=Euro, fundName=Expenses)\n",
       "ByAccount(importAccountName=Other, fundName=Expenses)\n",
       "ByAccount(importAccountName=Revolut - Manual, fundName=Expenses)\n",
       "ByAccount(importAccountName=Food Coupons, fundName=Expenses)\n",
       "ByAccount(importAccountName=BT RON, fundName=Expenses)\n",
       "ByAccount(importAccountName=BT Economy RON, fundName=Expenses)"
      ]
     },
     "execution_count": 6,
     "metadata": {},
     "output_type": "execute_result"
    }
   ],
   "execution_count": 6
  },
  {
   "metadata": {
    "ExecuteTime": {
     "end_time": "2025-02-07T04:47:58.905490Z",
     "start_time": "2025-02-07T04:47:58.824516Z"
    }
   },
   "cell_type": "code",
   "source": [
    "val exchangeMatchers = runBlocking {\n",
    "    DataFrame.readCSV(EXCHANGE_MATCHERS_CSV_FILE, delimiter = ';')\n",
    "        .map { row ->\n",
    "            when (row.getValue<String>(\"type\")) {\n",
    "                \"by_label\" -> ExchangeMatcherTO.ByLabel(\n",
    "                    label = row.getValue<String>(\"label\"),\n",
    "                )\n",
    "\n",
    "                else -> error(\"exchange matcher type not recognized ${row.getValue<String>(\"type\")}\")\n",
    "            }\n",
    "        }\n",
    "}\n",
    "exchangeMatchers.map { it.toString() }.joinToString(separator = \"\\n\")"
   ],
   "outputs": [
    {
     "data": {
      "text/plain": [
       "ByLabel(label=Exchange)"
      ]
     },
     "execution_count": 7,
     "metadata": {},
     "output_type": "execute_result"
    }
   ],
   "execution_count": 7
  },
  {
   "metadata": {
    "ExecuteTime": {
     "end_time": "2025-02-07T04:47:58.978017Z",
     "start_time": "2025-02-07T04:47:58.911562Z"
    }
   },
   "cell_type": "code",
   "source": [
    "val labelMatchers = runBlocking {\n",
    "    DataFrame.readCSV(LABEL_MATCHERS_CSV_FILE, delimiter = ';')\n",
    "        .map { row ->\n",
    "            LabelMatcherTO(row.getValue<String>(\"import_label\"), Label(row.getValue<String>(\"label\")))\n",
    "        }\n",
    "}\n",
    "labelMatchers.map { it.toString() }.joinToString(separator = \"\\n\")"
   ],
   "outputs": [
    {
     "data": {
      "text/plain": [
       "LabelMatcherTO(importLabel=Basic - Food, label=basic)\n",
       "LabelMatcherTO(importLabel=Home - House, label=home)\n",
       "LabelMatcherTO(importLabel=C&T - Gas & Parking, label=transport)\n",
       "LabelMatcherTO(importLabel=S&S - Objects, label=shopping_services)\n",
       "LabelMatcherTO(importLabel=F&V - Fun, label=fun)\n",
       "LabelMatcherTO(importLabel=Gifts, label=gifts)\n",
       "LabelMatcherTO(importLabel=Development - Education, label=development)\n",
       "LabelMatcherTO(importLabel=Work Income, label=income)\n",
       "LabelMatcherTO(importLabel=Invest Profit Dist, label=profit_distributed)\n",
       "LabelMatcherTO(importLabel=Exchange, label=exchange)\n",
       "LabelMatcherTO(importLabel=Gift Income, label=gift_income)"
      ]
     },
     "execution_count": 8,
     "metadata": {},
     "output_type": "execute_result"
    }
   ],
   "execution_count": 8
  },
  {
   "metadata": {},
   "cell_type": "markdown",
   "source": ""
  },
  {
   "metadata": {
    "ExecuteTime": {
     "end_time": "2025-02-07T04:48:15.614316Z",
     "start_time": "2025-02-07T04:47:58.998725Z"
    }
   },
   "cell_type": "code",
   "source": [
    "import kotlinx.coroutines.delay\n",
    "import kotlinx.coroutines.runBlocking\n",
    "import kotlinx.datetime.Clock\n",
    "import ro.jf.funds.importer.api.model.*\n",
    "import java.io.File\n",
    "import java.util.*\n",
    "import kotlin.time.Duration\n",
    "\n",
    "val csvFiles = File(\"../../data/wallet/2019\")\n",
    "    .listFiles()?.toList() ?: error(\"no files found\")\n",
    "val importConfiguration = ImportConfigurationTO(\n",
    "    fileType = ImportFileTypeTO.WALLET_CSV,\n",
    "    accountMatchers = accountMatchers,\n",
    "    fundMatchers = fundMatchers,\n",
    "    exchangeMatchers = exchangeMatchers,\n",
    "    labelMatchers = labelMatchers\n",
    ")\n",
    "runBlocking {\n",
    "    var importTask = importSdk.import(user.id, importConfiguration, csvFiles)\n",
    "    val now: Instant = Clock.System.now()\n",
    "    val timeout = 60.seconds\n",
    "    while (importTask.status == ImportTaskTO.Status.IN_PROGRESS && Clock.System.now() - now < timeout) {\n",
    "        delay(500)\n",
    "        importTask = importSdk.getImportTask(user.id, importTask.taskId)\n",
    "    }\n",
    "    importTask\n",
    "}\n"
   ],
   "outputs": [
    {
     "data": {
      "text/plain": [
       "ImportTaskTO(taskId=f16b8847-15ee-41c0-b842-b9089d379b9c, status=COMPLETED, reason=null)"
      ]
     },
     "execution_count": 9,
     "metadata": {},
     "output_type": "execute_result"
    }
   ],
   "execution_count": 9
  }
 ],
 "metadata": {
  "kernelspec": {
   "display_name": "Kotlin",
   "language": "kotlin",
   "name": "kotlin"
  },
  "language_info": {
   "name": "kotlin",
   "version": "1.9.23",
   "mimetype": "text/x-kotlin",
   "file_extension": ".kt",
   "pygments_lexer": "kotlin",
   "codemirror_mode": "text/x-kotlin",
   "nbconvert_exporter": ""
  },
  "ktnbPluginMetadata": {
   "projectDependencies": [
    "funds.commons-api"
   ]
  }
 },
 "nbformat": 4,
 "nbformat_minor": 0
}
