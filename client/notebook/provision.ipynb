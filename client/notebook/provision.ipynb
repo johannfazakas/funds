{
 "cells": [
  {
   "metadata": {
    "ExecuteTime": {
     "end_time": "2025-03-10T12:59:13.642380Z",
     "start_time": "2025-03-10T12:59:07.841198Z"
    }
   },
   "cell_type": "code",
   "source": [
    "@file:DependsOn(\"io.ktor:ktor-client-core:2.3.12\")\n",
    "@file:DependsOn(\"io.ktor:ktor-client-cio:2.3.12\")\n",
    "@file:DependsOn(\"io.ktor:ktor-client-content-negotiation:2.3.12\")\n",
    "@file:DependsOn(\"io.ktor:ktor-serialization-kotlinx-json:2.3.12\")\n",
    "@file:DependsOn(\"ro.jf.funds:user-sdk:1.0.0\")\n",
    "@file:DependsOn(\"ro.jf.funds:import-sdk:1.0.0\")\n",
    "@file:DependsOn(\"ro.jf.funds:fund-sdk:1.0.0\")\n",
    "@file:DependsOn(\"ro.jf.funds:account-sdk:1.0.0\")\n",
    "%use dataframe\n"
   ],
   "outputs": [],
   "execution_count": 1
  },
  {
   "metadata": {
    "collapsed": true,
    "ExecuteTime": {
     "end_time": "2025-03-10T12:59:16.412064Z",
     "start_time": "2025-03-10T12:59:13.656148Z"
    }
   },
   "cell_type": "code",
   "source": [
    "import ro.jf.funds.account.sdk.AccountSdk\n",
    "import ro.jf.funds.fund.sdk.FundSdk\n",
    "import ro.jf.funds.importer.sdk.ImportSdk\n",
    "import ro.jf.funds.user.sdk.UserSdk\n",
    "import kotlinx.coroutines.runBlocking\n",
    "\n",
    "// TODO(Johann) could these be moved to json configuration files?\n",
    "val ACCOUNTS_CSV_FILE = \"../../data/provision/accounts.csv\"\n",
    "val FUNDS_CSV_FILE = \"../../data/provision/funds.csv\"\n",
    "val IMPORT_CONFIGURATION_FILE = \"../../data/provision/import-configuration.json\"\n",
    "\n",
    "val userSdk = UserSdk()\n",
    "val accountSdk = AccountSdk()\n",
    "val fundSdk = FundSdk()\n",
    "val importSdk = ImportSdk()\n",
    "\n",
    "val username = \"Johann-12.1\"\n",
    "val user = runBlocking {\n",
    "    userSdk.findUserByUsername(username)\n",
    "        ?: userSdk.createUser(username)\n",
    "}\n",
    "user"
   ],
   "outputs": [
    {
     "data": {
      "text/plain": [
       "UserTO(id=a4894ef4-bb5d-4288-bc0c-a77c2b189cc6, username=Johann-12.1)"
      ]
     },
     "execution_count": 2,
     "metadata": {},
     "output_type": "execute_result"
    }
   ],
   "execution_count": 2
  },
  {
   "metadata": {
    "ExecuteTime": {
     "end_time": "2025-03-10T12:59:20.596806Z",
     "start_time": "2025-03-10T12:59:16.419583Z"
    }
   },
   "cell_type": "code",
   "source": [
    "import ro.jf.funds.account.api.model.*\n",
    "import ro.jf.funds.account.api.model.*\n",
    "import ro.jf.funds.commons.model.*\n",
    "import kotlinx.coroutines.runBlocking\n",
    "\n",
    "val accounts = runBlocking {\n",
    "    val existingAccounts = accountSdk.listAccounts(user.id).items\n",
    "    val existingAccountNames = existingAccounts.map { it.name }.toSet()\n",
    "    val newAccounts = DataFrame.readCSV(ACCOUNTS_CSV_FILE, delimiter = ';')\n",
    "        .map { row -> CreateAccountTO(AccountName(row.getValue<String>(\"account\")), Currency(row.getValue<String>(\"currency\"))) }\n",
    "        .filter { it.name !in existingAccountNames }\n",
    "        .map { accountSdk.createAccount(user.id, it) }\n",
    "    existingAccounts + newAccounts\n",
    "}\n",
    "accounts.map { it.toString() }.joinToString(separator = \"\\n\")"
   ],
   "outputs": [
    {
     "data": {
      "text/plain": [
       "AccountTO(id=8fcd2da0-ecb9-4053-9b23-f88c1e977477, name=Cash RON, unit=Currency(value=RON))\n",
       "AccountTO(id=073c9f4c-14eb-469d-a950-9181096de459, name=Cash EUR, unit=Currency(value=EUR))\n",
       "AccountTO(id=3b07db9b-a58f-40d9-8cf6-fd8a97d1e84b, name=ING RON, unit=Currency(value=RON))\n",
       "AccountTO(id=5368dbef-8537-4a71-af24-1f4fbaa0c3ac, name=ING Economy, unit=Currency(value=RON))\n",
       "AccountTO(id=b4ac92b9-0bd5-4590-868b-e7bcf2d8eb1c, name=Food Coupons, unit=Currency(value=RON))\n",
       "AccountTO(id=5e4f37df-56f1-485b-a224-2e9131217349, name=Revolut RON, unit=Currency(value=RON))\n",
       "AccountTO(id=cc4f3936-62ef-4725-8238-9e04c637ff63, name=Other, unit=Currency(value=RON))\n",
       "AccountTO(id=6d7e64df-a1dc-484c-b3f4-9840dbad19e4, name=BT RON, unit=Currency(value=RON))\n",
       "AccountTO(id=4b303c2a-3952-42d6-9e68-3d4bbdd76f70, name=BT Economy RON, unit=Currency(value=RON))"
      ]
     },
     "execution_count": 3,
     "metadata": {},
     "output_type": "execute_result"
    }
   ],
   "execution_count": 3
  },
  {
   "metadata": {
    "ExecuteTime": {
     "end_time": "2025-03-10T12:59:24.108328Z",
     "start_time": "2025-03-10T12:59:20.603497Z"
    }
   },
   "cell_type": "code",
   "source": [
    "import ro.jf.funds.fund.api.model.*\n",
    "import kotlinx.coroutines.runBlocking\n",
    "\n",
    "val funds = runBlocking {\n",
    "    val existingFunds = fundSdk.listFunds(user.id).items\n",
    "    val existingFundNames = existingFunds.map { it.name }.toSet()\n",
    "    val newFunds = DataFrame.readCSV(FUNDS_CSV_FILE, delimiter = ';')\n",
    "        .map { row -> CreateFundTO(FundName(row.getValue<String>(\"fund\"))) }\n",
    "        .filter { it.name !in existingFundNames }\n",
    "        .map { fundSdk.createFund(user.id, it) }\n",
    "    existingFunds + newFunds\n",
    "}\n",
    "funds.map { it.toString() }.joinToString(separator = \"\\n\")"
   ],
   "outputs": [
    {
     "data": {
      "text/plain": [
       "FundTO(id=c8fab236-25f1-43d0-a8c8-0f5331821c68, name=Expenses)\n",
       "FundTO(id=13ad7a17-cb5e-42c3-b2a7-12ba28f7d355, name=Work Income)\n",
       "FundTO(id=677aa5fb-aacb-4947-9b74-da6ff5b8cba2, name=Savings)\n",
       "FundTO(id=f8eb2bc0-ae22-4351-9530-f549d6cb5988, name=Gifts)"
      ]
     },
     "execution_count": 4,
     "metadata": {},
     "output_type": "execute_result"
    }
   ],
   "execution_count": 4
  },
  {
   "metadata": {
    "ExecuteTime": {
     "end_time": "2025-03-10T12:59:24.189886Z",
     "start_time": "2025-03-10T12:59:24.113059Z"
    }
   },
   "cell_type": "code",
   "source": [
    "import ro.jf.funds.importer.api.model.*\n",
    "import kotlinx.serialization.json.Json\n",
    "\n",
    "val dataConfigurationRawJson: String = File(IMPORT_CONFIGURATION_FILE).readText()\n",
    "val jsonFormat = Json { ignoreUnknownKeys = true }\n",
    "val importConfiguration = jsonFormat.decodeFromString<ImportConfigurationTO>(dataConfigurationRawJson)"
   ],
   "outputs": [],
   "execution_count": 5
  },
  {
   "metadata": {},
   "cell_type": "markdown",
   "source": ""
  },
  {
   "metadata": {
    "ExecuteTime": {
     "end_time": "2025-03-10T12:59:49.180379Z",
     "start_time": "2025-03-10T12:59:24.194588Z"
    }
   },
   "cell_type": "code",
   "source": [
    "import kotlinx.coroutines.delay\n",
    "import kotlinx.coroutines.runBlocking\n",
    "import kotlinx.datetime.Clock\n",
    "import ro.jf.funds.importer.api.model.*\n",
    "import java.io.File\n",
    "import java.util.*\n",
    "import kotlin.time.Duration\n",
    "\n",
    "val csvFiles = File(\"../../data/wallet/2019\")\n",
    "    .listFiles()?.toList() ?: error(\"no files found\")\n",
    "runBlocking {\n",
    "    var importTask = importSdk.import(user.id, importConfiguration, csvFiles)\n",
    "    val now: Instant = Clock.System.now()\n",
    "    val timeout = 60.seconds\n",
    "    while (importTask.status == ImportTaskTO.Status.IN_PROGRESS && Clock.System.now() - now < timeout) {\n",
    "        delay(500)\n",
    "        importTask = importSdk.getImportTask(user.id, importTask.taskId)\n",
    "    }\n",
    "    importTask\n",
    "}\n"
   ],
   "outputs": [
    {
     "data": {
      "text/plain": [
       "ImportTaskTO(taskId=091c4e0a-0112-4f28-8380-93fdacc0f9e9, status=COMPLETED, reason=null)"
      ]
     },
     "execution_count": 6,
     "metadata": {},
     "output_type": "execute_result"
    }
   ],
   "execution_count": 6
  }
 ],
 "metadata": {
  "kernelspec": {
   "display_name": "Kotlin",
   "language": "kotlin",
   "name": "kotlin"
  },
  "language_info": {
   "name": "kotlin",
   "version": "1.9.23",
   "mimetype": "text/x-kotlin",
   "file_extension": ".kt",
   "pygments_lexer": "kotlin",
   "codemirror_mode": "text/x-kotlin",
   "nbconvert_exporter": ""
  },
  "ktnbPluginMetadata": {
   "projectDependencies": [
    "funds.commons-api"
   ]
  }
 },
 "nbformat": 4,
 "nbformat_minor": 0
}
