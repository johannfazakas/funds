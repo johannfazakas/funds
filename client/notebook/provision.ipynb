{
 "cells": [
  {
   "metadata": {
    "ExecuteTime": {
     "end_time": "2025-06-27T09:25:28.269473Z",
     "start_time": "2025-06-27T09:25:23.774852Z"
    }
   },
   "cell_type": "code",
   "source": [
    "@file:DependsOn(\"ro.jf.funds:funds-notebook-client:1.0.0\")\n",
    "%use dataframe\n",
    "\n",
    "import ro.jf.funds.client.notebook.*\n",
    "import kotlinx.coroutines.runBlocking\n",
    "\n",
    "val username = \"Johann-23.1\"\n",
    "\n",
    "val client = FundsClient()\n"
   ],
   "outputs": [],
   "execution_count": 1
  },
  {
   "metadata": {
    "ExecuteTime": {
     "end_time": "2025-06-27T09:25:30.131269Z",
     "start_time": "2025-06-27T09:25:28.291862Z"
    }
   },
   "cell_type": "code",
   "source": [
    "val user = runBlocking { client.ensureUserExists(username) }\n",
    "user"
   ],
   "outputs": [
    {
     "data": {
      "text/plain": [
       "UserTO(id=d1ddea37-876f-4680-88c4-e57fe206e4a3, username=Johann-23.1)"
      ]
     },
     "execution_count": 2,
     "metadata": {},
     "output_type": "execute_result"
    }
   ],
   "execution_count": 2
  },
  {
   "metadata": {
    "collapsed": true,
    "ExecuteTime": {
     "end_time": "2025-06-27T09:25:31.414803Z",
     "start_time": "2025-06-27T09:25:31.031644Z"
    }
   },
   "cell_type": "code",
   "source": [
    "val ACCOUNTS_YAML_FILE = \"../../data/provision/accounts.yaml\"\n",
    "val FUNDS_YAML_FILE = \"../../data/provision/funds.yaml\"\n",
    "val INITIAL_BALANCE_YAML_FILE = \"../../data/provision/initial-balance.yaml\"\n",
    "val IMPORT_CONFIGURATION_JSON_FILE = \"../../data/provision/import-configuration.json\"\n",
    "val IMPORT_CONFIGURATION_YAML_FILE = \"../../data/provision/import-configuration.yaml\"\n"
   ],
   "outputs": [],
   "execution_count": 3
  },
  {
   "metadata": {
    "ExecuteTime": {
     "end_time": "2025-06-27T09:25:38.913471Z",
     "start_time": "2025-06-27T09:25:33.305485Z"
    }
   },
   "cell_type": "code",
   "source": [
    "import ro.jf.funds.account.api.model.*\n",
    "\n",
    "val accounts = runBlocking { client.provisionAccounts(user, File(ACCOUNTS_YAML_FILE)) }\n",
    "accounts.map { it.toString() }.joinToString(separator = \"\\n\")"
   ],
   "outputs": [
    {
     "data": {
      "text/plain": [
       "AccountTO(id=7dcc70e5-58ad-4cf6-b5c3-b07685d2fd15, name=Cash RON, unit=Currency(value=RON))\n",
       "AccountTO(id=61cec700-befb-4e0e-b2c8-4eab28b1b921, name=Cash EUR, unit=Currency(value=EUR))\n",
       "AccountTO(id=d7306d69-116f-41b8-9647-ae3d1a538baf, name=ING RON, unit=Currency(value=RON))\n",
       "AccountTO(id=53a30fdd-a949-4ed9-b001-3060b03798f1, name=ING Economy, unit=Currency(value=RON))\n",
       "AccountTO(id=888de226-7606-4d20-845b-a39876ec906e, name=Food Coupons, unit=Currency(value=RON))\n",
       "AccountTO(id=eba90904-40b7-48c3-b2e4-af34f6d1604d, name=Revolut RON, unit=Currency(value=RON))\n",
       "AccountTO(id=a1156399-ba21-45e1-9024-c9c783b92fca, name=Other, unit=Currency(value=RON))\n",
       "AccountTO(id=6c1df28d-2993-4878-b292-9dfb8a608a25, name=BT RON, unit=Currency(value=RON))\n",
       "AccountTO(id=fb9dc58d-cf06-4b4a-9d14-9f151d3d9e14, name=BT Economy RON, unit=Currency(value=RON))"
      ]
     },
     "execution_count": 4,
     "metadata": {},
     "output_type": "execute_result"
    }
   ],
   "execution_count": 4
  },
  {
   "metadata": {
    "ExecuteTime": {
     "end_time": "2025-06-27T09:25:42.093952Z",
     "start_time": "2025-06-27T09:25:38.956654Z"
    }
   },
   "cell_type": "code",
   "source": [
    "import ro.jf.funds.fund.api.model.*\n",
    "\n",
    "val funds = runBlocking { client.provisionFunds(user, File(FUNDS_YAML_FILE)) }\n",
    "funds.map { it.toString() }.joinToString(separator = \"\\n\")"
   ],
   "outputs": [
    {
     "data": {
      "text/plain": [
       "FundTO(id=2a19d6f7-ac7d-4e15-8389-2388920fc679, name=Expenses)\n",
       "FundTO(id=d6dc241d-6cd7-4251-801c-54c7f38532b3, name=Work Income)\n",
       "FundTO(id=02a20bbc-1c95-427c-9369-0c81e951af57, name=Savings)\n",
       "FundTO(id=45243e50-9a95-4349-974e-808073710975, name=Gifts)"
      ]
     },
     "execution_count": 5,
     "metadata": {},
     "output_type": "execute_result"
    }
   ],
   "execution_count": 5
  },
  {
   "metadata": {
    "ExecuteTime": {
     "end_time": "2025-06-27T09:25:46.117969Z",
     "start_time": "2025-06-27T09:25:42.855608Z"
    }
   },
   "cell_type": "code",
   "source": [
    "import ro.jf.funds.fund.api.model.*\n",
    "\n",
    "val initialBalancesTransactions = runBlocking {\n",
    "    client.provisionInitialBalances(user, accounts, funds, File(INITIAL_BALANCE_YAML_FILE))\n",
    "}\n",
    "initialBalancesTransactions.map { it.toString() }.joinToString(separator = \"\\n\")"
   ],
   "outputs": [
    {
     "data": {
      "text/plain": [
       "FundTransactionTO(id=fe275b4d-1710-4cb7-8749-766df1fb8489, userId=d1ddea37-876f-4680-88c4-e57fe206e4a3, dateTime=2018-12-31T00:00, records=[FundRecordTO(id=5f106fea-85fa-4475-a752-9ab4ca3476cf, fundId=2a19d6f7-ac7d-4e15-8389-2388920fc679, accountId=7dcc70e5-58ad-4cf6-b5c3-b07685d2fd15, amount=474.5, unit=Currency(value=RON), labels=[])])\n",
       "FundTransactionTO(id=68912a9f-2db0-4861-85ff-4c4ba905e983, userId=d1ddea37-876f-4680-88c4-e57fe206e4a3, dateTime=2018-12-31T00:00, records=[FundRecordTO(id=3ee4eb61-d26f-47e2-9570-fe37132fd712, fundId=2a19d6f7-ac7d-4e15-8389-2388920fc679, accountId=888de226-7606-4d20-845b-a39876ec906e, amount=45.96, unit=Currency(value=RON), labels=[])])\n",
       "FundTransactionTO(id=032be4a2-cf55-450b-b842-1ffe2520ece9, userId=d1ddea37-876f-4680-88c4-e57fe206e4a3, dateTime=2018-12-31T00:00, records=[FundRecordTO(id=07accace-c30a-4491-9069-5b983466bdf1, fundId=2a19d6f7-ac7d-4e15-8389-2388920fc679, accountId=a1156399-ba21-45e1-9024-c9c783b92fca, amount=3051.9, unit=Currency(value=RON), labels=[])])\n",
       "FundTransactionTO(id=0c94caa2-c009-4456-a6cb-f66481764a16, userId=d1ddea37-876f-4680-88c4-e57fe206e4a3, dateTime=2018-12-31T00:00, records=[FundRecordTO(id=20cf14f7-1535-4e2a-b43f-a92e0f3fecad, fundId=2a19d6f7-ac7d-4e15-8389-2388920fc679, accountId=6c1df28d-2993-4878-b292-9dfb8a608a25, amount=2194.13, unit=Currency(value=RON), labels=[])])"
      ]
     },
     "execution_count": 6,
     "metadata": {},
     "output_type": "execute_result"
    }
   ],
   "execution_count": 6
  },
  {
   "metadata": {
    "ExecuteTime": {
     "end_time": "2025-06-27T09:26:07.286150Z",
     "start_time": "2025-06-27T09:25:46.137306Z"
    }
   },
   "cell_type": "code",
   "source": [
    "import ro.jf.funds.importer.api.model.*\n",
    "\n",
    "val importTask = runBlocking {\n",
    "    val csvFiles =\n",
    "        listOf(File(\"../../data/wallet/2019\"), File(\"../../data/wallet/2020\"))\n",
    "            .flatMap { it.listFiles()?.toList() ?: error(\"no files found\") }\n",
    "    client.importTransactions(user, File(IMPORT_CONFIGURATION_YAML_FILE), csvFiles)\n",
    "}\n",
    "importTask\n"
   ],
   "outputs": [
    {
     "data": {
      "text/plain": [
       "ImportTaskTO(taskId=d96d1dd1-b637-40a2-9778-93e55bc4b8aa, status=COMPLETED, reason=null)"
      ]
     },
     "execution_count": 7,
     "metadata": {},
     "output_type": "execute_result"
    }
   ],
   "execution_count": 7
  }
 ],
 "metadata": {
  "kernelspec": {
   "display_name": "Kotlin",
   "language": "kotlin",
   "name": "kotlin"
  },
  "language_info": {
   "name": "kotlin",
   "version": "1.9.23",
   "mimetype": "text/x-kotlin",
   "file_extension": ".kt",
   "pygments_lexer": "kotlin",
   "codemirror_mode": "text/x-kotlin",
   "nbconvert_exporter": ""
  },
  "ktnbPluginMetadata": {
   "projectDependencies": [
    "funds.commons-api"
   ]
  }
 },
 "nbformat": 4,
 "nbformat_minor": 0
}
