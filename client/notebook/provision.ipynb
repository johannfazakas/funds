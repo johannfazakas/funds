{
 "cells": [
  {
   "metadata": {
    "collapsed": true,
    "ExecuteTime": {
     "end_time": "2024-10-22T21:58:37.648932Z",
     "start_time": "2024-10-22T21:58:35.722632Z"
    }
   },
   "cell_type": "code",
   "source": [
    "@file:DependsOn(\"io.ktor:ktor-client-core:2.0.0\")\n",
    "@file:DependsOn(\"io.ktor:ktor-client-cio:2.0.0\")\n",
    "@file:DependsOn(\"io.ktor:ktor-client-content-negotiation:2.0.0\")\n",
    "@file:DependsOn(\"io.ktor:ktor-serialization-kotlinx-json:2.0.0\")\n",
    "@file:DependsOn(\"ro.jf.funds:import-sdk:1.0.0\")\n",
    "@file:DependsOn(\"ro.jf.funds:fund-sdk:1.0.0\")\n",
    "@file:DependsOn(\"ro.jf.funds:account-sdk:1.0.0\")\n",
    "%use dataframe\n",
    "\n",
    "import ro.jf.funds.account.sdk.AccountSdk\n",
    "import ro.jf.funds.fund.sdk.FundSdk\n",
    "import ro.jf.funds.importer.sdk.ImportSdk\n",
    "import java.util.UUID.randomUUID\n",
    "\n",
    "val ACCOUNTS_CSV_FILE = \"../../data/provision/accounts.csv\"\n",
    "val FUNDS_CSV_FILE = \"../../data/provision/funds.csv\"\n",
    "val ACCOUNT_MATCHERS_CSV_FILE = \"../../data/provision/account-matchers.csv\"\n",
    "val FUND_MATCHERS_CSV_FILE = \"../../data/provision/fund-matchers.csv\"\n",
    "\n",
    "// TODO(Johann) create a user\n",
    "val userId = randomUUID()\n",
    "\n",
    "val accountSdk = AccountSdk()\n",
    "val fundSdk = FundSdk()\n",
    "val importSdk = ImportSdk()"
   ],
   "outputs": [],
   "execution_count": 14
  },
  {
   "metadata": {
    "ExecuteTime": {
     "end_time": "2024-10-22T21:58:39.040591Z",
     "start_time": "2024-10-22T21:58:37.669840Z"
    }
   },
   "cell_type": "code",
   "source": [
    "import ro.jf.funds.account.api.model.*\n",
    "import kotlinx.coroutines.runBlocking\n",
    "\n",
    "val accounts = runBlocking {\n",
    "    val existingAccounts = accountSdk.listAccounts(userId)\n",
    "    val existingAccountNames = existingAccounts.map { it.name }.toSet()\n",
    "    val newAccounts = DataFrame.readCSV(ACCOUNTS_CSV_FILE, delimiter = ';')\n",
    "        .map { row -> CreateCurrencyAccountTO(AccountName(row.getValue<String>(\"account\")), row.getValue<String>(\"currency\")) }\n",
    "        .filter { it.name !in existingAccountNames }\n",
    "        .map { accountSdk.createAccount(userId, it) }\n",
    "    existingAccounts + newAccounts\n",
    "}\n",
    "accounts.map { it.toString() }.joinToString(separator = \"\\n\")"
   ],
   "outputs": [
    {
     "data": {
      "text/plain": [
       "Currency(id=6d60fc62-ca43-41eb-a859-7597dc90d7b3, name=Cash RON, currency=RON)\n",
       "Currency(id=8bd2ae46-8340-45d0-8b60-99c4cb7b9bcb, name=ING RON, currency=RON)\n",
       "Currency(id=aab51486-599d-4325-9579-5c8fffa08609, name=ING Economy, currency=RON)\n",
       "Currency(id=820405d8-b029-4fdd-b635-4c473445de77, name=Food Coupons, currency=RON)\n",
       "Currency(id=32808459-717f-4e2d-9d90-e405d49acdf1, name=Revolut RON, currency=RON)\n",
       "Currency(id=7bd014bb-6810-4621-af5d-47496eebb27d, name=Other, currency=RON)"
      ]
     },
     "execution_count": 15,
     "metadata": {},
     "output_type": "execute_result"
    }
   ],
   "execution_count": 15
  },
  {
   "metadata": {
    "ExecuteTime": {
     "end_time": "2024-10-22T21:58:39.783268Z",
     "start_time": "2024-10-22T21:58:39.068742Z"
    }
   },
   "cell_type": "code",
   "source": [
    "import ro.jf.funds.fund.api.model.*\n",
    "import kotlinx.coroutines.runBlocking\n",
    "\n",
    "val funds = runBlocking {\n",
    "    // TODO(Johann) fix npe on get existing funds without accounts\n",
    "    val existingFunds = fundSdk.listFunds(userId)\n",
    "    val existingFundNames = existingFunds.map { it.name }.toSet()\n",
    "    val newFunds = DataFrame.readCSV(FUNDS_CSV_FILE, delimiter = ';')\n",
    "        .map { row -> CreateFundTO(FundName(row.getValue<String>(\"fund\"))) }\n",
    "        .filter { it.name !in existingFundNames }\n",
    "        .map { fundSdk.createFund(userId, it) }\n",
    "    existingFunds + newFunds\n",
    "}\n",
    "funds.map { it.toString() }.joinToString(separator = \"\\n\")"
   ],
   "outputs": [
    {
     "data": {
      "text/plain": [
       "FundTO(id=40de4e4f-1347-4a74-86f7-c2f1b03491ff, name=Expenses)\n",
       "FundTO(id=28b1647f-61bc-4aa8-8e94-c8f91e894770, name=Work Income)\n",
       "FundTO(id=d2e96598-7a86-4b8b-80f5-47f1a1e9cbc6, name=Savings)"
      ]
     },
     "execution_count": 16,
     "metadata": {},
     "output_type": "execute_result"
    }
   ],
   "execution_count": 16
  },
  {
   "metadata": {
    "ExecuteTime": {
     "end_time": "2024-10-22T21:58:39.878868Z",
     "start_time": "2024-10-22T21:58:39.805413Z"
    }
   },
   "cell_type": "code",
   "source": [
    "import ro.jf.funds.importer.api.model.AccountMatcherTO\n",
    "\n",
    "val accountMatchers = runBlocking {\n",
    "    DataFrame.readCSV(ACCOUNT_MATCHERS_CSV_FILE, delimiter = ';')\n",
    "        .map { row -> AccountMatcherTO(row.getValue<String>(\"import_account_name\"), AccountName(row.getValue<String>(\"account_name\"))) }\n",
    "}\n",
    "accountMatchers.map { it.toString() }.joinToString(separator = \"\\n\")"
   ],
   "outputs": [
    {
     "data": {
      "text/plain": [
       "AccountMatcherTO(importAccountName=ING old, accountName=ING RON)\n",
       "AccountMatcherTO(importAccountName=ING Economy old, accountName=ING Economy)\n",
       "AccountMatcherTO(importAccountName=Cash RON, accountName=Cash RON)\n",
       "AccountMatcherTO(importAccountName=Food Coupons, accountName=Food Coupons)\n",
       "AccountMatcherTO(importAccountName=Revolut - Manual, accountName=Revolut RON)\n",
       "AccountMatcherTO(importAccountName=Other, accountName=Other)"
      ]
     },
     "execution_count": 17,
     "metadata": {},
     "output_type": "execute_result"
    }
   ],
   "execution_count": 17
  },
  {
   "metadata": {
    "ExecuteTime": {
     "end_time": "2024-10-22T21:58:40.043562Z",
     "start_time": "2024-10-22T21:58:39.895795Z"
    }
   },
   "cell_type": "code",
   "source": [
    "import ro.jf.funds.importer.api.model.*\n",
    "\n",
    "val fundMatchers = runBlocking {\n",
    "    DataFrame.readCSV(FUND_MATCHERS_CSV_FILE, delimiter = ';')\n",
    "        .map { row ->\n",
    "            when (row.getValue<String>(\"type\")) {\n",
    "                \"by_account\" -> FundMatcherTO.ByAccount(\n",
    "                    importAccountName = row.getValue<String>(\"import_account_name\"),\n",
    "                    fundName = FundName(row.getValue<String>(\"fund_name\"))\n",
    "                )\n",
    "                \n",
    "                \"by_label\" -> FundMatcherTO.ByLabel(\n",
    "                    importLabel = row.getValue<String>(\"import_label\"),\n",
    "                    fundName = FundName(row.getValue<String>(\"fund_name\"))\n",
    "                )\n",
    "\n",
    "                \"by_account_label\" -> FundMatcherTO.ByAccountLabel(\n",
    "                    importAccountName = row.getValue<String>(\"import_account_name\"),\n",
    "                    importLabel = row.getValue<String>(\"import_label\"),\n",
    "                    fundName = FundName(row.getValue<String>(\"fund_name\"))\n",
    "                )\n",
    "\n",
    "                \"by_account_label_with_transfer\" -> FundMatcherTO.ByAccountLabelWithTransfer(\n",
    "                    importAccountName = row.getValue<String>(\"import_account_name\"),\n",
    "                    importLabel = row.getValue<String>(\"import_label\"),\n",
    "                    initialFundName = FundName(row.getValue<String>(\"initial_fund_name\")),\n",
    "                    fundName = FundName(row.getValue<String>(\"fund_name\"))\n",
    "                )\n",
    "\n",
    "                else -> error(\"fund matcher type not recognized ${row.getValue<String>(\"type\")}\")\n",
    "            }\n",
    "        }\n",
    "}\n",
    "fundMatchers.map { it.toString() }.joinToString(separator = \"\\n\")"
   ],
   "outputs": [
    {
     "data": {
      "text/plain": [
       "ByAccountLabelWithTransfer(importAccountName=ING Economy old, importLabel=Invest Profit Acc, initialFundName=Savings, fundName=Expenses)\n",
       "ByAccountLabelWithTransfer(importAccountName=ING old, importLabel=Work Income, initialFundName=Work Income, fundName=Expenses)\n",
       "ByAccountLabelWithTransfer(importAccountName=Food Coupons, importLabel=Work Income, initialFundName=Work Income, fundName=Expenses)\n",
       "ByLabel(importLabel=Basic - Food, fundName=Expenses)\n",
       "ByLabel(importLabel=C&T - Gas & Parking, fundName=Expenses)\n",
       "ByLabel(importLabel=Development - Education, fundName=Expenses)\n",
       "ByLabel(importLabel=F&V - Fun, fundName=Expenses)\n",
       "ByLabel(importLabel=S&S - Objects, fundName=Expenses)\n",
       "ByLabel(importLabel=Home - House, fundName=Expenses)\n",
       "ByLabel(importLabel=Gifts, fundName=Expenses)\n",
       "ByAccount(importAccountName=ING old, fundName=Expenses)\n",
       "ByAccount(importAccountName=ING Economy old, fundName=Expenses)\n",
       "ByAccount(importAccountName=Cash RON, fundName=Expenses)\n",
       "ByAccount(importAccountName=Other, fundName=Expenses)"
      ]
     },
     "execution_count": 18,
     "metadata": {},
     "output_type": "execute_result"
    }
   ],
   "execution_count": 18
  },
  {
   "metadata": {
    "ExecuteTime": {
     "end_time": "2024-10-22T21:59:35.923973Z",
     "start_time": "2024-10-22T21:59:22.883193Z"
    }
   },
   "cell_type": "code",
   "source": [
    "import kotlinx.coroutines.runBlocking\n",
    "import ro.jf.funds.importer.api.model.*\n",
    "import java.io.File\n",
    "import java.util.*\n",
    "\n",
    "// TODO(Johann) load all files from the directory\n",
    "val csvFiles = listOf(\n",
    "    File(\"../../data/wallet/2019/wallet_export_2019_01.csv\"),\n",
    "    File(\"../../data/wallet/2019/wallet_export_2019_02.csv\"),\n",
    "    File(\"../../data/wallet/2019/wallet_export_2019_03.csv\"),\n",
    ")\n",
    "val importConfiguration = ImportConfigurationTO(\n",
    "    fileType = ImportFileTypeTO.WALLET_CSV,\n",
    "    accountMatchers = accountMatchers,\n",
    "    fundMatchers = fundMatchers\n",
    ")\n",
    "// TODO(Johann) fix timeout on import\n",
    "val response = runBlocking { importSdk.import(userId, importConfiguration, csvFiles) }\n",
    "response"
   ],
   "outputs": [
    {
     "ename": "ro.jf.funds.importer.api.model.exception.ImportApiException.Generic",
     "evalue": "Internal error.",
     "output_type": "error",
     "traceback": [
      "ro.jf.funds.importer.api.model.exception.ImportApiException$Generic: Internal error.",
      "\tat ro.jf.funds.importer.sdk.ImportSdk.import(ImportSdk.kt:68)",
      "\tat ro.jf.funds.importer.sdk.ImportSdk$import$2.invokeSuspend(ImportSdk.kt)",
      "\tat kotlin.coroutines.jvm.internal.BaseContinuationImpl.resumeWith(ContinuationImpl.kt:33)",
      "\tat kotlinx.coroutines.DispatchedTask.run(DispatchedTask.kt:106)",
      "\tat kotlinx.coroutines.EventLoopImplBase.processNextEvent(EventLoop.common.kt:280)",
      "\tat kotlinx.coroutines.BlockingCoroutine.joinBlocking(Builders.kt:85)",
      "\tat kotlinx.coroutines.BuildersKt__BuildersKt.runBlocking(Builders.kt:59)",
      "\tat kotlinx.coroutines.BuildersKt.runBlocking(Unknown Source)",
      "\tat kotlinx.coroutines.BuildersKt__BuildersKt.runBlocking$default(Builders.kt:38)",
      "\tat kotlinx.coroutines.BuildersKt.runBlocking$default(Unknown Source)",
      "\tat Line_27_jupyter.<init>(Line_27.jupyter.kts:18) at Cell In[20], line 18",
      "\tat java.base/jdk.internal.reflect.NativeConstructorAccessorImpl.newInstance0(Native Method)",
      "\tat java.base/jdk.internal.reflect.NativeConstructorAccessorImpl.newInstance(NativeConstructorAccessorImpl.java:77)",
      "\tat java.base/jdk.internal.reflect.DelegatingConstructorAccessorImpl.newInstance(DelegatingConstructorAccessorImpl.java:45)",
      "\tat java.base/java.lang.reflect.Constructor.newInstanceWithCaller(Constructor.java:499)",
      "\tat java.base/java.lang.reflect.Constructor.newInstance(Constructor.java:480)",
      "\tat kotlin.script.experimental.jvm.BasicJvmScriptEvaluator.evalWithConfigAndOtherScriptsResults(BasicJvmScriptEvaluator.kt:122)",
      "\tat kotlin.script.experimental.jvm.BasicJvmScriptEvaluator.invoke$suspendImpl(BasicJvmScriptEvaluator.kt:48)",
      "\tat kotlin.script.experimental.jvm.BasicJvmScriptEvaluator.invoke(BasicJvmScriptEvaluator.kt)",
      "\tat kotlin.script.experimental.jvm.BasicJvmReplEvaluator.eval(BasicJvmReplEvaluator.kt:49)",
      "\tat org.jetbrains.kotlinx.jupyter.repl.impl.InternalEvaluatorImpl$eval$resultWithDiagnostics$1.invokeSuspend(InternalEvaluatorImpl.kt:133)",
      "\tat kotlin.coroutines.jvm.internal.BaseContinuationImpl.resumeWith(ContinuationImpl.kt:33)",
      "\tat kotlinx.coroutines.DispatchedTask.run(DispatchedTask.kt:104)",
      "\tat kotlinx.coroutines.EventLoopImplBase.processNextEvent(EventLoop.common.kt:277)",
      "\tat kotlinx.coroutines.BlockingCoroutine.joinBlocking(Builders.kt:95)",
      "\tat kotlinx.coroutines.BuildersKt__BuildersKt.runBlocking(Builders.kt:69)",
      "\tat kotlinx.coroutines.BuildersKt.runBlocking(Unknown Source)",
      "\tat kotlinx.coroutines.BuildersKt__BuildersKt.runBlocking$default(Builders.kt:48)",
      "\tat kotlinx.coroutines.BuildersKt.runBlocking$default(Unknown Source)",
      "\tat org.jetbrains.kotlinx.jupyter.repl.impl.InternalEvaluatorImpl.eval(InternalEvaluatorImpl.kt:133)",
      "\tat org.jetbrains.kotlinx.jupyter.repl.impl.CellExecutorImpl$execute$1$result$1.invoke(CellExecutorImpl.kt:80)",
      "\tat org.jetbrains.kotlinx.jupyter.repl.impl.CellExecutorImpl$execute$1$result$1.invoke(CellExecutorImpl.kt:78)",
      "\tat org.jetbrains.kotlinx.jupyter.repl.impl.ReplForJupyterImpl.withHost(ReplForJupyterImpl.kt:762)",
      "\tat org.jetbrains.kotlinx.jupyter.repl.impl.CellExecutorImpl.execute-L4Nmkdk(CellExecutorImpl.kt:78)",
      "\tat org.jetbrains.kotlinx.jupyter.repl.execution.CellExecutor$DefaultImpls.execute-L4Nmkdk$default(CellExecutor.kt:13)",
      "\tat org.jetbrains.kotlinx.jupyter.repl.impl.ReplForJupyterImpl.evaluateUserCode-wNURfNM(ReplForJupyterImpl.kt:585)",
      "\tat org.jetbrains.kotlinx.jupyter.repl.impl.ReplForJupyterImpl.access$evaluateUserCode-wNURfNM(ReplForJupyterImpl.kt:138)",
      "\tat org.jetbrains.kotlinx.jupyter.repl.impl.ReplForJupyterImpl$evalEx$1.invoke(ReplForJupyterImpl.kt:442)",
      "\tat org.jetbrains.kotlinx.jupyter.repl.impl.ReplForJupyterImpl$evalEx$1.invoke(ReplForJupyterImpl.kt:439)",
      "\tat org.jetbrains.kotlinx.jupyter.repl.impl.ReplForJupyterImpl.withEvalContext(ReplForJupyterImpl.kt:420)",
      "\tat org.jetbrains.kotlinx.jupyter.repl.impl.ReplForJupyterImpl.evalEx(ReplForJupyterImpl.kt:439)",
      "\tat org.jetbrains.kotlinx.jupyter.messaging.IdeCompatibleMessageRequestProcessor$processExecuteRequest$1$response$1$1.invoke(IdeCompatibleMessageRequestProcessor.kt:136)",
      "\tat org.jetbrains.kotlinx.jupyter.messaging.IdeCompatibleMessageRequestProcessor$processExecuteRequest$1$response$1$1.invoke(IdeCompatibleMessageRequestProcessor.kt:135)",
      "\tat org.jetbrains.kotlinx.jupyter.execution.JupyterExecutorImpl$Task.execute(JupyterExecutorImpl.kt:42)",
      "\tat org.jetbrains.kotlinx.jupyter.execution.JupyterExecutorImpl$executorThread$1.invoke(JupyterExecutorImpl.kt:82)",
      "\tat org.jetbrains.kotlinx.jupyter.execution.JupyterExecutorImpl$executorThread$1.invoke(JupyterExecutorImpl.kt:80)",
      "\tat kotlin.concurrent.ThreadsKt$thread$thread$1.run(Thread.kt:30)",
      "",
      "ro.jf.funds.importer.api.model.exception.ImportApiException.Generic: Internal error.",
      "at Cell In[20], line 18",
      ""
     ]
    }
   ],
   "execution_count": 20
  },
  {
   "metadata": {},
   "cell_type": "markdown",
   "source": ""
  }
 ],
 "metadata": {
  "kernelspec": {
   "display_name": "Kotlin",
   "language": "kotlin",
   "name": "kotlin"
  },
  "language_info": {
   "name": "kotlin",
   "version": "1.9.23",
   "mimetype": "text/x-kotlin",
   "file_extension": ".kt",
   "pygments_lexer": "kotlin",
   "codemirror_mode": "text/x-kotlin",
   "nbconvert_exporter": ""
  },
  "ktnbPluginMetadata": {
   "projectDependencies": [
    "funds.commons-api"
   ]
  }
 },
 "nbformat": 4,
 "nbformat_minor": 0
}
