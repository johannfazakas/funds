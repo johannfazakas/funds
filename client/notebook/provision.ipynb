{
 "cells": [
  {
   "metadata": {
    "ExecuteTime": {
     "end_time": "2025-05-13T06:33:06.364338Z",
     "start_time": "2025-05-13T06:33:01.428677Z"
    }
   },
   "cell_type": "code",
   "source": [
    "@file:DependsOn(\"io.ktor:ktor-client-core:2.3.12\")\n",
    "@file:DependsOn(\"io.ktor:ktor-client-cio:2.3.12\")\n",
    "@file:DependsOn(\"io.ktor:ktor-client-content-negotiation:2.3.12\")\n",
    "@file:DependsOn(\"io.ktor:ktor-serialization-kotlinx-json:2.3.12\")\n",
    "@file:DependsOn(\"com.charleskorn.kaml:kaml-jvm:0.67.0\")\n",
    "@file:DependsOn(\"ro.jf.funds:user-sdk:1.0.0\")\n",
    "@file:DependsOn(\"ro.jf.funds:import-sdk:1.0.0\")\n",
    "@file:DependsOn(\"ro.jf.funds:fund-sdk:1.0.0\")\n",
    "@file:DependsOn(\"ro.jf.funds:account-sdk:1.0.0\")\n",
    "@file:DependsOn(\"ro.jf.funds:funds-notebook-client:1.0.0\")\n",
    "%use dataframe\n",
    "\n",
    "import ro.jf.funds.client.notebook.*\n",
    "\n",
    "val client = FundsClient()\n",
    "val user = client.ensureUserExists(\"Johann-16.2\")\n",
    "user"
   ],
   "outputs": [
    {
     "data": {
      "text/plain": [
       "UserTO(id=87036671-4f43-4d31-a5ec-971af7d96818, username=Johann-16.2)"
      ]
     },
     "execution_count": 1,
     "metadata": {},
     "output_type": "execute_result"
    }
   ],
   "execution_count": 1
  },
  {
   "metadata": {
    "collapsed": true,
    "ExecuteTime": {
     "end_time": "2025-05-13T06:33:06.460481Z",
     "start_time": "2025-05-13T06:33:06.397842Z"
    }
   },
   "cell_type": "code",
   "source": [
    "import ro.jf.funds.account.sdk.AccountSdk\n",
    "import ro.jf.funds.fund.sdk.FundSdk\n",
    "import ro.jf.funds.importer.sdk.ImportSdk\n",
    "\n",
    "val ACCOUNTS_YAML_FILE = \"../../data/provision/accounts.yaml\"\n",
    "val FUNDS_YAML_FILE = \"../../data/provision/funds.yaml\"\n",
    "val IMPORT_CONFIGURATION_JSON_FILE = \"../../data/provision/import-configuration.json\"\n",
    "val IMPORT_CONFIGURATION_YAML_FILE = \"../../data/provision/import-configuration.yaml\"\n",
    "\n",
    "val accountSdk = AccountSdk()\n",
    "val fundSdk = FundSdk()\n",
    "val importSdk = ImportSdk()\n"
   ],
   "outputs": [],
   "execution_count": 2
  },
  {
   "metadata": {
    "ExecuteTime": {
     "end_time": "2025-05-13T06:33:12.340455Z",
     "start_time": "2025-05-13T06:33:06.466682Z"
    }
   },
   "cell_type": "code",
   "source": [
    "import ro.jf.funds.account.api.model.*\n",
    "import ro.jf.funds.commons.model.*\n",
    "import kotlinx.coroutines.runBlocking\n",
    "import com.charleskorn.kaml.Yaml\n",
    "import kotlinx.serialization.builtins.ListSerializer\n",
    "\n",
    "val accounts = runBlocking {\n",
    "    val existingAccounts = accountSdk.listAccounts(user.id).items\n",
    "    val existingAccountNames = existingAccounts.map { it.name }.toSet()\n",
    "    val newAccounts = File(ACCOUNTS_YAML_FILE).readText()\n",
    "        .let { Yaml.default.decodeFromString(ListSerializer(CreateAccountTO.serializer()), it) }\n",
    "        .filter { it.name !in existingAccountNames }\n",
    "        .map { accountSdk.createAccount(user.id, it) }\n",
    "    existingAccounts + newAccounts\n",
    "}\n",
    "accounts.map { it.toString() }.joinToString(separator = \"\\n\")"
   ],
   "outputs": [
    {
     "data": {
      "text/plain": [
       "AccountTO(id=cd2540ae-22c9-4edf-9972-08c4854c4ea1, name=Cash RON, unit=Currency(value=RON))\n",
       "AccountTO(id=2733d011-23dc-43f9-95e4-3bfd7e9c593e, name=Cash EUR, unit=Currency(value=EUR))\n",
       "AccountTO(id=918da67b-d8e4-4abd-864c-5a67c2c38d3f, name=ING RON, unit=Currency(value=RON))\n",
       "AccountTO(id=43e41dcb-d14b-4193-b3de-2b34b57ad2ae, name=ING Economy, unit=Currency(value=RON))\n",
       "AccountTO(id=19e70c5f-73c6-40ab-8748-3bbbd5debdf9, name=Food Coupons, unit=Currency(value=RON))\n",
       "AccountTO(id=0b04d11a-2e37-44e9-9943-ee4ce80c1d45, name=Revolut RON, unit=Currency(value=RON))\n",
       "AccountTO(id=f64370fd-9a98-45d4-bbe0-2ab4c59ff3cc, name=Other, unit=Currency(value=RON))\n",
       "AccountTO(id=151229b5-2d78-4974-9ba1-825665c671cd, name=BT RON, unit=Currency(value=RON))\n",
       "AccountTO(id=fa347698-4163-4b6a-948a-6fa9f89421a6, name=BT Economy RON, unit=Currency(value=RON))"
      ]
     },
     "execution_count": 3,
     "metadata": {},
     "output_type": "execute_result"
    }
   ],
   "execution_count": 3
  },
  {
   "metadata": {
    "ExecuteTime": {
     "end_time": "2025-05-13T06:33:14.263061Z",
     "start_time": "2025-05-13T06:33:12.352599Z"
    }
   },
   "cell_type": "code",
   "source": [
    "import ro.jf.funds.fund.api.model.*\n",
    "import kotlinx.coroutines.runBlocking\n",
    "\n",
    "val funds = runBlocking {\n",
    "    val existingFunds = fundSdk.listFunds(user.id).items\n",
    "    val existingFundNames = existingFunds.map { it.name }.toSet()\n",
    "    val newFunds = File(FUNDS_YAML_FILE).readText()\n",
    "        .let { Yaml.default.decodeFromString(ListSerializer(CreateFundTO.serializer()), it) }\n",
    "        .filter { it.name !in existingFundNames }\n",
    "        .map { fundSdk.createFund(user.id, it) }\n",
    "    existingFunds + newFunds\n",
    "}\n",
    "funds.map { it.toString() }.joinToString(separator = \"\\n\")"
   ],
   "outputs": [
    {
     "data": {
      "text/plain": [
       "FundTO(id=316b24d1-5052-413e-b25a-068bb059a358, name=Expenses)\n",
       "FundTO(id=b3fe4131-3159-4617-8fac-589926b14332, name=Work Income)\n",
       "FundTO(id=d6d47e7b-eeef-4e3e-8187-bda858873be5, name=Savings)\n",
       "FundTO(id=5dd6b083-83a9-454b-90ca-b8565a83896a, name=Gifts)"
      ]
     },
     "execution_count": 4,
     "metadata": {},
     "output_type": "execute_result"
    }
   ],
   "execution_count": 4
  },
  {
   "metadata": {
    "ExecuteTime": {
     "end_time": "2025-05-13T06:33:14.362704Z",
     "start_time": "2025-05-13T06:33:14.273419Z"
    }
   },
   "cell_type": "code",
   "source": [
    "import ro.jf.funds.importer.api.model.*\n",
    "import kotlinx.serialization.json.Json\n",
    "\n",
    "val dataConfigurationRawYaml: String = File(IMPORT_CONFIGURATION_YAML_FILE).readText()\n",
    "val importConfiguration = Yaml.default.decodeFromString(ImportConfigurationTO.serializer(), dataConfigurationRawYaml)"
   ],
   "outputs": [],
   "execution_count": 5
  },
  {
   "metadata": {},
   "cell_type": "markdown",
   "source": ""
  },
  {
   "metadata": {
    "ExecuteTime": {
     "end_time": "2025-05-13T06:33:47.133186Z",
     "start_time": "2025-05-13T06:33:14.367347Z"
    }
   },
   "cell_type": "code",
   "source": [
    "import kotlinx.coroutines.delay\n",
    "import kotlinx.coroutines.runBlocking\n",
    "import kotlinx.datetime.Clock\n",
    "import ro.jf.funds.importer.api.model.*\n",
    "import java.io.File\n",
    "import java.util.*\n",
    "import kotlin.time.Duration\n",
    "\n",
    "val csvFiles =\n",
    "    listOf(File(\"../../data/wallet/2019\"), File(\"../../data/wallet/2020\"))\n",
    "        .flatMap { it.listFiles()?.toList() ?: error(\"no files found\") }\n",
    "runBlocking {\n",
    "    var importTask = importSdk.import(user.id, importConfiguration, csvFiles)\n",
    "    val now: Instant = Clock.System.now()\n",
    "    val timeout = 60.seconds\n",
    "    while (importTask.status == ImportTaskTO.Status.IN_PROGRESS && Clock.System.now() - now < timeout) {\n",
    "        delay(500)\n",
    "        importTask = importSdk.getImportTask(user.id, importTask.taskId)\n",
    "    }\n",
    "    importTask\n",
    "}\n"
   ],
   "outputs": [
    {
     "data": {
      "text/plain": [
       "ImportTaskTO(taskId=f3961c55-8ecf-403d-bdee-08cd76d6d0cb, status=COMPLETED, reason=null)"
      ]
     },
     "execution_count": 6,
     "metadata": {},
     "output_type": "execute_result"
    }
   ],
   "execution_count": 6
  }
 ],
 "metadata": {
  "kernelspec": {
   "display_name": "Kotlin",
   "language": "kotlin",
   "name": "kotlin"
  },
  "language_info": {
   "name": "kotlin",
   "version": "1.9.23",
   "mimetype": "text/x-kotlin",
   "file_extension": ".kt",
   "pygments_lexer": "kotlin",
   "codemirror_mode": "text/x-kotlin",
   "nbconvert_exporter": ""
  },
  "ktnbPluginMetadata": {
   "projectDependencies": [
    "funds.commons-api"
   ]
  }
 },
 "nbformat": 4,
 "nbformat_minor": 0
}
