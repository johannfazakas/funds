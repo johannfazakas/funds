{
 "cells": [
  {
   "metadata": {
    "ExecuteTime": {
     "end_time": "2025-07-17T06:28:53.794827Z",
     "start_time": "2025-07-17T06:28:42.211972Z"
    }
   },
   "cell_type": "code",
   "source": [
    "@file:DependsOn(\"ro.jf.funds:funds-notebook-client:1.0.0\")\n",
    "%use dataframe\n",
    "\n",
    "import ro.jf.funds.client.notebook.*\n",
    "\n",
    "val username = \"Johann-38.9\"\n",
    "\n",
    "val client = FundsClient()\n"
   ],
   "outputs": [],
   "execution_count": 1
  },
  {
   "metadata": {
    "ExecuteTime": {
     "end_time": "2025-07-17T06:28:59.108375Z",
     "start_time": "2025-07-17T06:28:53.824351Z"
    }
   },
   "cell_type": "code",
   "source": [
    "val user = client.ensureUserExists(username)\n",
    "user"
   ],
   "outputs": [
    {
     "data": {
      "text/plain": [
       "UserTO(id=97726e7d-975a-4727-9274-5afa332f8221, username=Johann-38.9)"
      ]
     },
     "execution_count": 2,
     "metadata": {},
     "output_type": "execute_result"
    }
   ],
   "execution_count": 2
  },
  {
   "metadata": {
    "collapsed": true,
    "ExecuteTime": {
     "end_time": "2025-07-17T06:28:59.777463Z",
     "start_time": "2025-07-17T06:28:59.194230Z"
    }
   },
   "cell_type": "code",
   "source": [
    "val ACCOUNTS_YAML_FILE = \"../../data/provision/accounts.yaml\"\n",
    "val FUNDS_YAML_FILE = \"../../data/provision/funds.yaml\"\n",
    "val INITIAL_BALANCE_YAML_FILE = \"../../data/provision/initial-balance.yaml\"\n",
    "val IMPORT_CONFIGURATION_JSON_FILE = \"../../data/provision/import-configuration.json\"\n",
    "val IMPORT_CONFIGURATION_YAML_FILE = \"../../data/provision/import-configuration.yaml\"\n"
   ],
   "outputs": [],
   "execution_count": 3
  },
  {
   "metadata": {
    "ExecuteTime": {
     "end_time": "2025-07-17T06:29:09.756553Z",
     "start_time": "2025-07-17T06:28:59.827042Z"
    }
   },
   "cell_type": "code",
   "source": [
    "import ro.jf.funds.account.api.model.*\n",
    "\n",
    "val accounts = client.provisionAccounts(user, client.fromYaml(File(ACCOUNTS_YAML_FILE)))\n",
    "accounts.map { it.toString() }.joinToString(separator = \"\\n\")"
   ],
   "outputs": [
    {
     "data": {
      "text/plain": [
       "AccountTO(id=47334dea-bd92-4c01-b725-28d9f9794bbd, name=Cash RON, unit=Currency(value=RON))\n",
       "AccountTO(id=37825acc-84a9-4ede-be5d-45b389466a24, name=Cash EUR, unit=Currency(value=EUR))\n",
       "AccountTO(id=95d5da06-bc40-4f69-b13a-3af995d76cda, name=Cash EUR-RON, unit=Currency(value=RON))\n",
       "AccountTO(id=f379357f-2e93-4fac-ba45-c5e7185e4091, name=ING RON, unit=Currency(value=RON))\n",
       "AccountTO(id=ca8fde55-133d-4fa1-b0c9-3b2f3ae31d4e, name=ING Economy, unit=Currency(value=RON))\n",
       "AccountTO(id=14b0def7-17d1-4223-af09-49395ef3f1da, name=Food Coupons, unit=Currency(value=RON))\n",
       "AccountTO(id=dc5f49b6-efd8-44d1-aba2-6749222d97d7, name=Revolut RON, unit=Currency(value=RON))\n",
       "AccountTO(id=0ebfabe3-3209-4c55-ae47-afd23e92ffc6, name=Revolut EUR-RON, unit=Currency(value=RON))\n",
       "AccountTO(id=8dbeb24a-4386-4b41-ae6a-5aab84e774c0, name=Other, unit=Currency(value=RON))\n",
       "AccountTO(id=b8e9a9e2-f820-4303-86c4-a3ac6dca6905, name=BT RON, unit=Currency(value=RON))\n",
       "AccountTO(id=e5218d59-f47c-457c-a725-3b9d26b6e46e, name=BT EUR-RON, unit=Currency(value=RON))\n",
       "AccountTO(id=e3af9fc6-be52-4691-9bbc-226a827442ef, name=BT Economy RON, unit=Currency(value=RON))\n",
       "AccountTO(id=19607385-1f1b-49c6-a9ee-609c771c44cd, name=BT Depozit RON, unit=Currency(value=RON))\n",
       "AccountTO(id=94b0393b-65ab-42dc-8830-eba22a090e1e, name=BT Philocode RON, unit=Currency(value=RON))"
      ]
     },
     "execution_count": 4,
     "metadata": {},
     "output_type": "execute_result"
    }
   ],
   "execution_count": 4
  },
  {
   "metadata": {
    "ExecuteTime": {
     "end_time": "2025-07-17T06:29:14.487281Z",
     "start_time": "2025-07-17T06:29:09.824148Z"
    }
   },
   "cell_type": "code",
   "source": [
    "import ro.jf.funds.fund.api.model.*\n",
    "\n",
    "val funds = client.provisionFunds(user, client.fromYaml(File(FUNDS_YAML_FILE)))\n",
    "funds.map { it.toString() }.joinToString(separator = \"\\n\")"
   ],
   "outputs": [
    {
     "data": {
      "text/plain": [
       "FundTO(id=12d9ce2a-dd68-414a-a067-2f3f117bf003, name=Expenses)\n",
       "FundTO(id=5549bb4a-9a19-4bd0-8bcd-5215b6076553, name=Work Income)\n",
       "FundTO(id=d9a660d2-b378-4417-906f-7fd45d4b9d01, name=Other Income)\n",
       "FundTO(id=dc8aad26-32fa-42db-bc4a-f56162110561, name=Savings)"
      ]
     },
     "execution_count": 5,
     "metadata": {},
     "output_type": "execute_result"
    }
   ],
   "execution_count": 5
  },
  {
   "metadata": {
    "ExecuteTime": {
     "end_time": "2025-07-17T06:29:19.012157Z",
     "start_time": "2025-07-17T06:29:14.506352Z"
    }
   },
   "cell_type": "code",
   "source": [
    "import ro.jf.funds.fund.api.model.*\n",
    "\n",
    "val initialBalancesTransactions = client.provisionInitialBalances(user, accounts, funds, client.fromYaml(File(INITIAL_BALANCE_YAML_FILE)))\n",
    "initialBalancesTransactions.map { it.toString() }.joinToString(separator = \"\\n\")"
   ],
   "outputs": [
    {
     "data": {
      "text/plain": [
       "FundTransactionTO(id=79d411b9-e1db-4114-a093-cb79413c91d7, userId=97726e7d-975a-4727-9274-5afa332f8221, dateTime=2018-12-31T00:00, records=[FundRecordTO(id=ee33d710-42c9-485b-b1cb-b408067e6e94, fundId=12d9ce2a-dd68-414a-a067-2f3f117bf003, accountId=47334dea-bd92-4c01-b725-28d9f9794bbd, amount=474.5, unit=Currency(value=RON), labels=[])])\n",
       "FundTransactionTO(id=76707365-37fe-42d1-a091-efcba27af93b, userId=97726e7d-975a-4727-9274-5afa332f8221, dateTime=2018-12-31T00:00, records=[FundRecordTO(id=76eb43da-1c6c-40b7-9e3d-15594300da3f, fundId=12d9ce2a-dd68-414a-a067-2f3f117bf003, accountId=14b0def7-17d1-4223-af09-49395ef3f1da, amount=45.96, unit=Currency(value=RON), labels=[])])\n",
       "FundTransactionTO(id=45c93992-9016-4efa-9439-48de84eb0017, userId=97726e7d-975a-4727-9274-5afa332f8221, dateTime=2018-12-31T00:00, records=[FundRecordTO(id=ed0786f5-06e2-403b-ae04-c86ce0a936d2, fundId=12d9ce2a-dd68-414a-a067-2f3f117bf003, accountId=8dbeb24a-4386-4b41-ae6a-5aab84e774c0, amount=3051.9, unit=Currency(value=RON), labels=[])])\n",
       "FundTransactionTO(id=5896ed12-446f-46bf-9bad-a2e7515cfa36, userId=97726e7d-975a-4727-9274-5afa332f8221, dateTime=2018-12-31T00:00, records=[FundRecordTO(id=3320d2b6-54bf-48e8-9ba2-c8b742fbce23, fundId=12d9ce2a-dd68-414a-a067-2f3f117bf003, accountId=b8e9a9e2-f820-4303-86c4-a3ac6dca6905, amount=2194.13, unit=Currency(value=RON), labels=[])])"
      ]
     },
     "execution_count": 6,
     "metadata": {},
     "output_type": "execute_result"
    }
   ],
   "execution_count": 6
  },
  {
   "metadata": {
    "ExecuteTime": {
     "end_time": "2025-07-17T06:42:06.704601Z",
     "start_time": "2025-07-17T06:41:55.940899Z"
    }
   },
   "cell_type": "code",
   "source": [
    "import ro.jf.funds.importer.api.model.*\n",
    "\n",
    "val csvFiles =\n",
    "    listOf(File(\"../../data/wallet/2019\"), File(\"../../data/wallet/2020\"), File(\"../../data/wallet/2021\"), File(\"../../data/wallet/2022\"))\n",
    "        .flatMap { it.listFiles()?.toList() ?: error(\"no files found\") }\n",
    "val importTask = client.importTransactions(user, client.fromYaml(File(IMPORT_CONFIGURATION_YAML_FILE)), csvFiles)\n",
    "importTask"
   ],
   "outputs": [
    {
     "data": {
      "text/plain": [
       "ImportTaskTO(taskId=51b0378d-6339-448c-b3b1-4433e672dda7, status=FAILED, reason=java.sql.BatchUpdateException: Batch entry 0 INSERT INTO record (id, user_id, transaction_id, account_id, amount, unit_type, unit, labels) VALUES (('28cef80d-8c78-4334-85ca-7f22bbb36bc3'::uuid), ('97726e7d-975a-4727-9274-5afa332f8221'::uuid), ('de72f175-d)"
      ]
     },
     "execution_count": 9,
     "metadata": {},
     "output_type": "execute_result"
    }
   ],
   "execution_count": 9
  }
 ],
 "metadata": {
  "kernelspec": {
   "display_name": "Kotlin",
   "language": "kotlin",
   "name": "kotlin"
  },
  "language_info": {
   "name": "kotlin",
   "version": "1.9.23",
   "mimetype": "text/x-kotlin",
   "file_extension": ".kt",
   "pygments_lexer": "kotlin",
   "codemirror_mode": "text/x-kotlin",
   "nbconvert_exporter": ""
  },
  "ktnbPluginMetadata": {
   "projectDependencies": [
    "funds.commons-api"
   ]
  }
 },
 "nbformat": 4,
 "nbformat_minor": 0
}
