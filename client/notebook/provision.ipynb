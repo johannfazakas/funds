{
 "cells": [
  {
   "metadata": {
    "ExecuteTime": {
     "end_time": "2025-09-17T06:13:34.075105Z",
     "start_time": "2025-09-17T06:13:30.674859Z"
    }
   },
   "cell_type": "code",
   "source": [
    "@file:DependsOn(\"ro.jf.funds:funds-notebook-client:1.0.0\")\n",
    "%use dataframe\n",
    "\n",
    "import ro.jf.funds.client.notebook.*\n",
    "\n",
    "val username = \"Johann-54.0\"\n",
    "\n",
    "val client = FundsClient()\n"
   ],
   "outputs": [],
   "execution_count": 9
  },
  {
   "metadata": {
    "ExecuteTime": {
     "end_time": "2025-09-17T06:13:34.299165Z",
     "start_time": "2025-09-17T06:13:34.085786Z"
    }
   },
   "cell_type": "code",
   "source": [
    "val user = client.ensureUserExists(username)\n",
    "user"
   ],
   "outputs": [
    {
     "data": {
      "text/plain": [
       "UserTO(id=9061576a-3efa-4b99-b994-6e3ba06f2577, username=Johann-54.0)"
      ]
     },
     "execution_count": 10,
     "metadata": {},
     "output_type": "execute_result"
    }
   ],
   "execution_count": 10
  },
  {
   "metadata": {
    "collapsed": true,
    "ExecuteTime": {
     "end_time": "2025-09-17T06:13:34.344975Z",
     "start_time": "2025-09-17T06:13:34.311368Z"
    }
   },
   "cell_type": "code",
   "source": [
    "val ACCOUNTS_YAML_FILE = \"../../data/provision/accounts.yaml\"\n",
    "val FUNDS_YAML_FILE = \"../../data/provision/funds.yaml\"\n",
    "val INITIAL_BALANCE_YAML_FILE = \"../../data/provision/initial-balance.yaml\"\n",
    "val IMPORT_CONFIGURATION_JSON_FILE = \"../../data/provision/import-configuration.json\"\n",
    "val WALLET_IMPORT_CONFIGURATION_YAML_FILE = \"../../data/provision/wallet-import-configuration.yaml\"\n",
    "val INVESTMENT_IMPORT_CONFIGURATION_YAML_FILE = \"../../data/provision/investment-import-configuration.yaml\""
   ],
   "outputs": [],
   "execution_count": 11
  },
  {
   "metadata": {
    "ExecuteTime": {
     "end_time": "2025-09-17T06:13:35.827101Z",
     "start_time": "2025-09-17T06:13:34.350892Z"
    }
   },
   "cell_type": "code",
   "source": [
    "import ro.jf.funds.account.api.model.*\n",
    "\n",
    "val accounts = client.provisionAccounts(user, client.fromYaml(File(ACCOUNTS_YAML_FILE)))\n",
    "accounts.map { it.toString() }.joinToString(separator = \"\\n\")"
   ],
   "outputs": [
    {
     "data": {
      "text/plain": [
       "AccountTO(id=c518d7ad-0b3d-449e-a14e-6024ef9e1211, name=Cash RON, unit=Currency(value=RON))\n",
       "AccountTO(id=778f49ee-e31f-4426-8345-3d91b1896368, name=Cash EUR, unit=Currency(value=EUR))\n",
       "AccountTO(id=06e6a252-9e82-4cac-8c62-92ec2b1cd955, name=Cash EUR-RON, unit=Currency(value=RON))\n",
       "AccountTO(id=f5d5eaeb-f901-4e76-94b0-a6427cafd141, name=ING RON, unit=Currency(value=RON))\n",
       "AccountTO(id=88414c2d-d9bc-40fa-b150-95d24a2f19d6, name=ING Economy, unit=Currency(value=RON))\n",
       "AccountTO(id=56e09873-b9e3-4949-a973-ce50f37ca015, name=Food Coupons, unit=Currency(value=RON))\n",
       "AccountTO(id=0646025e-66d7-4cf5-9d1e-189aa0584270, name=Revolut RON, unit=Currency(value=RON))\n",
       "AccountTO(id=ea87ed33-58d4-455c-b4aa-9fe9c32ce2fb, name=Revolut EUR-RON, unit=Currency(value=RON))\n",
       "AccountTO(id=f1e7dd77-8071-42e2-9a00-df95e0d8a8c3, name=Other, unit=Currency(value=RON))\n",
       "AccountTO(id=9f33d4e8-72a9-4ce8-881e-c228f79761f5, name=BT RON, unit=Currency(value=RON))\n",
       "AccountTO(id=01db3f46-5724-409f-8e3d-71b22d16644f, name=BT CC, unit=Currency(value=RON))\n",
       "AccountTO(id=b5d8b804-4ebf-4d64-a456-137452b858ed, name=BT EUR-RON, unit=Currency(value=RON))\n",
       "AccountTO(id=849c4ca9-e15c-467f-9e76-6ecaf0d7bff4, name=BT Economy RON, unit=Currency(value=RON))\n",
       "AccountTO(id=181da3a7-1a6b-4041-95cb-8b0450cc98c6, name=BT Depozit RON, unit=Currency(value=RON))\n",
       "AccountTO(id=eb23b259-1efa-4698-be6e-558f8041742d, name=BT Philocode RON, unit=Currency(value=RON))\n",
       "AccountTO(id=345a1dc6-b8d1-4c51-ab72-31d07c27f747, name=BT Philocode EUR-RON, unit=Currency(value=RON))\n",
       "AccountTO(id=e1ef7290-a5be-4ed3-bf8e-3eefef30902e, name=XTB EUR, unit=Currency(value=EUR))\n",
       "AccountTO(id=75b288bf-5530-4199-a4a9-9ed8a3659b19, name=XTB EUNL, unit=Symbol(value=EUNL))\n",
       "AccountTO(id=794e9ac0-f2ad-4673-bd12-c550dca1f486, name=XTB QDVE, unit=Symbol(value=QDVE))\n",
       "AccountTO(id=c3d06f96-b31d-464c-b838-df8df31edf7f, name=XTB IMAE, unit=Symbol(value=IMAE))\n",
       "AccountTO(id=91c1c29a-8352-4a8f-a9b6-0006ee43bb2a, name=XTB IS3N, unit=Symbol(value=IS3N))\n",
       "AccountTO(id=f2e27ba9-b9e1-4cea-b87d-abb14a4dec58, name=XTB SXR8, unit=Symbol(value=SXR8))\n",
       "AccountTO(id=985e65b6-f679-46f6-9b9f-0d2474469f23, name=XTB SUSW, unit=Symbol(value=SUSW))"
      ]
     },
     "execution_count": 12,
     "metadata": {},
     "output_type": "execute_result"
    }
   ],
   "execution_count": 12
  },
  {
   "metadata": {
    "ExecuteTime": {
     "end_time": "2025-09-17T06:13:37.230604Z",
     "start_time": "2025-09-17T06:13:35.916219Z"
    }
   },
   "cell_type": "code",
   "source": [
    "import ro.jf.funds.fund.api.model.*\n",
    "\n",
    "val funds = client.provisionFunds(user, client.fromYaml(File(FUNDS_YAML_FILE)))\n",
    "funds.map { it.toString() }.joinToString(separator = \"\\n\")"
   ],
   "outputs": [
    {
     "data": {
      "text/plain": [
       "FundTO(id=7e02e46f-1646-41b6-af80-173c8f3e28d1, name=Expenses)\n",
       "FundTO(id=5904f58e-bad7-4227-8ba8-a2c778983ad8, name=Work Income)\n",
       "FundTO(id=536aedf7-83b6-4a84-aaa0-ac942747f238, name=Other Income)\n",
       "FundTO(id=8bcf1d6c-bcbc-436c-bb01-ba08ff590ab2, name=Savings)\n",
       "FundTO(id=f63dea22-34a3-4e39-bb42-f0b5efb4dc9f, name=Investments)"
      ]
     },
     "execution_count": 13,
     "metadata": {},
     "output_type": "execute_result"
    }
   ],
   "execution_count": 13
  },
  {
   "metadata": {
    "ExecuteTime": {
     "end_time": "2025-09-17T06:13:38.559992Z",
     "start_time": "2025-09-17T06:13:37.249992Z"
    }
   },
   "cell_type": "code",
   "source": [
    "import ro.jf.funds.fund.api.model.*\n",
    "\n",
    "val initialBalancesTransactions = client.provisionInitialBalances(user, accounts, funds, client.fromYaml(File(INITIAL_BALANCE_YAML_FILE)))\n",
    "initialBalancesTransactions.map { it.toString() }.joinToString(separator = \"\\n\")"
   ],
   "outputs": [
    {
     "data": {
      "text/plain": [
       "FundTransactionTO(id=152be139-ae20-4cdd-aa78-a96fd0ca7e2e, userId=9061576a-3efa-4b99-b994-6e3ba06f2577, dateTime=2018-12-31T00:00, records=[FundRecordTO(id=ef772397-f007-48f6-a7d3-2d9c62cf1b2b, fundId=7e02e46f-1646-41b6-af80-173c8f3e28d1, accountId=c518d7ad-0b3d-449e-a14e-6024ef9e1211, amount=553.5, unit=Currency(value=RON), labels=[])])\n",
       "FundTransactionTO(id=68acf7b3-4a12-4772-9a60-1a32aed6f527, userId=9061576a-3efa-4b99-b994-6e3ba06f2577, dateTime=2018-12-31T00:00, records=[FundRecordTO(id=0609cd80-4e19-4f2b-a87e-b82cf66bc3c8, fundId=7e02e46f-1646-41b6-af80-173c8f3e28d1, accountId=56e09873-b9e3-4949-a973-ce50f37ca015, amount=45.96, unit=Currency(value=RON), labels=[])])\n",
       "FundTransactionTO(id=2bd3aa9b-33a7-42c8-8509-82da4704dda4, userId=9061576a-3efa-4b99-b994-6e3ba06f2577, dateTime=2018-12-31T00:00, records=[FundRecordTO(id=45e80f88-6463-45a6-8280-79ba231c5cac, fundId=7e02e46f-1646-41b6-af80-173c8f3e28d1, accountId=f1e7dd77-8071-42e2-9a00-df95e0d8a8c3, amount=3051.9, unit=Currency(value=RON), labels=[])])\n",
       "FundTransactionTO(id=d36fa4a6-af5f-4989-97f0-7ecb7faf3673, userId=9061576a-3efa-4b99-b994-6e3ba06f2577, dateTime=2018-12-31T00:00, records=[FundRecordTO(id=88001411-7830-4277-94bd-fcec5e1e8d4a, fundId=7e02e46f-1646-41b6-af80-173c8f3e28d1, accountId=9f33d4e8-72a9-4ce8-881e-c228f79761f5, amount=7708.46, unit=Currency(value=RON), labels=[])])\n",
       "FundTransactionTO(id=9ae0d3a9-c8d2-47fb-8af3-55342f2ffafc, userId=9061576a-3efa-4b99-b994-6e3ba06f2577, dateTime=2018-12-31T00:00, records=[FundRecordTO(id=dfe85ab2-ed99-4f38-8f44-211a1e666b95, fundId=7e02e46f-1646-41b6-af80-173c8f3e28d1, accountId=f5d5eaeb-f901-4e76-94b0-a6427cafd141, amount=-3037.15, unit=Currency(value=RON), labels=[])])"
      ]
     },
     "execution_count": 14,
     "metadata": {},
     "output_type": "execute_result"
    }
   ],
   "execution_count": 14
  },
  {
   "metadata": {
    "ExecuteTime": {
     "end_time": "2025-09-17T06:13:41.275850Z",
     "start_time": "2025-09-17T06:13:38.573011Z"
    }
   },
   "cell_type": "code",
   "source": [
    "\n",
    "val investmentCsvFiles =\n",
    "    listOf(2022, 2023)\n",
    "        .map { year -> File(\"../../data/investment/$year\") }\n",
    "        .flatMap { it.listFiles()?.toList() ?: error(\"no files found\") }\n",
    "val importTask = client.importTransactions(user, client.fromYaml(File(INVESTMENT_IMPORT_CONFIGURATION_YAML_FILE)), investmentCsvFiles)\n",
    "importTask"
   ],
   "outputs": [
    {
     "data": {
      "text/plain": [
       "ImportTaskTO(taskId=78461875-8b61-417c-a9fd-b053cf1fc3ae, status=COMPLETED, reason=null)"
      ]
     },
     "execution_count": 15,
     "metadata": {},
     "output_type": "execute_result"
    }
   ],
   "execution_count": 15
  },
  {
   "metadata": {
    "ExecuteTime": {
     "end_time": "2025-09-17T06:13:53.151198Z",
     "start_time": "2025-09-17T06:13:41.326457Z"
    }
   },
   "cell_type": "code",
   "source": [
    "import ro.jf.funds.importer.api.model.*\n",
    "\n",
    "val csvFiles =\n",
    "    listOf(2019, 2020, 2021, 2022, 2023)\n",
    "        .map { year -> File(\"../../data/wallet/$year\")}\n",
    "        .flatMap { it.listFiles()?.toList() ?: error(\"no files found\") }\n",
    "val importTask = client.importTransactions(user, client.fromYaml(File(WALLET_IMPORT_CONFIGURATION_YAML_FILE)), csvFiles)\n",
    "importTask"
   ],
   "outputs": [
    {
     "data": {
      "text/plain": [
       "ImportTaskTO(taskId=dfcc8973-8800-478b-bfdc-ac4d703f1b03, status=COMPLETED, reason=null)"
      ]
     },
     "execution_count": 16,
     "metadata": {},
     "output_type": "execute_result"
    }
   ],
   "execution_count": 16
  }
 ],
 "metadata": {
  "kernelspec": {
   "display_name": "Kotlin",
   "language": "kotlin",
   "name": "kotlin"
  },
  "language_info": {
   "name": "kotlin",
   "version": "1.9.23",
   "mimetype": "text/x-kotlin",
   "file_extension": ".kt",
   "pygments_lexer": "kotlin",
   "codemirror_mode": "text/x-kotlin",
   "nbconvert_exporter": ""
  },
  "ktnbPluginMetadata": {
   "projectDependencies": [
    "funds.commons-api"
   ]
  }
 },
 "nbformat": 4,
 "nbformat_minor": 0
}
