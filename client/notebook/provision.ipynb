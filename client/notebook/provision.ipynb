{
 "cells": [
  {
   "metadata": {
    "ExecuteTime": {
     "end_time": "2025-08-29T14:58:41.090673Z",
     "start_time": "2025-08-29T14:58:34.095381Z"
    }
   },
   "cell_type": "code",
   "source": [
    "@file:DependsOn(\"ro.jf.funds:funds-notebook-client:1.0.0\")\n",
    "%use dataframe\n",
    "\n",
    "import ro.jf.funds.client.notebook.*\n",
    "\n",
    "val username = \"Johann-50.3\"\n",
    "\n",
    "val client = FundsClient()\n"
   ],
   "outputs": [],
   "execution_count": 1
  },
  {
   "metadata": {
    "ExecuteTime": {
     "end_time": "2025-08-29T14:58:45.905186Z",
     "start_time": "2025-08-29T14:58:41.157306Z"
    }
   },
   "cell_type": "code",
   "source": [
    "val user = client.ensureUserExists(username)\n",
    "user"
   ],
   "outputs": [
    {
     "data": {
      "text/plain": [
       "UserTO(id=b848ce28-f3c1-4743-b7e2-f9d97ddacb74, username=Johann-50.3)"
      ]
     },
     "execution_count": 2,
     "metadata": {},
     "output_type": "execute_result"
    }
   ],
   "execution_count": 2
  },
  {
   "metadata": {
    "collapsed": true,
    "ExecuteTime": {
     "end_time": "2025-08-29T14:58:46.199555Z",
     "start_time": "2025-08-29T14:58:46.017846Z"
    }
   },
   "cell_type": "code",
   "source": [
    "val ACCOUNTS_YAML_FILE = \"../../data/provision/accounts.yaml\"\n",
    "val FUNDS_YAML_FILE = \"../../data/provision/funds.yaml\"\n",
    "val INITIAL_BALANCE_YAML_FILE = \"../../data/provision/initial-balance.yaml\"\n",
    "val IMPORT_CONFIGURATION_JSON_FILE = \"../../data/provision/import-configuration.json\"\n",
    "val WALLET_IMPORT_CONFIGURATION_YAML_FILE = \"../../data/provision/wallet-import-configuration.yaml\"\n",
    "val INVESTMENT_IMPORT_CONFIGURATION_YAML_FILE = \"../../data/provision/investment-import-configuration.yaml\""
   ],
   "outputs": [],
   "execution_count": 3
  },
  {
   "metadata": {
    "ExecuteTime": {
     "end_time": "2025-08-29T14:58:56.035901Z",
     "start_time": "2025-08-29T14:58:46.211760Z"
    }
   },
   "cell_type": "code",
   "source": [
    "import ro.jf.funds.account.api.model.*\n",
    "\n",
    "val accounts = client.provisionAccounts(user, client.fromYaml(File(ACCOUNTS_YAML_FILE)))\n",
    "accounts.map { it.toString() }.joinToString(separator = \"\\n\")"
   ],
   "outputs": [
    {
     "data": {
      "text/plain": [
       "AccountTO(id=497df45c-f963-4dfc-bf54-e62123a2e93c, name=Cash RON, unit=Currency(value=RON))\n",
       "AccountTO(id=702a9869-970c-4ce4-80b6-9c5ad70d69fc, name=Cash EUR, unit=Currency(value=EUR))\n",
       "AccountTO(id=728d7010-dff3-4305-9afd-2314dc07c669, name=Cash EUR-RON, unit=Currency(value=RON))\n",
       "AccountTO(id=db2868ad-2d4e-4441-b85f-8c2d9c3cad5f, name=ING RON, unit=Currency(value=RON))\n",
       "AccountTO(id=2637b2ae-0879-428c-8669-8decc073371e, name=ING Economy, unit=Currency(value=RON))\n",
       "AccountTO(id=f2ac099d-f1bb-4588-9a2c-a978244489e2, name=Food Coupons, unit=Currency(value=RON))\n",
       "AccountTO(id=fd8d9a32-19cf-4eb3-ab19-d99e835561d7, name=Revolut RON, unit=Currency(value=RON))\n",
       "AccountTO(id=663fec5f-8d3b-4c44-945c-6be66ca41cb9, name=Revolut EUR-RON, unit=Currency(value=RON))\n",
       "AccountTO(id=ce5e429b-46cd-41be-8202-7f6441824c68, name=Other, unit=Currency(value=RON))\n",
       "AccountTO(id=6597e893-9863-4a4a-a0ef-02c3f8ba7e34, name=BT RON, unit=Currency(value=RON))\n",
       "AccountTO(id=60785208-aaaf-4baa-b138-22109dade5d8, name=BT CC, unit=Currency(value=RON))\n",
       "AccountTO(id=d9e0ff07-c20a-49f9-ab0e-fd32163c44d0, name=BT EUR-RON, unit=Currency(value=RON))\n",
       "AccountTO(id=20021efa-d0bb-49b6-8e8b-7513a2b93e0f, name=BT Economy RON, unit=Currency(value=RON))\n",
       "AccountTO(id=1e61c053-2e31-470c-a46e-adb36c7c7167, name=BT Depozit RON, unit=Currency(value=RON))\n",
       "AccountTO(id=fa998f28-e760-4b6d-b878-0823d0ebb8b1, name=BT Philocode RON, unit=Currency(value=RON))\n",
       "AccountTO(id=b1beddfa-63ce-4635-b27c-aea5a9a6871f, name=XTB EUR, unit=Currency(value=EUR))\n",
       "AccountTO(id=19d8fb52-0ea9-4750-94da-b77d6989b801, name=XTB EUNL, unit=Symbol(value=EUNL))\n",
       "AccountTO(id=b00a62ae-f2c0-4f64-a1cb-bea25c03de72, name=XTB QDVE, unit=Symbol(value=QDVE))\n",
       "AccountTO(id=9c281146-fbb3-4b41-9096-b251fbebcb7b, name=XTB IMAE, unit=Symbol(value=IMAE))\n",
       "AccountTO(id=6aefd010-8e78-4fa6-a6bf-8a0c71756677, name=XTB IS3N, unit=Symbol(value=IS3N))\n",
       "AccountTO(id=c7f49778-ab81-4158-826c-ce63cccaa84c, name=XTB SXR8, unit=Symbol(value=SXR8))\n",
       "AccountTO(id=5bb3ab1e-4295-4894-ab9a-964689eebf85, name=XTB SUSW, unit=Symbol(value=SUSW))"
      ]
     },
     "execution_count": 4,
     "metadata": {},
     "output_type": "execute_result"
    }
   ],
   "execution_count": 4
  },
  {
   "metadata": {
    "ExecuteTime": {
     "end_time": "2025-08-29T14:59:02.530904Z",
     "start_time": "2025-08-29T14:58:56.279193Z"
    }
   },
   "cell_type": "code",
   "source": [
    "import ro.jf.funds.fund.api.model.*\n",
    "\n",
    "val funds = client.provisionFunds(user, client.fromYaml(File(FUNDS_YAML_FILE)))\n",
    "funds.map { it.toString() }.joinToString(separator = \"\\n\")"
   ],
   "outputs": [
    {
     "data": {
      "text/plain": [
       "FundTO(id=f7b39feb-4082-428f-a9b4-064be68b8282, name=Expenses)\n",
       "FundTO(id=8604d5aa-0ff4-4e83-baa9-482447ee29b4, name=Work Income)\n",
       "FundTO(id=c71a60a4-1512-4477-b771-be959a8eb44b, name=Other Income)\n",
       "FundTO(id=33d849de-ce07-4dca-80c5-681a51a7401a, name=Savings)\n",
       "FundTO(id=63713596-4167-4e1c-b8a8-320e2752b86c, name=Investments)"
      ]
     },
     "execution_count": 5,
     "metadata": {},
     "output_type": "execute_result"
    }
   ],
   "execution_count": 5
  },
  {
   "metadata": {
    "ExecuteTime": {
     "end_time": "2025-08-29T14:59:07.542990Z",
     "start_time": "2025-08-29T14:59:02.553443Z"
    }
   },
   "cell_type": "code",
   "source": [
    "import ro.jf.funds.fund.api.model.*\n",
    "\n",
    "val initialBalancesTransactions = client.provisionInitialBalances(user, accounts, funds, client.fromYaml(File(INITIAL_BALANCE_YAML_FILE)))\n",
    "initialBalancesTransactions.map { it.toString() }.joinToString(separator = \"\\n\")"
   ],
   "outputs": [
    {
     "data": {
      "text/plain": [
       "FundTransactionTO(id=1d131baa-86a7-4c3d-9561-598134b46c5d, userId=b848ce28-f3c1-4743-b7e2-f9d97ddacb74, dateTime=2018-12-31T00:00, records=[FundRecordTO(id=30f9c43c-6b3e-4056-8608-4368570dc5ab, fundId=f7b39feb-4082-428f-a9b4-064be68b8282, accountId=497df45c-f963-4dfc-bf54-e62123a2e93c, amount=553.5, unit=Currency(value=RON), labels=[])])\n",
       "FundTransactionTO(id=2f20e740-1447-469f-881f-9f135e6423ee, userId=b848ce28-f3c1-4743-b7e2-f9d97ddacb74, dateTime=2018-12-31T00:00, records=[FundRecordTO(id=584c1cc5-3532-4119-8497-48f9896debd6, fundId=f7b39feb-4082-428f-a9b4-064be68b8282, accountId=f2ac099d-f1bb-4588-9a2c-a978244489e2, amount=45.96, unit=Currency(value=RON), labels=[])])\n",
       "FundTransactionTO(id=f6c3dde2-c918-4b9a-8cf9-a0b14d533415, userId=b848ce28-f3c1-4743-b7e2-f9d97ddacb74, dateTime=2018-12-31T00:00, records=[FundRecordTO(id=68f90b2a-01a4-4579-8259-7285141af511, fundId=f7b39feb-4082-428f-a9b4-064be68b8282, accountId=ce5e429b-46cd-41be-8202-7f6441824c68, amount=3051.9, unit=Currency(value=RON), labels=[])])\n",
       "FundTransactionTO(id=f726f95c-ef29-4c20-adc2-e6deda252399, userId=b848ce28-f3c1-4743-b7e2-f9d97ddacb74, dateTime=2018-12-31T00:00, records=[FundRecordTO(id=e73d0e10-05cb-4d46-b435-e5199d76db9f, fundId=f7b39feb-4082-428f-a9b4-064be68b8282, accountId=6597e893-9863-4a4a-a0ef-02c3f8ba7e34, amount=7708.46, unit=Currency(value=RON), labels=[])])\n",
       "FundTransactionTO(id=8429d44c-d075-43b8-a9d6-3d416d5eb658, userId=b848ce28-f3c1-4743-b7e2-f9d97ddacb74, dateTime=2018-12-31T00:00, records=[FundRecordTO(id=99666f2e-ee2c-478c-af97-954757a40d17, fundId=f7b39feb-4082-428f-a9b4-064be68b8282, accountId=db2868ad-2d4e-4441-b85f-8c2d9c3cad5f, amount=-3037.15, unit=Currency(value=RON), labels=[])])"
      ]
     },
     "execution_count": 6,
     "metadata": {},
     "output_type": "execute_result"
    }
   ],
   "execution_count": 6
  },
  {
   "metadata": {
    "ExecuteTime": {
     "end_time": "2025-08-29T14:59:32.329418Z",
     "start_time": "2025-08-29T14:59:07.788597Z"
    }
   },
   "cell_type": "code",
   "source": [
    "\n",
    "val investmentCsvFiles =\n",
    "    listOf(2022, 2023)\n",
    "        .map { year -> File(\"../../data/investment/$year\") }\n",
    "        .flatMap { it.listFiles()?.toList() ?: error(\"no files found\") }\n",
    "val importTask = client.importTransactions(user, client.fromYaml(File(INVESTMENT_IMPORT_CONFIGURATION_YAML_FILE)), investmentCsvFiles)\n",
    "importTask"
   ],
   "outputs": [
    {
     "data": {
      "text/plain": [
       "ImportTaskTO(taskId=89862dc4-e0ff-4e8a-8733-e6f3f7c91fde, status=COMPLETED, reason=null)"
      ]
     },
     "execution_count": 7,
     "metadata": {},
     "output_type": "execute_result"
    }
   ],
   "execution_count": 7
  },
  {
   "metadata": {
    "ExecuteTime": {
     "end_time": "2025-08-29T15:00:00.951411Z",
     "start_time": "2025-08-29T14:59:32.363324Z"
    }
   },
   "cell_type": "code",
   "source": [
    "import ro.jf.funds.importer.api.model.*\n",
    "\n",
    "val csvFiles =\n",
    "    listOf(2019, 2020, 2021, 2022, 2023)\n",
    "        .map { year -> File(\"../../data/wallet/$year\")}\n",
    "        .flatMap { it.listFiles()?.toList() ?: error(\"no files found\") }\n",
    "val importTask = client.importTransactions(user, client.fromYaml(File(WALLET_IMPORT_CONFIGURATION_YAML_FILE)), csvFiles)\n",
    "importTask"
   ],
   "outputs": [
    {
     "data": {
      "text/plain": [
       "ImportTaskTO(taskId=0cb053ef-17c3-4047-aa26-1ee576b27eaa, status=COMPLETED, reason=null)"
      ]
     },
     "execution_count": 8,
     "metadata": {},
     "output_type": "execute_result"
    }
   ],
   "execution_count": 8
  }
 ],
 "metadata": {
  "kernelspec": {
   "display_name": "Kotlin",
   "language": "kotlin",
   "name": "kotlin"
  },
  "language_info": {
   "name": "kotlin",
   "version": "1.9.23",
   "mimetype": "text/x-kotlin",
   "file_extension": ".kt",
   "pygments_lexer": "kotlin",
   "codemirror_mode": "text/x-kotlin",
   "nbconvert_exporter": ""
  },
  "ktnbPluginMetadata": {
   "projectDependencies": [
    "funds.commons-api"
   ]
  }
 },
 "nbformat": 4,
 "nbformat_minor": 0
}
