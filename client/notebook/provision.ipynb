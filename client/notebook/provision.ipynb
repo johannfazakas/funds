{
 "cells": [
  {
   "metadata": {
    "ExecuteTime": {
     "end_time": "2025-09-25T06:12:19.810291Z",
     "start_time": "2025-09-25T06:12:11.046852Z"
    }
   },
   "cell_type": "code",
   "source": [
    "@file:DependsOn(\"ro.jf.funds:funds-notebook-client:1.0.0\")\n",
    "%use dataframe\n",
    "\n",
    "import ro.jf.funds.client.notebook.*\n",
    "\n",
    "val username = \"Johann-55.0\"\n",
    "\n",
    "val client = FundsClient()\n"
   ],
   "outputs": [],
   "execution_count": 1
  },
  {
   "metadata": {
    "ExecuteTime": {
     "end_time": "2025-09-25T06:12:29.097657Z",
     "start_time": "2025-09-25T06:12:19.939781Z"
    }
   },
   "cell_type": "code",
   "source": [
    "val user = client.ensureUserExists(username)\n",
    "user"
   ],
   "outputs": [
    {
     "data": {
      "text/plain": [
       "UserTO(id=a8ae5ed4-6107-4f37-a56f-93e177911cc9, username=Johann-55.0)"
      ]
     },
     "execution_count": 2,
     "metadata": {},
     "output_type": "execute_result"
    }
   ],
   "execution_count": 2
  },
  {
   "metadata": {
    "collapsed": true,
    "ExecuteTime": {
     "end_time": "2025-09-25T06:12:29.600844Z",
     "start_time": "2025-09-25T06:12:29.381112Z"
    }
   },
   "cell_type": "code",
   "source": [
    "val ACCOUNTS_YAML_FILE = \"../../data/provision/accounts.yaml\"\n",
    "val FUNDS_YAML_FILE = \"../../data/provision/funds.yaml\"\n",
    "val INITIAL_BALANCE_YAML_FILE = \"../../data/provision/initial-balance.yaml\"\n",
    "val IMPORT_CONFIGURATION_JSON_FILE = \"../../data/provision/import-configuration.json\"\n",
    "val WALLET_IMPORT_CONFIGURATION_YAML_FILE = \"../../data/provision/wallet-import-configuration.yaml\"\n",
    "val INVESTMENT_IMPORT_CONFIGURATION_YAML_FILE = \"../../data/provision/investment-import-configuration.yaml\""
   ],
   "outputs": [],
   "execution_count": 3
  },
  {
   "metadata": {
    "ExecuteTime": {
     "end_time": "2025-09-25T06:12:45.988628Z",
     "start_time": "2025-09-25T06:12:29.679394Z"
    }
   },
   "cell_type": "code",
   "source": [
    "import ro.jf.funds.account.api.model.*\n",
    "\n",
    "val accounts = client.provisionAccounts(user, client.fromYaml(File(ACCOUNTS_YAML_FILE)))\n",
    "accounts.map { it.toString() }.joinToString(separator = \"\\n\")"
   ],
   "outputs": [
    {
     "data": {
      "text/plain": [
       "AccountTO(id=ef9e5d3a-2de4-41ab-a45c-83efa9eb8784, name=Cash RON, unit=Currency(value=RON))\n",
       "AccountTO(id=69d63214-0bd9-4790-8675-1b63a9aa0b89, name=Cash EUR, unit=Currency(value=EUR))\n",
       "AccountTO(id=08574f14-b31e-4311-99e7-75c656c5dfad, name=Cash EUR-RON, unit=Currency(value=RON))\n",
       "AccountTO(id=0f077153-26ca-4a34-af54-9b4a736b21c7, name=ING RON, unit=Currency(value=RON))\n",
       "AccountTO(id=088b648f-34ad-46f1-8e18-1566543df6cc, name=ING Economy, unit=Currency(value=RON))\n",
       "AccountTO(id=7be13cd8-93c2-47f0-8cd5-e4d7349d1211, name=Food Coupons, unit=Currency(value=RON))\n",
       "AccountTO(id=3b77f9b0-88fd-4351-a041-bb2cfffa80e6, name=Revolut RON, unit=Currency(value=RON))\n",
       "AccountTO(id=818389e3-3c0e-4190-aabf-32a998c27064, name=Revolut EUR-RON, unit=Currency(value=RON))\n",
       "AccountTO(id=6a2669ad-595a-4f36-ac57-5ab8f367a95a, name=Other, unit=Currency(value=RON))\n",
       "AccountTO(id=1bbb97ec-bcbd-4ab9-ae52-45b452fa5137, name=BT RON, unit=Currency(value=RON))\n",
       "AccountTO(id=781bd96c-4335-46b0-ba57-eb1fa8165255, name=BT CC, unit=Currency(value=RON))\n",
       "AccountTO(id=ec677248-39ea-42dd-87f9-371a65ef75c6, name=BT EUR-RON, unit=Currency(value=RON))\n",
       "AccountTO(id=83d234f2-23ff-4aea-8262-e40d83a8cf7f, name=BT Economy RON, unit=Currency(value=RON))\n",
       "AccountTO(id=2fd6a9c0-e84b-4f87-a3a2-7ec0373b51e1, name=BT Depozit RON, unit=Currency(value=RON))\n",
       "AccountTO(id=fe4f40ce-0907-4443-8007-607fa0a6e576, name=BT Philocode RON, unit=Currency(value=RON))\n",
       "AccountTO(id=a30a0b7e-9b6f-40ac-b618-b8c18d51a2b4, name=BT Philocode EUR-RON, unit=Currency(value=RON))\n",
       "AccountTO(id=be5cc404-d9d8-4add-9d95-5580b19feb18, name=XTB EUR, unit=Currency(value=EUR))\n",
       "AccountTO(id=dcfabfe6-3ea3-42b3-b575-8b294ed91df1, name=XTB EUNL, unit=Symbol(value=EUNL))\n",
       "AccountTO(id=338400c7-1dda-4428-a27c-09b0129bf9ad, name=XTB QDVE, unit=Symbol(value=QDVE))\n",
       "AccountTO(id=fe14528a-645a-4f35-b89a-a0270197ef98, name=XTB IMAE, unit=Symbol(value=IMAE))\n",
       "AccountTO(id=d449eb73-1957-4b5e-b8de-e4e4d8ec3364, name=XTB IS3N, unit=Symbol(value=IS3N))\n",
       "AccountTO(id=38cbde93-b5e8-4a25-8776-502c4f7f7754, name=XTB SXR8, unit=Symbol(value=SXR8))\n",
       "AccountTO(id=ebe26a80-137a-4f01-baf2-10366807a87b, name=XTB SUSW, unit=Symbol(value=SUSW))"
      ]
     },
     "execution_count": 4,
     "metadata": {},
     "output_type": "execute_result"
    }
   ],
   "execution_count": 4
  },
  {
   "metadata": {
    "ExecuteTime": {
     "end_time": "2025-09-25T06:12:54.731543Z",
     "start_time": "2025-09-25T06:12:46.083106Z"
    }
   },
   "cell_type": "code",
   "source": [
    "import ro.jf.funds.fund.api.model.*\n",
    "\n",
    "val funds = client.provisionFunds(user, client.fromYaml(File(FUNDS_YAML_FILE)))\n",
    "funds.map { it.toString() }.joinToString(separator = \"\\n\")"
   ],
   "outputs": [
    {
     "data": {
      "text/plain": [
       "FundTO(id=6bc3fda3-4163-45ee-9cf8-56ab2c066948, name=Expenses)\n",
       "FundTO(id=acf4e143-2298-41a1-81e7-7278548401b5, name=Work Income)\n",
       "FundTO(id=a70cc36d-8169-45db-a309-2cd239276a5d, name=Other Income)\n",
       "FundTO(id=dccd0b55-d6a6-4e18-a60c-188bf755e4e3, name=Savings)\n",
       "FundTO(id=963a3055-a2b0-483b-86b9-54378a3eb8bc, name=Investments)"
      ]
     },
     "execution_count": 5,
     "metadata": {},
     "output_type": "execute_result"
    }
   ],
   "execution_count": 5
  },
  {
   "metadata": {
    "ExecuteTime": {
     "end_time": "2025-09-25T06:13:07.124517Z",
     "start_time": "2025-09-25T06:12:56.823058Z"
    }
   },
   "cell_type": "code",
   "source": [
    "import ro.jf.funds.fund.api.model.*\n",
    "\n",
    "val initialBalancesTransactions = client.provisionInitialBalances(user, accounts, funds, client.fromYaml(File(INITIAL_BALANCE_YAML_FILE)))\n",
    "initialBalancesTransactions.map { it.toString() }.joinToString(separator = \"\\n\")"
   ],
   "outputs": [
    {
     "data": {
      "text/plain": [
       "FundTransactionTO(id=0a1a16d3-2bfa-4c1a-a7ed-d742a32fc575, userId=a8ae5ed4-6107-4f37-a56f-93e177911cc9, dateTime=2018-12-31T00:00, records=[FundRecordTO(id=acf47fe7-dcfb-42ff-bc48-b24d4b51d069, fundId=6bc3fda3-4163-45ee-9cf8-56ab2c066948, accountId=ef9e5d3a-2de4-41ab-a45c-83efa9eb8784, amount=553.5, unit=Currency(value=RON), labels=[])])\n",
       "FundTransactionTO(id=7ab3aa17-3100-47b8-a23f-7f32618849df, userId=a8ae5ed4-6107-4f37-a56f-93e177911cc9, dateTime=2018-12-31T00:00, records=[FundRecordTO(id=5d64e066-e3e5-46e6-8a51-ab11f8cd30c7, fundId=6bc3fda3-4163-45ee-9cf8-56ab2c066948, accountId=7be13cd8-93c2-47f0-8cd5-e4d7349d1211, amount=45.96, unit=Currency(value=RON), labels=[])])\n",
       "FundTransactionTO(id=19d1581a-2f21-4ec5-b3fc-d9abcd5320a7, userId=a8ae5ed4-6107-4f37-a56f-93e177911cc9, dateTime=2018-12-31T00:00, records=[FundRecordTO(id=435da76a-856d-42f4-9728-70280728eaa0, fundId=6bc3fda3-4163-45ee-9cf8-56ab2c066948, accountId=6a2669ad-595a-4f36-ac57-5ab8f367a95a, amount=3051.9, unit=Currency(value=RON), labels=[])])\n",
       "FundTransactionTO(id=866bda3f-7e61-4e6d-91dc-d521230a99a3, userId=a8ae5ed4-6107-4f37-a56f-93e177911cc9, dateTime=2018-12-31T00:00, records=[FundRecordTO(id=b070a939-45f1-403f-92dd-988e54265ca4, fundId=6bc3fda3-4163-45ee-9cf8-56ab2c066948, accountId=1bbb97ec-bcbd-4ab9-ae52-45b452fa5137, amount=7708.46, unit=Currency(value=RON), labels=[])])\n",
       "FundTransactionTO(id=a0e854ed-a019-4015-99ca-95c87e7a9755, userId=a8ae5ed4-6107-4f37-a56f-93e177911cc9, dateTime=2018-12-31T00:00, records=[FundRecordTO(id=ab6faac8-c7ed-4985-b8cc-04d0fdeea3fd, fundId=6bc3fda3-4163-45ee-9cf8-56ab2c066948, accountId=0f077153-26ca-4a34-af54-9b4a736b21c7, amount=-3037.15, unit=Currency(value=RON), labels=[])])"
      ]
     },
     "execution_count": 6,
     "metadata": {},
     "output_type": "execute_result"
    }
   ],
   "execution_count": 6
  },
  {
   "metadata": {
    "ExecuteTime": {
     "end_time": "2025-09-25T06:14:21.229337Z",
     "start_time": "2025-09-25T06:13:10.000193Z"
    }
   },
   "cell_type": "code",
   "source": [
    "\n",
    "val investmentCsvFiles =\n",
    "    listOf(2022, 2023)\n",
    "        .map { year -> File(\"../../data/investment/$year\") }\n",
    "        .flatMap { it.listFiles()?.toList() ?: error(\"no files found\") }\n",
    "val importTask = client.importTransactions(user, client.fromYaml(File(INVESTMENT_IMPORT_CONFIGURATION_YAML_FILE)), investmentCsvFiles)\n",
    "importTask"
   ],
   "outputs": [
    {
     "data": {
      "text/plain": [
       "ImportTaskTO(taskId=dd2de243-08c2-4e35-89e2-088c59124e5e, status=COMPLETED, reason=null)"
      ]
     },
     "execution_count": 7,
     "metadata": {},
     "output_type": "execute_result"
    }
   ],
   "execution_count": 7
  },
  {
   "metadata": {
    "ExecuteTime": {
     "end_time": "2025-09-25T06:15:23.807728Z",
     "start_time": "2025-09-25T06:14:21.499326Z"
    }
   },
   "cell_type": "code",
   "source": [
    "import ro.jf.funds.importer.api.model.*\n",
    "\n",
    "val csvFiles =\n",
    "    listOf(2019, 2020, 2021, 2022, 2023)\n",
    "        .map { year -> File(\"../../data/wallet/$year\")}\n",
    "        .flatMap { it.listFiles()?.toList() ?: error(\"no files found\") }\n",
    "val importTask = client.importTransactions(user, client.fromYaml(File(WALLET_IMPORT_CONFIGURATION_YAML_FILE)), csvFiles)\n",
    "importTask"
   ],
   "outputs": [
    {
     "data": {
      "text/plain": [
       "ImportTaskTO(taskId=d0ae9d9a-f91e-4235-83ea-18f56c2c2c35, status=COMPLETED, reason=null)"
      ]
     },
     "execution_count": 8,
     "metadata": {},
     "output_type": "execute_result"
    }
   ],
   "execution_count": 8
  }
 ],
 "metadata": {
  "kernelspec": {
   "display_name": "Kotlin",
   "language": "kotlin",
   "name": "kotlin"
  },
  "language_info": {
   "name": "kotlin",
   "version": "1.9.23",
   "mimetype": "text/x-kotlin",
   "file_extension": ".kt",
   "pygments_lexer": "kotlin",
   "codemirror_mode": "text/x-kotlin",
   "nbconvert_exporter": ""
  },
  "ktnbPluginMetadata": {
   "projectDependencies": [
    "funds.commons-api"
   ]
  }
 },
 "nbformat": 4,
 "nbformat_minor": 0
}
