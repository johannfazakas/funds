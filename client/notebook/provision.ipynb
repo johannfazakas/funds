{
 "cells": [
  {
   "metadata": {
    "ExecuteTime": {
     "end_time": "2025-10-30T09:18:14.186859Z",
     "start_time": "2025-10-30T09:18:09.335392Z"
    }
   },
   "cell_type": "code",
   "source": [
    "@file:DependsOn(\"ro.jf.funds:funds-notebook-client:1.0.0\")\n",
    "%use dataframe\n",
    "\n",
    "import ro.jf.funds.client.notebook.*\n",
    "\n",
    "val username = \"Johann-62.0\"\n",
    "\n",
    "val client = FundsClient()\n"
   ],
   "outputs": [],
   "execution_count": 9
  },
  {
   "metadata": {
    "ExecuteTime": {
     "end_time": "2025-10-30T09:18:14.534809Z",
     "start_time": "2025-10-30T09:18:14.194940Z"
    }
   },
   "cell_type": "code",
   "source": [
    "val user = client.ensureUserExists(username)\n",
    "user"
   ],
   "outputs": [
    {
     "data": {
      "text/plain": [
       "UserTO(id=5350d9c5-4a40-4d24-96d3-d92ead7445ca, username=Johann-62.0)"
      ]
     },
     "execution_count": 10,
     "metadata": {},
     "output_type": "execute_result"
    }
   ],
   "execution_count": 10
  },
  {
   "metadata": {
    "collapsed": true,
    "ExecuteTime": {
     "end_time": "2025-10-30T09:18:14.576912Z",
     "start_time": "2025-10-30T09:18:14.544303Z"
    }
   },
   "cell_type": "code",
   "source": [
    "val ACCOUNTS_YAML_FILE = \"../../data/provision/accounts.yaml\"\n",
    "val FUNDS_YAML_FILE = \"../../data/provision/funds.yaml\"\n",
    "val INITIAL_BALANCE_YAML_FILE = \"../../data/provision/initial-balance.yaml\"\n",
    "val IMPORT_CONFIGURATION_JSON_FILE = \"../../data/provision/import-configuration.json\"\n",
    "val WALLET_IMPORT_CONFIGURATION_YAML_FILE = \"../../data/provision/wallet-import-configuration.yaml\"\n",
    "val INVESTMENT_IMPORT_CONFIGURATION_YAML_FILE = \"../../data/provision/investment-import-configuration.yaml\""
   ],
   "outputs": [],
   "execution_count": 11
  },
  {
   "metadata": {
    "ExecuteTime": {
     "end_time": "2025-10-30T09:18:16.501555Z",
     "start_time": "2025-10-30T09:18:14.708761Z"
    }
   },
   "cell_type": "code",
   "source": [
    "import ro.jf.funds.fund.api.model.*\n",
    "\n",
    "val accounts = client.provisionAccounts(user, client.fromYaml(File(ACCOUNTS_YAML_FILE)))\n",
    "accounts.map { it.toString() }.joinToString(separator = \"\\n\")"
   ],
   "outputs": [
    {
     "data": {
      "text/plain": [
       "AccountTO(id=5ed6c686-0815-433f-a845-94969aeabd63, name=Cash RON, unit=Currency(value=RON))\n",
       "AccountTO(id=587c8653-217a-440f-8355-5f6c75c0729e, name=Cash EUR, unit=Currency(value=EUR))\n",
       "AccountTO(id=ba5c9ab8-93ac-491a-8fd3-5171a25311ce, name=Cash EUR-RON, unit=Currency(value=RON))\n",
       "AccountTO(id=57531ac4-7cc8-41f2-b4e9-96333e4afa9f, name=ING RON, unit=Currency(value=RON))\n",
       "AccountTO(id=81872593-1255-4a7a-8760-28ea4f5ebac2, name=ING Economy, unit=Currency(value=RON))\n",
       "AccountTO(id=437678ee-5cce-4097-a5c8-0b5c76e04063, name=Food Coupons, unit=Currency(value=RON))\n",
       "AccountTO(id=51920155-e930-4dfc-8f16-0d95e64574cc, name=Revolut RON, unit=Currency(value=RON))\n",
       "AccountTO(id=aa83651d-17dd-4df7-8c46-2f4cbf197b60, name=Revolut EUR-RON, unit=Currency(value=RON))\n",
       "AccountTO(id=b6f03452-bffe-4dac-ba35-1172d2273517, name=Other, unit=Currency(value=RON))\n",
       "AccountTO(id=c0988670-3e0a-40ee-9dc6-ce63ed096be0, name=BT RON, unit=Currency(value=RON))\n",
       "AccountTO(id=832101f7-9814-4859-873a-b650e3179701, name=BT CC, unit=Currency(value=RON))\n",
       "AccountTO(id=98b4f1a2-fe68-4883-8724-0a297c7f8134, name=BT EUR-RON, unit=Currency(value=RON))\n",
       "AccountTO(id=e37f4d17-9902-412b-bb22-f5c709f3dc78, name=BT Economy RON, unit=Currency(value=RON))\n",
       "AccountTO(id=6b756b46-cdb3-4fd0-82e5-1b48565d5102, name=BT Depozit RON, unit=Currency(value=RON))\n",
       "AccountTO(id=10205118-7777-4ffa-b9e1-ac5334d15982, name=BT Philocode RON, unit=Currency(value=RON))\n",
       "AccountTO(id=d445d242-ed40-4c2f-94fd-91e35dd3cbcc, name=BT Philocode EUR-RON, unit=Currency(value=RON))\n",
       "AccountTO(id=d0285a71-fe12-4035-bc6d-199227adb22d, name=Olivia, unit=Currency(value=RON))\n",
       "AccountTO(id=0ce6c1a3-8601-471a-b92b-f3ae445c0b35, name=Ami, unit=Currency(value=RON))\n",
       "AccountTO(id=566c0333-a2e9-4508-b2f2-2ebeb02b0cf0, name=XTB EUR, unit=Currency(value=EUR))\n",
       "AccountTO(id=cc0f1fd6-4c93-43db-89c1-98bdbfe4798a, name=XTB EUNL, unit=Instrument(value=EUNL))\n",
       "AccountTO(id=f2e91773-b116-4269-b64f-b4ca13d41eb7, name=XTB QDVE, unit=Instrument(value=QDVE))\n",
       "AccountTO(id=3ba73b1a-9b65-4030-b126-f9b8261be628, name=XTB IMAE, unit=Instrument(value=IMAE))\n",
       "AccountTO(id=b340c5e3-24f0-42f4-8f53-41e2b414a591, name=XTB IS3N, unit=Instrument(value=IS3N))\n",
       "AccountTO(id=bc257ea1-4d7b-4cda-aad5-ccc299fcb594, name=XTB SXR8, unit=Instrument(value=SXR8))\n",
       "AccountTO(id=1ea43f97-a7ff-46c6-8d94-d17419ca8d85, name=XTB SUSW, unit=Instrument(value=SUSW))"
      ]
     },
     "execution_count": 12,
     "metadata": {},
     "output_type": "execute_result"
    }
   ],
   "execution_count": 12
  },
  {
   "metadata": {
    "ExecuteTime": {
     "end_time": "2025-10-30T09:18:17.166149Z",
     "start_time": "2025-10-30T09:18:16.558937Z"
    }
   },
   "cell_type": "code",
   "source": [
    "import ro.jf.funds.fund.api.model.*\n",
    "\n",
    "val funds = client.provisionFunds(user, client.fromYaml(File(FUNDS_YAML_FILE)))\n",
    "funds.map { it.toString() }.joinToString(separator = \"\\n\")"
   ],
   "outputs": [
    {
     "data": {
      "text/plain": [
       "FundTO(id=6a023180-d770-466f-93a4-12f79218e59b, name=Expenses)\n",
       "FundTO(id=ba946c78-5abe-4d2e-bb8b-9fa135fcfc2d, name=Work Income)\n",
       "FundTO(id=f18c2bfc-af44-436f-92a9-57d64ee1a6e6, name=Other Income)\n",
       "FundTO(id=f150f59a-a687-49bf-a6d8-f429cd2ab4c8, name=Savings)\n",
       "FundTO(id=cabfe246-90c7-4fee-8b12-c6ff51a7e44d, name=Investments)"
      ]
     },
     "execution_count": 13,
     "metadata": {},
     "output_type": "execute_result"
    }
   ],
   "execution_count": 13
  },
  {
   "metadata": {
    "ExecuteTime": {
     "end_time": "2025-10-30T09:18:17.754679Z",
     "start_time": "2025-10-30T09:18:17.201991Z"
    }
   },
   "cell_type": "code",
   "source": [
    "import ro.jf.funds.fund.api.model.*\n",
    "\n",
    "val initialBalancesTransactions = client.provisionInitialBalances(user, accounts, funds, client.fromYaml(File(INITIAL_BALANCE_YAML_FILE)))\n",
    "initialBalancesTransactions.map { it.toString() }.joinToString(separator = \"\\n\")"
   ],
   "outputs": [
    {
     "data": {
      "text/plain": [
       "SingleRecord(id=56f00328-1fad-484c-a938-0c02a8fb5139, userId=5350d9c5-4a40-4d24-96d3-d92ead7445ca, externalId=3cc95911-d992-3100-96c2-3c2d72b28399, dateTime=2018-12-31T00:00, record=TransactionRecordTO(id=2f851f7e-9d00-4493-8a6c-731e46a8bfa1, accountId=5ed6c686-0815-433f-a845-94969aeabd63, fundId=6a023180-d770-466f-93a4-12f79218e59b, amount=553.5, unit=Currency(value=RON), labels=[]))\n",
       "SingleRecord(id=17ff0f20-76ab-4555-be19-776768fbbeba, userId=5350d9c5-4a40-4d24-96d3-d92ead7445ca, externalId=383d89b9-149a-382b-ac63-be2991fe71b0, dateTime=2018-12-31T00:00, record=TransactionRecordTO(id=e023db9e-5ede-4d6c-ac3b-75c84c8f698e, accountId=437678ee-5cce-4097-a5c8-0b5c76e04063, fundId=6a023180-d770-466f-93a4-12f79218e59b, amount=45.96, unit=Currency(value=RON), labels=[]))\n",
       "SingleRecord(id=0384d547-c660-40ac-96e2-4cfc08fefd81, userId=5350d9c5-4a40-4d24-96d3-d92ead7445ca, externalId=d08ef880-c401-3671-8e83-bd71bc2483d8, dateTime=2018-12-31T00:00, record=TransactionRecordTO(id=7c4a0a8c-e320-49a4-8d98-09f37b6e1567, accountId=b6f03452-bffe-4dac-ba35-1172d2273517, fundId=6a023180-d770-466f-93a4-12f79218e59b, amount=3051.9, unit=Currency(value=RON), labels=[]))\n",
       "SingleRecord(id=a76dfecf-86ed-47b9-b5b5-96ed97c52ad2, userId=5350d9c5-4a40-4d24-96d3-d92ead7445ca, externalId=0ef8ab7f-359a-3e62-a00f-94ed71c870a5, dateTime=2018-12-31T00:00, record=TransactionRecordTO(id=304ff7da-fc03-478f-a1e9-1fbe98a92636, accountId=c0988670-3e0a-40ee-9dc6-ce63ed096be0, fundId=6a023180-d770-466f-93a4-12f79218e59b, amount=7708.46, unit=Currency(value=RON), labels=[]))\n",
       "SingleRecord(id=43b1f39d-1f54-423e-8abe-e0e2f6bc3f4f, userId=5350d9c5-4a40-4d24-96d3-d92ead7445ca, externalId=7fd77818-9709-3aa1-ad07-5ffd4a15ada1, dateTime=2018-12-31T00:00, record=TransactionRecordTO(id=f1e838b0-66d4-49c9-9470-b5ad7d9277ee, accountId=57531ac4-7cc8-41f2-b4e9-96333e4afa9f, fundId=6a023180-d770-466f-93a4-12f79218e59b, amount=-3037.15, unit=Currency(value=RON), labels=[]))"
      ]
     },
     "execution_count": 14,
     "metadata": {},
     "output_type": "execute_result"
    }
   ],
   "execution_count": 14
  },
  {
   "metadata": {
    "ExecuteTime": {
     "end_time": "2025-10-30T09:18:24.627358Z",
     "start_time": "2025-10-30T09:18:17.831069Z"
    }
   },
   "cell_type": "code",
   "source": [
    "\n",
    "val investmentCsvFiles =\n",
    "    listOf(2022, 2023, 2024)\n",
    "        .map { year -> File(\"../../data/investment/$year\") }\n",
    "        .flatMap { it.listFiles()?.toList() ?: error(\"no files found\") }\n",
    "val importTask = client.importTransactions(user, client.fromYaml(File(INVESTMENT_IMPORT_CONFIGURATION_YAML_FILE)), investmentCsvFiles)\n",
    "importTask"
   ],
   "outputs": [
    {
     "data": {
      "text/plain": [
       "ImportTaskTO(taskId=f61cf020-7711-4074-bf44-713d5bb05d7e, status=COMPLETED, reason=null)"
      ]
     },
     "execution_count": 15,
     "metadata": {},
     "output_type": "execute_result"
    }
   ],
   "execution_count": 15
  },
  {
   "metadata": {
    "ExecuteTime": {
     "end_time": "2025-10-30T09:18:36.952009Z",
     "start_time": "2025-10-30T09:18:24.638427Z"
    }
   },
   "cell_type": "code",
   "source": [
    "import ro.jf.funds.importer.api.model.*\n",
    "\n",
    "val csvFiles =\n",
    "    listOf(2019, 2020, 2021, 2022, 2023, 2024)\n",
    "        .map { year -> File(\"../../data/wallet/$year\")}\n",
    "        .flatMap { it.listFiles()?.toList() ?: error(\"no files found\") }\n",
    "val importTask = client.importTransactions(user, client.fromYaml(File(WALLET_IMPORT_CONFIGURATION_YAML_FILE)), csvFiles)\n",
    "importTask"
   ],
   "outputs": [
    {
     "data": {
      "text/plain": [
       "ImportTaskTO(taskId=ee15d6c2-88da-4790-81e9-d3e28991e579, status=COMPLETED, reason=null)"
      ]
     },
     "execution_count": 16,
     "metadata": {},
     "output_type": "execute_result"
    }
   ],
   "execution_count": 16
  }
 ],
 "metadata": {
  "kernelspec": {
   "display_name": "Kotlin",
   "language": "kotlin",
   "name": "kotlin"
  },
  "language_info": {
   "name": "kotlin",
   "version": "1.9.23",
   "mimetype": "text/x-kotlin",
   "file_extension": ".kt",
   "pygments_lexer": "kotlin",
   "codemirror_mode": "text/x-kotlin",
   "nbconvert_exporter": ""
  },
  "ktnbPluginMetadata": {
   "projectDependencies": [
    "funds.commons-api"
   ]
  }
 },
 "nbformat": 4,
 "nbformat_minor": 0
}
