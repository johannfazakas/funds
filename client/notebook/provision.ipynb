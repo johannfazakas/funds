{
 "cells": [
  {
   "metadata": {
    "ExecuteTime": {
     "end_time": "2025-10-22T06:17:45.508231Z",
     "start_time": "2025-10-22T06:17:41.517314Z"
    }
   },
   "cell_type": "code",
   "source": [
    "@file:DependsOn(\"ro.jf.funds:funds-notebook-client:1.0.0\")\n",
    "%use dataframe\n",
    "\n",
    "import ro.jf.funds.client.notebook.*\n",
    "\n",
    "val username = \"Johann-58.17\"\n",
    "\n",
    "val client = FundsClient()\n"
   ],
   "outputs": [],
   "execution_count": 1
  },
  {
   "metadata": {
    "ExecuteTime": {
     "end_time": "2025-10-22T06:17:46.155602Z",
     "start_time": "2025-10-22T06:17:45.536400Z"
    }
   },
   "cell_type": "code",
   "source": [
    "val user = client.ensureUserExists(username)\n",
    "user"
   ],
   "outputs": [
    {
     "data": {
      "text/plain": [
       "UserTO(id=e593a271-419c-4813-94c2-15cf53caf7f4, username=Johann-58.17)"
      ]
     },
     "execution_count": 2,
     "metadata": {},
     "output_type": "execute_result"
    }
   ],
   "execution_count": 2
  },
  {
   "metadata": {
    "collapsed": true,
    "ExecuteTime": {
     "end_time": "2025-10-22T06:17:46.319070Z",
     "start_time": "2025-10-22T06:17:46.211143Z"
    }
   },
   "cell_type": "code",
   "source": [
    "val ACCOUNTS_YAML_FILE = \"../../data/provision/accounts.yaml\"\n",
    "val FUNDS_YAML_FILE = \"../../data/provision/funds.yaml\"\n",
    "val INITIAL_BALANCE_YAML_FILE = \"../../data/provision/initial-balance.yaml\"\n",
    "val IMPORT_CONFIGURATION_JSON_FILE = \"../../data/provision/import-configuration.json\"\n",
    "val WALLET_IMPORT_CONFIGURATION_YAML_FILE = \"../../data/provision/wallet-import-configuration.yaml\"\n",
    "val INVESTMENT_IMPORT_CONFIGURATION_YAML_FILE = \"../../data/provision/investment-import-configuration.yaml\""
   ],
   "outputs": [],
   "execution_count": 3
  },
  {
   "metadata": {
    "ExecuteTime": {
     "end_time": "2025-10-22T06:17:50.081701Z",
     "start_time": "2025-10-22T06:17:46.503425Z"
    }
   },
   "cell_type": "code",
   "source": [
    "import ro.jf.funds.fund.api.model.*\n",
    "\n",
    "val accounts = client.provisionAccounts(user, client.fromYaml(File(ACCOUNTS_YAML_FILE)))\n",
    "accounts.map { it.toString() }.joinToString(separator = \"\\n\")"
   ],
   "outputs": [
    {
     "data": {
      "text/plain": [
       "AccountTO(id=b67d5de9-b84b-46f2-829a-139147065012, name=Cash RON, unit=Currency(value=RON))\n",
       "AccountTO(id=fc26eb5b-8dc4-4ef8-bf94-c0eedcb087ec, name=Cash EUR, unit=Currency(value=EUR))\n",
       "AccountTO(id=7cf39ee3-ff93-4544-acd5-902a34b0d9ac, name=Cash EUR-RON, unit=Currency(value=RON))\n",
       "AccountTO(id=e5f5589b-18e9-47ca-ad3e-77d3ac0251d6, name=ING RON, unit=Currency(value=RON))\n",
       "AccountTO(id=97968fb5-9674-4959-adac-c6503a77c97c, name=ING Economy, unit=Currency(value=RON))\n",
       "AccountTO(id=c83f2cff-31a3-4e6b-8d5b-78da063d95d5, name=Food Coupons, unit=Currency(value=RON))\n",
       "AccountTO(id=657ff7af-95a5-48fe-8874-e8419a46b795, name=Revolut RON, unit=Currency(value=RON))\n",
       "AccountTO(id=402fe9ef-5180-4f1c-b397-79cb8ad80c0c, name=Revolut EUR-RON, unit=Currency(value=RON))\n",
       "AccountTO(id=bdbea714-c8ec-465b-9db0-b5a763eecb7c, name=Other, unit=Currency(value=RON))\n",
       "AccountTO(id=115206c1-37f9-44d0-8911-83cb1b111757, name=BT RON, unit=Currency(value=RON))\n",
       "AccountTO(id=0cd386a6-e159-4a5a-98d9-fc2d6a36b39d, name=BT CC, unit=Currency(value=RON))\n",
       "AccountTO(id=33da0f8c-5d29-4f5e-ae74-71cd3194f495, name=BT EUR-RON, unit=Currency(value=RON))\n",
       "AccountTO(id=2ae1015a-691c-4db4-bb1a-dc1b110a1652, name=BT Economy RON, unit=Currency(value=RON))\n",
       "AccountTO(id=84326481-dc99-4365-bbb1-2072aca45d80, name=BT Depozit RON, unit=Currency(value=RON))\n",
       "AccountTO(id=c9e5c461-c2a0-4472-9f3d-568a832eef58, name=BT Philocode RON, unit=Currency(value=RON))\n",
       "AccountTO(id=4c0bb851-1386-4d01-b0ce-fe985c72153f, name=BT Philocode EUR-RON, unit=Currency(value=RON))\n",
       "AccountTO(id=4f556696-a1d2-46d3-9c7b-35ef3b85da57, name=XTB EUR, unit=Currency(value=EUR))\n",
       "AccountTO(id=761f4430-89a1-49e6-9ea1-c635f4c1dfa5, name=XTB EUNL, unit=Instrument(value=EUNL))\n",
       "AccountTO(id=1d70bc20-523f-401c-bdf3-b0a69f6e1fa1, name=XTB QDVE, unit=Instrument(value=QDVE))\n",
       "AccountTO(id=895a4ff1-c35b-4fac-ac64-43297d2a93ae, name=XTB IMAE, unit=Instrument(value=IMAE))\n",
       "AccountTO(id=d4226a59-e9b3-4395-86f7-811cedbad8b7, name=XTB IS3N, unit=Instrument(value=IS3N))\n",
       "AccountTO(id=97b3a938-142c-4e9b-93f5-22f15019f115, name=XTB SXR8, unit=Instrument(value=SXR8))\n",
       "AccountTO(id=32872706-87c0-423b-820f-a60f00d18d30, name=XTB SUSW, unit=Instrument(value=SUSW))"
      ]
     },
     "execution_count": 4,
     "metadata": {},
     "output_type": "execute_result"
    }
   ],
   "execution_count": 4
  },
  {
   "metadata": {
    "ExecuteTime": {
     "end_time": "2025-10-22T06:17:51.246064Z",
     "start_time": "2025-10-22T06:17:50.138094Z"
    }
   },
   "cell_type": "code",
   "source": [
    "import ro.jf.funds.fund.api.model.*\n",
    "\n",
    "val funds = client.provisionFunds(user, client.fromYaml(File(FUNDS_YAML_FILE)))\n",
    "funds.map { it.toString() }.joinToString(separator = \"\\n\")"
   ],
   "outputs": [
    {
     "data": {
      "text/plain": [
       "FundTO(id=5bebf3af-b0d6-49f6-b69d-8d868980763f, name=Expenses)\n",
       "FundTO(id=cc1de515-061c-4e31-853a-25aa532319ef, name=Work Income)\n",
       "FundTO(id=b975a767-2503-4f17-9ee3-c84ac7c33edd, name=Other Income)\n",
       "FundTO(id=1215b1a1-3b71-4dde-8894-94c44935dfca, name=Savings)\n",
       "FundTO(id=b73fae53-5df7-4499-a021-81649b1aee29, name=Investments)"
      ]
     },
     "execution_count": 5,
     "metadata": {},
     "output_type": "execute_result"
    }
   ],
   "execution_count": 5
  },
  {
   "metadata": {
    "ExecuteTime": {
     "end_time": "2025-10-22T06:17:53.107776Z",
     "start_time": "2025-10-22T06:17:51.399507Z"
    }
   },
   "cell_type": "code",
   "source": [
    "import ro.jf.funds.fund.api.model.*\n",
    "\n",
    "val initialBalancesTransactions = client.provisionInitialBalances(user, accounts, funds, client.fromYaml(File(INITIAL_BALANCE_YAML_FILE)))\n",
    "initialBalancesTransactions.map { it.toString() }.joinToString(separator = \"\\n\")"
   ],
   "outputs": [
    {
     "data": {
      "text/plain": [
       "SingleRecord(id=077cc097-e649-47ee-9423-f6634383822f, userId=e593a271-419c-4813-94c2-15cf53caf7f4, externalId=3cc95911-d992-3100-96c2-3c2d72b28399, dateTime=2018-12-31T00:00, record=TransactionRecordTO(id=914a9de6-197c-4329-8c21-021d1201de6a, accountId=b67d5de9-b84b-46f2-829a-139147065012, fundId=5bebf3af-b0d6-49f6-b69d-8d868980763f, amount=553.5, unit=Currency(value=RON), labels=[]))\n",
       "SingleRecord(id=69b03f07-ccfa-49d0-a3a8-b9ba86c46e40, userId=e593a271-419c-4813-94c2-15cf53caf7f4, externalId=383d89b9-149a-382b-ac63-be2991fe71b0, dateTime=2018-12-31T00:00, record=TransactionRecordTO(id=c0b362a9-72e0-4869-819d-1257b4f8dd3e, accountId=c83f2cff-31a3-4e6b-8d5b-78da063d95d5, fundId=5bebf3af-b0d6-49f6-b69d-8d868980763f, amount=45.96, unit=Currency(value=RON), labels=[]))\n",
       "SingleRecord(id=6724ea29-b3ad-49fc-a9f9-32a8428cff20, userId=e593a271-419c-4813-94c2-15cf53caf7f4, externalId=d08ef880-c401-3671-8e83-bd71bc2483d8, dateTime=2018-12-31T00:00, record=TransactionRecordTO(id=2fcf03d6-7fb1-4aad-bd7c-58ad4f8831e2, accountId=bdbea714-c8ec-465b-9db0-b5a763eecb7c, fundId=5bebf3af-b0d6-49f6-b69d-8d868980763f, amount=3051.9, unit=Currency(value=RON), labels=[]))\n",
       "SingleRecord(id=9c1b3f51-6567-4d47-bbb6-e5ef31aae977, userId=e593a271-419c-4813-94c2-15cf53caf7f4, externalId=0ef8ab7f-359a-3e62-a00f-94ed71c870a5, dateTime=2018-12-31T00:00, record=TransactionRecordTO(id=697fdfef-3a97-4866-8e5d-e3b92c7a6bbc, accountId=115206c1-37f9-44d0-8911-83cb1b111757, fundId=5bebf3af-b0d6-49f6-b69d-8d868980763f, amount=7708.46, unit=Currency(value=RON), labels=[]))\n",
       "SingleRecord(id=428dcdcb-0c32-4dde-a68e-2ed847d43f3c, userId=e593a271-419c-4813-94c2-15cf53caf7f4, externalId=7fd77818-9709-3aa1-ad07-5ffd4a15ada1, dateTime=2018-12-31T00:00, record=TransactionRecordTO(id=ba4e7489-a3fc-4113-bdee-909bc6eb069b, accountId=e5f5589b-18e9-47ca-ad3e-77d3ac0251d6, fundId=5bebf3af-b0d6-49f6-b69d-8d868980763f, amount=-3037.15, unit=Currency(value=RON), labels=[]))"
      ]
     },
     "execution_count": 6,
     "metadata": {},
     "output_type": "execute_result"
    }
   ],
   "execution_count": 6
  },
  {
   "metadata": {
    "ExecuteTime": {
     "end_time": "2025-10-22T06:18:06.672419Z",
     "start_time": "2025-10-22T06:17:53.223073Z"
    }
   },
   "cell_type": "code",
   "source": [
    "\n",
    "val investmentCsvFiles =\n",
    "    listOf(2022, 2023)\n",
    "        .map { year -> File(\"../../data/investment/$year\") }\n",
    "        .flatMap { it.listFiles()?.toList() ?: error(\"no files found\") }\n",
    "val importTask = client.importTransactions(user, client.fromYaml(File(INVESTMENT_IMPORT_CONFIGURATION_YAML_FILE)), investmentCsvFiles)\n",
    "importTask"
   ],
   "outputs": [
    {
     "data": {
      "text/plain": [
       "ImportTaskTO(taskId=51a3fd99-4c99-4bf5-b745-deb02645cd2c, status=COMPLETED, reason=null)"
      ]
     },
     "execution_count": 7,
     "metadata": {},
     "output_type": "execute_result"
    }
   ],
   "execution_count": 7
  },
  {
   "metadata": {
    "ExecuteTime": {
     "end_time": "2025-10-22T06:18:27.658894Z",
     "start_time": "2025-10-22T06:18:06.766924Z"
    }
   },
   "cell_type": "code",
   "source": [
    "import ro.jf.funds.importer.api.model.*\n",
    "\n",
    "val csvFiles =\n",
    "    listOf(2019, 2020, 2021, 2022, 2023)\n",
    "        .map { year -> File(\"../../data/wallet/$year\")}\n",
    "        .flatMap { it.listFiles()?.toList() ?: error(\"no files found\") }\n",
    "val importTask = client.importTransactions(user, client.fromYaml(File(WALLET_IMPORT_CONFIGURATION_YAML_FILE)), csvFiles)\n",
    "importTask"
   ],
   "outputs": [
    {
     "data": {
      "text/plain": [
       "ImportTaskTO(taskId=75d96950-ca77-4d4a-8102-5acfd43b7b36, status=COMPLETED, reason=null)"
      ]
     },
     "execution_count": 8,
     "metadata": {},
     "output_type": "execute_result"
    }
   ],
   "execution_count": 8
  }
 ],
 "metadata": {
  "kernelspec": {
   "display_name": "Kotlin",
   "language": "kotlin",
   "name": "kotlin"
  },
  "language_info": {
   "name": "kotlin",
   "version": "1.9.23",
   "mimetype": "text/x-kotlin",
   "file_extension": ".kt",
   "pygments_lexer": "kotlin",
   "codemirror_mode": "text/x-kotlin",
   "nbconvert_exporter": ""
  },
  "ktnbPluginMetadata": {
   "projectDependencies": [
    "funds.commons-api"
   ]
  }
 },
 "nbformat": 4,
 "nbformat_minor": 0
}
