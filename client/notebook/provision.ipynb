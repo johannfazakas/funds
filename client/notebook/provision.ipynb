{
 "cells": [
  {
   "metadata": {
    "ExecuteTime": {
     "end_time": "2025-06-30T09:11:37.549400Z",
     "start_time": "2025-06-30T09:11:35.867207Z"
    }
   },
   "cell_type": "code",
   "source": [
    "@file:DependsOn(\"ro.jf.funds:funds-notebook-client:1.0.0\")\n",
    "%use dataframe\n",
    "\n",
    "import ro.jf.funds.client.notebook.*\n",
    "import kotlinx.coroutines.runBlocking\n",
    "\n",
    "val username = \"Johann-26.3\"\n",
    "\n",
    "val client = FundsClient()\n"
   ],
   "outputs": [],
   "execution_count": 8
  },
  {
   "metadata": {
    "ExecuteTime": {
     "end_time": "2025-06-30T09:11:37.837160Z",
     "start_time": "2025-06-30T09:11:37.558210Z"
    }
   },
   "cell_type": "code",
   "source": [
    "val user = runBlocking { client.ensureUserExists(username) }\n",
    "user"
   ],
   "outputs": [
    {
     "data": {
      "text/plain": [
       "UserTO(id=b25e911b-02d7-40b3-85ab-72693cbced69, username=Johann-26.3)"
      ]
     },
     "execution_count": 9,
     "metadata": {},
     "output_type": "execute_result"
    }
   ],
   "execution_count": 9
  },
  {
   "metadata": {
    "collapsed": true,
    "ExecuteTime": {
     "end_time": "2025-06-30T09:11:37.869219Z",
     "start_time": "2025-06-30T09:11:37.843966Z"
    }
   },
   "cell_type": "code",
   "source": [
    "val ACCOUNTS_YAML_FILE = \"../../data/provision/accounts.yaml\"\n",
    "val FUNDS_YAML_FILE = \"../../data/provision/funds.yaml\"\n",
    "val INITIAL_BALANCE_YAML_FILE = \"../../data/provision/initial-balance.yaml\"\n",
    "val IMPORT_CONFIGURATION_JSON_FILE = \"../../data/provision/import-configuration.json\"\n",
    "val IMPORT_CONFIGURATION_YAML_FILE = \"../../data/provision/import-configuration.yaml\"\n"
   ],
   "outputs": [],
   "execution_count": 10
  },
  {
   "metadata": {
    "ExecuteTime": {
     "end_time": "2025-06-30T09:11:38.254908Z",
     "start_time": "2025-06-30T09:11:37.874867Z"
    }
   },
   "cell_type": "code",
   "source": [
    "import ro.jf.funds.account.api.model.*\n",
    "\n",
    "val accounts = runBlocking { client.provisionAccounts(user, File(ACCOUNTS_YAML_FILE)) }\n",
    "accounts.map { it.toString() }.joinToString(separator = \"\\n\")"
   ],
   "outputs": [
    {
     "data": {
      "text/plain": [
       "AccountTO(id=181745c7-c4d0-44d0-aacc-82b3295fb350, name=Cash RON, unit=Currency(value=RON))\n",
       "AccountTO(id=2d5b80fa-757c-4ac6-b61c-f40ccf93e98c, name=Cash EUR, unit=Currency(value=EUR))\n",
       "AccountTO(id=bf9acce9-0da7-4f78-b1b3-23377934e815, name=ING RON, unit=Currency(value=RON))\n",
       "AccountTO(id=3fbb0a46-471b-4663-b2b3-22769dd76a7f, name=ING Economy, unit=Currency(value=RON))\n",
       "AccountTO(id=45be83eb-27bd-4fe8-ac78-ddc6c3dc7106, name=Food Coupons, unit=Currency(value=RON))\n",
       "AccountTO(id=994a2293-60dd-47ab-9f37-2e6dab13d348, name=Revolut RON, unit=Currency(value=RON))\n",
       "AccountTO(id=fe0e5e7d-d228-4cf5-9a10-2aeefe0c0858, name=Other, unit=Currency(value=RON))\n",
       "AccountTO(id=31ef5194-b563-49c0-aee6-74970c9d122b, name=BT RON, unit=Currency(value=RON))\n",
       "AccountTO(id=b9b50db5-7de8-4cad-95f9-2dd61c5d9106, name=BT Economy RON, unit=Currency(value=RON))"
      ]
     },
     "execution_count": 11,
     "metadata": {},
     "output_type": "execute_result"
    }
   ],
   "execution_count": 11
  },
  {
   "metadata": {
    "ExecuteTime": {
     "end_time": "2025-06-30T09:11:38.706604Z",
     "start_time": "2025-06-30T09:11:38.315946Z"
    }
   },
   "cell_type": "code",
   "source": [
    "import ro.jf.funds.fund.api.model.*\n",
    "\n",
    "val funds = runBlocking { client.provisionFunds(user, File(FUNDS_YAML_FILE)) }\n",
    "funds.map { it.toString() }.joinToString(separator = \"\\n\")"
   ],
   "outputs": [
    {
     "data": {
      "text/plain": [
       "FundTO(id=c6090fad-92c2-4e51-82a8-3e8b964ca3d3, name=Expenses)\n",
       "FundTO(id=5ae9e5b4-d9de-413d-9c62-7def2d5cc8c0, name=Work Income)\n",
       "FundTO(id=623ff2cc-80c1-4740-a20d-c6a298c73600, name=Savings)\n",
       "FundTO(id=011c3292-5568-427f-8e58-a02875348942, name=Gifts)"
      ]
     },
     "execution_count": 12,
     "metadata": {},
     "output_type": "execute_result"
    }
   ],
   "execution_count": 12
  },
  {
   "metadata": {
    "ExecuteTime": {
     "end_time": "2025-06-30T09:11:40.580533Z",
     "start_time": "2025-06-30T09:11:38.803403Z"
    }
   },
   "cell_type": "code",
   "source": [
    "import ro.jf.funds.fund.api.model.*\n",
    "\n",
    "val initialBalancesTransactions = runBlocking {\n",
    "    client.provisionInitialBalances(user, accounts, funds, File(INITIAL_BALANCE_YAML_FILE))\n",
    "}\n",
    "initialBalancesTransactions.map { it.toString() }.joinToString(separator = \"\\n\")"
   ],
   "outputs": [
    {
     "data": {
      "text/plain": [
       "FundTransactionTO(id=e780dc62-e338-45ff-b18b-08ebe9bea232, userId=b25e911b-02d7-40b3-85ab-72693cbced69, dateTime=2018-12-31T00:00, records=[FundRecordTO(id=fee1c80a-89b2-4e1a-a2be-15ead6c05685, fundId=c6090fad-92c2-4e51-82a8-3e8b964ca3d3, accountId=181745c7-c4d0-44d0-aacc-82b3295fb350, amount=474.5, unit=Currency(value=RON), labels=[])])\n",
       "FundTransactionTO(id=6214eb21-b93c-4d7c-8f50-7c0e2b849eac, userId=b25e911b-02d7-40b3-85ab-72693cbced69, dateTime=2018-12-31T00:00, records=[FundRecordTO(id=9e03df6e-322b-43c1-8107-dcb7baeb6c68, fundId=c6090fad-92c2-4e51-82a8-3e8b964ca3d3, accountId=45be83eb-27bd-4fe8-ac78-ddc6c3dc7106, amount=45.96, unit=Currency(value=RON), labels=[])])\n",
       "FundTransactionTO(id=09d0e914-edaf-4b57-a5b4-caac183356fa, userId=b25e911b-02d7-40b3-85ab-72693cbced69, dateTime=2018-12-31T00:00, records=[FundRecordTO(id=298495e0-63f8-4478-a1be-d3b2fcbf1b9a, fundId=c6090fad-92c2-4e51-82a8-3e8b964ca3d3, accountId=fe0e5e7d-d228-4cf5-9a10-2aeefe0c0858, amount=3051.9, unit=Currency(value=RON), labels=[])])\n",
       "FundTransactionTO(id=138948cb-4efa-4355-bc69-252e6b40e241, userId=b25e911b-02d7-40b3-85ab-72693cbced69, dateTime=2018-12-31T00:00, records=[FundRecordTO(id=b1037ef9-a489-45cd-bba1-cae070633200, fundId=c6090fad-92c2-4e51-82a8-3e8b964ca3d3, accountId=31ef5194-b563-49c0-aee6-74970c9d122b, amount=2194.13, unit=Currency(value=RON), labels=[])])"
      ]
     },
     "execution_count": 13,
     "metadata": {},
     "output_type": "execute_result"
    }
   ],
   "execution_count": 13
  },
  {
   "metadata": {
    "ExecuteTime": {
     "end_time": "2025-06-30T09:11:56.092863Z",
     "start_time": "2025-06-30T09:11:40.589976Z"
    }
   },
   "cell_type": "code",
   "source": [
    "import ro.jf.funds.importer.api.model.*\n",
    "\n",
    "val importTask = runBlocking {\n",
    "    val csvFiles =\n",
    "        listOf(File(\"../../data/wallet/2019\"), File(\"../../data/wallet/2020\"), File(\"../../data/wallet/2021\"))\n",
    "            .flatMap { it.listFiles()?.toList() ?: error(\"no files found\") }\n",
    "    client.importTransactions(user, File(IMPORT_CONFIGURATION_YAML_FILE), csvFiles)\n",
    "}\n",
    "importTask\n"
   ],
   "outputs": [
    {
     "data": {
      "text/plain": [
       "ImportTaskTO(taskId=e3bbba54-34cf-4c60-b389-99ae95c5555f, status=COMPLETED, reason=null)"
      ]
     },
     "execution_count": 14,
     "metadata": {},
     "output_type": "execute_result"
    }
   ],
   "execution_count": 14
  }
 ],
 "metadata": {
  "kernelspec": {
   "display_name": "Kotlin",
   "language": "kotlin",
   "name": "kotlin"
  },
  "language_info": {
   "name": "kotlin",
   "version": "1.9.23",
   "mimetype": "text/x-kotlin",
   "file_extension": ".kt",
   "pygments_lexer": "kotlin",
   "codemirror_mode": "text/x-kotlin",
   "nbconvert_exporter": ""
  },
  "ktnbPluginMetadata": {
   "projectDependencies": [
    "funds.commons-api"
   ]
  }
 },
 "nbformat": 4,
 "nbformat_minor": 0
}
