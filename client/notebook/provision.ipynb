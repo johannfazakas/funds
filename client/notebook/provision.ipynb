{
 "cells": [
  {
   "metadata": {
    "ExecuteTime": {
     "end_time": "2025-07-03T09:11:36.423605Z",
     "start_time": "2025-07-03T09:11:29.816959Z"
    }
   },
   "cell_type": "code",
   "source": [
    "@file:DependsOn(\"ro.jf.funds:funds-notebook-client:1.0.0\")\n",
    "%use dataframe\n",
    "\n",
    "import ro.jf.funds.client.notebook.*\n",
    "\n",
    "val username = \"Johann-32.6\"\n",
    "\n",
    "val client = FundsClient()\n"
   ],
   "outputs": [],
   "execution_count": 1
  },
  {
   "metadata": {
    "ExecuteTime": {
     "end_time": "2025-07-03T09:11:48.490721Z",
     "start_time": "2025-07-03T09:11:36.480037Z"
    }
   },
   "cell_type": "code",
   "source": [
    "val user = client.ensureUserExists(username)\n",
    "user"
   ],
   "outputs": [
    {
     "data": {
      "text/plain": [
       "UserTO(id=1cd64b90-1c8b-4200-a0f1-a2e0d141c374, username=Johann-32.6)"
      ]
     },
     "execution_count": 2,
     "metadata": {},
     "output_type": "execute_result"
    }
   ],
   "execution_count": 2
  },
  {
   "metadata": {
    "collapsed": true,
    "ExecuteTime": {
     "end_time": "2025-07-03T09:11:48.704385Z",
     "start_time": "2025-07-03T09:11:48.591488Z"
    }
   },
   "cell_type": "code",
   "source": [
    "val ACCOUNTS_YAML_FILE = \"../../data/provision/accounts.yaml\"\n",
    "val FUNDS_YAML_FILE = \"../../data/provision/funds.yaml\"\n",
    "val INITIAL_BALANCE_YAML_FILE = \"../../data/provision/initial-balance.yaml\"\n",
    "val IMPORT_CONFIGURATION_JSON_FILE = \"../../data/provision/import-configuration.json\"\n",
    "val IMPORT_CONFIGURATION_YAML_FILE = \"../../data/provision/import-configuration.yaml\"\n"
   ],
   "outputs": [],
   "execution_count": 3
  },
  {
   "metadata": {
    "ExecuteTime": {
     "end_time": "2025-07-03T09:11:59.472783Z",
     "start_time": "2025-07-03T09:11:48.716431Z"
    }
   },
   "cell_type": "code",
   "source": [
    "import ro.jf.funds.account.api.model.*\n",
    "\n",
    "val accounts = client.provisionAccounts(user, client.fromYaml(File(ACCOUNTS_YAML_FILE)))\n",
    "accounts.map { it.toString() }.joinToString(separator = \"\\n\")"
   ],
   "outputs": [
    {
     "data": {
      "text/plain": [
       "AccountTO(id=664d7045-7a61-4514-800d-60c4416ef298, name=Cash RON, unit=Currency(value=RON))\n",
       "AccountTO(id=86e8cc1a-ed3d-4e74-b080-e2223de78fb7, name=Cash EUR, unit=Currency(value=EUR))\n",
       "AccountTO(id=2f167e31-b029-4cba-8a9b-42a070d277af, name=Cash EUR-RON, unit=Currency(value=RON))\n",
       "AccountTO(id=c9dcfacb-068f-49a1-9fb4-f4615636334a, name=ING RON, unit=Currency(value=RON))\n",
       "AccountTO(id=7f699dda-d874-4792-b677-3b6ea879a34d, name=ING Economy, unit=Currency(value=RON))\n",
       "AccountTO(id=631a895c-4785-4d8f-8c1a-f1d552b299cf, name=Food Coupons, unit=Currency(value=RON))\n",
       "AccountTO(id=71636249-95a8-40b6-b797-bf6fc13b1824, name=Revolut RON, unit=Currency(value=RON))\n",
       "AccountTO(id=be72b994-f538-4945-b598-e275d6d09102, name=Other, unit=Currency(value=RON))\n",
       "AccountTO(id=397be039-b931-4a42-b5fd-d1d3c1ff03f0, name=BT RON, unit=Currency(value=RON))\n",
       "AccountTO(id=a367119b-d90b-4055-9259-62ef114993bf, name=BT Economy RON, unit=Currency(value=RON))\n",
       "AccountTO(id=b8bc1746-73ba-44c9-992f-8bf789a645a5, name=BT Philocode RON, unit=Currency(value=RON))"
      ]
     },
     "execution_count": 4,
     "metadata": {},
     "output_type": "execute_result"
    }
   ],
   "execution_count": 4
  },
  {
   "metadata": {
    "ExecuteTime": {
     "end_time": "2025-07-03T09:12:07.719354Z",
     "start_time": "2025-07-03T09:11:59.531561Z"
    }
   },
   "cell_type": "code",
   "source": [
    "import ro.jf.funds.fund.api.model.*\n",
    "\n",
    "val funds = client.provisionFunds(user, client.fromYaml(File(FUNDS_YAML_FILE)))\n",
    "funds.map { it.toString() }.joinToString(separator = \"\\n\")"
   ],
   "outputs": [
    {
     "data": {
      "text/plain": [
       "FundTO(id=5eae08d3-5b30-4a8a-b504-2c45b3b7cc7d, name=Expenses)\n",
       "FundTO(id=fa62bc17-d87d-49a9-ad89-0b1f00a413e7, name=Work Income)\n",
       "FundTO(id=99f733a6-b60d-4ec3-a421-b5143defb156, name=Other Income)\n",
       "FundTO(id=2a5e75c4-155f-4e55-a42c-d397892b58a2, name=Savings)"
      ]
     },
     "execution_count": 5,
     "metadata": {},
     "output_type": "execute_result"
    }
   ],
   "execution_count": 5
  },
  {
   "metadata": {
    "ExecuteTime": {
     "end_time": "2025-07-03T09:12:15.820259Z",
     "start_time": "2025-07-03T09:12:07.742339Z"
    }
   },
   "cell_type": "code",
   "source": [
    "import ro.jf.funds.fund.api.model.*\n",
    "\n",
    "val initialBalancesTransactions = client.provisionInitialBalances(user, accounts, funds, client.fromYaml(File(INITIAL_BALANCE_YAML_FILE)))\n",
    "initialBalancesTransactions.map { it.toString() }.joinToString(separator = \"\\n\")"
   ],
   "outputs": [
    {
     "data": {
      "text/plain": [
       "FundTransactionTO(id=06f3a779-45f0-4bea-94b1-a6f427a335f0, userId=1cd64b90-1c8b-4200-a0f1-a2e0d141c374, dateTime=2018-12-31T00:00, records=[FundRecordTO(id=bfd14227-1bc5-41c4-b034-6d467acd62f0, fundId=5eae08d3-5b30-4a8a-b504-2c45b3b7cc7d, accountId=664d7045-7a61-4514-800d-60c4416ef298, amount=474.5, unit=Currency(value=RON), labels=[])])\n",
       "FundTransactionTO(id=a058da92-8777-42d5-bdd4-268a1a383db9, userId=1cd64b90-1c8b-4200-a0f1-a2e0d141c374, dateTime=2018-12-31T00:00, records=[FundRecordTO(id=010bdcfb-48e6-4e6d-b410-8fa9f47d05b2, fundId=5eae08d3-5b30-4a8a-b504-2c45b3b7cc7d, accountId=631a895c-4785-4d8f-8c1a-f1d552b299cf, amount=45.96, unit=Currency(value=RON), labels=[])])\n",
       "FundTransactionTO(id=f41265ab-1255-4a80-92a9-f86a5ad08777, userId=1cd64b90-1c8b-4200-a0f1-a2e0d141c374, dateTime=2018-12-31T00:00, records=[FundRecordTO(id=6c1520cd-90fb-4090-8071-96df92629ada, fundId=5eae08d3-5b30-4a8a-b504-2c45b3b7cc7d, accountId=be72b994-f538-4945-b598-e275d6d09102, amount=3051.9, unit=Currency(value=RON), labels=[])])\n",
       "FundTransactionTO(id=bd200cf8-f87e-4e49-9505-ee9a885e6dab, userId=1cd64b90-1c8b-4200-a0f1-a2e0d141c374, dateTime=2018-12-31T00:00, records=[FundRecordTO(id=7fc79690-826a-4f6a-bf0e-327126002eaf, fundId=5eae08d3-5b30-4a8a-b504-2c45b3b7cc7d, accountId=397be039-b931-4a42-b5fd-d1d3c1ff03f0, amount=2194.13, unit=Currency(value=RON), labels=[])])"
      ]
     },
     "execution_count": 6,
     "metadata": {},
     "output_type": "execute_result"
    }
   ],
   "execution_count": 6
  },
  {
   "metadata": {
    "ExecuteTime": {
     "end_time": "2025-07-03T09:13:45.159417Z",
     "start_time": "2025-07-03T09:12:15.968443Z"
    }
   },
   "cell_type": "code",
   "source": [
    "import ro.jf.funds.importer.api.model.*\n",
    "\n",
    "val csvFiles =\n",
    "    listOf(File(\"../../data/wallet/2019\"), File(\"../../data/wallet/2020\"), File(\"../../data/wallet/2021\"))\n",
    "        .flatMap { it.listFiles()?.toList() ?: error(\"no files found\") }\n",
    "val importTask = client.importTransactions(user, client.fromYaml(File(IMPORT_CONFIGURATION_YAML_FILE)), csvFiles)\n",
    "importTask"
   ],
   "outputs": [
    {
     "data": {
      "text/plain": [
       "ImportTaskTO(taskId=faf69ef1-466b-410e-bd76-c5b72d173789, status=COMPLETED, reason=null)"
      ]
     },
     "execution_count": 7,
     "metadata": {},
     "output_type": "execute_result"
    }
   ],
   "execution_count": 7
  }
 ],
 "metadata": {
  "kernelspec": {
   "display_name": "Kotlin",
   "language": "kotlin",
   "name": "kotlin"
  },
  "language_info": {
   "name": "kotlin",
   "version": "1.9.23",
   "mimetype": "text/x-kotlin",
   "file_extension": ".kt",
   "pygments_lexer": "kotlin",
   "codemirror_mode": "text/x-kotlin",
   "nbconvert_exporter": ""
  },
  "ktnbPluginMetadata": {
   "projectDependencies": [
    "funds.commons-api"
   ]
  }
 },
 "nbformat": 4,
 "nbformat_minor": 0
}
