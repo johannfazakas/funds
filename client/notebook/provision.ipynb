{
 "cells": [
  {
   "metadata": {
    "ExecuteTime": {
     "end_time": "2025-10-28T08:28:39.329495Z",
     "start_time": "2025-10-28T08:28:31.342820Z"
    }
   },
   "cell_type": "code",
   "source": [
    "@file:DependsOn(\"ro.jf.funds:funds-notebook-client:1.0.0\")\n",
    "%use dataframe\n",
    "\n",
    "import ro.jf.funds.client.notebook.*\n",
    "\n",
    "val username = \"Johann-60.0\"\n",
    "\n",
    "val client = FundsClient()\n"
   ],
   "outputs": [],
   "execution_count": 1
  },
  {
   "metadata": {
    "ExecuteTime": {
     "end_time": "2025-10-28T08:28:43.509187Z",
     "start_time": "2025-10-28T08:28:39.354563Z"
    }
   },
   "cell_type": "code",
   "source": [
    "val user = client.ensureUserExists(username)\n",
    "user"
   ],
   "outputs": [
    {
     "data": {
      "text/plain": [
       "UserTO(id=4f094882-be9f-4b9f-a20c-e13b46e3a08a, username=Johann-60.0)"
      ]
     },
     "execution_count": 2,
     "metadata": {},
     "output_type": "execute_result"
    }
   ],
   "execution_count": 2
  },
  {
   "metadata": {
    "collapsed": true,
    "ExecuteTime": {
     "end_time": "2025-10-28T08:28:43.788564Z",
     "start_time": "2025-10-28T08:28:43.610666Z"
    }
   },
   "cell_type": "code",
   "source": [
    "val ACCOUNTS_YAML_FILE = \"../../data/provision/accounts.yaml\"\n",
    "val FUNDS_YAML_FILE = \"../../data/provision/funds.yaml\"\n",
    "val INITIAL_BALANCE_YAML_FILE = \"../../data/provision/initial-balance.yaml\"\n",
    "val IMPORT_CONFIGURATION_JSON_FILE = \"../../data/provision/import-configuration.json\"\n",
    "val WALLET_IMPORT_CONFIGURATION_YAML_FILE = \"../../data/provision/wallet-import-configuration.yaml\"\n",
    "val INVESTMENT_IMPORT_CONFIGURATION_YAML_FILE = \"../../data/provision/investment-import-configuration.yaml\""
   ],
   "outputs": [],
   "execution_count": 3
  },
  {
   "metadata": {
    "ExecuteTime": {
     "end_time": "2025-10-28T08:28:50.400671Z",
     "start_time": "2025-10-28T08:28:43.805862Z"
    }
   },
   "cell_type": "code",
   "source": [
    "import ro.jf.funds.fund.api.model.*\n",
    "\n",
    "val accounts = client.provisionAccounts(user, client.fromYaml(File(ACCOUNTS_YAML_FILE)))\n",
    "accounts.map { it.toString() }.joinToString(separator = \"\\n\")"
   ],
   "outputs": [
    {
     "data": {
      "text/plain": [
       "AccountTO(id=ef4fa830-0219-405e-a23c-81c9fd722b75, name=Cash RON, unit=Currency(value=RON))\n",
       "AccountTO(id=1e27a403-8be0-4a96-bba3-e97d824516b4, name=Cash EUR, unit=Currency(value=EUR))\n",
       "AccountTO(id=df06daf0-f9f7-416b-944d-91500ae0c4fb, name=Cash EUR-RON, unit=Currency(value=RON))\n",
       "AccountTO(id=ffaf69c0-85bb-4257-b3dc-4931768a8a35, name=ING RON, unit=Currency(value=RON))\n",
       "AccountTO(id=b34d1e74-dde3-4263-9131-4d47484bc253, name=ING Economy, unit=Currency(value=RON))\n",
       "AccountTO(id=a12405c4-7e74-4497-b14d-d8be9c2bfe9c, name=Food Coupons, unit=Currency(value=RON))\n",
       "AccountTO(id=e82c8b70-1938-4fe2-ac5f-b074a757bbea, name=Revolut RON, unit=Currency(value=RON))\n",
       "AccountTO(id=03e52f00-bb8d-4807-be88-a2ed883ad16b, name=Revolut EUR-RON, unit=Currency(value=RON))\n",
       "AccountTO(id=62e1f222-2923-4149-b7ad-d654783d706b, name=Other, unit=Currency(value=RON))\n",
       "AccountTO(id=ff4d2c2f-8fa3-4f6c-9e15-559e644137ae, name=BT RON, unit=Currency(value=RON))\n",
       "AccountTO(id=95037173-f7cc-4478-9a1a-30bdd2c1c935, name=BT CC, unit=Currency(value=RON))\n",
       "AccountTO(id=2161562a-6941-41d0-a4ef-f0e28b5bf3f0, name=BT EUR-RON, unit=Currency(value=RON))\n",
       "AccountTO(id=3aa570b6-674b-478c-b44c-c13b55ae58ca, name=BT Economy RON, unit=Currency(value=RON))\n",
       "AccountTO(id=3aa94104-c71b-402d-ae99-3d1d97887523, name=BT Depozit RON, unit=Currency(value=RON))\n",
       "AccountTO(id=b73c0acd-e5a0-468a-8b12-4b24fe21e06c, name=BT Philocode RON, unit=Currency(value=RON))\n",
       "AccountTO(id=94c7d2f1-a54e-44c6-b5d8-75adbc6b3449, name=BT Philocode EUR-RON, unit=Currency(value=RON))\n",
       "AccountTO(id=a36afd29-3c60-48c2-8ab4-56b07c69a8e5, name=Olivia, unit=Currency(value=RON))\n",
       "AccountTO(id=c94a5d7b-afea-4f33-9428-87d449b6b0e3, name=Ami, unit=Currency(value=RON))\n",
       "AccountTO(id=77ff25e7-4ade-41ef-ab2f-c793e41d9a27, name=XTB EUR, unit=Currency(value=EUR))\n",
       "AccountTO(id=bb9809c6-cc66-4bc2-bac7-70a008860766, name=XTB EUNL, unit=Instrument(value=EUNL))\n",
       "AccountTO(id=99347542-eb7d-4ff2-95ba-92ec1425f894, name=XTB QDVE, unit=Instrument(value=QDVE))\n",
       "AccountTO(id=55823777-b12c-4b30-9364-c70b12e1c68c, name=XTB IMAE, unit=Instrument(value=IMAE))\n",
       "AccountTO(id=a2ee1cc4-cc93-4d19-954f-cb350ad71ee0, name=XTB IS3N, unit=Instrument(value=IS3N))\n",
       "AccountTO(id=52b41284-e721-484e-9eea-e25752adcfff, name=XTB SXR8, unit=Instrument(value=SXR8))\n",
       "AccountTO(id=f64b9c53-6f2c-4dc2-a0e5-5890ebb6ffd1, name=XTB SUSW, unit=Instrument(value=SUSW))"
      ]
     },
     "execution_count": 4,
     "metadata": {},
     "output_type": "execute_result"
    }
   ],
   "execution_count": 4
  },
  {
   "metadata": {
    "ExecuteTime": {
     "end_time": "2025-10-28T08:28:52.904525Z",
     "start_time": "2025-10-28T08:28:50.514374Z"
    }
   },
   "cell_type": "code",
   "source": [
    "import ro.jf.funds.fund.api.model.*\n",
    "\n",
    "val funds = client.provisionFunds(user, client.fromYaml(File(FUNDS_YAML_FILE)))\n",
    "funds.map { it.toString() }.joinToString(separator = \"\\n\")"
   ],
   "outputs": [
    {
     "data": {
      "text/plain": [
       "FundTO(id=6eb39f5b-0d39-445c-b3e9-6f39eab2657f, name=Expenses)\n",
       "FundTO(id=6e3f8704-93a3-46c0-8d61-0a9474c8fd9a, name=Work Income)\n",
       "FundTO(id=dac24ed1-af2b-417e-8837-c4154f989ef8, name=Other Income)\n",
       "FundTO(id=29ad1842-1c02-4453-a68a-edd135f4b26f, name=Savings)\n",
       "FundTO(id=9f7d536b-8e29-40c6-8af8-2887bcb84300, name=Investments)"
      ]
     },
     "execution_count": 5,
     "metadata": {},
     "output_type": "execute_result"
    }
   ],
   "execution_count": 5
  },
  {
   "metadata": {
    "ExecuteTime": {
     "end_time": "2025-10-28T08:28:54.346942Z",
     "start_time": "2025-10-28T08:28:52.979823Z"
    }
   },
   "cell_type": "code",
   "source": [
    "import ro.jf.funds.fund.api.model.*\n",
    "\n",
    "val initialBalancesTransactions = client.provisionInitialBalances(user, accounts, funds, client.fromYaml(File(INITIAL_BALANCE_YAML_FILE)))\n",
    "initialBalancesTransactions.map { it.toString() }.joinToString(separator = \"\\n\")"
   ],
   "outputs": [
    {
     "data": {
      "text/plain": [
       "SingleRecord(id=b9858f45-cbb5-416c-b664-2d92479ae10f, userId=4f094882-be9f-4b9f-a20c-e13b46e3a08a, externalId=3cc95911-d992-3100-96c2-3c2d72b28399, dateTime=2018-12-31T00:00, record=TransactionRecordTO(id=093e8a89-9e6e-4afe-ac13-6e5e3cadaccf, accountId=ef4fa830-0219-405e-a23c-81c9fd722b75, fundId=6eb39f5b-0d39-445c-b3e9-6f39eab2657f, amount=553.5, unit=Currency(value=RON), labels=[]))\n",
       "SingleRecord(id=13809c7d-a330-467d-a49f-e1db52c306c9, userId=4f094882-be9f-4b9f-a20c-e13b46e3a08a, externalId=383d89b9-149a-382b-ac63-be2991fe71b0, dateTime=2018-12-31T00:00, record=TransactionRecordTO(id=05f1b432-8fd9-4261-b6f6-a2b5312c5b89, accountId=a12405c4-7e74-4497-b14d-d8be9c2bfe9c, fundId=6eb39f5b-0d39-445c-b3e9-6f39eab2657f, amount=45.96, unit=Currency(value=RON), labels=[]))\n",
       "SingleRecord(id=e3603d5c-6e8c-4b8e-899f-cc603735d92d, userId=4f094882-be9f-4b9f-a20c-e13b46e3a08a, externalId=d08ef880-c401-3671-8e83-bd71bc2483d8, dateTime=2018-12-31T00:00, record=TransactionRecordTO(id=c0eaf6d2-c415-4cc0-a935-9c9418dc952f, accountId=62e1f222-2923-4149-b7ad-d654783d706b, fundId=6eb39f5b-0d39-445c-b3e9-6f39eab2657f, amount=3051.9, unit=Currency(value=RON), labels=[]))\n",
       "SingleRecord(id=24c40984-b8d5-4e5a-a856-05a15a2d9a9d, userId=4f094882-be9f-4b9f-a20c-e13b46e3a08a, externalId=0ef8ab7f-359a-3e62-a00f-94ed71c870a5, dateTime=2018-12-31T00:00, record=TransactionRecordTO(id=131d6eb7-c257-42e0-90bc-c95419bffaee, accountId=ff4d2c2f-8fa3-4f6c-9e15-559e644137ae, fundId=6eb39f5b-0d39-445c-b3e9-6f39eab2657f, amount=7708.46, unit=Currency(value=RON), labels=[]))\n",
       "SingleRecord(id=0f364b35-6b55-4fe3-8230-b3dc2e171977, userId=4f094882-be9f-4b9f-a20c-e13b46e3a08a, externalId=7fd77818-9709-3aa1-ad07-5ffd4a15ada1, dateTime=2018-12-31T00:00, record=TransactionRecordTO(id=d5b5a844-c114-4c3b-b9b1-34d14079ecaa, accountId=ffaf69c0-85bb-4257-b3dc-4931768a8a35, fundId=6eb39f5b-0d39-445c-b3e9-6f39eab2657f, amount=-3037.15, unit=Currency(value=RON), labels=[]))"
      ]
     },
     "execution_count": 6,
     "metadata": {},
     "output_type": "execute_result"
    }
   ],
   "execution_count": 6
  },
  {
   "metadata": {
    "ExecuteTime": {
     "end_time": "2025-10-28T08:29:10.485142Z",
     "start_time": "2025-10-28T08:28:54.356301Z"
    }
   },
   "cell_type": "code",
   "source": [
    "\n",
    "val investmentCsvFiles =\n",
    "    listOf(2022, 2023)\n",
    "        .map { year -> File(\"../../data/investment/$year\") }\n",
    "        .flatMap { it.listFiles()?.toList() ?: error(\"no files found\") }\n",
    "val importTask = client.importTransactions(user, client.fromYaml(File(INVESTMENT_IMPORT_CONFIGURATION_YAML_FILE)), investmentCsvFiles)\n",
    "importTask"
   ],
   "outputs": [
    {
     "data": {
      "text/plain": [
       "ImportTaskTO(taskId=7639861d-79ef-41b2-93ef-8fd7d57b4ee3, status=COMPLETED, reason=null)"
      ]
     },
     "execution_count": 7,
     "metadata": {},
     "output_type": "execute_result"
    }
   ],
   "execution_count": 7
  },
  {
   "metadata": {
    "ExecuteTime": {
     "end_time": "2025-10-28T08:29:30.865108Z",
     "start_time": "2025-10-28T08:29:10.549151Z"
    }
   },
   "cell_type": "code",
   "source": [
    "import ro.jf.funds.importer.api.model.*\n",
    "\n",
    "val csvFiles =\n",
    "    listOf(2019, 2020, 2021, 2022, 2023)\n",
    "        .map { year -> File(\"../../data/wallet/$year\")}\n",
    "        .flatMap { it.listFiles()?.toList() ?: error(\"no files found\") }\n",
    "val importTask = client.importTransactions(user, client.fromYaml(File(WALLET_IMPORT_CONFIGURATION_YAML_FILE)), csvFiles)\n",
    "importTask"
   ],
   "outputs": [
    {
     "data": {
      "text/plain": [
       "ImportTaskTO(taskId=9d1de498-80a8-4c71-84e1-3bfd13cbe0a3, status=COMPLETED, reason=null)"
      ]
     },
     "execution_count": 8,
     "metadata": {},
     "output_type": "execute_result"
    }
   ],
   "execution_count": 8
  }
 ],
 "metadata": {
  "kernelspec": {
   "display_name": "Kotlin",
   "language": "kotlin",
   "name": "kotlin"
  },
  "language_info": {
   "name": "kotlin",
   "version": "1.9.23",
   "mimetype": "text/x-kotlin",
   "file_extension": ".kt",
   "pygments_lexer": "kotlin",
   "codemirror_mode": "text/x-kotlin",
   "nbconvert_exporter": ""
  },
  "ktnbPluginMetadata": {
   "projectDependencies": [
    "funds.commons-api"
   ]
  }
 },
 "nbformat": 4,
 "nbformat_minor": 0
}
