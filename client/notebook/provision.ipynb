{
 "cells": [
  {
   "metadata": {
    "ExecuteTime": {
     "end_time": "2025-08-21T08:31:51.035434Z",
     "start_time": "2025-08-21T08:31:45.036956Z"
    }
   },
   "cell_type": "code",
   "source": [
    "@file:DependsOn(\"ro.jf.funds:funds-notebook-client:1.0.0\")\n",
    "%use dataframe\n",
    "\n",
    "import ro.jf.funds.client.notebook.*\n",
    "\n",
    "val username = \"Johann-49.6\"\n",
    "\n",
    "val client = FundsClient()\n"
   ],
   "outputs": [],
   "execution_count": 9
  },
  {
   "metadata": {
    "ExecuteTime": {
     "end_time": "2025-08-21T08:31:53.925519Z",
     "start_time": "2025-08-21T08:31:51.091656Z"
    }
   },
   "cell_type": "code",
   "source": [
    "val user = client.ensureUserExists(username)\n",
    "user"
   ],
   "outputs": [
    {
     "data": {
      "text/plain": [
       "UserTO(id=d9e00196-5d14-423d-ab2d-b89b3ae168cd, username=Johann-49.6)"
      ]
     },
     "execution_count": 10,
     "metadata": {},
     "output_type": "execute_result"
    }
   ],
   "execution_count": 10
  },
  {
   "metadata": {
    "collapsed": true,
    "ExecuteTime": {
     "end_time": "2025-08-21T08:31:54.280744Z",
     "start_time": "2025-08-21T08:31:54.159211Z"
    }
   },
   "cell_type": "code",
   "source": [
    "val ACCOUNTS_YAML_FILE = \"../../data/provision/accounts.yaml\"\n",
    "val FUNDS_YAML_FILE = \"../../data/provision/funds.yaml\"\n",
    "val INITIAL_BALANCE_YAML_FILE = \"../../data/provision/initial-balance.yaml\"\n",
    "val IMPORT_CONFIGURATION_JSON_FILE = \"../../data/provision/import-configuration.json\"\n",
    "val WALLET_IMPORT_CONFIGURATION_YAML_FILE = \"../../data/provision/wallet-import-configuration.yaml\"\n",
    "val INVESTMENT_IMPORT_CONFIGURATION_YAML_FILE = \"../../data/provision/investment-import-configuration.yaml\""
   ],
   "outputs": [],
   "execution_count": 11
  },
  {
   "metadata": {
    "ExecuteTime": {
     "end_time": "2025-08-21T08:31:58.745249Z",
     "start_time": "2025-08-21T08:31:54.301090Z"
    }
   },
   "cell_type": "code",
   "source": [
    "import ro.jf.funds.account.api.model.*\n",
    "\n",
    "val accounts = client.provisionAccounts(user, client.fromYaml(File(ACCOUNTS_YAML_FILE)))\n",
    "accounts.map { it.toString() }.joinToString(separator = \"\\n\")"
   ],
   "outputs": [
    {
     "data": {
      "text/plain": [
       "AccountTO(id=7d4f694d-0af7-444a-af04-d14a2fbfd4d7, name=Cash RON, unit=Currency(value=RON))\n",
       "AccountTO(id=847efdee-b2ae-475c-b024-b7b358bd3bc3, name=Cash EUR, unit=Currency(value=EUR))\n",
       "AccountTO(id=86c6901d-14c9-42d9-80e0-ab4cfb3424c9, name=Cash EUR-RON, unit=Currency(value=RON))\n",
       "AccountTO(id=b83a39fd-0321-4403-bf53-cf2ab131d067, name=ING RON, unit=Currency(value=RON))\n",
       "AccountTO(id=b963ceef-cb9c-4852-8558-067c07119fef, name=ING Economy, unit=Currency(value=RON))\n",
       "AccountTO(id=35707890-2779-49c5-b568-faecf1b02773, name=Food Coupons, unit=Currency(value=RON))\n",
       "AccountTO(id=0f49aacb-9caf-4356-82fd-8e97c046a921, name=Revolut RON, unit=Currency(value=RON))\n",
       "AccountTO(id=ae2b6ca8-8531-4eca-a56a-840cec35a163, name=Revolut EUR-RON, unit=Currency(value=RON))\n",
       "AccountTO(id=3b30b2a6-b755-48c3-a73b-4877b59a0a44, name=Other, unit=Currency(value=RON))\n",
       "AccountTO(id=1018ac73-9291-4502-b57a-7d0fc6f6d3ed, name=BT RON, unit=Currency(value=RON))\n",
       "AccountTO(id=dc1a5202-ea8e-401d-923a-166a19d4aeae, name=BT CC, unit=Currency(value=RON))\n",
       "AccountTO(id=a470e0a0-7ec8-4e9a-bbfe-230bc652335e, name=BT EUR-RON, unit=Currency(value=RON))\n",
       "AccountTO(id=32723778-3e29-434a-a9bd-9a5ab4136435, name=BT Economy RON, unit=Currency(value=RON))\n",
       "AccountTO(id=8898b5a0-2ba4-4ec5-8221-fa904175c1ae, name=BT Depozit RON, unit=Currency(value=RON))\n",
       "AccountTO(id=949e79e9-f5a2-44af-974c-f6625e0da253, name=BT Philocode RON, unit=Currency(value=RON))\n",
       "AccountTO(id=4ed592ac-1aa9-422f-9f24-5140ded2cf34, name=XTB EUR, unit=Currency(value=EUR))\n",
       "AccountTO(id=dce87dc2-ab03-45cb-847c-afb0d90a7f70, name=XTB EUNL, unit=Symbol(value=EUNL))\n",
       "AccountTO(id=59d486ca-1f95-4464-9f9c-bcccab5b883a, name=XTB QDVE, unit=Symbol(value=QDVE))\n",
       "AccountTO(id=38c6b3c8-8f6a-4c76-95f0-b9adb9f5be19, name=XTB IMAE, unit=Symbol(value=IMAE))\n",
       "AccountTO(id=f9c87f55-3b18-4c0d-84e4-5910c916b280, name=XTB IS3N, unit=Symbol(value=IS3N))\n",
       "AccountTO(id=bafa769a-d8f6-449f-ac59-0d02bacc8205, name=XTB SXR8, unit=Symbol(value=SXR8))\n",
       "AccountTO(id=347ee224-27d0-4b5d-b89c-fd40b094e29f, name=XTB SUSW, unit=Symbol(value=SUSW))"
      ]
     },
     "execution_count": 12,
     "metadata": {},
     "output_type": "execute_result"
    }
   ],
   "execution_count": 12
  },
  {
   "metadata": {
    "ExecuteTime": {
     "end_time": "2025-08-21T08:32:02.047982Z",
     "start_time": "2025-08-21T08:31:58.832686Z"
    }
   },
   "cell_type": "code",
   "source": [
    "import ro.jf.funds.fund.api.model.*\n",
    "\n",
    "val funds = client.provisionFunds(user, client.fromYaml(File(FUNDS_YAML_FILE)))\n",
    "funds.map { it.toString() }.joinToString(separator = \"\\n\")"
   ],
   "outputs": [
    {
     "data": {
      "text/plain": [
       "FundTO(id=cddb4c2c-0ae1-4a68-8353-4dc9064b4ecc, name=Expenses)\n",
       "FundTO(id=31926ef9-1aad-4b39-9311-64ee7375f544, name=Work Income)\n",
       "FundTO(id=b49dfbe2-4ee6-4a04-8b2f-3f96fd13eb17, name=Other Income)\n",
       "FundTO(id=47f5634a-d92f-4e3c-b95f-fa847afc93b9, name=Savings)\n",
       "FundTO(id=c43d8998-e109-44b1-ab5d-7f409f1b8efc, name=Investments)"
      ]
     },
     "execution_count": 13,
     "metadata": {},
     "output_type": "execute_result"
    }
   ],
   "execution_count": 13
  },
  {
   "metadata": {
    "ExecuteTime": {
     "end_time": "2025-08-21T08:32:03.779251Z",
     "start_time": "2025-08-21T08:32:02.114535Z"
    }
   },
   "cell_type": "code",
   "source": [
    "import ro.jf.funds.fund.api.model.*\n",
    "\n",
    "val initialBalancesTransactions = client.provisionInitialBalances(user, accounts, funds, client.fromYaml(File(INITIAL_BALANCE_YAML_FILE)))\n",
    "initialBalancesTransactions.map { it.toString() }.joinToString(separator = \"\\n\")"
   ],
   "outputs": [
    {
     "data": {
      "text/plain": [
       "FundTransactionTO(id=005ad45a-f77f-4b99-8f4a-058eedcce0b2, userId=d9e00196-5d14-423d-ab2d-b89b3ae168cd, dateTime=2018-12-31T00:00, records=[FundRecordTO(id=73a5a9d4-b8f5-4611-b771-eb62bf8fe42a, fundId=cddb4c2c-0ae1-4a68-8353-4dc9064b4ecc, accountId=7d4f694d-0af7-444a-af04-d14a2fbfd4d7, amount=553.5, unit=Currency(value=RON), labels=[])])\n",
       "FundTransactionTO(id=97c89d8f-a71e-41d8-b2f2-574e64c2f1ee, userId=d9e00196-5d14-423d-ab2d-b89b3ae168cd, dateTime=2018-12-31T00:00, records=[FundRecordTO(id=05acf9ff-9d4f-4e71-bcf5-8c2016df610f, fundId=cddb4c2c-0ae1-4a68-8353-4dc9064b4ecc, accountId=35707890-2779-49c5-b568-faecf1b02773, amount=45.96, unit=Currency(value=RON), labels=[])])\n",
       "FundTransactionTO(id=a1086946-7497-4ae3-8bc9-2c58be641b3c, userId=d9e00196-5d14-423d-ab2d-b89b3ae168cd, dateTime=2018-12-31T00:00, records=[FundRecordTO(id=dc52a439-df95-4440-878f-5ca93bbc915b, fundId=cddb4c2c-0ae1-4a68-8353-4dc9064b4ecc, accountId=3b30b2a6-b755-48c3-a73b-4877b59a0a44, amount=3051.9, unit=Currency(value=RON), labels=[])])\n",
       "FundTransactionTO(id=865d729f-2460-4462-8fe7-bb84492f831a, userId=d9e00196-5d14-423d-ab2d-b89b3ae168cd, dateTime=2018-12-31T00:00, records=[FundRecordTO(id=76efb31c-430b-4842-b619-d0793b51b9db, fundId=cddb4c2c-0ae1-4a68-8353-4dc9064b4ecc, accountId=1018ac73-9291-4502-b57a-7d0fc6f6d3ed, amount=7708.46, unit=Currency(value=RON), labels=[])])\n",
       "FundTransactionTO(id=18c0f20a-665a-42c3-b030-935f09938933, userId=d9e00196-5d14-423d-ab2d-b89b3ae168cd, dateTime=2018-12-31T00:00, records=[FundRecordTO(id=2e016489-cd1f-4c43-ac23-f9ba5ef49fa7, fundId=cddb4c2c-0ae1-4a68-8353-4dc9064b4ecc, accountId=b83a39fd-0321-4403-bf53-cf2ab131d067, amount=-3037.15, unit=Currency(value=RON), labels=[])])"
      ]
     },
     "execution_count": 14,
     "metadata": {},
     "output_type": "execute_result"
    }
   ],
   "execution_count": 14
  },
  {
   "metadata": {
    "ExecuteTime": {
     "end_time": "2025-08-21T08:32:09.446810Z",
     "start_time": "2025-08-21T08:32:03.800499Z"
    }
   },
   "cell_type": "code",
   "source": [
    "\n",
    "val investmentCsvFiles =\n",
    "    listOf(2022, 2023)\n",
    "        .map { year -> File(\"../../data/investment/$year\") }\n",
    "        .flatMap { it.listFiles()?.toList() ?: error(\"no files found\") }\n",
    "val importTask = client.importTransactions(user, client.fromYaml(File(INVESTMENT_IMPORT_CONFIGURATION_YAML_FILE)), investmentCsvFiles)\n",
    "importTask"
   ],
   "outputs": [
    {
     "data": {
      "text/plain": [
       "ImportTaskTO(taskId=43f4dac7-ed9f-48ce-a30d-623548d6ca3c, status=COMPLETED, reason=null)"
      ]
     },
     "execution_count": 15,
     "metadata": {},
     "output_type": "execute_result"
    }
   ],
   "execution_count": 15
  },
  {
   "metadata": {
    "ExecuteTime": {
     "end_time": "2025-08-21T08:32:26.119940Z",
     "start_time": "2025-08-21T08:32:09.503214Z"
    }
   },
   "cell_type": "code",
   "source": [
    "import ro.jf.funds.importer.api.model.*\n",
    "\n",
    "val csvFiles =\n",
    "    listOf(2019, 2020, 2021, 2022, 2023)\n",
    "        .map { year -> File(\"../../data/wallet/$year\")}\n",
    "        .flatMap { it.listFiles()?.toList() ?: error(\"no files found\") }\n",
    "val importTask = client.importTransactions(user, client.fromYaml(File(WALLET_IMPORT_CONFIGURATION_YAML_FILE)), csvFiles)\n",
    "importTask"
   ],
   "outputs": [
    {
     "data": {
      "text/plain": [
       "ImportTaskTO(taskId=cef234de-5803-42c6-9131-87436bfd2aa0, status=COMPLETED, reason=null)"
      ]
     },
     "execution_count": 16,
     "metadata": {},
     "output_type": "execute_result"
    }
   ],
   "execution_count": 16
  }
 ],
 "metadata": {
  "kernelspec": {
   "display_name": "Kotlin",
   "language": "kotlin",
   "name": "kotlin"
  },
  "language_info": {
   "name": "kotlin",
   "version": "1.9.23",
   "mimetype": "text/x-kotlin",
   "file_extension": ".kt",
   "pygments_lexer": "kotlin",
   "codemirror_mode": "text/x-kotlin",
   "nbconvert_exporter": ""
  },
  "ktnbPluginMetadata": {
   "projectDependencies": [
    "funds.commons-api"
   ]
  }
 },
 "nbformat": 4,
 "nbformat_minor": 0
}
