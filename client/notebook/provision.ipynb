{
 "cells": [
  {
   "metadata": {
    "ExecuteTime": {
     "end_time": "2025-10-30T07:24:41.938305Z",
     "start_time": "2025-10-30T07:24:29.317100Z"
    }
   },
   "cell_type": "code",
   "source": [
    "@file:DependsOn(\"ro.jf.funds:funds-notebook-client:1.0.0\")\n",
    "%use dataframe\n",
    "\n",
    "import ro.jf.funds.client.notebook.*\n",
    "\n",
    "val username = \"Johann-61.0\"\n",
    "\n",
    "val client = FundsClient()\n"
   ],
   "outputs": [],
   "execution_count": 1
  },
  {
   "metadata": {
    "ExecuteTime": {
     "end_time": "2025-10-30T07:24:45.564662Z",
     "start_time": "2025-10-30T07:24:41.987456Z"
    }
   },
   "cell_type": "code",
   "source": [
    "val user = client.ensureUserExists(username)\n",
    "user"
   ],
   "outputs": [
    {
     "data": {
      "text/plain": [
       "UserTO(id=d2684936-3aec-411c-a402-5f13a03dff05, username=Johann-61.0)"
      ]
     },
     "execution_count": 2,
     "metadata": {},
     "output_type": "execute_result"
    }
   ],
   "execution_count": 2
  },
  {
   "metadata": {
    "collapsed": true,
    "ExecuteTime": {
     "end_time": "2025-10-30T07:24:45.792022Z",
     "start_time": "2025-10-30T07:24:45.643420Z"
    }
   },
   "cell_type": "code",
   "source": [
    "val ACCOUNTS_YAML_FILE = \"../../data/provision/accounts.yaml\"\n",
    "val FUNDS_YAML_FILE = \"../../data/provision/funds.yaml\"\n",
    "val INITIAL_BALANCE_YAML_FILE = \"../../data/provision/initial-balance.yaml\"\n",
    "val IMPORT_CONFIGURATION_JSON_FILE = \"../../data/provision/import-configuration.json\"\n",
    "val WALLET_IMPORT_CONFIGURATION_YAML_FILE = \"../../data/provision/wallet-import-configuration.yaml\"\n",
    "val INVESTMENT_IMPORT_CONFIGURATION_YAML_FILE = \"../../data/provision/investment-import-configuration.yaml\""
   ],
   "outputs": [],
   "execution_count": 3
  },
  {
   "metadata": {
    "ExecuteTime": {
     "end_time": "2025-10-30T07:24:55.920363Z",
     "start_time": "2025-10-30T07:24:45.807755Z"
    }
   },
   "cell_type": "code",
   "source": [
    "import ro.jf.funds.fund.api.model.*\n",
    "\n",
    "val accounts = client.provisionAccounts(user, client.fromYaml(File(ACCOUNTS_YAML_FILE)))\n",
    "accounts.map { it.toString() }.joinToString(separator = \"\\n\")"
   ],
   "outputs": [
    {
     "data": {
      "text/plain": [
       "AccountTO(id=2d9be0b1-f5d4-4285-9e91-b1a93523c4d2, name=Cash RON, unit=Currency(value=RON))\n",
       "AccountTO(id=f37b3ebf-c18a-4900-acfd-a26fb112bfcb, name=Cash EUR, unit=Currency(value=EUR))\n",
       "AccountTO(id=c76135d5-962f-4ad9-a102-750a86c0f3bb, name=Cash EUR-RON, unit=Currency(value=RON))\n",
       "AccountTO(id=478abe92-7902-4ac6-9488-45ccee9d4a08, name=ING RON, unit=Currency(value=RON))\n",
       "AccountTO(id=386d500c-5194-4069-9aab-7d6831eac1de, name=ING Economy, unit=Currency(value=RON))\n",
       "AccountTO(id=533f0f5f-d47f-4b52-bff3-7ea10c82bcce, name=Food Coupons, unit=Currency(value=RON))\n",
       "AccountTO(id=4f1a09dd-aa9d-411e-89d7-01f3ab9b5280, name=Revolut RON, unit=Currency(value=RON))\n",
       "AccountTO(id=2490ff28-4051-4145-be25-903cf790ba53, name=Revolut EUR-RON, unit=Currency(value=RON))\n",
       "AccountTO(id=13493952-e5f0-445d-80ae-60ace029c33b, name=Other, unit=Currency(value=RON))\n",
       "AccountTO(id=aa509cb1-7d28-4166-b10f-162fe39932ff, name=BT RON, unit=Currency(value=RON))\n",
       "AccountTO(id=85857dd4-766b-444e-b286-44f15218972b, name=BT CC, unit=Currency(value=RON))\n",
       "AccountTO(id=ef8bddb9-f86d-4f69-975a-d7d6ef6a2838, name=BT EUR-RON, unit=Currency(value=RON))\n",
       "AccountTO(id=16723cb3-4edb-4b01-b8e9-d22c5944c77b, name=BT Economy RON, unit=Currency(value=RON))\n",
       "AccountTO(id=9cbdea8a-608d-49fa-b37c-d68c9edc9661, name=BT Depozit RON, unit=Currency(value=RON))\n",
       "AccountTO(id=d5a49f0e-68e7-4619-9d38-dc9cc319717c, name=BT Philocode RON, unit=Currency(value=RON))\n",
       "AccountTO(id=a419360e-83cc-427e-bf98-6027ca4b6335, name=BT Philocode EUR-RON, unit=Currency(value=RON))\n",
       "AccountTO(id=09ce05e6-3e0f-48c7-a19e-53e4d7f66b85, name=Olivia, unit=Currency(value=RON))\n",
       "AccountTO(id=1d1c092f-a197-4059-9fe7-30f697a5a502, name=Ami, unit=Currency(value=RON))\n",
       "AccountTO(id=79fef5ce-b8df-4273-a470-e84f3c1197a4, name=XTB EUR, unit=Currency(value=EUR))\n",
       "AccountTO(id=e74f6b40-577e-4137-83fb-288db0b7da59, name=XTB EUNL, unit=Instrument(value=EUNL))\n",
       "AccountTO(id=0f49b9da-2be0-4b62-9b0f-5f18e7b8abbb, name=XTB QDVE, unit=Instrument(value=QDVE))\n",
       "AccountTO(id=37aaeb5e-7b0b-48ca-b516-b85d17206b52, name=XTB IMAE, unit=Instrument(value=IMAE))\n",
       "AccountTO(id=4220a788-1f93-494e-be81-0a88cb50b457, name=XTB IS3N, unit=Instrument(value=IS3N))\n",
       "AccountTO(id=108788c0-80f5-4b90-a0e5-fd7d4726b7b6, name=XTB SXR8, unit=Instrument(value=SXR8))\n",
       "AccountTO(id=9a9cefb3-738c-43f2-9cf4-0b1535c9fee9, name=XTB SUSW, unit=Instrument(value=SUSW))"
      ]
     },
     "execution_count": 4,
     "metadata": {},
     "output_type": "execute_result"
    }
   ],
   "execution_count": 4
  },
  {
   "metadata": {
    "ExecuteTime": {
     "end_time": "2025-10-30T07:24:57.832775Z",
     "start_time": "2025-10-30T07:24:55.961910Z"
    }
   },
   "cell_type": "code",
   "source": [
    "import ro.jf.funds.fund.api.model.*\n",
    "\n",
    "val funds = client.provisionFunds(user, client.fromYaml(File(FUNDS_YAML_FILE)))\n",
    "funds.map { it.toString() }.joinToString(separator = \"\\n\")"
   ],
   "outputs": [
    {
     "data": {
      "text/plain": [
       "FundTO(id=118dfa29-66a3-4b24-b0b8-520e7c448667, name=Expenses)\n",
       "FundTO(id=b39005d7-8ec4-4262-acd3-5e045a958580, name=Work Income)\n",
       "FundTO(id=63450419-80bc-4191-9584-ba4ac9ded824, name=Other Income)\n",
       "FundTO(id=5e8226c4-af4e-445e-8c1e-380ed257d4f9, name=Savings)\n",
       "FundTO(id=8b8e41cb-ed6b-4a89-9c5e-4c37c2c97e7f, name=Investments)"
      ]
     },
     "execution_count": 5,
     "metadata": {},
     "output_type": "execute_result"
    }
   ],
   "execution_count": 5
  },
  {
   "metadata": {
    "ExecuteTime": {
     "end_time": "2025-10-30T07:25:02.174167Z",
     "start_time": "2025-10-30T07:24:57.917249Z"
    }
   },
   "cell_type": "code",
   "source": [
    "import ro.jf.funds.fund.api.model.*\n",
    "\n",
    "val initialBalancesTransactions = client.provisionInitialBalances(user, accounts, funds, client.fromYaml(File(INITIAL_BALANCE_YAML_FILE)))\n",
    "initialBalancesTransactions.map { it.toString() }.joinToString(separator = \"\\n\")"
   ],
   "outputs": [
    {
     "data": {
      "text/plain": [
       "SingleRecord(id=67d821a3-52bc-4c20-8833-360023e6172e, userId=d2684936-3aec-411c-a402-5f13a03dff05, externalId=3cc95911-d992-3100-96c2-3c2d72b28399, dateTime=2018-12-31T00:00, record=TransactionRecordTO(id=8a0e8bfb-8f66-40f5-b63b-37f91220013f, accountId=2d9be0b1-f5d4-4285-9e91-b1a93523c4d2, fundId=118dfa29-66a3-4b24-b0b8-520e7c448667, amount=553.5, unit=Currency(value=RON), labels=[]))\n",
       "SingleRecord(id=e6c12d3f-d267-4e8b-9df9-213ccff21644, userId=d2684936-3aec-411c-a402-5f13a03dff05, externalId=383d89b9-149a-382b-ac63-be2991fe71b0, dateTime=2018-12-31T00:00, record=TransactionRecordTO(id=9c3a9c2f-f3f7-4b59-84c0-e4a87de84553, accountId=533f0f5f-d47f-4b52-bff3-7ea10c82bcce, fundId=118dfa29-66a3-4b24-b0b8-520e7c448667, amount=45.96, unit=Currency(value=RON), labels=[]))\n",
       "SingleRecord(id=bc6aab8c-a5c1-4feb-a40c-c2561b6d3ee8, userId=d2684936-3aec-411c-a402-5f13a03dff05, externalId=d08ef880-c401-3671-8e83-bd71bc2483d8, dateTime=2018-12-31T00:00, record=TransactionRecordTO(id=330a2edd-d0f1-431d-97af-68ec03a9b7f3, accountId=13493952-e5f0-445d-80ae-60ace029c33b, fundId=118dfa29-66a3-4b24-b0b8-520e7c448667, amount=3051.9, unit=Currency(value=RON), labels=[]))\n",
       "SingleRecord(id=5b7fccb4-bdea-40cf-a1a6-e7600ca39a2f, userId=d2684936-3aec-411c-a402-5f13a03dff05, externalId=0ef8ab7f-359a-3e62-a00f-94ed71c870a5, dateTime=2018-12-31T00:00, record=TransactionRecordTO(id=66a118c4-3109-4a6b-bae7-b0475cfa6a8a, accountId=aa509cb1-7d28-4166-b10f-162fe39932ff, fundId=118dfa29-66a3-4b24-b0b8-520e7c448667, amount=7708.46, unit=Currency(value=RON), labels=[]))\n",
       "SingleRecord(id=7045bb22-6da8-441d-bcbe-7776493e933f, userId=d2684936-3aec-411c-a402-5f13a03dff05, externalId=7fd77818-9709-3aa1-ad07-5ffd4a15ada1, dateTime=2018-12-31T00:00, record=TransactionRecordTO(id=ad2dcd0e-7140-403d-8581-67ef36e82231, accountId=478abe92-7902-4ac6-9488-45ccee9d4a08, fundId=118dfa29-66a3-4b24-b0b8-520e7c448667, amount=-3037.15, unit=Currency(value=RON), labels=[]))"
      ]
     },
     "execution_count": 6,
     "metadata": {},
     "output_type": "execute_result"
    }
   ],
   "execution_count": 6
  },
  {
   "metadata": {
    "ExecuteTime": {
     "end_time": "2025-10-30T07:25:23.660222Z",
     "start_time": "2025-10-30T07:25:02.220462Z"
    }
   },
   "cell_type": "code",
   "source": [
    "\n",
    "val investmentCsvFiles =\n",
    "    listOf(2022, 2023, 2024)\n",
    "        .map { year -> File(\"../../data/investment/$year\") }\n",
    "        .flatMap { it.listFiles()?.toList() ?: error(\"no files found\") }\n",
    "val importTask = client.importTransactions(user, client.fromYaml(File(INVESTMENT_IMPORT_CONFIGURATION_YAML_FILE)), investmentCsvFiles)\n",
    "importTask"
   ],
   "outputs": [
    {
     "data": {
      "text/plain": [
       "ImportTaskTO(taskId=a5fe9ff4-9428-4f8d-a61e-da100f38f4a0, status=COMPLETED, reason=null)"
      ]
     },
     "execution_count": 7,
     "metadata": {},
     "output_type": "execute_result"
    }
   ],
   "execution_count": 7
  },
  {
   "metadata": {
    "ExecuteTime": {
     "end_time": "2025-10-30T07:25:42.572147Z",
     "start_time": "2025-10-30T07:25:23.776063Z"
    }
   },
   "cell_type": "code",
   "source": [
    "import ro.jf.funds.importer.api.model.*\n",
    "\n",
    "val csvFiles =\n",
    "    listOf(2019, 2020, 2021, 2022, 2023, 2024)\n",
    "        .map { year -> File(\"../../data/wallet/$year\")}\n",
    "        .flatMap { it.listFiles()?.toList() ?: error(\"no files found\") }\n",
    "val importTask = client.importTransactions(user, client.fromYaml(File(WALLET_IMPORT_CONFIGURATION_YAML_FILE)), csvFiles)\n",
    "importTask"
   ],
   "outputs": [
    {
     "data": {
      "text/plain": [
       "ImportTaskTO(taskId=a0ca0ddf-6b4b-4d29-a490-37873ca71adc, status=COMPLETED, reason=null)"
      ]
     },
     "execution_count": 8,
     "metadata": {},
     "output_type": "execute_result"
    }
   ],
   "execution_count": 8
  }
 ],
 "metadata": {
  "kernelspec": {
   "display_name": "Kotlin",
   "language": "kotlin",
   "name": "kotlin"
  },
  "language_info": {
   "name": "kotlin",
   "version": "1.9.23",
   "mimetype": "text/x-kotlin",
   "file_extension": ".kt",
   "pygments_lexer": "kotlin",
   "codemirror_mode": "text/x-kotlin",
   "nbconvert_exporter": ""
  },
  "ktnbPluginMetadata": {
   "projectDependencies": [
    "funds.commons-api"
   ]
  }
 },
 "nbformat": 4,
 "nbformat_minor": 0
}
