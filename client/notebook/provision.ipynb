{
 "cells": [
  {
   "metadata": {
    "ExecuteTime": {
     "end_time": "2025-09-01T08:11:52.639812Z",
     "start_time": "2025-09-01T08:11:48.358486Z"
    }
   },
   "cell_type": "code",
   "source": [
    "@file:DependsOn(\"ro.jf.funds:funds-notebook-client:1.0.0\")\n",
    "%use dataframe\n",
    "\n",
    "import ro.jf.funds.client.notebook.*\n",
    "\n",
    "val username = \"Johann-51.0\"\n",
    "\n",
    "val client = FundsClient()\n"
   ],
   "outputs": [],
   "execution_count": 1
  },
  {
   "metadata": {
    "ExecuteTime": {
     "end_time": "2025-09-01T08:11:53.880891Z",
     "start_time": "2025-09-01T08:11:52.660557Z"
    }
   },
   "cell_type": "code",
   "source": [
    "val user = client.ensureUserExists(username)\n",
    "user"
   ],
   "outputs": [
    {
     "data": {
      "text/plain": [
       "UserTO(id=79da813a-cc70-4bf4-99ab-a921d63c08d4, username=Johann-51.0)"
      ]
     },
     "execution_count": 2,
     "metadata": {},
     "output_type": "execute_result"
    }
   ],
   "execution_count": 2
  },
  {
   "metadata": {
    "collapsed": true,
    "ExecuteTime": {
     "end_time": "2025-09-01T08:11:53.992353Z",
     "start_time": "2025-09-01T08:11:53.916688Z"
    }
   },
   "cell_type": "code",
   "source": [
    "val ACCOUNTS_YAML_FILE = \"../../data/provision/accounts.yaml\"\n",
    "val FUNDS_YAML_FILE = \"../../data/provision/funds.yaml\"\n",
    "val INITIAL_BALANCE_YAML_FILE = \"../../data/provision/initial-balance.yaml\"\n",
    "val IMPORT_CONFIGURATION_JSON_FILE = \"../../data/provision/import-configuration.json\"\n",
    "val WALLET_IMPORT_CONFIGURATION_YAML_FILE = \"../../data/provision/wallet-import-configuration.yaml\"\n",
    "val INVESTMENT_IMPORT_CONFIGURATION_YAML_FILE = \"../../data/provision/investment-import-configuration.yaml\""
   ],
   "outputs": [],
   "execution_count": 3
  },
  {
   "metadata": {
    "ExecuteTime": {
     "end_time": "2025-09-01T08:11:57.039339Z",
     "start_time": "2025-09-01T08:11:54.197468Z"
    }
   },
   "cell_type": "code",
   "source": [
    "import ro.jf.funds.account.api.model.*\n",
    "\n",
    "val accounts = client.provisionAccounts(user, client.fromYaml(File(ACCOUNTS_YAML_FILE)))\n",
    "accounts.map { it.toString() }.joinToString(separator = \"\\n\")"
   ],
   "outputs": [
    {
     "data": {
      "text/plain": [
       "AccountTO(id=1214a801-6002-4ece-ae99-f3a10c8a9065, name=Cash RON, unit=Currency(value=RON))\n",
       "AccountTO(id=28152494-87eb-43a4-9e71-5dee6cba62eb, name=Cash EUR, unit=Currency(value=EUR))\n",
       "AccountTO(id=623c678b-0bd9-47ae-a5a3-7dfc0ca9b749, name=Cash EUR-RON, unit=Currency(value=RON))\n",
       "AccountTO(id=b21684af-b2e8-44f1-b932-fc91d526c340, name=ING RON, unit=Currency(value=RON))\n",
       "AccountTO(id=5d7545b3-ba75-4ef7-be6e-aae971eaf9c8, name=ING Economy, unit=Currency(value=RON))\n",
       "AccountTO(id=f7689da1-45f6-4f70-9f96-e87eb036055b, name=Food Coupons, unit=Currency(value=RON))\n",
       "AccountTO(id=60cc63cb-2816-446a-9f4f-47e17dd29217, name=Revolut RON, unit=Currency(value=RON))\n",
       "AccountTO(id=ae676885-b509-4844-ae8a-81fc6ed13d62, name=Revolut EUR-RON, unit=Currency(value=RON))\n",
       "AccountTO(id=542dffc7-dd18-4af9-afdd-e7912c483084, name=Other, unit=Currency(value=RON))\n",
       "AccountTO(id=3339f5c1-bbea-4ef7-97df-16fa9ecb48ec, name=BT RON, unit=Currency(value=RON))\n",
       "AccountTO(id=b9bab8f4-37b3-4545-8ca4-04732be4db71, name=BT CC, unit=Currency(value=RON))\n",
       "AccountTO(id=9c6c5d95-80f5-4d5a-a51a-8ecac5b8df71, name=BT EUR-RON, unit=Currency(value=RON))\n",
       "AccountTO(id=4b7500eb-3ac6-480e-8d3e-e9f1e143d789, name=BT Economy RON, unit=Currency(value=RON))\n",
       "AccountTO(id=3e52ed00-286e-4be1-9005-716c68b85753, name=BT Depozit RON, unit=Currency(value=RON))\n",
       "AccountTO(id=38997074-9447-4b23-961a-57a11cb03917, name=BT Philocode RON, unit=Currency(value=RON))\n",
       "AccountTO(id=f54f26b3-67a0-4a8c-aa96-23ea29b1b578, name=XTB EUR, unit=Currency(value=EUR))\n",
       "AccountTO(id=d3217d8a-ec84-44ef-bf81-5f92cac8b976, name=XTB EUNL, unit=Symbol(value=EUNL))\n",
       "AccountTO(id=b782bee0-c791-4cb9-8816-3f316d67e7ed, name=XTB QDVE, unit=Symbol(value=QDVE))\n",
       "AccountTO(id=96d20fa7-4b13-451a-8bf2-710379e34334, name=XTB IMAE, unit=Symbol(value=IMAE))\n",
       "AccountTO(id=fcc9d1b4-0879-450b-865d-2dcad3d8653a, name=XTB IS3N, unit=Symbol(value=IS3N))\n",
       "AccountTO(id=7156a4ac-5c57-43d8-bcd4-b6383ed96ef3, name=XTB SXR8, unit=Symbol(value=SXR8))\n",
       "AccountTO(id=7f1a4433-fd68-4f26-8e68-2fefd0c52063, name=XTB SUSW, unit=Symbol(value=SUSW))"
      ]
     },
     "execution_count": 4,
     "metadata": {},
     "output_type": "execute_result"
    }
   ],
   "execution_count": 4
  },
  {
   "metadata": {
    "ExecuteTime": {
     "end_time": "2025-09-01T08:11:59.075640Z",
     "start_time": "2025-09-01T08:11:57.060981Z"
    }
   },
   "cell_type": "code",
   "source": [
    "import ro.jf.funds.fund.api.model.*\n",
    "\n",
    "val funds = client.provisionFunds(user, client.fromYaml(File(FUNDS_YAML_FILE)))\n",
    "funds.map { it.toString() }.joinToString(separator = \"\\n\")"
   ],
   "outputs": [
    {
     "data": {
      "text/plain": [
       "FundTO(id=e0c37108-20b1-41eb-a22d-55fac4dbf967, name=Expenses)\n",
       "FundTO(id=113352d1-22f6-42b3-9482-e1a659597285, name=Work Income)\n",
       "FundTO(id=34894fde-6f3c-475c-a2bd-3284c9232a79, name=Other Income)\n",
       "FundTO(id=cb1328bd-2723-499e-9305-ebb8e654ceed, name=Savings)\n",
       "FundTO(id=09023786-fb2c-4d86-aa3d-4356758b5bf4, name=Investments)"
      ]
     },
     "execution_count": 5,
     "metadata": {},
     "output_type": "execute_result"
    }
   ],
   "execution_count": 5
  },
  {
   "metadata": {
    "ExecuteTime": {
     "end_time": "2025-09-01T08:12:02.185645Z",
     "start_time": "2025-09-01T08:11:59.113910Z"
    }
   },
   "cell_type": "code",
   "source": [
    "import ro.jf.funds.fund.api.model.*\n",
    "\n",
    "val initialBalancesTransactions = client.provisionInitialBalances(user, accounts, funds, client.fromYaml(File(INITIAL_BALANCE_YAML_FILE)))\n",
    "initialBalancesTransactions.map { it.toString() }.joinToString(separator = \"\\n\")"
   ],
   "outputs": [
    {
     "data": {
      "text/plain": [
       "FundTransactionTO(id=398b0430-966a-4109-a3fe-be85206c80db, userId=79da813a-cc70-4bf4-99ab-a921d63c08d4, dateTime=2018-12-31T00:00, records=[FundRecordTO(id=eff81c02-b20f-4942-ad1b-fcb2fac4e2fc, fundId=e0c37108-20b1-41eb-a22d-55fac4dbf967, accountId=1214a801-6002-4ece-ae99-f3a10c8a9065, amount=553.5, unit=Currency(value=RON), labels=[])])\n",
       "FundTransactionTO(id=320e2b79-1bf4-4135-99d6-f058c7097a7e, userId=79da813a-cc70-4bf4-99ab-a921d63c08d4, dateTime=2018-12-31T00:00, records=[FundRecordTO(id=0df0f33e-c8c6-44b7-8e9f-d318725c918e, fundId=e0c37108-20b1-41eb-a22d-55fac4dbf967, accountId=f7689da1-45f6-4f70-9f96-e87eb036055b, amount=45.96, unit=Currency(value=RON), labels=[])])\n",
       "FundTransactionTO(id=fdf8356f-4138-4b13-b050-0204ad95492c, userId=79da813a-cc70-4bf4-99ab-a921d63c08d4, dateTime=2018-12-31T00:00, records=[FundRecordTO(id=c6f1dd4d-ec77-44e4-9bc8-df06522ffc58, fundId=e0c37108-20b1-41eb-a22d-55fac4dbf967, accountId=542dffc7-dd18-4af9-afdd-e7912c483084, amount=3051.9, unit=Currency(value=RON), labels=[])])\n",
       "FundTransactionTO(id=1b63ff05-a337-4859-90ef-a1178b4668a9, userId=79da813a-cc70-4bf4-99ab-a921d63c08d4, dateTime=2018-12-31T00:00, records=[FundRecordTO(id=92aa6358-0281-4a7e-9f6a-185764cbe379, fundId=e0c37108-20b1-41eb-a22d-55fac4dbf967, accountId=3339f5c1-bbea-4ef7-97df-16fa9ecb48ec, amount=7708.46, unit=Currency(value=RON), labels=[])])\n",
       "FundTransactionTO(id=6db536ca-5365-4267-a159-6ea84fac5561, userId=79da813a-cc70-4bf4-99ab-a921d63c08d4, dateTime=2018-12-31T00:00, records=[FundRecordTO(id=70908414-cef8-4e75-8738-7d56cd2c8154, fundId=e0c37108-20b1-41eb-a22d-55fac4dbf967, accountId=b21684af-b2e8-44f1-b932-fc91d526c340, amount=-3037.15, unit=Currency(value=RON), labels=[])])"
      ]
     },
     "execution_count": 6,
     "metadata": {},
     "output_type": "execute_result"
    }
   ],
   "execution_count": 6
  },
  {
   "metadata": {
    "ExecuteTime": {
     "end_time": "2025-09-01T08:12:11.050083Z",
     "start_time": "2025-09-01T08:12:02.267529Z"
    }
   },
   "cell_type": "code",
   "source": [
    "\n",
    "val investmentCsvFiles =\n",
    "    listOf(2022, 2023)\n",
    "        .map { year -> File(\"../../reportdata/investment/$year\") }\n",
    "        .flatMap { it.listFiles()?.toList() ?: error(\"no files found\") }\n",
    "val importTask = client.importTransactions(user, client.fromYaml(File(INVESTMENT_IMPORT_CONFIGURATION_YAML_FILE)), investmentCsvFiles)\n",
    "importTask"
   ],
   "outputs": [
    {
     "data": {
      "text/plain": [
       "ImportTaskTO(taskId=efb56555-bd51-4a2c-a8ee-531b6f70efbe, status=COMPLETED, reason=null)"
      ]
     },
     "execution_count": 7,
     "metadata": {},
     "output_type": "execute_result"
    }
   ],
   "execution_count": 7
  },
  {
   "metadata": {
    "ExecuteTime": {
     "end_time": "2025-09-01T08:12:26.157233Z",
     "start_time": "2025-09-01T08:12:11.112307Z"
    }
   },
   "cell_type": "code",
   "source": [
    "import ro.jf.funds.importer.api.model.*\n",
    "\n",
    "val csvFiles =\n",
    "    listOf(2019, 2020, 2021, 2022, 2023)\n",
    "        .map { year -> File(\"../../reportdata/wallet/$year\")}\n",
    "        .flatMap { it.listFiles()?.toList() ?: error(\"no files found\") }\n",
    "val importTask = client.importTransactions(user, client.fromYaml(File(WALLET_IMPORT_CONFIGURATION_YAML_FILE)), csvFiles)\n",
    "importTask"
   ],
   "outputs": [
    {
     "data": {
      "text/plain": [
       "ImportTaskTO(taskId=90c61771-789d-417c-b4b1-e6f28b2b2f9f, status=COMPLETED, reason=null)"
      ]
     },
     "execution_count": 8,
     "metadata": {},
     "output_type": "execute_result"
    }
   ],
   "execution_count": 8
  }
 ],
 "metadata": {
  "kernelspec": {
   "display_name": "Kotlin",
   "language": "kotlin",
   "name": "kotlin"
  },
  "language_info": {
   "name": "kotlin",
   "version": "1.9.23",
   "mimetype": "text/x-kotlin",
   "file_extension": ".kt",
   "pygments_lexer": "kotlin",
   "codemirror_mode": "text/x-kotlin",
   "nbconvert_exporter": ""
  },
  "ktnbPluginMetadata": {
   "projectDependencies": [
    "funds.commons-api"
   ]
  }
 },
 "nbformat": 4,
 "nbformat_minor": 0
}
