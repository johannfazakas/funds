{
 "cells": [
  {
   "metadata": {
    "ExecuteTime": {
     "end_time": "2025-03-14T06:43:36.145484Z",
     "start_time": "2025-03-14T06:43:32.119103Z"
    }
   },
   "cell_type": "code",
   "source": [
    "@file:DependsOn(\"io.ktor:ktor-client-core:2.3.12\")\n",
    "@file:DependsOn(\"io.ktor:ktor-client-cio:2.3.12\")\n",
    "@file:DependsOn(\"io.ktor:ktor-client-content-negotiation:2.3.12\")\n",
    "@file:DependsOn(\"io.ktor:ktor-serialization-kotlinx-json:2.3.12\")\n",
    "@file:DependsOn(\"com.charleskorn.kaml:kaml-jvm:0.67.0\")\n",
    "@file:DependsOn(\"ro.jf.funds:user-sdk:1.0.0\")\n",
    "@file:DependsOn(\"ro.jf.funds:import-sdk:1.0.0\")\n",
    "@file:DependsOn(\"ro.jf.funds:fund-sdk:1.0.0\")\n",
    "@file:DependsOn(\"ro.jf.funds:account-sdk:1.0.0\")\n",
    "%use dataframe\n"
   ],
   "outputs": [],
   "execution_count": 1
  },
  {
   "metadata": {
    "ExecuteTime": {
     "end_time": "2025-03-14T06:58:18.886601Z",
     "start_time": "2025-03-14T06:58:18.733779Z"
    }
   },
   "cell_type": "code",
   "source": [
    "import ro.jf.funds.account.api.model.*\n",
    "import com.charleskorn.kaml.Yaml\n",
    "import kotlinx.serialization.builtins.ListSerializer\n",
    "import kotlinx.serialization.Serializable\n",
    "\n",
    "val accountYamlFile = File(\"../../data/provision/accounts.yaml\").readText()\n",
    "val accounts = Yaml.default.decodeFromString(ListSerializer(CreateAccountTO.serializer()), accountYamlFile)\n",
    "accounts"
   ],
   "outputs": [
    {
     "data": {
      "text/plain": [
       "[CreateAccountTO(name=Cash RON, unit=Currency(value=RON)), CreateAccountTO(name=Cash EUR, unit=Currency(value=EUR)), CreateAccountTO(name=ING RON, unit=Currency(value=RON)), CreateAccountTO(name=ING Economy, unit=Currency(value=RON)), CreateAccountTO(name=Food Coupons, unit=Currency(value=RON)), CreateAccountTO(name=Revolut RON, unit=Currency(value=RON)), CreateAccountTO(name=Other, unit=Currency(value=RON)), CreateAccountTO(name=BT RON, unit=Currency(value=RON)), CreateAccountTO(name=BT Economy RON, unit=Currency(value=RON))]"
      ]
     },
     "execution_count": 21,
     "metadata": {},
     "output_type": "execute_result"
    }
   ],
   "execution_count": 21
  },
  {
   "metadata": {
    "ExecuteTime": {
     "end_time": "2025-03-14T07:00:36.479838Z",
     "start_time": "2025-03-14T07:00:36.320252Z"
    }
   },
   "cell_type": "code",
   "source": [
    "import ro.jf.funds.fund.api.model.*\n",
    "\n",
    "val fundsYamlFile = File(\"../../data/provision/funds.yaml\").readText()\n",
    "val funds = Yaml.default.decodeFromString(ListSerializer(CreateFundTO.serializer()), fundsYamlFile)\n",
    "funds"
   ],
   "outputs": [
    {
     "data": {
      "text/plain": [
       "[CreateFundTO(name=Expenses), CreateFundTO(name=Work Income), CreateFundTO(name=Savings), CreateFundTO(name=Gifts)]"
      ]
     },
     "execution_count": 23,
     "metadata": {},
     "output_type": "execute_result"
    }
   ],
   "execution_count": 23
  },
  {
   "metadata": {
    "collapsed": true,
    "ExecuteTime": {
     "end_time": "2025-03-14T07:04:22.342264Z",
     "start_time": "2025-03-14T07:04:21.915158Z"
    }
   },
   "cell_type": "code",
   "source": [
    "import ro.jf.funds.account.sdk.AccountSdk\n",
    "import ro.jf.funds.fund.sdk.FundSdk\n",
    "import ro.jf.funds.importer.sdk.ImportSdk\n",
    "import ro.jf.funds.user.sdk.UserSdk\n",
    "import kotlinx.coroutines.runBlocking\n",
    "\n",
    "val ACCOUNTS_YAML_FILE = \"../../data/provision/accounts.yaml\"\n",
    "val FUNDS_YAML_FILE = \"../../data/provision/funds.yaml\"\n",
    "// TODO(Johann) make this a yaml\n",
    "val IMPORT_CONFIGURATION_JSON_FILE = \"../../data/provision/import-configuration.json\"\n",
    "\n",
    "val userSdk = UserSdk()\n",
    "val accountSdk = AccountSdk()\n",
    "val fundSdk = FundSdk()\n",
    "val importSdk = ImportSdk()\n",
    "\n",
    "val username = \"Johann-13.2\"\n",
    "val user = runBlocking {\n",
    "    userSdk.findUserByUsername(username)\n",
    "        ?: userSdk.createUser(username)\n",
    "}\n",
    "user"
   ],
   "outputs": [
    {
     "data": {
      "text/plain": [
       "UserTO(id=94c0c8a3-2503-4671-a69e-9bcfb109abc0, username=Johann-13.2)"
      ]
     },
     "execution_count": 28,
     "metadata": {},
     "output_type": "execute_result"
    }
   ],
   "execution_count": 28
  },
  {
   "metadata": {
    "ExecuteTime": {
     "end_time": "2025-03-14T07:02:47.949932Z",
     "start_time": "2025-03-14T07:02:43.022758Z"
    }
   },
   "cell_type": "code",
   "source": [
    "import ro.jf.funds.account.api.model.*\n",
    "import ro.jf.funds.commons.model.*\n",
    "import kotlinx.coroutines.runBlocking\n",
    "\n",
    "val accounts = runBlocking {\n",
    "    val existingAccounts = accountSdk.listAccounts(user.id).items\n",
    "    val existingAccountNames = existingAccounts.map { it.name }.toSet()\n",
    "    val newAccounts = File(ACCOUNTS_YAML_FILE).readText()\n",
    "        .let { Yaml.default.decodeFromString(ListSerializer(CreateAccountTO.serializer()), it) }\n",
    "        .filter { it.name !in existingAccountNames }\n",
    "        .map { accountSdk.createAccount(user.id, it) }\n",
    "    existingAccounts + newAccounts\n",
    "}\n",
    "accounts.map { it.toString() }.joinToString(separator = \"\\n\")"
   ],
   "outputs": [
    {
     "data": {
      "text/plain": [
       "AccountTO(id=68147f85-288f-408e-b21b-9bcaec882a7a, name=Cash RON, unit=Currency(value=RON))\n",
       "AccountTO(id=6a7acecd-0185-4a7b-965c-82c3fd059c7d, name=Cash EUR, unit=Currency(value=EUR))\n",
       "AccountTO(id=c3e0c07a-86c1-4b2c-94ef-a951b5b52925, name=ING RON, unit=Currency(value=RON))\n",
       "AccountTO(id=1500b07e-45e5-4266-bdc9-0103a1beda2e, name=ING Economy, unit=Currency(value=RON))\n",
       "AccountTO(id=f2be2aa2-abb4-47d4-9127-67fa80ed94da, name=Food Coupons, unit=Currency(value=RON))\n",
       "AccountTO(id=9ee80042-8702-4ae4-af0a-913b4441236d, name=Revolut RON, unit=Currency(value=RON))\n",
       "AccountTO(id=ee45b355-96e2-4933-9c1e-8faf45959c1a, name=Other, unit=Currency(value=RON))\n",
       "AccountTO(id=113658e5-9aea-44bc-b0b6-f70547b90dbd, name=BT RON, unit=Currency(value=RON))\n",
       "AccountTO(id=2b5f2c7b-e589-4bd0-8564-41926a7f8a6c, name=BT Economy RON, unit=Currency(value=RON))"
      ]
     },
     "execution_count": 26,
     "metadata": {},
     "output_type": "execute_result"
    }
   ],
   "execution_count": 26
  },
  {
   "metadata": {
    "ExecuteTime": {
     "end_time": "2025-03-14T07:04:29.255981Z",
     "start_time": "2025-03-14T07:04:26.460249Z"
    }
   },
   "cell_type": "code",
   "source": [
    "import ro.jf.funds.fund.api.model.*\n",
    "import kotlinx.coroutines.runBlocking\n",
    "\n",
    "val funds = runBlocking {\n",
    "    val existingFunds = fundSdk.listFunds(user.id).items\n",
    "    val existingFundNames = existingFunds.map { it.name }.toSet()\n",
    "    val newFunds = File(FUNDS_YAML_FILE).readText()\n",
    "        .let { Yaml.default.decodeFromString(ListSerializer(CreateFundTO.serializer()), it) }\n",
    "        .filter { it.name !in existingFundNames }\n",
    "        .map { fundSdk.createFund(user.id, it) }\n",
    "    existingFunds + newFunds\n",
    "}\n",
    "funds.map { it.toString() }.joinToString(separator = \"\\n\")"
   ],
   "outputs": [
    {
     "data": {
      "text/plain": [
       "FundTO(id=af8eda10-0f16-44d2-b667-1092df4c6a5a, name=Expenses)\n",
       "FundTO(id=9e2e595f-9643-4bc2-a23e-5023f72672ef, name=Work Income)\n",
       "FundTO(id=84ced50f-422b-47c4-81d9-d0cc2332f6fa, name=Savings)\n",
       "FundTO(id=bc67f5e3-b794-4be9-8e02-7bffff9e4553, name=Gifts)"
      ]
     },
     "execution_count": 29,
     "metadata": {},
     "output_type": "execute_result"
    }
   ],
   "execution_count": 29
  },
  {
   "metadata": {
    "ExecuteTime": {
     "end_time": "2025-03-14T07:04:38.625864Z",
     "start_time": "2025-03-14T07:04:38.233805Z"
    }
   },
   "cell_type": "code",
   "source": [
    "import ro.jf.funds.importer.api.model.*\n",
    "import kotlinx.serialization.json.Json\n",
    "\n",
    "val dataConfigurationRawJson: String = File(IMPORT_CONFIGURATION_JSON_FILE).readText()\n",
    "val jsonFormat = Json { ignoreUnknownKeys = true }\n",
    "val importConfiguration = jsonFormat.decodeFromString<ImportConfigurationTO>(dataConfigurationRawJson)"
   ],
   "outputs": [],
   "execution_count": 30
  },
  {
   "metadata": {},
   "cell_type": "markdown",
   "source": ""
  },
  {
   "metadata": {
    "ExecuteTime": {
     "end_time": "2025-03-14T07:05:17.752475Z",
     "start_time": "2025-03-14T07:04:42.483443Z"
    }
   },
   "cell_type": "code",
   "source": [
    "import kotlinx.coroutines.delay\n",
    "import kotlinx.coroutines.runBlocking\n",
    "import kotlinx.datetime.Clock\n",
    "import ro.jf.funds.importer.api.model.*\n",
    "import java.io.File\n",
    "import java.util.*\n",
    "import kotlin.time.Duration\n",
    "\n",
    "val csvFiles =\n",
    "    listOf(File(\"../../data/wallet/2019\"), File(\"../../data/wallet/2020\"))\n",
    "        .flatMap { it.listFiles()?.toList() ?: error(\"no files found\") }\n",
    "runBlocking {\n",
    "    var importTask = importSdk.import(user.id, importConfiguration, csvFiles)\n",
    "    val now: Instant = Clock.System.now()\n",
    "    val timeout = 60.seconds\n",
    "    while (importTask.status == ImportTaskTO.Status.IN_PROGRESS && Clock.System.now() - now < timeout) {\n",
    "        delay(500)\n",
    "        importTask = importSdk.getImportTask(user.id, importTask.taskId)\n",
    "    }\n",
    "    importTask\n",
    "}\n"
   ],
   "outputs": [
    {
     "data": {
      "text/plain": [
       "ImportTaskTO(taskId=b3bf91a1-8078-4595-92ec-83b93fef9dbb, status=COMPLETED, reason=null)"
      ]
     },
     "execution_count": 31,
     "metadata": {},
     "output_type": "execute_result"
    }
   ],
   "execution_count": 31
  }
 ],
 "metadata": {
  "kernelspec": {
   "display_name": "Kotlin",
   "language": "kotlin",
   "name": "kotlin"
  },
  "language_info": {
   "name": "kotlin",
   "version": "1.9.23",
   "mimetype": "text/x-kotlin",
   "file_extension": ".kt",
   "pygments_lexer": "kotlin",
   "codemirror_mode": "text/x-kotlin",
   "nbconvert_exporter": ""
  },
  "ktnbPluginMetadata": {
   "projectDependencies": [
    "funds.commons-api"
   ]
  }
 },
 "nbformat": 4,
 "nbformat_minor": 0
}
