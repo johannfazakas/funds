{
 "cells": [
  {
   "metadata": {
    "ExecuteTime": {
     "end_time": "2025-08-27T07:17:37.259917Z",
     "start_time": "2025-08-27T07:17:30.679858Z"
    }
   },
   "cell_type": "code",
   "source": [
    "@file:DependsOn(\"ro.jf.funds:funds-notebook-client:1.0.0\")\n",
    "%use dataframe\n",
    "\n",
    "import ro.jf.funds.client.notebook.*\n",
    "\n",
    "val username = \"Johann-50.2\"\n",
    "\n",
    "val client = FundsClient()\n"
   ],
   "outputs": [],
   "execution_count": 1
  },
  {
   "metadata": {
    "ExecuteTime": {
     "end_time": "2025-08-27T07:17:41.542146Z",
     "start_time": "2025-08-27T07:17:37.314977Z"
    }
   },
   "cell_type": "code",
   "source": [
    "val user = client.ensureUserExists(username)\n",
    "user"
   ],
   "outputs": [
    {
     "data": {
      "text/plain": [
       "UserTO(id=69a0c096-8165-4d8c-ba15-2c2256ccd8f9, username=Johann-50.2)"
      ]
     },
     "execution_count": 2,
     "metadata": {},
     "output_type": "execute_result"
    }
   ],
   "execution_count": 2
  },
  {
   "metadata": {
    "collapsed": true,
    "ExecuteTime": {
     "end_time": "2025-08-27T07:17:41.876529Z",
     "start_time": "2025-08-27T07:17:41.691395Z"
    }
   },
   "cell_type": "code",
   "source": [
    "val ACCOUNTS_YAML_FILE = \"../../data/provision/accounts.yaml\"\n",
    "val FUNDS_YAML_FILE = \"../../data/provision/funds.yaml\"\n",
    "val INITIAL_BALANCE_YAML_FILE = \"../../data/provision/initial-balance.yaml\"\n",
    "val IMPORT_CONFIGURATION_JSON_FILE = \"../../data/provision/import-configuration.json\"\n",
    "val WALLET_IMPORT_CONFIGURATION_YAML_FILE = \"../../data/provision/wallet-import-configuration.yaml\"\n",
    "val INVESTMENT_IMPORT_CONFIGURATION_YAML_FILE = \"../../data/provision/investment-import-configuration.yaml\""
   ],
   "outputs": [],
   "execution_count": 3
  },
  {
   "metadata": {
    "ExecuteTime": {
     "end_time": "2025-08-27T07:17:52.799756Z",
     "start_time": "2025-08-27T07:17:41.889654Z"
    }
   },
   "cell_type": "code",
   "source": [
    "import ro.jf.funds.account.api.model.*\n",
    "\n",
    "val accounts = client.provisionAccounts(user, client.fromYaml(File(ACCOUNTS_YAML_FILE)))\n",
    "accounts.map { it.toString() }.joinToString(separator = \"\\n\")"
   ],
   "outputs": [
    {
     "data": {
      "text/plain": [
       "AccountTO(id=fff8078c-f857-4859-a2b5-5674003e78e8, name=Cash RON, unit=Currency(value=RON))\n",
       "AccountTO(id=cd1397ff-2a5f-45d0-98c6-8edb10dd2703, name=Cash EUR, unit=Currency(value=EUR))\n",
       "AccountTO(id=a46b34a1-d3ec-4a31-8224-cd96a42c31c0, name=Cash EUR-RON, unit=Currency(value=RON))\n",
       "AccountTO(id=4a9046a1-ed51-4446-9c3c-bf988cc3ae21, name=ING RON, unit=Currency(value=RON))\n",
       "AccountTO(id=e9cc325d-389a-4ffe-aa05-38ea14dfa760, name=ING Economy, unit=Currency(value=RON))\n",
       "AccountTO(id=7d3d9570-47ab-417e-a97e-1713bdd7cce5, name=Food Coupons, unit=Currency(value=RON))\n",
       "AccountTO(id=17cd978b-8814-4085-ad1b-5493e7665ceb, name=Revolut RON, unit=Currency(value=RON))\n",
       "AccountTO(id=611851f4-57a9-4a89-a693-37c838f0abd5, name=Revolut EUR-RON, unit=Currency(value=RON))\n",
       "AccountTO(id=b6aec6f8-e5f0-4069-823d-c8a5141de6fb, name=Other, unit=Currency(value=RON))\n",
       "AccountTO(id=b5c823bf-0d85-4f28-a606-a9444da822e5, name=BT RON, unit=Currency(value=RON))\n",
       "AccountTO(id=7a34c4f8-7e48-4de4-851d-2250f89eaf70, name=BT CC, unit=Currency(value=RON))\n",
       "AccountTO(id=d931accf-bce0-4b58-82a4-b0abe9c1fcd4, name=BT EUR-RON, unit=Currency(value=RON))\n",
       "AccountTO(id=3dd739ed-5c37-4f4e-bf4a-3accaa4dfeec, name=BT Economy RON, unit=Currency(value=RON))\n",
       "AccountTO(id=6d4987ab-29d1-40ba-b1d1-1a897b76687f, name=BT Depozit RON, unit=Currency(value=RON))\n",
       "AccountTO(id=65026cd5-9521-4fc8-a9c2-0c600f5b299e, name=BT Philocode RON, unit=Currency(value=RON))\n",
       "AccountTO(id=d0696318-d38e-4cee-8389-c5af5d0430de, name=XTB EUR, unit=Currency(value=EUR))\n",
       "AccountTO(id=67f2cb31-07b7-4d7a-9be6-784301cbc261, name=XTB EUNL, unit=Symbol(value=EUNL))\n",
       "AccountTO(id=8ed1b473-aabf-40c6-b45d-6199de12a0b7, name=XTB QDVE, unit=Symbol(value=QDVE))\n",
       "AccountTO(id=e3832c2e-6aa3-4596-b4ab-08f845795f92, name=XTB IMAE, unit=Symbol(value=IMAE))\n",
       "AccountTO(id=ceae6582-5916-474e-8e28-eaeb9e4bed77, name=XTB IS3N, unit=Symbol(value=IS3N))\n",
       "AccountTO(id=dcb01b57-2372-420b-b062-8a24ac774e49, name=XTB SXR8, unit=Symbol(value=SXR8))\n",
       "AccountTO(id=622683be-a52a-4eed-9a42-63fe149ab8ff, name=XTB SUSW, unit=Symbol(value=SUSW))"
      ]
     },
     "execution_count": 4,
     "metadata": {},
     "output_type": "execute_result"
    }
   ],
   "execution_count": 4
  },
  {
   "metadata": {
    "ExecuteTime": {
     "end_time": "2025-08-27T07:17:58.879520Z",
     "start_time": "2025-08-27T07:17:52.822512Z"
    }
   },
   "cell_type": "code",
   "source": [
    "import ro.jf.funds.fund.api.model.*\n",
    "\n",
    "val funds = client.provisionFunds(user, client.fromYaml(File(FUNDS_YAML_FILE)))\n",
    "funds.map { it.toString() }.joinToString(separator = \"\\n\")"
   ],
   "outputs": [
    {
     "data": {
      "text/plain": [
       "FundTO(id=62f02a80-f8d3-4af3-ae75-5ac5b172a2eb, name=Expenses)\n",
       "FundTO(id=52837b1c-cbb2-4532-adea-0521b133e35f, name=Work Income)\n",
       "FundTO(id=b7bef9f9-2f48-4ff6-b747-633f3b07a6f4, name=Other Income)\n",
       "FundTO(id=bb7548b9-c9b8-4b19-8cbc-a7d490d56d75, name=Savings)\n",
       "FundTO(id=435b0c6b-74cb-460c-87e5-862cadb037b2, name=Investments)"
      ]
     },
     "execution_count": 5,
     "metadata": {},
     "output_type": "execute_result"
    }
   ],
   "execution_count": 5
  },
  {
   "metadata": {
    "ExecuteTime": {
     "end_time": "2025-08-27T07:18:03.813681Z",
     "start_time": "2025-08-27T07:17:58.954937Z"
    }
   },
   "cell_type": "code",
   "source": [
    "import ro.jf.funds.fund.api.model.*\n",
    "\n",
    "val initialBalancesTransactions = client.provisionInitialBalances(user, accounts, funds, client.fromYaml(File(INITIAL_BALANCE_YAML_FILE)))\n",
    "initialBalancesTransactions.map { it.toString() }.joinToString(separator = \"\\n\")"
   ],
   "outputs": [
    {
     "data": {
      "text/plain": [
       "FundTransactionTO(id=df6b34eb-567e-48b3-b244-3e71e28c58e0, userId=69a0c096-8165-4d8c-ba15-2c2256ccd8f9, dateTime=2018-12-31T00:00, records=[FundRecordTO(id=b21dd802-a260-45d4-baee-046bdc6357df, fundId=62f02a80-f8d3-4af3-ae75-5ac5b172a2eb, accountId=fff8078c-f857-4859-a2b5-5674003e78e8, amount=553.5, unit=Currency(value=RON), labels=[])])\n",
       "FundTransactionTO(id=9908c9e6-3aeb-49fa-8cf5-d58f8b224191, userId=69a0c096-8165-4d8c-ba15-2c2256ccd8f9, dateTime=2018-12-31T00:00, records=[FundRecordTO(id=cb09927d-63e1-46be-83d7-f423ab0da4a5, fundId=62f02a80-f8d3-4af3-ae75-5ac5b172a2eb, accountId=7d3d9570-47ab-417e-a97e-1713bdd7cce5, amount=45.96, unit=Currency(value=RON), labels=[])])\n",
       "FundTransactionTO(id=a78d173e-784c-436b-b0ad-d218281c5e90, userId=69a0c096-8165-4d8c-ba15-2c2256ccd8f9, dateTime=2018-12-31T00:00, records=[FundRecordTO(id=0d73b10b-dcb1-4daa-8b14-4f420508a527, fundId=62f02a80-f8d3-4af3-ae75-5ac5b172a2eb, accountId=b6aec6f8-e5f0-4069-823d-c8a5141de6fb, amount=3051.9, unit=Currency(value=RON), labels=[])])\n",
       "FundTransactionTO(id=00a950be-2c62-400e-8218-88bfd4a80df0, userId=69a0c096-8165-4d8c-ba15-2c2256ccd8f9, dateTime=2018-12-31T00:00, records=[FundRecordTO(id=a9a39c22-f4df-40de-b3fb-eea13fd0d39a, fundId=62f02a80-f8d3-4af3-ae75-5ac5b172a2eb, accountId=b5c823bf-0d85-4f28-a606-a9444da822e5, amount=7708.46, unit=Currency(value=RON), labels=[])])\n",
       "FundTransactionTO(id=7bc9a33e-e624-4e7e-bf34-a777c1beb056, userId=69a0c096-8165-4d8c-ba15-2c2256ccd8f9, dateTime=2018-12-31T00:00, records=[FundRecordTO(id=89a585dd-99d9-4d2f-9bc0-5344dd68f0d0, fundId=62f02a80-f8d3-4af3-ae75-5ac5b172a2eb, accountId=4a9046a1-ed51-4446-9c3c-bf988cc3ae21, amount=-3037.15, unit=Currency(value=RON), labels=[])])"
      ]
     },
     "execution_count": 6,
     "metadata": {},
     "output_type": "execute_result"
    }
   ],
   "execution_count": 6
  },
  {
   "metadata": {
    "ExecuteTime": {
     "end_time": "2025-08-27T07:18:19.296529Z",
     "start_time": "2025-08-27T07:18:03.835267Z"
    }
   },
   "cell_type": "code",
   "source": [
    "\n",
    "val investmentCsvFiles =\n",
    "    listOf(2022, 2023)\n",
    "        .map { year -> File(\"../../data/investment/$year\") }\n",
    "        .flatMap { it.listFiles()?.toList() ?: error(\"no files found\") }\n",
    "val importTask = client.importTransactions(user, client.fromYaml(File(INVESTMENT_IMPORT_CONFIGURATION_YAML_FILE)), investmentCsvFiles)\n",
    "importTask"
   ],
   "outputs": [
    {
     "data": {
      "text/plain": [
       "ImportTaskTO(taskId=4e3f0448-dfcc-4447-b5fa-ac49b3f2cada, status=COMPLETED, reason=null)"
      ]
     },
     "execution_count": 7,
     "metadata": {},
     "output_type": "execute_result"
    }
   ],
   "execution_count": 7
  },
  {
   "metadata": {
    "ExecuteTime": {
     "end_time": "2025-08-27T07:18:44.783571Z",
     "start_time": "2025-08-27T07:18:19.382036Z"
    }
   },
   "cell_type": "code",
   "source": [
    "import ro.jf.funds.importer.api.model.*\n",
    "\n",
    "val csvFiles =\n",
    "    listOf(2019, 2020, 2021, 2022, 2023)\n",
    "        .map { year -> File(\"../../data/wallet/$year\")}\n",
    "        .flatMap { it.listFiles()?.toList() ?: error(\"no files found\") }\n",
    "val importTask = client.importTransactions(user, client.fromYaml(File(WALLET_IMPORT_CONFIGURATION_YAML_FILE)), csvFiles)\n",
    "importTask"
   ],
   "outputs": [
    {
     "data": {
      "text/plain": [
       "ImportTaskTO(taskId=a980967a-6d00-4b54-872c-c8d339636df7, status=COMPLETED, reason=null)"
      ]
     },
     "execution_count": 8,
     "metadata": {},
     "output_type": "execute_result"
    }
   ],
   "execution_count": 8
  }
 ],
 "metadata": {
  "kernelspec": {
   "display_name": "Kotlin",
   "language": "kotlin",
   "name": "kotlin"
  },
  "language_info": {
   "name": "kotlin",
   "version": "1.9.23",
   "mimetype": "text/x-kotlin",
   "file_extension": ".kt",
   "pygments_lexer": "kotlin",
   "codemirror_mode": "text/x-kotlin",
   "nbconvert_exporter": ""
  },
  "ktnbPluginMetadata": {
   "projectDependencies": [
    "funds.commons-api"
   ]
  }
 },
 "nbformat": 4,
 "nbformat_minor": 0
}
