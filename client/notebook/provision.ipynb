{
 "cells": [
  {
   "metadata": {
    "ExecuteTime": {
     "end_time": "2025-06-30T09:27:37.350838Z",
     "start_time": "2025-06-30T09:27:32.767083Z"
    }
   },
   "cell_type": "code",
   "source": [
    "@file:DependsOn(\"ro.jf.funds:funds-notebook-client:1.0.0\")\n",
    "%use dataframe\n",
    "\n",
    "import ro.jf.funds.client.notebook.*\n",
    "import kotlinx.coroutines.runBlocking\n",
    "\n",
    "val username = \"Johann-27.0\"\n",
    "\n",
    "val client = FundsClient()\n"
   ],
   "outputs": [],
   "execution_count": 1
  },
  {
   "metadata": {
    "ExecuteTime": {
     "end_time": "2025-06-30T09:27:37.861412Z",
     "start_time": "2025-06-30T09:27:37.365036Z"
    }
   },
   "cell_type": "code",
   "source": [
    "val user = runBlocking { client.ensureUserExists(username) }\n",
    "user"
   ],
   "outputs": [
    {
     "data": {
      "text/plain": [
       "UserTO(id=ca76adf3-a0fe-4375-8f76-12e89fce7aa0, username=Johann-27.0)"
      ]
     },
     "execution_count": 2,
     "metadata": {},
     "output_type": "execute_result"
    }
   ],
   "execution_count": 2
  },
  {
   "metadata": {
    "collapsed": true,
    "ExecuteTime": {
     "end_time": "2025-06-30T09:27:37.983433Z",
     "start_time": "2025-06-30T09:27:37.932980Z"
    }
   },
   "cell_type": "code",
   "source": [
    "val ACCOUNTS_YAML_FILE = \"../../data/provision/accounts.yaml\"\n",
    "val FUNDS_YAML_FILE = \"../../data/provision/funds.yaml\"\n",
    "val INITIAL_BALANCE_YAML_FILE = \"../../data/provision/initial-balance.yaml\"\n",
    "val IMPORT_CONFIGURATION_JSON_FILE = \"../../data/provision/import-configuration.json\"\n",
    "val IMPORT_CONFIGURATION_YAML_FILE = \"../../data/provision/import-configuration.yaml\"\n"
   ],
   "outputs": [],
   "execution_count": 3
  },
  {
   "metadata": {
    "ExecuteTime": {
     "end_time": "2025-06-30T09:27:38.933972Z",
     "start_time": "2025-06-30T09:27:37.994428Z"
    }
   },
   "cell_type": "code",
   "source": [
    "import ro.jf.funds.account.api.model.*\n",
    "\n",
    "val accounts = runBlocking { client.provisionAccounts(user, File(ACCOUNTS_YAML_FILE)) }\n",
    "accounts.map { it.toString() }.joinToString(separator = \"\\n\")"
   ],
   "outputs": [
    {
     "data": {
      "text/plain": [
       "AccountTO(id=7aae20e4-d499-4be3-98c1-0235e8646792, name=Cash RON, unit=Currency(value=RON))\n",
       "AccountTO(id=43646592-a0eb-4324-9792-08ac533dc9b6, name=Cash EUR, unit=Currency(value=EUR))\n",
       "AccountTO(id=71695f8f-c4f4-48ed-8008-627bfcc86bf2, name=ING RON, unit=Currency(value=RON))\n",
       "AccountTO(id=79d6855f-c458-4164-86d0-826e83aa9ac1, name=ING Economy, unit=Currency(value=RON))\n",
       "AccountTO(id=78003661-380e-4b7d-89c4-aed562f202ab, name=Food Coupons, unit=Currency(value=RON))\n",
       "AccountTO(id=150e3667-4fe8-483e-82fd-255e7da87ae5, name=Revolut RON, unit=Currency(value=RON))\n",
       "AccountTO(id=0d0e1f72-dc8f-4a49-bcf9-bbecad9ea1e1, name=Other, unit=Currency(value=RON))\n",
       "AccountTO(id=323ceac6-03bc-4dd9-8ddb-2f2520ac5a31, name=BT RON, unit=Currency(value=RON))\n",
       "AccountTO(id=53bf574d-c766-404a-b0aa-690d4bfd8efd, name=BT Economy RON, unit=Currency(value=RON))"
      ]
     },
     "execution_count": 4,
     "metadata": {},
     "output_type": "execute_result"
    }
   ],
   "execution_count": 4
  },
  {
   "metadata": {
    "ExecuteTime": {
     "end_time": "2025-06-30T09:27:39.840055Z",
     "start_time": "2025-06-30T09:27:39.119692Z"
    }
   },
   "cell_type": "code",
   "source": [
    "import ro.jf.funds.fund.api.model.*\n",
    "\n",
    "val funds = runBlocking { client.provisionFunds(user, File(FUNDS_YAML_FILE)) }\n",
    "funds.map { it.toString() }.joinToString(separator = \"\\n\")"
   ],
   "outputs": [
    {
     "data": {
      "text/plain": [
       "FundTO(id=9e493c25-a2ec-43f0-bcec-68272f8ccff2, name=Expenses)\n",
       "FundTO(id=9deb6d84-f0a1-4cac-8eee-e767abeb06ef, name=Work Income)\n",
       "FundTO(id=15f83e82-9aa7-470a-aad8-45ae7d47d7c3, name=Savings)\n",
       "FundTO(id=95cfdb32-3cd3-455d-a245-da4bc0718284, name=Gifts)"
      ]
     },
     "execution_count": 5,
     "metadata": {},
     "output_type": "execute_result"
    }
   ],
   "execution_count": 5
  },
  {
   "metadata": {
    "ExecuteTime": {
     "end_time": "2025-06-30T09:27:41.697205Z",
     "start_time": "2025-06-30T09:27:39.898959Z"
    }
   },
   "cell_type": "code",
   "source": [
    "import ro.jf.funds.fund.api.model.*\n",
    "\n",
    "val initialBalancesTransactions = runBlocking {\n",
    "    client.provisionInitialBalances(user, accounts, funds, File(INITIAL_BALANCE_YAML_FILE))\n",
    "}\n",
    "initialBalancesTransactions.map { it.toString() }.joinToString(separator = \"\\n\")"
   ],
   "outputs": [
    {
     "data": {
      "text/plain": [
       "FundTransactionTO(id=275264c6-0b6d-40a4-bb09-27463c3c99d5, userId=ca76adf3-a0fe-4375-8f76-12e89fce7aa0, dateTime=2018-12-31T00:00, records=[FundRecordTO(id=fcb2cfd3-40ef-442b-a197-b926a5a30775, fundId=9e493c25-a2ec-43f0-bcec-68272f8ccff2, accountId=7aae20e4-d499-4be3-98c1-0235e8646792, amount=474.5, unit=Currency(value=RON), labels=[])])\n",
       "FundTransactionTO(id=182fa160-8ae4-4c3b-845a-32d4aa1f0f8a, userId=ca76adf3-a0fe-4375-8f76-12e89fce7aa0, dateTime=2018-12-31T00:00, records=[FundRecordTO(id=1691f5ad-03b9-4de2-9a20-cf3c3b5a9a52, fundId=9e493c25-a2ec-43f0-bcec-68272f8ccff2, accountId=78003661-380e-4b7d-89c4-aed562f202ab, amount=45.96, unit=Currency(value=RON), labels=[])])\n",
       "FundTransactionTO(id=6f61dfae-e629-46ab-b506-4cad98285e4a, userId=ca76adf3-a0fe-4375-8f76-12e89fce7aa0, dateTime=2018-12-31T00:00, records=[FundRecordTO(id=2a009009-c5ac-481b-af70-ac3c5d1b0772, fundId=9e493c25-a2ec-43f0-bcec-68272f8ccff2, accountId=0d0e1f72-dc8f-4a49-bcf9-bbecad9ea1e1, amount=3051.9, unit=Currency(value=RON), labels=[])])\n",
       "FundTransactionTO(id=aa99e1be-2fc3-468e-8a34-99d0381a96a6, userId=ca76adf3-a0fe-4375-8f76-12e89fce7aa0, dateTime=2018-12-31T00:00, records=[FundRecordTO(id=97eea87e-e39a-4c5b-95e7-9bc6790b0a92, fundId=9e493c25-a2ec-43f0-bcec-68272f8ccff2, accountId=323ceac6-03bc-4dd9-8ddb-2f2520ac5a31, amount=2194.13, unit=Currency(value=RON), labels=[])])"
      ]
     },
     "execution_count": 6,
     "metadata": {},
     "output_type": "execute_result"
    }
   ],
   "execution_count": 6
  },
  {
   "metadata": {
    "ExecuteTime": {
     "end_time": "2025-06-30T09:27:58.224617Z",
     "start_time": "2025-06-30T09:27:41.708718Z"
    }
   },
   "cell_type": "code",
   "source": [
    "import ro.jf.funds.importer.api.model.*\n",
    "\n",
    "val importTask = runBlocking {\n",
    "    val csvFiles =\n",
    "        listOf(File(\"../../data/wallet/2019\"), File(\"../../data/wallet/2020\"), File(\"../../data/wallet/2021\"))\n",
    "            .flatMap { it.listFiles()?.toList() ?: error(\"no files found\") }\n",
    "    client.importTransactions(user, File(IMPORT_CONFIGURATION_YAML_FILE), csvFiles)\n",
    "}\n",
    "importTask\n"
   ],
   "outputs": [
    {
     "data": {
      "text/plain": [
       "ImportTaskTO(taskId=2686fa3a-20f9-4abf-9426-92ad4481f0ec, status=COMPLETED, reason=null)"
      ]
     },
     "execution_count": 7,
     "metadata": {},
     "output_type": "execute_result"
    }
   ],
   "execution_count": 7
  }
 ],
 "metadata": {
  "kernelspec": {
   "display_name": "Kotlin",
   "language": "kotlin",
   "name": "kotlin"
  },
  "language_info": {
   "name": "kotlin",
   "version": "1.9.23",
   "mimetype": "text/x-kotlin",
   "file_extension": ".kt",
   "pygments_lexer": "kotlin",
   "codemirror_mode": "text/x-kotlin",
   "nbconvert_exporter": ""
  },
  "ktnbPluginMetadata": {
   "projectDependencies": [
    "funds.commons-api"
   ]
  }
 },
 "nbformat": 4,
 "nbformat_minor": 0
}
