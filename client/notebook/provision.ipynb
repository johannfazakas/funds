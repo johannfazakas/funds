{
 "cells": [
  {
   "metadata": {
    "collapsed": true,
    "ExecuteTime": {
     "end_time": "2024-10-16T04:46:06.776246Z",
     "start_time": "2024-10-16T04:46:03.775749Z"
    }
   },
   "cell_type": "code",
   "source": [
    "@file:DependsOn(\"io.ktor:ktor-client-core:2.0.0\")\n",
    "@file:DependsOn(\"io.ktor:ktor-client-cio:2.0.0\")\n",
    "@file:DependsOn(\"io.ktor:ktor-client-content-negotiation:2.0.0\")\n",
    "@file:DependsOn(\"io.ktor:ktor-serialization-kotlinx-json:2.0.0\")\n",
    "@file:DependsOn(\"ro.jf.funds:import-sdk:1.0.0\")\n",
    "@file:DependsOn(\"ro.jf.funds:fund-sdk:1.0.0\")\n",
    "@file:DependsOn(\"ro.jf.funds:account-sdk:1.0.0\")\n",
    "%use dataframe\n",
    "\n",
    "import ro.jf.bk.account.sdk.AccountSdk\n",
    "import ro.jf.bk.fund.sdk.FundSdk\n",
    "import ro.jf.funds.importer.sdk.ImportSdk\n",
    "import java.util.UUID.randomUUID\n",
    "\n",
    "val ACCOUNTS_CSV_FILE = \"../../data/provision/accounts.csv\"\n",
    "val FUNDS_CSV_FILE = \"../../data/provision/funds.csv\"\n",
    "val ACCOUNT_MATCHERS_CSV_FILE = \"../../data/provision/account-matchers.csv\"\n",
    "val FUND_MATCHERS_CSV_FILE = \"../../data/provision/fund-matchers.csv\"\n",
    "\n",
    "// TODO(Johann) create a user\n",
    "val userId = randomUUID()\n",
    "\n",
    "val accountSdk = AccountSdk()\n",
    "val fundSdk = FundSdk()\n",
    "val importSdk = ImportSdk()"
   ],
   "outputs": [],
   "execution_count": 18
  },
  {
   "metadata": {
    "ExecuteTime": {
     "end_time": "2024-10-16T04:46:07.754406Z",
     "start_time": "2024-10-16T04:46:06.783872Z"
    }
   },
   "cell_type": "code",
   "source": [
    "import ro.jf.bk.account.api.model.*\n",
    "import kotlinx.coroutines.runBlocking\n",
    "\n",
    "val accounts = runBlocking {\n",
    "    val existingAccounts = accountSdk.listAccounts(userId)\n",
    "    val existingAccountNames = existingAccounts.map { it.name }.toSet()\n",
    "    val newAccounts = DataFrame.readCSV(ACCOUNTS_CSV_FILE, delimiter = ';')\n",
    "        .map { row -> CreateCurrencyAccountTO(row.getValue<String>(\"account\"), row.getValue<String>(\"currency\")) }\n",
    "        .filter { it.name !in existingAccountNames }\n",
    "        .map { accountSdk.createAccount(userId, it) }\n",
    "    existingAccounts + newAccounts\n",
    "}\n",
    "accounts.map { it.toString() }.joinToString(separator = \"\\n\")"
   ],
   "outputs": [
    {
     "data": {
      "text/plain": [
       "Currency(id=bffaa96a-bca8-44c3-8122-610140ca3a6f, name=Cash RON, currency=Cash RON)\n",
       "Currency(id=3873e222-afc6-4be1-82b6-ef9e8c2ed658, name=ING RON, currency=RON)\n",
       "Currency(id=197fe341-b75f-4a34-af2d-6b31042a47a2, name=ING Economy, currency=RON)\n",
       "Currency(id=e80bcb98-e316-494d-8e5d-cda6e9f04477, name=Food Coupons, currency=RON)"
      ]
     },
     "execution_count": 19,
     "metadata": {},
     "output_type": "execute_result"
    }
   ],
   "execution_count": 19
  },
  {
   "metadata": {
    "ExecuteTime": {
     "end_time": "2024-10-16T04:46:08.623852Z",
     "start_time": "2024-10-16T04:46:07.797630Z"
    }
   },
   "cell_type": "code",
   "source": [
    "import ro.jf.bk.fund.api.model.*\n",
    "\n",
    "val funds = runBlocking {\n",
    "    // TODO(Johann) fix npe on get existing funds without accounts\n",
    "    val existingFunds = fundSdk.listFunds(userId)\n",
    "    val existingFundNames = existingFunds.map { it.name }.toSet()\n",
    "    val newFunds = DataFrame.readCSV(FUNDS_CSV_FILE, delimiter = ';')\n",
    "        .map { row -> CreateFundTO(row.getValue<String>(\"fund\"), emptyList()) }\n",
    "        .filter { it.name !in existingFundNames }\n",
    "        .map { fundSdk.createFund(userId, it) }\n",
    "    existingFunds + newFunds\n",
    "}\n",
    "funds.map { it.toString() }.joinToString(separator = \"\\n\")"
   ],
   "outputs": [
    {
     "data": {
      "text/plain": [
       "FundTO(id=5ac76134-172d-41fa-95ee-22af19a24b7b, name=Expenses, accounts=[])\n",
       "FundTO(id=5c03cdda-b893-4521-a6fb-47529777bde4, name=Programming, accounts=[])\n",
       "FundTO(id=27050ed0-21cd-4d78-8ba8-1e66e2d8c8c0, name=Savings, accounts=[])"
      ]
     },
     "execution_count": 20,
     "metadata": {},
     "output_type": "execute_result"
    }
   ],
   "execution_count": 20
  },
  {
   "metadata": {
    "ExecuteTime": {
     "end_time": "2024-10-16T04:46:08.700651Z",
     "start_time": "2024-10-16T04:46:08.638900Z"
    }
   },
   "cell_type": "code",
   "source": [
    "import ro.jf.funds.importer.api.model.AccountMatcherTO\n",
    "\n",
    "val accountMatchers = runBlocking {\n",
    "    DataFrame.readCSV(ACCOUNT_MATCHERS_CSV_FILE, delimiter = ';')\n",
    "        .map { row -> AccountMatcherTO(row.getValue<String>(\"import_account_name\"),row.getValue<String>(\"account_name\")) }\n",
    "}\n",
    "accountMatchers.map { it.toString() }.joinToString(separator = \"\\n\")"
   ],
   "outputs": [
    {
     "data": {
      "text/plain": [
       "AccountMatcherTO(importAccountName=ING old, accountName=ING RON)\n",
       "AccountMatcherTO(importAccountName=ING Economy old, accountName=ING Economy)\n",
       "AccountMatcherTO(importAccountName=Cash RON, accountName=Cash RON)\n",
       "AccountMatcherTO(importAccountName=Food Coupons, accountName=Food Coupons)"
      ]
     },
     "execution_count": 21,
     "metadata": {},
     "output_type": "execute_result"
    }
   ],
   "execution_count": 21
  },
  {
   "metadata": {
    "ExecuteTime": {
     "end_time": "2024-10-16T04:46:08.830746Z",
     "start_time": "2024-10-16T04:46:08.735626Z"
    }
   },
   "cell_type": "code",
   "source": [
    "import ro.jf.funds.importer.api.model.*\n",
    "\n",
    "val fundMatchers = runBlocking {\n",
    "    DataFrame.readCSV(FUND_MATCHERS_CSV_FILE, delimiter = ';')\n",
    "        .map { row ->\n",
    "            when (row.getValue<String>(\"type\")) {\n",
    "                \"by_account\" -> FundMatcherTO.ByAccount(\n",
    "                    importAccountName = row.getValue<String>(\"import_account_name\"),\n",
    "                    fundName = row.getValue<String>(\"fund_name\")\n",
    "                )\n",
    "                \n",
    "                \"by_label\" -> FundMatcherTO.ByLabel(\n",
    "                    importLabel = row.getValue<String>(\"import_label\"),\n",
    "                    fundName = row.getValue<String>(\"fund_name\")\n",
    "                )\n",
    "\n",
    "                \"by_account_label\" -> FundMatcherTO.ByAccountLabel(\n",
    "                    importAccountName = row.getValue<String>(\"import_account_name\"),\n",
    "                    importLabel = row.getValue<String>(\"import_label\"),\n",
    "                    fundName = row.getValue<String>(\"fund_name\")\n",
    "                )\n",
    "\n",
    "                \"by_account_label_with_transfer\" -> FundMatcherTO.ByAccountLabelWithTransfer(\n",
    "                    importAccountName = row.getValue<String>(\"import_account_name\"),\n",
    "                    importLabel = row.getValue<String>(\"import_label\"),\n",
    "                    initialFundName = row.getValue<String>(\"initial_fund_name\"),\n",
    "                    fundName = row.getValue<String>(\"fund_name\")\n",
    "                )\n",
    "\n",
    "                else -> error(\"fund matcher type not recognized ${row.getValue<String>(\"type\")}\")\n",
    "            }\n",
    "        }\n",
    "}\n",
    "fundMatchers.map { it.toString() }.joinToString(separator = \"\\n\")"
   ],
   "outputs": [
    {
     "data": {
      "text/plain": [
       "ByAccountLabelWithTransfer(importAccountName=ING Economy old, importLabel=Invest Profit Acc, initialFundName=Savings, fundName=Expenses)\n",
       "ByAccountLabelWithTransfer(importAccountName=ING old, importLabel=Work Income, initialFundName=Programming, fundName=Expenses)\n",
       "ByAccountLabelWithTransfer(importAccountName=Food Coupons, importLabel=Work Income, initialFundName=Programming, fundName=Expenses)\n",
       "ByLabel(importLabel=Basic - Food, fundName=Expenses)\n",
       "ByLabel(importLabel=C&T - Gas & Parking, fundName=Expenses)\n",
       "ByLabel(importLabel=Development - Education, fundName=Expenses)\n",
       "ByLabel(importLabel=F&V - Fun, fundName=Expenses)\n",
       "ByLabel(importLabel=S&S - Objects, fundName=Expenses)\n",
       "ByLabel(importLabel=Home - House, fundName=Expenses)\n",
       "ByLabel(importLabel=Gifts, fundName=Expenses)\n",
       "ByAccount(importAccountName=ING old, fundName=Expenses)\n",
       "ByAccount(importAccountName=ING Economy old, fundName=Expenses)\n",
       "ByAccount(importAccountName=Cash RON, fundName=Expenses)"
      ]
     },
     "execution_count": 22,
     "metadata": {},
     "output_type": "execute_result"
    }
   ],
   "execution_count": 22
  },
  {
   "metadata": {
    "ExecuteTime": {
     "end_time": "2024-10-16T04:46:23.919504Z",
     "start_time": "2024-10-16T04:46:08.860895Z"
    }
   },
   "cell_type": "code",
   "source": [
    "import kotlinx.coroutines.runBlocking\n",
    "import ro.jf.funds.importer.api.model.*\n",
    "import java.io.File\n",
    "import java.util.*\n",
    "\n",
    "val csvFile = File(\"../../data/wallet/2019/wallet_export_2019_01.csv\")\n",
    "val importConfiguration = ImportConfigurationTO(\n",
    "    fileType = ImportFileTypeTO.WALLET_CSV,\n",
    "    accountMatchers = accountMatchers,\n",
    "    fundMatchers = fundMatchers\n",
    ")\n",
    "// TODO(Johann) fix npe on import\n",
    "val response = runBlocking { importSdk.import(userId, csvFile, importConfiguration) }\n",
    "response"
   ],
   "outputs": [
    {
     "ename": "io.ktor.client.plugins.HttpRequestTimeoutException",
     "evalue": "Request timeout has expired [url=http://localhost:5207/bk-api/import/v1/imports, request_timeout=unknown ms]",
     "output_type": "error",
     "traceback": [
      "io.ktor.client.plugins.HttpRequestTimeoutException: Request timeout has expired [url=http://localhost:5207/bk-api/import/v1/imports, request_timeout=unknown ms]",
      "\tat io.ktor.client.engine.cio.EndpointKt$setupTimeout$timeoutJob$1.invokeSuspend(Endpoint.kt:307)",
      "\tat kotlin.coroutines.jvm.internal.BaseContinuationImpl.resumeWith(ContinuationImpl.kt:33)",
      "\tat kotlinx.coroutines.DispatchedTask.run(DispatchedTask.kt:106)",
      "\tat kotlinx.coroutines.scheduling.CoroutineScheduler.runSafely(CoroutineScheduler.kt:570)",
      "\tat kotlinx.coroutines.scheduling.CoroutineScheduler$Worker.executeTask(CoroutineScheduler.kt:750)",
      "\tat kotlinx.coroutines.scheduling.CoroutineScheduler$Worker.runWorker(CoroutineScheduler.kt:677)",
      "\tat kotlinx.coroutines.scheduling.CoroutineScheduler$Worker.run(CoroutineScheduler.kt:664)",
      "",
      "io.ktor.client.plugins.HttpRequestTimeoutException: Request timeout has expired [url=http://localhost:5207/bk-api/import/v1/imports, request_timeout=unknown ms]",
      ""
     ]
    }
   ],
   "execution_count": 23
  },
  {
   "metadata": {},
   "cell_type": "markdown",
   "source": ""
  }
 ],
 "metadata": {
  "kernelspec": {
   "display_name": "Kotlin",
   "language": "kotlin",
   "name": "kotlin"
  },
  "language_info": {
   "name": "kotlin",
   "version": "1.9.23",
   "mimetype": "text/x-kotlin",
   "file_extension": ".kt",
   "pygments_lexer": "kotlin",
   "codemirror_mode": "text/x-kotlin",
   "nbconvert_exporter": ""
  }
 },
 "nbformat": 4,
 "nbformat_minor": 0
}
