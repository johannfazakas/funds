{
 "cells": [
  {
   "metadata": {
    "ExecuteTime": {
     "end_time": "2025-07-11T09:52:02.964230Z",
     "start_time": "2025-07-11T09:51:58.589512Z"
    }
   },
   "cell_type": "code",
   "source": [
    "@file:DependsOn(\"ro.jf.funds:funds-notebook-client:1.0.0\")\n",
    "%use dataframe\n",
    "\n",
    "import ro.jf.funds.client.notebook.*\n",
    "\n",
    "val username = \"Johann-34.5\"\n",
    "\n",
    "val client = FundsClient()\n"
   ],
   "outputs": [],
   "execution_count": 24
  },
  {
   "metadata": {
    "ExecuteTime": {
     "end_time": "2025-07-11T09:52:03.252784Z",
     "start_time": "2025-07-11T09:52:02.973680Z"
    }
   },
   "cell_type": "code",
   "source": [
    "val user = client.ensureUserExists(username)\n",
    "user"
   ],
   "outputs": [
    {
     "data": {
      "text/plain": [
       "UserTO(id=9451c6a8-db8e-4206-887a-765cc2041502, username=Johann-34.5)"
      ]
     },
     "execution_count": 25,
     "metadata": {},
     "output_type": "execute_result"
    }
   ],
   "execution_count": 25
  },
  {
   "metadata": {
    "collapsed": true,
    "ExecuteTime": {
     "end_time": "2025-07-11T09:52:03.281782Z",
     "start_time": "2025-07-11T09:52:03.259758Z"
    }
   },
   "cell_type": "code",
   "source": [
    "val ACCOUNTS_YAML_FILE = \"../../data/provision/accounts.yaml\"\n",
    "val FUNDS_YAML_FILE = \"../../data/provision/funds.yaml\"\n",
    "val INITIAL_BALANCE_YAML_FILE = \"../../data/provision/initial-balance.yaml\"\n",
    "val IMPORT_CONFIGURATION_JSON_FILE = \"../../data/provision/import-configuration.json\"\n",
    "val IMPORT_CONFIGURATION_YAML_FILE = \"../../data/provision/import-configuration.yaml\"\n"
   ],
   "outputs": [],
   "execution_count": 26
  },
  {
   "metadata": {
    "ExecuteTime": {
     "end_time": "2025-07-11T09:52:05.725479Z",
     "start_time": "2025-07-11T09:52:03.306580Z"
    }
   },
   "cell_type": "code",
   "source": [
    "import ro.jf.funds.account.api.model.*\n",
    "\n",
    "val accounts = client.provisionAccounts(user, client.fromYaml(File(ACCOUNTS_YAML_FILE)))\n",
    "accounts.map { it.toString() }.joinToString(separator = \"\\n\")"
   ],
   "outputs": [
    {
     "data": {
      "text/plain": [
       "AccountTO(id=7ac162ec-7627-45f6-8682-3b0fe4475558, name=Cash RON, unit=Currency(value=RON))\n",
       "AccountTO(id=2bd8ee4f-6958-4107-8305-30e12f343235, name=Cash EUR, unit=Currency(value=EUR))\n",
       "AccountTO(id=c35faf7a-25a6-4caf-8e3f-d1e343485e6d, name=Cash EUR-RON, unit=Currency(value=RON))\n",
       "AccountTO(id=9566a312-7bfd-488b-9104-8978c22b0c99, name=ING RON, unit=Currency(value=RON))\n",
       "AccountTO(id=81fe51b7-d77d-48c6-b291-9800c5652422, name=ING Economy, unit=Currency(value=RON))\n",
       "AccountTO(id=feb3ccc7-0c2e-4af5-ae1e-862987b06945, name=Food Coupons, unit=Currency(value=RON))\n",
       "AccountTO(id=7d57342f-5292-46b9-bebb-2586d916cd9a, name=Revolut RON, unit=Currency(value=RON))\n",
       "AccountTO(id=04d574e1-a5aa-40c7-b1d8-5eec1d485eb7, name=Other, unit=Currency(value=RON))\n",
       "AccountTO(id=b18fa578-a5ec-4a2e-becb-12d594758325, name=BT RON, unit=Currency(value=RON))\n",
       "AccountTO(id=ea62cada-bcfd-4b55-a110-f246a84e0c4a, name=BT Economy RON, unit=Currency(value=RON))\n",
       "AccountTO(id=00a9b5c2-7288-4dc0-8f23-61e8d43c0efd, name=BT Philocode RON, unit=Currency(value=RON))"
      ]
     },
     "execution_count": 27,
     "metadata": {},
     "output_type": "execute_result"
    }
   ],
   "execution_count": 27
  },
  {
   "metadata": {
    "ExecuteTime": {
     "end_time": "2025-07-11T09:52:06.892713Z",
     "start_time": "2025-07-11T09:52:05.795372Z"
    }
   },
   "cell_type": "code",
   "source": [
    "import ro.jf.funds.fund.api.model.*\n",
    "\n",
    "val funds = client.provisionFunds(user, client.fromYaml(File(FUNDS_YAML_FILE)))\n",
    "funds.map { it.toString() }.joinToString(separator = \"\\n\")"
   ],
   "outputs": [
    {
     "data": {
      "text/plain": [
       "FundTO(id=9b229851-8f26-44f6-bc4b-4ff2f64a24e0, name=Expenses)\n",
       "FundTO(id=4c28b663-0318-49ea-89e2-de35c5f1fb9e, name=Work Income)\n",
       "FundTO(id=eb2d1877-bcfb-4a65-9d17-2587eadaba30, name=Other Income)\n",
       "FundTO(id=936827c1-e08d-4cac-9d01-21180ce7ea6b, name=Savings)"
      ]
     },
     "execution_count": 28,
     "metadata": {},
     "output_type": "execute_result"
    }
   ],
   "execution_count": 28
  },
  {
   "metadata": {
    "ExecuteTime": {
     "end_time": "2025-07-11T09:52:08.200971Z",
     "start_time": "2025-07-11T09:52:06.903540Z"
    }
   },
   "cell_type": "code",
   "source": [
    "import ro.jf.funds.fund.api.model.*\n",
    "\n",
    "val initialBalancesTransactions = client.provisionInitialBalances(user, accounts, funds, client.fromYaml(File(INITIAL_BALANCE_YAML_FILE)))\n",
    "initialBalancesTransactions.map { it.toString() }.joinToString(separator = \"\\n\")"
   ],
   "outputs": [
    {
     "data": {
      "text/plain": [
       "FundTransactionTO(id=5fe707b5-5998-47e6-a777-2d342c164325, userId=9451c6a8-db8e-4206-887a-765cc2041502, dateTime=2018-12-31T00:00, records=[FundRecordTO(id=81887f57-c047-4087-8b02-0658becc18e9, fundId=9b229851-8f26-44f6-bc4b-4ff2f64a24e0, accountId=7ac162ec-7627-45f6-8682-3b0fe4475558, amount=474.5, unit=Currency(value=RON), labels=[])])\n",
       "FundTransactionTO(id=ba52c83d-2f36-4ee8-83e8-4a8826f23d61, userId=9451c6a8-db8e-4206-887a-765cc2041502, dateTime=2018-12-31T00:00, records=[FundRecordTO(id=c7f9ef3a-5baf-4998-80c8-2f0f0d34c740, fundId=9b229851-8f26-44f6-bc4b-4ff2f64a24e0, accountId=feb3ccc7-0c2e-4af5-ae1e-862987b06945, amount=45.96, unit=Currency(value=RON), labels=[])])\n",
       "FundTransactionTO(id=e045022d-537c-40f4-9016-0b5bca04e164, userId=9451c6a8-db8e-4206-887a-765cc2041502, dateTime=2018-12-31T00:00, records=[FundRecordTO(id=acfd96da-6ce6-40d0-bd7e-4c95e16a1f23, fundId=9b229851-8f26-44f6-bc4b-4ff2f64a24e0, accountId=04d574e1-a5aa-40c7-b1d8-5eec1d485eb7, amount=3051.9, unit=Currency(value=RON), labels=[])])\n",
       "FundTransactionTO(id=ff462aba-e865-42c6-aac1-ef3b8b3ef979, userId=9451c6a8-db8e-4206-887a-765cc2041502, dateTime=2018-12-31T00:00, records=[FundRecordTO(id=0cc5eab4-1ee6-4e19-ac9f-9626cc21a44f, fundId=9b229851-8f26-44f6-bc4b-4ff2f64a24e0, accountId=b18fa578-a5ec-4a2e-becb-12d594758325, amount=2194.13, unit=Currency(value=RON), labels=[])])"
      ]
     },
     "execution_count": 29,
     "metadata": {},
     "output_type": "execute_result"
    }
   ],
   "execution_count": 29
  },
  {
   "metadata": {
    "ExecuteTime": {
     "end_time": "2025-07-11T09:52:24.801140Z",
     "start_time": "2025-07-11T09:52:08.231429Z"
    }
   },
   "cell_type": "code",
   "source": [
    "import ro.jf.funds.importer.api.model.*\n",
    "\n",
    "val csvFiles =\n",
    "    listOf(File(\"../../data/wallet/2019\"), File(\"../../data/wallet/2020\"), File(\"../../data/wallet/2021\"))\n",
    "        .flatMap { it.listFiles()?.toList() ?: error(\"no files found\") }\n",
    "val importTask = client.importTransactions(user, client.fromYaml(File(IMPORT_CONFIGURATION_YAML_FILE)), csvFiles)\n",
    "importTask"
   ],
   "outputs": [
    {
     "data": {
      "text/plain": [
       "ImportTaskTO(taskId=99151974-570d-4c92-8ed3-ded14512f7d4, status=COMPLETED, reason=null)"
      ]
     },
     "execution_count": 30,
     "metadata": {},
     "output_type": "execute_result"
    }
   ],
   "execution_count": 30
  }
 ],
 "metadata": {
  "kernelspec": {
   "display_name": "Kotlin",
   "language": "kotlin",
   "name": "kotlin"
  },
  "language_info": {
   "name": "kotlin",
   "version": "1.9.23",
   "mimetype": "text/x-kotlin",
   "file_extension": ".kt",
   "pygments_lexer": "kotlin",
   "codemirror_mode": "text/x-kotlin",
   "nbconvert_exporter": ""
  },
  "ktnbPluginMetadata": {
   "projectDependencies": [
    "funds.commons-api"
   ]
  }
 },
 "nbformat": 4,
 "nbformat_minor": 0
}
