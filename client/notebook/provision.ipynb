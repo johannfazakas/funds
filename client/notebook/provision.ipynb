{
 "cells": [
  {
   "metadata": {
    "ExecuteTime": {
     "end_time": "2025-08-07T06:24:42.767859Z",
     "start_time": "2025-08-07T06:24:38.120927Z"
    }
   },
   "cell_type": "code",
   "source": [
    "@file:DependsOn(\"ro.jf.funds:funds-notebook-client:1.0.0\")\n",
    "%use dataframe\n",
    "\n",
    "import ro.jf.funds.client.notebook.*\n",
    "\n",
    "val username = \"Johann-43.3\"\n",
    "\n",
    "val client = FundsClient()\n"
   ],
   "outputs": [],
   "execution_count": 1
  },
  {
   "metadata": {
    "ExecuteTime": {
     "end_time": "2025-08-07T06:24:43.335616Z",
     "start_time": "2025-08-07T06:24:42.798767Z"
    }
   },
   "cell_type": "code",
   "source": [
    "val user = client.ensureUserExists(username)\n",
    "user"
   ],
   "outputs": [
    {
     "data": {
      "text/plain": [
       "UserTO(id=4ede8595-b44a-4708-b5c6-1161fe40e392, username=Johann-43.3)"
      ]
     },
     "execution_count": 2,
     "metadata": {},
     "output_type": "execute_result"
    }
   ],
   "execution_count": 2
  },
  {
   "metadata": {
    "collapsed": true,
    "ExecuteTime": {
     "end_time": "2025-08-07T06:24:43.475511Z",
     "start_time": "2025-08-07T06:24:43.441930Z"
    }
   },
   "cell_type": "code",
   "source": [
    "val ACCOUNTS_YAML_FILE = \"../../data/provision/accounts.yaml\"\n",
    "val FUNDS_YAML_FILE = \"../../data/provision/funds.yaml\"\n",
    "val INITIAL_BALANCE_YAML_FILE = \"../../data/provision/initial-balance.yaml\"\n",
    "val IMPORT_CONFIGURATION_JSON_FILE = \"../../data/provision/import-configuration.json\"\n",
    "val WALLET_IMPORT_CONFIGURATION_YAML_FILE = \"../../data/provision/wallet-import-configuration.yaml\"\n",
    "val INVESTMENT_IMPORT_CONFIGURATION_YAML_FILE = \"../../data/provision/investment-import-configuration.yaml\""
   ],
   "outputs": [],
   "execution_count": 3
  },
  {
   "metadata": {
    "ExecuteTime": {
     "end_time": "2025-08-07T06:24:45.831128Z",
     "start_time": "2025-08-07T06:24:43.634139Z"
    }
   },
   "cell_type": "code",
   "source": [
    "import ro.jf.funds.account.api.model.*\n",
    "\n",
    "val accounts = client.provisionAccounts(user, client.fromYaml(File(ACCOUNTS_YAML_FILE)))\n",
    "accounts.map { it.toString() }.joinToString(separator = \"\\n\")"
   ],
   "outputs": [
    {
     "data": {
      "text/plain": [
       "AccountTO(id=134c53f9-c9f7-43a6-9023-b0da176e2017, name=Cash RON, unit=Currency(value=RON))\n",
       "AccountTO(id=58a8ee5a-9e8e-40f6-a57b-ffe0e0498467, name=Cash EUR, unit=Currency(value=EUR))\n",
       "AccountTO(id=63ae0ea1-6588-4ff5-af78-0d64e112ec49, name=Cash EUR-RON, unit=Currency(value=RON))\n",
       "AccountTO(id=047994be-240d-4fd3-a9c5-6f65b37a0eb0, name=ING RON, unit=Currency(value=RON))\n",
       "AccountTO(id=4b174566-cb04-4d80-a7d7-2935fa997a08, name=ING Economy, unit=Currency(value=RON))\n",
       "AccountTO(id=9143ff9f-f90b-4a32-a98d-cae81d94c29f, name=Food Coupons, unit=Currency(value=RON))\n",
       "AccountTO(id=cc533a66-4dfa-4436-b809-80361adc2842, name=Revolut RON, unit=Currency(value=RON))\n",
       "AccountTO(id=fbbe3229-62a7-4afc-840d-2d4c10d87556, name=Revolut EUR-RON, unit=Currency(value=RON))\n",
       "AccountTO(id=22439f2a-ab5b-4705-8deb-19049f0daa13, name=Other, unit=Currency(value=RON))\n",
       "AccountTO(id=d32d73d2-d7a3-4fde-8a49-d75bfc87b7b1, name=BT RON, unit=Currency(value=RON))\n",
       "AccountTO(id=dc8b41fb-d74b-4cea-bd8d-add557a62498, name=BT EUR-RON, unit=Currency(value=RON))\n",
       "AccountTO(id=f167059a-1913-4fe8-82af-6317334e1343, name=BT Economy RON, unit=Currency(value=RON))\n",
       "AccountTO(id=e2a74311-95dd-410e-be77-c7d7616906c1, name=BT Depozit RON, unit=Currency(value=RON))\n",
       "AccountTO(id=310d98a0-de3a-44d6-a13f-d9f2b6177187, name=BT Philocode RON, unit=Currency(value=RON))\n",
       "AccountTO(id=06d12081-1062-479e-8389-47cbdc857fdb, name=XTB EUR, unit=Currency(value=EUR))\n",
       "AccountTO(id=230f55e2-2ba1-4f0e-b4c3-574b5af34182, name=XTB EUNL, unit=Symbol(value=EUNL))\n",
       "AccountTO(id=c219f747-b5b7-4c8b-904e-f9f2c57e8ca5, name=XTB QDVE, unit=Symbol(value=QDVE))\n",
       "AccountTO(id=1ecc537c-42e1-4617-b6e0-53ee84f669d8, name=XTB IMAE, unit=Symbol(value=IMAE))\n",
       "AccountTO(id=bb29151e-ec80-45df-80ab-1ba07680cf6d, name=XTB IS3N, unit=Symbol(value=IS3N))\n",
       "AccountTO(id=fb6757cb-3aca-4a8c-bc95-288926c9fc48, name=XTB SXR8, unit=Symbol(value=SXR8))\n",
       "AccountTO(id=e0234d64-4ec8-47ac-939a-338cbb318a8c, name=XTB SUSW, unit=Symbol(value=SUSW))"
      ]
     },
     "execution_count": 4,
     "metadata": {},
     "output_type": "execute_result"
    }
   ],
   "execution_count": 4
  },
  {
   "metadata": {
    "ExecuteTime": {
     "end_time": "2025-08-07T06:24:46.713211Z",
     "start_time": "2025-08-07T06:24:45.847980Z"
    }
   },
   "cell_type": "code",
   "source": [
    "import ro.jf.funds.fund.api.model.*\n",
    "\n",
    "val funds = client.provisionFunds(user, client.fromYaml(File(FUNDS_YAML_FILE)))\n",
    "funds.map { it.toString() }.joinToString(separator = \"\\n\")"
   ],
   "outputs": [
    {
     "data": {
      "text/plain": [
       "FundTO(id=0513017b-12c3-4c6d-b891-d913476f9ca4, name=Expenses)\n",
       "FundTO(id=2e1611f9-312a-48d8-81a4-2cf3fbbf00f7, name=Work Income)\n",
       "FundTO(id=a46e3206-9c06-40f7-84a4-096879ce8b9b, name=Other Income)\n",
       "FundTO(id=37c3b1cb-fccf-49b5-a8cd-1e1e26d56428, name=Savings)\n",
       "FundTO(id=fbe82f73-60c8-4cf2-b68d-5026c28d7cbb, name=Investments)"
      ]
     },
     "execution_count": 5,
     "metadata": {},
     "output_type": "execute_result"
    }
   ],
   "execution_count": 5
  },
  {
   "metadata": {
    "ExecuteTime": {
     "end_time": "2025-08-07T06:24:48.052105Z",
     "start_time": "2025-08-07T06:24:46.825688Z"
    }
   },
   "cell_type": "code",
   "source": [
    "import ro.jf.funds.fund.api.model.*\n",
    "\n",
    "val initialBalancesTransactions = client.provisionInitialBalances(user, accounts, funds, client.fromYaml(File(INITIAL_BALANCE_YAML_FILE)))\n",
    "initialBalancesTransactions.map { it.toString() }.joinToString(separator = \"\\n\")"
   ],
   "outputs": [
    {
     "data": {
      "text/plain": [
       "FundTransactionTO(id=6d78a56c-2d13-445e-9ebc-a5bb12d31ef1, userId=4ede8595-b44a-4708-b5c6-1161fe40e392, dateTime=2018-12-31T00:00, records=[FundRecordTO(id=f5b51f28-8265-4693-b66c-51af3eabade7, fundId=0513017b-12c3-4c6d-b891-d913476f9ca4, accountId=134c53f9-c9f7-43a6-9023-b0da176e2017, amount=553.5, unit=Currency(value=RON), labels=[])])\n",
       "FundTransactionTO(id=c24a5e41-7ed8-444f-959a-b4b32122b6eb, userId=4ede8595-b44a-4708-b5c6-1161fe40e392, dateTime=2018-12-31T00:00, records=[FundRecordTO(id=606e5060-75a3-4495-b21f-28c40d9c148a, fundId=0513017b-12c3-4c6d-b891-d913476f9ca4, accountId=9143ff9f-f90b-4a32-a98d-cae81d94c29f, amount=45.96, unit=Currency(value=RON), labels=[])])\n",
       "FundTransactionTO(id=ae901771-7d93-4600-86e3-1fa16ad79773, userId=4ede8595-b44a-4708-b5c6-1161fe40e392, dateTime=2018-12-31T00:00, records=[FundRecordTO(id=7882ac1e-3756-443c-ac74-2660e9d9e9b3, fundId=0513017b-12c3-4c6d-b891-d913476f9ca4, accountId=22439f2a-ab5b-4705-8deb-19049f0daa13, amount=3051.9, unit=Currency(value=RON), labels=[])])\n",
       "FundTransactionTO(id=5bf3e46f-5e1c-4857-b47a-7b6cdc193c0c, userId=4ede8595-b44a-4708-b5c6-1161fe40e392, dateTime=2018-12-31T00:00, records=[FundRecordTO(id=56025359-bb3d-4138-9339-357859d022cf, fundId=0513017b-12c3-4c6d-b891-d913476f9ca4, accountId=d32d73d2-d7a3-4fde-8a49-d75bfc87b7b1, amount=7708.46, unit=Currency(value=RON), labels=[])])\n",
       "FundTransactionTO(id=6751f911-8ffe-4986-b36e-d6fb9955cb1f, userId=4ede8595-b44a-4708-b5c6-1161fe40e392, dateTime=2018-12-31T00:00, records=[FundRecordTO(id=472e8b17-1066-4b94-8167-6f46b6bc8313, fundId=0513017b-12c3-4c6d-b891-d913476f9ca4, accountId=047994be-240d-4fd3-a9c5-6f65b37a0eb0, amount=-3037.15, unit=Currency(value=RON), labels=[])])"
      ]
     },
     "execution_count": 6,
     "metadata": {},
     "output_type": "execute_result"
    }
   ],
   "execution_count": 6
  },
  {
   "metadata": {
    "ExecuteTime": {
     "end_time": "2025-08-07T06:24:51.610852Z",
     "start_time": "2025-08-07T06:24:48.207158Z"
    }
   },
   "cell_type": "code",
   "source": [
    "\n",
    "val investmentCsvFiles =\n",
    "    listOf(File(\"../../data/investment/2022\"))\n",
    "        .flatMap { it.listFiles()?.toList() ?: error(\"no files found\") }\n",
    "val importTask = client.importTransactions(user, client.fromYaml(File(INVESTMENT_IMPORT_CONFIGURATION_YAML_FILE)), investmentCsvFiles)\n",
    "importTask"
   ],
   "outputs": [
    {
     "data": {
      "text/plain": [
       "ImportTaskTO(taskId=b191b4ee-d72e-4611-b88c-6aa13339b31b, status=COMPLETED, reason=null)"
      ]
     },
     "execution_count": 7,
     "metadata": {},
     "output_type": "execute_result"
    }
   ],
   "execution_count": 7
  },
  {
   "metadata": {
    "ExecuteTime": {
     "end_time": "2025-08-07T06:25:00.423575Z",
     "start_time": "2025-08-07T06:24:51.624968Z"
    }
   },
   "cell_type": "code",
   "source": [
    "import ro.jf.funds.importer.api.model.*\n",
    "\n",
    "val csvFiles =\n",
    "    listOf(File(\"../../data/wallet/2019\"), File(\"../../data/wallet/2020\"), File(\"../../data/wallet/2021\"), File(\"../../data/wallet/2022\"))\n",
    "        .flatMap { it.listFiles()?.toList() ?: error(\"no files found\") }\n",
    "val importTask = client.importTransactions(user, client.fromYaml(File(WALLET_IMPORT_CONFIGURATION_YAML_FILE)), csvFiles)\n",
    "importTask"
   ],
   "outputs": [
    {
     "data": {
      "text/plain": [
       "ImportTaskTO(taskId=46330339-cb05-4444-915d-65812897bcb6, status=COMPLETED, reason=null)"
      ]
     },
     "execution_count": 8,
     "metadata": {},
     "output_type": "execute_result"
    }
   ],
   "execution_count": 8
  }
 ],
 "metadata": {
  "kernelspec": {
   "display_name": "Kotlin",
   "language": "kotlin",
   "name": "kotlin"
  },
  "language_info": {
   "name": "kotlin",
   "version": "1.9.23",
   "mimetype": "text/x-kotlin",
   "file_extension": ".kt",
   "pygments_lexer": "kotlin",
   "codemirror_mode": "text/x-kotlin",
   "nbconvert_exporter": ""
  },
  "ktnbPluginMetadata": {
   "projectDependencies": [
    "funds.commons-api"
   ]
  }
 },
 "nbformat": 4,
 "nbformat_minor": 0
}
