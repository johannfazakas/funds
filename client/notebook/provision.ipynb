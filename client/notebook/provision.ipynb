{
 "cells": [
  {
   "metadata": {
    "ExecuteTime": {
     "end_time": "2025-07-14T06:04:14.317867Z",
     "start_time": "2025-07-14T06:04:06.940891Z"
    }
   },
   "cell_type": "code",
   "source": [
    "@file:DependsOn(\"ro.jf.funds:funds-notebook-client:1.0.0\")\n",
    "%use dataframe\n",
    "\n",
    "import ro.jf.funds.client.notebook.*\n",
    "\n",
    "val username = \"Johann-36.1\"\n",
    "\n",
    "val client = FundsClient()\n"
   ],
   "outputs": [],
   "execution_count": 1
  },
  {
   "metadata": {
    "ExecuteTime": {
     "end_time": "2025-07-14T06:04:25.003351Z",
     "start_time": "2025-07-14T06:04:14.350781Z"
    }
   },
   "cell_type": "code",
   "source": [
    "val user = client.ensureUserExists(username)\n",
    "user"
   ],
   "outputs": [
    {
     "data": {
      "text/plain": [
       "UserTO(id=2e61fc83-312d-41ce-9d68-7cb003f503b2, username=Johann-36.1)"
      ]
     },
     "execution_count": 2,
     "metadata": {},
     "output_type": "execute_result"
    }
   ],
   "execution_count": 2
  },
  {
   "metadata": {
    "collapsed": true,
    "ExecuteTime": {
     "end_time": "2025-07-14T06:04:25.517919Z",
     "start_time": "2025-07-14T06:04:25.083480Z"
    }
   },
   "cell_type": "code",
   "source": [
    "val ACCOUNTS_YAML_FILE = \"../../data/provision/accounts.yaml\"\n",
    "val FUNDS_YAML_FILE = \"../../data/provision/funds.yaml\"\n",
    "val INITIAL_BALANCE_YAML_FILE = \"../../data/provision/initial-balance.yaml\"\n",
    "val IMPORT_CONFIGURATION_JSON_FILE = \"../../data/provision/import-configuration.json\"\n",
    "val IMPORT_CONFIGURATION_YAML_FILE = \"../../data/provision/import-configuration.yaml\"\n"
   ],
   "outputs": [],
   "execution_count": 3
  },
  {
   "metadata": {
    "ExecuteTime": {
     "end_time": "2025-07-14T06:04:32.975895Z",
     "start_time": "2025-07-14T06:04:25.536097Z"
    }
   },
   "cell_type": "code",
   "source": [
    "import ro.jf.funds.account.api.model.*\n",
    "\n",
    "val accounts = client.provisionAccounts(user, client.fromYaml(File(ACCOUNTS_YAML_FILE)))\n",
    "accounts.map { it.toString() }.joinToString(separator = \"\\n\")"
   ],
   "outputs": [
    {
     "data": {
      "text/plain": [
       "AccountTO(id=9824d0dc-e6f6-4339-b8d7-7c7dfe4985f1, name=Cash RON, unit=Currency(value=RON))\n",
       "AccountTO(id=740ada06-c11c-43fb-9c11-f5a7bb53118b, name=Cash EUR, unit=Currency(value=EUR))\n",
       "AccountTO(id=c7c5e390-2537-43c3-a229-33b91321a052, name=Cash EUR-RON, unit=Currency(value=RON))\n",
       "AccountTO(id=a76db1f3-a864-4030-b84a-33709a4a6a2c, name=ING RON, unit=Currency(value=RON))\n",
       "AccountTO(id=649ea9ff-4271-43ef-86c9-cdef02238b28, name=ING Economy, unit=Currency(value=RON))\n",
       "AccountTO(id=33b2425b-d192-439c-96a7-41c2ce138516, name=Food Coupons, unit=Currency(value=RON))\n",
       "AccountTO(id=5c994909-9b74-4013-9c3d-865528d3fbb7, name=Revolut RON, unit=Currency(value=RON))\n",
       "AccountTO(id=9684dc86-aae2-4225-aca1-852a89863d27, name=Revolut EUR-RON, unit=Currency(value=RON))\n",
       "AccountTO(id=c80b775b-b410-47ca-8429-49198d8fddbc, name=Other, unit=Currency(value=RON))\n",
       "AccountTO(id=a5c7b96b-6e7e-40ac-9df7-b0e2528cf296, name=BT RON, unit=Currency(value=RON))\n",
       "AccountTO(id=3f8edfda-9c77-4db1-8b0c-aae65e3654c5, name=BT Economy RON, unit=Currency(value=RON))\n",
       "AccountTO(id=bec31414-6e5a-4edf-9140-7f424a36e701, name=BT Philocode RON, unit=Currency(value=RON))"
      ]
     },
     "execution_count": 4,
     "metadata": {},
     "output_type": "execute_result"
    }
   ],
   "execution_count": 4
  },
  {
   "metadata": {
    "ExecuteTime": {
     "end_time": "2025-07-14T06:04:38.959597Z",
     "start_time": "2025-07-14T06:04:32.997553Z"
    }
   },
   "cell_type": "code",
   "source": [
    "import ro.jf.funds.fund.api.model.*\n",
    "\n",
    "val funds = client.provisionFunds(user, client.fromYaml(File(FUNDS_YAML_FILE)))\n",
    "funds.map { it.toString() }.joinToString(separator = \"\\n\")"
   ],
   "outputs": [
    {
     "data": {
      "text/plain": [
       "FundTO(id=55df18cc-b260-40a8-98d4-9cd51a078ef9, name=Expenses)\n",
       "FundTO(id=c1f73dae-4546-41d3-94b0-290501397a62, name=Work Income)\n",
       "FundTO(id=7d9daa62-4bfd-4d83-8d7c-0481a89ff82d, name=Other Income)\n",
       "FundTO(id=dd22d501-b260-4c46-9797-0cfd26a704d3, name=Savings)"
      ]
     },
     "execution_count": 5,
     "metadata": {},
     "output_type": "execute_result"
    }
   ],
   "execution_count": 5
  },
  {
   "metadata": {
    "ExecuteTime": {
     "end_time": "2025-07-14T06:04:44.997036Z",
     "start_time": "2025-07-14T06:04:39.010126Z"
    }
   },
   "cell_type": "code",
   "source": [
    "import ro.jf.funds.fund.api.model.*\n",
    "\n",
    "val initialBalancesTransactions = client.provisionInitialBalances(user, accounts, funds, client.fromYaml(File(INITIAL_BALANCE_YAML_FILE)))\n",
    "initialBalancesTransactions.map { it.toString() }.joinToString(separator = \"\\n\")"
   ],
   "outputs": [
    {
     "data": {
      "text/plain": [
       "FundTransactionTO(id=a90e5da7-6f7b-496b-a452-b44ff8afb894, userId=2e61fc83-312d-41ce-9d68-7cb003f503b2, dateTime=2018-12-31T00:00, records=[FundRecordTO(id=53a002da-3f2c-441a-8f89-2a93d243177a, fundId=55df18cc-b260-40a8-98d4-9cd51a078ef9, accountId=9824d0dc-e6f6-4339-b8d7-7c7dfe4985f1, amount=474.5, unit=Currency(value=RON), labels=[])])\n",
       "FundTransactionTO(id=fda4518c-6874-41bd-afb5-12311fe28124, userId=2e61fc83-312d-41ce-9d68-7cb003f503b2, dateTime=2018-12-31T00:00, records=[FundRecordTO(id=f0e4582e-71f1-4a42-b22c-9e73fb4a7848, fundId=55df18cc-b260-40a8-98d4-9cd51a078ef9, accountId=33b2425b-d192-439c-96a7-41c2ce138516, amount=45.96, unit=Currency(value=RON), labels=[])])\n",
       "FundTransactionTO(id=e291ff20-6f18-498b-812e-bb2f71524379, userId=2e61fc83-312d-41ce-9d68-7cb003f503b2, dateTime=2018-12-31T00:00, records=[FundRecordTO(id=a7711e1b-954a-406a-9f22-6ea31de9c6f8, fundId=55df18cc-b260-40a8-98d4-9cd51a078ef9, accountId=c80b775b-b410-47ca-8429-49198d8fddbc, amount=3051.9, unit=Currency(value=RON), labels=[])])\n",
       "FundTransactionTO(id=b390c79f-61a9-49b0-9e06-e756f8d84e28, userId=2e61fc83-312d-41ce-9d68-7cb003f503b2, dateTime=2018-12-31T00:00, records=[FundRecordTO(id=77e34b37-4158-4a95-978d-43b8f6916160, fundId=55df18cc-b260-40a8-98d4-9cd51a078ef9, accountId=a5c7b96b-6e7e-40ac-9df7-b0e2528cf296, amount=2194.13, unit=Currency(value=RON), labels=[])])"
      ]
     },
     "execution_count": 6,
     "metadata": {},
     "output_type": "execute_result"
    }
   ],
   "execution_count": 6
  },
  {
   "metadata": {
    "ExecuteTime": {
     "end_time": "2025-07-14T06:05:18.954060Z",
     "start_time": "2025-07-14T06:04:45.055559Z"
    }
   },
   "cell_type": "code",
   "source": [
    "import ro.jf.funds.importer.api.model.*\n",
    "\n",
    "val csvFiles =\n",
    "    listOf(File(\"../../data/wallet/2019\"), File(\"../../data/wallet/2020\"), File(\"../../data/wallet/2021\"))\n",
    "        .flatMap { it.listFiles()?.toList() ?: error(\"no files found\") }\n",
    "val importTask = client.importTransactions(user, client.fromYaml(File(IMPORT_CONFIGURATION_YAML_FILE)), csvFiles)\n",
    "importTask"
   ],
   "outputs": [
    {
     "data": {
      "text/plain": [
       "ImportTaskTO(taskId=5a3c54a2-3070-4a42-a200-894d27630f7c, status=COMPLETED, reason=null)"
      ]
     },
     "execution_count": 7,
     "metadata": {},
     "output_type": "execute_result"
    }
   ],
   "execution_count": 7
  }
 ],
 "metadata": {
  "kernelspec": {
   "display_name": "Kotlin",
   "language": "kotlin",
   "name": "kotlin"
  },
  "language_info": {
   "name": "kotlin",
   "version": "1.9.23",
   "mimetype": "text/x-kotlin",
   "file_extension": ".kt",
   "pygments_lexer": "kotlin",
   "codemirror_mode": "text/x-kotlin",
   "nbconvert_exporter": ""
  },
  "ktnbPluginMetadata": {
   "projectDependencies": [
    "funds.commons-api"
   ]
  }
 },
 "nbformat": 4,
 "nbformat_minor": 0
}
