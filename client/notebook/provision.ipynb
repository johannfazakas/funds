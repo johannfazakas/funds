{
 "cells": [
  {
   "metadata": {
    "collapsed": true,
    "ExecuteTime": {
     "end_time": "2024-10-22T11:50:37.496052Z",
     "start_time": "2024-10-22T11:50:31.291730Z"
    }
   },
   "cell_type": "code",
   "source": [
    "@file:DependsOn(\"io.ktor:ktor-client-core:2.0.0\")\n",
    "@file:DependsOn(\"io.ktor:ktor-client-cio:2.0.0\")\n",
    "@file:DependsOn(\"io.ktor:ktor-client-content-negotiation:2.0.0\")\n",
    "@file:DependsOn(\"io.ktor:ktor-serialization-kotlinx-json:2.0.0\")\n",
    "@file:DependsOn(\"ro.jf.funds:import-sdk:1.0.0\")\n",
    "@file:DependsOn(\"ro.jf.funds:fund-sdk:1.0.0\")\n",
    "@file:DependsOn(\"ro.jf.funds:account-sdk:1.0.0\")\n",
    "%use dataframe\n",
    "\n",
    "import ro.jf.bk.account.sdk.AccountSdk\n",
    "import ro.jf.bk.fund.sdk.FundSdk\n",
    "import ro.jf.funds.importer.sdk.ImportSdk\n",
    "import java.util.UUID.randomUUID\n",
    "\n",
    "val ACCOUNTS_CSV_FILE = \"../../data/provision/accounts.csv\"\n",
    "val FUNDS_CSV_FILE = \"../../data/provision/funds.csv\"\n",
    "val ACCOUNT_MATCHERS_CSV_FILE = \"../../data/provision/account-matchers.csv\"\n",
    "val FUND_MATCHERS_CSV_FILE = \"../../data/provision/fund-matchers.csv\"\n",
    "\n",
    "// TODO(Johann) create a user\n",
    "val userId = randomUUID()\n",
    "\n",
    "val accountSdk = AccountSdk()\n",
    "val fundSdk = FundSdk()\n",
    "val importSdk = ImportSdk()"
   ],
   "outputs": [],
   "execution_count": 1
  },
  {
   "metadata": {
    "ExecuteTime": {
     "end_time": "2024-10-22T11:50:55.365175Z",
     "start_time": "2024-10-22T11:50:51.998740Z"
    }
   },
   "cell_type": "code",
   "source": [
    "import ro.jf.bk.account.api.model.*\n",
    "import kotlinx.coroutines.runBlocking\n",
    "\n",
    "val accounts = runBlocking {\n",
    "    val existingAccounts = accountSdk.listAccounts(userId)\n",
    "    val existingAccountNames = existingAccounts.map { it.name }.toSet()\n",
    "    val newAccounts = DataFrame.readCSV(ACCOUNTS_CSV_FILE, delimiter = ';')\n",
    "        .map { row -> CreateCurrencyAccountTO(AccountName(row.getValue<String>(\"account\")), row.getValue<String>(\"currency\")) }\n",
    "        .filter { it.name !in existingAccountNames }\n",
    "        .map { accountSdk.createAccount(userId, it) }\n",
    "    existingAccounts + newAccounts\n",
    "}\n",
    "accounts.map { it.toString() }.joinToString(separator = \"\\n\")"
   ],
   "outputs": [
    {
     "data": {
      "text/plain": [
       "Currency(id=417e4a3d-dd5c-426f-93fc-439e99ba5f10, name=Cash RON, currency=Cash RON)\n",
       "Currency(id=c2cec713-f904-49dd-b9d0-4212ba7801fc, name=ING RON, currency=RON)\n",
       "Currency(id=fadbeda7-9f36-4961-9f05-3c364a79d61f, name=ING Economy, currency=RON)\n",
       "Currency(id=3aa7ace9-6737-4bda-8700-cdf2ac847f5b, name=Food Coupons, currency=RON)"
      ]
     },
     "execution_count": 3,
     "metadata": {},
     "output_type": "execute_result"
    }
   ],
   "execution_count": 3
  },
  {
   "metadata": {
    "ExecuteTime": {
     "end_time": "2024-10-22T11:51:09.607269Z",
     "start_time": "2024-10-22T11:51:06.617135Z"
    }
   },
   "cell_type": "code",
   "source": [
    "import ro.jf.bk.fund.api.model.*\n",
    "import kotlinx.coroutines.runBlocking\n",
    "\n",
    "val funds = runBlocking {\n",
    "    // TODO(Johann) fix npe on get existing funds without accounts\n",
    "    val existingFunds = fundSdk.listFunds(userId)\n",
    "    val existingFundNames = existingFunds.map { it.name }.toSet()\n",
    "    val newFunds = DataFrame.readCSV(FUNDS_CSV_FILE, delimiter = ';')\n",
    "        .map { row -> CreateFundTO(FundName(row.getValue<String>(\"fund\"))) }\n",
    "        .filter { it.name !in existingFundNames }\n",
    "        .map { fundSdk.createFund(userId, it) }\n",
    "    existingFunds + newFunds\n",
    "}\n",
    "funds.map { it.toString() }.joinToString(separator = \"\\n\")"
   ],
   "outputs": [
    {
     "data": {
      "text/plain": [
       "FundTO(id=ef8df6f9-57b1-44ba-a47c-5ab8d398c8b3, name=Expenses)\n",
       "FundTO(id=58eaee62-34a1-4c59-b704-3b54ab39a843, name=Programming)\n",
       "FundTO(id=4e94df92-cd04-43b3-bdf9-d9a13442da75, name=Savings)"
      ]
     },
     "execution_count": 5,
     "metadata": {},
     "output_type": "execute_result"
    }
   ],
   "execution_count": 5
  },
  {
   "metadata": {
    "ExecuteTime": {
     "end_time": "2024-10-22T11:51:11.487016Z",
     "start_time": "2024-10-22T11:51:11.187301Z"
    }
   },
   "cell_type": "code",
   "source": [
    "import ro.jf.funds.importer.api.model.AccountMatcherTO\n",
    "\n",
    "val accountMatchers = runBlocking {\n",
    "    DataFrame.readCSV(ACCOUNT_MATCHERS_CSV_FILE, delimiter = ';')\n",
    "        .map { row -> AccountMatcherTO(row.getValue<String>(\"import_account_name\"), AccountName(row.getValue<String>(\"account_name\"))) }\n",
    "}\n",
    "accountMatchers.map { it.toString() }.joinToString(separator = \"\\n\")"
   ],
   "outputs": [
    {
     "data": {
      "text/plain": [
       "AccountMatcherTO(importAccountName=ING old, accountName=ING RON)\n",
       "AccountMatcherTO(importAccountName=ING Economy old, accountName=ING Economy)\n",
       "AccountMatcherTO(importAccountName=Cash RON, accountName=Cash RON)\n",
       "AccountMatcherTO(importAccountName=Food Coupons, accountName=Food Coupons)\n",
       "AccountMatcherTO(importAccountName=Revolut - Manual, accountName=Revolut RON)"
      ]
     },
     "execution_count": 6,
     "metadata": {},
     "output_type": "execute_result"
    }
   ],
   "execution_count": 6
  },
  {
   "metadata": {
    "ExecuteTime": {
     "end_time": "2024-10-22T11:51:15.251562Z",
     "start_time": "2024-10-22T11:51:14.920274Z"
    }
   },
   "cell_type": "code",
   "source": [
    "import ro.jf.funds.importer.api.model.*\n",
    "\n",
    "val fundMatchers = runBlocking {\n",
    "    DataFrame.readCSV(FUND_MATCHERS_CSV_FILE, delimiter = ';')\n",
    "        .map { row ->\n",
    "            when (row.getValue<String>(\"type\")) {\n",
    "                \"by_account\" -> FundMatcherTO.ByAccount(\n",
    "                    importAccountName = row.getValue<String>(\"import_account_name\"),\n",
    "                    fundName = FundName(row.getValue<String>(\"fund_name\"))\n",
    "                )\n",
    "                \n",
    "                \"by_label\" -> FundMatcherTO.ByLabel(\n",
    "                    importLabel = row.getValue<String>(\"import_label\"),\n",
    "                    fundName = FundName(row.getValue<String>(\"fund_name\"))\n",
    "                )\n",
    "\n",
    "                \"by_account_label\" -> FundMatcherTO.ByAccountLabel(\n",
    "                    importAccountName = row.getValue<String>(\"import_account_name\"),\n",
    "                    importLabel = row.getValue<String>(\"import_label\"),\n",
    "                    fundName = FundName(row.getValue<String>(\"fund_name\"))\n",
    "                )\n",
    "\n",
    "                \"by_account_label_with_transfer\" -> FundMatcherTO.ByAccountLabelWithTransfer(\n",
    "                    importAccountName = row.getValue<String>(\"import_account_name\"),\n",
    "                    importLabel = row.getValue<String>(\"import_label\"),\n",
    "                    initialFundName = FundName(row.getValue<String>(\"initial_fund_name\")),\n",
    "                    fundName = FundName(row.getValue<String>(\"fund_name\"))\n",
    "                )\n",
    "\n",
    "                else -> error(\"fund matcher type not recognized ${row.getValue<String>(\"type\")}\")\n",
    "            }\n",
    "        }\n",
    "}\n",
    "fundMatchers.map { it.toString() }.joinToString(separator = \"\\n\")"
   ],
   "outputs": [
    {
     "data": {
      "text/plain": [
       "ByAccountLabelWithTransfer(importAccountName=ING Economy old, importLabel=Invest Profit Acc, initialFundName=Savings, fundName=Expenses)\n",
       "ByAccountLabelWithTransfer(importAccountName=ING old, importLabel=Work Income, initialFundName=Programming, fundName=Expenses)\n",
       "ByAccountLabelWithTransfer(importAccountName=Food Coupons, importLabel=Work Income, initialFundName=Programming, fundName=Expenses)\n",
       "ByLabel(importLabel=Basic - Food, fundName=Expenses)\n",
       "ByLabel(importLabel=C&T - Gas & Parking, fundName=Expenses)\n",
       "ByLabel(importLabel=Development - Education, fundName=Expenses)\n",
       "ByLabel(importLabel=F&V - Fun, fundName=Expenses)\n",
       "ByLabel(importLabel=S&S - Objects, fundName=Expenses)\n",
       "ByLabel(importLabel=Home - House, fundName=Expenses)\n",
       "ByLabel(importLabel=Gifts, fundName=Expenses)\n",
       "ByAccount(importAccountName=ING old, fundName=Expenses)\n",
       "ByAccount(importAccountName=ING Economy old, fundName=Expenses)\n",
       "ByAccount(importAccountName=Cash RON, fundName=Expenses)"
      ]
     },
     "execution_count": 7,
     "metadata": {},
     "output_type": "execute_result"
    }
   ],
   "execution_count": 7
  },
  {
   "metadata": {
    "ExecuteTime": {
     "end_time": "2024-10-22T11:51:21.691789Z",
     "start_time": "2024-10-22T11:51:18.926470Z"
    }
   },
   "cell_type": "code",
   "source": [
    "import kotlinx.coroutines.runBlocking\n",
    "import ro.jf.funds.importer.api.model.*\n",
    "import java.io.File\n",
    "import java.util.*\n",
    "\n",
    "val csvFiles = listOf(\n",
    "    File(\"../../data/wallet/2019/wallet_export_2019_01.csv\"),\n",
    "    File(\"../../data/wallet/2019/wallet_export_2019_02.csv\")\n",
    ")\n",
    "val importConfiguration = ImportConfigurationTO(\n",
    "    fileType = ImportFileTypeTO.WALLET_CSV,\n",
    "    accountMatchers = accountMatchers,\n",
    "    fundMatchers = fundMatchers\n",
    ")\n",
    "// TODO(Johann) fix npe on import\n",
    "val response = runBlocking { importSdk.import(userId, importConfiguration, csvFiles) }\n",
    "response"
   ],
   "outputs": [
    {
     "ename": "ro.jf.funds.importer.api.model.exception.ImportApiException.Generic",
     "evalue": "Internal error.",
     "output_type": "error",
     "traceback": [
      "ro.jf.funds.importer.api.model.exception.ImportApiException$Generic: Internal error.",
      "\tat ro.jf.funds.importer.sdk.ImportSdk.import(ImportSdk.kt:68)",
      "\tat ro.jf.funds.importer.sdk.ImportSdk$import$2.invokeSuspend(ImportSdk.kt)",
      "\tat kotlin.coroutines.jvm.internal.BaseContinuationImpl.resumeWith(ContinuationImpl.kt:33)",
      "\tat kotlinx.coroutines.DispatchedTask.run(DispatchedTask.kt:106)",
      "\tat kotlinx.coroutines.EventLoopImplBase.processNextEvent(EventLoop.common.kt:274)",
      "\tat kotlinx.coroutines.BlockingCoroutine.joinBlocking(Builders.kt:85)",
      "\tat kotlinx.coroutines.BuildersKt__BuildersKt.runBlocking(Builders.kt:59)",
      "\tat kotlinx.coroutines.BuildersKt.runBlocking(Unknown Source)",
      "\tat kotlinx.coroutines.BuildersKt__BuildersKt.runBlocking$default(Builders.kt:38)",
      "\tat kotlinx.coroutines.BuildersKt.runBlocking$default(Unknown Source)",
      "\tat Line_13_jupyter.<init>(Line_13.jupyter.kts:16) at Cell In[8], line 16",
      "\tat java.base/jdk.internal.reflect.NativeConstructorAccessorImpl.newInstance0(Native Method)",
      "\tat java.base/jdk.internal.reflect.NativeConstructorAccessorImpl.newInstance(NativeConstructorAccessorImpl.java:77)",
      "\tat java.base/jdk.internal.reflect.DelegatingConstructorAccessorImpl.newInstance(DelegatingConstructorAccessorImpl.java:45)",
      "\tat java.base/java.lang.reflect.Constructor.newInstanceWithCaller(Constructor.java:499)",
      "\tat java.base/java.lang.reflect.Constructor.newInstance(Constructor.java:480)",
      "\tat kotlin.script.experimental.jvm.BasicJvmScriptEvaluator.evalWithConfigAndOtherScriptsResults(BasicJvmScriptEvaluator.kt:122)",
      "\tat kotlin.script.experimental.jvm.BasicJvmScriptEvaluator.invoke$suspendImpl(BasicJvmScriptEvaluator.kt:48)",
      "\tat kotlin.script.experimental.jvm.BasicJvmScriptEvaluator.invoke(BasicJvmScriptEvaluator.kt)",
      "\tat kotlin.script.experimental.jvm.BasicJvmReplEvaluator.eval(BasicJvmReplEvaluator.kt:49)",
      "\tat org.jetbrains.kotlinx.jupyter.repl.impl.InternalEvaluatorImpl$eval$resultWithDiagnostics$1.invokeSuspend(InternalEvaluatorImpl.kt:133)",
      "\tat kotlin.coroutines.jvm.internal.BaseContinuationImpl.resumeWith(ContinuationImpl.kt:33)",
      "\tat kotlinx.coroutines.DispatchedTask.run(DispatchedTask.kt:104)",
      "\tat kotlinx.coroutines.EventLoopImplBase.processNextEvent(EventLoop.common.kt:277)",
      "\tat kotlinx.coroutines.BlockingCoroutine.joinBlocking(Builders.kt:95)",
      "\tat kotlinx.coroutines.BuildersKt__BuildersKt.runBlocking(Builders.kt:69)",
      "\tat kotlinx.coroutines.BuildersKt.runBlocking(Unknown Source)",
      "\tat kotlinx.coroutines.BuildersKt__BuildersKt.runBlocking$default(Builders.kt:48)",
      "\tat kotlinx.coroutines.BuildersKt.runBlocking$default(Unknown Source)",
      "\tat org.jetbrains.kotlinx.jupyter.repl.impl.InternalEvaluatorImpl.eval(InternalEvaluatorImpl.kt:133)",
      "\tat org.jetbrains.kotlinx.jupyter.repl.impl.CellExecutorImpl$execute$1$result$1.invoke(CellExecutorImpl.kt:80)",
      "\tat org.jetbrains.kotlinx.jupyter.repl.impl.CellExecutorImpl$execute$1$result$1.invoke(CellExecutorImpl.kt:78)",
      "\tat org.jetbrains.kotlinx.jupyter.repl.impl.ReplForJupyterImpl.withHost(ReplForJupyterImpl.kt:762)",
      "\tat org.jetbrains.kotlinx.jupyter.repl.impl.CellExecutorImpl.execute-L4Nmkdk(CellExecutorImpl.kt:78)",
      "\tat org.jetbrains.kotlinx.jupyter.repl.execution.CellExecutor$DefaultImpls.execute-L4Nmkdk$default(CellExecutor.kt:13)",
      "\tat org.jetbrains.kotlinx.jupyter.repl.impl.ReplForJupyterImpl.evaluateUserCode-wNURfNM(ReplForJupyterImpl.kt:585)",
      "\tat org.jetbrains.kotlinx.jupyter.repl.impl.ReplForJupyterImpl.access$evaluateUserCode-wNURfNM(ReplForJupyterImpl.kt:138)",
      "\tat org.jetbrains.kotlinx.jupyter.repl.impl.ReplForJupyterImpl$evalEx$1.invoke(ReplForJupyterImpl.kt:442)",
      "\tat org.jetbrains.kotlinx.jupyter.repl.impl.ReplForJupyterImpl$evalEx$1.invoke(ReplForJupyterImpl.kt:439)",
      "\tat org.jetbrains.kotlinx.jupyter.repl.impl.ReplForJupyterImpl.withEvalContext(ReplForJupyterImpl.kt:420)",
      "\tat org.jetbrains.kotlinx.jupyter.repl.impl.ReplForJupyterImpl.evalEx(ReplForJupyterImpl.kt:439)",
      "\tat org.jetbrains.kotlinx.jupyter.messaging.IdeCompatibleMessageRequestProcessor$processExecuteRequest$1$response$1$1.invoke(IdeCompatibleMessageRequestProcessor.kt:136)",
      "\tat org.jetbrains.kotlinx.jupyter.messaging.IdeCompatibleMessageRequestProcessor$processExecuteRequest$1$response$1$1.invoke(IdeCompatibleMessageRequestProcessor.kt:135)",
      "\tat org.jetbrains.kotlinx.jupyter.execution.JupyterExecutorImpl$Task.execute(JupyterExecutorImpl.kt:42)",
      "\tat org.jetbrains.kotlinx.jupyter.execution.JupyterExecutorImpl$executorThread$1.invoke(JupyterExecutorImpl.kt:82)",
      "\tat org.jetbrains.kotlinx.jupyter.execution.JupyterExecutorImpl$executorThread$1.invoke(JupyterExecutorImpl.kt:80)",
      "\tat kotlin.concurrent.ThreadsKt$thread$thread$1.run(Thread.kt:30)",
      "",
      "ro.jf.funds.importer.api.model.exception.ImportApiException.Generic: Internal error.",
      "at Cell In[8], line 16",
      ""
     ]
    }
   ],
   "execution_count": 8
  },
  {
   "metadata": {},
   "cell_type": "markdown",
   "source": ""
  }
 ],
 "metadata": {
  "kernelspec": {
   "display_name": "Kotlin",
   "language": "kotlin",
   "name": "kotlin"
  },
  "language_info": {
   "name": "kotlin",
   "version": "1.9.23",
   "mimetype": "text/x-kotlin",
   "file_extension": ".kt",
   "pygments_lexer": "kotlin",
   "codemirror_mode": "text/x-kotlin",
   "nbconvert_exporter": ""
  }
 },
 "nbformat": 4,
 "nbformat_minor": 0
}
