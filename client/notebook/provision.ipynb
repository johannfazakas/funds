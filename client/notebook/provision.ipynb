{
 "cells": [
  {
   "metadata": {
    "ExecuteTime": {
     "end_time": "2025-09-03T07:03:13.481158Z",
     "start_time": "2025-09-03T07:03:08.672328Z"
    }
   },
   "cell_type": "code",
   "source": [
    "@file:DependsOn(\"ro.jf.funds:funds-notebook-client:1.0.0\")\n",
    "%use dataframe\n",
    "\n",
    "import ro.jf.funds.client.notebook.*\n",
    "\n",
    "val username = \"Johann-52.0\"\n",
    "\n",
    "val client = FundsClient()\n"
   ],
   "outputs": [],
   "execution_count": 9
  },
  {
   "metadata": {
    "ExecuteTime": {
     "end_time": "2025-09-03T07:03:13.776390Z",
     "start_time": "2025-09-03T07:03:13.489909Z"
    }
   },
   "cell_type": "code",
   "source": [
    "val user = client.ensureUserExists(username)\n",
    "user"
   ],
   "outputs": [
    {
     "data": {
      "text/plain": [
       "UserTO(id=a5bb0301-0d49-4b10-a161-628b4bb7d9e3, username=Johann-52.0)"
      ]
     },
     "execution_count": 10,
     "metadata": {},
     "output_type": "execute_result"
    }
   ],
   "execution_count": 10
  },
  {
   "metadata": {
    "collapsed": true,
    "ExecuteTime": {
     "end_time": "2025-09-03T07:03:13.816473Z",
     "start_time": "2025-09-03T07:03:13.787275Z"
    }
   },
   "cell_type": "code",
   "source": [
    "val ACCOUNTS_YAML_FILE = \"../../data/provision/accounts.yaml\"\n",
    "val FUNDS_YAML_FILE = \"../../data/provision/funds.yaml\"\n",
    "val INITIAL_BALANCE_YAML_FILE = \"../../data/provision/initial-balance.yaml\"\n",
    "val IMPORT_CONFIGURATION_JSON_FILE = \"../../data/provision/import-configuration.json\"\n",
    "val WALLET_IMPORT_CONFIGURATION_YAML_FILE = \"../../data/provision/wallet-import-configuration.yaml\"\n",
    "val INVESTMENT_IMPORT_CONFIGURATION_YAML_FILE = \"../../data/provision/investment-import-configuration.yaml\""
   ],
   "outputs": [],
   "execution_count": 11
  },
  {
   "metadata": {
    "ExecuteTime": {
     "end_time": "2025-09-03T07:03:15.546610Z",
     "start_time": "2025-09-03T07:03:13.842282Z"
    }
   },
   "cell_type": "code",
   "source": [
    "import ro.jf.funds.account.api.model.*\n",
    "\n",
    "val accounts = client.provisionAccounts(user, client.fromYaml(File(ACCOUNTS_YAML_FILE)))\n",
    "accounts.map { it.toString() }.joinToString(separator = \"\\n\")"
   ],
   "outputs": [
    {
     "data": {
      "text/plain": [
       "AccountTO(id=761e8290-2b8c-41be-b1b5-1397c654c39d, name=Cash RON, unit=Currency(value=RON))\n",
       "AccountTO(id=50cb8485-6b13-4676-a48b-274a0d291d0a, name=Cash EUR, unit=Currency(value=EUR))\n",
       "AccountTO(id=701f5adb-7314-4e75-9ad6-c09f81803977, name=Cash EUR-RON, unit=Currency(value=RON))\n",
       "AccountTO(id=e7966bb1-b8d2-41e4-9582-a4b5a35aeb9d, name=ING RON, unit=Currency(value=RON))\n",
       "AccountTO(id=5429971e-effe-4ddf-8969-a0d18a38f5fd, name=ING Economy, unit=Currency(value=RON))\n",
       "AccountTO(id=44e3cb99-0dfd-48ea-9b31-b397d250ad6b, name=Food Coupons, unit=Currency(value=RON))\n",
       "AccountTO(id=cb2ae92a-8b75-4db0-a11d-e2d20ee3ba56, name=Revolut RON, unit=Currency(value=RON))\n",
       "AccountTO(id=a16c7009-7a13-4626-82b5-d6595be4baf4, name=Revolut EUR-RON, unit=Currency(value=RON))\n",
       "AccountTO(id=97c9c65a-3f12-4190-a67e-07ee69128a7b, name=Other, unit=Currency(value=RON))\n",
       "AccountTO(id=f35f0d03-8a5b-47e4-9239-ac1d2c068848, name=BT RON, unit=Currency(value=RON))\n",
       "AccountTO(id=69a455e9-f5f7-4b73-9b0a-c60d4080d465, name=BT CC, unit=Currency(value=RON))\n",
       "AccountTO(id=b19bf367-1fb4-41eb-998f-129b3f7c16ea, name=BT EUR-RON, unit=Currency(value=RON))\n",
       "AccountTO(id=cc38e731-39b1-4378-b041-61badeb742fe, name=BT Economy RON, unit=Currency(value=RON))\n",
       "AccountTO(id=1664f28e-d207-410e-bde9-dad59d278230, name=BT Depozit RON, unit=Currency(value=RON))\n",
       "AccountTO(id=e251125c-3ac7-469c-a161-00e98bdb1c1a, name=BT Philocode RON, unit=Currency(value=RON))\n",
       "AccountTO(id=1729b4a4-c89c-44e4-ae1d-b5163c28d3c9, name=XTB EUR, unit=Currency(value=EUR))\n",
       "AccountTO(id=8ffad2f4-e82d-4eee-b8e9-cc76cb0fbaec, name=XTB EUNL, unit=Symbol(value=EUNL))\n",
       "AccountTO(id=d2221d6f-0e9d-4b0f-9a73-3b4bd08cf2bf, name=XTB QDVE, unit=Symbol(value=QDVE))\n",
       "AccountTO(id=872ea25d-3f2b-423b-a49b-702244d54722, name=XTB IMAE, unit=Symbol(value=IMAE))\n",
       "AccountTO(id=7858fc9f-3a3c-469a-8da2-c8d5ae29e48d, name=XTB IS3N, unit=Symbol(value=IS3N))\n",
       "AccountTO(id=653a2c20-a955-48b1-bdc0-19e3132a81b5, name=XTB SXR8, unit=Symbol(value=SXR8))\n",
       "AccountTO(id=b8c24250-dcf6-435e-81e1-217f65e90bc9, name=XTB SUSW, unit=Symbol(value=SUSW))"
      ]
     },
     "execution_count": 12,
     "metadata": {},
     "output_type": "execute_result"
    }
   ],
   "execution_count": 12
  },
  {
   "metadata": {
    "ExecuteTime": {
     "end_time": "2025-09-03T07:03:16.846866Z",
     "start_time": "2025-09-03T07:03:15.604232Z"
    }
   },
   "cell_type": "code",
   "source": [
    "import ro.jf.funds.fund.api.model.*\n",
    "\n",
    "val funds = client.provisionFunds(user, client.fromYaml(File(FUNDS_YAML_FILE)))\n",
    "funds.map { it.toString() }.joinToString(separator = \"\\n\")"
   ],
   "outputs": [
    {
     "data": {
      "text/plain": [
       "FundTO(id=3e93b5fb-461b-40af-9151-6071fe99f47d, name=Expenses)\n",
       "FundTO(id=03e9602a-4dc0-49b2-bf9d-8d1e114e4942, name=Work Income)\n",
       "FundTO(id=a5f68bbc-2f8c-456e-b24d-3e31a637835b, name=Other Income)\n",
       "FundTO(id=0a015ca2-7a18-4c01-890b-bcb35aeed5b2, name=Savings)\n",
       "FundTO(id=aec9e23d-50ec-44ff-a7b3-1f4253d1489a, name=Investments)"
      ]
     },
     "execution_count": 13,
     "metadata": {},
     "output_type": "execute_result"
    }
   ],
   "execution_count": 13
  },
  {
   "metadata": {
    "ExecuteTime": {
     "end_time": "2025-09-03T07:03:19.030242Z",
     "start_time": "2025-09-03T07:03:16.881441Z"
    }
   },
   "cell_type": "code",
   "source": [
    "import ro.jf.funds.fund.api.model.*\n",
    "\n",
    "val initialBalancesTransactions = client.provisionInitialBalances(user, accounts, funds, client.fromYaml(File(INITIAL_BALANCE_YAML_FILE)))\n",
    "initialBalancesTransactions.map { it.toString() }.joinToString(separator = \"\\n\")"
   ],
   "outputs": [
    {
     "data": {
      "text/plain": [
       "FundTransactionTO(id=7081a438-fd61-455e-808a-0b51f3e9b6a7, userId=a5bb0301-0d49-4b10-a161-628b4bb7d9e3, dateTime=2018-12-31T00:00, records=[FundRecordTO(id=c87852af-854b-491d-9a86-50688f4f2868, fundId=3e93b5fb-461b-40af-9151-6071fe99f47d, accountId=761e8290-2b8c-41be-b1b5-1397c654c39d, amount=553.5, unit=Currency(value=RON), labels=[])])\n",
       "FundTransactionTO(id=99693083-5b85-4879-a8a2-f30f4258e073, userId=a5bb0301-0d49-4b10-a161-628b4bb7d9e3, dateTime=2018-12-31T00:00, records=[FundRecordTO(id=55a41003-7ed1-42c5-b456-069d8570caea, fundId=3e93b5fb-461b-40af-9151-6071fe99f47d, accountId=44e3cb99-0dfd-48ea-9b31-b397d250ad6b, amount=45.96, unit=Currency(value=RON), labels=[])])\n",
       "FundTransactionTO(id=881d4c63-6d9e-466b-be95-f490ef824000, userId=a5bb0301-0d49-4b10-a161-628b4bb7d9e3, dateTime=2018-12-31T00:00, records=[FundRecordTO(id=d5e62706-34e7-4c1f-a7ca-303c83c8354a, fundId=3e93b5fb-461b-40af-9151-6071fe99f47d, accountId=97c9c65a-3f12-4190-a67e-07ee69128a7b, amount=3051.9, unit=Currency(value=RON), labels=[])])\n",
       "FundTransactionTO(id=68062616-94dd-4eae-b914-ca57eb07a12d, userId=a5bb0301-0d49-4b10-a161-628b4bb7d9e3, dateTime=2018-12-31T00:00, records=[FundRecordTO(id=5257d2cf-aab8-437c-9fe3-6ff51a7939ac, fundId=3e93b5fb-461b-40af-9151-6071fe99f47d, accountId=f35f0d03-8a5b-47e4-9239-ac1d2c068848, amount=7708.46, unit=Currency(value=RON), labels=[])])\n",
       "FundTransactionTO(id=d7c857b7-2998-4da5-94b7-70ffa6f7e1e3, userId=a5bb0301-0d49-4b10-a161-628b4bb7d9e3, dateTime=2018-12-31T00:00, records=[FundRecordTO(id=ed18bb02-695a-454c-98c9-6c161deca294, fundId=3e93b5fb-461b-40af-9151-6071fe99f47d, accountId=e7966bb1-b8d2-41e4-9582-a4b5a35aeb9d, amount=-3037.15, unit=Currency(value=RON), labels=[])])"
      ]
     },
     "execution_count": 14,
     "metadata": {},
     "output_type": "execute_result"
    }
   ],
   "execution_count": 14
  },
  {
   "metadata": {
    "ExecuteTime": {
     "end_time": "2025-09-03T07:03:29.879551Z",
     "start_time": "2025-09-03T07:03:19.059768Z"
    }
   },
   "cell_type": "code",
   "source": [
    "\n",
    "val investmentCsvFiles =\n",
    "    listOf(2022, 2023)\n",
    "        .map { year -> File(\"../../data/investment/$year\") }\n",
    "        .flatMap { it.listFiles()?.toList() ?: error(\"no files found\") }\n",
    "val importTask = client.importTransactions(user, client.fromYaml(File(INVESTMENT_IMPORT_CONFIGURATION_YAML_FILE)), investmentCsvFiles)\n",
    "importTask"
   ],
   "outputs": [
    {
     "data": {
      "text/plain": [
       "ImportTaskTO(taskId=4d8158a6-b227-4138-8eda-b43e06d470a7, status=COMPLETED, reason=null)"
      ]
     },
     "execution_count": 15,
     "metadata": {},
     "output_type": "execute_result"
    }
   ],
   "execution_count": 15
  },
  {
   "metadata": {
    "ExecuteTime": {
     "end_time": "2025-09-03T07:03:46.797130Z",
     "start_time": "2025-09-03T07:03:30.096437Z"
    }
   },
   "cell_type": "code",
   "source": [
    "import ro.jf.funds.importer.api.model.*\n",
    "\n",
    "val csvFiles =\n",
    "    listOf(2019, 2020, 2021, 2022, 2023)\n",
    "        .map { year -> File(\"../../data/wallet/$year\")}\n",
    "        .flatMap { it.listFiles()?.toList() ?: error(\"no files found\") }\n",
    "val importTask = client.importTransactions(user, client.fromYaml(File(WALLET_IMPORT_CONFIGURATION_YAML_FILE)), csvFiles)\n",
    "importTask"
   ],
   "outputs": [
    {
     "data": {
      "text/plain": [
       "ImportTaskTO(taskId=c48e8f52-ec84-4f22-a62f-20bbafec28ec, status=COMPLETED, reason=null)"
      ]
     },
     "execution_count": 16,
     "metadata": {},
     "output_type": "execute_result"
    }
   ],
   "execution_count": 16
  }
 ],
 "metadata": {
  "kernelspec": {
   "display_name": "Kotlin",
   "language": "kotlin",
   "name": "kotlin"
  },
  "language_info": {
   "name": "kotlin",
   "version": "1.9.23",
   "mimetype": "text/x-kotlin",
   "file_extension": ".kt",
   "pygments_lexer": "kotlin",
   "codemirror_mode": "text/x-kotlin",
   "nbconvert_exporter": ""
  },
  "ktnbPluginMetadata": {
   "projectDependencies": [
    "funds.commons-api"
   ]
  }
 },
 "nbformat": 4,
 "nbformat_minor": 0
}
