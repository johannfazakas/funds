{
 "cells": [
  {
   "metadata": {
    "ExecuteTime": {
     "end_time": "2025-07-02T06:57:59.960459Z",
     "start_time": "2025-07-02T06:57:55.552753Z"
    }
   },
   "cell_type": "code",
   "source": [
    "@file:DependsOn(\"ro.jf.funds:funds-notebook-client:1.0.0\")\n",
    "%use dataframe\n",
    "\n",
    "import ro.jf.funds.client.notebook.*\n",
    "\n",
    "val username = \"Johann-30.5\"\n",
    "\n",
    "val client = FundsClient()\n"
   ],
   "outputs": [],
   "execution_count": 15
  },
  {
   "metadata": {
    "ExecuteTime": {
     "end_time": "2025-07-02T06:58:00.880189Z",
     "start_time": "2025-07-02T06:57:59.982170Z"
    }
   },
   "cell_type": "code",
   "source": [
    "val user = client.ensureUserExists(username)\n",
    "user"
   ],
   "outputs": [
    {
     "data": {
      "text/plain": [
       "UserTO(id=155edc73-edfb-4e6f-b91e-e891df752957, username=Johann-30.5)"
      ]
     },
     "execution_count": 16,
     "metadata": {},
     "output_type": "execute_result"
    }
   ],
   "execution_count": 16
  },
  {
   "metadata": {
    "collapsed": true,
    "ExecuteTime": {
     "end_time": "2025-07-02T06:58:00.933513Z",
     "start_time": "2025-07-02T06:58:00.891305Z"
    }
   },
   "cell_type": "code",
   "source": [
    "val ACCOUNTS_YAML_FILE = \"../../data/provision/accounts.yaml\"\n",
    "val FUNDS_YAML_FILE = \"../../data/provision/funds.yaml\"\n",
    "val INITIAL_BALANCE_YAML_FILE = \"../../data/provision/initial-balance.yaml\"\n",
    "val IMPORT_CONFIGURATION_JSON_FILE = \"../../data/provision/import-configuration.json\"\n",
    "val IMPORT_CONFIGURATION_YAML_FILE = \"../../data/provision/import-configuration.yaml\"\n"
   ],
   "outputs": [],
   "execution_count": 17
  },
  {
   "metadata": {
    "ExecuteTime": {
     "end_time": "2025-07-02T06:58:04.034889Z",
     "start_time": "2025-07-02T06:58:00.944264Z"
    }
   },
   "cell_type": "code",
   "source": [
    "import ro.jf.funds.account.api.model.*\n",
    "\n",
    "val accounts = client.provisionAccounts(user, client.fromYaml(File(ACCOUNTS_YAML_FILE)))\n",
    "accounts.map { it.toString() }.joinToString(separator = \"\\n\")"
   ],
   "outputs": [
    {
     "data": {
      "text/plain": [
       "AccountTO(id=0b706c5f-ea74-41f7-940d-0dd70b46f57b, name=Cash RON, unit=Currency(value=RON))\n",
       "AccountTO(id=bf2a0f62-8b62-4f1f-a5de-5549c5292e42, name=Cash EUR, unit=Currency(value=EUR))\n",
       "AccountTO(id=a4344802-ccb6-4ef8-b1a0-db306303a4c5, name=ING RON, unit=Currency(value=RON))\n",
       "AccountTO(id=5628c75f-c85d-4d52-a184-96077182b148, name=ING Economy, unit=Currency(value=RON))\n",
       "AccountTO(id=2143404c-d130-43ae-a18d-299796b28ab1, name=Food Coupons, unit=Currency(value=RON))\n",
       "AccountTO(id=0c1c6cff-87a4-4aca-b79b-47086f65cf11, name=Revolut RON, unit=Currency(value=RON))\n",
       "AccountTO(id=02f718d4-2a89-43e3-a280-4d6a0f2362b4, name=Other, unit=Currency(value=RON))\n",
       "AccountTO(id=cd4a08fb-49c6-45b6-abbf-c6cc1a1e40f3, name=BT RON, unit=Currency(value=RON))\n",
       "AccountTO(id=39fc21a7-ee48-4ebc-8b3e-b2eaec05c37f, name=BT Economy RON, unit=Currency(value=RON))\n",
       "AccountTO(id=4d7a480e-8579-4f35-b84e-9efe257df346, name=BT Philocode RON, unit=Currency(value=RON))"
      ]
     },
     "execution_count": 18,
     "metadata": {},
     "output_type": "execute_result"
    }
   ],
   "execution_count": 18
  },
  {
   "metadata": {
    "ExecuteTime": {
     "end_time": "2025-07-02T06:58:05.626869Z",
     "start_time": "2025-07-02T06:58:04.085772Z"
    }
   },
   "cell_type": "code",
   "source": [
    "import ro.jf.funds.fund.api.model.*\n",
    "\n",
    "val funds = client.provisionFunds(user, client.fromYaml(File(FUNDS_YAML_FILE)))\n",
    "funds.map { it.toString() }.joinToString(separator = \"\\n\")"
   ],
   "outputs": [
    {
     "data": {
      "text/plain": [
       "FundTO(id=b02229cf-7bc2-4a1d-a47a-84644d34aaf2, name=Expenses)\n",
       "FundTO(id=a18949b2-ffd3-4365-a2e2-e6a8a8337392, name=Work Income)\n",
       "FundTO(id=12bdd296-e134-4b2a-8832-2b9d883ff6ab, name=Savings)\n",
       "FundTO(id=94916726-7227-44b9-8ba2-4ab968b98362, name=Gifts)"
      ]
     },
     "execution_count": 19,
     "metadata": {},
     "output_type": "execute_result"
    }
   ],
   "execution_count": 19
  },
  {
   "metadata": {
    "ExecuteTime": {
     "end_time": "2025-07-02T06:58:07.765322Z",
     "start_time": "2025-07-02T06:58:05.635664Z"
    }
   },
   "cell_type": "code",
   "source": [
    "import ro.jf.funds.fund.api.model.*\n",
    "\n",
    "val initialBalancesTransactions = client.provisionInitialBalances(user, accounts, funds, client.fromYaml(File(INITIAL_BALANCE_YAML_FILE)))\n",
    "initialBalancesTransactions.map { it.toString() }.joinToString(separator = \"\\n\")"
   ],
   "outputs": [
    {
     "data": {
      "text/plain": [
       "FundTransactionTO(id=13f4a960-af65-4d60-8c23-65816e1278a9, userId=155edc73-edfb-4e6f-b91e-e891df752957, dateTime=2018-12-31T00:00, records=[FundRecordTO(id=dfc8925c-c43b-460b-8951-f0dba3d1f6a7, fundId=b02229cf-7bc2-4a1d-a47a-84644d34aaf2, accountId=0b706c5f-ea74-41f7-940d-0dd70b46f57b, amount=474.5, unit=Currency(value=RON), labels=[])])\n",
       "FundTransactionTO(id=5a627f4e-1efe-4d31-b4f2-8550ec4fe96e, userId=155edc73-edfb-4e6f-b91e-e891df752957, dateTime=2018-12-31T00:00, records=[FundRecordTO(id=17ebb67c-f775-409b-8203-4b20f30bb09e, fundId=b02229cf-7bc2-4a1d-a47a-84644d34aaf2, accountId=2143404c-d130-43ae-a18d-299796b28ab1, amount=45.96, unit=Currency(value=RON), labels=[])])\n",
       "FundTransactionTO(id=b101bf5d-8dac-4eb5-a596-84873caa2c06, userId=155edc73-edfb-4e6f-b91e-e891df752957, dateTime=2018-12-31T00:00, records=[FundRecordTO(id=0686711b-d234-4486-95ca-4db4f62c900b, fundId=b02229cf-7bc2-4a1d-a47a-84644d34aaf2, accountId=02f718d4-2a89-43e3-a280-4d6a0f2362b4, amount=3051.9, unit=Currency(value=RON), labels=[])])\n",
       "FundTransactionTO(id=14f603df-edfd-47fb-b1f6-1b45ae2818d3, userId=155edc73-edfb-4e6f-b91e-e891df752957, dateTime=2018-12-31T00:00, records=[FundRecordTO(id=bffcdb74-de19-412d-beae-ab79314fa662, fundId=b02229cf-7bc2-4a1d-a47a-84644d34aaf2, accountId=cd4a08fb-49c6-45b6-abbf-c6cc1a1e40f3, amount=2194.13, unit=Currency(value=RON), labels=[])])"
      ]
     },
     "execution_count": 20,
     "metadata": {},
     "output_type": "execute_result"
    }
   ],
   "execution_count": 20
  },
  {
   "metadata": {
    "ExecuteTime": {
     "end_time": "2025-07-02T06:58:38.647239Z",
     "start_time": "2025-07-02T06:58:07.795160Z"
    }
   },
   "cell_type": "code",
   "source": [
    "import ro.jf.funds.importer.api.model.*\n",
    "\n",
    "val csvFiles =\n",
    "    listOf(File(\"../../data/wallet/2019\"), File(\"../../data/wallet/2020\"), File(\"../../data/wallet/2021\"))\n",
    "        .flatMap { it.listFiles()?.toList() ?: error(\"no files found\") }\n",
    "val importTask = client.importTransactions(user, client.fromYaml(File(IMPORT_CONFIGURATION_YAML_FILE)), csvFiles)\n",
    "importTask"
   ],
   "outputs": [
    {
     "data": {
      "text/plain": [
       "ImportTaskTO(taskId=1d8208a5-f930-4624-b8a9-f231a66dfdb4, status=COMPLETED, reason=null)"
      ]
     },
     "execution_count": 21,
     "metadata": {},
     "output_type": "execute_result"
    }
   ],
   "execution_count": 21
  }
 ],
 "metadata": {
  "kernelspec": {
   "display_name": "Kotlin",
   "language": "kotlin",
   "name": "kotlin"
  },
  "language_info": {
   "name": "kotlin",
   "version": "1.9.23",
   "mimetype": "text/x-kotlin",
   "file_extension": ".kt",
   "pygments_lexer": "kotlin",
   "codemirror_mode": "text/x-kotlin",
   "nbconvert_exporter": ""
  },
  "ktnbPluginMetadata": {
   "projectDependencies": [
    "funds.commons-api"
   ]
  }
 },
 "nbformat": 4,
 "nbformat_minor": 0
}
