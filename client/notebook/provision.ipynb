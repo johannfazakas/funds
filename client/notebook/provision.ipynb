{
 "cells": [
  {
   "metadata": {
    "ExecuteTime": {
     "end_time": "2025-09-17T06:02:58.838421Z",
     "start_time": "2025-09-17T06:02:53.590491Z"
    }
   },
   "cell_type": "code",
   "source": [
    "@file:DependsOn(\"ro.jf.funds:funds-notebook-client:1.0.0\")\n",
    "%use dataframe\n",
    "\n",
    "import ro.jf.funds.client.notebook.*\n",
    "\n",
    "val username = \"Johann-53.14\"\n",
    "\n",
    "val client = FundsClient()\n"
   ],
   "outputs": [],
   "execution_count": 1
  },
  {
   "metadata": {
    "ExecuteTime": {
     "end_time": "2025-09-17T06:03:03.340620Z",
     "start_time": "2025-09-17T06:02:58.935106Z"
    }
   },
   "cell_type": "code",
   "source": [
    "val user = client.ensureUserExists(username)\n",
    "user"
   ],
   "outputs": [
    {
     "data": {
      "text/plain": [
       "UserTO(id=c7b69d88-0cee-4f89-b8ef-5a3a4d734582, username=Johann-53.14)"
      ]
     },
     "execution_count": 2,
     "metadata": {},
     "output_type": "execute_result"
    }
   ],
   "execution_count": 2
  },
  {
   "metadata": {
    "collapsed": true,
    "ExecuteTime": {
     "end_time": "2025-09-17T06:03:03.457485Z",
     "start_time": "2025-09-17T06:03:03.384511Z"
    }
   },
   "cell_type": "code",
   "source": [
    "val ACCOUNTS_YAML_FILE = \"../../data/provision/accounts.yaml\"\n",
    "val FUNDS_YAML_FILE = \"../../data/provision/funds.yaml\"\n",
    "val INITIAL_BALANCE_YAML_FILE = \"../../data/provision/initial-balance.yaml\"\n",
    "val IMPORT_CONFIGURATION_JSON_FILE = \"../../data/provision/import-configuration.json\"\n",
    "val WALLET_IMPORT_CONFIGURATION_YAML_FILE = \"../../data/provision/wallet-import-configuration.yaml\"\n",
    "val INVESTMENT_IMPORT_CONFIGURATION_YAML_FILE = \"../../data/provision/investment-import-configuration.yaml\""
   ],
   "outputs": [],
   "execution_count": 3
  },
  {
   "metadata": {
    "ExecuteTime": {
     "end_time": "2025-09-17T06:03:07.745442Z",
     "start_time": "2025-09-17T06:03:03.468721Z"
    }
   },
   "cell_type": "code",
   "source": [
    "import ro.jf.funds.account.api.model.*\n",
    "\n",
    "val accounts = client.provisionAccounts(user, client.fromYaml(File(ACCOUNTS_YAML_FILE)))\n",
    "accounts.map { it.toString() }.joinToString(separator = \"\\n\")"
   ],
   "outputs": [
    {
     "data": {
      "text/plain": [
       "AccountTO(id=28726191-3bea-40d8-8a30-f17f40947da0, name=Cash RON, unit=Currency(value=RON))\n",
       "AccountTO(id=1d6ab898-f856-4cde-95c2-90d9abf63f63, name=Cash EUR, unit=Currency(value=EUR))\n",
       "AccountTO(id=55c658cb-cb38-4bbd-8dfc-99f509535fb5, name=Cash EUR-RON, unit=Currency(value=RON))\n",
       "AccountTO(id=02ab1368-6d48-4267-9f98-2bf9ddcad58e, name=ING RON, unit=Currency(value=RON))\n",
       "AccountTO(id=c8b5cec9-010e-4dfb-bf07-55f42740b4d5, name=ING Economy, unit=Currency(value=RON))\n",
       "AccountTO(id=835f1342-6aa4-4c9b-bcdd-6ab752c3f264, name=Food Coupons, unit=Currency(value=RON))\n",
       "AccountTO(id=36c74109-8536-45f7-999a-e6f20614c818, name=Revolut RON, unit=Currency(value=RON))\n",
       "AccountTO(id=bf805a97-d0b6-4faa-905e-001b2df6ec2a, name=Revolut EUR-RON, unit=Currency(value=RON))\n",
       "AccountTO(id=9253053c-4465-465c-822d-27f5b2afd25a, name=Other, unit=Currency(value=RON))\n",
       "AccountTO(id=90ea45f5-24fc-4cb2-8c13-aeaaf44a7c93, name=BT RON, unit=Currency(value=RON))\n",
       "AccountTO(id=ab07fb39-61a7-43fd-a6d2-7c61ab804ed3, name=BT CC, unit=Currency(value=RON))\n",
       "AccountTO(id=ecae39c0-8000-4306-958a-daebf6cc3969, name=BT EUR-RON, unit=Currency(value=RON))\n",
       "AccountTO(id=bf69b207-06ba-4fd7-a4fd-edb646069a49, name=BT Economy RON, unit=Currency(value=RON))\n",
       "AccountTO(id=4528edf8-0dc4-4eb6-baf8-24f14c273c46, name=BT Depozit RON, unit=Currency(value=RON))\n",
       "AccountTO(id=d17ca05e-2e39-46ef-ae9f-210c705bd45c, name=BT Philocode RON, unit=Currency(value=RON))\n",
       "AccountTO(id=4d0d67d6-4d4e-446e-bf7f-f26c2bb49c81, name=BT Philocode EUR-RON, unit=Currency(value=RON))\n",
       "AccountTO(id=deafd040-f180-4f2f-bd18-fba8ee84caca, name=XTB EUR, unit=Currency(value=EUR))\n",
       "AccountTO(id=df1dffdf-a937-43e6-b988-27508176c37a, name=XTB EUNL, unit=Symbol(value=EUNL))\n",
       "AccountTO(id=37031b37-7b07-47d8-9cf7-1a1435199a9a, name=XTB QDVE, unit=Symbol(value=QDVE))\n",
       "AccountTO(id=f1bf266d-51c7-464a-b4ef-fa7a15be5d75, name=XTB IMAE, unit=Symbol(value=IMAE))\n",
       "AccountTO(id=4fb9fcc9-8bfc-4d5a-9803-82761eb724a0, name=XTB IS3N, unit=Symbol(value=IS3N))\n",
       "AccountTO(id=9871ab70-0f95-405a-846d-873607e4e931, name=XTB SXR8, unit=Symbol(value=SXR8))\n",
       "AccountTO(id=af45acd7-73fd-4c32-8903-4cc9644fc09c, name=XTB SUSW, unit=Symbol(value=SUSW))"
      ]
     },
     "execution_count": 4,
     "metadata": {},
     "output_type": "execute_result"
    }
   ],
   "execution_count": 4
  },
  {
   "metadata": {
    "ExecuteTime": {
     "end_time": "2025-09-17T06:03:10.498540Z",
     "start_time": "2025-09-17T06:03:07.758130Z"
    }
   },
   "cell_type": "code",
   "source": [
    "import ro.jf.funds.fund.api.model.*\n",
    "\n",
    "val funds = client.provisionFunds(user, client.fromYaml(File(FUNDS_YAML_FILE)))\n",
    "funds.map { it.toString() }.joinToString(separator = \"\\n\")"
   ],
   "outputs": [
    {
     "data": {
      "text/plain": [
       "FundTO(id=f4b6d22b-b714-4d3b-8e8a-3a7780ec32c2, name=Expenses)\n",
       "FundTO(id=70c0e611-f8ea-4a58-bb52-977e7c9c99f8, name=Work Income)\n",
       "FundTO(id=a98ecb33-a3b2-4bf9-b00c-46c0fc7d4bc7, name=Other Income)\n",
       "FundTO(id=b4953017-5de6-4781-b81b-2618ece46c26, name=Savings)\n",
       "FundTO(id=6c336823-5e90-43f1-8438-5e95b9908bb3, name=Investments)"
      ]
     },
     "execution_count": 5,
     "metadata": {},
     "output_type": "execute_result"
    }
   ],
   "execution_count": 5
  },
  {
   "metadata": {
    "ExecuteTime": {
     "end_time": "2025-09-17T06:03:15.588916Z",
     "start_time": "2025-09-17T06:03:10.511608Z"
    }
   },
   "cell_type": "code",
   "source": [
    "import ro.jf.funds.fund.api.model.*\n",
    "\n",
    "val initialBalancesTransactions = client.provisionInitialBalances(user, accounts, funds, client.fromYaml(File(INITIAL_BALANCE_YAML_FILE)))\n",
    "initialBalancesTransactions.map { it.toString() }.joinToString(separator = \"\\n\")"
   ],
   "outputs": [
    {
     "data": {
      "text/plain": [
       "FundTransactionTO(id=7962d4d8-68dd-48ca-98dc-f2e397da5f9c, userId=c7b69d88-0cee-4f89-b8ef-5a3a4d734582, dateTime=2018-12-31T00:00, records=[FundRecordTO(id=3edbce25-84b7-41a9-86c2-fde1460a3da4, fundId=f4b6d22b-b714-4d3b-8e8a-3a7780ec32c2, accountId=28726191-3bea-40d8-8a30-f17f40947da0, amount=553.5, unit=Currency(value=RON), labels=[])])\n",
       "FundTransactionTO(id=7086487c-ce5c-4842-8222-a896377022d3, userId=c7b69d88-0cee-4f89-b8ef-5a3a4d734582, dateTime=2018-12-31T00:00, records=[FundRecordTO(id=8b788a4f-c956-4559-8d84-01e7b02bca06, fundId=f4b6d22b-b714-4d3b-8e8a-3a7780ec32c2, accountId=835f1342-6aa4-4c9b-bcdd-6ab752c3f264, amount=45.96, unit=Currency(value=RON), labels=[])])\n",
       "FundTransactionTO(id=c6efd744-d09b-4c56-914d-6525474d80c7, userId=c7b69d88-0cee-4f89-b8ef-5a3a4d734582, dateTime=2018-12-31T00:00, records=[FundRecordTO(id=acbf47e0-82f8-46f4-ade4-48270af2216f, fundId=f4b6d22b-b714-4d3b-8e8a-3a7780ec32c2, accountId=9253053c-4465-465c-822d-27f5b2afd25a, amount=3051.9, unit=Currency(value=RON), labels=[])])\n",
       "FundTransactionTO(id=67af7d7c-8f16-4790-8bbc-0f0611bfee9d, userId=c7b69d88-0cee-4f89-b8ef-5a3a4d734582, dateTime=2018-12-31T00:00, records=[FundRecordTO(id=9bc88eaf-0bac-4705-b8b1-35b7769d0b3d, fundId=f4b6d22b-b714-4d3b-8e8a-3a7780ec32c2, accountId=90ea45f5-24fc-4cb2-8c13-aeaaf44a7c93, amount=7708.46, unit=Currency(value=RON), labels=[])])\n",
       "FundTransactionTO(id=749455fe-3a7f-459b-8b47-dafdd5c3892c, userId=c7b69d88-0cee-4f89-b8ef-5a3a4d734582, dateTime=2018-12-31T00:00, records=[FundRecordTO(id=7e4db260-600a-4978-901f-406c10e9c67d, fundId=f4b6d22b-b714-4d3b-8e8a-3a7780ec32c2, accountId=02ab1368-6d48-4267-9f98-2bf9ddcad58e, amount=-3037.15, unit=Currency(value=RON), labels=[])])"
      ]
     },
     "execution_count": 6,
     "metadata": {},
     "output_type": "execute_result"
    }
   ],
   "execution_count": 6
  },
  {
   "metadata": {
    "ExecuteTime": {
     "end_time": "2025-09-17T06:03:30.907360Z",
     "start_time": "2025-09-17T06:03:15.644037Z"
    }
   },
   "cell_type": "code",
   "source": [
    "\n",
    "val investmentCsvFiles =\n",
    "    listOf(2022, 2023)\n",
    "        .map { year -> File(\"../../data/investment/$year\") }\n",
    "        .flatMap { it.listFiles()?.toList() ?: error(\"no files found\") }\n",
    "val importTask = client.importTransactions(user, client.fromYaml(File(INVESTMENT_IMPORT_CONFIGURATION_YAML_FILE)), investmentCsvFiles)\n",
    "importTask"
   ],
   "outputs": [
    {
     "data": {
      "text/plain": [
       "ImportTaskTO(taskId=85731751-1a64-4f5f-8357-fcbe3e97d53f, status=COMPLETED, reason=null)"
      ]
     },
     "execution_count": 7,
     "metadata": {},
     "output_type": "execute_result"
    }
   ],
   "execution_count": 7
  },
  {
   "metadata": {
    "ExecuteTime": {
     "end_time": "2025-09-17T06:03:57.214062Z",
     "start_time": "2025-09-17T06:03:31.018213Z"
    }
   },
   "cell_type": "code",
   "source": [
    "import ro.jf.funds.importer.api.model.*\n",
    "\n",
    "val csvFiles =\n",
    "    listOf(2019, 2020, 2021, 2022, 2023)\n",
    "        .map { year -> File(\"../../data/wallet/$year\")}\n",
    "        .flatMap { it.listFiles()?.toList() ?: error(\"no files found\") }\n",
    "val importTask = client.importTransactions(user, client.fromYaml(File(WALLET_IMPORT_CONFIGURATION_YAML_FILE)), csvFiles)\n",
    "importTask"
   ],
   "outputs": [
    {
     "data": {
      "text/plain": [
       "ImportTaskTO(taskId=73746f63-1d63-4eb0-a711-848b6603e298, status=COMPLETED, reason=null)"
      ]
     },
     "execution_count": 8,
     "metadata": {},
     "output_type": "execute_result"
    }
   ],
   "execution_count": 8
  }
 ],
 "metadata": {
  "kernelspec": {
   "display_name": "Kotlin",
   "language": "kotlin",
   "name": "kotlin"
  },
  "language_info": {
   "name": "kotlin",
   "version": "1.9.23",
   "mimetype": "text/x-kotlin",
   "file_extension": ".kt",
   "pygments_lexer": "kotlin",
   "codemirror_mode": "text/x-kotlin",
   "nbconvert_exporter": ""
  },
  "ktnbPluginMetadata": {
   "projectDependencies": [
    "funds.commons-api"
   ]
  }
 },
 "nbformat": 4,
 "nbformat_minor": 0
}
