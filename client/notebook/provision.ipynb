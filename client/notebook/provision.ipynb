{
 "cells": [
  {
   "metadata": {
    "ExecuteTime": {
     "end_time": "2025-10-02T03:26:42.331773Z",
     "start_time": "2025-10-02T03:26:35.055603Z"
    }
   },
   "cell_type": "code",
   "source": [
    "@file:DependsOn(\"ro.jf.funds:funds-notebook-client:1.0.0\")\n",
    "%use dataframe\n",
    "\n",
    "import ro.jf.funds.client.notebook.*\n",
    "\n",
    "val username = \"Johann-56.0\"\n",
    "\n",
    "val client = FundsClient()\n"
   ],
   "outputs": [],
   "execution_count": 9
  },
  {
   "metadata": {
    "ExecuteTime": {
     "end_time": "2025-10-02T03:26:46.590700Z",
     "start_time": "2025-10-02T03:26:42.992066Z"
    }
   },
   "cell_type": "code",
   "source": [
    "val user = client.ensureUserExists(username)\n",
    "user"
   ],
   "outputs": [
    {
     "data": {
      "text/plain": [
       "UserTO(id=4cec734d-e81c-49aa-ac3d-d0a7b988638a, username=Johann-56.0)"
      ]
     },
     "execution_count": 10,
     "metadata": {},
     "output_type": "execute_result"
    }
   ],
   "execution_count": 10
  },
  {
   "metadata": {
    "collapsed": true,
    "ExecuteTime": {
     "end_time": "2025-10-02T03:26:47.101765Z",
     "start_time": "2025-10-02T03:26:46.648834Z"
    }
   },
   "cell_type": "code",
   "source": [
    "val ACCOUNTS_YAML_FILE = \"../../data/provision/accounts.yaml\"\n",
    "val FUNDS_YAML_FILE = \"../../data/provision/funds.yaml\"\n",
    "val INITIAL_BALANCE_YAML_FILE = \"../../data/provision/initial-balance.yaml\"\n",
    "val IMPORT_CONFIGURATION_JSON_FILE = \"../../data/provision/import-configuration.json\"\n",
    "val WALLET_IMPORT_CONFIGURATION_YAML_FILE = \"../../data/provision/wallet-import-configuration.yaml\"\n",
    "val INVESTMENT_IMPORT_CONFIGURATION_YAML_FILE = \"../../data/provision/investment-import-configuration.yaml\""
   ],
   "outputs": [],
   "execution_count": 11
  },
  {
   "metadata": {
    "ExecuteTime": {
     "end_time": "2025-10-02T03:28:21.156833Z",
     "start_time": "2025-10-02T03:28:18.188433Z"
    }
   },
   "cell_type": "code",
   "source": [
    "import ro.jf.funds.account.api.model.*\n",
    "\n",
    "val accounts = client.provisionAccounts(user, client.fromYaml(File(ACCOUNTS_YAML_FILE)))\n",
    "accounts.map { it.toString() }.joinToString(separator = \"\\n\")"
   ],
   "outputs": [
    {
     "data": {
      "text/plain": [
       "AccountTO(id=b8249038-dec3-4a30-a686-2d54b13a8834, name=Cash RON, unit=Currency(value=RON))\n",
       "AccountTO(id=2889c9f6-3e26-4faf-af8b-cc3f3c379ddd, name=Cash EUR, unit=Currency(value=EUR))\n",
       "AccountTO(id=4c39807e-cfb8-42fa-9ed2-2d9f434af8eb, name=Cash EUR-RON, unit=Currency(value=RON))\n",
       "AccountTO(id=946ac72f-4c4d-44eb-a570-7fccf0d2a0a3, name=ING RON, unit=Currency(value=RON))\n",
       "AccountTO(id=14a29b48-0807-4ab5-a136-d93db8c3f655, name=ING Economy, unit=Currency(value=RON))\n",
       "AccountTO(id=796cec80-5408-48ec-979a-142bc8190d34, name=Food Coupons, unit=Currency(value=RON))\n",
       "AccountTO(id=a02f2a66-21bc-4cce-a73d-07e550e6aacf, name=Revolut RON, unit=Currency(value=RON))\n",
       "AccountTO(id=7b80ce3a-864a-49a1-b907-bc190ae770bc, name=Revolut EUR-RON, unit=Currency(value=RON))\n",
       "AccountTO(id=74b54739-6095-47aa-931e-0723de656662, name=Other, unit=Currency(value=RON))\n",
       "AccountTO(id=3deb5c14-eab8-4423-8d1b-74215ba9519c, name=BT RON, unit=Currency(value=RON))\n",
       "AccountTO(id=863f136a-a7e6-4574-8e38-564434444462, name=BT CC, unit=Currency(value=RON))\n",
       "AccountTO(id=f74ec553-3e7f-455f-aae7-05a7a06a082a, name=BT EUR-RON, unit=Currency(value=RON))\n",
       "AccountTO(id=12ba0b52-d96d-403e-83cd-b7c221ab398b, name=BT Economy RON, unit=Currency(value=RON))\n",
       "AccountTO(id=2ee061f8-dc2f-4410-8366-9b911e087601, name=BT Depozit RON, unit=Currency(value=RON))\n",
       "AccountTO(id=51f2e13e-4c8c-447d-bd6d-f33aa1b11b42, name=BT Philocode RON, unit=Currency(value=RON))\n",
       "AccountTO(id=b5f39652-b710-468c-89ed-e6d0d003920e, name=BT Philocode EUR-RON, unit=Currency(value=RON))\n",
       "AccountTO(id=67ea68df-cd4d-4633-bc90-ed8b93b1ceae, name=XTB EUR, unit=Currency(value=EUR))\n",
       "AccountTO(id=4478ef79-37be-4234-a704-f41b03ceb5ed, name=XTB EUNL, unit=Symbol(value=EUNL))\n",
       "AccountTO(id=898cccbe-a59b-4058-8943-71dd211b81ef, name=XTB QDVE, unit=Symbol(value=QDVE))\n",
       "AccountTO(id=920ccf93-eedb-40fa-87e6-6915515b0a54, name=XTB IMAE, unit=Symbol(value=IMAE))\n",
       "AccountTO(id=70a4f2d3-9906-4ee1-b302-a806fdddc7ea, name=XTB IS3N, unit=Symbol(value=IS3N))\n",
       "AccountTO(id=09dfc0b8-012c-4688-8ebb-0f94cc24ddf0, name=XTB SXR8, unit=Symbol(value=SXR8))\n",
       "AccountTO(id=201811c8-ce02-4854-99e1-d2033672808b, name=XTB SUSW, unit=Symbol(value=SUSW))"
      ]
     },
     "execution_count": 13,
     "metadata": {},
     "output_type": "execute_result"
    }
   ],
   "execution_count": 13
  },
  {
   "metadata": {
    "ExecuteTime": {
     "end_time": "2025-10-02T03:28:28.040009Z",
     "start_time": "2025-10-02T03:28:25.760948Z"
    }
   },
   "cell_type": "code",
   "source": [
    "import ro.jf.funds.fund.api.model.*\n",
    "\n",
    "val funds = client.provisionFunds(user, client.fromYaml(File(FUNDS_YAML_FILE)))\n",
    "funds.map { it.toString() }.joinToString(separator = \"\\n\")"
   ],
   "outputs": [
    {
     "data": {
      "text/plain": [
       "FundTO(id=c8f8c5d7-ae26-4f38-af66-c4584d8a61a3, name=Expenses)\n",
       "FundTO(id=0328588b-a547-4a50-bc06-f7a3707fa314, name=Work Income)\n",
       "FundTO(id=e3b0f68b-9078-4c49-bbd4-f9ea08645d3a, name=Other Income)\n",
       "FundTO(id=3ca5e632-3f47-4391-9d4b-a88fff1a7bf8, name=Savings)\n",
       "FundTO(id=1a770d3a-c0e8-4e51-88bc-ba3159863a6b, name=Investments)"
      ]
     },
     "execution_count": 14,
     "metadata": {},
     "output_type": "execute_result"
    }
   ],
   "execution_count": 14
  },
  {
   "metadata": {
    "ExecuteTime": {
     "end_time": "2025-10-02T03:28:32.791842Z",
     "start_time": "2025-10-02T03:28:29.884840Z"
    }
   },
   "cell_type": "code",
   "source": [
    "import ro.jf.funds.fund.api.model.*\n",
    "\n",
    "val initialBalancesTransactions = client.provisionInitialBalances(user, accounts, funds, client.fromYaml(File(INITIAL_BALANCE_YAML_FILE)))\n",
    "initialBalancesTransactions.map { it.toString() }.joinToString(separator = \"\\n\")"
   ],
   "outputs": [
    {
     "data": {
      "text/plain": [
       "FundTransactionTO(id=d15820c9-0bf6-4fca-aa27-7cc588623cde, userId=4cec734d-e81c-49aa-ac3d-d0a7b988638a, type=SINGLE_RECORD, dateTime=2018-12-31T00:00, records=[FundRecordTO(id=b65c29b5-e546-42f1-b995-a2e193dd11e7, fundId=c8f8c5d7-ae26-4f38-af66-c4584d8a61a3, accountId=b8249038-dec3-4a30-a686-2d54b13a8834, amount=553.5, unit=Currency(value=RON), labels=[])])\n",
       "FundTransactionTO(id=ac8c95a2-bcdc-4048-804d-c791d554b52e, userId=4cec734d-e81c-49aa-ac3d-d0a7b988638a, type=SINGLE_RECORD, dateTime=2018-12-31T00:00, records=[FundRecordTO(id=020f7b21-962e-4f23-bbb0-baec478c1f20, fundId=c8f8c5d7-ae26-4f38-af66-c4584d8a61a3, accountId=796cec80-5408-48ec-979a-142bc8190d34, amount=45.96, unit=Currency(value=RON), labels=[])])\n",
       "FundTransactionTO(id=4e47d4e6-9959-47f1-972e-2cee8bb60c12, userId=4cec734d-e81c-49aa-ac3d-d0a7b988638a, type=SINGLE_RECORD, dateTime=2018-12-31T00:00, records=[FundRecordTO(id=42e333f9-c656-43c7-be51-b788d43bbaf6, fundId=c8f8c5d7-ae26-4f38-af66-c4584d8a61a3, accountId=74b54739-6095-47aa-931e-0723de656662, amount=3051.9, unit=Currency(value=RON), labels=[])])\n",
       "FundTransactionTO(id=2d88c8cf-358c-4332-9efa-0dda262e6ebc, userId=4cec734d-e81c-49aa-ac3d-d0a7b988638a, type=SINGLE_RECORD, dateTime=2018-12-31T00:00, records=[FundRecordTO(id=1cf41d28-51b5-45fc-b1bd-266c029525fe, fundId=c8f8c5d7-ae26-4f38-af66-c4584d8a61a3, accountId=3deb5c14-eab8-4423-8d1b-74215ba9519c, amount=7708.46, unit=Currency(value=RON), labels=[])])\n",
       "FundTransactionTO(id=13ad72ad-d0fb-442e-9308-d9df0c8db479, userId=4cec734d-e81c-49aa-ac3d-d0a7b988638a, type=SINGLE_RECORD, dateTime=2018-12-31T00:00, records=[FundRecordTO(id=1077fd2b-f067-45d2-ab38-84d72dac00d5, fundId=c8f8c5d7-ae26-4f38-af66-c4584d8a61a3, accountId=946ac72f-4c4d-44eb-a570-7fccf0d2a0a3, amount=-3037.15, unit=Currency(value=RON), labels=[])])"
      ]
     },
     "execution_count": 15,
     "metadata": {},
     "output_type": "execute_result"
    }
   ],
   "execution_count": 15
  },
  {
   "metadata": {
    "ExecuteTime": {
     "end_time": "2025-10-02T03:28:49.957017Z",
     "start_time": "2025-10-02T03:28:36.460446Z"
    }
   },
   "cell_type": "code",
   "source": [
    "\n",
    "val investmentCsvFiles =\n",
    "    listOf(2022, 2023)\n",
    "        .map { year -> File(\"../../data/investment/$year\") }\n",
    "        .flatMap { it.listFiles()?.toList() ?: error(\"no files found\") }\n",
    "val importTask = client.importTransactions(user, client.fromYaml(File(INVESTMENT_IMPORT_CONFIGURATION_YAML_FILE)), investmentCsvFiles)\n",
    "importTask"
   ],
   "outputs": [
    {
     "data": {
      "text/plain": [
       "ImportTaskTO(taskId=25e05de1-0519-4233-9c98-1508df4d35c3, status=COMPLETED, reason=null)"
      ]
     },
     "execution_count": 16,
     "metadata": {},
     "output_type": "execute_result"
    }
   ],
   "execution_count": 16
  },
  {
   "metadata": {
    "ExecuteTime": {
     "end_time": "2025-10-02T03:29:34.022639Z",
     "start_time": "2025-10-02T03:28:57.184902Z"
    }
   },
   "cell_type": "code",
   "source": [
    "import ro.jf.funds.importer.api.model.*\n",
    "\n",
    "val csvFiles =\n",
    "    listOf(2019, 2020, 2021, 2022, 2023)\n",
    "        .map { year -> File(\"../../data/wallet/$year\")}\n",
    "        .flatMap { it.listFiles()?.toList() ?: error(\"no files found\") }\n",
    "val importTask = client.importTransactions(user, client.fromYaml(File(WALLET_IMPORT_CONFIGURATION_YAML_FILE)), csvFiles)\n",
    "importTask"
   ],
   "outputs": [
    {
     "data": {
      "text/plain": [
       "ImportTaskTO(taskId=e3d19251-04c0-4ded-b30d-07173f13a326, status=COMPLETED, reason=null)"
      ]
     },
     "execution_count": 17,
     "metadata": {},
     "output_type": "execute_result"
    }
   ],
   "execution_count": 17
  }
 ],
 "metadata": {
  "kernelspec": {
   "display_name": "Kotlin",
   "language": "kotlin",
   "name": "kotlin"
  },
  "language_info": {
   "name": "kotlin",
   "version": "1.9.23",
   "mimetype": "text/x-kotlin",
   "file_extension": ".kt",
   "pygments_lexer": "kotlin",
   "codemirror_mode": "text/x-kotlin",
   "nbconvert_exporter": ""
  },
  "ktnbPluginMetadata": {
   "projectDependencies": [
    "funds.commons-api"
   ]
  }
 },
 "nbformat": 4,
 "nbformat_minor": 0
}
