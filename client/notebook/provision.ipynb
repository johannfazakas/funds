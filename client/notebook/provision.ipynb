{
 "cells": [
  {
   "metadata": {
    "ExecuteTime": {
     "end_time": "2025-03-10T04:45:53.112075Z",
     "start_time": "2025-03-10T04:45:49.136219Z"
    }
   },
   "cell_type": "code",
   "source": [
    "@file:DependsOn(\"io.ktor:ktor-client-core:2.3.12\")\n",
    "@file:DependsOn(\"io.ktor:ktor-client-cio:2.3.12\")\n",
    "@file:DependsOn(\"io.ktor:ktor-client-content-negotiation:2.3.12\")\n",
    "@file:DependsOn(\"io.ktor:ktor-serialization-kotlinx-json:2.3.12\")\n",
    "@file:DependsOn(\"ro.jf.funds:user-sdk:1.0.0\")\n",
    "@file:DependsOn(\"ro.jf.funds:import-sdk:1.0.0\")\n",
    "@file:DependsOn(\"ro.jf.funds:fund-sdk:1.0.0\")\n",
    "@file:DependsOn(\"ro.jf.funds:account-sdk:1.0.0\")\n",
    "%use dataframe\n"
   ],
   "outputs": [],
   "execution_count": 1
  },
  {
   "metadata": {
    "collapsed": true,
    "ExecuteTime": {
     "end_time": "2025-03-10T04:45:54.286973Z",
     "start_time": "2025-03-10T04:45:53.128671Z"
    }
   },
   "cell_type": "code",
   "source": [
    "import ro.jf.funds.account.sdk.AccountSdk\n",
    "import ro.jf.funds.fund.sdk.FundSdk\n",
    "import ro.jf.funds.importer.sdk.ImportSdk\n",
    "import ro.jf.funds.user.sdk.UserSdk\n",
    "import kotlinx.coroutines.runBlocking\n",
    "\n",
    "// TODO(Johann) could these be moved to json configuration files?\n",
    "val ACCOUNTS_CSV_FILE = \"../../data/provision/accounts.csv\"\n",
    "val FUNDS_CSV_FILE = \"../../data/provision/funds.csv\"\n",
    "val IMPORT_CONFIGURATION_FILE = \"../../data/provision/import-configuration.json\"\n",
    "\n",
    "val userSdk = UserSdk()\n",
    "val accountSdk = AccountSdk()\n",
    "val fundSdk = FundSdk()\n",
    "val importSdk = ImportSdk()\n",
    "\n",
    "val username = \"Johann-12.0\"\n",
    "val user = runBlocking {\n",
    "    userSdk.findUserByUsername(username)\n",
    "        ?: userSdk.createUser(username)\n",
    "}\n",
    "user"
   ],
   "outputs": [
    {
     "data": {
      "text/plain": [
       "UserTO(id=5a724030-2d90-41b1-b776-520920d7fdd5, username=Johann-12.0)"
      ]
     },
     "execution_count": 2,
     "metadata": {},
     "output_type": "execute_result"
    }
   ],
   "execution_count": 2
  },
  {
   "metadata": {
    "ExecuteTime": {
     "end_time": "2025-03-10T04:45:57.105161Z",
     "start_time": "2025-03-10T04:45:54.350211Z"
    }
   },
   "cell_type": "code",
   "source": [
    "import ro.jf.funds.account.api.model.*\n",
    "import ro.jf.funds.account.api.model.*\n",
    "import ro.jf.funds.commons.model.*\n",
    "import kotlinx.coroutines.runBlocking\n",
    "\n",
    "val accounts = runBlocking {\n",
    "    val existingAccounts = accountSdk.listAccounts(user.id).items\n",
    "    val existingAccountNames = existingAccounts.map { it.name }.toSet()\n",
    "    val newAccounts = DataFrame.readCSV(ACCOUNTS_CSV_FILE, delimiter = ';')\n",
    "        .map { row -> CreateAccountTO(AccountName(row.getValue<String>(\"account\")), Currency(row.getValue<String>(\"currency\"))) }\n",
    "        .filter { it.name !in existingAccountNames }\n",
    "        .map { accountSdk.createAccount(user.id, it) }\n",
    "    existingAccounts + newAccounts\n",
    "}\n",
    "accounts.map { it.toString() }.joinToString(separator = \"\\n\")"
   ],
   "outputs": [
    {
     "data": {
      "text/plain": [
       "AccountTO(id=20769538-ec34-470c-8768-f2220ab92287, name=Cash RON, unit=Currency(value=RON))\n",
       "AccountTO(id=f484d20f-7f70-4e36-accb-dc9c56aef9fd, name=Cash EUR, unit=Currency(value=EUR))\n",
       "AccountTO(id=25516e82-5025-4233-919f-8c4ea57e7b80, name=ING RON, unit=Currency(value=RON))\n",
       "AccountTO(id=c0f90f76-21bc-42e7-9e5d-b1e8548f4955, name=ING Economy, unit=Currency(value=RON))\n",
       "AccountTO(id=eb6049a9-7132-4970-9c55-588cb2dc4fd4, name=Food Coupons, unit=Currency(value=RON))\n",
       "AccountTO(id=978b491b-a7d8-477d-8e6f-f07e891dd26e, name=Revolut RON, unit=Currency(value=RON))\n",
       "AccountTO(id=f4cf1850-f363-4b81-8bad-b925dff7798a, name=Other, unit=Currency(value=RON))\n",
       "AccountTO(id=eacc15d3-41e5-430e-9287-05a619467684, name=BT RON, unit=Currency(value=RON))\n",
       "AccountTO(id=5655c050-8457-411d-8c32-e5d224cabc7e, name=BT Economy RON, unit=Currency(value=RON))"
      ]
     },
     "execution_count": 3,
     "metadata": {},
     "output_type": "execute_result"
    }
   ],
   "execution_count": 3
  },
  {
   "metadata": {
    "ExecuteTime": {
     "end_time": "2025-03-10T04:45:58.302697Z",
     "start_time": "2025-03-10T04:45:57.111516Z"
    }
   },
   "cell_type": "code",
   "source": [
    "import ro.jf.funds.fund.api.model.*\n",
    "import kotlinx.coroutines.runBlocking\n",
    "\n",
    "val funds = runBlocking {\n",
    "    val existingFunds = fundSdk.listFunds(user.id).items\n",
    "    val existingFundNames = existingFunds.map { it.name }.toSet()\n",
    "    val newFunds = DataFrame.readCSV(FUNDS_CSV_FILE, delimiter = ';')\n",
    "        .map { row -> CreateFundTO(FundName(row.getValue<String>(\"fund\"))) }\n",
    "        .filter { it.name !in existingFundNames }\n",
    "        .map { fundSdk.createFund(user.id, it) }\n",
    "    existingFunds + newFunds\n",
    "}\n",
    "funds.map { it.toString() }.joinToString(separator = \"\\n\")"
   ],
   "outputs": [
    {
     "data": {
      "text/plain": [
       "FundTO(id=8e952d91-0efb-4b52-9ae4-798a00b9bc70, name=Expenses)\n",
       "FundTO(id=cd34eee0-5721-4773-b04a-9507ba1dc874, name=Work Income)\n",
       "FundTO(id=4606428d-0672-409b-bd85-35872527209a, name=Savings)\n",
       "FundTO(id=812ae35f-b7c3-412e-a38b-6e62b24e0b62, name=Gifts)"
      ]
     },
     "execution_count": 4,
     "metadata": {},
     "output_type": "execute_result"
    }
   ],
   "execution_count": 4
  },
  {
   "metadata": {
    "ExecuteTime": {
     "end_time": "2025-03-10T04:45:58.378776Z",
     "start_time": "2025-03-10T04:45:58.307856Z"
    }
   },
   "cell_type": "code",
   "source": [
    "import ro.jf.funds.importer.api.model.*\n",
    "import kotlinx.serialization.json.Json\n",
    "\n",
    "val dataConfigurationRawJson: String = File(IMPORT_CONFIGURATION_FILE).readText()\n",
    "val jsonFormat = Json { ignoreUnknownKeys = true }\n",
    "val importConfiguration = jsonFormat.decodeFromString<ImportConfigurationTO>(dataConfigurationRawJson)"
   ],
   "outputs": [],
   "execution_count": 5
  },
  {
   "metadata": {},
   "cell_type": "markdown",
   "source": ""
  },
  {
   "metadata": {
    "ExecuteTime": {
     "end_time": "2025-03-10T04:46:18.271899Z",
     "start_time": "2025-03-10T04:45:58.383722Z"
    }
   },
   "cell_type": "code",
   "source": [
    "import kotlinx.coroutines.delay\n",
    "import kotlinx.coroutines.runBlocking\n",
    "import kotlinx.datetime.Clock\n",
    "import ro.jf.funds.importer.api.model.*\n",
    "import java.io.File\n",
    "import java.util.*\n",
    "import kotlin.time.Duration\n",
    "\n",
    "val csvFiles = File(\"../../data/wallet/2019\")\n",
    "    .listFiles()?.toList() ?: error(\"no files found\")\n",
    "runBlocking {\n",
    "    var importTask = importSdk.import(user.id, importConfiguration, csvFiles)\n",
    "    val now: Instant = Clock.System.now()\n",
    "    val timeout = 60.seconds\n",
    "    while (importTask.status == ImportTaskTO.Status.IN_PROGRESS && Clock.System.now() - now < timeout) {\n",
    "        delay(500)\n",
    "        importTask = importSdk.getImportTask(user.id, importTask.taskId)\n",
    "    }\n",
    "    importTask\n",
    "}\n"
   ],
   "outputs": [
    {
     "data": {
      "text/plain": [
       "ImportTaskTO(taskId=f86e3f91-e035-4bf3-981b-e87a7ecffa26, status=COMPLETED, reason=null)"
      ]
     },
     "execution_count": 6,
     "metadata": {},
     "output_type": "execute_result"
    }
   ],
   "execution_count": 6
  }
 ],
 "metadata": {
  "kernelspec": {
   "display_name": "Kotlin",
   "language": "kotlin",
   "name": "kotlin"
  },
  "language_info": {
   "name": "kotlin",
   "version": "1.9.23",
   "mimetype": "text/x-kotlin",
   "file_extension": ".kt",
   "pygments_lexer": "kotlin",
   "codemirror_mode": "text/x-kotlin",
   "nbconvert_exporter": ""
  },
  "ktnbPluginMetadata": {
   "projectDependencies": [
    "funds.commons-api"
   ]
  }
 },
 "nbformat": 4,
 "nbformat_minor": 0
}
