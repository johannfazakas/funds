{
 "cells": [
  {
   "metadata": {
    "ExecuteTime": {
     "end_time": "2025-06-26T13:41:26.429182Z",
     "start_time": "2025-06-26T13:41:17.327637Z"
    }
   },
   "cell_type": "code",
   "source": [
    "@file:DependsOn(\"ro.jf.funds:funds-notebook-client:1.0.0\")\n",
    "%use dataframe\n",
    "\n",
    "import ro.jf.funds.client.notebook.*\n",
    "import kotlinx.coroutines.runBlocking\n",
    "\n",
    "val username = \"Johann-20.5\"\n",
    "\n",
    "val client = FundsClient()\n"
   ],
   "outputs": [
    {
     "data": {
      "text/plain": [
       "UserTO(id=3403d483-228f-4314-ae64-ab6cf73db251, username=Johann-20.5)"
      ]
     },
     "execution_count": 1,
     "metadata": {},
     "output_type": "execute_result"
    }
   ],
   "execution_count": 1
  },
  {
   "metadata": {},
   "cell_type": "code",
   "outputs": [],
   "execution_count": null,
   "source": [
    "val user = runBlocking { client.ensureUserExists(username) }\n",
    "user"
   ]
  },
  {
   "metadata": {
    "collapsed": true,
    "ExecuteTime": {
     "end_time": "2025-06-26T13:41:26.478612Z",
     "start_time": "2025-06-26T13:41:26.448369Z"
    }
   },
   "cell_type": "code",
   "source": [
    "val ACCOUNTS_YAML_FILE = \"../../data/provision/accounts.yaml\"\n",
    "val FUNDS_YAML_FILE = \"../../data/provision/funds.yaml\"\n",
    "val INITIAL_BALANCE_YAML_FILE = \"../../data/provision/initial-balance.yaml\"\n",
    "val IMPORT_CONFIGURATION_JSON_FILE = \"../../data/provision/import-configuration.json\"\n",
    "val IMPORT_CONFIGURATION_YAML_FILE = \"../../data/provision/import-configuration.yaml\"\n"
   ],
   "outputs": [],
   "execution_count": 2
  },
  {
   "metadata": {
    "ExecuteTime": {
     "end_time": "2025-06-26T13:41:29.221126Z",
     "start_time": "2025-06-26T13:41:26.484202Z"
    }
   },
   "cell_type": "code",
   "source": [
    "import ro.jf.funds.account.api.model.*\n",
    "\n",
    "val accounts = runBlocking { client.provisionAccounts(user, File(ACCOUNTS_YAML_FILE)) }\n",
    "accounts.map { it.toString() }.joinToString(separator = \"\\n\")"
   ],
   "outputs": [
    {
     "data": {
      "text/plain": [
       "AccountTO(id=6c927d41-bbc1-4e55-a2dc-958fd23804b7, name=Cash RON, unit=Currency(value=RON))\n",
       "AccountTO(id=25835731-96c9-416e-9b27-1e77ccbee67d, name=Cash EUR, unit=Currency(value=EUR))\n",
       "AccountTO(id=c95bd2db-91c1-4d2d-8c03-d55cbe325b05, name=ING RON, unit=Currency(value=RON))\n",
       "AccountTO(id=0d019d11-f421-4d3f-8d73-7f61f1ef69f8, name=ING Economy, unit=Currency(value=RON))\n",
       "AccountTO(id=ceb1c06b-e176-4077-87e4-65d2639ec0ef, name=Food Coupons, unit=Currency(value=RON))\n",
       "AccountTO(id=3ccd9ab9-6722-4f72-bd4b-f9f43ebdf140, name=Revolut RON, unit=Currency(value=RON))\n",
       "AccountTO(id=9d21e6e2-b91b-4b1c-bfa6-fc9e161db29d, name=Other, unit=Currency(value=RON))\n",
       "AccountTO(id=d418cefe-3cab-4e46-a7c4-8d00e208d3ff, name=BT RON, unit=Currency(value=RON))\n",
       "AccountTO(id=732d82c0-c44b-44c5-a148-df278020131f, name=BT Economy RON, unit=Currency(value=RON))"
      ]
     },
     "execution_count": 3,
     "metadata": {},
     "output_type": "execute_result"
    }
   ],
   "execution_count": 3
  },
  {
   "metadata": {
    "ExecuteTime": {
     "end_time": "2025-06-26T13:41:30.911733Z",
     "start_time": "2025-06-26T13:41:29.236545Z"
    }
   },
   "cell_type": "code",
   "source": [
    "import ro.jf.funds.fund.api.model.*\n",
    "\n",
    "val funds = runBlocking { client.provisionFunds(user, File(FUNDS_YAML_FILE)) }\n",
    "funds.map { it.toString() }.joinToString(separator = \"\\n\")"
   ],
   "outputs": [
    {
     "data": {
      "text/plain": [
       "FundTO(id=6fb67de9-ea07-4ed0-8f96-21e360dfef22, name=Expenses)\n",
       "FundTO(id=41274ac5-fd47-418f-b3fd-e48b14de9e6c, name=Work Income)\n",
       "FundTO(id=0b8528de-bdc3-416d-a939-9a8a9383c934, name=Savings)\n",
       "FundTO(id=4d633cbe-0982-440c-9c28-e6a56e93b510, name=Gifts)"
      ]
     },
     "execution_count": 4,
     "metadata": {},
     "output_type": "execute_result"
    }
   ],
   "execution_count": 4
  },
  {
   "metadata": {
    "ExecuteTime": {
     "end_time": "2025-06-26T13:41:34.592073Z",
     "start_time": "2025-06-26T13:41:30.921288Z"
    }
   },
   "cell_type": "code",
   "source": [
    "import ro.jf.funds.fund.api.model.*\n",
    "\n",
    "val initialBalancesTransactions = runBlocking {\n",
    "    client.provisionInitialBalances(user, accounts, funds, File(INITIAL_BALANCE_YAML_FILE))\n",
    "}\n",
    "initialBalancesTransactions"
   ],
   "outputs": [
    {
     "data": {
      "text/plain": [
       "[FundTransactionTO(id=4e80daa1-6908-457d-a810-e2a119f0849e, userId=3403d483-228f-4314-ae64-ab6cf73db251, dateTime=2018-12-31T00:00, records=[FundRecordTO(id=a4bf805e-2dd8-4fb4-b2b4-7d26bbdc1380, fundId=6fb67de9-ea07-4ed0-8f96-21e360dfef22, accountId=6c927d41-bbc1-4e55-a2dc-958fd23804b7, amount=474.5, unit=Currency(value=RON), labels=[])]), FundTransactionTO(id=e5fc61a1-e66e-4d66-b9a5-d7a054e48d07, userId=3403d483-228f-4314-ae64-ab6cf73db251, dateTime=2018-12-31T00:00, records=[FundRecordTO(id=aa903012-5200-4887-b547-17f2cd4eeaac, fundId=6fb67de9-ea07-4ed0-8f96-21e360dfef22, accountId=ceb1c06b-e176-4077-87e4-65d2639ec0ef, amount=45.96, unit=Currency(value=RON), labels=[])]), FundTransactionTO(id=0b8d31a7-c185-4d30-b74a-843f117363b0, userId=3403d483-228f-4314-ae64-ab6cf73db251, dateTime=2018-12-31T00:00, records=[FundRecordTO(id=bb095fdf-25c6-4ad4-8970-a6e9ad199835, fundId=6fb67de9-ea07-4ed0-8f96-21e360dfef22, accountId=9d21e6e2-b91b-4b1c-bfa6-fc9e161db29d, amount=3051.9, unit=Currency(value=RON), labels=[])]), FundTransactionTO(id=eb27d8d0-520e-4a91-91b0-c2a6bbeda86d, userId=3403d483-228f-4314-ae64-ab6cf73db251, dateTime=2018-12-31T00:00, records=[FundRecordTO(id=63f4175c-0cb5-48d7-85fe-23e64fa4adc9, fundId=6fb67de9-ea07-4ed0-8f96-21e360dfef22, accountId=d418cefe-3cab-4e46-a7c4-8d00e208d3ff, amount=2194.13, unit=Currency(value=RON), labels=[])])]"
      ]
     },
     "execution_count": 5,
     "metadata": {},
     "output_type": "execute_result"
    }
   ],
   "execution_count": 5
  },
  {
   "metadata": {
    "ExecuteTime": {
     "end_time": "2025-06-26T13:41:53.412986Z",
     "start_time": "2025-06-26T13:41:34.603458Z"
    }
   },
   "cell_type": "code",
   "source": [
    "import ro.jf.funds.importer.api.model.*\n",
    "\n",
    "val importTask = runBlocking {\n",
    "    val csvFiles =\n",
    "        listOf(File(\"../../data/wallet/2019\"), File(\"../../data/wallet/2020\"))\n",
    "            .flatMap { it.listFiles()?.toList() ?: error(\"no files found\") }\n",
    "    client.importTransactions(user, File(IMPORT_CONFIGURATION_YAML_FILE), csvFiles)\n",
    "}\n",
    "importTask\n"
   ],
   "outputs": [
    {
     "data": {
      "text/plain": [
       "ImportTaskTO(taskId=f22b556b-99ff-43df-b19f-85ef96d4baff, status=COMPLETED, reason=null)"
      ]
     },
     "execution_count": 6,
     "metadata": {},
     "output_type": "execute_result"
    }
   ],
   "execution_count": 6
  }
 ],
 "metadata": {
  "kernelspec": {
   "display_name": "Kotlin",
   "language": "kotlin",
   "name": "kotlin"
  },
  "language_info": {
   "name": "kotlin",
   "version": "1.9.23",
   "mimetype": "text/x-kotlin",
   "file_extension": ".kt",
   "pygments_lexer": "kotlin",
   "codemirror_mode": "text/x-kotlin",
   "nbconvert_exporter": ""
  },
  "ktnbPluginMetadata": {
   "projectDependencies": [
    "funds.commons-api"
   ]
  }
 },
 "nbformat": 4,
 "nbformat_minor": 0
}
