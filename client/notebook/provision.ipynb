{
 "cells": [
  {
   "metadata": {
    "ExecuteTime": {
     "end_time": "2025-07-01T06:46:45.178066Z",
     "start_time": "2025-07-01T06:46:38.955847Z"
    }
   },
   "cell_type": "code",
   "source": [
    "@file:DependsOn(\"ro.jf.funds:funds-notebook-client:1.0.0\")\n",
    "%use dataframe\n",
    "\n",
    "import ro.jf.funds.client.notebook.*\n",
    "\n",
    "val username = \"Johann-28.2\"\n",
    "\n",
    "val client = FundsClient()\n"
   ],
   "outputs": [],
   "execution_count": 1
  },
  {
   "metadata": {
    "ExecuteTime": {
     "end_time": "2025-07-01T06:46:49.478743Z",
     "start_time": "2025-07-01T06:46:45.216149Z"
    }
   },
   "cell_type": "code",
   "source": [
    "val user = client.ensureUserExists(username)\n",
    "user"
   ],
   "outputs": [
    {
     "data": {
      "text/plain": [
       "UserTO(id=4d23e153-7d0b-43ac-8f8a-a0141455de00, username=Johann-28.2)"
      ]
     },
     "execution_count": 2,
     "metadata": {},
     "output_type": "execute_result"
    }
   ],
   "execution_count": 2
  },
  {
   "metadata": {
    "collapsed": true,
    "ExecuteTime": {
     "end_time": "2025-07-01T06:46:49.595400Z",
     "start_time": "2025-07-01T06:46:49.536902Z"
    }
   },
   "cell_type": "code",
   "source": [
    "val ACCOUNTS_YAML_FILE = \"../../data/provision/accounts.yaml\"\n",
    "val FUNDS_YAML_FILE = \"../../data/provision/funds.yaml\"\n",
    "val INITIAL_BALANCE_YAML_FILE = \"../../data/provision/initial-balance.yaml\"\n",
    "val IMPORT_CONFIGURATION_JSON_FILE = \"../../data/provision/import-configuration.json\"\n",
    "val IMPORT_CONFIGURATION_YAML_FILE = \"../../data/provision/import-configuration.yaml\"\n"
   ],
   "outputs": [],
   "execution_count": 3
  },
  {
   "metadata": {
    "ExecuteTime": {
     "end_time": "2025-07-01T06:46:55.309849Z",
     "start_time": "2025-07-01T06:46:49.600522Z"
    }
   },
   "cell_type": "code",
   "source": [
    "import ro.jf.funds.account.api.model.*\n",
    "\n",
    "val accounts = client.provisionAccounts(user, client.fromYaml(File(ACCOUNTS_YAML_FILE)))\n",
    "accounts.map { it.toString() }.joinToString(separator = \"\\n\")"
   ],
   "outputs": [
    {
     "data": {
      "text/plain": [
       "AccountTO(id=0904cb42-9629-43cb-bc5d-2beb62cc5ac9, name=Cash RON, unit=Currency(value=RON))\n",
       "AccountTO(id=00b360b5-6cdb-42c1-9ca5-6ee6aeb48218, name=Cash EUR, unit=Currency(value=EUR))\n",
       "AccountTO(id=097566c9-6a53-4e38-921c-dad0fa57f065, name=ING RON, unit=Currency(value=RON))\n",
       "AccountTO(id=c9eadf94-0f15-40ea-9a30-304e788fb9b5, name=ING Economy, unit=Currency(value=RON))\n",
       "AccountTO(id=54e4334a-5465-40ef-9854-d7305c234e21, name=Food Coupons, unit=Currency(value=RON))\n",
       "AccountTO(id=d79cc094-f14f-4586-91bd-054ca163b959, name=Revolut RON, unit=Currency(value=RON))\n",
       "AccountTO(id=8531e4b7-277a-4a7c-9476-291c80882b4d, name=Other, unit=Currency(value=RON))\n",
       "AccountTO(id=fe120434-1183-4292-8c2b-109fb627e539, name=BT RON, unit=Currency(value=RON))\n",
       "AccountTO(id=1d9f5663-b8aa-4c92-ad4d-a39a7c49f592, name=BT Economy RON, unit=Currency(value=RON))"
      ]
     },
     "execution_count": 4,
     "metadata": {},
     "output_type": "execute_result"
    }
   ],
   "execution_count": 4
  },
  {
   "metadata": {
    "ExecuteTime": {
     "end_time": "2025-07-01T06:47:00.524579Z",
     "start_time": "2025-07-01T06:46:55.322159Z"
    }
   },
   "cell_type": "code",
   "source": [
    "import ro.jf.funds.fund.api.model.*\n",
    "\n",
    "val funds = client.provisionFunds(user, client.fromYaml(File(FUNDS_YAML_FILE)))\n",
    "funds.map { it.toString() }.joinToString(separator = \"\\n\")"
   ],
   "outputs": [
    {
     "data": {
      "text/plain": [
       "FundTO(id=c72bddd5-84ca-43a8-a503-60f0e65d411c, name=Expenses)\n",
       "FundTO(id=5f51cb9e-97d5-432f-9a64-09c4a85b7224, name=Work Income)\n",
       "FundTO(id=f13a0d35-3f2d-474b-85b5-907891977857, name=Savings)\n",
       "FundTO(id=7e9bed9b-491d-48dc-83f9-3df904f384a0, name=Gifts)"
      ]
     },
     "execution_count": 5,
     "metadata": {},
     "output_type": "execute_result"
    }
   ],
   "execution_count": 5
  },
  {
   "metadata": {
    "ExecuteTime": {
     "end_time": "2025-07-01T06:47:04.821522Z",
     "start_time": "2025-07-01T06:47:00.571183Z"
    }
   },
   "cell_type": "code",
   "source": [
    "import ro.jf.funds.fund.api.model.*\n",
    "\n",
    "val initialBalancesTransactions = client.provisionInitialBalances(user, accounts, funds, client.fromYaml(File(INITIAL_BALANCE_YAML_FILE)))\n",
    "initialBalancesTransactions.map { it.toString() }.joinToString(separator = \"\\n\")"
   ],
   "outputs": [
    {
     "data": {
      "text/plain": [
       "FundTransactionTO(id=25487a60-4d24-4084-bb79-5cd2a26d7301, userId=4d23e153-7d0b-43ac-8f8a-a0141455de00, dateTime=2018-12-31T00:00, records=[FundRecordTO(id=6444e9d0-627c-4b57-91e3-6fef141da531, fundId=c72bddd5-84ca-43a8-a503-60f0e65d411c, accountId=0904cb42-9629-43cb-bc5d-2beb62cc5ac9, amount=474.5, unit=Currency(value=RON), labels=[])])\n",
       "FundTransactionTO(id=55bc15b0-a813-4775-8392-d033a15e4256, userId=4d23e153-7d0b-43ac-8f8a-a0141455de00, dateTime=2018-12-31T00:00, records=[FundRecordTO(id=e1118343-76e0-411a-a886-a8eca955b070, fundId=c72bddd5-84ca-43a8-a503-60f0e65d411c, accountId=54e4334a-5465-40ef-9854-d7305c234e21, amount=45.96, unit=Currency(value=RON), labels=[])])\n",
       "FundTransactionTO(id=f7c382cc-ba62-4c69-9efa-ad6f48065f96, userId=4d23e153-7d0b-43ac-8f8a-a0141455de00, dateTime=2018-12-31T00:00, records=[FundRecordTO(id=ed62caad-5ac6-4ef1-bafb-8d34c8ba1c5b, fundId=c72bddd5-84ca-43a8-a503-60f0e65d411c, accountId=8531e4b7-277a-4a7c-9476-291c80882b4d, amount=3051.9, unit=Currency(value=RON), labels=[])])\n",
       "FundTransactionTO(id=a3cba511-441b-45ae-a2d6-3538ee02f17d, userId=4d23e153-7d0b-43ac-8f8a-a0141455de00, dateTime=2018-12-31T00:00, records=[FundRecordTO(id=bba04707-a72a-4aa8-ae14-2f6400a6e4eb, fundId=c72bddd5-84ca-43a8-a503-60f0e65d411c, accountId=fe120434-1183-4292-8c2b-109fb627e539, amount=2194.13, unit=Currency(value=RON), labels=[])])"
      ]
     },
     "execution_count": 6,
     "metadata": {},
     "output_type": "execute_result"
    }
   ],
   "execution_count": 6
  },
  {
   "metadata": {
    "ExecuteTime": {
     "end_time": "2025-07-01T06:47:38.469847Z",
     "start_time": "2025-07-01T06:47:04.848486Z"
    }
   },
   "cell_type": "code",
   "source": [
    "import ro.jf.funds.importer.api.model.*\n",
    "\n",
    "val csvFiles =\n",
    "    listOf(File(\"../../data/wallet/2019\"), File(\"../../data/wallet/2020\"), File(\"../../data/wallet/2021\"))\n",
    "        .flatMap { it.listFiles()?.toList() ?: error(\"no files found\") }\n",
    "val importTask = client.importTransactions(user, client.fromYaml(File(IMPORT_CONFIGURATION_YAML_FILE)), csvFiles)\n"
   ],
   "outputs": [],
   "execution_count": 7
  }
 ],
 "metadata": {
  "kernelspec": {
   "display_name": "Kotlin",
   "language": "kotlin",
   "name": "kotlin"
  },
  "language_info": {
   "name": "kotlin",
   "version": "1.9.23",
   "mimetype": "text/x-kotlin",
   "file_extension": ".kt",
   "pygments_lexer": "kotlin",
   "codemirror_mode": "text/x-kotlin",
   "nbconvert_exporter": ""
  },
  "ktnbPluginMetadata": {
   "projectDependencies": [
    "funds.commons-api"
   ]
  }
 },
 "nbformat": 4,
 "nbformat_minor": 0
}
