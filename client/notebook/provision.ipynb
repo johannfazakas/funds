{
 "cells": [
  {
   "metadata": {
    "ExecuteTime": {
     "end_time": "2025-03-14T20:51:21.100749Z",
     "start_time": "2025-03-14T20:51:16.817482Z"
    }
   },
   "cell_type": "code",
   "source": [
    "@file:DependsOn(\"io.ktor:ktor-client-core:2.3.12\")\n",
    "@file:DependsOn(\"io.ktor:ktor-client-cio:2.3.12\")\n",
    "@file:DependsOn(\"io.ktor:ktor-client-content-negotiation:2.3.12\")\n",
    "@file:DependsOn(\"io.ktor:ktor-serialization-kotlinx-json:2.3.12\")\n",
    "@file:DependsOn(\"com.charleskorn.kaml:kaml-jvm:0.67.0\")\n",
    "@file:DependsOn(\"ro.jf.funds:user-sdk:1.0.0\")\n",
    "@file:DependsOn(\"ro.jf.funds:import-sdk:1.0.0\")\n",
    "@file:DependsOn(\"ro.jf.funds:fund-sdk:1.0.0\")\n",
    "@file:DependsOn(\"ro.jf.funds:account-sdk:1.0.0\")\n",
    "@file:DependsOn(\"ro.jf.funds:funds-notebook-client:1.0.0\")\n",
    "%use dataframe\n",
    "\n",
    "import ro.jf.funds.client.notebook.*\n",
    "\n",
    "val client = FundsClient()\n",
    "val user = client.ensureUserExists(\"Johann-14.1\")\n",
    "user"
   ],
   "outputs": [
    {
     "data": {
      "text/plain": [
       "UserTO(id=471ef69b-55d8-41bd-a790-9d2256b72477, username=Johann-14.1)"
      ]
     },
     "execution_count": 1,
     "metadata": {},
     "output_type": "execute_result"
    }
   ],
   "execution_count": 1
  },
  {
   "metadata": {
    "collapsed": true,
    "ExecuteTime": {
     "end_time": "2025-03-14T20:51:21.184515Z",
     "start_time": "2025-03-14T20:51:21.113328Z"
    }
   },
   "cell_type": "code",
   "source": [
    "import ro.jf.funds.account.sdk.AccountSdk\n",
    "import ro.jf.funds.fund.sdk.FundSdk\n",
    "import ro.jf.funds.importer.sdk.ImportSdk\n",
    "\n",
    "val ACCOUNTS_YAML_FILE = \"../../data/provision/accounts.yaml\"\n",
    "val FUNDS_YAML_FILE = \"../../data/provision/funds.yaml\"\n",
    "val IMPORT_CONFIGURATION_JSON_FILE = \"../../data/provision/import-configuration.json\"\n",
    "val IMPORT_CONFIGURATION_YAML_FILE = \"../../data/provision/import-configuration.yaml\"\n",
    "\n",
    "val accountSdk = AccountSdk()\n",
    "val fundSdk = FundSdk()\n",
    "val importSdk = ImportSdk()\n"
   ],
   "outputs": [],
   "execution_count": 2
  },
  {
   "metadata": {
    "ExecuteTime": {
     "end_time": "2025-03-14T20:51:23.099231Z",
     "start_time": "2025-03-14T20:51:21.197984Z"
    }
   },
   "cell_type": "code",
   "source": [
    "import ro.jf.funds.account.api.model.*\n",
    "import ro.jf.funds.commons.model.*\n",
    "import kotlinx.coroutines.runBlocking\n",
    "import com.charleskorn.kaml.Yaml\n",
    "import kotlinx.serialization.builtins.ListSerializer\n",
    "\n",
    "val accounts = runBlocking {\n",
    "    val existingAccounts = accountSdk.listAccounts(user.id).items\n",
    "    val existingAccountNames = existingAccounts.map { it.name }.toSet()\n",
    "    val newAccounts = File(ACCOUNTS_YAML_FILE).readText()\n",
    "        .let { Yaml.default.decodeFromString(ListSerializer(CreateAccountTO.serializer()), it) }\n",
    "        .filter { it.name !in existingAccountNames }\n",
    "        .map { accountSdk.createAccount(user.id, it) }\n",
    "    existingAccounts + newAccounts\n",
    "}\n",
    "accounts.map { it.toString() }.joinToString(separator = \"\\n\")"
   ],
   "outputs": [
    {
     "data": {
      "text/plain": [
       "AccountTO(id=c94a4baa-267c-4a56-a167-f044978edf32, name=Cash RON, unit=Currency(value=RON))\n",
       "AccountTO(id=068752c9-bec4-43c9-a391-ab40695c66a0, name=Cash EUR, unit=Currency(value=EUR))\n",
       "AccountTO(id=f58104b3-8012-444d-80d0-473f46bf8d19, name=ING RON, unit=Currency(value=RON))\n",
       "AccountTO(id=96e476fe-01e6-469e-96bf-3dadffec1467, name=ING Economy, unit=Currency(value=RON))\n",
       "AccountTO(id=116ea742-43af-43c6-96a0-fbf3ba530431, name=Food Coupons, unit=Currency(value=RON))\n",
       "AccountTO(id=52425377-cf1c-42fc-9446-936193a7d14b, name=Revolut RON, unit=Currency(value=RON))\n",
       "AccountTO(id=87a67bd5-34cc-4e08-925f-4db0c8a26d49, name=Other, unit=Currency(value=RON))\n",
       "AccountTO(id=f959359b-b84d-494f-bf8a-0424bb40c7dc, name=BT RON, unit=Currency(value=RON))\n",
       "AccountTO(id=343fc1d5-5734-484c-b614-4f461776f27d, name=BT Economy RON, unit=Currency(value=RON))"
      ]
     },
     "execution_count": 3,
     "metadata": {},
     "output_type": "execute_result"
    }
   ],
   "execution_count": 3
  },
  {
   "metadata": {
    "ExecuteTime": {
     "end_time": "2025-03-14T20:51:24.960052Z",
     "start_time": "2025-03-14T20:51:23.160951Z"
    }
   },
   "cell_type": "code",
   "source": [
    "import ro.jf.funds.fund.api.model.*\n",
    "import kotlinx.coroutines.runBlocking\n",
    "\n",
    "val funds = runBlocking {\n",
    "    val existingFunds = fundSdk.listFunds(user.id).items\n",
    "    val existingFundNames = existingFunds.map { it.name }.toSet()\n",
    "    val newFunds = File(FUNDS_YAML_FILE).readText()\n",
    "        .let { Yaml.default.decodeFromString(ListSerializer(CreateFundTO.serializer()), it) }\n",
    "        .filter { it.name !in existingFundNames }\n",
    "        .map { fundSdk.createFund(user.id, it) }\n",
    "    existingFunds + newFunds\n",
    "}\n",
    "funds.map { it.toString() }.joinToString(separator = \"\\n\")"
   ],
   "outputs": [
    {
     "data": {
      "text/plain": [
       "FundTO(id=466fbd7b-4566-4feb-bb71-0c48c1bb6d52, name=Expenses)\n",
       "FundTO(id=eddd830c-17c7-4ed0-84f1-ab47860fd4e2, name=Work Income)\n",
       "FundTO(id=ea1b6a24-d7f0-4250-a61b-c4cf617c34c6, name=Savings)\n",
       "FundTO(id=da704f8e-26a5-4f74-b03e-7fda6cad562d, name=Gifts)"
      ]
     },
     "execution_count": 4,
     "metadata": {},
     "output_type": "execute_result"
    }
   ],
   "execution_count": 4
  },
  {
   "metadata": {
    "ExecuteTime": {
     "end_time": "2025-03-14T20:51:25.180194Z",
     "start_time": "2025-03-14T20:51:24.999911Z"
    }
   },
   "cell_type": "code",
   "source": [
    "import ro.jf.funds.importer.api.model.*\n",
    "import kotlinx.serialization.json.Json\n",
    "\n",
    "val dataConfigurationRawYaml: String = File(IMPORT_CONFIGURATION_YAML_FILE).readText()\n",
    "val importConfiguration = Yaml.default.decodeFromString(ImportConfigurationTO.serializer(), dataConfigurationRawYaml)"
   ],
   "outputs": [],
   "execution_count": 5
  },
  {
   "metadata": {},
   "cell_type": "markdown",
   "source": ""
  },
  {
   "metadata": {
    "ExecuteTime": {
     "end_time": "2025-03-14T20:51:34.071949Z",
     "start_time": "2025-03-14T20:51:25.190362Z"
    }
   },
   "cell_type": "code",
   "source": [
    "import kotlinx.coroutines.delay\n",
    "import kotlinx.coroutines.runBlocking\n",
    "import kotlinx.datetime.Clock\n",
    "import ro.jf.funds.importer.api.model.*\n",
    "import java.io.File\n",
    "import java.util.*\n",
    "import kotlin.time.Duration\n",
    "\n",
    "val csvFiles =\n",
    "    listOf(File(\"../../data/wallet/2019\"), File(\"../../data/wallet/2020\"))\n",
    "        .flatMap { it.listFiles()?.toList() ?: error(\"no files found\") }\n",
    "runBlocking {\n",
    "    var importTask = importSdk.import(user.id, importConfiguration, csvFiles)\n",
    "    val now: Instant = Clock.System.now()\n",
    "    val timeout = 60.seconds\n",
    "    while (importTask.status == ImportTaskTO.Status.IN_PROGRESS && Clock.System.now() - now < timeout) {\n",
    "        delay(500)\n",
    "        importTask = importSdk.getImportTask(user.id, importTask.taskId)\n",
    "    }\n",
    "    importTask\n",
    "}\n"
   ],
   "outputs": [
    {
     "data": {
      "text/plain": [
       "ImportTaskTO(taskId=264fc830-183e-4430-b0b4-dcff52bf250f, status=COMPLETED, reason=null)"
      ]
     },
     "execution_count": 6,
     "metadata": {},
     "output_type": "execute_result"
    }
   ],
   "execution_count": 6
  }
 ],
 "metadata": {
  "kernelspec": {
   "display_name": "Kotlin",
   "language": "kotlin",
   "name": "kotlin"
  },
  "language_info": {
   "name": "kotlin",
   "version": "1.9.23",
   "mimetype": "text/x-kotlin",
   "file_extension": ".kt",
   "pygments_lexer": "kotlin",
   "codemirror_mode": "text/x-kotlin",
   "nbconvert_exporter": ""
  },
  "ktnbPluginMetadata": {
   "projectDependencies": [
    "funds.commons-api"
   ]
  }
 },
 "nbformat": 4,
 "nbformat_minor": 0
}
