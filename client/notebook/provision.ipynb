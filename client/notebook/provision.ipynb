{
 "cells": [
  {
   "metadata": {
    "ExecuteTime": {
     "end_time": "2025-08-09T13:54:43.671959Z",
     "start_time": "2025-08-09T13:54:39.206271Z"
    }
   },
   "cell_type": "code",
   "source": [
    "@file:DependsOn(\"ro.jf.funds:funds-notebook-client:1.0.0\")\n",
    "%use dataframe\n",
    "\n",
    "import ro.jf.funds.client.notebook.*\n",
    "\n",
    "val username = \"Johann-45.0\"\n",
    "\n",
    "val client = FundsClient()\n"
   ],
   "outputs": [],
   "execution_count": 16
  },
  {
   "metadata": {
    "ExecuteTime": {
     "end_time": "2025-08-09T13:54:43.897360Z",
     "start_time": "2025-08-09T13:54:43.682020Z"
    }
   },
   "cell_type": "code",
   "source": [
    "val user = client.ensureUserExists(username)\n",
    "user"
   ],
   "outputs": [
    {
     "data": {
      "text/plain": [
       "UserTO(id=c94efea2-caa6-4ea9-a35d-89253f442643, username=Johann-45.0)"
      ]
     },
     "execution_count": 17,
     "metadata": {},
     "output_type": "execute_result"
    }
   ],
   "execution_count": 17
  },
  {
   "metadata": {
    "collapsed": true,
    "ExecuteTime": {
     "end_time": "2025-08-09T13:54:43.929160Z",
     "start_time": "2025-08-09T13:54:43.905017Z"
    }
   },
   "cell_type": "code",
   "source": [
    "val ACCOUNTS_YAML_FILE = \"../../data/provision/accounts.yaml\"\n",
    "val FUNDS_YAML_FILE = \"../../data/provision/funds.yaml\"\n",
    "val INITIAL_BALANCE_YAML_FILE = \"../../data/provision/initial-balance.yaml\"\n",
    "val IMPORT_CONFIGURATION_JSON_FILE = \"../../data/provision/import-configuration.json\"\n",
    "val WALLET_IMPORT_CONFIGURATION_YAML_FILE = \"../../data/provision/wallet-import-configuration.yaml\"\n",
    "val INVESTMENT_IMPORT_CONFIGURATION_YAML_FILE = \"../../data/provision/investment-import-configuration.yaml\""
   ],
   "outputs": [],
   "execution_count": 18
  },
  {
   "metadata": {
    "ExecuteTime": {
     "end_time": "2025-08-09T13:54:46.646740Z",
     "start_time": "2025-08-09T13:54:43.953306Z"
    }
   },
   "cell_type": "code",
   "source": [
    "import ro.jf.funds.account.api.model.*\n",
    "\n",
    "val accounts = client.provisionAccounts(user, client.fromYaml(File(ACCOUNTS_YAML_FILE)))\n",
    "accounts.map { it.toString() }.joinToString(separator = \"\\n\")"
   ],
   "outputs": [
    {
     "data": {
      "text/plain": [
       "AccountTO(id=afd5ec17-99c9-4a9e-aaa8-a76f8a59f14b, name=Cash RON, unit=Currency(value=RON))\n",
       "AccountTO(id=8292a7f3-3247-4126-b7c8-a221acd31f3a, name=Cash EUR, unit=Currency(value=EUR))\n",
       "AccountTO(id=1ae57ca9-07b9-41b7-9184-e2f67ba60d99, name=Cash EUR-RON, unit=Currency(value=RON))\n",
       "AccountTO(id=b39e0b7b-c497-4541-9ef5-b5c189746cf4, name=ING RON, unit=Currency(value=RON))\n",
       "AccountTO(id=84b42480-ffb3-4a91-8dad-d4c4a4cf8467, name=ING Economy, unit=Currency(value=RON))\n",
       "AccountTO(id=14fa1005-c238-4c73-bfe3-72b3eac8e297, name=Food Coupons, unit=Currency(value=RON))\n",
       "AccountTO(id=9ba2fce3-c5ff-4a5d-bc35-0f00dd027c9b, name=Revolut RON, unit=Currency(value=RON))\n",
       "AccountTO(id=ee3efd2c-af54-4971-8419-c8fef267d4aa, name=Revolut EUR-RON, unit=Currency(value=RON))\n",
       "AccountTO(id=51afade0-9978-4c59-8068-288eef6b5813, name=Other, unit=Currency(value=RON))\n",
       "AccountTO(id=67052b8e-dfb5-4771-8e9a-f5e52d2857a5, name=BT RON, unit=Currency(value=RON))\n",
       "AccountTO(id=54bc5daa-1361-4af2-83c8-bba0b1c1cc7a, name=BT EUR-RON, unit=Currency(value=RON))\n",
       "AccountTO(id=cdda7331-3ad1-45e2-b09d-075f22bcf81f, name=BT Economy RON, unit=Currency(value=RON))\n",
       "AccountTO(id=7a6ccf91-5f8a-484f-bf17-81fa6cc96dab, name=BT Depozit RON, unit=Currency(value=RON))\n",
       "AccountTO(id=c1ec7aa3-1ff1-4742-a700-338cf4813a13, name=BT Philocode RON, unit=Currency(value=RON))\n",
       "AccountTO(id=90d21a89-9f42-4c67-a0bc-7b39981d49dd, name=XTB EUR, unit=Currency(value=EUR))\n",
       "AccountTO(id=2190e17f-af24-4961-997c-09c6daf2d6d9, name=XTB EUNL, unit=Symbol(value=EUNL))\n",
       "AccountTO(id=067adb23-0814-484e-b156-a11daaa9b904, name=XTB QDVE, unit=Symbol(value=QDVE))\n",
       "AccountTO(id=f2679554-e325-4139-ab46-b778419fc369, name=XTB IMAE, unit=Symbol(value=IMAE))\n",
       "AccountTO(id=de4012af-395f-494b-ae00-1ed3307b26ae, name=XTB IS3N, unit=Symbol(value=IS3N))\n",
       "AccountTO(id=e7f139c1-75c5-4e5b-895e-4bfd5df40fdd, name=XTB SXR8, unit=Symbol(value=SXR8))\n",
       "AccountTO(id=5a7894df-ee47-49fd-9c14-73846851efa5, name=XTB SUSW, unit=Symbol(value=SUSW))"
      ]
     },
     "execution_count": 19,
     "metadata": {},
     "output_type": "execute_result"
    }
   ],
   "execution_count": 19
  },
  {
   "metadata": {
    "ExecuteTime": {
     "end_time": "2025-08-09T13:54:48.048640Z",
     "start_time": "2025-08-09T13:54:46.773491Z"
    }
   },
   "cell_type": "code",
   "source": [
    "import ro.jf.funds.fund.api.model.*\n",
    "\n",
    "val funds = client.provisionFunds(user, client.fromYaml(File(FUNDS_YAML_FILE)))\n",
    "funds.map { it.toString() }.joinToString(separator = \"\\n\")"
   ],
   "outputs": [
    {
     "data": {
      "text/plain": [
       "FundTO(id=ee0c10fa-aa27-4485-adcb-5983e76537e3, name=Expenses)\n",
       "FundTO(id=9ad1e1d0-f572-4e28-ae72-388379517b0f, name=Work Income)\n",
       "FundTO(id=112508e4-1ecf-495a-ae43-70c2c156c65d, name=Other Income)\n",
       "FundTO(id=47e3a97a-51ab-42f3-a22b-4aa73cc279b3, name=Savings)\n",
       "FundTO(id=65cab8fb-70cb-4875-9834-dc8cd52a4c59, name=Investments)"
      ]
     },
     "execution_count": 20,
     "metadata": {},
     "output_type": "execute_result"
    }
   ],
   "execution_count": 20
  },
  {
   "metadata": {
    "ExecuteTime": {
     "end_time": "2025-08-09T13:54:50.064832Z",
     "start_time": "2025-08-09T13:54:48.142314Z"
    }
   },
   "cell_type": "code",
   "source": [
    "import ro.jf.funds.fund.api.model.*\n",
    "\n",
    "val initialBalancesTransactions = client.provisionInitialBalances(user, accounts, funds, client.fromYaml(File(INITIAL_BALANCE_YAML_FILE)))\n",
    "initialBalancesTransactions.map { it.toString() }.joinToString(separator = \"\\n\")"
   ],
   "outputs": [
    {
     "data": {
      "text/plain": [
       "FundTransactionTO(id=1fa056cd-dd4c-4bd1-a31c-1df6f2ce568a, userId=c94efea2-caa6-4ea9-a35d-89253f442643, dateTime=2018-12-31T00:00, records=[FundRecordTO(id=002936a6-cd51-492f-b90d-fc89756eb605, fundId=ee0c10fa-aa27-4485-adcb-5983e76537e3, accountId=afd5ec17-99c9-4a9e-aaa8-a76f8a59f14b, amount=553.5, unit=Currency(value=RON), labels=[])])\n",
       "FundTransactionTO(id=04fa07c9-79b5-48e2-bf60-b0ec5e0eb916, userId=c94efea2-caa6-4ea9-a35d-89253f442643, dateTime=2018-12-31T00:00, records=[FundRecordTO(id=027e356f-3027-4095-a29d-6418a7fa57f1, fundId=ee0c10fa-aa27-4485-adcb-5983e76537e3, accountId=14fa1005-c238-4c73-bfe3-72b3eac8e297, amount=45.96, unit=Currency(value=RON), labels=[])])\n",
       "FundTransactionTO(id=ae417e35-2246-41db-996c-3db54873c884, userId=c94efea2-caa6-4ea9-a35d-89253f442643, dateTime=2018-12-31T00:00, records=[FundRecordTO(id=e66bb8f4-4f6f-4e1c-a847-8e503c80f7b0, fundId=ee0c10fa-aa27-4485-adcb-5983e76537e3, accountId=51afade0-9978-4c59-8068-288eef6b5813, amount=3051.9, unit=Currency(value=RON), labels=[])])\n",
       "FundTransactionTO(id=107fbca4-99aa-411f-b7b3-de004f392d98, userId=c94efea2-caa6-4ea9-a35d-89253f442643, dateTime=2018-12-31T00:00, records=[FundRecordTO(id=12f78d37-327c-4d49-9d63-9aa05f338717, fundId=ee0c10fa-aa27-4485-adcb-5983e76537e3, accountId=67052b8e-dfb5-4771-8e9a-f5e52d2857a5, amount=7708.46, unit=Currency(value=RON), labels=[])])\n",
       "FundTransactionTO(id=007ecfce-e67d-4c82-b587-e68bd86e3eaa, userId=c94efea2-caa6-4ea9-a35d-89253f442643, dateTime=2018-12-31T00:00, records=[FundRecordTO(id=0875adee-2c08-4035-b8fb-13307b6d2939, fundId=ee0c10fa-aa27-4485-adcb-5983e76537e3, accountId=b39e0b7b-c497-4541-9ef5-b5c189746cf4, amount=-3037.15, unit=Currency(value=RON), labels=[])])"
      ]
     },
     "execution_count": 21,
     "metadata": {},
     "output_type": "execute_result"
    }
   ],
   "execution_count": 21
  },
  {
   "metadata": {
    "ExecuteTime": {
     "end_time": "2025-08-09T13:54:54.597201Z",
     "start_time": "2025-08-09T13:54:50.585107Z"
    }
   },
   "cell_type": "code",
   "source": [
    "\n",
    "val investmentCsvFiles =\n",
    "    listOf(File(\"../../data/investment/2022\"))\n",
    "        .flatMap { it.listFiles()?.toList() ?: error(\"no files found\") }\n",
    "val importTask = client.importTransactions(user, client.fromYaml(File(INVESTMENT_IMPORT_CONFIGURATION_YAML_FILE)), investmentCsvFiles)\n",
    "importTask"
   ],
   "outputs": [
    {
     "data": {
      "text/plain": [
       "ImportTaskTO(taskId=057d577c-f096-4c25-a214-d0c9bcee75ef, status=COMPLETED, reason=null)"
      ]
     },
     "execution_count": 22,
     "metadata": {},
     "output_type": "execute_result"
    }
   ],
   "execution_count": 22
  },
  {
   "metadata": {
    "ExecuteTime": {
     "end_time": "2025-08-09T13:55:07.816168Z",
     "start_time": "2025-08-09T13:54:54.964108Z"
    }
   },
   "cell_type": "code",
   "source": [
    "import ro.jf.funds.importer.api.model.*\n",
    "\n",
    "val csvFiles =\n",
    "    listOf(File(\"../../data/wallet/2019\"), File(\"../../data/wallet/2020\"), File(\"../../data/wallet/2021\"), File(\"../../data/wallet/2022\"))\n",
    "        .flatMap { it.listFiles()?.toList() ?: error(\"no files found\") }\n",
    "val importTask = client.importTransactions(user, client.fromYaml(File(WALLET_IMPORT_CONFIGURATION_YAML_FILE)), csvFiles)\n",
    "importTask"
   ],
   "outputs": [
    {
     "data": {
      "text/plain": [
       "ImportTaskTO(taskId=f37f15b9-770c-495f-bf65-ecda83ccc59e, status=COMPLETED, reason=null)"
      ]
     },
     "execution_count": 23,
     "metadata": {},
     "output_type": "execute_result"
    }
   ],
   "execution_count": 23
  }
 ],
 "metadata": {
  "kernelspec": {
   "display_name": "Kotlin",
   "language": "kotlin",
   "name": "kotlin"
  },
  "language_info": {
   "name": "kotlin",
   "version": "1.9.23",
   "mimetype": "text/x-kotlin",
   "file_extension": ".kt",
   "pygments_lexer": "kotlin",
   "codemirror_mode": "text/x-kotlin",
   "nbconvert_exporter": ""
  },
  "ktnbPluginMetadata": {
   "projectDependencies": [
    "funds.commons-api"
   ]
  }
 },
 "nbformat": 4,
 "nbformat_minor": 0
}
