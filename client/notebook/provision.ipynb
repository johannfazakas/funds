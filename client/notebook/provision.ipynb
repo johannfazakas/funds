{
 "cells": [
  {
   "metadata": {
    "ExecuteTime": {
     "end_time": "2025-07-06T12:47:22.816803Z",
     "start_time": "2025-07-06T12:47:18.679422Z"
    }
   },
   "cell_type": "code",
   "source": [
    "@file:DependsOn(\"ro.jf.funds:funds-notebook-client:1.0.0\")\n",
    "%use dataframe\n",
    "\n",
    "import ro.jf.funds.client.notebook.*\n",
    "\n",
    "val username = \"Johann-32.13\"\n",
    "\n",
    "val client = FundsClient()\n"
   ],
   "outputs": [],
   "execution_count": 8
  },
  {
   "metadata": {
    "ExecuteTime": {
     "end_time": "2025-07-06T12:47:25.544500Z",
     "start_time": "2025-07-06T12:47:22.862834Z"
    }
   },
   "cell_type": "code",
   "source": [
    "val user = client.ensureUserExists(username)\n",
    "user"
   ],
   "outputs": [
    {
     "data": {
      "text/plain": [
       "UserTO(id=0e73f297-992e-4bb3-945a-f56bb74e502d, username=Johann-32.13)"
      ]
     },
     "execution_count": 9,
     "metadata": {},
     "output_type": "execute_result"
    }
   ],
   "execution_count": 9
  },
  {
   "metadata": {
    "collapsed": true,
    "ExecuteTime": {
     "end_time": "2025-07-06T12:47:25.617403Z",
     "start_time": "2025-07-06T12:47:25.553385Z"
    }
   },
   "cell_type": "code",
   "source": [
    "val ACCOUNTS_YAML_FILE = \"../../data/provision/accounts.yaml\"\n",
    "val FUNDS_YAML_FILE = \"../../data/provision/funds.yaml\"\n",
    "val INITIAL_BALANCE_YAML_FILE = \"../../data/provision/initial-balance.yaml\"\n",
    "val IMPORT_CONFIGURATION_JSON_FILE = \"../../data/provision/import-configuration.json\"\n",
    "val IMPORT_CONFIGURATION_YAML_FILE = \"../../data/provision/import-configuration.yaml\"\n"
   ],
   "outputs": [],
   "execution_count": 10
  },
  {
   "metadata": {
    "ExecuteTime": {
     "end_time": "2025-07-06T12:47:31.216080Z",
     "start_time": "2025-07-06T12:47:25.631358Z"
    }
   },
   "cell_type": "code",
   "source": [
    "import ro.jf.funds.account.api.model.*\n",
    "\n",
    "val accounts = client.provisionAccounts(user, client.fromYaml(File(ACCOUNTS_YAML_FILE)))\n",
    "accounts.map { it.toString() }.joinToString(separator = \"\\n\")"
   ],
   "outputs": [
    {
     "data": {
      "text/plain": [
       "AccountTO(id=52aaa43d-470d-435d-91fc-4d0c724c66fc, name=Cash RON, unit=Currency(value=RON))\n",
       "AccountTO(id=6cbb4694-b1d4-404c-8503-296ec32026b7, name=Cash EUR, unit=Currency(value=EUR))\n",
       "AccountTO(id=d24cc0e6-7bb4-4bad-a6fa-000d6f37c76d, name=Cash EUR-RON, unit=Currency(value=RON))\n",
       "AccountTO(id=6159bad0-e987-4540-9753-49da1489b371, name=ING RON, unit=Currency(value=RON))\n",
       "AccountTO(id=e194bbca-0a43-4e15-8bdd-8d64fcfb7e27, name=ING Economy, unit=Currency(value=RON))\n",
       "AccountTO(id=57c01eff-7bc4-4c5f-973c-0bc319379f45, name=Food Coupons, unit=Currency(value=RON))\n",
       "AccountTO(id=e7172783-ad56-4e2c-9fff-09a205b2cb89, name=Revolut RON, unit=Currency(value=RON))\n",
       "AccountTO(id=ea5090c5-6655-4598-ab58-ed6590a16e98, name=Other, unit=Currency(value=RON))\n",
       "AccountTO(id=b41dbf63-31c7-4c20-8fec-d8545e9e4af0, name=BT RON, unit=Currency(value=RON))\n",
       "AccountTO(id=0c84074f-034d-44bc-895d-a8efee39963d, name=BT Economy RON, unit=Currency(value=RON))\n",
       "AccountTO(id=43ea2c19-7196-4a3d-8568-c415bd7fd42b, name=BT Philocode RON, unit=Currency(value=RON))"
      ]
     },
     "execution_count": 11,
     "metadata": {},
     "output_type": "execute_result"
    }
   ],
   "execution_count": 11
  },
  {
   "metadata": {
    "ExecuteTime": {
     "end_time": "2025-07-06T12:47:35.287401Z",
     "start_time": "2025-07-06T12:47:31.233957Z"
    }
   },
   "cell_type": "code",
   "source": [
    "import ro.jf.funds.fund.api.model.*\n",
    "\n",
    "val funds = client.provisionFunds(user, client.fromYaml(File(FUNDS_YAML_FILE)))\n",
    "funds.map { it.toString() }.joinToString(separator = \"\\n\")"
   ],
   "outputs": [
    {
     "data": {
      "text/plain": [
       "FundTO(id=e775df42-1039-4a01-a530-b6c8375d24d3, name=Expenses)\n",
       "FundTO(id=8036041f-189d-4aa1-ab0d-c6b3e30edcec, name=Work Income)\n",
       "FundTO(id=69586c9f-6094-4619-ad4d-536c943abc8b, name=Other Income)\n",
       "FundTO(id=3c993182-0453-419f-acd2-fb75d5359e1c, name=Savings)"
      ]
     },
     "execution_count": 12,
     "metadata": {},
     "output_type": "execute_result"
    }
   ],
   "execution_count": 12
  },
  {
   "metadata": {
    "ExecuteTime": {
     "end_time": "2025-07-06T12:47:39.312918Z",
     "start_time": "2025-07-06T12:47:35.318880Z"
    }
   },
   "cell_type": "code",
   "source": [
    "import ro.jf.funds.fund.api.model.*\n",
    "\n",
    "val initialBalancesTransactions = client.provisionInitialBalances(user, accounts, funds, client.fromYaml(File(INITIAL_BALANCE_YAML_FILE)))\n",
    "initialBalancesTransactions.map { it.toString() }.joinToString(separator = \"\\n\")"
   ],
   "outputs": [
    {
     "data": {
      "text/plain": [
       "FundTransactionTO(id=a4531ed9-cc28-4ae0-94f3-0d266b55b17f, userId=0e73f297-992e-4bb3-945a-f56bb74e502d, dateTime=2018-12-31T00:00, records=[FundRecordTO(id=09e2c3c5-0b59-403b-b68c-0b7625116fe1, fundId=e775df42-1039-4a01-a530-b6c8375d24d3, accountId=52aaa43d-470d-435d-91fc-4d0c724c66fc, amount=474.5, unit=Currency(value=RON), labels=[])])\n",
       "FundTransactionTO(id=808aa49e-70ee-4236-8a7f-f86791bd6941, userId=0e73f297-992e-4bb3-945a-f56bb74e502d, dateTime=2018-12-31T00:00, records=[FundRecordTO(id=d0c11991-b764-4733-aa42-522cd8675942, fundId=e775df42-1039-4a01-a530-b6c8375d24d3, accountId=57c01eff-7bc4-4c5f-973c-0bc319379f45, amount=45.96, unit=Currency(value=RON), labels=[])])\n",
       "FundTransactionTO(id=50be6688-34b9-4e13-8858-4c23f2edbf0c, userId=0e73f297-992e-4bb3-945a-f56bb74e502d, dateTime=2018-12-31T00:00, records=[FundRecordTO(id=f2ede993-5a52-4775-9fc2-3ddee278fe07, fundId=e775df42-1039-4a01-a530-b6c8375d24d3, accountId=ea5090c5-6655-4598-ab58-ed6590a16e98, amount=3051.9, unit=Currency(value=RON), labels=[])])\n",
       "FundTransactionTO(id=27d8320f-8d71-4177-a089-f523f8dff637, userId=0e73f297-992e-4bb3-945a-f56bb74e502d, dateTime=2018-12-31T00:00, records=[FundRecordTO(id=8d2044bf-896d-4e63-a971-e3db5f31a8b8, fundId=e775df42-1039-4a01-a530-b6c8375d24d3, accountId=b41dbf63-31c7-4c20-8fec-d8545e9e4af0, amount=2194.13, unit=Currency(value=RON), labels=[])])"
      ]
     },
     "execution_count": 13,
     "metadata": {},
     "output_type": "execute_result"
    }
   ],
   "execution_count": 13
  },
  {
   "metadata": {
    "ExecuteTime": {
     "end_time": "2025-07-06T12:48:26.832150Z",
     "start_time": "2025-07-06T12:47:39.324722Z"
    }
   },
   "cell_type": "code",
   "source": [
    "import ro.jf.funds.importer.api.model.*\n",
    "\n",
    "val csvFiles =\n",
    "    listOf(File(\"../../data/wallet/2019\"), File(\"../../data/wallet/2020\"), File(\"../../data/wallet/2021\"))\n",
    "        .flatMap { it.listFiles()?.toList() ?: error(\"no files found\") }\n",
    "val importTask = client.importTransactions(user, client.fromYaml(File(IMPORT_CONFIGURATION_YAML_FILE)), csvFiles)\n",
    "importTask"
   ],
   "outputs": [
    {
     "data": {
      "text/plain": [
       "ImportTaskTO(taskId=f915a2e1-6980-4d5c-8908-1b585dd5bd30, status=COMPLETED, reason=null)"
      ]
     },
     "execution_count": 14,
     "metadata": {},
     "output_type": "execute_result"
    }
   ],
   "execution_count": 14
  }
 ],
 "metadata": {
  "kernelspec": {
   "display_name": "Kotlin",
   "language": "kotlin",
   "name": "kotlin"
  },
  "language_info": {
   "name": "kotlin",
   "version": "1.9.23",
   "mimetype": "text/x-kotlin",
   "file_extension": ".kt",
   "pygments_lexer": "kotlin",
   "codemirror_mode": "text/x-kotlin",
   "nbconvert_exporter": ""
  },
  "ktnbPluginMetadata": {
   "projectDependencies": [
    "funds.commons-api"
   ]
  }
 },
 "nbformat": 4,
 "nbformat_minor": 0
}
