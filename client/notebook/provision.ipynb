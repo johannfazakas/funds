{
 "cells": [
  {
   "metadata": {
    "ExecuteTime": {
     "end_time": "2025-07-05T10:17:07.762687Z",
     "start_time": "2025-07-05T10:17:01.676705Z"
    }
   },
   "cell_type": "code",
   "source": [
    "@file:DependsOn(\"ro.jf.funds:funds-notebook-client:1.0.0\")\n",
    "%use dataframe\n",
    "\n",
    "import ro.jf.funds.client.notebook.*\n",
    "\n",
    "val username = \"Johann-32.11\"\n",
    "\n",
    "val client = FundsClient()\n"
   ],
   "outputs": [],
   "execution_count": 15
  },
  {
   "metadata": {
    "ExecuteTime": {
     "end_time": "2025-07-05T10:17:16.944398Z",
     "start_time": "2025-07-05T10:17:07.808196Z"
    }
   },
   "cell_type": "code",
   "source": [
    "val user = client.ensureUserExists(username)\n",
    "user"
   ],
   "outputs": [
    {
     "data": {
      "text/plain": [
       "UserTO(id=37849d6d-6b01-4e56-bff9-8eb48c4506f5, username=Johann-32.11)"
      ]
     },
     "execution_count": 16,
     "metadata": {},
     "output_type": "execute_result"
    }
   ],
   "execution_count": 16
  },
  {
   "metadata": {
    "collapsed": true,
    "ExecuteTime": {
     "end_time": "2025-07-05T10:17:19.889618Z",
     "start_time": "2025-07-05T10:17:19.575765Z"
    }
   },
   "cell_type": "code",
   "source": [
    "val ACCOUNTS_YAML_FILE = \"../../data/provision/accounts.yaml\"\n",
    "val FUNDS_YAML_FILE = \"../../data/provision/funds.yaml\"\n",
    "val INITIAL_BALANCE_YAML_FILE = \"../../data/provision/initial-balance.yaml\"\n",
    "val IMPORT_CONFIGURATION_JSON_FILE = \"../../data/provision/import-configuration.json\"\n",
    "val IMPORT_CONFIGURATION_YAML_FILE = \"../../data/provision/import-configuration.yaml\"\n"
   ],
   "outputs": [],
   "execution_count": 17
  },
  {
   "metadata": {
    "ExecuteTime": {
     "end_time": "2025-07-05T10:17:34.923538Z",
     "start_time": "2025-07-05T10:17:19.927760Z"
    }
   },
   "cell_type": "code",
   "source": [
    "import ro.jf.funds.account.api.model.*\n",
    "\n",
    "val accounts = client.provisionAccounts(user, client.fromYaml(File(ACCOUNTS_YAML_FILE)))\n",
    "accounts.map { it.toString() }.joinToString(separator = \"\\n\")"
   ],
   "outputs": [
    {
     "data": {
      "text/plain": [
       "AccountTO(id=bfa1fd40-bb30-466d-849f-21ccfe95d17a, name=Cash RON, unit=Currency(value=RON))\n",
       "AccountTO(id=5c34cd16-c4df-4e8e-aba0-11fc96e74e62, name=Cash EUR, unit=Currency(value=EUR))\n",
       "AccountTO(id=869d819e-3975-4491-9607-5d33db8bbe1e, name=Cash EUR-RON, unit=Currency(value=RON))\n",
       "AccountTO(id=0c7909be-7995-47f0-914d-6f6189e2939f, name=ING RON, unit=Currency(value=RON))\n",
       "AccountTO(id=598644bf-be6d-437e-9138-8a9795ffc03b, name=ING Economy, unit=Currency(value=RON))\n",
       "AccountTO(id=070b8621-d3c4-44ae-87b8-593fb14d7d19, name=Food Coupons, unit=Currency(value=RON))\n",
       "AccountTO(id=a8bc6f10-5bb4-4d25-9b6c-35da6019815c, name=Revolut RON, unit=Currency(value=RON))\n",
       "AccountTO(id=46e8a478-4fd1-4b3d-b8c6-1c651eb7f265, name=Other, unit=Currency(value=RON))\n",
       "AccountTO(id=9e161a9a-f7b9-4287-b523-b2695c025e1c, name=BT RON, unit=Currency(value=RON))\n",
       "AccountTO(id=3f575cb1-28ac-4106-82e9-5d369dea1d94, name=BT Economy RON, unit=Currency(value=RON))\n",
       "AccountTO(id=1c660797-4329-46bf-a49f-36874870144e, name=BT Philocode RON, unit=Currency(value=RON))"
      ]
     },
     "execution_count": 18,
     "metadata": {},
     "output_type": "execute_result"
    }
   ],
   "execution_count": 18
  },
  {
   "metadata": {
    "ExecuteTime": {
     "end_time": "2025-07-05T10:17:48.582342Z",
     "start_time": "2025-07-05T10:17:38.095578Z"
    }
   },
   "cell_type": "code",
   "source": [
    "import ro.jf.funds.fund.api.model.*\n",
    "\n",
    "val funds = client.provisionFunds(user, client.fromYaml(File(FUNDS_YAML_FILE)))\n",
    "funds.map { it.toString() }.joinToString(separator = \"\\n\")"
   ],
   "outputs": [
    {
     "data": {
      "text/plain": [
       "FundTO(id=071d6dc7-cdb2-4a20-8daf-1cd29f09fc65, name=Expenses)\n",
       "FundTO(id=dbe6d4a9-b49d-4ed1-9dee-2a00287b39aa, name=Work Income)\n",
       "FundTO(id=217c6bcb-4325-44f4-88bf-0daedd0b8cc6, name=Other Income)\n",
       "FundTO(id=021af66d-944e-454e-b4f9-b08d08de3d02, name=Savings)"
      ]
     },
     "execution_count": 19,
     "metadata": {},
     "output_type": "execute_result"
    }
   ],
   "execution_count": 19
  },
  {
   "metadata": {
    "ExecuteTime": {
     "end_time": "2025-07-05T10:18:01.502022Z",
     "start_time": "2025-07-05T10:17:50.867719Z"
    }
   },
   "cell_type": "code",
   "source": [
    "import ro.jf.funds.fund.api.model.*\n",
    "\n",
    "val initialBalancesTransactions = client.provisionInitialBalances(user, accounts, funds, client.fromYaml(File(INITIAL_BALANCE_YAML_FILE)))\n",
    "initialBalancesTransactions.map { it.toString() }.joinToString(separator = \"\\n\")"
   ],
   "outputs": [
    {
     "data": {
      "text/plain": [
       "FundTransactionTO(id=ec0c0fc4-e03f-4e1a-87bc-c51a0f1f113a, userId=37849d6d-6b01-4e56-bff9-8eb48c4506f5, dateTime=2018-12-31T00:00, records=[FundRecordTO(id=7a86f6b6-4e3d-48ca-8086-ac8de5d281b6, fundId=071d6dc7-cdb2-4a20-8daf-1cd29f09fc65, accountId=bfa1fd40-bb30-466d-849f-21ccfe95d17a, amount=474.5, unit=Currency(value=RON), labels=[])])\n",
       "FundTransactionTO(id=7173be92-8ddf-4f6c-8b11-e86901295997, userId=37849d6d-6b01-4e56-bff9-8eb48c4506f5, dateTime=2018-12-31T00:00, records=[FundRecordTO(id=703d5ef2-02c1-4fd2-b17f-9c6d5bf9b611, fundId=071d6dc7-cdb2-4a20-8daf-1cd29f09fc65, accountId=070b8621-d3c4-44ae-87b8-593fb14d7d19, amount=45.96, unit=Currency(value=RON), labels=[])])\n",
       "FundTransactionTO(id=61e3ba15-5d55-47fd-9428-e7ca3298e1a6, userId=37849d6d-6b01-4e56-bff9-8eb48c4506f5, dateTime=2018-12-31T00:00, records=[FundRecordTO(id=32c65ce8-801c-41d2-bffa-ea09b5e0bbf4, fundId=071d6dc7-cdb2-4a20-8daf-1cd29f09fc65, accountId=46e8a478-4fd1-4b3d-b8c6-1c651eb7f265, amount=3051.9, unit=Currency(value=RON), labels=[])])\n",
       "FundTransactionTO(id=d86f005c-5ffd-4f0a-8d07-bc27b5acbc7c, userId=37849d6d-6b01-4e56-bff9-8eb48c4506f5, dateTime=2018-12-31T00:00, records=[FundRecordTO(id=40d53010-7f7e-4464-bef1-5540d89891bf, fundId=071d6dc7-cdb2-4a20-8daf-1cd29f09fc65, accountId=9e161a9a-f7b9-4287-b523-b2695c025e1c, amount=2194.13, unit=Currency(value=RON), labels=[])])"
      ]
     },
     "execution_count": 20,
     "metadata": {},
     "output_type": "execute_result"
    }
   ],
   "execution_count": 20
  },
  {
   "metadata": {
    "ExecuteTime": {
     "end_time": "2025-07-05T10:20:09.172695Z",
     "start_time": "2025-07-05T10:18:01.566306Z"
    }
   },
   "cell_type": "code",
   "source": [
    "import ro.jf.funds.importer.api.model.*\n",
    "\n",
    "val csvFiles =\n",
    "    listOf(File(\"../../data/wallet/2019\"), File(\"../../data/wallet/2020\"), File(\"../../data/wallet/2021\"))\n",
    "        .flatMap { it.listFiles()?.toList() ?: error(\"no files found\") }\n",
    "val importTask = client.importTransactions(user, client.fromYaml(File(IMPORT_CONFIGURATION_YAML_FILE)), csvFiles)\n",
    "importTask"
   ],
   "outputs": [
    {
     "data": {
      "text/plain": [
       "ImportTaskTO(taskId=1eacb364-a673-42cd-be3d-f22661bc6363, status=COMPLETED, reason=null)"
      ]
     },
     "execution_count": 21,
     "metadata": {},
     "output_type": "execute_result"
    }
   ],
   "execution_count": 21
  }
 ],
 "metadata": {
  "kernelspec": {
   "display_name": "Kotlin",
   "language": "kotlin",
   "name": "kotlin"
  },
  "language_info": {
   "name": "kotlin",
   "version": "1.9.23",
   "mimetype": "text/x-kotlin",
   "file_extension": ".kt",
   "pygments_lexer": "kotlin",
   "codemirror_mode": "text/x-kotlin",
   "nbconvert_exporter": ""
  },
  "ktnbPluginMetadata": {
   "projectDependencies": [
    "funds.commons-api"
   ]
  }
 },
 "nbformat": 4,
 "nbformat_minor": 0
}
