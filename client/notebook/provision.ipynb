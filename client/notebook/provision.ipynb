{
 "cells": [
  {
   "metadata": {
    "ExecuteTime": {
     "end_time": "2025-07-01T07:21:44.203718Z",
     "start_time": "2025-07-01T07:21:39.128606Z"
    }
   },
   "cell_type": "code",
   "source": [
    "@file:DependsOn(\"ro.jf.funds:funds-notebook-client:1.0.0\")\n",
    "%use dataframe\n",
    "\n",
    "import ro.jf.funds.client.notebook.*\n",
    "\n",
    "val username = \"Johann-29.0\"\n",
    "\n",
    "val client = FundsClient()\n"
   ],
   "outputs": [],
   "execution_count": 8
  },
  {
   "metadata": {
    "ExecuteTime": {
     "end_time": "2025-07-01T07:21:45.154798Z",
     "start_time": "2025-07-01T07:21:44.216862Z"
    }
   },
   "cell_type": "code",
   "source": [
    "val user = client.ensureUserExists(username)\n",
    "user"
   ],
   "outputs": [
    {
     "data": {
      "text/plain": [
       "UserTO(id=50bb6635-8bd9-46b5-9ddc-f14606913e0e, username=Johann-29.0)"
      ]
     },
     "execution_count": 9,
     "metadata": {},
     "output_type": "execute_result"
    }
   ],
   "execution_count": 9
  },
  {
   "metadata": {
    "collapsed": true,
    "ExecuteTime": {
     "end_time": "2025-07-01T07:21:45.236010Z",
     "start_time": "2025-07-01T07:21:45.173126Z"
    }
   },
   "cell_type": "code",
   "source": [
    "val ACCOUNTS_YAML_FILE = \"../../data/provision/accounts.yaml\"\n",
    "val FUNDS_YAML_FILE = \"../../data/provision/funds.yaml\"\n",
    "val INITIAL_BALANCE_YAML_FILE = \"../../data/provision/initial-balance.yaml\"\n",
    "val IMPORT_CONFIGURATION_JSON_FILE = \"../../data/provision/import-configuration.json\"\n",
    "val IMPORT_CONFIGURATION_YAML_FILE = \"../../data/provision/import-configuration.yaml\"\n"
   ],
   "outputs": [],
   "execution_count": 10
  },
  {
   "metadata": {
    "ExecuteTime": {
     "end_time": "2025-07-01T07:21:48.655911Z",
     "start_time": "2025-07-01T07:21:45.250516Z"
    }
   },
   "cell_type": "code",
   "source": [
    "import ro.jf.funds.account.api.model.*\n",
    "\n",
    "val accounts = client.provisionAccounts(user, client.fromYaml(File(ACCOUNTS_YAML_FILE)))\n",
    "accounts.map { it.toString() }.joinToString(separator = \"\\n\")"
   ],
   "outputs": [
    {
     "data": {
      "text/plain": [
       "AccountTO(id=1ea6f6a7-521f-43b4-b9b7-14ce2e1c8348, name=Cash RON, unit=Currency(value=RON))\n",
       "AccountTO(id=4ebc56db-c16c-4e49-8c71-f05b57faac18, name=Cash EUR, unit=Currency(value=EUR))\n",
       "AccountTO(id=a175c8c1-7cfd-4999-8352-c92fc9a4a618, name=ING RON, unit=Currency(value=RON))\n",
       "AccountTO(id=2ea17df0-4b1e-4091-b077-f5ed05d91c44, name=ING Economy, unit=Currency(value=RON))\n",
       "AccountTO(id=ff23d04c-2fe6-43cf-b081-c09751702d56, name=Food Coupons, unit=Currency(value=RON))\n",
       "AccountTO(id=87c6ad66-2edb-4394-874e-ab90278e9e96, name=Revolut RON, unit=Currency(value=RON))\n",
       "AccountTO(id=7f66493b-33af-4a80-ae48-684975531264, name=Other, unit=Currency(value=RON))\n",
       "AccountTO(id=51603918-191a-497a-a382-d967f43a03ec, name=BT RON, unit=Currency(value=RON))\n",
       "AccountTO(id=b62ab797-3489-4327-96fe-e52ecf391079, name=BT Economy RON, unit=Currency(value=RON))"
      ]
     },
     "execution_count": 11,
     "metadata": {},
     "output_type": "execute_result"
    }
   ],
   "execution_count": 11
  },
  {
   "metadata": {
    "ExecuteTime": {
     "end_time": "2025-07-01T07:21:50.228271Z",
     "start_time": "2025-07-01T07:21:48.673310Z"
    }
   },
   "cell_type": "code",
   "source": [
    "import ro.jf.funds.fund.api.model.*\n",
    "\n",
    "val funds = client.provisionFunds(user, client.fromYaml(File(FUNDS_YAML_FILE)))\n",
    "funds.map { it.toString() }.joinToString(separator = \"\\n\")"
   ],
   "outputs": [
    {
     "data": {
      "text/plain": [
       "FundTO(id=6dab554d-ad07-4ad5-b391-f2265dda4235, name=Expenses)\n",
       "FundTO(id=caaf409d-b2bd-4034-a646-814ea109f7a2, name=Work Income)\n",
       "FundTO(id=144d6e4e-9159-41d2-80e5-8f1811e60f6a, name=Savings)\n",
       "FundTO(id=f2f533fe-f2e4-4782-b720-e08c6acb735b, name=Gifts)"
      ]
     },
     "execution_count": 12,
     "metadata": {},
     "output_type": "execute_result"
    }
   ],
   "execution_count": 12
  },
  {
   "metadata": {
    "ExecuteTime": {
     "end_time": "2025-07-01T07:21:52.866350Z",
     "start_time": "2025-07-01T07:21:50.250279Z"
    }
   },
   "cell_type": "code",
   "source": [
    "import ro.jf.funds.fund.api.model.*\n",
    "\n",
    "val initialBalancesTransactions = client.provisionInitialBalances(user, accounts, funds, client.fromYaml(File(INITIAL_BALANCE_YAML_FILE)))\n",
    "initialBalancesTransactions.map { it.toString() }.joinToString(separator = \"\\n\")"
   ],
   "outputs": [
    {
     "data": {
      "text/plain": [
       "FundTransactionTO(id=356a11d5-86eb-4862-9d3e-8a5d8215b2e4, userId=50bb6635-8bd9-46b5-9ddc-f14606913e0e, dateTime=2018-12-31T00:00, records=[FundRecordTO(id=5bf84b86-38f7-4af2-9fe4-7696de9e59f4, fundId=6dab554d-ad07-4ad5-b391-f2265dda4235, accountId=1ea6f6a7-521f-43b4-b9b7-14ce2e1c8348, amount=474.5, unit=Currency(value=RON), labels=[])])\n",
       "FundTransactionTO(id=62c7de46-7777-491c-b96d-a85ffac87fdc, userId=50bb6635-8bd9-46b5-9ddc-f14606913e0e, dateTime=2018-12-31T00:00, records=[FundRecordTO(id=75ed54bb-d579-4cb6-9822-f55ce3191126, fundId=6dab554d-ad07-4ad5-b391-f2265dda4235, accountId=ff23d04c-2fe6-43cf-b081-c09751702d56, amount=45.96, unit=Currency(value=RON), labels=[])])\n",
       "FundTransactionTO(id=1d49e56e-aaae-4ddb-9c8c-6bb6bae35871, userId=50bb6635-8bd9-46b5-9ddc-f14606913e0e, dateTime=2018-12-31T00:00, records=[FundRecordTO(id=a1c2d1f5-e415-454d-a960-a4bdc3525b7e, fundId=6dab554d-ad07-4ad5-b391-f2265dda4235, accountId=7f66493b-33af-4a80-ae48-684975531264, amount=3051.9, unit=Currency(value=RON), labels=[])])\n",
       "FundTransactionTO(id=647e213c-b1cf-4d52-bf65-18cd71365e81, userId=50bb6635-8bd9-46b5-9ddc-f14606913e0e, dateTime=2018-12-31T00:00, records=[FundRecordTO(id=36db802b-c52c-4038-a118-ac84cd194ba4, fundId=6dab554d-ad07-4ad5-b391-f2265dda4235, accountId=51603918-191a-497a-a382-d967f43a03ec, amount=2194.13, unit=Currency(value=RON), labels=[])])"
      ]
     },
     "execution_count": 13,
     "metadata": {},
     "output_type": "execute_result"
    }
   ],
   "execution_count": 13
  },
  {
   "metadata": {
    "ExecuteTime": {
     "end_time": "2025-07-01T07:22:12.245322Z",
     "start_time": "2025-07-01T07:21:52.874318Z"
    }
   },
   "cell_type": "code",
   "source": [
    "import ro.jf.funds.importer.api.model.*\n",
    "\n",
    "val csvFiles =\n",
    "    listOf(File(\"../../data/wallet/2019\"), File(\"../../data/wallet/2020\"), File(\"../../data/wallet/2021\"))\n",
    "        .flatMap { it.listFiles()?.toList() ?: error(\"no files found\") }\n",
    "val importTask = client.importTransactions(user, client.fromYaml(File(IMPORT_CONFIGURATION_YAML_FILE)), csvFiles)\n"
   ],
   "outputs": [],
   "execution_count": 14
  }
 ],
 "metadata": {
  "kernelspec": {
   "display_name": "Kotlin",
   "language": "kotlin",
   "name": "kotlin"
  },
  "language_info": {
   "name": "kotlin",
   "version": "1.9.23",
   "mimetype": "text/x-kotlin",
   "file_extension": ".kt",
   "pygments_lexer": "kotlin",
   "codemirror_mode": "text/x-kotlin",
   "nbconvert_exporter": ""
  },
  "ktnbPluginMetadata": {
   "projectDependencies": [
    "funds.commons-api"
   ]
  }
 },
 "nbformat": 4,
 "nbformat_minor": 0
}
