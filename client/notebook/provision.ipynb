{
 "cells": [
  {
   "metadata": {
    "ExecuteTime": {
     "end_time": "2025-06-05T15:23:40.542205Z",
     "start_time": "2025-06-05T15:23:31.958937Z"
    }
   },
   "cell_type": "code",
   "source": [
    "@file:DependsOn(\"io.ktor:ktor-client-core:3.1.3\")\n",
    "@file:DependsOn(\"io.ktor:ktor-client-cio:3.1.3\")\n",
    "@file:DependsOn(\"io.ktor:ktor-client-content-negotiation:3.1.3\")\n",
    "@file:DependsOn(\"io.ktor:ktor-serialization-kotlinx-json:3.1.3\")\n",
    "@file:DependsOn(\"com.charleskorn.kaml:kaml-jvm:0.67.0\")\n",
    "@file:DependsOn(\"ro.jf.funds:user-sdk:1.0.0\")\n",
    "@file:DependsOn(\"ro.jf.funds:import-sdk:1.0.0\")\n",
    "@file:DependsOn(\"ro.jf.funds:fund-sdk:1.0.0\")\n",
    "@file:DependsOn(\"ro.jf.funds:account-sdk:1.0.0\")\n",
    "@file:DependsOn(\"ro.jf.funds:funds-notebook-client:1.0.0\")\n",
    "%use dataframe\n",
    "\n",
    "import ro.jf.funds.client.notebook.*\n",
    "\n",
    "val client = FundsClient()\n",
    "val user = client.ensureUserExists(\"Johann-18.3\")\n",
    "user"
   ],
   "outputs": [
    {
     "data": {
      "text/plain": [
       "UserTO(id=7069fa18-f028-4b65-b378-31a0266d611b, username=Johann-18.3)"
      ]
     },
     "execution_count": 2,
     "metadata": {},
     "output_type": "execute_result"
    }
   ],
   "execution_count": 2
  },
  {
   "metadata": {
    "collapsed": true,
    "ExecuteTime": {
     "end_time": "2025-06-05T15:23:40.840876Z",
     "start_time": "2025-06-05T15:23:40.636604Z"
    }
   },
   "cell_type": "code",
   "source": [
    "import ro.jf.funds.account.sdk.AccountSdk\n",
    "import ro.jf.funds.fund.sdk.FundSdk\n",
    "import ro.jf.funds.importer.sdk.ImportSdk\n",
    "\n",
    "val ACCOUNTS_YAML_FILE = \"../../data/provision/accounts.yaml\"\n",
    "val FUNDS_YAML_FILE = \"../../data/provision/funds.yaml\"\n",
    "val IMPORT_CONFIGURATION_JSON_FILE = \"../../data/provision/import-configuration.json\"\n",
    "val IMPORT_CONFIGURATION_YAML_FILE = \"../../data/provision/import-configuration.yaml\"\n",
    "\n",
    "val accountSdk = AccountSdk()\n",
    "val fundSdk = FundSdk()\n",
    "val importSdk = ImportSdk()\n"
   ],
   "outputs": [],
   "execution_count": 3
  },
  {
   "metadata": {
    "ExecuteTime": {
     "end_time": "2025-06-05T15:23:53.375575Z",
     "start_time": "2025-06-05T15:23:40.849537Z"
    }
   },
   "cell_type": "code",
   "source": [
    "import ro.jf.funds.account.api.model.*\n",
    "import ro.jf.funds.commons.model.*\n",
    "import kotlinx.coroutines.runBlocking\n",
    "import com.charleskorn.kaml.Yaml\n",
    "import kotlinx.serialization.builtins.ListSerializer\n",
    "\n",
    "val accounts = runBlocking {\n",
    "    val existingAccounts = accountSdk.listAccounts(user.id).items\n",
    "    val existingAccountNames = existingAccounts.map { it.name }.toSet()\n",
    "    val newAccounts = File(ACCOUNTS_YAML_FILE).readText()\n",
    "        .let { Yaml.default.decodeFromString(ListSerializer(CreateAccountTO.serializer()), it) }\n",
    "        .filter { it.name !in existingAccountNames }\n",
    "        .map { accountSdk.createAccount(user.id, it) }\n",
    "    existingAccounts + newAccounts\n",
    "}\n",
    "accounts.map { it.toString() }.joinToString(separator = \"\\n\")"
   ],
   "outputs": [
    {
     "data": {
      "text/plain": [
       "AccountTO(id=94b95af0-486c-4a27-bf40-ef1031291621, name=Cash RON, unit=Currency(value=RON))\n",
       "AccountTO(id=164636d5-8f21-4b9a-a470-4d61c6399651, name=Cash EUR, unit=Currency(value=EUR))\n",
       "AccountTO(id=80231cc0-e075-40df-ad05-846ceb0008e0, name=ING RON, unit=Currency(value=RON))\n",
       "AccountTO(id=22bcf473-349e-4759-8286-9367a9474c54, name=ING Economy, unit=Currency(value=RON))\n",
       "AccountTO(id=62195944-9922-4c12-9fab-400ee0d4d253, name=Food Coupons, unit=Currency(value=RON))\n",
       "AccountTO(id=0bd5d2ac-04bd-4ca2-9614-415bc0bc77bc, name=Revolut RON, unit=Currency(value=RON))\n",
       "AccountTO(id=b50caf21-d60a-466d-873e-fba3b6fdf5e0, name=Other, unit=Currency(value=RON))\n",
       "AccountTO(id=808a32d8-7b37-4580-96fa-ab676463378a, name=BT RON, unit=Currency(value=RON))\n",
       "AccountTO(id=192cca1a-8673-4d83-af24-60fbe9e66423, name=BT Economy RON, unit=Currency(value=RON))"
      ]
     },
     "execution_count": 4,
     "metadata": {},
     "output_type": "execute_result"
    }
   ],
   "execution_count": 4
  },
  {
   "metadata": {
    "ExecuteTime": {
     "end_time": "2025-06-05T15:23:58.777791Z",
     "start_time": "2025-06-05T15:23:53.432974Z"
    }
   },
   "cell_type": "code",
   "source": [
    "import ro.jf.funds.fund.api.model.*\n",
    "import kotlinx.coroutines.runBlocking\n",
    "\n",
    "val funds = runBlocking {\n",
    "    val existingFunds = fundSdk.listFunds(user.id).items\n",
    "    val existingFundNames = existingFunds.map { it.name }.toSet()\n",
    "    val newFunds = File(FUNDS_YAML_FILE).readText()\n",
    "        .let { Yaml.default.decodeFromString(ListSerializer(CreateFundTO.serializer()), it) }\n",
    "        .filter { it.name !in existingFundNames }\n",
    "        .map { fundSdk.createFund(user.id, it) }\n",
    "    existingFunds + newFunds\n",
    "}\n",
    "funds.map { it.toString() }.joinToString(separator = \"\\n\")"
   ],
   "outputs": [
    {
     "data": {
      "text/plain": [
       "FundTO(id=429a4bb1-512c-419b-8a04-2da54d4717a6, name=Expenses)\n",
       "FundTO(id=627bde37-5fa9-4364-a431-2cd147a28ecb, name=Work Income)\n",
       "FundTO(id=ea3e5b72-5095-4711-aa78-a4f5c720f6d9, name=Savings)\n",
       "FundTO(id=308d7284-e713-4c4a-b777-b40f82cf2a13, name=Gifts)"
      ]
     },
     "execution_count": 5,
     "metadata": {},
     "output_type": "execute_result"
    }
   ],
   "execution_count": 5
  },
  {
   "metadata": {
    "ExecuteTime": {
     "end_time": "2025-06-05T15:23:58.982435Z",
     "start_time": "2025-06-05T15:23:58.859834Z"
    }
   },
   "cell_type": "code",
   "source": [
    "import ro.jf.funds.importer.api.model.*\n",
    "import kotlinx.serialization.json.Json\n",
    "\n",
    "val dataConfigurationRawYaml: String = File(IMPORT_CONFIGURATION_YAML_FILE).readText()\n",
    "val importConfiguration = Yaml.default.decodeFromString(ImportConfigurationTO.serializer(), dataConfigurationRawYaml)"
   ],
   "outputs": [],
   "execution_count": 6
  },
  {
   "metadata": {},
   "cell_type": "markdown",
   "source": ""
  },
  {
   "metadata": {
    "ExecuteTime": {
     "end_time": "2025-06-05T15:24:49.578470Z",
     "start_time": "2025-06-05T15:23:58.990971Z"
    }
   },
   "cell_type": "code",
   "source": [
    "import kotlinx.coroutines.delay\n",
    "import kotlinx.coroutines.runBlocking\n",
    "import kotlinx.datetime.Clock\n",
    "import ro.jf.funds.importer.api.model.*\n",
    "import java.io.File\n",
    "import java.util.*\n",
    "import kotlin.time.Duration\n",
    "\n",
    "val csvFiles =\n",
    "    listOf(File(\"../../data/wallet/2019\"), File(\"../../data/wallet/2020\"))\n",
    "        .flatMap { it.listFiles()?.toList() ?: error(\"no files found\") }\n",
    "runBlocking {\n",
    "    var importTask = importSdk.import(user.id, importConfiguration, csvFiles)\n",
    "    val now: Instant = Clock.System.now()\n",
    "    val timeout = 60.seconds\n",
    "    while (importTask.status == ImportTaskTO.Status.IN_PROGRESS && Clock.System.now() - now < timeout) {\n",
    "        delay(500)\n",
    "        importTask = importSdk.getImportTask(user.id, importTask.taskId)\n",
    "    }\n",
    "    importTask\n",
    "}\n"
   ],
   "outputs": [
    {
     "data": {
      "text/plain": [
       "ImportTaskTO(taskId=d756a5ee-9f68-483e-8fc8-116e7c607345, status=COMPLETED, reason=null)"
      ]
     },
     "execution_count": 7,
     "metadata": {},
     "output_type": "execute_result"
    }
   ],
   "execution_count": 7
  }
 ],
 "metadata": {
  "kernelspec": {
   "display_name": "Kotlin",
   "language": "kotlin",
   "name": "kotlin"
  },
  "language_info": {
   "name": "kotlin",
   "version": "1.9.23",
   "mimetype": "text/x-kotlin",
   "file_extension": ".kt",
   "pygments_lexer": "kotlin",
   "codemirror_mode": "text/x-kotlin",
   "nbconvert_exporter": ""
  },
  "ktnbPluginMetadata": {
   "projectDependencies": [
    "funds.commons-api"
   ]
  }
 },
 "nbformat": 4,
 "nbformat_minor": 0
}
