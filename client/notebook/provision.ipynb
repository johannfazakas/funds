{
 "cells": [
  {
   "metadata": {
    "ExecuteTime": {
     "end_time": "2025-08-06T07:08:40.109124Z",
     "start_time": "2025-08-06T07:08:36.125368Z"
    }
   },
   "cell_type": "code",
   "source": [
    "@file:DependsOn(\"ro.jf.funds:funds-notebook-client:1.0.0\")\n",
    "%use dataframe\n",
    "\n",
    "import ro.jf.funds.client.notebook.*\n",
    "\n",
    "val username = \"Johann-42.4\"\n",
    "\n",
    "val client = FundsClient()\n"
   ],
   "outputs": [],
   "execution_count": 1
  },
  {
   "metadata": {
    "ExecuteTime": {
     "end_time": "2025-08-06T07:08:40.514129Z",
     "start_time": "2025-08-06T07:08:40.133990Z"
    }
   },
   "cell_type": "code",
   "source": [
    "val user = client.ensureUserExists(username)\n",
    "user"
   ],
   "outputs": [
    {
     "data": {
      "text/plain": [
       "UserTO(id=6a71c209-44a0-472e-a356-ab5417e9be96, username=Johann-42.4)"
      ]
     },
     "execution_count": 2,
     "metadata": {},
     "output_type": "execute_result"
    }
   ],
   "execution_count": 2
  },
  {
   "metadata": {
    "collapsed": true,
    "ExecuteTime": {
     "end_time": "2025-08-06T07:08:40.595301Z",
     "start_time": "2025-08-06T07:08:40.539296Z"
    }
   },
   "cell_type": "code",
   "source": [
    "val ACCOUNTS_YAML_FILE = \"../../data/provision/accounts.yaml\"\n",
    "val FUNDS_YAML_FILE = \"../../data/provision/funds.yaml\"\n",
    "val INITIAL_BALANCE_YAML_FILE = \"../../data/provision/initial-balance.yaml\"\n",
    "val IMPORT_CONFIGURATION_JSON_FILE = \"../../data/provision/import-configuration.json\"\n",
    "val WALLET_IMPORT_CONFIGURATION_YAML_FILE = \"../../data/provision/wallet-import-configuration.yaml\"\n",
    "val INVESTMENT_IMPORT_CONFIGURATION_YAML_FILE = \"../../data/provision/investment-import-configuration.yaml\""
   ],
   "outputs": [],
   "execution_count": 3
  },
  {
   "metadata": {
    "ExecuteTime": {
     "end_time": "2025-08-06T07:08:42.893101Z",
     "start_time": "2025-08-06T07:08:40.726087Z"
    }
   },
   "cell_type": "code",
   "source": [
    "import ro.jf.funds.account.api.model.*\n",
    "\n",
    "val accounts = client.provisionAccounts(user, client.fromYaml(File(ACCOUNTS_YAML_FILE)))\n",
    "accounts.map { it.toString() }.joinToString(separator = \"\\n\")"
   ],
   "outputs": [
    {
     "data": {
      "text/plain": [
       "AccountTO(id=c9fab6c2-125b-4d3c-971a-acf7119532d9, name=Cash RON, unit=Currency(value=RON))\n",
       "AccountTO(id=2c5a336a-58a1-4a8d-a6fc-93c514566c77, name=Cash EUR, unit=Currency(value=EUR))\n",
       "AccountTO(id=da6856f9-645f-49fd-bc8d-e4839c91cee8, name=Cash EUR-RON, unit=Currency(value=RON))\n",
       "AccountTO(id=8858101f-4751-4ddd-a2fc-df4a8b990e53, name=ING RON, unit=Currency(value=RON))\n",
       "AccountTO(id=69cb73ee-5065-4fc8-a858-f1fa84d6c6bf, name=ING Economy, unit=Currency(value=RON))\n",
       "AccountTO(id=7f3ec050-f9da-42d5-bf2c-0f30b510c5e9, name=Food Coupons, unit=Currency(value=RON))\n",
       "AccountTO(id=7620f9a8-1cdb-4d85-b95c-2a0a9cd670ed, name=Revolut RON, unit=Currency(value=RON))\n",
       "AccountTO(id=1f686696-ed89-4f95-aae1-581f1e7d5134, name=Revolut EUR-RON, unit=Currency(value=RON))\n",
       "AccountTO(id=edfbfc66-ed98-40cb-a569-efeb1b59ff31, name=Other, unit=Currency(value=RON))\n",
       "AccountTO(id=40ee5584-367a-405a-8ad4-b50c21d4f410, name=BT RON, unit=Currency(value=RON))\n",
       "AccountTO(id=ab1c3809-4fa0-4f80-b5aa-1cda3439ccda, name=BT EUR-RON, unit=Currency(value=RON))\n",
       "AccountTO(id=6297379e-7752-4860-8ad3-96abccf6f477, name=BT Economy RON, unit=Currency(value=RON))\n",
       "AccountTO(id=627c64ca-0d61-4c7e-aac0-9628b5dd48c4, name=BT Depozit RON, unit=Currency(value=RON))\n",
       "AccountTO(id=30b3734d-69ae-494c-8f72-bd2621a38bd9, name=BT Philocode RON, unit=Currency(value=RON))\n",
       "AccountTO(id=9b215e06-c509-4c50-98db-61d02f99bdf4, name=XTB EUR, unit=Currency(value=EUR))\n",
       "AccountTO(id=8e09f03e-87c2-4ada-8d5f-5acc952dbeb9, name=XTB EUNL, unit=Symbol(value=EUNL))\n",
       "AccountTO(id=6b26205d-382e-4481-8dcd-4d401c451e9b, name=XTB QDVE, unit=Symbol(value=QDVE))\n",
       "AccountTO(id=5b841b3b-d6eb-4aa1-8457-15b196b61671, name=XTB IMAE, unit=Symbol(value=IMAE))\n",
       "AccountTO(id=d91c5e83-6503-4c69-bed5-54b90796d2f7, name=XTB IS3N, unit=Symbol(value=IS3N))\n",
       "AccountTO(id=ef79ff83-68ab-43dc-9626-7a1fc248819a, name=XTB SXR8, unit=Symbol(value=SXR8))\n",
       "AccountTO(id=df72f34d-20dc-4655-9cca-898ac7fd69eb, name=XTB SUSW, unit=Symbol(value=SUSW))"
      ]
     },
     "execution_count": 4,
     "metadata": {},
     "output_type": "execute_result"
    }
   ],
   "execution_count": 4
  },
  {
   "metadata": {
    "ExecuteTime": {
     "end_time": "2025-08-06T07:08:44.353893Z",
     "start_time": "2025-08-06T07:08:43.410738Z"
    }
   },
   "cell_type": "code",
   "source": [
    "import ro.jf.funds.fund.api.model.*\n",
    "\n",
    "val funds = client.provisionFunds(user, client.fromYaml(File(FUNDS_YAML_FILE)))\n",
    "funds.map { it.toString() }.joinToString(separator = \"\\n\")"
   ],
   "outputs": [
    {
     "data": {
      "text/plain": [
       "FundTO(id=1a289583-85eb-40f7-8fb2-155e613e571a, name=Expenses)\n",
       "FundTO(id=da6a4a15-99b0-4d65-ad8c-1d6390ac78c1, name=Work Income)\n",
       "FundTO(id=e8799453-8ab4-4e46-997c-99b7844d6c7d, name=Other Income)\n",
       "FundTO(id=aa2a24c8-ecb6-4dea-9b21-8e37895eb8f9, name=Savings)\n",
       "FundTO(id=89859021-9fec-4ced-aa3b-c77ca341e772, name=Investments)"
      ]
     },
     "execution_count": 5,
     "metadata": {},
     "output_type": "execute_result"
    }
   ],
   "execution_count": 5
  },
  {
   "metadata": {
    "ExecuteTime": {
     "end_time": "2025-08-06T07:08:45.848984Z",
     "start_time": "2025-08-06T07:08:44.373874Z"
    }
   },
   "cell_type": "code",
   "source": [
    "import ro.jf.funds.fund.api.model.*\n",
    "\n",
    "val initialBalancesTransactions = client.provisionInitialBalances(user, accounts, funds, client.fromYaml(File(INITIAL_BALANCE_YAML_FILE)))\n",
    "initialBalancesTransactions.map { it.toString() }.joinToString(separator = \"\\n\")"
   ],
   "outputs": [
    {
     "data": {
      "text/plain": [
       "FundTransactionTO(id=bfa46a84-a207-4df1-ac41-834ad5996cc7, userId=6a71c209-44a0-472e-a356-ab5417e9be96, dateTime=2018-12-31T00:00, records=[FundRecordTO(id=cf180920-665b-45cf-a5c5-60a21bea3371, fundId=1a289583-85eb-40f7-8fb2-155e613e571a, accountId=c9fab6c2-125b-4d3c-971a-acf7119532d9, amount=553.5, unit=Currency(value=RON), labels=[])])\n",
       "FundTransactionTO(id=7e692579-83fe-4798-9d74-b5527036870b, userId=6a71c209-44a0-472e-a356-ab5417e9be96, dateTime=2018-12-31T00:00, records=[FundRecordTO(id=39a37119-82e9-4dad-9c45-4cbf87acea7c, fundId=1a289583-85eb-40f7-8fb2-155e613e571a, accountId=7f3ec050-f9da-42d5-bf2c-0f30b510c5e9, amount=45.96, unit=Currency(value=RON), labels=[])])\n",
       "FundTransactionTO(id=de3a7818-09bf-462a-9a88-509c9141f761, userId=6a71c209-44a0-472e-a356-ab5417e9be96, dateTime=2018-12-31T00:00, records=[FundRecordTO(id=611d6b3c-a4c9-4aa8-a1c8-c7bc65bc4e20, fundId=1a289583-85eb-40f7-8fb2-155e613e571a, accountId=edfbfc66-ed98-40cb-a569-efeb1b59ff31, amount=3051.9, unit=Currency(value=RON), labels=[])])\n",
       "FundTransactionTO(id=7d51f1de-e685-45c1-b455-236790e1ea41, userId=6a71c209-44a0-472e-a356-ab5417e9be96, dateTime=2018-12-31T00:00, records=[FundRecordTO(id=e5ad57fb-8d35-4581-814e-5eac950e5184, fundId=1a289583-85eb-40f7-8fb2-155e613e571a, accountId=40ee5584-367a-405a-8ad4-b50c21d4f410, amount=7708.46, unit=Currency(value=RON), labels=[])])\n",
       "FundTransactionTO(id=77d54544-67f7-4b15-8be5-de4182266a88, userId=6a71c209-44a0-472e-a356-ab5417e9be96, dateTime=2018-12-31T00:00, records=[FundRecordTO(id=a9686c27-c1d5-45b6-a7db-1ec2f6b4a9a8, fundId=1a289583-85eb-40f7-8fb2-155e613e571a, accountId=8858101f-4751-4ddd-a2fc-df4a8b990e53, amount=-3037.15, unit=Currency(value=RON), labels=[])])"
      ]
     },
     "execution_count": 6,
     "metadata": {},
     "output_type": "execute_result"
    }
   ],
   "execution_count": 6
  },
  {
   "metadata": {
    "ExecuteTime": {
     "end_time": "2025-08-06T07:08:50.193832Z",
     "start_time": "2025-08-06T07:08:45.877744Z"
    }
   },
   "cell_type": "code",
   "source": [
    "\n",
    "val investmentCsvFiles =\n",
    "    listOf(File(\"../../data/investment/2022\"))\n",
    "        .flatMap { it.listFiles()?.toList() ?: error(\"no files found\") }\n",
    "val importTask = client.importTransactions(user, client.fromYaml(File(INVESTMENT_IMPORT_CONFIGURATION_YAML_FILE)), investmentCsvFiles)\n",
    "importTask"
   ],
   "outputs": [
    {
     "data": {
      "text/plain": [
       "ImportTaskTO(taskId=c1c14036-34dc-4b1e-8928-1eb6aa00099d, status=COMPLETED, reason=null)"
      ]
     },
     "execution_count": 7,
     "metadata": {},
     "output_type": "execute_result"
    }
   ],
   "execution_count": 7
  },
  {
   "metadata": {
    "ExecuteTime": {
     "end_time": "2025-08-06T07:09:15.518360Z",
     "start_time": "2025-08-06T07:08:50.211622Z"
    }
   },
   "cell_type": "code",
   "source": [
    "import ro.jf.funds.importer.api.model.*\n",
    "\n",
    "val csvFiles =\n",
    "    listOf(File(\"../../data/wallet/2019\"), File(\"../../data/wallet/2020\"), File(\"../../data/wallet/2021\"), File(\"../../data/wallet/2022\"))\n",
    "        .flatMap { it.listFiles()?.toList() ?: error(\"no files found\") }\n",
    "val importTask = client.importTransactions(user, client.fromYaml(File(WALLET_IMPORT_CONFIGURATION_YAML_FILE)), csvFiles)\n",
    "importTask"
   ],
   "outputs": [
    {
     "data": {
      "text/plain": [
       "ImportTaskTO(taskId=8538a8e1-829a-464d-8330-224767a9d31a, status=COMPLETED, reason=null)"
      ]
     },
     "execution_count": 8,
     "metadata": {},
     "output_type": "execute_result"
    }
   ],
   "execution_count": 8
  }
 ],
 "metadata": {
  "kernelspec": {
   "display_name": "Kotlin",
   "language": "kotlin",
   "name": "kotlin"
  },
  "language_info": {
   "name": "kotlin",
   "version": "1.9.23",
   "mimetype": "text/x-kotlin",
   "file_extension": ".kt",
   "pygments_lexer": "kotlin",
   "codemirror_mode": "text/x-kotlin",
   "nbconvert_exporter": ""
  },
  "ktnbPluginMetadata": {
   "projectDependencies": [
    "funds.commons-api"
   ]
  }
 },
 "nbformat": 4,
 "nbformat_minor": 0
}
