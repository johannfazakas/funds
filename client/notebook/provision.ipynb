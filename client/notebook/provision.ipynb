{
 "cells": [
  {
   "metadata": {
    "ExecuteTime": {
     "end_time": "2025-06-26T07:30:07.025656Z",
     "start_time": "2025-06-26T07:30:02.574999Z"
    }
   },
   "cell_type": "code",
   "source": [
    "@file:DependsOn(\"io.ktor:ktor-client-core:3.1.3\")\n",
    "@file:DependsOn(\"io.ktor:ktor-client-cio:3.1.3\")\n",
    "@file:DependsOn(\"io.ktor:ktor-client-content-negotiation:3.1.3\")\n",
    "@file:DependsOn(\"io.ktor:ktor-serialization-kotlinx-json:3.1.3\")\n",
    "@file:DependsOn(\"com.charleskorn.kaml:kaml-jvm:0.67.0\")\n",
    "@file:DependsOn(\"ro.jf.funds:user-sdk:1.0.0\")\n",
    "@file:DependsOn(\"ro.jf.funds:import-sdk:1.0.0\")\n",
    "@file:DependsOn(\"ro.jf.funds:fund-sdk:1.0.0\")\n",
    "@file:DependsOn(\"ro.jf.funds:account-sdk:1.0.0\")\n",
    "@file:DependsOn(\"ro.jf.funds:funds-notebook-client:1.0.0\")\n",
    "%use dataframe\n",
    "\n",
    "import ro.jf.funds.client.notebook.*\n",
    "import kotlinx.coroutines.runBlocking\n",
    "\n",
    "val client = FundsClient()\n",
    "val user = runBlocking { client.ensureUserExists(\"Johann-20.3\") }\n",
    "user"
   ],
   "outputs": [
    {
     "data": {
      "text/plain": [
       "UserTO(id=e972a763-dd79-40e9-8ba9-7da4699ff922, username=Johann-20.3)"
      ]
     },
     "execution_count": 1,
     "metadata": {},
     "output_type": "execute_result"
    }
   ],
   "execution_count": 1
  },
  {
   "metadata": {
    "collapsed": true,
    "ExecuteTime": {
     "end_time": "2025-06-26T07:30:07.096562Z",
     "start_time": "2025-06-26T07:30:07.060960Z"
    }
   },
   "cell_type": "code",
   "source": [
    "import ro.jf.funds.account.sdk.AccountSdk\n",
    "import ro.jf.funds.fund.sdk.FundSdk\n",
    "import ro.jf.funds.importer.sdk.ImportSdk\n",
    "\n",
    "val ACCOUNTS_YAML_FILE = \"../../data/provision/accounts.yaml\"\n",
    "val FUNDS_YAML_FILE = \"../../data/provision/funds.yaml\"\n",
    "val INITIAL_BALANCE_YAML_FILE = \"../../data/provision/initial-balance.yaml\"\n",
    "val IMPORT_CONFIGURATION_JSON_FILE = \"../../data/provision/import-configuration.json\"\n",
    "val IMPORT_CONFIGURATION_YAML_FILE = \"../../data/provision/import-configuration.yaml\"\n"
   ],
   "outputs": [],
   "execution_count": 2
  },
  {
   "metadata": {
    "ExecuteTime": {
     "end_time": "2025-06-26T07:30:09.184642Z",
     "start_time": "2025-06-26T07:30:07.101872Z"
    }
   },
   "cell_type": "code",
   "source": [
    "import ro.jf.funds.account.api.model.*\n",
    "import ro.jf.funds.commons.model.*\n",
    "import kotlinx.coroutines.runBlocking\n",
    "import com.charleskorn.kaml.Yaml\n",
    "import kotlinx.serialization.builtins.ListSerializer\n",
    "\n",
    "val accounts = runBlocking { client.provisionAccounts(user, File(ACCOUNTS_YAML_FILE)) }\n",
    "accounts.map { it.toString() }.joinToString(separator = \"\\n\")"
   ],
   "outputs": [
    {
     "data": {
      "text/plain": [
       "AccountTO(id=0c2242fa-4f5c-413d-b7e3-ef310f9cadaa, name=Cash RON, unit=Currency(value=RON))\n",
       "AccountTO(id=800f7794-7f93-45e6-a2e7-62ec846193f1, name=Cash EUR, unit=Currency(value=EUR))\n",
       "AccountTO(id=3ca59ece-776f-4449-81f3-05ada06c6df9, name=ING RON, unit=Currency(value=RON))\n",
       "AccountTO(id=5b168ae1-0013-459e-8f5c-b704394198b6, name=ING Economy, unit=Currency(value=RON))\n",
       "AccountTO(id=7cdb1130-b163-4084-a459-4fffaa48167c, name=Food Coupons, unit=Currency(value=RON))\n",
       "AccountTO(id=5d8b4623-8fdd-4c30-8560-8dbf97bba713, name=Revolut RON, unit=Currency(value=RON))\n",
       "AccountTO(id=19a667ae-2e08-480c-ac95-ac61a1faba99, name=Other, unit=Currency(value=RON))\n",
       "AccountTO(id=0e0c4b38-2836-4e08-868a-f269402760dc, name=BT RON, unit=Currency(value=RON))\n",
       "AccountTO(id=d96a9851-d246-494d-aac1-4e4f5ba92826, name=BT Economy RON, unit=Currency(value=RON))"
      ]
     },
     "execution_count": 3,
     "metadata": {},
     "output_type": "execute_result"
    }
   ],
   "execution_count": 3
  },
  {
   "metadata": {
    "ExecuteTime": {
     "end_time": "2025-06-26T07:30:10.591946Z",
     "start_time": "2025-06-26T07:30:09.192942Z"
    }
   },
   "cell_type": "code",
   "source": [
    "import ro.jf.funds.fund.api.model.*\n",
    "import kotlinx.coroutines.runBlocking\n",
    "\n",
    "val funds = runBlocking { client.provisionFunds(user, File(FUNDS_YAML_FILE)) }\n",
    "funds.map { it.toString() }.joinToString(separator = \"\\n\")"
   ],
   "outputs": [
    {
     "data": {
      "text/plain": [
       "FundTO(id=b9131a5b-a1a0-4cf6-bf38-0116f54dffe1, name=Expenses)\n",
       "FundTO(id=bfc464c6-9b48-451b-9ae3-b95951de216a, name=Work Income)\n",
       "FundTO(id=56111bdd-a072-4771-afff-5830aa1d2d04, name=Savings)\n",
       "FundTO(id=0cc7d1b9-e781-4080-971f-e5bd507c7d3b, name=Gifts)"
      ]
     },
     "execution_count": 4,
     "metadata": {},
     "output_type": "execute_result"
    }
   ],
   "execution_count": 4
  },
  {
   "metadata": {
    "ExecuteTime": {
     "end_time": "2025-06-26T07:30:14.421412Z",
     "start_time": "2025-06-26T07:30:10.609756Z"
    }
   },
   "cell_type": "code",
   "source": [
    "import ro.jf.funds.fund.api.model.*\n",
    "import java.math.BigDecimal\n",
    "import kotlin.collections.List\n",
    "import kotlinx.datetime.LocalTime\n",
    "\n",
    "val initialBalancesTransactions = runBlocking {\n",
    "    client.provisionInitialBalances(\n",
    "        user, accounts, funds, File(INITIAL_BALANCE_YAML_FILE),\n",
    "    )\n",
    "}\n",
    "initialBalancesTransactions"
   ],
   "outputs": [
    {
     "data": {
      "text/plain": [
       "[FundTransactionTO(id=27aef585-9946-4f40-be28-71f13521d0da, userId=e972a763-dd79-40e9-8ba9-7da4699ff922, dateTime=2018-12-31T00:00, records=[FundRecordTO(id=44fc3b60-8d93-46ea-a81b-13a3a8254caf, fundId=b9131a5b-a1a0-4cf6-bf38-0116f54dffe1, accountId=0c2242fa-4f5c-413d-b7e3-ef310f9cadaa, amount=100000.0, unit=Currency(value=RON), labels=[])])]"
      ]
     },
     "execution_count": 5,
     "metadata": {},
     "output_type": "execute_result"
    }
   ],
   "execution_count": 5
  },
  {
   "metadata": {
    "ExecuteTime": {
     "end_time": "2025-06-26T07:30:52.215648Z",
     "start_time": "2025-06-26T07:30:14.431001Z"
    }
   },
   "cell_type": "code",
   "source": [
    "import kotlinx.coroutines.delay\n",
    "import kotlinx.coroutines.runBlocking\n",
    "import kotlinx.datetime.Clock\n",
    "import ro.jf.funds.importer.api.model.*\n",
    "import java.io.File\n",
    "import java.util.*\n",
    "import kotlin.time.Duration\n",
    "\n",
    "val importTask = runBlocking {\n",
    "    val csvFiles =\n",
    "        listOf(File(\"../../data/wallet/2019\"), File(\"../../data/wallet/2020\"))\n",
    "            .flatMap { it.listFiles()?.toList() ?: error(\"no files found\") }\n",
    "    client.importTransactions(user, File(IMPORT_CONFIGURATION_YAML_FILE), csvFiles)\n",
    "}\n",
    "importTask\n"
   ],
   "outputs": [
    {
     "data": {
      "text/plain": [
       "ImportTaskTO(taskId=bdc017ae-cd20-4263-adac-fbc14016b4d7, status=COMPLETED, reason=null)"
      ]
     },
     "execution_count": 6,
     "metadata": {},
     "output_type": "execute_result"
    }
   ],
   "execution_count": 6
  }
 ],
 "metadata": {
  "kernelspec": {
   "display_name": "Kotlin",
   "language": "kotlin",
   "name": "kotlin"
  },
  "language_info": {
   "name": "kotlin",
   "version": "1.9.23",
   "mimetype": "text/x-kotlin",
   "file_extension": ".kt",
   "pygments_lexer": "kotlin",
   "codemirror_mode": "text/x-kotlin",
   "nbconvert_exporter": ""
  },
  "ktnbPluginMetadata": {
   "projectDependencies": [
    "funds.commons-api"
   ]
  }
 },
 "nbformat": 4,
 "nbformat_minor": 0
}
