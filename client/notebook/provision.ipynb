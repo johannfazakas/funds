{
 "cells": [
  {
   "metadata": {
    "ExecuteTime": {
     "end_time": "2025-10-14T04:15:24.436246Z",
     "start_time": "2025-10-14T04:15:19.071857Z"
    }
   },
   "cell_type": "code",
   "source": [
    "@file:DependsOn(\"ro.jf.funds:funds-notebook-client:1.0.0\")\n",
    "%use dataframe\n",
    "\n",
    "import ro.jf.funds.client.notebook.*\n",
    "\n",
    "val username = \"Johann-56.6\"\n",
    "\n",
    "val client = FundsClient()\n"
   ],
   "outputs": [],
   "execution_count": 1
  },
  {
   "metadata": {
    "ExecuteTime": {
     "end_time": "2025-10-14T04:15:25.427010Z",
     "start_time": "2025-10-14T04:15:24.475486Z"
    }
   },
   "cell_type": "code",
   "source": [
    "val user = client.ensureUserExists(username)\n",
    "user"
   ],
   "outputs": [
    {
     "data": {
      "text/plain": [
       "UserTO(id=b0662ec3-1bc3-4ef4-97bc-bf6514e6e875, username=Johann-56.6)"
      ]
     },
     "execution_count": 2,
     "metadata": {},
     "output_type": "execute_result"
    }
   ],
   "execution_count": 2
  },
  {
   "metadata": {
    "collapsed": true,
    "ExecuteTime": {
     "end_time": "2025-10-14T04:15:25.551422Z",
     "start_time": "2025-10-14T04:15:25.461779Z"
    }
   },
   "cell_type": "code",
   "source": [
    "val ACCOUNTS_YAML_FILE = \"../../data/provision/accounts.yaml\"\n",
    "val FUNDS_YAML_FILE = \"../../data/provision/funds.yaml\"\n",
    "val INITIAL_BALANCE_YAML_FILE = \"../../data/provision/initial-balance.yaml\"\n",
    "val IMPORT_CONFIGURATION_JSON_FILE = \"../../data/provision/import-configuration.json\"\n",
    "val WALLET_IMPORT_CONFIGURATION_YAML_FILE = \"../../data/provision/wallet-import-configuration.yaml\"\n",
    "val INVESTMENT_IMPORT_CONFIGURATION_YAML_FILE = \"../../data/provision/investment-import-configuration.yaml\""
   ],
   "outputs": [],
   "execution_count": 3
  },
  {
   "metadata": {
    "ExecuteTime": {
     "end_time": "2025-10-14T04:15:28.603203Z",
     "start_time": "2025-10-14T04:15:25.590635Z"
    }
   },
   "cell_type": "code",
   "source": [
    "import ro.jf.funds.fund.api.model.*\n",
    "\n",
    "val accounts = client.provisionAccounts(user, client.fromYaml(File(ACCOUNTS_YAML_FILE)))\n",
    "accounts.map { it.toString() }.joinToString(separator = \"\\n\")"
   ],
   "outputs": [
    {
     "data": {
      "text/plain": [
       "AccountTO(id=f7149ee8-5df3-4c2d-9950-d34a711999e4, name=Cash RON, unit=Currency(value=RON))\n",
       "AccountTO(id=28e62bc8-1116-47dd-8045-801c21cf1c7b, name=Cash EUR, unit=Currency(value=EUR))\n",
       "AccountTO(id=af9e8ce6-7479-427f-9b7f-e2fc3b52ebb9, name=Cash EUR-RON, unit=Currency(value=RON))\n",
       "AccountTO(id=9a590c0b-bba9-4117-9c4d-1e542ba3f430, name=ING RON, unit=Currency(value=RON))\n",
       "AccountTO(id=d0175cb1-fb37-4e6b-94b5-8accf2dea982, name=ING Economy, unit=Currency(value=RON))\n",
       "AccountTO(id=96a3f716-526a-4c51-97b4-a8a4f7b48c9a, name=Food Coupons, unit=Currency(value=RON))\n",
       "AccountTO(id=5fabb1a7-2697-4563-a1ad-9a988fe824da, name=Revolut RON, unit=Currency(value=RON))\n",
       "AccountTO(id=034b00e8-f199-45aa-b7b9-cb428d4bd668, name=Revolut EUR-RON, unit=Currency(value=RON))\n",
       "AccountTO(id=3a6bd531-fe6e-4adc-98d0-68b93bfe8646, name=Other, unit=Currency(value=RON))\n",
       "AccountTO(id=359bbf96-5749-467e-98ed-17936f6395a8, name=BT RON, unit=Currency(value=RON))\n",
       "AccountTO(id=bd4b8122-19a3-49e7-8cd8-49e819fd35fc, name=BT CC, unit=Currency(value=RON))\n",
       "AccountTO(id=f7216d93-60ab-4a2e-949e-e838d7c511c3, name=BT EUR-RON, unit=Currency(value=RON))\n",
       "AccountTO(id=5e4826c5-3246-464b-bb84-754191884b4a, name=BT Economy RON, unit=Currency(value=RON))\n",
       "AccountTO(id=fbdeff0a-291d-4022-8f99-15a3e964f170, name=BT Depozit RON, unit=Currency(value=RON))\n",
       "AccountTO(id=4141aefa-c079-46a8-b73a-147a26d4eca0, name=BT Philocode RON, unit=Currency(value=RON))\n",
       "AccountTO(id=fb0ae1d3-4cd5-43f5-aabb-02a47246c65b, name=BT Philocode EUR-RON, unit=Currency(value=RON))\n",
       "AccountTO(id=6e0dbf1f-a748-443c-b1e9-421ffe2b653d, name=XTB EUR, unit=Currency(value=EUR))\n",
       "AccountTO(id=7e7fe27d-5fa2-45f9-896d-d949c8db4ab7, name=XTB EUNL, unit=Symbol(value=EUNL))\n",
       "AccountTO(id=ae5dc0db-8347-4530-abf5-35c35ccff5fd, name=XTB QDVE, unit=Symbol(value=QDVE))\n",
       "AccountTO(id=63e9776b-498b-4b64-86ee-8c5302629a85, name=XTB IMAE, unit=Symbol(value=IMAE))\n",
       "AccountTO(id=9422b549-f4c2-4654-8b59-5ac4c5d3254f, name=XTB IS3N, unit=Symbol(value=IS3N))\n",
       "AccountTO(id=f642b463-45f1-43fe-838e-d7d3a56a13c1, name=XTB SXR8, unit=Symbol(value=SXR8))\n",
       "AccountTO(id=0120549d-387b-4069-aff0-860b2621350f, name=XTB SUSW, unit=Symbol(value=SUSW))"
      ]
     },
     "execution_count": 4,
     "metadata": {},
     "output_type": "execute_result"
    }
   ],
   "execution_count": 4
  },
  {
   "metadata": {
    "ExecuteTime": {
     "end_time": "2025-10-14T04:15:28.962146Z",
     "start_time": "2025-10-14T04:15:28.620976Z"
    }
   },
   "cell_type": "code",
   "source": [
    "import ro.jf.funds.fund.api.model.*\n",
    "\n",
    "val funds = client.provisionFunds(user, client.fromYaml(File(FUNDS_YAML_FILE)))\n",
    "funds.map { it.toString() }.joinToString(separator = \"\\n\")"
   ],
   "outputs": [
    {
     "data": {
      "text/plain": [
       "FundTO(id=dbc51a38-f382-4227-a8b6-5c47818e8051, name=Expenses)\n",
       "FundTO(id=1d87c599-2ed0-47a7-b23a-a25d9ea4c898, name=Work Income)\n",
       "FundTO(id=e3853762-42a7-4a8a-b038-9d5b59666923, name=Other Income)\n",
       "FundTO(id=08d628ea-2070-48d4-a968-ff07d79dc272, name=Savings)\n",
       "FundTO(id=429faf98-f346-485f-bd44-4fdc3b3f8b1e, name=Investments)"
      ]
     },
     "execution_count": 5,
     "metadata": {},
     "output_type": "execute_result"
    }
   ],
   "execution_count": 5
  },
  {
   "metadata": {
    "ExecuteTime": {
     "end_time": "2025-10-14T04:15:30.242149Z",
     "start_time": "2025-10-14T04:15:29.008756Z"
    }
   },
   "cell_type": "code",
   "source": [
    "import ro.jf.funds.fund.api.model.*\n",
    "\n",
    "val initialBalancesTransactions = client.provisionInitialBalances(user, accounts, funds, client.fromYaml(File(INITIAL_BALANCE_YAML_FILE)))\n",
    "initialBalancesTransactions.map { it.toString() }.joinToString(separator = \"\\n\")"
   ],
   "outputs": [
    {
     "data": {
      "text/plain": [
       "TransactionTO(id=3bd61eed-f06d-41e6-ba23-6f075c809498, userId=b0662ec3-1bc3-4ef4-97bc-bf6514e6e875, externalId=3cc95911-d992-3100-96c2-3c2d72b28399, type=SINGLE_RECORD, dateTime=2018-12-31T00:00, records=[TransactionRecordTO(id=a60186ef-88e8-4ba4-b064-fb8d17a230b6, accountId=f7149ee8-5df3-4c2d-9950-d34a711999e4, fundId=dbc51a38-f382-4227-a8b6-5c47818e8051, amount=553.5, unit=Currency(value=RON), labels=[])])\n",
       "TransactionTO(id=5a5f9ebf-d358-4f6b-b4c8-9d6396b49b63, userId=b0662ec3-1bc3-4ef4-97bc-bf6514e6e875, externalId=383d89b9-149a-382b-ac63-be2991fe71b0, type=SINGLE_RECORD, dateTime=2018-12-31T00:00, records=[TransactionRecordTO(id=e462ad70-b472-4f63-b93d-3b0d3a975d2f, accountId=96a3f716-526a-4c51-97b4-a8a4f7b48c9a, fundId=dbc51a38-f382-4227-a8b6-5c47818e8051, amount=45.96, unit=Currency(value=RON), labels=[])])\n",
       "TransactionTO(id=0a657119-b4aa-459c-a110-d314c83815cc, userId=b0662ec3-1bc3-4ef4-97bc-bf6514e6e875, externalId=d08ef880-c401-3671-8e83-bd71bc2483d8, type=SINGLE_RECORD, dateTime=2018-12-31T00:00, records=[TransactionRecordTO(id=ca11b5d8-7616-470b-af8a-b49fea685fdf, accountId=3a6bd531-fe6e-4adc-98d0-68b93bfe8646, fundId=dbc51a38-f382-4227-a8b6-5c47818e8051, amount=3051.9, unit=Currency(value=RON), labels=[])])\n",
       "TransactionTO(id=cea59da6-516d-4834-b779-2e13e42584fc, userId=b0662ec3-1bc3-4ef4-97bc-bf6514e6e875, externalId=0ef8ab7f-359a-3e62-a00f-94ed71c870a5, type=SINGLE_RECORD, dateTime=2018-12-31T00:00, records=[TransactionRecordTO(id=d0c17628-011f-4b53-9aa6-abe95e63041f, accountId=359bbf96-5749-467e-98ed-17936f6395a8, fundId=dbc51a38-f382-4227-a8b6-5c47818e8051, amount=7708.46, unit=Currency(value=RON), labels=[])])\n",
       "TransactionTO(id=f2d4471b-e4ca-4616-a019-d68357404b6b, userId=b0662ec3-1bc3-4ef4-97bc-bf6514e6e875, externalId=7fd77818-9709-3aa1-ad07-5ffd4a15ada1, type=SINGLE_RECORD, dateTime=2018-12-31T00:00, records=[TransactionRecordTO(id=50f14371-d0fa-4bb8-b6fb-8f0545f3aa19, accountId=9a590c0b-bba9-4117-9c4d-1e542ba3f430, fundId=dbc51a38-f382-4227-a8b6-5c47818e8051, amount=-3037.15, unit=Currency(value=RON), labels=[])])"
      ]
     },
     "execution_count": 6,
     "metadata": {},
     "output_type": "execute_result"
    }
   ],
   "execution_count": 6
  },
  {
   "metadata": {
    "ExecuteTime": {
     "end_time": "2025-10-14T04:15:42.546512Z",
     "start_time": "2025-10-14T04:15:30.289242Z"
    }
   },
   "cell_type": "code",
   "source": [
    "\n",
    "val investmentCsvFiles =\n",
    "    listOf(2022, 2023)\n",
    "        .map { year -> File(\"../../data/investment/$year\") }\n",
    "        .flatMap { it.listFiles()?.toList() ?: error(\"no files found\") }\n",
    "val importTask = client.importTransactions(user, client.fromYaml(File(INVESTMENT_IMPORT_CONFIGURATION_YAML_FILE)), investmentCsvFiles)\n",
    "importTask"
   ],
   "outputs": [
    {
     "data": {
      "text/plain": [
       "ImportTaskTO(taskId=3e838322-8c60-44c9-b27b-e276347dc47d, status=COMPLETED, reason=null)"
      ]
     },
     "execution_count": 7,
     "metadata": {},
     "output_type": "execute_result"
    }
   ],
   "execution_count": 7
  },
  {
   "metadata": {
    "ExecuteTime": {
     "end_time": "2025-10-14T04:15:52.652421Z",
     "start_time": "2025-10-14T04:15:42.593183Z"
    }
   },
   "cell_type": "code",
   "source": [
    "import ro.jf.funds.importer.api.model.*\n",
    "\n",
    "val csvFiles =\n",
    "    listOf(2019, 2020, 2021, 2022, 2023)\n",
    "        .map { year -> File(\"../../data/wallet/$year\")}\n",
    "        .flatMap { it.listFiles()?.toList() ?: error(\"no files found\") }\n",
    "val importTask = client.importTransactions(user, client.fromYaml(File(WALLET_IMPORT_CONFIGURATION_YAML_FILE)), csvFiles)\n",
    "importTask"
   ],
   "outputs": [
    {
     "data": {
      "text/plain": [
       "ImportTaskTO(taskId=273136ac-8017-4c06-b519-14b620924ede, status=COMPLETED, reason=null)"
      ]
     },
     "execution_count": 8,
     "metadata": {},
     "output_type": "execute_result"
    }
   ],
   "execution_count": 8
  }
 ],
 "metadata": {
  "kernelspec": {
   "display_name": "Kotlin",
   "language": "kotlin",
   "name": "kotlin"
  },
  "language_info": {
   "name": "kotlin",
   "version": "1.9.23",
   "mimetype": "text/x-kotlin",
   "file_extension": ".kt",
   "pygments_lexer": "kotlin",
   "codemirror_mode": "text/x-kotlin",
   "nbconvert_exporter": ""
  },
  "ktnbPluginMetadata": {
   "projectDependencies": [
    "funds.commons-api"
   ]
  }
 },
 "nbformat": 4,
 "nbformat_minor": 0
}
