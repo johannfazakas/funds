{
 "cells": [
  {
   "metadata": {
    "ExecuteTime": {
     "end_time": "2025-07-14T07:19:40.607672Z",
     "start_time": "2025-07-14T07:19:35.558634Z"
    }
   },
   "cell_type": "code",
   "source": [
    "@file:DependsOn(\"ro.jf.funds:funds-notebook-client:1.0.0\")\n",
    "%use dataframe\n",
    "\n",
    "import ro.jf.funds.client.notebook.*\n",
    "\n",
    "val username = \"Johann-36.5\"\n",
    "\n",
    "val client = FundsClient()\n"
   ],
   "outputs": [],
   "execution_count": 8
  },
  {
   "metadata": {
    "ExecuteTime": {
     "end_time": "2025-07-14T07:19:45.327566Z",
     "start_time": "2025-07-14T07:19:40.657525Z"
    }
   },
   "cell_type": "code",
   "source": [
    "val user = client.ensureUserExists(username)\n",
    "user"
   ],
   "outputs": [
    {
     "data": {
      "text/plain": [
       "UserTO(id=4f987a87-59c6-4495-bead-1a546ced68cd, username=Johann-36.5)"
      ]
     },
     "execution_count": 9,
     "metadata": {},
     "output_type": "execute_result"
    }
   ],
   "execution_count": 9
  },
  {
   "metadata": {
    "collapsed": true,
    "ExecuteTime": {
     "end_time": "2025-07-14T07:19:45.747154Z",
     "start_time": "2025-07-14T07:19:45.542157Z"
    }
   },
   "cell_type": "code",
   "source": [
    "val ACCOUNTS_YAML_FILE = \"../../data/provision/accounts.yaml\"\n",
    "val FUNDS_YAML_FILE = \"../../data/provision/funds.yaml\"\n",
    "val INITIAL_BALANCE_YAML_FILE = \"../../data/provision/initial-balance.yaml\"\n",
    "val IMPORT_CONFIGURATION_JSON_FILE = \"../../data/provision/import-configuration.json\"\n",
    "val IMPORT_CONFIGURATION_YAML_FILE = \"../../data/provision/import-configuration.yaml\"\n"
   ],
   "outputs": [],
   "execution_count": 10
  },
  {
   "metadata": {
    "ExecuteTime": {
     "end_time": "2025-07-14T07:19:52.609087Z",
     "start_time": "2025-07-14T07:19:45.867940Z"
    }
   },
   "cell_type": "code",
   "source": [
    "import ro.jf.funds.account.api.model.*\n",
    "\n",
    "val accounts = client.provisionAccounts(user, client.fromYaml(File(ACCOUNTS_YAML_FILE)))\n",
    "accounts.map { it.toString() }.joinToString(separator = \"\\n\")"
   ],
   "outputs": [
    {
     "data": {
      "text/plain": [
       "AccountTO(id=ce3f36c4-e853-4666-9e20-0a02f2834d4a, name=Cash RON, unit=Currency(value=RON))\n",
       "AccountTO(id=efdcb225-27a1-4a3b-a000-1489c668d3d5, name=Cash EUR, unit=Currency(value=EUR))\n",
       "AccountTO(id=c5325ddb-38d3-4e0c-ab1f-da8ba648b948, name=Cash EUR-RON, unit=Currency(value=RON))\n",
       "AccountTO(id=ebf1e728-c6dd-4965-8be3-9706a7aa915d, name=ING RON, unit=Currency(value=RON))\n",
       "AccountTO(id=fbb061d9-8781-4d51-baa2-bf81aab1eacd, name=ING Economy, unit=Currency(value=RON))\n",
       "AccountTO(id=3a1c7722-6cb8-4901-a766-f76902685fce, name=Food Coupons, unit=Currency(value=RON))\n",
       "AccountTO(id=f67f6973-1316-44fd-abcc-940136c41526, name=Revolut RON, unit=Currency(value=RON))\n",
       "AccountTO(id=37879950-fc22-4f1d-bc76-85b550df8436, name=Revolut EUR-RON, unit=Currency(value=RON))\n",
       "AccountTO(id=c37fb1ff-2d25-4587-948e-903492e1774c, name=Other, unit=Currency(value=RON))\n",
       "AccountTO(id=c8ce0661-a0a3-4300-858e-9862771a4c23, name=BT RON, unit=Currency(value=RON))\n",
       "AccountTO(id=55e02453-ab02-41c7-833f-98e09fdaeb4a, name=BT Economy RON, unit=Currency(value=RON))\n",
       "AccountTO(id=5ef7eefc-f39b-4d88-9aa0-643b3d9334b3, name=BT Philocode RON, unit=Currency(value=RON))"
      ]
     },
     "execution_count": 11,
     "metadata": {},
     "output_type": "execute_result"
    }
   ],
   "execution_count": 11
  },
  {
   "metadata": {
    "ExecuteTime": {
     "end_time": "2025-07-14T07:19:58.168922Z",
     "start_time": "2025-07-14T07:19:52.641396Z"
    }
   },
   "cell_type": "code",
   "source": [
    "import ro.jf.funds.fund.api.model.*\n",
    "\n",
    "val funds = client.provisionFunds(user, client.fromYaml(File(FUNDS_YAML_FILE)))\n",
    "funds.map { it.toString() }.joinToString(separator = \"\\n\")"
   ],
   "outputs": [
    {
     "data": {
      "text/plain": [
       "FundTO(id=a05b0629-badd-424a-89cc-1fbff6c5302e, name=Expenses)\n",
       "FundTO(id=8392f812-7b95-4921-a84e-d968e0e21627, name=Work Income)\n",
       "FundTO(id=99058d7e-c53a-4772-83bf-7c396e01465d, name=Other Income)\n",
       "FundTO(id=a3c3bd2a-fe2f-4f57-8ae9-010283723788, name=Savings)"
      ]
     },
     "execution_count": 12,
     "metadata": {},
     "output_type": "execute_result"
    }
   ],
   "execution_count": 12
  },
  {
   "metadata": {
    "ExecuteTime": {
     "end_time": "2025-07-14T07:20:04.248819Z",
     "start_time": "2025-07-14T07:19:58.215506Z"
    }
   },
   "cell_type": "code",
   "source": [
    "import ro.jf.funds.fund.api.model.*\n",
    "\n",
    "val initialBalancesTransactions = client.provisionInitialBalances(user, accounts, funds, client.fromYaml(File(INITIAL_BALANCE_YAML_FILE)))\n",
    "initialBalancesTransactions.map { it.toString() }.joinToString(separator = \"\\n\")"
   ],
   "outputs": [
    {
     "data": {
      "text/plain": [
       "FundTransactionTO(id=4ff0b14f-1c7b-4fe1-a286-3703348ba0ad, userId=4f987a87-59c6-4495-bead-1a546ced68cd, dateTime=2018-12-31T00:00, records=[FundRecordTO(id=7a2bcfa2-6d89-42b2-b802-e74d72c430f0, fundId=a05b0629-badd-424a-89cc-1fbff6c5302e, accountId=ce3f36c4-e853-4666-9e20-0a02f2834d4a, amount=474.5, unit=Currency(value=RON), labels=[])])\n",
       "FundTransactionTO(id=f9ff91fa-507f-4d7f-8d1b-0e81604df710, userId=4f987a87-59c6-4495-bead-1a546ced68cd, dateTime=2018-12-31T00:00, records=[FundRecordTO(id=db5a1d03-bbcc-46bd-b7bd-6842f52406e3, fundId=a05b0629-badd-424a-89cc-1fbff6c5302e, accountId=3a1c7722-6cb8-4901-a766-f76902685fce, amount=45.96, unit=Currency(value=RON), labels=[])])\n",
       "FundTransactionTO(id=f240c4c1-7248-4493-9093-f5368997dbb1, userId=4f987a87-59c6-4495-bead-1a546ced68cd, dateTime=2018-12-31T00:00, records=[FundRecordTO(id=c18b6a9e-804f-4ff8-9736-b2943ca1b498, fundId=a05b0629-badd-424a-89cc-1fbff6c5302e, accountId=c37fb1ff-2d25-4587-948e-903492e1774c, amount=3051.9, unit=Currency(value=RON), labels=[])])\n",
       "FundTransactionTO(id=fd5a4c3d-4554-4c86-a932-280b4a1499d0, userId=4f987a87-59c6-4495-bead-1a546ced68cd, dateTime=2018-12-31T00:00, records=[FundRecordTO(id=7ce4b24d-76b8-47b9-adec-d7663e20b7dc, fundId=a05b0629-badd-424a-89cc-1fbff6c5302e, accountId=c8ce0661-a0a3-4300-858e-9862771a4c23, amount=2194.13, unit=Currency(value=RON), labels=[])])"
      ]
     },
     "execution_count": 13,
     "metadata": {},
     "output_type": "execute_result"
    }
   ],
   "execution_count": 13
  },
  {
   "metadata": {
    "ExecuteTime": {
     "end_time": "2025-07-14T07:20:39.256709Z",
     "start_time": "2025-07-14T07:20:04.325034Z"
    }
   },
   "cell_type": "code",
   "source": [
    "import ro.jf.funds.importer.api.model.*\n",
    "\n",
    "val csvFiles =\n",
    "    listOf(File(\"../../data/wallet/2019\"), File(\"../../data/wallet/2020\"), File(\"../../data/wallet/2021\"))\n",
    "        .flatMap { it.listFiles()?.toList() ?: error(\"no files found\") }\n",
    "val importTask = client.importTransactions(user, client.fromYaml(File(IMPORT_CONFIGURATION_YAML_FILE)), csvFiles)\n",
    "importTask"
   ],
   "outputs": [
    {
     "data": {
      "text/plain": [
       "ImportTaskTO(taskId=584b5fe5-6b06-40ac-97c0-0d5ae0eddfac, status=COMPLETED, reason=null)"
      ]
     },
     "execution_count": 14,
     "metadata": {},
     "output_type": "execute_result"
    }
   ],
   "execution_count": 14
  }
 ],
 "metadata": {
  "kernelspec": {
   "display_name": "Kotlin",
   "language": "kotlin",
   "name": "kotlin"
  },
  "language_info": {
   "name": "kotlin",
   "version": "1.9.23",
   "mimetype": "text/x-kotlin",
   "file_extension": ".kt",
   "pygments_lexer": "kotlin",
   "codemirror_mode": "text/x-kotlin",
   "nbconvert_exporter": ""
  },
  "ktnbPluginMetadata": {
   "projectDependencies": [
    "funds.commons-api"
   ]
  }
 },
 "nbformat": 4,
 "nbformat_minor": 0
}
