{
 "cells": [
  {
   "metadata": {
    "ExecuteTime": {
     "end_time": "2025-06-30T13:31:45.455946Z",
     "start_time": "2025-06-30T13:31:38.938059Z"
    }
   },
   "cell_type": "code",
   "source": [
    "@file:DependsOn(\"ro.jf.funds:funds-notebook-client:1.0.0\")\n",
    "%use dataframe\n",
    "\n",
    "import ro.jf.funds.client.notebook.*\n",
    "\n",
    "val username = \"Johann-27.4\"\n",
    "\n",
    "val client = FundsClient()\n"
   ],
   "outputs": [],
   "execution_count": 1
  },
  {
   "metadata": {
    "ExecuteTime": {
     "end_time": "2025-06-30T13:31:47.008526Z",
     "start_time": "2025-06-30T13:31:45.479686Z"
    }
   },
   "cell_type": "code",
   "source": [
    "val user = client.ensureUserExists(username)\n",
    "user"
   ],
   "outputs": [
    {
     "data": {
      "text/plain": [
       "UserTO(id=9fab0ce6-a04f-4cb9-836b-011ee0425007, username=Johann-27.4)"
      ]
     },
     "execution_count": 2,
     "metadata": {},
     "output_type": "execute_result"
    }
   ],
   "execution_count": 2
  },
  {
   "metadata": {
    "collapsed": true,
    "ExecuteTime": {
     "end_time": "2025-06-30T13:31:47.342311Z",
     "start_time": "2025-06-30T13:31:47.140390Z"
    }
   },
   "cell_type": "code",
   "source": [
    "val ACCOUNTS_YAML_FILE = \"../../data/provision/accounts.yaml\"\n",
    "val FUNDS_YAML_FILE = \"../../data/provision/funds.yaml\"\n",
    "val INITIAL_BALANCE_YAML_FILE = \"../../data/provision/initial-balance.yaml\"\n",
    "val IMPORT_CONFIGURATION_JSON_FILE = \"../../data/provision/import-configuration.json\"\n",
    "val IMPORT_CONFIGURATION_YAML_FILE = \"../../data/provision/import-configuration.yaml\"\n"
   ],
   "outputs": [],
   "execution_count": 3
  },
  {
   "metadata": {
    "ExecuteTime": {
     "end_time": "2025-06-30T13:31:52.081635Z",
     "start_time": "2025-06-30T13:31:47.377945Z"
    }
   },
   "cell_type": "code",
   "source": [
    "import ro.jf.funds.account.api.model.*\n",
    "\n",
    "val accounts = client.provisionAccounts(user, client.fromYaml(File(ACCOUNTS_YAML_FILE)))\n",
    "accounts.map { it.toString() }.joinToString(separator = \"\\n\")"
   ],
   "outputs": [
    {
     "data": {
      "text/plain": [
       "AccountTO(id=24e1af36-aa2e-4485-8147-c474b6a83ef9, name=Cash RON, unit=Currency(value=RON))\n",
       "AccountTO(id=3d60adec-922e-47a1-815b-b5989fc7607c, name=Cash EUR, unit=Currency(value=EUR))\n",
       "AccountTO(id=be3b82cb-151f-47c6-98ce-c959db4c39e3, name=ING RON, unit=Currency(value=RON))\n",
       "AccountTO(id=dd5a65a3-667e-4d4b-bcdd-9f7db34780c2, name=ING Economy, unit=Currency(value=RON))\n",
       "AccountTO(id=8a5138b2-904f-4ec8-acd1-a598bd595441, name=Food Coupons, unit=Currency(value=RON))\n",
       "AccountTO(id=9ba48fa3-b0cf-42cc-991c-b5a1e4eef8f0, name=Revolut RON, unit=Currency(value=RON))\n",
       "AccountTO(id=30e7abc6-0540-4aa1-b0df-88bcc1769524, name=Other, unit=Currency(value=RON))\n",
       "AccountTO(id=75f5692e-1d38-4fc6-b3a6-90f573b244ae, name=BT RON, unit=Currency(value=RON))\n",
       "AccountTO(id=3846b055-aa10-44ba-9f88-50215b65a8e1, name=BT Economy RON, unit=Currency(value=RON))"
      ]
     },
     "execution_count": 4,
     "metadata": {},
     "output_type": "execute_result"
    }
   ],
   "execution_count": 4
  },
  {
   "metadata": {
    "ExecuteTime": {
     "end_time": "2025-06-30T13:32:00.887356Z",
     "start_time": "2025-06-30T13:31:52.106758Z"
    }
   },
   "cell_type": "code",
   "source": [
    "import ro.jf.funds.fund.api.model.*\n",
    "\n",
    "val funds = client.provisionFunds(user, client.fromYaml(File(FUNDS_YAML_FILE)))\n",
    "funds.map { it.toString() }.joinToString(separator = \"\\n\")"
   ],
   "outputs": [
    {
     "data": {
      "text/plain": [
       "FundTO(id=53ee50d0-87b5-4012-8baf-f8b4157e5269, name=Expenses)\n",
       "FundTO(id=4e36768d-cc91-4572-8b12-b534d2fc1afc, name=Work Income)\n",
       "FundTO(id=09d1cafe-11bd-4e78-8dfa-b370e76b24f6, name=Savings)\n",
       "FundTO(id=8b57b15e-7762-49d8-bb79-777ceab10326, name=Gifts)"
      ]
     },
     "execution_count": 5,
     "metadata": {},
     "output_type": "execute_result"
    }
   ],
   "execution_count": 5
  },
  {
   "metadata": {
    "ExecuteTime": {
     "end_time": "2025-06-30T13:32:08.507588Z",
     "start_time": "2025-06-30T13:32:00.919825Z"
    }
   },
   "cell_type": "code",
   "source": [
    "import ro.jf.funds.fund.api.model.*\n",
    "\n",
    "val initialBalancesTransactions = client.provisionInitialBalances(user, accounts, funds, client.fromYaml(File(INITIAL_BALANCE_YAML_FILE)))\n",
    "initialBalancesTransactions.map { it.toString() }.joinToString(separator = \"\\n\")"
   ],
   "outputs": [
    {
     "data": {
      "text/plain": [
       "FundTransactionTO(id=ef8d35ff-9749-4b3a-9276-6119e6f21a57, userId=9fab0ce6-a04f-4cb9-836b-011ee0425007, dateTime=2018-12-31T00:00, records=[FundRecordTO(id=d1aae6a8-83be-45c8-b117-25107bfcbc8f, fundId=53ee50d0-87b5-4012-8baf-f8b4157e5269, accountId=24e1af36-aa2e-4485-8147-c474b6a83ef9, amount=474.5, unit=Currency(value=RON), labels=[])])\n",
       "FundTransactionTO(id=2d9d2b5c-f2b0-405c-b1dd-9f3e5a6e7599, userId=9fab0ce6-a04f-4cb9-836b-011ee0425007, dateTime=2018-12-31T00:00, records=[FundRecordTO(id=7d038601-6c37-43c0-a663-27da66966ae2, fundId=53ee50d0-87b5-4012-8baf-f8b4157e5269, accountId=8a5138b2-904f-4ec8-acd1-a598bd595441, amount=45.96, unit=Currency(value=RON), labels=[])])\n",
       "FundTransactionTO(id=9ecad3aa-b42e-40af-9aaa-57f1c1c52f36, userId=9fab0ce6-a04f-4cb9-836b-011ee0425007, dateTime=2018-12-31T00:00, records=[FundRecordTO(id=6e101b81-594f-4e6e-8184-6994f70ce07c, fundId=53ee50d0-87b5-4012-8baf-f8b4157e5269, accountId=30e7abc6-0540-4aa1-b0df-88bcc1769524, amount=3051.9, unit=Currency(value=RON), labels=[])])\n",
       "FundTransactionTO(id=4c50016c-5f4e-43fb-82c5-a0f3350e8ef4, userId=9fab0ce6-a04f-4cb9-836b-011ee0425007, dateTime=2018-12-31T00:00, records=[FundRecordTO(id=57aea113-5c84-4b7a-b4f8-9d5566f9d413, fundId=53ee50d0-87b5-4012-8baf-f8b4157e5269, accountId=75f5692e-1d38-4fc6-b3a6-90f573b244ae, amount=2194.13, unit=Currency(value=RON), labels=[])])"
      ]
     },
     "execution_count": 6,
     "metadata": {},
     "output_type": "execute_result"
    }
   ],
   "execution_count": 6
  },
  {
   "metadata": {
    "ExecuteTime": {
     "end_time": "2025-06-30T13:33:09.266984Z",
     "start_time": "2025-06-30T13:32:20.426655Z"
    }
   },
   "cell_type": "code",
   "source": [
    "import ro.jf.funds.importer.api.model.*\n",
    "\n",
    "val csvFiles =\n",
    "    listOf(File(\"../../data/wallet/2019\"), File(\"../../data/wallet/2020\"), File(\"../../data/wallet/2021\"))\n",
    "        .flatMap { it.listFiles()?.toList() ?: error(\"no files found\") }\n",
    "val importTask = client.importTransactions(user, client.fromYaml(File(IMPORT_CONFIGURATION_YAML_FILE)), csvFiles)\n"
   ],
   "outputs": [],
   "execution_count": 8
  }
 ],
 "metadata": {
  "kernelspec": {
   "display_name": "Kotlin",
   "language": "kotlin",
   "name": "kotlin"
  },
  "language_info": {
   "name": "kotlin",
   "version": "1.9.23",
   "mimetype": "text/x-kotlin",
   "file_extension": ".kt",
   "pygments_lexer": "kotlin",
   "codemirror_mode": "text/x-kotlin",
   "nbconvert_exporter": ""
  },
  "ktnbPluginMetadata": {
   "projectDependencies": [
    "funds.commons-api"
   ]
  }
 },
 "nbformat": 4,
 "nbformat_minor": 0
}
