{
 "cells": [
  {
   "metadata": {
    "ExecuteTime": {
     "end_time": "2025-06-27T06:08:36.321374Z",
     "start_time": "2025-06-27T06:08:31.663673Z"
    }
   },
   "cell_type": "code",
   "source": [
    "@file:DependsOn(\"ro.jf.funds:funds-notebook-client:1.0.0\")\n",
    "%use dataframe\n",
    "\n",
    "import ro.jf.funds.client.notebook.*\n",
    "import kotlinx.coroutines.runBlocking\n",
    "\n",
    "val username = \"Johann-21.0\"\n",
    "\n",
    "val client = FundsClient()\n"
   ],
   "outputs": [],
   "execution_count": 1
  },
  {
   "metadata": {
    "ExecuteTime": {
     "end_time": "2025-06-27T06:08:40.516685Z",
     "start_time": "2025-06-27T06:08:36.339048Z"
    }
   },
   "cell_type": "code",
   "source": [
    "val user = runBlocking { client.ensureUserExists(username) }\n",
    "user"
   ],
   "outputs": [
    {
     "data": {
      "text/plain": [
       "UserTO(id=7e0ef25f-8d76-4aa4-91cd-2a31febb47a6, username=Johann-21.0)"
      ]
     },
     "execution_count": 2,
     "metadata": {},
     "output_type": "execute_result"
    }
   ],
   "execution_count": 2
  },
  {
   "metadata": {
    "collapsed": true,
    "ExecuteTime": {
     "end_time": "2025-06-27T06:08:40.647433Z",
     "start_time": "2025-06-27T06:08:40.569833Z"
    }
   },
   "cell_type": "code",
   "source": [
    "val ACCOUNTS_YAML_FILE = \"../../data/provision/accounts.yaml\"\n",
    "val FUNDS_YAML_FILE = \"../../data/provision/funds.yaml\"\n",
    "val INITIAL_BALANCE_YAML_FILE = \"../../data/provision/initial-balance.yaml\"\n",
    "val IMPORT_CONFIGURATION_JSON_FILE = \"../../data/provision/import-configuration.json\"\n",
    "val IMPORT_CONFIGURATION_YAML_FILE = \"../../data/provision/import-configuration.yaml\"\n"
   ],
   "outputs": [],
   "execution_count": 3
  },
  {
   "metadata": {
    "ExecuteTime": {
     "end_time": "2025-06-27T06:08:47.961626Z",
     "start_time": "2025-06-27T06:08:40.654091Z"
    }
   },
   "cell_type": "code",
   "source": [
    "import ro.jf.funds.account.api.model.*\n",
    "\n",
    "val accounts = runBlocking { client.provisionAccounts(user, File(ACCOUNTS_YAML_FILE)) }\n",
    "accounts.map { it.toString() }.joinToString(separator = \"\\n\")"
   ],
   "outputs": [
    {
     "data": {
      "text/plain": [
       "AccountTO(id=0f7333a7-d2aa-40e8-aafb-31b995405854, name=Cash RON, unit=Currency(value=RON))\n",
       "AccountTO(id=f298adfb-9c94-478d-ac79-bd088f3ddd3f, name=Cash EUR, unit=Currency(value=EUR))\n",
       "AccountTO(id=9a346caa-2501-4d6c-bd93-5c8bff0c6483, name=ING RON, unit=Currency(value=RON))\n",
       "AccountTO(id=c119690e-2d52-4269-bf0e-858a9c9e7c50, name=ING Economy, unit=Currency(value=RON))\n",
       "AccountTO(id=9e6301b8-ab34-4067-86c0-87a89f1d1ea8, name=Food Coupons, unit=Currency(value=RON))\n",
       "AccountTO(id=1bdb2b55-be08-4122-aeec-878e736d00ed, name=Revolut RON, unit=Currency(value=RON))\n",
       "AccountTO(id=9909235d-17b3-40a3-94c3-c9595db59d7d, name=Other, unit=Currency(value=RON))\n",
       "AccountTO(id=1a4d499d-0107-453f-ba4d-9296560fceec, name=BT RON, unit=Currency(value=RON))\n",
       "AccountTO(id=b481cec2-776a-4435-8df3-4cabf68f5756, name=BT Economy RON, unit=Currency(value=RON))"
      ]
     },
     "execution_count": 4,
     "metadata": {},
     "output_type": "execute_result"
    }
   ],
   "execution_count": 4
  },
  {
   "metadata": {
    "ExecuteTime": {
     "end_time": "2025-06-27T06:08:53.136025Z",
     "start_time": "2025-06-27T06:08:47.975931Z"
    }
   },
   "cell_type": "code",
   "source": [
    "import ro.jf.funds.fund.api.model.*\n",
    "\n",
    "val funds = runBlocking { client.provisionFunds(user, File(FUNDS_YAML_FILE)) }\n",
    "funds.map { it.toString() }.joinToString(separator = \"\\n\")"
   ],
   "outputs": [
    {
     "data": {
      "text/plain": [
       "FundTO(id=91bb42ed-c4a1-4f4b-bb74-212aa1104ba9, name=Expenses)\n",
       "FundTO(id=54d1847a-4eaa-4bf8-8185-f85d90bbd831, name=Work Income)\n",
       "FundTO(id=4f75da05-157e-4b93-8f9e-3d581d78e7c7, name=Savings)\n",
       "FundTO(id=e739c70b-b4ed-469a-bd6e-1689bafbe3ed, name=Gifts)"
      ]
     },
     "execution_count": 5,
     "metadata": {},
     "output_type": "execute_result"
    }
   ],
   "execution_count": 5
  },
  {
   "metadata": {
    "ExecuteTime": {
     "end_time": "2025-06-27T06:08:59.241862Z",
     "start_time": "2025-06-27T06:08:53.163102Z"
    }
   },
   "cell_type": "code",
   "source": [
    "import ro.jf.funds.fund.api.model.*\n",
    "\n",
    "val initialBalancesTransactions = runBlocking {\n",
    "    client.provisionInitialBalances(user, accounts, funds, File(INITIAL_BALANCE_YAML_FILE))\n",
    "}\n",
    "initialBalancesTransactions.map { it.toString() }.joinToString(separator = \"\\n\")"
   ],
   "outputs": [
    {
     "data": {
      "text/plain": [
       "FundTransactionTO(id=052dc436-9ec7-4e21-9364-cbdb07568233, userId=7e0ef25f-8d76-4aa4-91cd-2a31febb47a6, dateTime=2018-12-31T00:00, records=[FundRecordTO(id=497b1a6d-d851-48b4-84b7-86ebbda8a177, fundId=91bb42ed-c4a1-4f4b-bb74-212aa1104ba9, accountId=0f7333a7-d2aa-40e8-aafb-31b995405854, amount=474.5, unit=Currency(value=RON), labels=[])])\n",
       "FundTransactionTO(id=489b9f58-cd4a-4757-bfd0-20b347802b22, userId=7e0ef25f-8d76-4aa4-91cd-2a31febb47a6, dateTime=2018-12-31T00:00, records=[FundRecordTO(id=0ac56a08-900b-4f15-8600-5993c023cbf7, fundId=91bb42ed-c4a1-4f4b-bb74-212aa1104ba9, accountId=9e6301b8-ab34-4067-86c0-87a89f1d1ea8, amount=45.96, unit=Currency(value=RON), labels=[])])\n",
       "FundTransactionTO(id=6d922d80-1d4d-46e8-a5c2-e61fa7c20909, userId=7e0ef25f-8d76-4aa4-91cd-2a31febb47a6, dateTime=2018-12-31T00:00, records=[FundRecordTO(id=6552ede7-41cb-4248-a779-e6394714fe99, fundId=91bb42ed-c4a1-4f4b-bb74-212aa1104ba9, accountId=9909235d-17b3-40a3-94c3-c9595db59d7d, amount=3051.9, unit=Currency(value=RON), labels=[])])\n",
       "FundTransactionTO(id=c179eabb-01c8-4521-8efa-203a16b44d91, userId=7e0ef25f-8d76-4aa4-91cd-2a31febb47a6, dateTime=2018-12-31T00:00, records=[FundRecordTO(id=cec30bfe-6635-48bb-ab38-b82fd34c9e12, fundId=91bb42ed-c4a1-4f4b-bb74-212aa1104ba9, accountId=1a4d499d-0107-453f-ba4d-9296560fceec, amount=2194.13, unit=Currency(value=RON), labels=[])])"
      ]
     },
     "execution_count": 6,
     "metadata": {},
     "output_type": "execute_result"
    }
   ],
   "execution_count": 6
  },
  {
   "metadata": {
    "ExecuteTime": {
     "end_time": "2025-06-27T06:09:41.822399Z",
     "start_time": "2025-06-27T06:08:59.255323Z"
    }
   },
   "cell_type": "code",
   "source": [
    "import ro.jf.funds.importer.api.model.*\n",
    "\n",
    "val importTask = runBlocking {\n",
    "    val csvFiles =\n",
    "        listOf(File(\"../../data/wallet/2019\"), File(\"../../data/wallet/2020\"))\n",
    "            .flatMap { it.listFiles()?.toList() ?: error(\"no files found\") }\n",
    "    client.importTransactions(user, File(IMPORT_CONFIGURATION_YAML_FILE), csvFiles)\n",
    "}\n",
    "importTask\n"
   ],
   "outputs": [
    {
     "data": {
      "text/plain": [
       "ImportTaskTO(taskId=e7ec5b30-80ee-487f-ba81-38a8aacf1455, status=COMPLETED, reason=null)"
      ]
     },
     "execution_count": 7,
     "metadata": {},
     "output_type": "execute_result"
    }
   ],
   "execution_count": 7
  }
 ],
 "metadata": {
  "kernelspec": {
   "display_name": "Kotlin",
   "language": "kotlin",
   "name": "kotlin"
  },
  "language_info": {
   "name": "kotlin",
   "version": "1.9.23",
   "mimetype": "text/x-kotlin",
   "file_extension": ".kt",
   "pygments_lexer": "kotlin",
   "codemirror_mode": "text/x-kotlin",
   "nbconvert_exporter": ""
  },
  "ktnbPluginMetadata": {
   "projectDependencies": [
    "funds.commons-api"
   ]
  }
 },
 "nbformat": 4,
 "nbformat_minor": 0
}
