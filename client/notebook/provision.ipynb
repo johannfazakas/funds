{
 "cells": [
  {
   "metadata": {
    "ExecuteTime": {
     "end_time": "2025-06-05T06:16:36.609964Z",
     "start_time": "2025-06-05T06:16:29.183115Z"
    }
   },
   "cell_type": "code",
   "source": [
    "@file:DependsOn(\"io.ktor:ktor-client-core:3.1.3\")\n",
    "@file:DependsOn(\"io.ktor:ktor-client-cio:3.1.3\")\n",
    "@file:DependsOn(\"io.ktor:ktor-client-content-negotiation:3.1.3\")\n",
    "@file:DependsOn(\"io.ktor:ktor-serialization-kotlinx-json:3.1.3\")\n",
    "@file:DependsOn(\"com.charleskorn.kaml:kaml-jvm:0.67.0\")\n",
    "@file:DependsOn(\"ro.jf.funds:user-sdk:1.0.0\")\n",
    "@file:DependsOn(\"ro.jf.funds:import-sdk:1.0.0\")\n",
    "@file:DependsOn(\"ro.jf.funds:fund-sdk:1.0.0\")\n",
    "@file:DependsOn(\"ro.jf.funds:account-sdk:1.0.0\")\n",
    "@file:DependsOn(\"ro.jf.funds:funds-notebook-client:1.0.0\")\n",
    "%use dataframe\n",
    "\n",
    "import ro.jf.funds.client.notebook.*\n",
    "\n",
    "val client = FundsClient()\n",
    "val user = client.ensureUserExists(\"Johann-18.2\")\n",
    "user"
   ],
   "outputs": [
    {
     "data": {
      "text/plain": [
       "UserTO(id=f6b44c2b-6e79-4a2b-ad01-6f8546f7f04f, username=Johann-18.2)"
      ]
     },
     "execution_count": 1,
     "metadata": {},
     "output_type": "execute_result"
    }
   ],
   "execution_count": 1
  },
  {
   "metadata": {
    "collapsed": true,
    "ExecuteTime": {
     "end_time": "2025-06-05T06:16:36.758117Z",
     "start_time": "2025-06-05T06:16:36.666528Z"
    }
   },
   "cell_type": "code",
   "source": [
    "import ro.jf.funds.account.sdk.AccountSdk\n",
    "import ro.jf.funds.fund.sdk.FundSdk\n",
    "import ro.jf.funds.importer.sdk.ImportSdk\n",
    "\n",
    "val ACCOUNTS_YAML_FILE = \"../../data/provision/accounts.yaml\"\n",
    "val FUNDS_YAML_FILE = \"../../data/provision/funds.yaml\"\n",
    "val IMPORT_CONFIGURATION_JSON_FILE = \"../../data/provision/import-configuration.json\"\n",
    "val IMPORT_CONFIGURATION_YAML_FILE = \"../../data/provision/import-configuration.yaml\"\n",
    "\n",
    "val accountSdk = AccountSdk()\n",
    "val fundSdk = FundSdk()\n",
    "val importSdk = ImportSdk()\n"
   ],
   "outputs": [],
   "execution_count": 2
  },
  {
   "metadata": {
    "ExecuteTime": {
     "end_time": "2025-06-05T06:16:46.264606Z",
     "start_time": "2025-06-05T06:16:36.766613Z"
    }
   },
   "cell_type": "code",
   "source": [
    "import ro.jf.funds.account.api.model.*\n",
    "import ro.jf.funds.commons.model.*\n",
    "import kotlinx.coroutines.runBlocking\n",
    "import com.charleskorn.kaml.Yaml\n",
    "import kotlinx.serialization.builtins.ListSerializer\n",
    "\n",
    "val accounts = runBlocking {\n",
    "    val existingAccounts = accountSdk.listAccounts(user.id).items\n",
    "    val existingAccountNames = existingAccounts.map { it.name }.toSet()\n",
    "    val newAccounts = File(ACCOUNTS_YAML_FILE).readText()\n",
    "        .let { Yaml.default.decodeFromString(ListSerializer(CreateAccountTO.serializer()), it) }\n",
    "        .filter { it.name !in existingAccountNames }\n",
    "        .map { accountSdk.createAccount(user.id, it) }\n",
    "    existingAccounts + newAccounts\n",
    "}\n",
    "accounts.map { it.toString() }.joinToString(separator = \"\\n\")"
   ],
   "outputs": [
    {
     "data": {
      "text/plain": [
       "AccountTO(id=7f8133b4-d181-4591-9e99-b4dcae69833b, name=Cash RON, unit=Currency(value=RON))\n",
       "AccountTO(id=ad76ea45-14fc-42ea-bc4a-00f394e6c026, name=Cash EUR, unit=Currency(value=EUR))\n",
       "AccountTO(id=90889731-60ee-4923-87ad-a29f67f338ea, name=ING RON, unit=Currency(value=RON))\n",
       "AccountTO(id=5bf83963-5946-465b-ad47-be38204a9b4c, name=ING Economy, unit=Currency(value=RON))\n",
       "AccountTO(id=51ab1cbb-079d-4a9c-bcf7-ec506ebecace, name=Food Coupons, unit=Currency(value=RON))\n",
       "AccountTO(id=e268ce22-eabb-44f6-9441-f350985fe8e3, name=Revolut RON, unit=Currency(value=RON))\n",
       "AccountTO(id=a7a1c167-a9fe-495b-8615-b1ba68497815, name=Other, unit=Currency(value=RON))\n",
       "AccountTO(id=017b958f-30aa-4c90-90bb-0f9ea9c86060, name=BT RON, unit=Currency(value=RON))\n",
       "AccountTO(id=6830b256-564a-4420-8c21-236a0c94f672, name=BT Economy RON, unit=Currency(value=RON))"
      ]
     },
     "execution_count": 3,
     "metadata": {},
     "output_type": "execute_result"
    }
   ],
   "execution_count": 3
  },
  {
   "metadata": {
    "ExecuteTime": {
     "end_time": "2025-06-05T06:16:54.997796Z",
     "start_time": "2025-06-05T06:16:46.348096Z"
    }
   },
   "cell_type": "code",
   "source": [
    "import ro.jf.funds.fund.api.model.*\n",
    "import kotlinx.coroutines.runBlocking\n",
    "\n",
    "val funds = runBlocking {\n",
    "    val existingFunds = fundSdk.listFunds(user.id).items\n",
    "    val existingFundNames = existingFunds.map { it.name }.toSet()\n",
    "    val newFunds = File(FUNDS_YAML_FILE).readText()\n",
    "        .let { Yaml.default.decodeFromString(ListSerializer(CreateFundTO.serializer()), it) }\n",
    "        .filter { it.name !in existingFundNames }\n",
    "        .map { fundSdk.createFund(user.id, it) }\n",
    "    existingFunds + newFunds\n",
    "}\n",
    "funds.map { it.toString() }.joinToString(separator = \"\\n\")"
   ],
   "outputs": [
    {
     "data": {
      "text/plain": [
       "FundTO(id=e5416a98-a6d0-4d04-9def-e3b8391cac22, name=Expenses)\n",
       "FundTO(id=30f26512-e8bc-49ca-9c97-23ffb9d71037, name=Work Income)\n",
       "FundTO(id=46cfa374-afa2-4d0d-9acf-8437a0132e3d, name=Savings)\n",
       "FundTO(id=7656f916-fb80-4a9d-b10c-8ca6160950a5, name=Gifts)"
      ]
     },
     "execution_count": 4,
     "metadata": {},
     "output_type": "execute_result"
    }
   ],
   "execution_count": 4
  },
  {
   "metadata": {
    "ExecuteTime": {
     "end_time": "2025-06-05T06:16:55.429034Z",
     "start_time": "2025-06-05T06:16:55.081265Z"
    }
   },
   "cell_type": "code",
   "source": [
    "import ro.jf.funds.importer.api.model.*\n",
    "import kotlinx.serialization.json.Json\n",
    "\n",
    "val dataConfigurationRawYaml: String = File(IMPORT_CONFIGURATION_YAML_FILE).readText()\n",
    "val importConfiguration = Yaml.default.decodeFromString(ImportConfigurationTO.serializer(), dataConfigurationRawYaml)"
   ],
   "outputs": [],
   "execution_count": 5
  },
  {
   "metadata": {},
   "cell_type": "markdown",
   "source": ""
  },
  {
   "metadata": {
    "ExecuteTime": {
     "end_time": "2025-06-05T06:17:40.939222Z",
     "start_time": "2025-06-05T06:16:55.576679Z"
    }
   },
   "cell_type": "code",
   "source": [
    "import kotlinx.coroutines.delay\n",
    "import kotlinx.coroutines.runBlocking\n",
    "import kotlinx.datetime.Clock\n",
    "import ro.jf.funds.importer.api.model.*\n",
    "import java.io.File\n",
    "import java.util.*\n",
    "import kotlin.time.Duration\n",
    "\n",
    "val csvFiles =\n",
    "    listOf(File(\"../../data/wallet/2019\"), File(\"../../data/wallet/2020\"))\n",
    "        .flatMap { it.listFiles()?.toList() ?: error(\"no files found\") }\n",
    "runBlocking {\n",
    "    var importTask = importSdk.import(user.id, importConfiguration, csvFiles)\n",
    "    val now: Instant = Clock.System.now()\n",
    "    val timeout = 60.seconds\n",
    "    while (importTask.status == ImportTaskTO.Status.IN_PROGRESS && Clock.System.now() - now < timeout) {\n",
    "        delay(500)\n",
    "        importTask = importSdk.getImportTask(user.id, importTask.taskId)\n",
    "    }\n",
    "    importTask\n",
    "}\n"
   ],
   "outputs": [
    {
     "data": {
      "text/plain": [
       "ImportTaskTO(taskId=73b96f95-0073-49eb-9f0e-1e4749554d54, status=COMPLETED, reason=null)"
      ]
     },
     "execution_count": 6,
     "metadata": {},
     "output_type": "execute_result"
    }
   ],
   "execution_count": 6
  }
 ],
 "metadata": {
  "kernelspec": {
   "display_name": "Kotlin",
   "language": "kotlin",
   "name": "kotlin"
  },
  "language_info": {
   "name": "kotlin",
   "version": "1.9.23",
   "mimetype": "text/x-kotlin",
   "file_extension": ".kt",
   "pygments_lexer": "kotlin",
   "codemirror_mode": "text/x-kotlin",
   "nbconvert_exporter": ""
  },
  "ktnbPluginMetadata": {
   "projectDependencies": [
    "funds.commons-api"
   ]
  }
 },
 "nbformat": 4,
 "nbformat_minor": 0
}
