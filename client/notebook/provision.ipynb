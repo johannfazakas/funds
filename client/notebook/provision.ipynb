{
 "cells": [
  {
   "metadata": {
    "ExecuteTime": {
     "end_time": "2025-07-26T21:05:59.169340Z",
     "start_time": "2025-07-26T21:05:47.698222Z"
    }
   },
   "cell_type": "code",
   "source": [
    "@file:DependsOn(\"ro.jf.funds:funds-notebook-client:1.0.0\")\n",
    "%use dataframe\n",
    "\n",
    "import ro.jf.funds.client.notebook.*\n",
    "\n",
    "val username = \"Johann-39.4\"\n",
    "\n",
    "val client = FundsClient()\n"
   ],
   "outputs": [],
   "execution_count": 1
  },
  {
   "metadata": {
    "ExecuteTime": {
     "end_time": "2025-07-26T21:06:03.911072Z",
     "start_time": "2025-07-26T21:05:59.216983Z"
    }
   },
   "cell_type": "code",
   "source": [
    "val user = client.ensureUserExists(username)\n",
    "user"
   ],
   "outputs": [
    {
     "data": {
      "text/plain": [
       "UserTO(id=c05bfaa2-e9ba-459b-8173-bf8aed20c8ef, username=Johann-39.4)"
      ]
     },
     "execution_count": 2,
     "metadata": {},
     "output_type": "execute_result"
    }
   ],
   "execution_count": 2
  },
  {
   "metadata": {
    "collapsed": true,
    "ExecuteTime": {
     "end_time": "2025-07-26T21:06:04.070499Z",
     "start_time": "2025-07-26T21:06:03.983164Z"
    }
   },
   "cell_type": "code",
   "source": [
    "val ACCOUNTS_YAML_FILE = \"../../data/provision/accounts.yaml\"\n",
    "val FUNDS_YAML_FILE = \"../../data/provision/funds.yaml\"\n",
    "val INITIAL_BALANCE_YAML_FILE = \"../../data/provision/initial-balance.yaml\"\n",
    "val IMPORT_CONFIGURATION_JSON_FILE = \"../../data/provision/import-configuration.json\"\n",
    "val IMPORT_CONFIGURATION_YAML_FILE = \"../../data/provision/import-configuration.yaml\"\n"
   ],
   "outputs": [],
   "execution_count": 3
  },
  {
   "metadata": {
    "ExecuteTime": {
     "end_time": "2025-07-26T21:06:11.012852Z",
     "start_time": "2025-07-26T21:06:04.090563Z"
    }
   },
   "cell_type": "code",
   "source": [
    "import ro.jf.funds.account.api.model.*\n",
    "\n",
    "val accounts = client.provisionAccounts(user, client.fromYaml(File(ACCOUNTS_YAML_FILE)))\n",
    "accounts.map { it.toString() }.joinToString(separator = \"\\n\")"
   ],
   "outputs": [
    {
     "data": {
      "text/plain": [
       "AccountTO(id=c32e36f1-833f-4c31-86fb-e235475a7543, name=Cash RON, unit=Currency(value=RON))\n",
       "AccountTO(id=938ad6d7-dcae-4637-a242-a445e9b60baf, name=Cash EUR, unit=Currency(value=EUR))\n",
       "AccountTO(id=2e829c1a-5bac-48aa-8913-1a81f35da4bd, name=Cash EUR-RON, unit=Currency(value=RON))\n",
       "AccountTO(id=9278bf93-b5ee-477d-b116-63f9d5ca343f, name=ING RON, unit=Currency(value=RON))\n",
       "AccountTO(id=c71662ef-9eec-4a14-8c8b-d6491624f98b, name=ING Economy, unit=Currency(value=RON))\n",
       "AccountTO(id=d9d1a765-065c-453f-8388-1d3461077451, name=Food Coupons, unit=Currency(value=RON))\n",
       "AccountTO(id=8ec63462-0b1b-4e1a-b1c6-b3f3c84d9f2e, name=Revolut RON, unit=Currency(value=RON))\n",
       "AccountTO(id=6c4d2c4d-983e-41e6-b0d5-f9863ade9620, name=Revolut EUR-RON, unit=Currency(value=RON))\n",
       "AccountTO(id=e536cfac-9d9f-4c77-9d0e-8aa4ae048994, name=Other, unit=Currency(value=RON))\n",
       "AccountTO(id=b2e84342-f5a1-44cf-9738-6b04eb112096, name=BT RON, unit=Currency(value=RON))\n",
       "AccountTO(id=1759377a-4f1a-47f2-b4f4-8c5f028e33bf, name=BT EUR-RON, unit=Currency(value=RON))\n",
       "AccountTO(id=3fb7de2c-e810-4f5d-a919-855d03575178, name=BT Economy RON, unit=Currency(value=RON))\n",
       "AccountTO(id=b4ec6492-5e7a-4d44-a932-50ba3a8c1fa2, name=BT Depozit RON, unit=Currency(value=RON))\n",
       "AccountTO(id=c93c2c50-da02-4d04-b92c-d327b31e4e53, name=BT Philocode RON, unit=Currency(value=RON))"
      ]
     },
     "execution_count": 4,
     "metadata": {},
     "output_type": "execute_result"
    }
   ],
   "execution_count": 4
  },
  {
   "metadata": {
    "ExecuteTime": {
     "end_time": "2025-07-26T21:06:15.582443Z",
     "start_time": "2025-07-26T21:06:11.081173Z"
    }
   },
   "cell_type": "code",
   "source": [
    "import ro.jf.funds.fund.api.model.*\n",
    "\n",
    "val funds = client.provisionFunds(user, client.fromYaml(File(FUNDS_YAML_FILE)))\n",
    "funds.map { it.toString() }.joinToString(separator = \"\\n\")"
   ],
   "outputs": [
    {
     "data": {
      "text/plain": [
       "FundTO(id=0738fac9-4fa9-49d5-a436-434205848e4a, name=Expenses)\n",
       "FundTO(id=4dd079f2-3d35-4b17-a00d-7f33be64ea6e, name=Work Income)\n",
       "FundTO(id=ab57c97f-f699-408f-bdb9-bba0424ec8e5, name=Other Income)\n",
       "FundTO(id=f09db831-c2ea-4623-a3d5-e1a190dbeb22, name=Savings)"
      ]
     },
     "execution_count": 5,
     "metadata": {},
     "output_type": "execute_result"
    }
   ],
   "execution_count": 5
  },
  {
   "metadata": {
    "ExecuteTime": {
     "end_time": "2025-07-26T21:06:21.364747Z",
     "start_time": "2025-07-26T21:06:15.604341Z"
    }
   },
   "cell_type": "code",
   "source": [
    "import ro.jf.funds.fund.api.model.*\n",
    "\n",
    "val initialBalancesTransactions = client.provisionInitialBalances(user, accounts, funds, client.fromYaml(File(INITIAL_BALANCE_YAML_FILE)))\n",
    "initialBalancesTransactions.map { it.toString() }.joinToString(separator = \"\\n\")"
   ],
   "outputs": [
    {
     "data": {
      "text/plain": [
       "FundTransactionTO(id=4a18e5b5-bc71-455c-8970-c819e854f4bf, userId=c05bfaa2-e9ba-459b-8173-bf8aed20c8ef, dateTime=2018-12-31T00:00, records=[FundRecordTO(id=774634f4-6a27-412a-8bbc-02a7975d0857, fundId=0738fac9-4fa9-49d5-a436-434205848e4a, accountId=c32e36f1-833f-4c31-86fb-e235475a7543, amount=474.5, unit=Currency(value=RON), labels=[])])\n",
       "FundTransactionTO(id=f285141d-88c1-4fc4-b55d-613eb1214859, userId=c05bfaa2-e9ba-459b-8173-bf8aed20c8ef, dateTime=2018-12-31T00:00, records=[FundRecordTO(id=3c3f229c-866b-4e2e-8d44-8ab0f1261134, fundId=0738fac9-4fa9-49d5-a436-434205848e4a, accountId=d9d1a765-065c-453f-8388-1d3461077451, amount=45.96, unit=Currency(value=RON), labels=[])])\n",
       "FundTransactionTO(id=2c30eda1-3a72-4e42-a26b-3fb9d326dafa, userId=c05bfaa2-e9ba-459b-8173-bf8aed20c8ef, dateTime=2018-12-31T00:00, records=[FundRecordTO(id=d281826b-90eb-4d3f-9a64-59e63f83b2f3, fundId=0738fac9-4fa9-49d5-a436-434205848e4a, accountId=e536cfac-9d9f-4c77-9d0e-8aa4ae048994, amount=3051.9, unit=Currency(value=RON), labels=[])])\n",
       "FundTransactionTO(id=00cacaf4-072d-44fa-9b92-bc717ca08cae, userId=c05bfaa2-e9ba-459b-8173-bf8aed20c8ef, dateTime=2018-12-31T00:00, records=[FundRecordTO(id=59dc5bd0-2331-4c68-b79b-9f83abd7aed1, fundId=0738fac9-4fa9-49d5-a436-434205848e4a, accountId=b2e84342-f5a1-44cf-9738-6b04eb112096, amount=2194.13, unit=Currency(value=RON), labels=[])])"
      ]
     },
     "execution_count": 6,
     "metadata": {},
     "output_type": "execute_result"
    }
   ],
   "execution_count": 6
  },
  {
   "metadata": {
    "ExecuteTime": {
     "end_time": "2025-07-26T21:06:43.510839Z",
     "start_time": "2025-07-26T21:06:21.478532Z"
    }
   },
   "cell_type": "code",
   "source": [
    "import ro.jf.funds.importer.api.model.*\n",
    "\n",
    "val csvFiles =\n",
    "    listOf(File(\"../../data/wallet/2019\"), File(\"../../data/wallet/2020\"), File(\"../../data/wallet/2021\"), File(\"../../data/wallet/2022\"))\n",
    "        .flatMap { it.listFiles()?.toList() ?: error(\"no files found\") }\n",
    "val importTask = client.importTransactions(user, client.fromYaml(File(IMPORT_CONFIGURATION_YAML_FILE)), csvFiles)\n",
    "importTask"
   ],
   "outputs": [
    {
     "data": {
      "text/plain": [
       "ImportTaskTO(taskId=8af46d88-a80d-4ae8-9c94-16e3b1f4a8bd, status=COMPLETED, reason=null)"
      ]
     },
     "execution_count": 7,
     "metadata": {},
     "output_type": "execute_result"
    }
   ],
   "execution_count": 7
  }
 ],
 "metadata": {
  "kernelspec": {
   "display_name": "Kotlin",
   "language": "kotlin",
   "name": "kotlin"
  },
  "language_info": {
   "name": "kotlin",
   "version": "1.9.23",
   "mimetype": "text/x-kotlin",
   "file_extension": ".kt",
   "pygments_lexer": "kotlin",
   "codemirror_mode": "text/x-kotlin",
   "nbconvert_exporter": ""
  },
  "ktnbPluginMetadata": {
   "projectDependencies": [
    "funds.commons-api"
   ]
  }
 },
 "nbformat": 4,
 "nbformat_minor": 0
}
