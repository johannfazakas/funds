{
 "cells": [
  {
   "metadata": {
    "ExecuteTime": {
     "end_time": "2025-09-02T17:02:26.567719Z",
     "start_time": "2025-09-02T17:02:20.193348Z"
    }
   },
   "cell_type": "code",
   "source": [
    "@file:DependsOn(\"ro.jf.funds:funds-notebook-client:1.0.0\")\n",
    "%use dataframe\n",
    "\n",
    "import ro.jf.funds.client.notebook.*\n",
    "\n",
    "val username = \"Johann-51.2\"\n",
    "\n",
    "val client = FundsClient()\n"
   ],
   "outputs": [],
   "execution_count": 1
  },
  {
   "metadata": {
    "ExecuteTime": {
     "end_time": "2025-09-02T17:02:27.995728Z",
     "start_time": "2025-09-02T17:02:26.585332Z"
    }
   },
   "cell_type": "code",
   "source": [
    "val user = client.ensureUserExists(username)\n",
    "user"
   ],
   "outputs": [
    {
     "data": {
      "text/plain": [
       "UserTO(id=f384480a-8906-40fb-8f59-64c88b0eede9, username=Johann-51.2)"
      ]
     },
     "execution_count": 2,
     "metadata": {},
     "output_type": "execute_result"
    }
   ],
   "execution_count": 2
  },
  {
   "metadata": {
    "collapsed": true,
    "ExecuteTime": {
     "end_time": "2025-09-02T17:02:28.204035Z",
     "start_time": "2025-09-02T17:02:28.033752Z"
    }
   },
   "cell_type": "code",
   "source": [
    "val ACCOUNTS_YAML_FILE = \"../../data/provision/accounts.yaml\"\n",
    "val FUNDS_YAML_FILE = \"../../data/provision/funds.yaml\"\n",
    "val INITIAL_BALANCE_YAML_FILE = \"../../data/provision/initial-balance.yaml\"\n",
    "val IMPORT_CONFIGURATION_JSON_FILE = \"../../data/provision/import-configuration.json\"\n",
    "val WALLET_IMPORT_CONFIGURATION_YAML_FILE = \"../../data/provision/wallet-import-configuration.yaml\"\n",
    "val INVESTMENT_IMPORT_CONFIGURATION_YAML_FILE = \"../../data/provision/investment-import-configuration.yaml\""
   ],
   "outputs": [],
   "execution_count": 3
  },
  {
   "metadata": {
    "ExecuteTime": {
     "end_time": "2025-09-02T17:02:32.682014Z",
     "start_time": "2025-09-02T17:02:28.354188Z"
    }
   },
   "cell_type": "code",
   "source": [
    "import ro.jf.funds.account.api.model.*\n",
    "\n",
    "val accounts = client.provisionAccounts(user, client.fromYaml(File(ACCOUNTS_YAML_FILE)))\n",
    "accounts.map { it.toString() }.joinToString(separator = \"\\n\")"
   ],
   "outputs": [
    {
     "data": {
      "text/plain": [
       "AccountTO(id=383528a4-80bf-4427-aa77-5c6e525d1ed2, name=Cash RON, unit=Currency(value=RON))\n",
       "AccountTO(id=5032679b-db39-4858-bf15-b7e7e06d12bc, name=Cash EUR, unit=Currency(value=EUR))\n",
       "AccountTO(id=f0cf2644-cc90-4b8d-ad2c-baf826c57ae3, name=Cash EUR-RON, unit=Currency(value=RON))\n",
       "AccountTO(id=927dc1d3-3c40-4093-b427-cf17cfcf714b, name=ING RON, unit=Currency(value=RON))\n",
       "AccountTO(id=39a58ee9-fb53-47ce-92ae-dd3e00e4de4a, name=ING Economy, unit=Currency(value=RON))\n",
       "AccountTO(id=01070d79-c6b8-4f44-b04f-74894385f5aa, name=Food Coupons, unit=Currency(value=RON))\n",
       "AccountTO(id=63676929-00ea-4e7e-bce4-0a30ea344746, name=Revolut RON, unit=Currency(value=RON))\n",
       "AccountTO(id=9830cfd3-32e2-4dad-9545-0a02348af18f, name=Revolut EUR-RON, unit=Currency(value=RON))\n",
       "AccountTO(id=8557f651-d804-483f-a877-31abc6b34cc5, name=Other, unit=Currency(value=RON))\n",
       "AccountTO(id=4d08a922-9007-443f-a631-52803c95652d, name=BT RON, unit=Currency(value=RON))\n",
       "AccountTO(id=8513a492-4dd5-403d-977d-3cf6e2ab6980, name=BT CC, unit=Currency(value=RON))\n",
       "AccountTO(id=5a84fca8-72ac-48a6-8939-9d6c7f263ed5, name=BT EUR-RON, unit=Currency(value=RON))\n",
       "AccountTO(id=2ce092e4-335b-4859-99ea-71e1bc66d3a3, name=BT Economy RON, unit=Currency(value=RON))\n",
       "AccountTO(id=e5cf826b-96c4-4ef8-a28b-814b11395adf, name=BT Depozit RON, unit=Currency(value=RON))\n",
       "AccountTO(id=02d75d1f-057c-417e-acb7-b06eecbe7c42, name=BT Philocode RON, unit=Currency(value=RON))\n",
       "AccountTO(id=ec265b3a-76f5-4ba2-b090-90b79e9c0761, name=XTB EUR, unit=Currency(value=EUR))\n",
       "AccountTO(id=f89a8c82-1ac1-4dc7-954c-82e9fa6be17c, name=XTB EUNL, unit=Symbol(value=EUNL))\n",
       "AccountTO(id=3aa906fe-207a-4516-9971-4d60e6b2cca0, name=XTB QDVE, unit=Symbol(value=QDVE))\n",
       "AccountTO(id=af223e84-ba19-4ace-96cf-40228fd1c6bd, name=XTB IMAE, unit=Symbol(value=IMAE))\n",
       "AccountTO(id=16a706c7-5461-4d50-a964-5c9a8f677d76, name=XTB IS3N, unit=Symbol(value=IS3N))\n",
       "AccountTO(id=c07b7715-8a16-4bc6-949d-cf3f8c2f7b27, name=XTB SXR8, unit=Symbol(value=SXR8))\n",
       "AccountTO(id=7c9fff56-7d76-4a0f-9792-0245aa4e4da6, name=XTB SUSW, unit=Symbol(value=SUSW))"
      ]
     },
     "execution_count": 4,
     "metadata": {},
     "output_type": "execute_result"
    }
   ],
   "execution_count": 4
  },
  {
   "metadata": {
    "ExecuteTime": {
     "end_time": "2025-09-02T17:02:34.521753Z",
     "start_time": "2025-09-02T17:02:32.713229Z"
    }
   },
   "cell_type": "code",
   "source": [
    "import ro.jf.funds.fund.api.model.*\n",
    "\n",
    "val funds = client.provisionFunds(user, client.fromYaml(File(FUNDS_YAML_FILE)))\n",
    "funds.map { it.toString() }.joinToString(separator = \"\\n\")"
   ],
   "outputs": [
    {
     "data": {
      "text/plain": [
       "FundTO(id=0fdc6c17-4fdd-4e3c-8948-078ede78f2d0, name=Expenses)\n",
       "FundTO(id=b450a49a-bb6a-4b70-9464-b7a334f3af7c, name=Work Income)\n",
       "FundTO(id=c391b618-6a5d-477d-a1e9-c90db994d34e, name=Other Income)\n",
       "FundTO(id=3d5493a1-c249-4779-81db-065c03c8dd9e, name=Savings)\n",
       "FundTO(id=523bdf55-453a-4ce0-93f0-c54b64df9f14, name=Investments)"
      ]
     },
     "execution_count": 5,
     "metadata": {},
     "output_type": "execute_result"
    }
   ],
   "execution_count": 5
  },
  {
   "metadata": {
    "ExecuteTime": {
     "end_time": "2025-09-02T17:02:44.074036Z",
     "start_time": "2025-09-02T17:02:34.587566Z"
    }
   },
   "cell_type": "code",
   "source": [
    "import ro.jf.funds.fund.api.model.*\n",
    "\n",
    "val initialBalancesTransactions = client.provisionInitialBalances(user, accounts, funds, client.fromYaml(File(INITIAL_BALANCE_YAML_FILE)))\n",
    "initialBalancesTransactions.map { it.toString() }.joinToString(separator = \"\\n\")"
   ],
   "outputs": [
    {
     "data": {
      "text/plain": [
       "FundTransactionTO(id=1fd88dde-c85e-48e4-adb2-3b2e7eb702b1, userId=f384480a-8906-40fb-8f59-64c88b0eede9, dateTime=2018-12-31T00:00, records=[FundRecordTO(id=f9e2e362-6eb3-4ee5-a07e-31de5e01065b, fundId=0fdc6c17-4fdd-4e3c-8948-078ede78f2d0, accountId=383528a4-80bf-4427-aa77-5c6e525d1ed2, amount=553.5, unit=Currency(value=RON), labels=[])])\n",
       "FundTransactionTO(id=5bc52089-70fb-40e8-a52a-9cb6e1115320, userId=f384480a-8906-40fb-8f59-64c88b0eede9, dateTime=2018-12-31T00:00, records=[FundRecordTO(id=f33696cd-8f43-420d-9daa-fa3a310aadc9, fundId=0fdc6c17-4fdd-4e3c-8948-078ede78f2d0, accountId=01070d79-c6b8-4f44-b04f-74894385f5aa, amount=45.96, unit=Currency(value=RON), labels=[])])\n",
       "FundTransactionTO(id=ef2b3ea2-188f-493d-b347-2f2cbd4a46f9, userId=f384480a-8906-40fb-8f59-64c88b0eede9, dateTime=2018-12-31T00:00, records=[FundRecordTO(id=6f117da2-58be-43e3-a5ec-e887a2641ab4, fundId=0fdc6c17-4fdd-4e3c-8948-078ede78f2d0, accountId=8557f651-d804-483f-a877-31abc6b34cc5, amount=3051.9, unit=Currency(value=RON), labels=[])])\n",
       "FundTransactionTO(id=4a565739-555b-47d5-a268-6e4076d631b5, userId=f384480a-8906-40fb-8f59-64c88b0eede9, dateTime=2018-12-31T00:00, records=[FundRecordTO(id=8a5915bf-48ae-44af-b54c-e7ffb5f5926c, fundId=0fdc6c17-4fdd-4e3c-8948-078ede78f2d0, accountId=4d08a922-9007-443f-a631-52803c95652d, amount=7708.46, unit=Currency(value=RON), labels=[])])\n",
       "FundTransactionTO(id=0eb11b6a-580b-4728-9a30-1c6ac7c2ab35, userId=f384480a-8906-40fb-8f59-64c88b0eede9, dateTime=2018-12-31T00:00, records=[FundRecordTO(id=c129cac5-219e-4a36-9125-adab104a84c0, fundId=0fdc6c17-4fdd-4e3c-8948-078ede78f2d0, accountId=927dc1d3-3c40-4093-b427-cf17cfcf714b, amount=-3037.15, unit=Currency(value=RON), labels=[])])"
      ]
     },
     "execution_count": 6,
     "metadata": {},
     "output_type": "execute_result"
    }
   ],
   "execution_count": 6
  },
  {
   "metadata": {
    "ExecuteTime": {
     "end_time": "2025-09-02T17:03:12.122648Z",
     "start_time": "2025-09-02T17:02:44.268088Z"
    }
   },
   "cell_type": "code",
   "source": [
    "\n",
    "val investmentCsvFiles =\n",
    "    listOf(2022, 2023)\n",
    "        .map { year -> File(\"../../data/investment/$year\") }\n",
    "        .flatMap { it.listFiles()?.toList() ?: error(\"no files found\") }\n",
    "val importTask = client.importTransactions(user, client.fromYaml(File(INVESTMENT_IMPORT_CONFIGURATION_YAML_FILE)), investmentCsvFiles)\n",
    "importTask"
   ],
   "outputs": [
    {
     "data": {
      "text/plain": [
       "ImportTaskTO(taskId=44fc77a9-da9c-44b5-bba2-501e8e08b00b, status=COMPLETED, reason=null)"
      ]
     },
     "execution_count": 7,
     "metadata": {},
     "output_type": "execute_result"
    }
   ],
   "execution_count": 7
  },
  {
   "metadata": {
    "ExecuteTime": {
     "end_time": "2025-09-02T17:03:59.420934Z",
     "start_time": "2025-09-02T17:03:12.143108Z"
    }
   },
   "cell_type": "code",
   "source": [
    "import ro.jf.funds.importer.api.model.*\n",
    "\n",
    "val csvFiles =\n",
    "    listOf(2019, 2020, 2021, 2022, 2023)\n",
    "        .map { year -> File(\"../../data/wallet/$year\")}\n",
    "        .flatMap { it.listFiles()?.toList() ?: error(\"no files found\") }\n",
    "val importTask = client.importTransactions(user, client.fromYaml(File(WALLET_IMPORT_CONFIGURATION_YAML_FILE)), csvFiles)\n",
    "importTask"
   ],
   "outputs": [
    {
     "data": {
      "text/plain": [
       "ImportTaskTO(taskId=5304afe4-487c-4a19-9d67-5f9b62bfa012, status=COMPLETED, reason=null)"
      ]
     },
     "execution_count": 8,
     "metadata": {},
     "output_type": "execute_result"
    }
   ],
   "execution_count": 8
  }
 ],
 "metadata": {
  "kernelspec": {
   "display_name": "Kotlin",
   "language": "kotlin",
   "name": "kotlin"
  },
  "language_info": {
   "name": "kotlin",
   "version": "1.9.23",
   "mimetype": "text/x-kotlin",
   "file_extension": ".kt",
   "pygments_lexer": "kotlin",
   "codemirror_mode": "text/x-kotlin",
   "nbconvert_exporter": ""
  },
  "ktnbPluginMetadata": {
   "projectDependencies": [
    "funds.commons-api"
   ]
  }
 },
 "nbformat": 4,
 "nbformat_minor": 0
}
