{
 "cells": [
  {
   "metadata": {
    "ExecuteTime": {
     "end_time": "2025-07-11T09:12:15.275624Z",
     "start_time": "2025-07-11T09:12:10.955046Z"
    }
   },
   "cell_type": "code",
   "source": [
    "@file:DependsOn(\"ro.jf.funds:funds-notebook-client:1.0.0\")\n",
    "%use dataframe\n",
    "\n",
    "import ro.jf.funds.client.notebook.*\n",
    "\n",
    "val username = \"Johann-34.4\"\n",
    "\n",
    "val client = FundsClient()\n"
   ],
   "outputs": [],
   "execution_count": 15
  },
  {
   "metadata": {
    "ExecuteTime": {
     "end_time": "2025-07-11T09:12:15.571925Z",
     "start_time": "2025-07-11T09:12:15.286376Z"
    }
   },
   "cell_type": "code",
   "source": [
    "val user = client.ensureUserExists(username)\n",
    "user"
   ],
   "outputs": [
    {
     "data": {
      "text/plain": [
       "UserTO(id=55c413f0-fb23-4b03-8ead-9194ec267af4, username=Johann-34.4)"
      ]
     },
     "execution_count": 16,
     "metadata": {},
     "output_type": "execute_result"
    }
   ],
   "execution_count": 16
  },
  {
   "metadata": {
    "collapsed": true,
    "ExecuteTime": {
     "end_time": "2025-07-11T09:12:15.603969Z",
     "start_time": "2025-07-11T09:12:15.579807Z"
    }
   },
   "cell_type": "code",
   "source": [
    "val ACCOUNTS_YAML_FILE = \"../../data/provision/accounts.yaml\"\n",
    "val FUNDS_YAML_FILE = \"../../data/provision/funds.yaml\"\n",
    "val INITIAL_BALANCE_YAML_FILE = \"../../data/provision/initial-balance.yaml\"\n",
    "val IMPORT_CONFIGURATION_JSON_FILE = \"../../data/provision/import-configuration.json\"\n",
    "val IMPORT_CONFIGURATION_YAML_FILE = \"../../data/provision/import-configuration.yaml\"\n"
   ],
   "outputs": [],
   "execution_count": 17
  },
  {
   "metadata": {
    "ExecuteTime": {
     "end_time": "2025-07-11T09:12:18.536497Z",
     "start_time": "2025-07-11T09:12:15.635280Z"
    }
   },
   "cell_type": "code",
   "source": [
    "import ro.jf.funds.account.api.model.*\n",
    "\n",
    "val accounts = client.provisionAccounts(user, client.fromYaml(File(ACCOUNTS_YAML_FILE)))\n",
    "accounts.map { it.toString() }.joinToString(separator = \"\\n\")"
   ],
   "outputs": [
    {
     "data": {
      "text/plain": [
       "AccountTO(id=48e947c5-f4cb-47cf-9c02-c78e94ceefdc, name=Cash RON, unit=Currency(value=RON))\n",
       "AccountTO(id=24aaacf4-e30f-40e7-aa7d-95bc3c1eb57d, name=Cash EUR, unit=Currency(value=EUR))\n",
       "AccountTO(id=eeaefcca-78b7-4094-a42f-eec4a054d5ed, name=Cash EUR-RON, unit=Currency(value=RON))\n",
       "AccountTO(id=870fe3ee-38e0-47cd-a446-aa1972622af2, name=ING RON, unit=Currency(value=RON))\n",
       "AccountTO(id=eed850f5-5724-41f1-8dec-46dd67b93161, name=ING Economy, unit=Currency(value=RON))\n",
       "AccountTO(id=14f55a4e-a983-4e0d-ae08-f86842826855, name=Food Coupons, unit=Currency(value=RON))\n",
       "AccountTO(id=92ef537a-1fce-43e4-be98-c9bc60b0818f, name=Revolut RON, unit=Currency(value=RON))\n",
       "AccountTO(id=87c9e939-f465-46f1-86a5-8d8077c72b80, name=Other, unit=Currency(value=RON))\n",
       "AccountTO(id=52853712-9499-4b82-bbdf-dc9958af55ab, name=BT RON, unit=Currency(value=RON))\n",
       "AccountTO(id=cb2460ec-f2ff-4f0b-bd9d-efb91f70d1eb, name=BT Economy RON, unit=Currency(value=RON))\n",
       "AccountTO(id=9e03205f-1f4f-43a1-a577-d8ab7fb705a4, name=BT Philocode RON, unit=Currency(value=RON))"
      ]
     },
     "execution_count": 18,
     "metadata": {},
     "output_type": "execute_result"
    }
   ],
   "execution_count": 18
  },
  {
   "metadata": {
    "ExecuteTime": {
     "end_time": "2025-07-11T09:12:21.451968Z",
     "start_time": "2025-07-11T09:12:18.569925Z"
    }
   },
   "cell_type": "code",
   "source": [
    "import ro.jf.funds.fund.api.model.*\n",
    "\n",
    "val funds = client.provisionFunds(user, client.fromYaml(File(FUNDS_YAML_FILE)))\n",
    "funds.map { it.toString() }.joinToString(separator = \"\\n\")"
   ],
   "outputs": [
    {
     "data": {
      "text/plain": [
       "FundTO(id=4066b527-cd0d-4bf1-b456-36cf6e802240, name=Expenses)\n",
       "FundTO(id=f5aa4bdd-104e-459b-bbe6-81ab06d0e66d, name=Work Income)\n",
       "FundTO(id=dc8d2371-79bc-4c0c-a848-155f836b605f, name=Other Income)\n",
       "FundTO(id=5602089b-0329-4306-a19e-647f708e9d61, name=Savings)"
      ]
     },
     "execution_count": 19,
     "metadata": {},
     "output_type": "execute_result"
    }
   ],
   "execution_count": 19
  },
  {
   "metadata": {
    "ExecuteTime": {
     "end_time": "2025-07-11T09:12:22.922120Z",
     "start_time": "2025-07-11T09:12:21.468369Z"
    }
   },
   "cell_type": "code",
   "source": [
    "import ro.jf.funds.fund.api.model.*\n",
    "\n",
    "val initialBalancesTransactions = client.provisionInitialBalances(user, accounts, funds, client.fromYaml(File(INITIAL_BALANCE_YAML_FILE)))\n",
    "initialBalancesTransactions.map { it.toString() }.joinToString(separator = \"\\n\")"
   ],
   "outputs": [
    {
     "data": {
      "text/plain": [
       "FundTransactionTO(id=25a33b3e-469f-4e25-b5a7-6f0a5e5d1900, userId=55c413f0-fb23-4b03-8ead-9194ec267af4, dateTime=2018-12-31T00:00, records=[FundRecordTO(id=8441f819-1813-4158-90a2-fdb9a171aaa4, fundId=4066b527-cd0d-4bf1-b456-36cf6e802240, accountId=48e947c5-f4cb-47cf-9c02-c78e94ceefdc, amount=474.5, unit=Currency(value=RON), labels=[])])\n",
       "FundTransactionTO(id=6a6320b8-650e-4b45-90ad-850f340b83b4, userId=55c413f0-fb23-4b03-8ead-9194ec267af4, dateTime=2018-12-31T00:00, records=[FundRecordTO(id=e33eda0d-9afe-48b6-851e-1d7d6040c154, fundId=4066b527-cd0d-4bf1-b456-36cf6e802240, accountId=14f55a4e-a983-4e0d-ae08-f86842826855, amount=45.96, unit=Currency(value=RON), labels=[])])\n",
       "FundTransactionTO(id=c4588954-c3a4-49f4-943e-637f6091d4cc, userId=55c413f0-fb23-4b03-8ead-9194ec267af4, dateTime=2018-12-31T00:00, records=[FundRecordTO(id=c80168d1-9a8e-4b5d-bf59-60c4d5c0f696, fundId=4066b527-cd0d-4bf1-b456-36cf6e802240, accountId=87c9e939-f465-46f1-86a5-8d8077c72b80, amount=3051.9, unit=Currency(value=RON), labels=[])])\n",
       "FundTransactionTO(id=a0b096ed-05c0-45bb-84db-3a342fc0548a, userId=55c413f0-fb23-4b03-8ead-9194ec267af4, dateTime=2018-12-31T00:00, records=[FundRecordTO(id=dee20f16-042f-47f6-b105-968fd68b59f5, fundId=4066b527-cd0d-4bf1-b456-36cf6e802240, accountId=52853712-9499-4b82-bbdf-dc9958af55ab, amount=2194.13, unit=Currency(value=RON), labels=[])])"
      ]
     },
     "execution_count": 20,
     "metadata": {},
     "output_type": "execute_result"
    }
   ],
   "execution_count": 20
  },
  {
   "metadata": {
    "ExecuteTime": {
     "end_time": "2025-07-11T09:12:42.916382Z",
     "start_time": "2025-07-11T09:12:23.022295Z"
    }
   },
   "cell_type": "code",
   "source": [
    "import ro.jf.funds.importer.api.model.*\n",
    "\n",
    "val csvFiles =\n",
    "    listOf(File(\"../../data/wallet/2019\"), File(\"../../data/wallet/2020\"), File(\"../../data/wallet/2021\"))\n",
    "        .flatMap { it.listFiles()?.toList() ?: error(\"no files found\") }\n",
    "val importTask = client.importTransactions(user, client.fromYaml(File(IMPORT_CONFIGURATION_YAML_FILE)), csvFiles)\n",
    "importTask"
   ],
   "outputs": [
    {
     "data": {
      "text/plain": [
       "ImportTaskTO(taskId=cd0eba2a-8581-40ca-a760-be34951ad2e3, status=COMPLETED, reason=null)"
      ]
     },
     "execution_count": 21,
     "metadata": {},
     "output_type": "execute_result"
    }
   ],
   "execution_count": 21
  }
 ],
 "metadata": {
  "kernelspec": {
   "display_name": "Kotlin",
   "language": "kotlin",
   "name": "kotlin"
  },
  "language_info": {
   "name": "kotlin",
   "version": "1.9.23",
   "mimetype": "text/x-kotlin",
   "file_extension": ".kt",
   "pygments_lexer": "kotlin",
   "codemirror_mode": "text/x-kotlin",
   "nbconvert_exporter": ""
  },
  "ktnbPluginMetadata": {
   "projectDependencies": [
    "funds.commons-api"
   ]
  }
 },
 "nbformat": 4,
 "nbformat_minor": 0
}
