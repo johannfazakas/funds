{
 "cells": [
  {
   "metadata": {
    "ExecuteTime": {
     "end_time": "2025-02-07T05:15:00.188502Z",
     "start_time": "2025-02-07T05:14:44.318840Z"
    }
   },
   "cell_type": "code",
   "source": [
    "@file:DependsOn(\"io.ktor:ktor-client-core:2.0.0\")\n",
    "@file:DependsOn(\"io.ktor:ktor-client-cio:2.0.0\")\n",
    "@file:DependsOn(\"io.ktor:ktor-client-content-negotiation:2.0.0\")\n",
    "@file:DependsOn(\"io.ktor:ktor-serialization-kotlinx-json:2.0.0\")\n",
    "@file:DependsOn(\"ro.jf.funds:user-sdk:1.0.0\")\n",
    "@file:DependsOn(\"ro.jf.funds:import-sdk:1.0.0\")\n",
    "@file:DependsOn(\"ro.jf.funds:fund-sdk:1.0.0\")\n",
    "@file:DependsOn(\"ro.jf.funds:account-sdk:1.0.0\")\n",
    "%use dataframe\n"
   ],
   "outputs": [],
   "execution_count": 1
  },
  {
   "metadata": {
    "collapsed": true,
    "ExecuteTime": {
     "end_time": "2025-02-07T05:14:50.382550Z",
     "start_time": "2025-02-07T05:14:48.568715Z"
    }
   },
   "cell_type": "code",
   "source": [
    "import ro.jf.funds.account.sdk.AccountSdk\n",
    "import ro.jf.funds.fund.sdk.FundSdk\n",
    "import ro.jf.funds.importer.sdk.ImportSdk\n",
    "import ro.jf.funds.user.sdk.UserSdk\n",
    "import kotlinx.coroutines.runBlocking\n",
    "\n",
    "val ACCOUNTS_CSV_FILE = \"../../data/provision/accounts.csv\"\n",
    "val FUNDS_CSV_FILE = \"../../data/provision/funds.csv\"\n",
    "val ACCOUNT_MATCHERS_CSV_FILE = \"../../data/provision/account-matchers.csv\"\n",
    "val FUND_MATCHERS_CSV_FILE = \"../../data/provision/fund-matchers.csv\"\n",
    "val EXCHANGE_MATCHERS_CSV_FILE = \"../../data/provision/exchange-matchers.csv\"\n",
    "val LABEL_MATCHERS_CSV_FILE = \"../../data/provision/label-matchers.csv\"\n",
    "\n",
    "val userSdk = UserSdk()\n",
    "val accountSdk = AccountSdk()\n",
    "val fundSdk = FundSdk()\n",
    "val importSdk = ImportSdk()\n",
    "\n",
    "val username = \"Johann-9.0\"\n",
    "val user = runBlocking {\n",
    "    userSdk.findUserByUsername(username)\n",
    "        ?: userSdk.createUser(username)\n",
    "}\n",
    "user"
   ],
   "outputs": [
    {
     "data": {
      "text/plain": [
       "UserTO(id=aa2ccb4d-d3c7-4d3a-818d-5924ec966ac5, username=Johann-9.0)"
      ]
     },
     "execution_count": 2,
     "metadata": {},
     "output_type": "execute_result"
    }
   ],
   "execution_count": 2
  },
  {
   "metadata": {
    "ExecuteTime": {
     "end_time": "2025-02-07T05:14:55.178141Z",
     "start_time": "2025-02-07T05:14:50.399038Z"
    }
   },
   "cell_type": "code",
   "source": [
    "import ro.jf.funds.account.api.model.*\n",
    "import ro.jf.funds.account.api.model.*\n",
    "import ro.jf.funds.commons.model.*\n",
    "import kotlinx.coroutines.runBlocking\n",
    "\n",
    "val accounts = runBlocking {\n",
    "    val existingAccounts = accountSdk.listAccounts(user.id).items\n",
    "    val existingAccountNames = existingAccounts.map { it.name }.toSet()\n",
    "    val newAccounts = DataFrame.readCSV(ACCOUNTS_CSV_FILE, delimiter = ';')\n",
    "        .map { row -> CreateAccountTO(AccountName(row.getValue<String>(\"account\")), Currency(row.getValue<String>(\"currency\"))) }\n",
    "        .filter { it.name !in existingAccountNames }\n",
    "        .map { accountSdk.createAccount(user.id, it) }\n",
    "    existingAccounts + newAccounts\n",
    "}\n",
    "accounts.map { it.toString() }.joinToString(separator = \"\\n\")"
   ],
   "outputs": [
    {
     "data": {
      "text/plain": [
       "AccountTO(id=e957a289-cb7f-4075-ada0-2294610f0a5e, name=Cash RON, unit=Currency(value=RON))\n",
       "AccountTO(id=7f7651bb-ce7c-4a64-953a-16c1ce7fabdb, name=Cash EUR, unit=Currency(value=EUR))\n",
       "AccountTO(id=49f4be3c-b416-4f20-b8f3-2bf8cb4548dd, name=ING RON, unit=Currency(value=RON))\n",
       "AccountTO(id=14d0a771-21c3-4eb9-b9df-021c56671337, name=ING Economy, unit=Currency(value=RON))\n",
       "AccountTO(id=84985f55-1c9a-46af-b729-e81efa5375db, name=Food Coupons, unit=Currency(value=RON))\n",
       "AccountTO(id=ddcb3dbc-5840-40ad-b2e3-e48dd2348c33, name=Revolut RON, unit=Currency(value=RON))\n",
       "AccountTO(id=2f902b42-d22c-4ac3-8842-19d2ac71a7ac, name=Other, unit=Currency(value=RON))\n",
       "AccountTO(id=0cb043a8-d9bf-4063-9910-83ee875f102b, name=BT RON, unit=Currency(value=RON))\n",
       "AccountTO(id=39514d34-72d9-4e4f-8cd1-5c206ab70a07, name=BT Economy RON, unit=Currency(value=RON))"
      ]
     },
     "execution_count": 3,
     "metadata": {},
     "output_type": "execute_result"
    }
   ],
   "execution_count": 3
  },
  {
   "metadata": {
    "ExecuteTime": {
     "end_time": "2025-02-07T05:14:57.290662Z",
     "start_time": "2025-02-07T05:14:55.199412Z"
    }
   },
   "cell_type": "code",
   "source": [
    "import ro.jf.funds.fund.api.model.*\n",
    "import kotlinx.coroutines.runBlocking\n",
    "\n",
    "val funds = runBlocking {\n",
    "    val existingFunds = fundSdk.listFunds(user.id).items\n",
    "    val existingFundNames = existingFunds.map { it.name }.toSet()\n",
    "    val newFunds = DataFrame.readCSV(FUNDS_CSV_FILE, delimiter = ';')\n",
    "        .map { row -> CreateFundTO(FundName(row.getValue<String>(\"fund\"))) }\n",
    "        .filter { it.name !in existingFundNames }\n",
    "        .map { fundSdk.createFund(user.id, it) }\n",
    "    existingFunds + newFunds\n",
    "}\n",
    "funds.map { it.toString() }.joinToString(separator = \"\\n\")"
   ],
   "outputs": [
    {
     "data": {
      "text/plain": [
       "FundTO(id=622c0e88-bbff-46e8-ba64-857f8fc7e858, name=Expenses)\n",
       "FundTO(id=0f490e07-e7a1-4b10-b931-74192cc6eb4e, name=Work Income)\n",
       "FundTO(id=16a8dcfa-e08c-4c4d-b5d2-30f28d8af4c9, name=Savings)\n",
       "FundTO(id=5035f9c4-570b-4075-b59a-9ccd29b70f16, name=Gifts)"
      ]
     },
     "execution_count": 4,
     "metadata": {},
     "output_type": "execute_result"
    }
   ],
   "execution_count": 4
  },
  {
   "metadata": {
    "ExecuteTime": {
     "end_time": "2025-02-07T05:14:57.496355Z",
     "start_time": "2025-02-07T05:14:57.302638Z"
    }
   },
   "cell_type": "code",
   "source": [
    "import ro.jf.funds.importer.api.model.AccountMatcherTO\n",
    "\n",
    "val accountMatchers = runBlocking {\n",
    "    DataFrame.readCSV(ACCOUNT_MATCHERS_CSV_FILE, delimiter = ';')\n",
    "        .map { row -> AccountMatcherTO(row.getValue<String>(\"import_account_name\"), AccountName(row.getValue<String>(\"account_name\"))) }\n",
    "}\n",
    "accountMatchers.map { it.toString() }.joinToString(separator = \"\\n\")"
   ],
   "outputs": [
    {
     "data": {
      "text/plain": [
       "AccountMatcherTO(importAccountName=ING old, accountName=ING RON)\n",
       "AccountMatcherTO(importAccountName=ING Economy old, accountName=ING Economy)\n",
       "AccountMatcherTO(importAccountName=Cash RON, accountName=Cash RON)\n",
       "AccountMatcherTO(importAccountName=Euro, accountName=Cash EUR)\n",
       "AccountMatcherTO(importAccountName=Food Coupons, accountName=Food Coupons)\n",
       "AccountMatcherTO(importAccountName=Revolut - Manual, accountName=Revolut RON)\n",
       "AccountMatcherTO(importAccountName=Other, accountName=Other)\n",
       "AccountMatcherTO(importAccountName=BT RON, accountName=BT RON)\n",
       "AccountMatcherTO(importAccountName=BT Economy RON, accountName=BT Economy RON)"
      ]
     },
     "execution_count": 5,
     "metadata": {},
     "output_type": "execute_result"
    }
   ],
   "execution_count": 5
  },
  {
   "metadata": {
    "ExecuteTime": {
     "end_time": "2025-02-07T05:14:57.805725Z",
     "start_time": "2025-02-07T05:14:57.508660Z"
    }
   },
   "cell_type": "code",
   "source": [
    "import ro.jf.funds.importer.api.model.*\n",
    "\n",
    "val fundMatchers = runBlocking {\n",
    "    DataFrame.readCSV(FUND_MATCHERS_CSV_FILE, delimiter = ';')\n",
    "        .map { row ->\n",
    "            when (row.getValue<String>(\"type\")) {\n",
    "                \"by_account\" -> FundMatcherTO.ByAccount(\n",
    "                    importAccountName = row.getValue<String>(\"import_account_name\"),\n",
    "                    fundName = FundName(row.getValue<String>(\"fund_name\"))\n",
    "                )\n",
    "                \n",
    "                \"by_label\" -> FundMatcherTO.ByLabel(\n",
    "                    importLabel = row.getValue<String>(\"import_label\"),\n",
    "                    fundName = FundName(row.getValue<String>(\"fund_name\"))\n",
    "                )\n",
    "\n",
    "                \"by_account_label\" -> FundMatcherTO.ByAccountLabel(\n",
    "                    importAccountName = row.getValue<String>(\"import_account_name\"),\n",
    "                    importLabel = row.getValue<String>(\"import_label\"),\n",
    "                    fundName = FundName(row.getValue<String>(\"fund_name\"))\n",
    "                )\n",
    "\n",
    "                \"by_label_with_transfer\" -> FundMatcherTO.ByLabelWithTransfer(\n",
    "                    importLabel = row.getValue<String>(\"import_label\"),\n",
    "                    initialFundName = FundName(row.getValue<String>(\"initial_fund_name\")),\n",
    "                    fundName = FundName(row.getValue<String>(\"fund_name\"))\n",
    "                )\n",
    "\n",
    "                \"by_account_label_with_transfer\" -> FundMatcherTO.ByAccountLabelWithTransfer(\n",
    "                    importAccountName = row.getValue<String>(\"import_account_name\"),\n",
    "                    importLabel = row.getValue<String>(\"import_label\"),\n",
    "                    initialFundName = FundName(row.getValue<String>(\"initial_fund_name\")),\n",
    "                    fundName = FundName(row.getValue<String>(\"fund_name\"))\n",
    "                )\n",
    "\n",
    "                else -> error(\"fund matcher type not recognized ${row.getValue<String>(\"type\")}\")\n",
    "            }\n",
    "        }\n",
    "}\n",
    "fundMatchers.map { it.toString() }.joinToString(separator = \"\\n\")"
   ],
   "outputs": [
    {
     "data": {
      "text/plain": [
       "ByAccountLabelWithTransfer(importAccountName=ING Economy old, importLabel=Invest Profit Dist, initialFundName=Savings, fundName=Expenses)\n",
       "ByAccountLabelWithTransfer(importAccountName=ING old, importLabel=Work Income, initialFundName=Work Income, fundName=Expenses)\n",
       "ByAccountLabelWithTransfer(importAccountName=Food Coupons, importLabel=Work Income, initialFundName=Work Income, fundName=Expenses)\n",
       "ByAccountLabelWithTransfer(importAccountName=BT RON, importLabel=Work Income, initialFundName=Work Income, fundName=Expenses)\n",
       "ByAccountLabelWithTransfer(importAccountName=BT Economy RON, importLabel=Invest Profit Dist, initialFundName=Savings, fundName=Expenses)\n",
       "ByLabelWithTransfer(importLabel=Gift Income, initialFundName=Gifts, fundName=Expenses)\n",
       "ByLabel(importLabel=Basic - Food, fundName=Expenses)\n",
       "ByLabel(importLabel=C&T - Gas & Parking, fundName=Expenses)\n",
       "ByLabel(importLabel=Development - Education, fundName=Expenses)\n",
       "ByLabel(importLabel=F&V - Fun, fundName=Expenses)\n",
       "ByLabel(importLabel=S&S - Objects, fundName=Expenses)\n",
       "ByLabel(importLabel=Home - House, fundName=Expenses)\n",
       "ByLabel(importLabel=Gifts, fundName=Expenses)\n",
       "ByAccount(importAccountName=ING old, fundName=Expenses)\n",
       "ByAccount(importAccountName=ING Economy old, fundName=Expenses)\n",
       "ByAccount(importAccountName=Cash RON, fundName=Expenses)\n",
       "ByAccount(importAccountName=Euro, fundName=Expenses)\n",
       "ByAccount(importAccountName=Other, fundName=Expenses)\n",
       "ByAccount(importAccountName=Revolut - Manual, fundName=Expenses)\n",
       "ByAccount(importAccountName=Food Coupons, fundName=Expenses)\n",
       "ByAccount(importAccountName=BT RON, fundName=Expenses)\n",
       "ByAccount(importAccountName=BT Economy RON, fundName=Expenses)"
      ]
     },
     "execution_count": 6,
     "metadata": {},
     "output_type": "execute_result"
    }
   ],
   "execution_count": 6
  },
  {
   "metadata": {
    "ExecuteTime": {
     "end_time": "2025-02-07T05:14:57.934647Z",
     "start_time": "2025-02-07T05:14:57.835717Z"
    }
   },
   "cell_type": "code",
   "source": [
    "val exchangeMatchers = runBlocking {\n",
    "    DataFrame.readCSV(EXCHANGE_MATCHERS_CSV_FILE, delimiter = ';')\n",
    "        .map { row ->\n",
    "            when (row.getValue<String>(\"type\")) {\n",
    "                \"by_label\" -> ExchangeMatcherTO.ByLabel(\n",
    "                    label = row.getValue<String>(\"label\"),\n",
    "                )\n",
    "\n",
    "                else -> error(\"exchange matcher type not recognized ${row.getValue<String>(\"type\")}\")\n",
    "            }\n",
    "        }\n",
    "}\n",
    "exchangeMatchers.map { it.toString() }.joinToString(separator = \"\\n\")"
   ],
   "outputs": [
    {
     "data": {
      "text/plain": [
       "ByLabel(label=Exchange)"
      ]
     },
     "execution_count": 7,
     "metadata": {},
     "output_type": "execute_result"
    }
   ],
   "execution_count": 7
  },
  {
   "metadata": {
    "ExecuteTime": {
     "end_time": "2025-02-07T05:14:58.051140Z",
     "start_time": "2025-02-07T05:14:57.941242Z"
    }
   },
   "cell_type": "code",
   "source": [
    "val labelMatchers = runBlocking {\n",
    "    DataFrame.readCSV(LABEL_MATCHERS_CSV_FILE, delimiter = ';')\n",
    "        .map { row ->\n",
    "            LabelMatcherTO(row.getValue<String>(\"import_label\"), Label(row.getValue<String>(\"label\")))\n",
    "        }\n",
    "}\n",
    "labelMatchers.map { it.toString() }.joinToString(separator = \"\\n\")"
   ],
   "outputs": [
    {
     "data": {
      "text/plain": [
       "LabelMatcherTO(importLabel=Basic - Food, label=basic)\n",
       "LabelMatcherTO(importLabel=Home - House, label=home)\n",
       "LabelMatcherTO(importLabel=C&T - Gas & Parking, label=transport)\n",
       "LabelMatcherTO(importLabel=S&S - Objects, label=shopping_services)\n",
       "LabelMatcherTO(importLabel=F&V - Fun, label=fun)\n",
       "LabelMatcherTO(importLabel=Gifts, label=gifts)\n",
       "LabelMatcherTO(importLabel=Development - Education, label=development)\n",
       "LabelMatcherTO(importLabel=Work Income, label=income)\n",
       "LabelMatcherTO(importLabel=Invest Profit Dist, label=profit_distributed)\n",
       "LabelMatcherTO(importLabel=Exchange, label=exchange)\n",
       "LabelMatcherTO(importLabel=Gift Income, label=gift_income)"
      ]
     },
     "execution_count": 8,
     "metadata": {},
     "output_type": "execute_result"
    }
   ],
   "execution_count": 8
  },
  {
   "metadata": {},
   "cell_type": "markdown",
   "source": ""
  },
  {
   "metadata": {
    "ExecuteTime": {
     "end_time": "2025-02-07T05:29:32.763370Z",
     "start_time": "2025-02-07T05:29:20.575158Z"
    }
   },
   "cell_type": "code",
   "source": [
    "import kotlinx.coroutines.delay\n",
    "import kotlinx.coroutines.runBlocking\n",
    "import kotlinx.datetime.Clock\n",
    "import ro.jf.funds.importer.api.model.*\n",
    "import java.io.File\n",
    "import java.util.*\n",
    "import kotlin.time.Duration\n",
    "\n",
    "val csvFiles = File(\"../../data/wallet/2019\")\n",
    "    .listFiles()?.toList() ?: error(\"no files found\")\n",
    "val importConfiguration = ImportConfigurationTO(\n",
    "    fileType = ImportFileTypeTO.WALLET_CSV,\n",
    "    accountMatchers = accountMatchers,\n",
    "    fundMatchers = fundMatchers,\n",
    "    exchangeMatchers = exchangeMatchers,\n",
    "    labelMatchers = labelMatchers\n",
    ")\n",
    "runBlocking {\n",
    "    var importTask = importSdk.import(user.id, importConfiguration, csvFiles)\n",
    "    val now: Instant = Clock.System.now()\n",
    "    val timeout = 60.seconds\n",
    "    while (importTask.status == ImportTaskTO.Status.IN_PROGRESS && Clock.System.now() - now < timeout) {\n",
    "        delay(500)\n",
    "        importTask = importSdk.getImportTask(user.id, importTask.taskId)\n",
    "    }\n",
    "    importTask\n",
    "}\n"
   ],
   "outputs": [
    {
     "data": {
      "text/plain": [
       "ImportTaskTO(taskId=e8d5703d-51db-438c-8c32-3f316a11109a, status=COMPLETED, reason=null)"
      ]
     },
     "execution_count": 14,
     "metadata": {},
     "output_type": "execute_result"
    }
   ],
   "execution_count": 14
  }
 ],
 "metadata": {
  "kernelspec": {
   "display_name": "Kotlin",
   "language": "kotlin",
   "name": "kotlin"
  },
  "language_info": {
   "name": "kotlin",
   "version": "1.9.23",
   "mimetype": "text/x-kotlin",
   "file_extension": ".kt",
   "pygments_lexer": "kotlin",
   "codemirror_mode": "text/x-kotlin",
   "nbconvert_exporter": ""
  },
  "ktnbPluginMetadata": {
   "projectDependencies": [
    "funds.commons-api"
   ]
  }
 },
 "nbformat": 4,
 "nbformat_minor": 0
}
