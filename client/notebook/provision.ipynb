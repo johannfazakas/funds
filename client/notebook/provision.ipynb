{
 "cells": [
  {
   "metadata": {
    "collapsed": true,
    "ExecuteTime": {
     "end_time": "2024-10-09T05:29:49.444879Z",
     "start_time": "2024-10-09T05:29:43.595223Z"
    }
   },
   "cell_type": "code",
   "source": [
    "@file:DependsOn(\"io.ktor:ktor-client-core:2.0.0\")\n",
    "@file:DependsOn(\"io.ktor:ktor-client-cio:2.0.0\")\n",
    "@file:DependsOn(\"io.ktor:ktor-client-content-negotiation:2.0.0\")\n",
    "@file:DependsOn(\"io.ktor:ktor-serialization-kotlinx-json:2.0.0\")\n",
    "@file:DependsOn(\"ro.jf.funds:import-sdk:1.0.0\")\n",
    "@file:DependsOn(\"ro.jf.funds:fund-sdk:1.0.0\")\n",
    "@file:DependsOn(\"ro.jf.funds:account-sdk:1.0.0\")\n",
    "%use dataframe\n",
    "\n",
    "import ro.jf.bk.account.sdk.AccountSdk\n",
    "import ro.jf.bk.fund.sdk.FundSdk\n",
    "import ro.jf.funds.importer.sdk.ImportSdk\n",
    "import java.util.UUID.randomUUID\n",
    "\n",
    "val ACCOUNTS_CSV_FILE = \"../../data/provision/accounts.csv\"\n",
    "val FUNDS_CSV_FILE = \"../../data/provision/funds.csv\"\n",
    "\n",
    "val userId = randomUUID()\n",
    "\n",
    "val accountSdk = AccountSdk()\n",
    "val fundSdk = FundSdk()\n",
    "val importSdk = ImportSdk()"
   ],
   "outputs": [],
   "execution_count": 1
  },
  {
   "metadata": {
    "ExecuteTime": {
     "end_time": "2024-10-09T05:29:57.641115Z",
     "start_time": "2024-10-09T05:29:56.999425Z"
    }
   },
   "cell_type": "code",
   "source": [
    "import ro.jf.bk.account.api.model.CreateCurrencyAccountTO\n",
    "import ro.jf.bk.fund.api.model.CreateFundTO\n",
    "\n",
    "val createAccountRequests = DataFrame.readCSV(ACCOUNTS_CSV_FILE, delimiter = ';')\n",
    "    .map { row -> CreateCurrencyAccountTO(row.getValue<String>(\"account\"), row.getValue<String>(\"currency\")) }\n",
    "createAccountRequests"
   ],
   "outputs": [
    {
     "data": {
      "text/plain": [
       "[CreateCurrencyAccountTO(name=Cash RON, currency=Cash RON), CreateCurrencyAccountTO(name=ING RON, currency=RON), CreateCurrencyAccountTO(name=ING Economy, currency=RON), CreateCurrencyAccountTO(name=Food Coupons, currency=RON)]"
      ]
     },
     "execution_count": 2,
     "metadata": {},
     "output_type": "execute_result"
    }
   ],
   "execution_count": 2
  },
  {
   "metadata": {
    "ExecuteTime": {
     "end_time": "2024-10-09T05:29:59.644059Z",
     "start_time": "2024-10-09T05:29:59.457777Z"
    }
   },
   "cell_type": "code",
   "source": [
    "val createFundRequests = DataFrame.readCSV(FUNDS_CSV_FILE, delimiter = ';')\n",
    "    .map { row -> CreateFundTO(row.getValue<String>(\"fund\"), emptyList()) }\n",
    "createFundRequests"
   ],
   "outputs": [
    {
     "data": {
      "text/plain": [
       "[CreateFundTO(name=Expenses, accounts=[]), CreateFundTO(name=Programming, accounts=[]), CreateFundTO(name=Savings, accounts=[])]"
      ]
     },
     "execution_count": 3,
     "metadata": {},
     "output_type": "execute_result"
    }
   ],
   "execution_count": 3
  },
  {
   "metadata": {
    "ExecuteTime": {
     "end_time": "2024-10-09T05:30:06.436770Z",
     "start_time": "2024-10-09T05:30:03.947718Z"
    }
   },
   "cell_type": "code",
   "source": [
    "import ro.jf.bk.account.api.model.AccountTO\n",
    "import kotlinx.coroutines.runBlocking\n",
    "\n",
    "val accounts = runBlocking {\n",
    "    val existingAccounts = accountSdk.listAccounts(userId)\n",
    "    val existingAccountNames = existingAccounts.map { it.name }.toSet()\n",
    "    val newAccounts = createAccountRequests\n",
    "        .filter { it.name !in existingAccountNames }\n",
    "        .map { accountSdk.createAccount(userId, it) }\n",
    "    existingAccounts + newAccounts\n",
    "}\n",
    "accounts"
   ],
   "outputs": [
    {
     "data": {
      "text/plain": [
       "[Currency(id=76607c62-1b80-4bdd-b4a9-8e4807471246, name=Cash RON, currency=Cash RON), Currency(id=1d17b1ad-ee1d-4560-80f8-1e093f0d8c26, name=ING RON, currency=RON), Currency(id=02d2e060-58f1-4921-bd88-b021aa88a655, name=ING Economy, currency=RON), Currency(id=cac11d87-9019-44dc-aea8-9976c41a7a07, name=Food Coupons, currency=RON)]"
      ]
     },
     "execution_count": 4,
     "metadata": {},
     "output_type": "execute_result"
    }
   ],
   "execution_count": 4
  },
  {
   "metadata": {
    "ExecuteTime": {
     "end_time": "2024-10-09T05:30:12.153025Z",
     "start_time": "2024-10-09T05:30:10.169068Z"
    }
   },
   "cell_type": "code",
   "source": [
    "val funds = runBlocking {\n",
    "    // TODO(Johann) fix npe on get existing funds without accounts\n",
    "    val existingFunds = fundSdk.listFunds(userId)\n",
    "    val existingFundNames = existingFunds.map { it.name }.toSet()\n",
    "    val newFunds = createFundRequests\n",
    "        .filter { it.name !in existingFundNames }\n",
    "        .map { fundSdk.createFund(userId, it) }\n",
    "    existingFunds + newFunds\n",
    "}\n",
    "funds"
   ],
   "outputs": [
    {
     "data": {
      "text/plain": [
       "[FundTO(id=59ced464-7d5b-4717-b0bb-452e26cc4fa9, name=Expenses, accounts=[]), FundTO(id=e5af829b-7e3e-48f4-af49-45e38faaf9d1, name=Programming, accounts=[]), FundTO(id=cc0eddad-4618-424f-8cfb-ce3034dbb12b, name=Savings, accounts=[])]"
      ]
     },
     "execution_count": 5,
     "metadata": {},
     "output_type": "execute_result"
    }
   ],
   "execution_count": 5
  },
  {
   "metadata": {
    "ExecuteTime": {
     "end_time": "2024-10-09T05:53:23.039371Z",
     "start_time": "2024-10-09T05:53:13.295280Z"
    }
   },
   "cell_type": "code",
   "source": [
    "import kotlinx.coroutines.runBlocking\n",
    "import ro.jf.funds.importer.api.model.*\n",
    "import java.io.File\n",
    "import java.util.*\n",
    "\n",
    "val csvFile = File(\"../../data/wallet/2019/wallet_export_2019_01.csv\")\n",
    "val importConfiguration = ImportConfigurationTO(\n",
    "    fileType = ImportFileTypeTO.WALLET_CSV,\n",
    "    // TODO(Johann) could also be moved to csv file\n",
    "    accountMatchers = listOf(\n",
    "        AccountMatcherTO(\"ING old\", \"ING RON\"),\n",
    "        AccountMatcherTO(\"ING Economy old\", \"ING Economy\"),\n",
    "        AccountMatcherTO(\"Cash RON\", \"Cash RON\"),\n",
    "        AccountMatcherTO(\"Food Coupons\", \"Food Coupons\")\n",
    "    ),\n",
    "    fundMatchers = listOf(\n",
    "        FundMatcherTO.ByLabel(\"Basic - Food\", \"Expenses\"),\n",
    "        FundMatcherTO.ByLabel(\"C&T - Gas & Parking\", \"Expenses\"),\n",
    "        FundMatcherTO.ByLabel(\"Development - Education\", \"Expenses\"),\n",
    "        FundMatcherTO.ByLabel(\"F&V - Fun\", \"Expenses\"),\n",
    "        FundMatcherTO.ByLabel(\"S&S - Objects\", \"Expenses\"),\n",
    "        FundMatcherTO.ByLabel(\"Home - House\", \"Expenses\"),\n",
    "        FundMatcherTO.ByLabel(\"Gifts\", \"Expenses\"),\n",
    "        // TODO(Johann) in 2019_01 there's a record with wrong label. destributed vs accumulated\n",
    "        FundMatcherTO.ByLabelAndAccountWithImplicitTransfer(\"ING Economy Old\", \"Invest Profit Acc\", \"Savings\", \"Expenses\"),\n",
    "        FundMatcherTO.ByLabelAndAccountWithImplicitTransfer(\"Food Coupons\", \"Work Income\", \"Programming\", \"Expenses\"),\n",
    "    )\n",
    ")\n",
    "// TODO(Johann) fix npe on import\n",
    "val response = runBlocking { importSdk.import(userId, csvFile, importConfiguration) }\n",
    "response"
   ],
   "outputs": [
    {
     "data": {
      "text/plain": [
       "ImportResponse(response=Imported in service)"
      ]
     },
     "execution_count": 12,
     "metadata": {},
     "output_type": "execute_result"
    }
   ],
   "execution_count": 12
  },
  {
   "metadata": {},
   "cell_type": "markdown",
   "source": ""
  }
 ],
 "metadata": {
  "kernelspec": {
   "display_name": "Kotlin",
   "language": "kotlin",
   "name": "kotlin"
  },
  "language_info": {
   "name": "kotlin",
   "version": "1.9.23",
   "mimetype": "text/x-kotlin",
   "file_extension": ".kt",
   "pygments_lexer": "kotlin",
   "codemirror_mode": "text/x-kotlin",
   "nbconvert_exporter": ""
  }
 },
 "nbformat": 4,
 "nbformat_minor": 0
}
