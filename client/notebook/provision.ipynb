{
 "cells": [
  {
   "metadata": {
    "ExecuteTime": {
     "end_time": "2025-07-03T06:10:22.597554Z",
     "start_time": "2025-07-03T06:10:17.518757Z"
    }
   },
   "cell_type": "code",
   "source": [
    "@file:DependsOn(\"ro.jf.funds:funds-notebook-client:1.0.0\")\n",
    "%use dataframe\n",
    "\n",
    "import ro.jf.funds.client.notebook.*\n",
    "\n",
    "val username = \"Johann-31.4\"\n",
    "\n",
    "val client = FundsClient()\n"
   ],
   "outputs": [],
   "execution_count": 15
  },
  {
   "metadata": {
    "ExecuteTime": {
     "end_time": "2025-07-03T06:10:32.246823Z",
     "start_time": "2025-07-03T06:10:22.629928Z"
    }
   },
   "cell_type": "code",
   "source": [
    "val user = client.ensureUserExists(username)\n",
    "user"
   ],
   "outputs": [
    {
     "data": {
      "text/plain": [
       "UserTO(id=6b8cb67f-d872-471c-9ed1-59092cc7e2d5, username=Johann-31.4)"
      ]
     },
     "execution_count": 16,
     "metadata": {},
     "output_type": "execute_result"
    }
   ],
   "execution_count": 16
  },
  {
   "metadata": {
    "collapsed": true,
    "ExecuteTime": {
     "end_time": "2025-07-03T06:10:32.359126Z",
     "start_time": "2025-07-03T06:10:32.266082Z"
    }
   },
   "cell_type": "code",
   "source": [
    "val ACCOUNTS_YAML_FILE = \"../../data/provision/accounts.yaml\"\n",
    "val FUNDS_YAML_FILE = \"../../data/provision/funds.yaml\"\n",
    "val INITIAL_BALANCE_YAML_FILE = \"../../data/provision/initial-balance.yaml\"\n",
    "val IMPORT_CONFIGURATION_JSON_FILE = \"../../data/provision/import-configuration.json\"\n",
    "val IMPORT_CONFIGURATION_YAML_FILE = \"../../data/provision/import-configuration.yaml\"\n"
   ],
   "outputs": [],
   "execution_count": 17
  },
  {
   "metadata": {
    "ExecuteTime": {
     "end_time": "2025-07-03T06:10:42.184614Z",
     "start_time": "2025-07-03T06:10:32.367349Z"
    }
   },
   "cell_type": "code",
   "source": [
    "import ro.jf.funds.account.api.model.*\n",
    "\n",
    "val accounts = client.provisionAccounts(user, client.fromYaml(File(ACCOUNTS_YAML_FILE)))\n",
    "accounts.map { it.toString() }.joinToString(separator = \"\\n\")"
   ],
   "outputs": [
    {
     "data": {
      "text/plain": [
       "AccountTO(id=29d87759-7b87-4608-92b8-a74f9db32fdc, name=Cash RON, unit=Currency(value=RON))\n",
       "AccountTO(id=0d6bcbba-d215-4396-89ba-c971d3368ba5, name=Cash EUR, unit=Currency(value=EUR))\n",
       "AccountTO(id=2f23f62a-cf6f-4390-8900-b0fceb1ec569, name=Cash EUR-RON, unit=Currency(value=RON))\n",
       "AccountTO(id=3e2bdde8-33f2-4bea-84b3-378e34aaa13d, name=ING RON, unit=Currency(value=RON))\n",
       "AccountTO(id=1a6c084b-74bf-4bf5-8de4-2b03ff1b4fd0, name=ING Economy, unit=Currency(value=RON))\n",
       "AccountTO(id=70294eec-50a2-4171-8de5-413ee788296e, name=Food Coupons, unit=Currency(value=RON))\n",
       "AccountTO(id=1e2487af-adce-4def-9caf-ab0c224b8d98, name=Revolut RON, unit=Currency(value=RON))\n",
       "AccountTO(id=23cc46e8-04e5-416e-8cc6-e32ceba6f198, name=Other, unit=Currency(value=RON))\n",
       "AccountTO(id=fd2e0d9b-b5e2-43a9-863d-1f248c8634e3, name=BT RON, unit=Currency(value=RON))\n",
       "AccountTO(id=2585b467-4dc2-4de9-a020-6c3390195eea, name=BT Economy RON, unit=Currency(value=RON))\n",
       "AccountTO(id=b6141ac3-36f2-4235-8eab-7343303a4afa, name=BT Philocode RON, unit=Currency(value=RON))"
      ]
     },
     "execution_count": 18,
     "metadata": {},
     "output_type": "execute_result"
    }
   ],
   "execution_count": 18
  },
  {
   "metadata": {
    "ExecuteTime": {
     "end_time": "2025-07-03T06:10:49.864695Z",
     "start_time": "2025-07-03T06:10:42.222353Z"
    }
   },
   "cell_type": "code",
   "source": [
    "import ro.jf.funds.fund.api.model.*\n",
    "\n",
    "val funds = client.provisionFunds(user, client.fromYaml(File(FUNDS_YAML_FILE)))\n",
    "funds.map { it.toString() }.joinToString(separator = \"\\n\")"
   ],
   "outputs": [
    {
     "data": {
      "text/plain": [
       "FundTO(id=351feefa-6556-4e7f-bdd5-1da60a0a9911, name=Expenses)\n",
       "FundTO(id=aaa40839-4765-473b-abe7-99e4f4932b69, name=Work Income)\n",
       "FundTO(id=d6387b55-c914-475b-bc32-481ea5e0b02e, name=Savings)\n",
       "FundTO(id=ccf9fda5-51da-4953-959e-2a81abf2da35, name=Gifts)"
      ]
     },
     "execution_count": 19,
     "metadata": {},
     "output_type": "execute_result"
    }
   ],
   "execution_count": 19
  },
  {
   "metadata": {
    "ExecuteTime": {
     "end_time": "2025-07-03T06:10:57.330Z",
     "start_time": "2025-07-03T06:10:49.934088Z"
    }
   },
   "cell_type": "code",
   "source": [
    "import ro.jf.funds.fund.api.model.*\n",
    "\n",
    "val initialBalancesTransactions = client.provisionInitialBalances(user, accounts, funds, client.fromYaml(File(INITIAL_BALANCE_YAML_FILE)))\n",
    "initialBalancesTransactions.map { it.toString() }.joinToString(separator = \"\\n\")"
   ],
   "outputs": [
    {
     "data": {
      "text/plain": [
       "FundTransactionTO(id=82b2ecd9-4359-4d49-a9d2-f0c9cb0fbd11, userId=6b8cb67f-d872-471c-9ed1-59092cc7e2d5, dateTime=2018-12-31T00:00, records=[FundRecordTO(id=be4a30ee-b7cf-4977-a38d-b761f008ade6, fundId=351feefa-6556-4e7f-bdd5-1da60a0a9911, accountId=29d87759-7b87-4608-92b8-a74f9db32fdc, amount=474.5, unit=Currency(value=RON), labels=[])])\n",
       "FundTransactionTO(id=b6eeb29a-c479-4cc5-a6a7-80e1a4809c71, userId=6b8cb67f-d872-471c-9ed1-59092cc7e2d5, dateTime=2018-12-31T00:00, records=[FundRecordTO(id=78508697-9e88-4a22-ab0d-73510a317858, fundId=351feefa-6556-4e7f-bdd5-1da60a0a9911, accountId=70294eec-50a2-4171-8de5-413ee788296e, amount=45.96, unit=Currency(value=RON), labels=[])])\n",
       "FundTransactionTO(id=507e77c1-b991-4a36-bcbf-90957e033d77, userId=6b8cb67f-d872-471c-9ed1-59092cc7e2d5, dateTime=2018-12-31T00:00, records=[FundRecordTO(id=b12f5567-458b-4095-afb7-b2be5bfd410e, fundId=351feefa-6556-4e7f-bdd5-1da60a0a9911, accountId=23cc46e8-04e5-416e-8cc6-e32ceba6f198, amount=3051.9, unit=Currency(value=RON), labels=[])])\n",
       "FundTransactionTO(id=3f51dbe4-f5de-42cb-949f-59ac7a06946b, userId=6b8cb67f-d872-471c-9ed1-59092cc7e2d5, dateTime=2018-12-31T00:00, records=[FundRecordTO(id=445d9b86-9817-44b7-aa87-5a7744d06775, fundId=351feefa-6556-4e7f-bdd5-1da60a0a9911, accountId=fd2e0d9b-b5e2-43a9-863d-1f248c8634e3, amount=2194.13, unit=Currency(value=RON), labels=[])])"
      ]
     },
     "execution_count": 20,
     "metadata": {},
     "output_type": "execute_result"
    }
   ],
   "execution_count": 20
  },
  {
   "metadata": {
    "ExecuteTime": {
     "end_time": "2025-07-03T06:11:44.697467Z",
     "start_time": "2025-07-03T06:10:57.371015Z"
    }
   },
   "cell_type": "code",
   "source": [
    "import ro.jf.funds.importer.api.model.*\n",
    "\n",
    "val csvFiles =\n",
    "    listOf(File(\"../../data/wallet/2019\"), File(\"../../data/wallet/2020\"), File(\"../../data/wallet/2021\"))\n",
    "        .flatMap { it.listFiles()?.toList() ?: error(\"no files found\") }\n",
    "val importTask = client.importTransactions(user, client.fromYaml(File(IMPORT_CONFIGURATION_YAML_FILE)), csvFiles)\n",
    "importTask"
   ],
   "outputs": [
    {
     "data": {
      "text/plain": [
       "ImportTaskTO(taskId=6cc02d77-60b9-404f-8921-621f65b12485, status=COMPLETED, reason=null)"
      ]
     },
     "execution_count": 21,
     "metadata": {},
     "output_type": "execute_result"
    }
   ],
   "execution_count": 21
  }
 ],
 "metadata": {
  "kernelspec": {
   "display_name": "Kotlin",
   "language": "kotlin",
   "name": "kotlin"
  },
  "language_info": {
   "name": "kotlin",
   "version": "1.9.23",
   "mimetype": "text/x-kotlin",
   "file_extension": ".kt",
   "pygments_lexer": "kotlin",
   "codemirror_mode": "text/x-kotlin",
   "nbconvert_exporter": ""
  },
  "ktnbPluginMetadata": {
   "projectDependencies": [
    "funds.commons-api"
   ]
  }
 },
 "nbformat": 4,
 "nbformat_minor": 0
}
