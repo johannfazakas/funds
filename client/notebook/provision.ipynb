{
 "cells": [
  {
   "metadata": {
    "ExecuteTime": {
     "end_time": "2025-08-12T13:03:01.992981Z",
     "start_time": "2025-08-12T13:02:57.155595Z"
    }
   },
   "cell_type": "code",
   "source": [
    "@file:DependsOn(\"ro.jf.funds:funds-notebook-client:1.0.0\")\n",
    "%use dataframe\n",
    "\n",
    "import ro.jf.funds.client.notebook.*\n",
    "\n",
    "val username = \"Johann-45.8\"\n",
    "\n",
    "val client = FundsClient()\n"
   ],
   "outputs": [],
   "execution_count": 1
  },
  {
   "metadata": {
    "ExecuteTime": {
     "end_time": "2025-08-12T13:03:02.463671Z",
     "start_time": "2025-08-12T13:03:02.024159Z"
    }
   },
   "cell_type": "code",
   "source": [
    "val user = client.ensureUserExists(username)\n",
    "user"
   ],
   "outputs": [
    {
     "data": {
      "text/plain": [
       "UserTO(id=b9214f3f-6e17-4d24-8782-585c3f2b18db, username=Johann-45.8)"
      ]
     },
     "execution_count": 2,
     "metadata": {},
     "output_type": "execute_result"
    }
   ],
   "execution_count": 2
  },
  {
   "metadata": {
    "collapsed": true,
    "ExecuteTime": {
     "end_time": "2025-08-12T13:03:02.634654Z",
     "start_time": "2025-08-12T13:03:02.571793Z"
    }
   },
   "cell_type": "code",
   "source": [
    "val ACCOUNTS_YAML_FILE = \"../../data/provision/accounts.yaml\"\n",
    "val FUNDS_YAML_FILE = \"../../data/provision/funds.yaml\"\n",
    "val INITIAL_BALANCE_YAML_FILE = \"../../data/provision/initial-balance.yaml\"\n",
    "val IMPORT_CONFIGURATION_JSON_FILE = \"../../data/provision/import-configuration.json\"\n",
    "val WALLET_IMPORT_CONFIGURATION_YAML_FILE = \"../../data/provision/wallet-import-configuration.yaml\"\n",
    "val INVESTMENT_IMPORT_CONFIGURATION_YAML_FILE = \"../../data/provision/investment-import-configuration.yaml\""
   ],
   "outputs": [],
   "execution_count": 3
  },
  {
   "metadata": {
    "ExecuteTime": {
     "end_time": "2025-08-12T13:03:05.376904Z",
     "start_time": "2025-08-12T13:03:02.727869Z"
    }
   },
   "cell_type": "code",
   "source": [
    "import ro.jf.funds.account.api.model.*\n",
    "\n",
    "val accounts = client.provisionAccounts(user, client.fromYaml(File(ACCOUNTS_YAML_FILE)))\n",
    "accounts.map { it.toString() }.joinToString(separator = \"\\n\")"
   ],
   "outputs": [
    {
     "data": {
      "text/plain": [
       "AccountTO(id=7778aa62-a60d-4fcd-abc0-d45d06b2e72c, name=Cash RON, unit=Currency(value=RON))\n",
       "AccountTO(id=736183fb-2fa9-4f88-90ce-f3b63266d879, name=Cash EUR, unit=Currency(value=EUR))\n",
       "AccountTO(id=b51d75bb-d49a-4d36-9e1b-2b62b8897d1a, name=Cash EUR-RON, unit=Currency(value=RON))\n",
       "AccountTO(id=e52d8d3d-2393-455a-9338-6c34c4c89e65, name=ING RON, unit=Currency(value=RON))\n",
       "AccountTO(id=841758cc-ebec-4cee-88a9-656eb07683f2, name=ING Economy, unit=Currency(value=RON))\n",
       "AccountTO(id=20e3f9f6-fe86-4588-bddd-46a682d67b2f, name=Food Coupons, unit=Currency(value=RON))\n",
       "AccountTO(id=f527a63c-4324-47fa-ad7e-3750b28bbbd3, name=Revolut RON, unit=Currency(value=RON))\n",
       "AccountTO(id=19b6dc95-1e2f-4483-a3b8-3bdd1ac50e73, name=Revolut EUR-RON, unit=Currency(value=RON))\n",
       "AccountTO(id=de93921f-071e-4f7a-af07-64e821c2d008, name=Other, unit=Currency(value=RON))\n",
       "AccountTO(id=52943899-b04b-4503-833d-3ff6e1ce78ce, name=BT RON, unit=Currency(value=RON))\n",
       "AccountTO(id=94f1afa4-09e3-4b45-9764-54d69b6571bf, name=BT EUR-RON, unit=Currency(value=RON))\n",
       "AccountTO(id=181af94e-974e-47ef-89f2-7d2839e9161e, name=BT Economy RON, unit=Currency(value=RON))\n",
       "AccountTO(id=e6b0f271-c4f4-4914-a51d-67ce157ea383, name=BT Depozit RON, unit=Currency(value=RON))\n",
       "AccountTO(id=25c4f753-3946-4807-b4b2-4da1f3144d58, name=BT Philocode RON, unit=Currency(value=RON))\n",
       "AccountTO(id=51609ce5-8c4d-4a1c-8255-85761f3b0317, name=XTB EUR, unit=Currency(value=EUR))\n",
       "AccountTO(id=1e49bac1-5894-462e-bded-1122e4a5481b, name=XTB EUNL, unit=Symbol(value=EUNL))\n",
       "AccountTO(id=930ac94c-8386-4cd1-bfdb-1a53ef3b0edb, name=XTB QDVE, unit=Symbol(value=QDVE))\n",
       "AccountTO(id=8b329b14-bcd0-4a9c-962d-ab40f159c852, name=XTB IMAE, unit=Symbol(value=IMAE))\n",
       "AccountTO(id=4546010b-6230-462e-a216-66560601895d, name=XTB IS3N, unit=Symbol(value=IS3N))\n",
       "AccountTO(id=9cbcb2b6-7c7e-46f1-bb60-852a81b5ebc6, name=XTB SXR8, unit=Symbol(value=SXR8))\n",
       "AccountTO(id=9289bf62-ebb6-46dc-b4f3-4aaa060cf783, name=XTB SUSW, unit=Symbol(value=SUSW))"
      ]
     },
     "execution_count": 4,
     "metadata": {},
     "output_type": "execute_result"
    }
   ],
   "execution_count": 4
  },
  {
   "metadata": {
    "ExecuteTime": {
     "end_time": "2025-08-12T13:03:07.113979Z",
     "start_time": "2025-08-12T13:03:05.685300Z"
    }
   },
   "cell_type": "code",
   "source": [
    "import ro.jf.funds.fund.api.model.*\n",
    "\n",
    "val funds = client.provisionFunds(user, client.fromYaml(File(FUNDS_YAML_FILE)))\n",
    "funds.map { it.toString() }.joinToString(separator = \"\\n\")"
   ],
   "outputs": [
    {
     "data": {
      "text/plain": [
       "FundTO(id=fb224ad3-92f8-4ba3-a9e0-faa4ebc98eb0, name=Expenses)\n",
       "FundTO(id=4955918e-751e-4eff-af47-2305cc7d1ba7, name=Work Income)\n",
       "FundTO(id=648850da-9121-40e2-a135-d5d29caf78f4, name=Other Income)\n",
       "FundTO(id=bfe286eb-1d46-42d3-8d27-869d854f3bae, name=Savings)\n",
       "FundTO(id=7a3b4520-ac19-43c9-8b4b-1cf736b8feda, name=Investments)"
      ]
     },
     "execution_count": 5,
     "metadata": {},
     "output_type": "execute_result"
    }
   ],
   "execution_count": 5
  },
  {
   "metadata": {
    "ExecuteTime": {
     "end_time": "2025-08-12T13:03:08.364609Z",
     "start_time": "2025-08-12T13:03:07.137190Z"
    }
   },
   "cell_type": "code",
   "source": [
    "import ro.jf.funds.fund.api.model.*\n",
    "\n",
    "val initialBalancesTransactions = client.provisionInitialBalances(user, accounts, funds, client.fromYaml(File(INITIAL_BALANCE_YAML_FILE)))\n",
    "initialBalancesTransactions.map { it.toString() }.joinToString(separator = \"\\n\")"
   ],
   "outputs": [
    {
     "data": {
      "text/plain": [
       "FundTransactionTO(id=a8412611-3d43-412c-a435-4515db34c8b4, userId=b9214f3f-6e17-4d24-8782-585c3f2b18db, dateTime=2018-12-31T00:00, records=[FundRecordTO(id=0912d79d-f864-495a-9dcf-5a81af3e776c, fundId=fb224ad3-92f8-4ba3-a9e0-faa4ebc98eb0, accountId=7778aa62-a60d-4fcd-abc0-d45d06b2e72c, amount=553.5, unit=Currency(value=RON), labels=[])])\n",
       "FundTransactionTO(id=131da881-5276-49e1-8283-df5cffb4bfbb, userId=b9214f3f-6e17-4d24-8782-585c3f2b18db, dateTime=2018-12-31T00:00, records=[FundRecordTO(id=b65d5f3d-2119-413b-adbc-74f7f4ee2a5c, fundId=fb224ad3-92f8-4ba3-a9e0-faa4ebc98eb0, accountId=20e3f9f6-fe86-4588-bddd-46a682d67b2f, amount=45.96, unit=Currency(value=RON), labels=[])])\n",
       "FundTransactionTO(id=505a6d78-df93-49f9-9f48-9a1f859dda7f, userId=b9214f3f-6e17-4d24-8782-585c3f2b18db, dateTime=2018-12-31T00:00, records=[FundRecordTO(id=d878a830-8cf8-4767-8761-e70181533ee3, fundId=fb224ad3-92f8-4ba3-a9e0-faa4ebc98eb0, accountId=de93921f-071e-4f7a-af07-64e821c2d008, amount=3051.9, unit=Currency(value=RON), labels=[])])\n",
       "FundTransactionTO(id=3dcb5c85-bf3d-4074-b67a-b7184f47634a, userId=b9214f3f-6e17-4d24-8782-585c3f2b18db, dateTime=2018-12-31T00:00, records=[FundRecordTO(id=dfbaa124-92e5-4f1a-a428-ce8f9678c604, fundId=fb224ad3-92f8-4ba3-a9e0-faa4ebc98eb0, accountId=52943899-b04b-4503-833d-3ff6e1ce78ce, amount=7708.46, unit=Currency(value=RON), labels=[])])\n",
       "FundTransactionTO(id=571821e1-5a26-4c72-93c9-852d4263cc70, userId=b9214f3f-6e17-4d24-8782-585c3f2b18db, dateTime=2018-12-31T00:00, records=[FundRecordTO(id=67fe1b49-9bfa-488c-9dd1-9242bbc6c683, fundId=fb224ad3-92f8-4ba3-a9e0-faa4ebc98eb0, accountId=e52d8d3d-2393-455a-9338-6c34c4c89e65, amount=-3037.15, unit=Currency(value=RON), labels=[])])"
      ]
     },
     "execution_count": 6,
     "metadata": {},
     "output_type": "execute_result"
    }
   ],
   "execution_count": 6
  },
  {
   "metadata": {
    "ExecuteTime": {
     "end_time": "2025-08-12T13:03:14.485216Z",
     "start_time": "2025-08-12T13:03:08.585414Z"
    }
   },
   "cell_type": "code",
   "source": [
    "\n",
    "val investmentCsvFiles =\n",
    "    listOf(File(\"../../data/investment/2022\"))\n",
    "        .flatMap { it.listFiles()?.toList() ?: error(\"no files found\") }\n",
    "val importTask = client.importTransactions(user, client.fromYaml(File(INVESTMENT_IMPORT_CONFIGURATION_YAML_FILE)), investmentCsvFiles)\n",
    "importTask"
   ],
   "outputs": [
    {
     "data": {
      "text/plain": [
       "ImportTaskTO(taskId=a164bb28-3a0d-4649-8cd1-a5cf83c90466, status=COMPLETED, reason=null)"
      ]
     },
     "execution_count": 7,
     "metadata": {},
     "output_type": "execute_result"
    }
   ],
   "execution_count": 7
  },
  {
   "metadata": {
    "ExecuteTime": {
     "end_time": "2025-08-12T13:03:26.181366Z",
     "start_time": "2025-08-12T13:03:14.507891Z"
    }
   },
   "cell_type": "code",
   "source": [
    "import ro.jf.funds.importer.api.model.*\n",
    "\n",
    "val csvFiles =\n",
    "    listOf(File(\"../../data/wallet/2019\"), File(\"../../data/wallet/2020\"), File(\"../../data/wallet/2021\"), File(\"../../data/wallet/2022\"))\n",
    "        .flatMap { it.listFiles()?.toList() ?: error(\"no files found\") }\n",
    "val importTask = client.importTransactions(user, client.fromYaml(File(WALLET_IMPORT_CONFIGURATION_YAML_FILE)), csvFiles)\n",
    "importTask"
   ],
   "outputs": [
    {
     "data": {
      "text/plain": [
       "ImportTaskTO(taskId=a5089ae8-b6ec-457e-af50-d1e91b3d20c2, status=COMPLETED, reason=null)"
      ]
     },
     "execution_count": 8,
     "metadata": {},
     "output_type": "execute_result"
    }
   ],
   "execution_count": 8
  }
 ],
 "metadata": {
  "kernelspec": {
   "display_name": "Kotlin",
   "language": "kotlin",
   "name": "kotlin"
  },
  "language_info": {
   "name": "kotlin",
   "version": "1.9.23",
   "mimetype": "text/x-kotlin",
   "file_extension": ".kt",
   "pygments_lexer": "kotlin",
   "codemirror_mode": "text/x-kotlin",
   "nbconvert_exporter": ""
  },
  "ktnbPluginMetadata": {
   "projectDependencies": [
    "funds.commons-api"
   ]
  }
 },
 "nbformat": 4,
 "nbformat_minor": 0
}
