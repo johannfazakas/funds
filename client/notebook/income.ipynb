{
 "cells": [
  {
   "metadata": {
    "ExecuteTime": {
     "end_time": "2025-10-30T07:45:40.147497Z",
     "start_time": "2025-10-30T07:45:31.482201Z"
    }
   },
   "cell_type": "code",
   "source": [
    "@file:DependsOn(\"ro.jf.funds:funds-notebook-client:1.0.0\")\n",
    "%use dataframe\n",
    "%use kandy\n",
    "\n",
    "import ro.jf.funds.client.notebook.*\n",
    "import ro.jf.funds.reporting.api.model.*\n",
    "import java.math.BigDecimal\n",
    "\n",
    "val username = \"Johann-61.0\"\n",
    "\n",
    "val monthlyReportFrom = YearMonthTO(2020, 1)\n",
    "val monthlyReportTo = YearMonthTO(2024, 1)\n",
    "val monthlyReportForecastUntil = YearMonthTO(2024, 7)\n",
    "\n",
    "val yearlyReportFrom = 2019\n",
    "val yearlyReportTo = 2023\n",
    "val yearlyReportForecastUntil = 2025\n",
    "\n",
    "val workFundName = \"Work Income\"\n",
    "val workReportViewName = \"Work income report\"\n",
    "val WORK_REPORT_DATA_CONFIGURATION_YAML_FILE = \"../../data/provision/work-report-data-configuration.yaml\"\n",
    "\n",
    "val savingsFundName = \"Savings\"\n",
    "val savingsReportViewName = \"Savings report\"\n",
    "val SAVINGS_REPORT_DATA_CONFIGURATION_YAML_FILE = \"../../data/provision/savings-report-data-configuration.yaml\"\n",
    "\n",
    "val otherIncomeFundName = \"Other Income\"\n",
    "val otherIncomeReportViewName = \"Other income report\"\n",
    "val OTHER_INCOME_REPORT_DATA_CONFIGURATION_YAML_FILE = \"../../data/provision/other-income-report-data-configuration.yaml\"\n",
    "\n",
    "val client = FundsClient()"
   ],
   "outputs": [],
   "execution_count": 1
  },
  {
   "metadata": {
    "ExecuteTime": {
     "end_time": "2025-10-30T07:45:40.621833Z",
     "start_time": "2025-10-30T07:45:40.200337Z"
    }
   },
   "cell_type": "code",
   "source": [
    "val user = client.ensureUserExists(username)\n",
    "user"
   ],
   "outputs": [
    {
     "data": {
      "text/plain": [
       "UserTO(id=d2684936-3aec-411c-a402-5f13a03dff05, username=Johann-61.0)"
      ]
     },
     "execution_count": 2,
     "metadata": {},
     "output_type": "execute_result"
    }
   ],
   "execution_count": 2
  },
  {
   "metadata": {
    "ExecuteTime": {
     "end_time": "2025-10-30T07:45:42.457376Z",
     "start_time": "2025-10-30T07:45:40.711372Z"
    }
   },
   "cell_type": "code",
   "source": [
    "val workReportView = client.createReportView(user, workReportViewName, workFundName, client.fromYaml(File(WORK_REPORT_DATA_CONFIGURATION_YAML_FILE), \"dataConfiguration\"))\n",
    "workReportView"
   ],
   "outputs": [
    {
     "data": {
      "text/plain": [
       "ReportViewTO(id=60dd62d0-d1f2-48ea-af55-8cf6517a96e2, name=Work income report, fundId=b39005d7-8ec4-4262-acd3-5e045a958580, dataConfiguration=ReportDataConfigurationTO(currency=Currency(value=RON), groups=[ReportGroupTO(name=income, filter=RecordFilterTO(labels=[income])), ReportGroupTO(name=taxes, filter=RecordFilterTO(labels=[work_taxes]))], reports=ReportsConfigurationTO(net=NetReportConfigurationTO(enabled=false, filter=null), valueReport=ValueReportConfigurationTO(enabled=true, filter=null), groupedNet=GenericReportConfigurationTO(enabled=true), groupedBudget=GroupedBudgetReportConfigurationTO(enabled=false, distributions=[]), performance=GenericReportConfigurationTO(enabled=false), instrumentPerformance=GenericReportConfigurationTO(enabled=false), interestRate=GenericReportConfigurationTO(enabled=false), instrumentInterestRate=GenericReportConfigurationTO(enabled=false)), forecast=ForecastConfigurationTO(inputBuckets=1)))"
      ]
     },
     "execution_count": 3,
     "metadata": {},
     "output_type": "execute_result"
    }
   ],
   "execution_count": 3
  },
  {
   "metadata": {
    "ExecuteTime": {
     "end_time": "2025-10-30T07:45:50.624879Z",
     "start_time": "2025-10-30T07:45:42.640254Z"
    }
   },
   "cell_type": "code",
   "source": [
    "data class GroupedNetToValueReport(\n",
    "    val groupedNet: ByGroupTO<GroupNetReportTO>,\n",
    "    val value: ValueReportTO\n",
    ")\n",
    "\n",
    "val monthlyWorkGroupedNetReportData = client.getReportGroupedNetData(user, workReportViewName, ReportDataIntervalTO.Monthly(monthlyReportFrom, monthlyReportTo, monthlyReportForecastUntil))\n",
    "val monthlyWorkValueReportData = client.getReportValueData(user, workReportViewName, ReportDataIntervalTO.Monthly(monthlyReportFrom, monthlyReportTo, monthlyReportForecastUntil))\n",
    "\n",
    "val monthlyWorkReportData: ReportDataTO<GroupedNetToValueReport> = monthlyWorkGroupedNetReportData.merge(monthlyWorkValueReportData, ::GroupedNetToValueReport)"
   ],
   "outputs": [],
   "execution_count": 4
  },
  {
   "metadata": {
    "jupyter": {
     "is_executing": true
    },
    "ExecuteTime": {
     "start_time": "2025-10-30T07:45:50.808387Z"
    }
   },
   "cell_type": "code",
   "source": [
    "val yearlyWorkGroupedNetReportData = client.getReportGroupedNetData(user, workReportViewName, ReportDataIntervalTO.Yearly(yearlyReportFrom, yearlyReportTo, yearlyReportForecastUntil))\n",
    "val yearlyWorkValueReportData = client.getReportValueData(user, workReportViewName, ReportDataIntervalTO.Yearly(yearlyReportFrom, yearlyReportTo, yearlyReportForecastUntil))\n",
    "\n",
    "val yearlyWorkReportData = yearlyWorkGroupedNetReportData.merge(yearlyWorkValueReportData, ::GroupedNetToValueReport)"
   ],
   "outputs": [],
   "execution_count": null
  },
  {
   "metadata": {},
   "cell_type": "code",
   "source": [
    "client.plotReportData(\n",
    "    title = \"Yearly work income (RON)\",\n",
    "    reportData = yearlyWorkReportData,\n",
    "    plottedLines = mapOf(\n",
    "        Color.GREEN to { item -> item.groupedNet[\"income\"].net },\n",
    "        Color.YELLOW to { item -> item.groupedNet.groups.sumOf { it.net } },\n",
    "        Color.RED to { item -> item.groupedNet[\"taxes\"].net }\n",
    "    ),\n",
    "    plottedAreas = mapOf(\n",
    "        Color.ORANGE to { item -> item.value.end }\n",
    "    )\n",
    ")\n"
   ],
   "outputs": [],
   "execution_count": null
  },
  {
   "metadata": {},
   "cell_type": "code",
   "source": [
    "client.plotReportData(\n",
    "    title = \"Monthly work income (RON)\",\n",
    "    reportData = monthlyWorkReportData,\n",
    "    plottedLines = mapOf(\n",
    "        Color.GREEN to { item -> item.groupedNet[\"income\"].net },\n",
    "        Color.YELLOW to { item -> item.groupedNet.groups.sumOf { it.net } },\n",
    "        Color.RED to { item -> item.groupedNet[\"taxes\"].net }\n",
    "    ),\n",
    "    plottedAreas = mapOf(\n",
    "        Color.ORANGE to { item -> item.value.end }\n",
    "    )\n",
    ")"
   ],
   "outputs": [],
   "execution_count": null
  },
  {
   "metadata": {},
   "cell_type": "code",
   "source": "val savingsReportView = client.createReportView(user, savingsReportViewName, savingsFundName, client.fromYaml(File(SAVINGS_REPORT_DATA_CONFIGURATION_YAML_FILE)))",
   "outputs": [],
   "execution_count": null
  },
  {
   "metadata": {},
   "cell_type": "code",
   "source": "val monthlySavingsGroupedNetReportData = client.getReportGroupedNetData(user, savingsReportViewName, ReportDataIntervalTO.Monthly(monthlyReportFrom, monthlyReportTo, monthlyReportForecastUntil))\n",
   "outputs": [],
   "execution_count": null
  },
  {
   "metadata": {},
   "cell_type": "code",
   "source": "val otherIncomeReportView = client.createReportView(user, otherIncomeReportViewName, otherIncomeFundName, client.fromYaml(File(OTHER_INCOME_REPORT_DATA_CONFIGURATION_YAML_FILE)))",
   "outputs": [],
   "execution_count": null
  },
  {
   "metadata": {},
   "cell_type": "code",
   "source": "val monthlyOtherIncomeGroupedNetReportData = client.getReportGroupedNetData(user, otherIncomeReportViewName, ReportDataIntervalTO.Monthly(monthlyReportFrom, monthlyReportTo, monthlyReportForecastUntil))",
   "outputs": [],
   "execution_count": null
  },
  {
   "metadata": {},
   "cell_type": "code",
   "source": [
    "client.plotReportData(\n",
    "    title = \"Monthly savings income (RON)\",\n",
    "    reportData = monthlySavingsGroupedNetReportData,\n",
    "    plottedLines = mapOf(\n",
    "        Color.YELLOW to { item -> item[\"profit\"].net },\n",
    "    ),\n",
    ")"
   ],
   "outputs": [],
   "execution_count": null
  },
  {
   "metadata": {},
   "cell_type": "code",
   "source": [
    "client.plotReportData(\n",
    "    title = \"Monthly other income (RON)\",\n",
    "    reportData = monthlyOtherIncomeGroupedNetReportData,\n",
    "    plottedLines = mapOf(\n",
    "        Color.YELLOW to { item -> item[\"income\"].net },\n",
    "    ),\n",
    ")"
   ],
   "outputs": [],
   "execution_count": null
  }
 ],
 "metadata": {
  "kernelspec": {
   "display_name": "Kotlin",
   "language": "kotlin",
   "name": "kotlin"
  },
  "language_info": {
   "name": "kotlin",
   "version": "1.9.23",
   "mimetype": "text/x-kotlin",
   "file_extension": ".kt",
   "pygments_lexer": "kotlin",
   "codemirror_mode": "text/x-kotlin",
   "nbconvert_exporter": ""
  }
 },
 "nbformat": 4,
 "nbformat_minor": 0
}
