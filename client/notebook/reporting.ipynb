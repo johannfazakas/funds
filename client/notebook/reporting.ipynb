{
 "cells": [
  {
   "metadata": {
    "collapsed": true,
    "ExecuteTime": {
     "end_time": "2025-01-24T04:58:55.103019Z",
     "start_time": "2025-01-24T04:58:50.509973Z"
    }
   },
   "cell_type": "code",
   "source": [
    "@file:DependsOn(\"ro.jf.funds:user-sdk:1.0.0\")\n",
    "@file:DependsOn(\"ro.jf.funds:reporting-sdk:1.0.0\")\n",
    "@file:DependsOn(\"ro.jf.funds:fund-sdk:1.0.0\")\n",
    "%use dataframe"
   ],
   "outputs": [],
   "execution_count": 1
  },
  {
   "metadata": {
    "ExecuteTime": {
     "end_time": "2025-01-24T04:58:56.151217Z",
     "start_time": "2025-01-24T04:58:55.126229Z"
    }
   },
   "cell_type": "code",
   "source": [
    "import ro.jf.funds.user.sdk.UserSdk\n",
    "import kotlinx.coroutines.runBlocking\n",
    "\n",
    "val userSdk = UserSdk()\n",
    "val username = \"Johann\"\n",
    "val user = runBlocking {\n",
    "    userSdk.findUserByUsername(username)\n",
    "        ?: userSdk.createUser(username)\n",
    "}\n",
    "\n",
    "user"
   ],
   "outputs": [
    {
     "data": {
      "text/plain": [
       "UserTO(id=cb8d7184-1c2a-49a5-9ccb-5374680df0da, username=Johann)"
      ]
     },
     "execution_count": 2,
     "metadata": {},
     "output_type": "execute_result"
    }
   ],
   "execution_count": 2
  },
  {
   "metadata": {
    "ExecuteTime": {
     "end_time": "2025-01-24T04:58:57.050564Z",
     "start_time": "2025-01-24T04:58:56.241232Z"
    }
   },
   "cell_type": "code",
   "source": [
    "import ro.jf.funds.fund.sdk.FundSdk\n",
    "import kotlinx.coroutines.runBlocking\n",
    "\n",
    "val fundSdk = FundSdk()\n",
    "val expenseFund = runBlocking {\n",
    "    fundSdk.listFunds(user.id).items.find { it.name.value == \"Expenses\" }\n",
    "}\n",
    "expenseFund"
   ],
   "outputs": [
    {
     "data": {
      "text/plain": [
       "FundTO(id=e42253af-2464-4911-af38-fe4d7a756163, name=Expenses)"
      ]
     },
     "execution_count": 3,
     "metadata": {},
     "output_type": "execute_result"
    }
   ],
   "execution_count": 3
  },
  {
   "metadata": {
    "ExecuteTime": {
     "end_time": "2025-01-24T04:59:00.010679Z",
     "start_time": "2025-01-24T04:58:57.061139Z"
    }
   },
   "cell_type": "code",
   "source": [
    "import ro.jf.funds.reporting.sdk.ReportingSdk\n",
    "import ro.jf.funds.reporting.api.model.*\n",
    "import kotlinx.coroutines.delay\n",
    "import java.time.Instant\n",
    "\n",
    "val reportingSdk = ReportingSdk()\n",
    "val reportView = runBlocking {\n",
    "    val reportViewName = \"Expense report\"\n",
    "    val existingReportView = reportingSdk.listReportViews(user.id).items.firstOrNull { it.name == reportViewName }\n",
    "    if (existingReportView != null) {\n",
    "        return@runBlocking existingReportView\n",
    "    }\n",
    "    val request = CreateReportViewTO(reportViewName, expenseFund.id, ReportViewType.EXPENSE)\n",
    "    var task: ReportViewTaskTO = reportingSdk.createReportView(user.id, request)\n",
    "    val timeout = Instant.now().plusSeconds(60)\n",
    "    while (task is ReportViewTaskTO.InProgress && Instant.now().isBefore(timeout)) {\n",
    "        delay(5000)\n",
    "        task = reportingSdk.getReportViewTask(user.id, task.taskId)\n",
    "    }\n",
    "    if (task is ReportViewTaskTO.Completed) {\n",
    "        task.report\n",
    "    } else {\n",
    "        throw IllegalStateException(\"Report view creation timed out on task $task\")\n",
    "    }\n",
    "}\n",
    "reportView"
   ],
   "outputs": [
    {
     "data": {
      "text/plain": [
       "ReportViewTO(id=934ebc6f-0bfb-4ec6-a8cc-ca04148bc8d4, name=Expense report, fundId=e42253af-2464-4911-af38-fe4d7a756163, type=EXPENSE)"
      ]
     },
     "execution_count": 4,
     "metadata": {},
     "output_type": "execute_result"
    }
   ],
   "execution_count": 4
  },
  {
   "metadata": {
    "ExecuteTime": {
     "end_time": "2025-01-24T05:12:45.313151Z",
     "start_time": "2025-01-24T05:12:43.207868Z"
    }
   },
   "cell_type": "code",
   "source": [
    "import ro.jf.funds.reporting.api.model.*\n",
    "\n",
    "val granularInterval = GranularDateInterval(\n",
    "    interval = DateInterval(\n",
    "        LocalDate.parse(\"2019-01-01\"),\n",
    "        LocalDate.parse(\"2019-06-30\")\n",
    "    ),\n",
    "    granularity = TimeGranularity.MONTHLY\n",
    ")\n",
    "val data = runBlocking {\n",
    "    reportingSdk.getReportViewData(user.id, reportView.id, granularInterval)\n",
    "}\n",
    "data"
   ],
   "outputs": [
    {
     "data": {
      "text/plain": [
       "ExpenseReportDataTO(viewId=934ebc6f-0bfb-4ec6-a8cc-ca04148bc8d4, granularInterval=GranularDateInterval(interval=DateInterval(from=2019-01-01, to=2019-06-30), granularity=MONTHLY), data=[DataItem(timeBucket=2019-01-01, amount=0.0), DataItem(timeBucket=2019-02-01, amount=0.0), DataItem(timeBucket=2019-03-01, amount=0.0), DataItem(timeBucket=2019-04-01, amount=0.0), DataItem(timeBucket=2019-05-01, amount=0.0), DataItem(timeBucket=2019-06-01, amount=0.0)])"
      ]
     },
     "execution_count": 9,
     "metadata": {},
     "output_type": "execute_result"
    }
   ],
   "execution_count": 9
  }
 ],
 "metadata": {
  "kernelspec": {
   "display_name": "Kotlin",
   "language": "kotlin",
   "name": "kotlin"
  },
  "language_info": {
   "name": "kotlin",
   "version": "1.9.23",
   "mimetype": "text/x-kotlin",
   "file_extension": ".kt",
   "pygments_lexer": "kotlin",
   "codemirror_mode": "text/x-kotlin",
   "nbconvert_exporter": ""
  }
 },
 "nbformat": 4,
 "nbformat_minor": 0
}
