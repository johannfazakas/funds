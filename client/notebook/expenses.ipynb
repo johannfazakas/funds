{
 "cells": [
  {
   "metadata": {
    "ExecuteTime": {
     "end_time": "2025-10-02T03:31:17.686841Z",
     "start_time": "2025-10-02T03:30:58.166035Z"
    }
   },
   "cell_type": "code",
   "source": [
    "@file:DependsOn(\"ro.jf.funds:funds-notebook-client:1.0.0\")\n",
    "%use dataframe\n",
    "%use kandy\n",
    "\n",
    "import ro.jf.funds.client.notebook.*\n",
    "import ro.jf.funds.reporting.api.model.*\n",
    "\n",
    "val username = \"Johann-56.0\"\n",
    "\n",
    "val monthlyReportFrom = YearMonthTO(2020, 1)\n",
    "val monthlyReportTo = YearMonthTO(2023, 7)\n",
    "val monthlyReportForecastUntil = YearMonthTO(2024, 1)\n",
    "\n",
    "val yearlyReportFrom = 2019\n",
    "val yearlyReportTo = 2022\n",
    "val yearlyReportForecastUntil = 2024\n",
    "\n",
    "val fundName = \"Expenses\"\n",
    "val reportViewName = \"Expenses report\"\n",
    "\n",
    "val REPORT_DATA_CONFIGURATION_YAML_FILE = \"../../data/provision/expenses-report-data-configuration.yaml\"\n",
    "\n",
    "val client = FundsClient()"
   ],
   "outputs": [],
   "execution_count": 1
  },
  {
   "metadata": {
    "ExecuteTime": {
     "end_time": "2025-10-02T03:31:18.947654Z",
     "start_time": "2025-10-02T03:31:17.731174Z"
    }
   },
   "cell_type": "code",
   "source": [
    "val user = client.ensureUserExists(username)\n",
    "user"
   ],
   "outputs": [
    {
     "data": {
      "text/plain": [
       "UserTO(id=4cec734d-e81c-49aa-ac3d-d0a7b988638a, username=Johann-56.0)"
      ]
     },
     "execution_count": 2,
     "metadata": {},
     "output_type": "execute_result"
    }
   ],
   "execution_count": 2
  },
  {
   "metadata": {
    "ExecuteTime": {
     "end_time": "2025-10-02T03:31:22.869152Z",
     "start_time": "2025-10-02T03:31:19.151430Z"
    }
   },
   "cell_type": "code",
   "source": "val reportView = client.createReportView(user, reportViewName, fundName, client.fromYaml(File(REPORT_DATA_CONFIGURATION_YAML_FILE)))",
   "outputs": [],
   "execution_count": 3
  },
  {
   "metadata": {
    "jupyter": {
     "is_executing": true
    },
    "ExecuteTime": {
     "start_time": "2025-10-02T03:31:22.983939Z"
    }
   },
   "cell_type": "code",
   "source": "val monthlyGroupedBudgetData = client.getReportGroupedBudgetData(user, reportViewName, ReportDataIntervalTO.Monthly(monthlyReportFrom, monthlyReportTo, monthlyReportForecastUntil))",
   "outputs": [],
   "execution_count": null
  },
  {
   "metadata": {},
   "cell_type": "code",
   "source": "val yearlyGroupedBudgetData = client.getReportGroupedBudgetData(user, reportViewName, ReportDataIntervalTO.Yearly(yearlyReportFrom, yearlyReportTo, yearlyReportForecastUntil))",
   "outputs": [],
   "execution_count": null
  },
  {
   "metadata": {},
   "cell_type": "code",
   "source": [
    "client.plotReportData(\n",
    "    title = \"Yearly total expenses (RON)\",\n",
    "    reportData = yearlyGroupedBudgetData,\n",
    "    plottedLines = mapOf(\n",
    "        Color.RED to { it.groups.sumOf { it.spent } },\n",
    "        Color.GREEN to { it.groups.sumOf { it.allocated } },\n",
    "    ),\n",
    "    plottedAreas = mapOf(\n",
    "        Color.ORANGE to { it.groups.sumOf { it.left } },\n",
    "    )\n",
    ")"
   ],
   "outputs": [],
   "execution_count": null
  },
  {
   "metadata": {},
   "cell_type": "code",
   "source": [
    "client.plotReportData(\n",
    "    title = \"Monthly total expenses (RON)\",\n",
    "    reportData = monthlyGroupedBudgetData,\n",
    "    plottedLines = mapOf(\n",
    "        Color.RED to { it.groups.sumOf { it.spent } },\n",
    "        Color.GREEN to { it.groups.sumOf { it.allocated } },\n",
    "    ),\n",
    "    plottedAreas = mapOf(\n",
    "        Color.ORANGE to { it.groups.sumOf { it.left } },\n",
    "    )\n",
    ")"
   ],
   "outputs": [],
   "execution_count": null
  },
  {
   "metadata": {},
   "cell_type": "code",
   "source": [
    "fun plotMonthlyGroupData(title: String, group: String) =\n",
    "    client.plotReportData(\n",
    "        title = title,\n",
    "        reportData = monthlyGroupedBudgetData,\n",
    "        plottedLines = mapOf(\n",
    "            Color.RED to { it[group].spent },\n",
    "            Color.GREEN to { it[group].allocated },\n",
    "        ),\n",
    "        plottedAreas = mapOf(\n",
    "            Color.ORANGE to { it[group].left },\n",
    "        )\n",
    "    )"
   ],
   "outputs": [],
   "execution_count": null
  },
  {
   "metadata": {},
   "cell_type": "code",
   "source": "plotMonthlyGroupData(\"Basic Expenses (RON)\", \"basic\")",
   "outputs": [],
   "execution_count": null
  },
  {
   "metadata": {},
   "cell_type": "code",
   "source": "plotMonthlyGroupData(\"Home Expenses\", \"home\")",
   "outputs": [],
   "execution_count": null
  },
  {
   "metadata": {},
   "cell_type": "code",
   "source": "plotMonthlyGroupData(\"Transport Expenses\", \"transport\")",
   "outputs": [],
   "execution_count": null
  },
  {
   "metadata": {},
   "cell_type": "code",
   "source": "plotMonthlyGroupData(\"Shopping & Services Expenses\", \"shopping_services\")",
   "outputs": [],
   "execution_count": null
  },
  {
   "metadata": {},
   "cell_type": "code",
   "source": "plotMonthlyGroupData(\"Fun Expenses\", \"fun\")",
   "outputs": [],
   "execution_count": null
  },
  {
   "metadata": {},
   "cell_type": "code",
   "source": "plotMonthlyGroupData(\"Gifts Expenses\", \"gifts\")",
   "outputs": [],
   "execution_count": null
  },
  {
   "metadata": {},
   "cell_type": "code",
   "source": "plotMonthlyGroupData(\"Development Expenses\", \"development\")",
   "outputs": [],
   "execution_count": null
  },
  {
   "metadata": {},
   "cell_type": "code",
   "source": "plotMonthlyGroupData(\"Investment Expenses\", \"investment\")",
   "outputs": [],
   "execution_count": null
  }
 ],
 "metadata": {
  "kernelspec": {
   "display_name": "Kotlin",
   "language": "kotlin",
   "name": "kotlin"
  },
  "language_info": {
   "name": "kotlin",
   "version": "1.9.23",
   "mimetype": "text/x-kotlin",
   "file_extension": ".kt",
   "pygments_lexer": "kotlin",
   "codemirror_mode": "text/x-kotlin",
   "nbconvert_exporter": ""
  }
 },
 "nbformat": 4,
 "nbformat_minor": 0
}
