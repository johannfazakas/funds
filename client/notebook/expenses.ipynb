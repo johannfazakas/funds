{
 "cells": [
  {
   "metadata": {
    "collapsed": true,
    "ExecuteTime": {
     "end_time": "2025-07-03T06:19:51.283819Z",
     "start_time": "2025-07-03T06:19:43.091022Z"
    }
   },
   "cell_type": "code",
   "source": [
    "@file:DependsOn(\"ro.jf.funds:funds-notebook-client:1.0.0\")\n",
    "%use dataframe\n",
    "%use kandy\n",
    "\n",
    "import ro.jf.funds.client.notebook.*\n",
    "import ro.jf.funds.reporting.api.model.*\n",
    "\n",
    "val username = \"Johann-31.4\"\n",
    "\n",
    "val monthlyReportFrom = YearMonthTO(2019, 1)\n",
    "val monthlyReportTo = YearMonthTO(2021, 7)\n",
    "val monthlyReportForecastUntil = YearMonthTO(2022, 1)\n",
    "\n",
    "val yearlyReportFrom = 2019\n",
    "val yearlyReportTo = 2020\n",
    "val yearlyReportForecastUntil = 2022\n",
    "\n",
    "val fundName = \"Expenses\"\n",
    "val reportViewName = \"Expenses report\"\n",
    "\n",
    "val REPORT_DATA_CONFIGURATION_YAML_FILE = \"../../data/provision/expenses-report-data-configuration.yaml\"\n",
    "\n",
    "val client = FundsClient()"
   ],
   "outputs": [],
   "execution_count": 1
  },
  {
   "metadata": {
    "ExecuteTime": {
     "end_time": "2025-07-03T06:19:52.418768Z",
     "start_time": "2025-07-03T06:19:51.306638Z"
    }
   },
   "cell_type": "code",
   "source": [
    "val user = client.ensureUserExists(username)\n",
    "user"
   ],
   "outputs": [
    {
     "data": {
      "text/plain": [
       "UserTO(id=6b8cb67f-d872-471c-9ed1-59092cc7e2d5, username=Johann-31.4)"
      ]
     },
     "execution_count": 2,
     "metadata": {},
     "output_type": "execute_result"
    }
   ],
   "execution_count": 2
  },
  {
   "metadata": {
    "ExecuteTime": {
     "end_time": "2025-07-03T06:19:54.041318Z",
     "start_time": "2025-07-03T06:19:52.431481Z"
    }
   },
   "cell_type": "code",
   "source": [
    "val reportView = client.createReportView(user, reportViewName, fundName, client.fromYaml(File(REPORT_DATA_CONFIGURATION_YAML_FILE)))\n",
    "reportView"
   ],
   "outputs": [
    {
     "data": {
      "text/plain": [
       "ReportViewTO(id=6afd6166-9e56-4509-a98e-c95ea7193d0c, name=Expenses report, fundId=351feefa-6556-4e7f-bdd5-1da60a0a9911, dataConfiguration=ReportDataConfigurationTO(currency=Currency(value=RON), groups=[ReportGroupTO(name=basic, filter=RecordFilterTO(labels=[basic])), ReportGroupTO(name=home, filter=RecordFilterTO(labels=[home])), ReportGroupTO(name=shopping_services, filter=RecordFilterTO(labels=[shopping_services])), ReportGroupTO(name=transport, filter=RecordFilterTO(labels=[transport])), ReportGroupTO(name=fun, filter=RecordFilterTO(labels=[fun])), ReportGroupTO(name=gifts, filter=RecordFilterTO(labels=[gifts])), ReportGroupTO(name=development, filter=RecordFilterTO(labels=[development])), ReportGroupTO(name=investment, filter=RecordFilterTO(labels=[investment]))], reports=ReportsConfigurationTO(net=NetReportConfigurationTO(enabled=false, filter=null), valueReport=ValueReportConfigurationTO(enabled=false, filter=null), groupedNet=GenericReportConfigurationTO(enabled=false), groupedBudget=GroupedBudgetReportConfigurationTO(enabled=true, distributions=[BudgetDistributionTO(default=true, from=null, groups=[GroupBudgetPercentageTO(group=basic, percentage=30), GroupBudgetPercentageTO(group=home, percentage=30), GroupBudgetPercentageTO(group=transport, percentage=5), GroupBudgetPercentageTO(group=shopping_services, percentage=5), GroupBudgetPercentageTO(group=fun, percentage=15), GroupBudgetPercentageTO(group=gifts, percentage=12), GroupBudgetPercentageTO(group=development, percentage=3), GroupBudgetPercentageTO(group=investment, percentage=0)]), BudgetDistributionTO(default=false, from=YearMonthTO(year=2019, month=4), groups=[GroupBudgetPercentageTO(group=basic, percentage=28), GroupBudgetPercentageTO(group=home, percentage=32), GroupBudgetPercentageTO(group=transport, percentage=7), GroupBudgetPercentageTO(group=shopping_services, percentage=6), GroupBudgetPercentageTO(group=fun, percentage=13), GroupBudgetPercentageTO(group=gifts, percentage=12), GroupBudgetPercentageTO(group=development, percentage=2), GroupBudgetPercentageTO(group=investment, percentage=0)]), BudgetDistributionTO(default=false, from=YearMonthTO(year=2019, month=7), groups=[GroupBudgetPercentageTO(group=basic, percentage=27), GroupBudgetPercentageTO(group=home, percentage=35), GroupBudgetPercentageTO(group=transport, percentage=8), GroupBudgetPercentageTO(group=shopping_services, percentage=7), GroupBudgetPercentageTO(group=fun, percentage=10), GroupBudgetPercentageTO(group=gifts, percentage=11), GroupBudgetPercentageTO(group=development, percentage=2), GroupBudgetPercentageTO(group=investment, percentage=0)]), BudgetDistributionTO(default=false, from=YearMonthTO(year=2019, month=10), groups=[GroupBudgetPercentageTO(group=basic, percentage=25), GroupBudgetPercentageTO(group=home, percentage=38), GroupBudgetPercentageTO(group=transport, percentage=10), GroupBudgetPercentageTO(group=shopping_services, percentage=7), GroupBudgetPercentageTO(group=fun, percentage=8), GroupBudgetPercentageTO(group=gifts, percentage=9), GroupBudgetPercentageTO(group=development, percentage=3), GroupBudgetPercentageTO(group=investment, percentage=0)]), BudgetDistributionTO(default=false, from=YearMonthTO(year=2020, month=1), groups=[GroupBudgetPercentageTO(group=basic, percentage=22), GroupBudgetPercentageTO(group=home, percentage=40), GroupBudgetPercentageTO(group=transport, percentage=11), GroupBudgetPercentageTO(group=shopping_services, percentage=6), GroupBudgetPercentageTO(group=fun, percentage=6), GroupBudgetPercentageTO(group=gifts, percentage=10), GroupBudgetPercentageTO(group=development, percentage=5), GroupBudgetPercentageTO(group=investment, percentage=0)]), BudgetDistributionTO(default=false, from=YearMonthTO(year=2020, month=4), groups=[GroupBudgetPercentageTO(group=basic, percentage=21), GroupBudgetPercentageTO(group=home, percentage=41), GroupBudgetPercentageTO(group=transport, percentage=12), GroupBudgetPercentageTO(group=shopping_services, percentage=6), GroupBudgetPercentageTO(group=fun, percentage=5), GroupBudgetPercentageTO(group=gifts, percentage=10), GroupBudgetPercentageTO(group=development, percentage=5), GroupBudgetPercentageTO(group=investment, percentage=0)]), BudgetDistributionTO(default=false, from=YearMonthTO(year=2020, month=7), groups=[GroupBudgetPercentageTO(group=basic, percentage=20), GroupBudgetPercentageTO(group=home, percentage=42), GroupBudgetPercentageTO(group=transport, percentage=13), GroupBudgetPercentageTO(group=shopping_services, percentage=5), GroupBudgetPercentageTO(group=fun, percentage=4), GroupBudgetPercentageTO(group=gifts, percentage=10), GroupBudgetPercentageTO(group=development, percentage=6), GroupBudgetPercentageTO(group=investment, percentage=0)]), BudgetDistributionTO(default=false, from=YearMonthTO(year=2020, month=10), groups=[GroupBudgetPercentageTO(group=basic, percentage=20), GroupBudgetPercentageTO(group=home, percentage=45), GroupBudgetPercentageTO(group=transport, percentage=14), GroupBudgetPercentageTO(group=shopping_services, percentage=4), GroupBudgetPercentageTO(group=fun, percentage=5), GroupBudgetPercentageTO(group=gifts, percentage=8), GroupBudgetPercentageTO(group=development, percentage=4), GroupBudgetPercentageTO(group=investment, percentage=0)]), BudgetDistributionTO(default=false, from=YearMonthTO(year=2021, month=1), groups=[GroupBudgetPercentageTO(group=basic, percentage=20), GroupBudgetPercentageTO(group=home, percentage=45), GroupBudgetPercentageTO(group=transport, percentage=15), GroupBudgetPercentageTO(group=shopping_services, percentage=5), GroupBudgetPercentageTO(group=fun, percentage=5), GroupBudgetPercentageTO(group=gifts, percentage=6), GroupBudgetPercentageTO(group=development, percentage=4), GroupBudgetPercentageTO(group=investment, percentage=0)]), BudgetDistributionTO(default=false, from=YearMonthTO(year=2021, month=4), groups=[GroupBudgetPercentageTO(group=basic, percentage=20), GroupBudgetPercentageTO(group=home, percentage=45), GroupBudgetPercentageTO(group=transport, percentage=18), GroupBudgetPercentageTO(group=shopping_services, percentage=5), GroupBudgetPercentageTO(group=fun, percentage=4), GroupBudgetPercentageTO(group=gifts, percentage=4), GroupBudgetPercentageTO(group=development, percentage=4), GroupBudgetPercentageTO(group=investment, percentage=0)])])), forecast=ForecastConfigurationTO(inputBuckets=1)))"
      ]
     },
     "execution_count": 3,
     "metadata": {},
     "output_type": "execute_result"
    }
   ],
   "execution_count": 3
  },
  {
   "metadata": {
    "ExecuteTime": {
     "end_time": "2025-07-03T06:20:16.738611Z",
     "start_time": "2025-07-03T06:19:54.677109Z"
    }
   },
   "cell_type": "code",
   "source": "val monthlyReportData = client.getMonthlyReportViewData(user, reportViewName, monthlyReportFrom, monthlyReportTo, monthlyReportForecastUntil)\n",
   "outputs": [],
   "execution_count": 4
  },
  {
   "metadata": {
    "ExecuteTime": {
     "end_time": "2025-07-03T06:20:28.537476Z",
     "start_time": "2025-07-03T06:20:16.757002Z"
    }
   },
   "cell_type": "code",
   "source": "val yearlyData = client.getYearlyReportViewData(user, reportViewName, yearlyReportFrom, yearlyReportTo, yearlyReportForecastUntil)\n",
   "outputs": [],
   "execution_count": 5
  },
  {
   "metadata": {
    "jupyter": {
     "is_executing": true
    },
    "ExecuteTime": {
     "start_time": "2025-07-03T06:20:28.565084Z"
    }
   },
   "cell_type": "code",
   "source": [
    "import kotlinx.datetime.DateTimeUnit\n",
    "import kotlinx.datetime.TimeZone\n",
    "import kotlinx.datetime.atStartOfDayIn\n",
    "import kotlinx.datetime.minus\n",
    "import org.jetbrains.kotlinx.kandy.ir.Plot\n",
    "import java.math.BigDecimal\n",
    "\n",
    "fun plotGroupData(\n",
    "    reportData: ReportDataTO,\n",
    "    plotTitle: String,\n",
    "    groupItemFilter: (ReportDataGroupedBudgetItemTO) -> Boolean,\n",
    "): Plot {\n",
    "    val dataFrame = dataFrameOf(\n",
    "        \"bucket\" to reportData.data.map<ReportDataItemTO, LocalDate> { it.timeBucket.from },\n",
    "        \"spent\" to reportData.data.map { bucket ->\n",
    "            bucket.groupedBudget!!.filter(groupItemFilter).map { it.spent!! }.reduce { acc, value -> acc + value }\n",
    "        },\n",
    "        \"allocated\" to reportData.data.map { bucket ->\n",
    "            bucket.groupedBudget!!.filter(groupItemFilter).map { it.allocated!! }.reduce { acc, value -> acc + value }\n",
    "        },\n",
    "        \"left\" to reportData.data.map { bucket ->\n",
    "            bucket.groupedBudget!!.filter(groupItemFilter).map { it.left!! }.reduce { acc, value -> acc + value }\n",
    "        },\n",
    "        \"net\" to reportData.data.map { bucket ->\n",
    "            bucket.groupedBudget!!.filter(groupItemFilter).map { it.allocated!! + it.spent!! }\n",
    "                .reduce { acc, value -> acc + value }\n",
    "        },\n",
    "    )\n",
    "    return dataFrame\n",
    "        .plot {\n",
    "            line {\n",
    "                val values =\n",
    "                    listOf(\"spent\", \"allocated\", \"left\").flatMap { dataFrame.get(it).values }.map { it as BigDecimal }\n",
    "                val forecastBorderMin = minOf(BigDecimal.ZERO, values.minOrNull() ?: BigDecimal.ZERO)\n",
    "                val forecastBorderMax = values.maxOrNull() ?: BigDecimal.ZERO\n",
    "                val forecastBorderX = when (reportData.interval.granularity) {\n",
    "                    TimeGranularityTO.YEARLY -> reportData.interval.toDate.minus(183, DateTimeUnit.DAY)\n",
    "                    TimeGranularityTO.MONTHLY -> reportData.interval.toDate.minus(15, DateTimeUnit.DAY)\n",
    "                    TimeGranularityTO.DAILY -> reportData.interval.toDate.minus(1, DateTimeUnit.DAY)\n",
    "                }\n",
    "\n",
    "                y(listOf(forecastBorderMin, forecastBorderMax))\n",
    "                x.constant(forecastBorderX.atStartOfDayIn(TimeZone.UTC).toEpochMilliseconds())\n",
    "            }\n",
    "            x(\"bucket\") {\n",
    "                val format = when (reportData.interval.granularity) {\n",
    "                    TimeGranularityTO.YEARLY -> \"%Y\"\n",
    "                    TimeGranularityTO.MONTHLY -> \"%b %Y\"\n",
    "                    TimeGranularityTO.DAILY -> \"%d %b %Y\"\n",
    "                }\n",
    "                axis.breaks(reportData.data.map {\n",
    "                    it.timeBucket.from.atStartOfDayIn(TimeZone.UTC).toEpochMilliseconds()\n",
    "                }, format)\n",
    "            }\n",
    "            line {\n",
    "                y.constant(0)\n",
    "            }\n",
    "            line {\n",
    "                y(\"spent\")\n",
    "                color = Color.RED\n",
    "            }\n",
    "            line {\n",
    "                y(\"allocated\")\n",
    "                color = Color.GREEN\n",
    "            }\n",
    "            area {\n",
    "                y(\"left\")\n",
    "                borderLine {\n",
    "                    color = Color.ORANGE\n",
    "                }\n",
    "            }\n",
    "            layout {\n",
    "                title = plotTitle\n",
    "                size = 2400 to 1200\n",
    "            }\n",
    "        }\n",
    "}\n",
    "\n",
    "fun plotGroup(reportData: ReportDataTO, title: String, group: String): Plot =\n",
    "    plotGroupData(reportData, title) { it.group == group }\n",
    "\n",
    "fun plotGroupsTotal(reportData: ReportDataTO, title: String): Plot =\n",
    "    plotGroupData(reportData, title) { true }\n",
    "\n"
   ],
   "outputs": [],
   "execution_count": null
  },
  {
   "metadata": {},
   "cell_type": "code",
   "source": "plotGroupsTotal(yearlyData, \"Yearly total expenses\")",
   "outputs": [],
   "execution_count": null
  },
  {
   "metadata": {},
   "cell_type": "code",
   "source": "plotGroupsTotal(monthlyReportData, \"Monthly total expenses\")",
   "outputs": [],
   "execution_count": null
  },
  {
   "metadata": {},
   "cell_type": "code",
   "source": "plotGroup(monthlyReportData, \"Basic Expenses\", \"basic\")",
   "outputs": [],
   "execution_count": null
  },
  {
   "metadata": {},
   "cell_type": "code",
   "source": "plotGroup(monthlyReportData, \"Home Expenses\", \"home\")",
   "outputs": [],
   "execution_count": null
  },
  {
   "metadata": {},
   "cell_type": "code",
   "source": "plotGroup(monthlyReportData, \"Transport Expenses\", \"transport\")",
   "outputs": [],
   "execution_count": null
  },
  {
   "metadata": {},
   "cell_type": "code",
   "source": "plotGroup(monthlyReportData, \"Shopping & Services Expenses\", \"shopping_services\")",
   "outputs": [],
   "execution_count": null
  },
  {
   "metadata": {},
   "cell_type": "code",
   "source": "plotGroup(monthlyReportData, \"Fun Expenses\", \"fun\")",
   "outputs": [],
   "execution_count": null
  },
  {
   "metadata": {},
   "cell_type": "code",
   "source": "plotGroup(monthlyReportData, \"Gifts Expenses\", \"gifts\")",
   "outputs": [],
   "execution_count": null
  },
  {
   "metadata": {},
   "cell_type": "code",
   "source": "plotGroup(monthlyReportData, \"Development Expenses\", \"development\")",
   "outputs": [],
   "execution_count": null
  },
  {
   "metadata": {},
   "cell_type": "code",
   "source": "plotGroup(monthlyReportData, \"Investment Expenses\", \"investment\")",
   "outputs": [],
   "execution_count": null
  }
 ],
 "metadata": {
  "kernelspec": {
   "display_name": "Kotlin",
   "language": "kotlin",
   "name": "kotlin"
  },
  "language_info": {
   "name": "kotlin",
   "version": "1.9.23",
   "mimetype": "text/x-kotlin",
   "file_extension": ".kt",
   "pygments_lexer": "kotlin",
   "codemirror_mode": "text/x-kotlin",
   "nbconvert_exporter": ""
  }
 },
 "nbformat": 4,
 "nbformat_minor": 0
}
