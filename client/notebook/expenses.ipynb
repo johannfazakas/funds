{
 "cells": [
  {
   "metadata": {
    "collapsed": true
   },
   "cell_type": "code",
   "source": [
    "@file:DependsOn(\"ro.jf.funds:funds-notebook-client:1.0.0\")\n",
    "%use dataframe\n",
    "%use kandy\n",
    "\n",
    "import ro.jf.funds.client.notebook.*\n",
    "import ro.jf.funds.reporting.api.model.*\n",
    "import kotlinx.coroutines.runBlocking\n",
    "\n",
    "val username = \"Johann-21.0\"\n",
    "val intervalStart = LocalDate.parse(\"2019-01-01\")\n",
    "val intervalEnd = LocalDate.parse(\"2020-09-30\")\n",
    "val granularity = TimeGranularity.MONTHLY\n",
    "val fundName = \"Expenses\"\n",
    "val reportViewName = \"Expenses report\"\n",
    "\n",
    "val REPORT_DATA_CONFIGURATION_YAML_FILE = \"../../data/provision/expenses-report-data-configuration.yaml\"\n",
    "\n",
    "val client = FundsClient()"
   ],
   "outputs": [],
   "execution_count": null
  },
  {
   "metadata": {},
   "cell_type": "code",
   "source": [
    "val user = runBlocking { client.ensureUserExists(username) }\n",
    "user"
   ],
   "outputs": [],
   "execution_count": null
  },
  {
   "metadata": {},
   "cell_type": "code",
   "source": [
    "val reportView = runBlocking {\n",
    "    client.createReportView(user, reportViewName, fundName, File(REPORT_DATA_CONFIGURATION_YAML_FILE))\n",
    "}\n",
    "reportView"
   ],
   "outputs": [],
   "execution_count": null
  },
  {
   "metadata": {},
   "cell_type": "code",
   "source": [
    "val reportData = runBlocking {\n",
    "    client.getReportViewData(user, reportViewName, intervalStart, intervalEnd, granularity)\n",
    "}\n",
    "reportData"
   ],
   "outputs": [],
   "execution_count": null
  },
  {
   "metadata": {},
   "cell_type": "code",
   "source": [
    "import org.jetbrains.kotlinx.kandy.ir.Plot\n",
    "\n",
    "fun plotGroupData(plotTitle: String, groupItemFilter: (ReportDataGroupItemTO) -> Boolean): Plot =\n",
    "    dataFrameOf(\n",
    "        \"month\" to reportData.data.map<ReportDataItemTO, LocalDate> { it.timeBucket.from },\n",
    "        \"spent\" to reportData.data.map { bucket -> bucket.groups!!.filter(groupItemFilter).map { it.net!!.negate() }.reduce { acc, value -> acc + value } },\n",
    "        \"allocated\" to reportData.data.map { bucket -> bucket.groups!!.filter(groupItemFilter).map { it.allocated!! }.reduce { acc, value -> acc + value } },\n",
    "        \"left\" to reportData.data.map { bucket -> bucket.groups!!.filter(groupItemFilter).map { it.left!! }.reduce { acc, value -> acc + value } },\n",
    "    )\n",
    "        .plot {\n",
    "            x(\"month\")\n",
    "            line {\n",
    "                y.constant(0)\n",
    "            }\n",
    "            line {\n",
    "                y(\"spent\")\n",
    "                color = Color.RED\n",
    "            }\n",
    "            line {\n",
    "                y(\"allocated\")\n",
    "                color = Color.GREEN\n",
    "            }\n",
    "            area {\n",
    "                y(\"left\")\n",
    "                borderLine {\n",
    "                    color = Color.YELLOW\n",
    "                }\n",
    "            }\n",
    "            layout {\n",
    "                title = plotTitle\n",
    "                size = 1200 to 600\n",
    "            }\n",
    "        }\n",
    "\n",
    "fun plotGroup(title: String, group: String): Plot =\n",
    "    plotGroupData(title) { it.group == group }\n",
    "\n",
    "fun plotGroupsTotal(): Plot =\n",
    "    plotGroupData(\"Total expenses\") { true }\n",
    "\n"
   ],
   "outputs": [],
   "execution_count": null
  },
  {
   "metadata": {},
   "cell_type": "code",
   "source": "plotGroupsTotal()",
   "outputs": [],
   "execution_count": null
  },
  {
   "metadata": {},
   "cell_type": "code",
   "source": "plotGroup(\"Basic Expenses\", \"basic\")",
   "outputs": [],
   "execution_count": null
  },
  {
   "metadata": {},
   "cell_type": "code",
   "source": "plotGroup(\"Home Expenses\", \"home\")",
   "outputs": [],
   "execution_count": null
  },
  {
   "metadata": {},
   "cell_type": "code",
   "source": "plotGroup(\"Transport Expenses\", \"transport\")",
   "outputs": [],
   "execution_count": null
  },
  {
   "metadata": {},
   "cell_type": "code",
   "source": "plotGroup(\"Shopping & Services Expenses\", \"shopping_services\")",
   "outputs": [],
   "execution_count": null
  },
  {
   "metadata": {},
   "cell_type": "code",
   "source": "plotGroup(\"Fun Expenses\", \"fun\")",
   "outputs": [],
   "execution_count": null
  },
  {
   "metadata": {},
   "cell_type": "code",
   "source": "plotGroup(\"Gifts Expenses\", \"gifts\")",
   "outputs": [],
   "execution_count": null
  },
  {
   "metadata": {},
   "cell_type": "code",
   "source": "plotGroup(\"Development Expenses\", \"development\")",
   "outputs": [],
   "execution_count": null
  },
  {
   "metadata": {},
   "cell_type": "code",
   "source": "plotGroup(\"Investment Expenses\", \"investment\")",
   "outputs": [],
   "execution_count": null
  }
 ],
 "metadata": {
  "kernelspec": {
   "display_name": "Kotlin",
   "language": "kotlin",
   "name": "kotlin"
  },
  "language_info": {
   "name": "kotlin",
   "version": "1.9.23",
   "mimetype": "text/x-kotlin",
   "file_extension": ".kt",
   "pygments_lexer": "kotlin",
   "codemirror_mode": "text/x-kotlin",
   "nbconvert_exporter": ""
  }
 },
 "nbformat": 4,
 "nbformat_minor": 0
}
