{
 "cells": [
  {
   "metadata": {
    "collapsed": true
   },
   "cell_type": "code",
   "source": [
    "@file:DependsOn(\"ro.jf.funds:funds-notebook-client:1.0.0\")\n",
    "%use dataframe\n",
    "%use kandy\n",
    "\n",
    "import ro.jf.funds.client.notebook.*\n",
    "import ro.jf.funds.reporting.api.model.*\n",
    "\n",
    "val username = \"Johann-30.5\"\n",
    "\n",
    "val monthlyReportFrom = YearMonthTO(2019, 1)\n",
    "val monthlyReportTo = YearMonthTO(2021, 6)\n",
    "val monthlyReportForecastUntil = YearMonthTO(2021, 12)\n",
    "\n",
    "val yearlyReportFrom = 2019\n",
    "val yearlyReportTo = 2020\n",
    "val yearlyReportForecastUntil = 2022\n",
    "\n",
    "val fundName = \"Expenses\"\n",
    "val reportViewName = \"Expenses report\"\n",
    "\n",
    "val REPORT_DATA_CONFIGURATION_YAML_FILE = \"../../data/provision/expenses-report-data-configuration.yaml\"\n",
    "\n",
    "val client = FundsClient()"
   ],
   "outputs": [],
   "execution_count": null
  },
  {
   "metadata": {},
   "cell_type": "code",
   "source": [
    "val user = client.ensureUserExists(username)\n",
    "user"
   ],
   "outputs": [],
   "execution_count": null
  },
  {
   "metadata": {},
   "cell_type": "code",
   "source": [
    "val reportView = client.createReportView(user, reportViewName, fundName, client.fromYaml(File(REPORT_DATA_CONFIGURATION_YAML_FILE)))\n",
    "reportView"
   ],
   "outputs": [],
   "execution_count": null
  },
  {
   "metadata": {},
   "cell_type": "code",
   "source": "val monthlyReportData = client.getMonthlyReportViewData(user, reportViewName, monthlyReportFrom, monthlyReportTo, monthlyReportForecastUntil)\n",
   "outputs": [],
   "execution_count": null
  },
  {
   "metadata": {},
   "cell_type": "code",
   "source": "val yearlyData = client.getYearlyReportViewData(user, reportViewName, yearlyReportFrom, yearlyReportTo, yearlyReportForecastUntil)\n",
   "outputs": [],
   "execution_count": null
  },
  {
   "metadata": {},
   "cell_type": "code",
   "source": [
    "import kotlinx.datetime.DateTimeUnit\n",
    "import kotlinx.datetime.TimeZone\n",
    "import kotlinx.datetime.atStartOfDayIn\n",
    "import kotlinx.datetime.minus\n",
    "import org.jetbrains.kotlinx.kandy.ir.Plot\n",
    "import java.math.BigDecimal\n",
    "\n",
    "fun plotGroupData(\n",
    "    reportData: ReportDataTO,\n",
    "    plotTitle: String,\n",
    "    groupItemFilter: (ReportDataGroupedBudgetItemTO) -> Boolean,\n",
    "): Plot {\n",
    "    val dataFrame = dataFrameOf(\n",
    "        \"bucket\" to reportData.data.map<ReportDataItemTO, LocalDate> { it.timeBucket.from },\n",
    "        \"spent\" to reportData.data.map { bucket ->\n",
    "            bucket.groupedBudget!!.filter(groupItemFilter).map { it.spent!! }.reduce { acc, value -> acc + value }\n",
    "        },\n",
    "        \"allocated\" to reportData.data.map { bucket ->\n",
    "            bucket.groupedBudget!!.filter(groupItemFilter).map { it.allocated!! }.reduce { acc, value -> acc + value }\n",
    "        },\n",
    "        \"left\" to reportData.data.map { bucket ->\n",
    "            bucket.groupedBudget!!.filter(groupItemFilter).map { it.left!! }.reduce { acc, value -> acc + value }\n",
    "        },\n",
    "        \"net\" to reportData.data.map { bucket ->\n",
    "            bucket.groupedBudget!!.filter(groupItemFilter).map { it.allocated!! + it.spent!! }\n",
    "                .reduce { acc, value -> acc + value }\n",
    "        },\n",
    "    )\n",
    "    return dataFrame\n",
    "        .plot {\n",
    "            line {\n",
    "                val values =\n",
    "                    listOf(\"spent\", \"allocated\", \"left\").flatMap { dataFrame.get(it).values }.map { it as BigDecimal }\n",
    "                val forecastBorderMin = minOf(BigDecimal.ZERO, values.minOrNull() ?: BigDecimal.ZERO)\n",
    "                val forecastBorderMax = values.maxOrNull() ?: BigDecimal.ZERO\n",
    "                val forecastBorderX = when (reportData.interval.granularity) {\n",
    "                    TimeGranularityTO.YEARLY -> reportData.interval.toDate.minus(183, DateTimeUnit.DAY)\n",
    "                    TimeGranularityTO.MONTHLY -> reportData.interval.toDate.minus(15, DateTimeUnit.DAY)\n",
    "                    TimeGranularityTO.DAILY -> reportData.interval.toDate.minus(1, DateTimeUnit.DAY)\n",
    "                }\n",
    "\n",
    "                y(listOf(forecastBorderMin, forecastBorderMax))\n",
    "                x.constant(forecastBorderX.atStartOfDayIn(TimeZone.UTC).toEpochMilliseconds())\n",
    "            }\n",
    "            x(\"bucket\") {\n",
    "                val format = when (reportData.interval.granularity) {\n",
    "                    TimeGranularityTO.YEARLY -> \"%Y\"\n",
    "                    TimeGranularityTO.MONTHLY -> \"%b %Y\"\n",
    "                    TimeGranularityTO.DAILY -> \"%d %b %Y\"\n",
    "                }\n",
    "                axis.breaks(reportData.data.map {\n",
    "                    it.timeBucket.from.atStartOfDayIn(TimeZone.UTC).toEpochMilliseconds()\n",
    "                }, format)\n",
    "            }\n",
    "            line {\n",
    "                y.constant(0)\n",
    "            }\n",
    "            line {\n",
    "                y(\"spent\")\n",
    "                color = Color.RED\n",
    "            }\n",
    "            line {\n",
    "                y(\"allocated\")\n",
    "                color = Color.GREEN\n",
    "            }\n",
    "            line {\n",
    "                y(\"net\")\n",
    "                color = Color.YELLOW\n",
    "            }\n",
    "            area {\n",
    "                y(\"left\")\n",
    "                borderLine {\n",
    "                    color = Color.ORANGE\n",
    "                }\n",
    "            }\n",
    "            layout {\n",
    "                title = plotTitle\n",
    "                size = 2400 to 1200\n",
    "            }\n",
    "        }\n",
    "}\n",
    "\n",
    "fun plotGroup(reportData: ReportDataTO, title: String, group: String): Plot =\n",
    "    plotGroupData(reportData, title) { it.group == group }\n",
    "\n",
    "fun plotGroupsTotal(reportData: ReportDataTO, title: String): Plot =\n",
    "    plotGroupData(reportData, title) { true }\n",
    "\n"
   ],
   "outputs": [],
   "execution_count": null
  },
  {
   "metadata": {},
   "cell_type": "code",
   "source": "plotGroupsTotal(yearlyData, \"Yearly total expenses\")",
   "outputs": [],
   "execution_count": null
  },
  {
   "metadata": {},
   "cell_type": "code",
   "source": "plotGroupsTotal(monthlyReportData, \"Monthly total expenses\")",
   "outputs": [],
   "execution_count": null
  },
  {
   "metadata": {},
   "cell_type": "code",
   "source": "plotGroup(monthlyReportData, \"Basic Expenses\", \"basic\")",
   "outputs": [],
   "execution_count": null
  },
  {
   "metadata": {},
   "cell_type": "code",
   "source": "plotGroup(monthlyReportData, \"Home Expenses\", \"home\")",
   "outputs": [],
   "execution_count": null
  },
  {
   "metadata": {},
   "cell_type": "code",
   "source": "plotGroup(monthlyReportData, \"Transport Expenses\", \"transport\")",
   "outputs": [],
   "execution_count": null
  },
  {
   "metadata": {},
   "cell_type": "code",
   "source": "plotGroup(monthlyReportData, \"Shopping & Services Expenses\", \"shopping_services\")",
   "outputs": [],
   "execution_count": null
  },
  {
   "metadata": {},
   "cell_type": "code",
   "source": "plotGroup(monthlyReportData, \"Fun Expenses\", \"fun\")",
   "outputs": [],
   "execution_count": null
  },
  {
   "metadata": {},
   "cell_type": "code",
   "source": "plotGroup(monthlyReportData, \"Gifts Expenses\", \"gifts\")",
   "outputs": [],
   "execution_count": null
  },
  {
   "metadata": {},
   "cell_type": "code",
   "source": "plotGroup(monthlyReportData, \"Development Expenses\", \"development\")",
   "outputs": [],
   "execution_count": null
  },
  {
   "metadata": {},
   "cell_type": "code",
   "source": "plotGroup(monthlyReportData, \"Investment Expenses\", \"investment\")",
   "outputs": [],
   "execution_count": null
  }
 ],
 "metadata": {
  "kernelspec": {
   "display_name": "Kotlin",
   "language": "kotlin",
   "name": "kotlin"
  },
  "language_info": {
   "name": "kotlin",
   "version": "1.9.23",
   "mimetype": "text/x-kotlin",
   "file_extension": ".kt",
   "pygments_lexer": "kotlin",
   "codemirror_mode": "text/x-kotlin",
   "nbconvert_exporter": ""
  }
 },
 "nbformat": 4,
 "nbformat_minor": 0
}
